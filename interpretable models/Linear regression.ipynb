{
 "cells": [
  {
   "cell_type": "markdown",
   "metadata": {},
   "source": [
    "# Load data"
   ]
  },
  {
   "cell_type": "code",
   "execution_count": 14,
   "metadata": {},
   "outputs": [
    {
     "data": {
      "text/html": [
       "<div>\n",
       "<style scoped>\n",
       "    .dataframe tbody tr th:only-of-type {\n",
       "        vertical-align: middle;\n",
       "    }\n",
       "\n",
       "    .dataframe tbody tr th {\n",
       "        vertical-align: top;\n",
       "    }\n",
       "\n",
       "    .dataframe thead th {\n",
       "        text-align: right;\n",
       "    }\n",
       "</style>\n",
       "<table border=\"1\" class=\"dataframe\">\n",
       "  <thead>\n",
       "    <tr style=\"text-align: right;\">\n",
       "      <th></th>\n",
       "      <th>left_cardinality</th>\n",
       "      <th>left_cardinality_ratio</th>\n",
       "      <th>base_cardinality</th>\n",
       "      <th>selectivity_on_indexed_attr</th>\n",
       "      <th>left_ordered</th>\n",
       "      <th>base_ordered</th>\n",
       "      <th>hj_idx_cost</th>\n",
       "      <th>hj_seq_cost</th>\n",
       "      <th>nl_idx_cost</th>\n",
       "      <th>nl_seq_cost</th>\n",
       "      <th>mj_idx_cost</th>\n",
       "      <th>mj_seq_cost</th>\n",
       "      <th>optimal_decision</th>\n",
       "    </tr>\n",
       "  </thead>\n",
       "  <tbody>\n",
       "    <tr>\n",
       "      <th>0</th>\n",
       "      <td>10800</td>\n",
       "      <td>0.360000</td>\n",
       "      <td>30000</td>\n",
       "      <td>0.908900</td>\n",
       "      <td>0</td>\n",
       "      <td>1</td>\n",
       "      <td>5141556.72</td>\n",
       "      <td>5141299.57</td>\n",
       "      <td>5144179.07</td>\n",
       "      <td>9556686.24</td>\n",
       "      <td>5140675.39</td>\n",
       "      <td>5142384.98</td>\n",
       "      <td>4</td>\n",
       "    </tr>\n",
       "    <tr>\n",
       "      <th>1</th>\n",
       "      <td>3265</td>\n",
       "      <td>0.108833</td>\n",
       "      <td>30000</td>\n",
       "      <td>0.671800</td>\n",
       "      <td>0</td>\n",
       "      <td>1</td>\n",
       "      <td>4880570.55</td>\n",
       "      <td>4880554.17</td>\n",
       "      <td>4882766.06</td>\n",
       "      <td>5867360.61</td>\n",
       "      <td>4880589.25</td>\n",
       "      <td>4882038.54</td>\n",
       "      <td>3</td>\n",
       "    </tr>\n",
       "    <tr>\n",
       "      <th>2</th>\n",
       "      <td>4860</td>\n",
       "      <td>0.162000</td>\n",
       "      <td>30000</td>\n",
       "      <td>0.562533</td>\n",
       "      <td>0</td>\n",
       "      <td>1</td>\n",
       "      <td>4966516.25</td>\n",
       "      <td>4966656.44</td>\n",
       "      <td>4969388.37</td>\n",
       "      <td>6196702.51</td>\n",
       "      <td>4966683.97</td>\n",
       "      <td>4968018.46</td>\n",
       "      <td>2</td>\n",
       "    </tr>\n",
       "    <tr>\n",
       "      <th>3</th>\n",
       "      <td>7892</td>\n",
       "      <td>0.263067</td>\n",
       "      <td>30000</td>\n",
       "      <td>0.692467</td>\n",
       "      <td>0</td>\n",
       "      <td>1</td>\n",
       "      <td>5071752.80</td>\n",
       "      <td>5071745.50</td>\n",
       "      <td>5075322.37</td>\n",
       "      <td>7530679.63</td>\n",
       "      <td>5072129.31</td>\n",
       "      <td>5073600.17</td>\n",
       "      <td>3</td>\n",
       "    </tr>\n",
       "    <tr>\n",
       "      <th>4</th>\n",
       "      <td>5875</td>\n",
       "      <td>0.195833</td>\n",
       "      <td>30000</td>\n",
       "      <td>0.308067</td>\n",
       "      <td>0</td>\n",
       "      <td>1</td>\n",
       "      <td>5007146.74</td>\n",
       "      <td>5007630.43</td>\n",
       "      <td>5010775.34</td>\n",
       "      <td>5821949.13</td>\n",
       "      <td>5007454.16</td>\n",
       "      <td>5008545.02</td>\n",
       "      <td>2</td>\n",
       "    </tr>\n",
       "    <tr>\n",
       "      <th>...</th>\n",
       "      <td>...</td>\n",
       "      <td>...</td>\n",
       "      <td>...</td>\n",
       "      <td>...</td>\n",
       "      <td>...</td>\n",
       "      <td>...</td>\n",
       "      <td>...</td>\n",
       "      <td>...</td>\n",
       "      <td>...</td>\n",
       "      <td>...</td>\n",
       "      <td>...</td>\n",
       "      <td>...</td>\n",
       "      <td>...</td>\n",
       "    </tr>\n",
       "    <tr>\n",
       "      <th>1995</th>\n",
       "      <td>1493</td>\n",
       "      <td>0.049767</td>\n",
       "      <td>30000</td>\n",
       "      <td>0.017200</td>\n",
       "      <td>1</td>\n",
       "      <td>1</td>\n",
       "      <td>4635009.09</td>\n",
       "      <td>4635867.71</td>\n",
       "      <td>4637808.51</td>\n",
       "      <td>4647412.51</td>\n",
       "      <td>4635086.45</td>\n",
       "      <td>4635967.67</td>\n",
       "      <td>2</td>\n",
       "    </tr>\n",
       "    <tr>\n",
       "      <th>1996</th>\n",
       "      <td>1155</td>\n",
       "      <td>0.038500</td>\n",
       "      <td>30000</td>\n",
       "      <td>0.874400</td>\n",
       "      <td>1</td>\n",
       "      <td>1</td>\n",
       "      <td>4580940.23</td>\n",
       "      <td>4580632.28</td>\n",
       "      <td>4582139.11</td>\n",
       "      <td>5034824.93</td>\n",
       "      <td>4580749.50</td>\n",
       "      <td>4582421.04</td>\n",
       "      <td>3</td>\n",
       "    </tr>\n",
       "    <tr>\n",
       "      <th>1997</th>\n",
       "      <td>9854</td>\n",
       "      <td>0.328467</td>\n",
       "      <td>30000</td>\n",
       "      <td>0.192733</td>\n",
       "      <td>1</td>\n",
       "      <td>1</td>\n",
       "      <td>5043972.43</td>\n",
       "      <td>5044617.03</td>\n",
       "      <td>5049012.92</td>\n",
       "      <td>5899140.69</td>\n",
       "      <td>5044610.64</td>\n",
       "      <td>5045600.92</td>\n",
       "      <td>2</td>\n",
       "    </tr>\n",
       "    <tr>\n",
       "      <th>1998</th>\n",
       "      <td>3424</td>\n",
       "      <td>0.114133</td>\n",
       "      <td>30000</td>\n",
       "      <td>0.398367</td>\n",
       "      <td>1</td>\n",
       "      <td>1</td>\n",
       "      <td>4815375.16</td>\n",
       "      <td>4815726.22</td>\n",
       "      <td>4818097.24</td>\n",
       "      <td>5429383.59</td>\n",
       "      <td>4815478.44</td>\n",
       "      <td>4816651.26</td>\n",
       "      <td>2</td>\n",
       "    </tr>\n",
       "    <tr>\n",
       "      <th>1999</th>\n",
       "      <td>7279</td>\n",
       "      <td>0.242633</td>\n",
       "      <td>30000</td>\n",
       "      <td>0.993833</td>\n",
       "      <td>1</td>\n",
       "      <td>1</td>\n",
       "      <td>4981108.95</td>\n",
       "      <td>4980706.42</td>\n",
       "      <td>4982606.39</td>\n",
       "      <td>8234299.41</td>\n",
       "      <td>4980007.35</td>\n",
       "      <td>4981814.65</td>\n",
       "      <td>4</td>\n",
       "    </tr>\n",
       "  </tbody>\n",
       "</table>\n",
       "<p>2000 rows × 13 columns</p>\n",
       "</div>"
      ],
      "text/plain": [
       "      left_cardinality  left_cardinality_ratio  base_cardinality  \\\n",
       "0                10800                0.360000             30000   \n",
       "1                 3265                0.108833             30000   \n",
       "2                 4860                0.162000             30000   \n",
       "3                 7892                0.263067             30000   \n",
       "4                 5875                0.195833             30000   \n",
       "...                ...                     ...               ...   \n",
       "1995              1493                0.049767             30000   \n",
       "1996              1155                0.038500             30000   \n",
       "1997              9854                0.328467             30000   \n",
       "1998              3424                0.114133             30000   \n",
       "1999              7279                0.242633             30000   \n",
       "\n",
       "      selectivity_on_indexed_attr  left_ordered  base_ordered  hj_idx_cost  \\\n",
       "0                        0.908900             0             1   5141556.72   \n",
       "1                        0.671800             0             1   4880570.55   \n",
       "2                        0.562533             0             1   4966516.25   \n",
       "3                        0.692467             0             1   5071752.80   \n",
       "4                        0.308067             0             1   5007146.74   \n",
       "...                           ...           ...           ...          ...   \n",
       "1995                     0.017200             1             1   4635009.09   \n",
       "1996                     0.874400             1             1   4580940.23   \n",
       "1997                     0.192733             1             1   5043972.43   \n",
       "1998                     0.398367             1             1   4815375.16   \n",
       "1999                     0.993833             1             1   4981108.95   \n",
       "\n",
       "      hj_seq_cost  nl_idx_cost  nl_seq_cost  mj_idx_cost  mj_seq_cost  \\\n",
       "0      5141299.57   5144179.07   9556686.24   5140675.39   5142384.98   \n",
       "1      4880554.17   4882766.06   5867360.61   4880589.25   4882038.54   \n",
       "2      4966656.44   4969388.37   6196702.51   4966683.97   4968018.46   \n",
       "3      5071745.50   5075322.37   7530679.63   5072129.31   5073600.17   \n",
       "4      5007630.43   5010775.34   5821949.13   5007454.16   5008545.02   \n",
       "...           ...          ...          ...          ...          ...   \n",
       "1995   4635867.71   4637808.51   4647412.51   4635086.45   4635967.67   \n",
       "1996   4580632.28   4582139.11   5034824.93   4580749.50   4582421.04   \n",
       "1997   5044617.03   5049012.92   5899140.69   5044610.64   5045600.92   \n",
       "1998   4815726.22   4818097.24   5429383.59   4815478.44   4816651.26   \n",
       "1999   4980706.42   4982606.39   8234299.41   4980007.35   4981814.65   \n",
       "\n",
       "      optimal_decision  \n",
       "0                    4  \n",
       "1                    3  \n",
       "2                    2  \n",
       "3                    3  \n",
       "4                    2  \n",
       "...                ...  \n",
       "1995                 2  \n",
       "1996                 3  \n",
       "1997                 2  \n",
       "1998                 2  \n",
       "1999                 4  \n",
       "\n",
       "[2000 rows x 13 columns]"
      ]
     },
     "execution_count": 14,
     "metadata": {},
     "output_type": "execute_result"
    }
   ],
   "source": [
    "import pandas as pd\n",
    "import numpy as np\n",
    "\n",
    "datasets = ['ssb']\n",
    "\n",
    "for d in datasets:\n",
    "    df = data = pd.read_csv(f\"../data/{d}/{d}_all.csv\")\n",
    "ds = df\n",
    "ds"
   ]
  },
  {
   "cell_type": "markdown",
   "metadata": {},
   "source": [
    "# Prepare features"
   ]
  },
  {
   "cell_type": "code",
   "execution_count": 15,
   "metadata": {},
   "outputs": [],
   "source": [
    "features = ['left_cardinality', 'left_cardinality_ratio', 'base_cardinality', 'selectivity_on_indexed_attr', 'left_ordered','base_ordered']\n",
    "regression_targets = ['hj_idx_cost', 'hj_seq_cost', 'nl_idx_cost', 'nl_seq_cost','mj_idx_cost', 'mj_seq_cost']\n",
    "classification_target = ['optimal_decision']"
   ]
  },
  {
   "cell_type": "markdown",
   "metadata": {},
   "source": [
    "# Learn linear regression models"
   ]
  },
  {
   "cell_type": "markdown",
   "metadata": {},
   "source": [
    "## Learn linear regression for hj_idx_cost"
   ]
  },
  {
   "cell_type": "code",
   "execution_count": 16,
   "metadata": {},
   "outputs": [
    {
     "data": {
      "text/plain": [
       "73597.85355823558"
      ]
     },
     "execution_count": 16,
     "metadata": {},
     "output_type": "execute_result"
    }
   ],
   "source": [
    "X = ds[features]\n",
    "y = ds['hj_idx_cost']\n",
    "\n",
    "from sklearn.linear_model import LinearRegression\n",
    "reg = LinearRegression(normalize=True).fit(X, y)\n",
    "\n",
    "train_loss = np.sum(np.abs(reg.predict(X) - y)) / ds.shape[0]\n",
    "train_loss"
   ]
  },
  {
   "cell_type": "markdown",
   "metadata": {},
   "source": [
    "## Learn linear regression for hj_seq_cost"
   ]
  },
  {
   "cell_type": "code",
   "execution_count": 17,
   "metadata": {},
   "outputs": [
    {
     "data": {
      "text/plain": [
       "73599.26388658478"
      ]
     },
     "execution_count": 17,
     "metadata": {},
     "output_type": "execute_result"
    }
   ],
   "source": [
    "X = ds[features]\n",
    "y = ds['hj_seq_cost']\n",
    "\n",
    "from sklearn.linear_model import LinearRegression\n",
    "reg = LinearRegression(normalize=True).fit(X, y)\n",
    "\n",
    "train_loss = np.sum(np.abs(reg.predict(X) - y)) / ds.shape[0]\n",
    "train_loss"
   ]
  },
  {
   "cell_type": "markdown",
   "metadata": {},
   "source": [
    "## Learn linear regression for nl_idx_cost"
   ]
  },
  {
   "cell_type": "code",
   "execution_count": 18,
   "metadata": {},
   "outputs": [
    {
     "data": {
      "text/plain": [
       "73701.45574100933"
      ]
     },
     "execution_count": 18,
     "metadata": {},
     "output_type": "execute_result"
    }
   ],
   "source": [
    "X = ds[features]\n",
    "y = ds['nl_idx_cost']\n",
    "\n",
    "from sklearn.linear_model import LinearRegression\n",
    "reg = LinearRegression(normalize=True).fit(X, y)\n",
    "\n",
    "train_loss = np.sum(np.abs(reg.predict(X) - y)) / ds.shape[0]\n",
    "train_loss"
   ]
  },
  {
   "cell_type": "markdown",
   "metadata": {},
   "source": [
    "## Learn linear regression for nl_seq_cost"
   ]
  },
  {
   "cell_type": "code",
   "execution_count": 19,
   "metadata": {},
   "outputs": [
    {
     "data": {
      "text/plain": [
       "450990.0884966892"
      ]
     },
     "execution_count": 19,
     "metadata": {},
     "output_type": "execute_result"
    }
   ],
   "source": [
    "X = ds[features]\n",
    "y = ds['nl_seq_cost']\n",
    "\n",
    "from sklearn.linear_model import LinearRegression\n",
    "reg = LinearRegression(normalize=True).fit(X, y)\n",
    "\n",
    "train_loss = np.sum(np.abs(reg.predict(X) - y)) / ds.shape[0]\n",
    "train_loss"
   ]
  },
  {
   "cell_type": "markdown",
   "metadata": {},
   "source": [
    "## Learn linear regression for mj_idx_cost"
   ]
  },
  {
   "cell_type": "code",
   "execution_count": 20,
   "metadata": {},
   "outputs": [
    {
     "data": {
      "text/plain": [
       "73585.3063011722"
      ]
     },
     "execution_count": 20,
     "metadata": {},
     "output_type": "execute_result"
    }
   ],
   "source": [
    "X = ds[features]\n",
    "y = ds['mj_idx_cost']\n",
    "\n",
    "from sklearn.linear_model import LinearRegression\n",
    "reg = LinearRegression(normalize=True).fit(X, y)\n",
    "\n",
    "train_loss = np.sum(np.abs(reg.predict(X) - y)) / ds.shape[0]\n",
    "train_loss"
   ]
  },
  {
   "cell_type": "markdown",
   "metadata": {},
   "source": [
    "## Learn linear regression for mj_seq_cost"
   ]
  },
  {
   "cell_type": "code",
   "execution_count": 21,
   "metadata": {},
   "outputs": [
    {
     "data": {
      "text/plain": [
       "73584.91236267936"
      ]
     },
     "execution_count": 21,
     "metadata": {},
     "output_type": "execute_result"
    }
   ],
   "source": [
    "X = ds[features]\n",
    "y = ds['mj_seq_cost']\n",
    "\n",
    "from sklearn.linear_model import LinearRegression\n",
    "reg = LinearRegression(normalize=True).fit(X, y)\n",
    "\n",
    "train_loss = np.sum(np.abs(reg.predict(X) - y)) / ds.shape[0]\n",
    "train_loss"
   ]
  },
  {
   "cell_type": "code",
   "execution_count": null,
   "metadata": {},
   "outputs": [],
   "source": []
  }
 ],
 "metadata": {
  "kernelspec": {
   "display_name": "Python 3",
   "language": "python",
   "name": "python3"
  },
  "language_info": {
   "codemirror_mode": {
    "name": "ipython",
    "version": 3
   },
   "file_extension": ".py",
   "mimetype": "text/x-python",
   "name": "python",
   "nbconvert_exporter": "python",
   "pygments_lexer": "ipython3",
   "version": "3.6.8"
  }
 },
 "nbformat": 4,
 "nbformat_minor": 4
}
