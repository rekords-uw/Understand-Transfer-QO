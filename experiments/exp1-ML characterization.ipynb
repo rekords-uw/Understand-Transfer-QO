{
 "cells": [
  {
   "cell_type": "code",
   "execution_count": 1,
   "id": "adverse-relaxation",
   "metadata": {},
   "outputs": [],
   "source": [
    "from core.DataLoader import *\n",
    "from core.models.MLP import * \n",
    "from core.models.GAM import *\n",
    "from core.models.SVM import *\n",
    "# from core.models.EBM import *\n",
    "\n",
    "from core.models.RandomForest import *\n",
    "from core.Visualizer import *\n",
    "from core.models.Classifier import *\n",
    "from core.models.XGB import *"
   ]
  },
  {
   "cell_type": "code",
   "execution_count": 2,
   "id": "virgin-celtic",
   "metadata": {},
   "outputs": [],
   "source": [
    "model_accs = {\n",
    "    'MLP': [],\n",
    "    'RF(5)': [],\n",
    "    'RF(10)': [],\n",
    "    'RF(U)': [],\n",
    "    'DT(5)': [],\n",
    "    'DT(10)': [],\n",
    "    'DT(U)': [],\n",
    "    'LR': [],\n",
    "    'SVM': [],\n",
    "    'XGB': []\n",
    "}\n",
    "# present_idxs = [0, 1, 2, 3, 4, 5, 8 ,12, 21, 22, 23, 24]"
   ]
  },
  {
   "cell_type": "code",
   "execution_count": 3,
   "id": "mobile-supplier",
   "metadata": {},
   "outputs": [],
   "source": [
    "weighted_clf_model_list ={\n",
    "    \"MLP\": MLPClassifier,\n",
    "    \"DT\": m_DecisionTreeClassifier,\n",
    "    \"RF\": m_RandomForestClassifier,\n",
    "    \"LR\": m_LogisticRegression,\n",
    "    \"SVM\": SVMClassifier,\n",
    "    \"XGB\": XGBOOSTClassifier\n",
    "}\n",
    "weighted_clf_model_name_list = ['MLP', 'RF(5)', 'RF(U)', 'DT(5)', 'DT(U)', 'LR', 'SVM', 'XGB']\n",
    "# weighted_clf_model_name_list = ['DT(5)', 'RF(5)', 'MLP']"
   ]
  },
  {
   "cell_type": "code",
   "execution_count": 4,
   "id": "velvet-array",
   "metadata": {},
   "outputs": [],
   "source": [
    "engine = 'mssql'\n",
    "dl = DataLoader(engine)\n",
    "one_file_dss, one_file_names = dl.get_one_file_ds(return_type='ds and names', datasets=['ssb', 'tpch', 'tpch_10', 'tpch_100', 'imdb'], suffix='(random_left)')"
   ]
  },
  {
   "cell_type": "code",
   "execution_count": 5,
   "id": "hairy-puzzle",
   "metadata": {},
   "outputs": [
    {
     "name": "stdout",
     "output_type": "stream",
     "text": [
      "Using features:  ['left_cardinality', 'base_cardinality', 'sel_of_pred_on_indexed_attr', 'sel_of_pred_on_non_indexed_attr', 'sel_of_join_pred', 'left_ordered', 'base_ordered', 'left_indexed', 'base_indexed', 'result_size', 'predicate_op_num_on_indexed_attr', 'predicate_op_num_on_non_indexed_attr']\n"
     ]
    }
   ],
   "source": [
    "# all_features = dl.all_features\n",
    "all_features = dl.all_features\n",
    "classification_target = dl.classification_target\n",
    "\n",
    "features = dl.base_features\n",
    "print(\"Using features: \", features)"
   ]
  },
  {
   "cell_type": "code",
   "execution_count": 12,
   "id": "personal-liechtenstein",
   "metadata": {
    "scrolled": true
   },
   "outputs": [
    {
     "name": "stderr",
     "output_type": "stream",
     "text": [
      "  0%|          | 2/500 [00:00<00:26, 18.89it/s]"
     ]
    },
    {
     "name": "stdout",
     "output_type": "stream",
     "text": [
      "Processing index 0\n",
      "set features: 12\n"
     ]
    },
    {
     "name": "stderr",
     "output_type": "stream",
     "text": [
      "100%|██████████| 500/500 [00:29<00:00, 17.22it/s]\n"
     ]
    },
    {
     "name": "stdout",
     "output_type": "stream",
     "text": [
      "Accuray of <class 'core.models.MLP.MLPClassifier'>: 0.95\n",
      "Accuray of <class 'core.models.RandomForest.m_RandomForestClassifier'>: 0.91\n",
      "Accuray of <class 'core.models.RandomForest.m_RandomForestClassifier'>: 0.9825\n",
      "Accuray of <class 'core.models.RandomForest.m_DecisionTreeClassifier'>: 0.965\n",
      "Accuray of <class 'core.models.RandomForest.m_DecisionTreeClassifier'>: 0.99\n",
      "Accuray of <class 'core.models.GAM.m_LogisticRegression'>: 0.8525\n",
      "Accuray of <class 'core.models.SVM.SVMClassifier'>: 0.8525\n"
     ]
    },
    {
     "name": "stderr",
     "output_type": "stream",
     "text": [
      "  0%|          | 1/500 [00:00<01:14,  6.72it/s]"
     ]
    },
    {
     "name": "stdout",
     "output_type": "stream",
     "text": [
      "Accuray of <class 'core.models.XGB.XGBOOSTClassifier'>: 0.925\n",
      "Processing index 1\n",
      "set features: 12\n"
     ]
    },
    {
     "name": "stderr",
     "output_type": "stream",
     "text": [
      "100%|██████████| 500/500 [00:50<00:00,  9.93it/s]\n"
     ]
    },
    {
     "name": "stdout",
     "output_type": "stream",
     "text": [
      "Accuray of <class 'core.models.MLP.MLPClassifier'>: 0.9425\n",
      "Accuray of <class 'core.models.RandomForest.m_RandomForestClassifier'>: 0.9475\n",
      "Accuray of <class 'core.models.RandomForest.m_RandomForestClassifier'>: 0.9775\n",
      "Accuray of <class 'core.models.RandomForest.m_DecisionTreeClassifier'>: 0.9825\n",
      "Accuray of <class 'core.models.RandomForest.m_DecisionTreeClassifier'>: 0.9825\n",
      "Accuray of <class 'core.models.GAM.m_LogisticRegression'>: 0.685\n",
      "Accuray of <class 'core.models.SVM.SVMClassifier'>: 0.685\n"
     ]
    },
    {
     "name": "stderr",
     "output_type": "stream",
     "text": [
      "  0%|          | 1/500 [00:00<00:59,  8.36it/s]"
     ]
    },
    {
     "name": "stdout",
     "output_type": "stream",
     "text": [
      "Accuray of <class 'core.models.XGB.XGBOOSTClassifier'>: 0.97\n",
      "Processing index 2\n",
      "set features: 12\n"
     ]
    },
    {
     "name": "stderr",
     "output_type": "stream",
     "text": [
      "100%|██████████| 500/500 [00:30<00:00, 16.28it/s]\n"
     ]
    },
    {
     "name": "stdout",
     "output_type": "stream",
     "text": [
      "Accuray of <class 'core.models.MLP.MLPClassifier'>: 0.93\n",
      "Accuray of <class 'core.models.RandomForest.m_RandomForestClassifier'>: 0.7625\n",
      "Accuray of <class 'core.models.RandomForest.m_RandomForestClassifier'>: 0.97\n",
      "Accuray of <class 'core.models.RandomForest.m_DecisionTreeClassifier'>: 0.8825\n",
      "Accuray of <class 'core.models.RandomForest.m_DecisionTreeClassifier'>: 0.9675\n",
      "Accuray of <class 'core.models.GAM.m_LogisticRegression'>: 0.725\n",
      "Accuray of <class 'core.models.SVM.SVMClassifier'>: 0.69\n"
     ]
    },
    {
     "name": "stderr",
     "output_type": "stream",
     "text": [
      "  0%|          | 2/500 [00:00<00:31, 15.95it/s]"
     ]
    },
    {
     "name": "stdout",
     "output_type": "stream",
     "text": [
      "Accuray of <class 'core.models.XGB.XGBOOSTClassifier'>: 0.9375\n",
      "Processing index 3\n",
      "set features: 12\n"
     ]
    },
    {
     "name": "stderr",
     "output_type": "stream",
     "text": [
      "100%|██████████| 500/500 [00:29<00:00, 16.89it/s]\n"
     ]
    },
    {
     "name": "stdout",
     "output_type": "stream",
     "text": [
      "Accuray of <class 'core.models.MLP.MLPClassifier'>: 0.955\n",
      "Accuray of <class 'core.models.RandomForest.m_RandomForestClassifier'>: 0.865\n",
      "Accuray of <class 'core.models.RandomForest.m_RandomForestClassifier'>: 0.9675\n",
      "Accuray of <class 'core.models.RandomForest.m_DecisionTreeClassifier'>: 0.8875\n",
      "Accuray of <class 'core.models.RandomForest.m_DecisionTreeClassifier'>: 0.98\n",
      "Accuray of <class 'core.models.GAM.m_LogisticRegression'>: 0.7925\n",
      "Accuray of <class 'core.models.SVM.SVMClassifier'>: 0.755\n"
     ]
    },
    {
     "name": "stderr",
     "output_type": "stream",
     "text": [
      "  0%|          | 2/500 [00:00<00:28, 17.28it/s]"
     ]
    },
    {
     "name": "stdout",
     "output_type": "stream",
     "text": [
      "Accuray of <class 'core.models.XGB.XGBOOSTClassifier'>: 0.9225\n",
      "Processing index 4\n",
      "set features: 12\n"
     ]
    },
    {
     "name": "stderr",
     "output_type": "stream",
     "text": [
      "100%|██████████| 500/500 [00:33<00:00, 14.71it/s]\n"
     ]
    },
    {
     "name": "stdout",
     "output_type": "stream",
     "text": [
      "Accuray of <class 'core.models.MLP.MLPClassifier'>: 0.9975\n",
      "Accuray of <class 'core.models.RandomForest.m_RandomForestClassifier'>: 0.9925\n",
      "Accuray of <class 'core.models.RandomForest.m_RandomForestClassifier'>: 0.995\n",
      "Accuray of <class 'core.models.RandomForest.m_DecisionTreeClassifier'>: 1.0\n",
      "Accuray of <class 'core.models.RandomForest.m_DecisionTreeClassifier'>: 1.0\n",
      "Accuray of <class 'core.models.GAM.m_LogisticRegression'>: 0.9975\n",
      "Accuray of <class 'core.models.SVM.SVMClassifier'>: 0.9975\n"
     ]
    },
    {
     "name": "stderr",
     "output_type": "stream",
     "text": [
      "  0%|          | 2/500 [00:00<00:25, 19.21it/s]"
     ]
    },
    {
     "name": "stdout",
     "output_type": "stream",
     "text": [
      "Accuray of <class 'core.models.XGB.XGBOOSTClassifier'>: 0.9975\n",
      "Processing index 5\n",
      "set features: 12\n"
     ]
    },
    {
     "name": "stderr",
     "output_type": "stream",
     "text": [
      "100%|██████████| 500/500 [00:34<00:00, 14.33it/s]\n",
      "  0%|          | 0/500 [00:00<?, ?it/s]"
     ]
    },
    {
     "name": "stdout",
     "output_type": "stream",
     "text": [
      "Accuray of <class 'core.models.MLP.MLPClassifier'>: 1.0\n",
      "Accuray of <class 'core.models.RandomForest.m_RandomForestClassifier'>: 1.0\n",
      "Accuray of <class 'core.models.RandomForest.m_RandomForestClassifier'>: 1.0\n",
      "Accuray of <class 'core.models.RandomForest.m_DecisionTreeClassifier'>: 1.0\n",
      "Accuray of <class 'core.models.RandomForest.m_DecisionTreeClassifier'>: 1.0\n",
      "Accuray of <class 'core.models.GAM.m_LogisticRegression'>: 1.0\n",
      "Accuray of <class 'core.models.SVM.SVMClassifier'>: 1.0\n",
      "Accuray of <class 'core.models.XGB.XGBOOSTClassifier'>: 1.0\n",
      "Processing index 6\n",
      "set features: 12\n"
     ]
    },
    {
     "name": "stderr",
     "output_type": "stream",
     "text": [
      "100%|██████████| 500/500 [00:29<00:00, 16.68it/s]\n"
     ]
    },
    {
     "name": "stdout",
     "output_type": "stream",
     "text": [
      "Accuray of <class 'core.models.MLP.MLPClassifier'>: 1.0\n",
      "Accuray of <class 'core.models.RandomForest.m_RandomForestClassifier'>: 0.9975\n",
      "Accuray of <class 'core.models.RandomForest.m_RandomForestClassifier'>: 0.9975\n",
      "Accuray of <class 'core.models.RandomForest.m_DecisionTreeClassifier'>: 0.9975\n",
      "Accuray of <class 'core.models.RandomForest.m_DecisionTreeClassifier'>: 0.9975\n",
      "Accuray of <class 'core.models.GAM.m_LogisticRegression'>: 1.0\n",
      "Accuray of <class 'core.models.SVM.SVMClassifier'>: 1.0\n",
      "Accuray of <class 'core.models.XGB.XGBOOSTClassifier'>: 1.0\n",
      "Processing index 7\n"
     ]
    },
    {
     "name": "stderr",
     "output_type": "stream",
     "text": [
      "  0%|          | 2/500 [00:00<00:32, 15.26it/s]"
     ]
    },
    {
     "name": "stdout",
     "output_type": "stream",
     "text": [
      "set features: 12\n"
     ]
    },
    {
     "name": "stderr",
     "output_type": "stream",
     "text": [
      "100%|██████████| 500/500 [00:30<00:00, 16.29it/s]\n"
     ]
    },
    {
     "name": "stdout",
     "output_type": "stream",
     "text": [
      "Accuray of <class 'core.models.MLP.MLPClassifier'>: 0.9975\n",
      "Accuray of <class 'core.models.RandomForest.m_RandomForestClassifier'>: 1.0\n",
      "Accuray of <class 'core.models.RandomForest.m_RandomForestClassifier'>: 1.0\n",
      "Accuray of <class 'core.models.RandomForest.m_DecisionTreeClassifier'>: 1.0\n",
      "Accuray of <class 'core.models.RandomForest.m_DecisionTreeClassifier'>: 1.0\n",
      "Accuray of <class 'core.models.GAM.m_LogisticRegression'>: 0.9975\n",
      "Accuray of <class 'core.models.SVM.SVMClassifier'>: 0.9975\n",
      "Accuray of <class 'core.models.XGB.XGBOOSTClassifier'>: 0.9975\n",
      "Processing index 8\n"
     ]
    },
    {
     "name": "stderr",
     "output_type": "stream",
     "text": [
      "  1%|          | 3/500 [00:00<00:22, 22.04it/s]"
     ]
    },
    {
     "name": "stdout",
     "output_type": "stream",
     "text": [
      "set features: 12\n"
     ]
    },
    {
     "name": "stderr",
     "output_type": "stream",
     "text": [
      "100%|██████████| 500/500 [00:29<00:00, 16.93it/s]\n"
     ]
    },
    {
     "name": "stdout",
     "output_type": "stream",
     "text": [
      "Accuray of <class 'core.models.MLP.MLPClassifier'>: 0.9725\n",
      "Accuray of <class 'core.models.RandomForest.m_RandomForestClassifier'>: 0.965\n",
      "Accuray of <class 'core.models.RandomForest.m_RandomForestClassifier'>: 0.98\n",
      "Accuray of <class 'core.models.RandomForest.m_DecisionTreeClassifier'>: 0.9425\n",
      "Accuray of <class 'core.models.RandomForest.m_DecisionTreeClassifier'>: 0.9625\n",
      "Accuray of <class 'core.models.GAM.m_LogisticRegression'>: 0.8875\n",
      "Accuray of <class 'core.models.SVM.SVMClassifier'>: 0.88\n"
     ]
    },
    {
     "name": "stderr",
     "output_type": "stream",
     "text": [
      "  0%|          | 2/500 [00:00<00:33, 14.89it/s]"
     ]
    },
    {
     "name": "stdout",
     "output_type": "stream",
     "text": [
      "Accuray of <class 'core.models.XGB.XGBOOSTClassifier'>: 0.9475\n",
      "Processing index 9\n",
      "set features: 12\n"
     ]
    },
    {
     "name": "stderr",
     "output_type": "stream",
     "text": [
      "100%|██████████| 500/500 [00:31<00:00, 15.96it/s]\n"
     ]
    },
    {
     "name": "stdout",
     "output_type": "stream",
     "text": [
      "Accuray of <class 'core.models.MLP.MLPClassifier'>: 0.99\n",
      "Accuray of <class 'core.models.RandomForest.m_RandomForestClassifier'>: 0.9725\n",
      "Accuray of <class 'core.models.RandomForest.m_RandomForestClassifier'>: 0.985\n",
      "Accuray of <class 'core.models.RandomForest.m_DecisionTreeClassifier'>: 0.975\n",
      "Accuray of <class 'core.models.RandomForest.m_DecisionTreeClassifier'>: 0.98\n",
      "Accuray of <class 'core.models.GAM.m_LogisticRegression'>: 0.975\n",
      "Accuray of <class 'core.models.SVM.SVMClassifier'>: 0.975\n"
     ]
    },
    {
     "name": "stderr",
     "output_type": "stream",
     "text": [
      "  0%|          | 2/500 [00:00<00:32, 15.22it/s]"
     ]
    },
    {
     "name": "stdout",
     "output_type": "stream",
     "text": [
      "Accuray of <class 'core.models.XGB.XGBOOSTClassifier'>: 0.975\n",
      "Processing index 10\n",
      "set features: 12\n"
     ]
    },
    {
     "name": "stderr",
     "output_type": "stream",
     "text": [
      "100%|██████████| 500/500 [00:31<00:00, 16.07it/s]\n"
     ]
    },
    {
     "name": "stdout",
     "output_type": "stream",
     "text": [
      "Accuray of <class 'core.models.MLP.MLPClassifier'>: 0.9675\n",
      "Accuray of <class 'core.models.RandomForest.m_RandomForestClassifier'>: 0.9125\n",
      "Accuray of <class 'core.models.RandomForest.m_RandomForestClassifier'>: 0.9575\n",
      "Accuray of <class 'core.models.RandomForest.m_DecisionTreeClassifier'>: 0.9175\n",
      "Accuray of <class 'core.models.RandomForest.m_DecisionTreeClassifier'>: 0.9475\n",
      "Accuray of <class 'core.models.GAM.m_LogisticRegression'>: 0.9075\n",
      "Accuray of <class 'core.models.SVM.SVMClassifier'>: 0.7225\n"
     ]
    },
    {
     "name": "stderr",
     "output_type": "stream",
     "text": [
      "  0%|          | 2/500 [00:00<00:33, 14.97it/s]"
     ]
    },
    {
     "name": "stdout",
     "output_type": "stream",
     "text": [
      "Accuray of <class 'core.models.XGB.XGBOOSTClassifier'>: 0.9425\n",
      "Processing index 11\n",
      "set features: 12\n"
     ]
    },
    {
     "name": "stderr",
     "output_type": "stream",
     "text": [
      "100%|██████████| 500/500 [00:31<00:00, 15.96it/s]\n"
     ]
    },
    {
     "name": "stdout",
     "output_type": "stream",
     "text": [
      "Accuray of <class 'core.models.MLP.MLPClassifier'>: 0.9575\n",
      "Accuray of <class 'core.models.RandomForest.m_RandomForestClassifier'>: 0.9325\n",
      "Accuray of <class 'core.models.RandomForest.m_RandomForestClassifier'>: 0.98\n",
      "Accuray of <class 'core.models.RandomForest.m_DecisionTreeClassifier'>: 0.9575\n",
      "Accuray of <class 'core.models.RandomForest.m_DecisionTreeClassifier'>: 0.97\n",
      "Accuray of <class 'core.models.GAM.m_LogisticRegression'>: 0.955\n",
      "Accuray of <class 'core.models.SVM.SVMClassifier'>: 0.94\n"
     ]
    },
    {
     "name": "stderr",
     "output_type": "stream",
     "text": [
      "  0%|          | 2/500 [00:00<00:35, 14.17it/s]"
     ]
    },
    {
     "name": "stdout",
     "output_type": "stream",
     "text": [
      "Accuray of <class 'core.models.XGB.XGBOOSTClassifier'>: 0.985\n",
      "Processing index 12\n",
      "set features: 12\n"
     ]
    },
    {
     "name": "stderr",
     "output_type": "stream",
     "text": [
      "100%|██████████| 500/500 [00:32<00:00, 15.24it/s]\n"
     ]
    },
    {
     "name": "stdout",
     "output_type": "stream",
     "text": [
      "Accuray of <class 'core.models.MLP.MLPClassifier'>: 0.9825\n",
      "Accuray of <class 'core.models.RandomForest.m_RandomForestClassifier'>: 0.94\n",
      "Accuray of <class 'core.models.RandomForest.m_RandomForestClassifier'>: 0.9875\n",
      "Accuray of <class 'core.models.RandomForest.m_DecisionTreeClassifier'>: 0.9575\n",
      "Accuray of <class 'core.models.RandomForest.m_DecisionTreeClassifier'>: 0.9725\n",
      "Accuray of <class 'core.models.GAM.m_LogisticRegression'>: 0.96\n",
      "Accuray of <class 'core.models.SVM.SVMClassifier'>: 0.95\n"
     ]
    },
    {
     "name": "stderr",
     "output_type": "stream",
     "text": [
      "  0%|          | 2/500 [00:00<00:35, 14.12it/s]"
     ]
    },
    {
     "name": "stdout",
     "output_type": "stream",
     "text": [
      "Accuray of <class 'core.models.XGB.XGBOOSTClassifier'>: 0.98\n",
      "Processing index 13\n",
      "set features: 12\n"
     ]
    },
    {
     "name": "stderr",
     "output_type": "stream",
     "text": [
      "100%|██████████| 500/500 [00:28<00:00, 17.31it/s]\n"
     ]
    },
    {
     "name": "stdout",
     "output_type": "stream",
     "text": [
      "Accuray of <class 'core.models.MLP.MLPClassifier'>: 1.0\n",
      "Accuray of <class 'core.models.RandomForest.m_RandomForestClassifier'>: 1.0\n",
      "Accuray of <class 'core.models.RandomForest.m_RandomForestClassifier'>: 1.0\n",
      "Accuray of <class 'core.models.RandomForest.m_DecisionTreeClassifier'>: 0.9975\n",
      "Accuray of <class 'core.models.RandomForest.m_DecisionTreeClassifier'>: 0.9975\n",
      "Accuray of <class 'core.models.GAM.m_LogisticRegression'>: 1.0\n",
      "Accuray of <class 'core.models.SVM.SVMClassifier'>: 1.0\n",
      "Accuray of <class 'core.models.XGB.XGBOOSTClassifier'>: 1.0\n",
      "Processing index 14\n"
     ]
    },
    {
     "name": "stderr",
     "output_type": "stream",
     "text": [
      "  0%|          | 2/500 [00:00<00:25, 19.35it/s]"
     ]
    },
    {
     "name": "stdout",
     "output_type": "stream",
     "text": [
      "set features: 12\n"
     ]
    },
    {
     "name": "stderr",
     "output_type": "stream",
     "text": [
      "100%|██████████| 500/500 [00:31<00:00, 15.90it/s]\n"
     ]
    },
    {
     "name": "stdout",
     "output_type": "stream",
     "text": [
      "Accuray of <class 'core.models.MLP.MLPClassifier'>: 0.9925\n",
      "Accuray of <class 'core.models.RandomForest.m_RandomForestClassifier'>: 0.965\n",
      "Accuray of <class 'core.models.RandomForest.m_RandomForestClassifier'>: 0.9925\n",
      "Accuray of <class 'core.models.RandomForest.m_DecisionTreeClassifier'>: 0.99\n",
      "Accuray of <class 'core.models.RandomForest.m_DecisionTreeClassifier'>: 0.99\n",
      "Accuray of <class 'core.models.GAM.m_LogisticRegression'>: 0.935\n",
      "Accuray of <class 'core.models.SVM.SVMClassifier'>: 0.935\n"
     ]
    },
    {
     "name": "stderr",
     "output_type": "stream",
     "text": [
      "  0%|          | 2/500 [00:00<00:35, 14.14it/s]"
     ]
    },
    {
     "name": "stdout",
     "output_type": "stream",
     "text": [
      "Accuray of <class 'core.models.XGB.XGBOOSTClassifier'>: 0.935\n",
      "Processing index 15\n",
      "set features: 12\n"
     ]
    },
    {
     "name": "stderr",
     "output_type": "stream",
     "text": [
      "100%|██████████| 500/500 [00:35<00:00, 14.13it/s]\n",
      "  0%|          | 0/500 [00:00<?, ?it/s]"
     ]
    },
    {
     "name": "stdout",
     "output_type": "stream",
     "text": [
      "Accuray of <class 'core.models.MLP.MLPClassifier'>: 1.0\n",
      "Accuray of <class 'core.models.RandomForest.m_RandomForestClassifier'>: 1.0\n",
      "Accuray of <class 'core.models.RandomForest.m_RandomForestClassifier'>: 1.0\n",
      "Accuray of <class 'core.models.RandomForest.m_DecisionTreeClassifier'>: 1.0\n",
      "Accuray of <class 'core.models.RandomForest.m_DecisionTreeClassifier'>: 1.0\n",
      "Accuray of <class 'core.models.GAM.m_LogisticRegression'>: 1.0\n",
      "Accuray of <class 'core.models.SVM.SVMClassifier'>: 1.0\n",
      "Accuray of <class 'core.models.XGB.XGBOOSTClassifier'>: 1.0\n",
      "Processing index 16\n",
      "set features: 12\n"
     ]
    },
    {
     "name": "stderr",
     "output_type": "stream",
     "text": [
      "100%|██████████| 500/500 [00:30<00:00, 16.23it/s]\n"
     ]
    },
    {
     "name": "stdout",
     "output_type": "stream",
     "text": [
      "Accuray of <class 'core.models.MLP.MLPClassifier'>: 0.94\n",
      "Accuray of <class 'core.models.RandomForest.m_RandomForestClassifier'>: 0.9475\n",
      "Accuray of <class 'core.models.RandomForest.m_RandomForestClassifier'>: 0.9625\n",
      "Accuray of <class 'core.models.RandomForest.m_DecisionTreeClassifier'>: 0.945\n",
      "Accuray of <class 'core.models.RandomForest.m_DecisionTreeClassifier'>: 0.9475\n",
      "Accuray of <class 'core.models.GAM.m_LogisticRegression'>: 0.915\n",
      "Accuray of <class 'core.models.SVM.SVMClassifier'>: 0.905\n"
     ]
    },
    {
     "name": "stderr",
     "output_type": "stream",
     "text": [
      "  0%|          | 2/500 [00:00<00:39, 12.68it/s]"
     ]
    },
    {
     "name": "stdout",
     "output_type": "stream",
     "text": [
      "Accuray of <class 'core.models.XGB.XGBOOSTClassifier'>: 0.9375\n",
      "Processing index 17\n",
      "set features: 12\n"
     ]
    },
    {
     "name": "stderr",
     "output_type": "stream",
     "text": [
      "100%|██████████| 500/500 [00:30<00:00, 16.14it/s]\n"
     ]
    },
    {
     "name": "stdout",
     "output_type": "stream",
     "text": [
      "Accuray of <class 'core.models.MLP.MLPClassifier'>: 0.965\n",
      "Accuray of <class 'core.models.RandomForest.m_RandomForestClassifier'>: 0.98\n",
      "Accuray of <class 'core.models.RandomForest.m_RandomForestClassifier'>: 0.985\n",
      "Accuray of <class 'core.models.RandomForest.m_DecisionTreeClassifier'>: 0.975\n",
      "Accuray of <class 'core.models.RandomForest.m_DecisionTreeClassifier'>: 0.9825\n",
      "Accuray of <class 'core.models.GAM.m_LogisticRegression'>: 0.9475\n"
     ]
    },
    {
     "name": "stderr",
     "output_type": "stream",
     "text": [
      "\r",
      "  0%|          | 0/500 [00:00<?, ?it/s]"
     ]
    },
    {
     "name": "stdout",
     "output_type": "stream",
     "text": [
      "Accuray of <class 'core.models.SVM.SVMClassifier'>: 0.9375\n",
      "Accuray of <class 'core.models.XGB.XGBOOSTClassifier'>: 0.9575\n",
      "Processing index 18\n",
      "set features: 12\n"
     ]
    },
    {
     "name": "stderr",
     "output_type": "stream",
     "text": [
      "100%|██████████| 500/500 [00:29<00:00, 17.09it/s]\n"
     ]
    },
    {
     "name": "stdout",
     "output_type": "stream",
     "text": [
      "Accuray of <class 'core.models.MLP.MLPClassifier'>: 0.995\n",
      "Accuray of <class 'core.models.RandomForest.m_RandomForestClassifier'>: 0.98\n",
      "Accuray of <class 'core.models.RandomForest.m_RandomForestClassifier'>: 1.0\n",
      "Accuray of <class 'core.models.RandomForest.m_DecisionTreeClassifier'>: 0.99\n",
      "Accuray of <class 'core.models.RandomForest.m_DecisionTreeClassifier'>: 1.0\n",
      "Accuray of <class 'core.models.GAM.m_LogisticRegression'>: 0.9325\n",
      "Accuray of <class 'core.models.SVM.SVMClassifier'>: 0.92\n"
     ]
    },
    {
     "name": "stderr",
     "output_type": "stream",
     "text": [
      "  0%|          | 2/500 [00:00<00:30, 16.24it/s]"
     ]
    },
    {
     "name": "stdout",
     "output_type": "stream",
     "text": [
      "Accuray of <class 'core.models.XGB.XGBOOSTClassifier'>: 0.9825\n",
      "Processing index 19\n",
      "set features: 12\n"
     ]
    },
    {
     "name": "stderr",
     "output_type": "stream",
     "text": [
      "100%|██████████| 500/500 [00:33<00:00, 15.08it/s]\n"
     ]
    },
    {
     "name": "stdout",
     "output_type": "stream",
     "text": [
      "Accuray of <class 'core.models.MLP.MLPClassifier'>: 0.985\n",
      "Accuray of <class 'core.models.RandomForest.m_RandomForestClassifier'>: 0.99\n",
      "Accuray of <class 'core.models.RandomForest.m_RandomForestClassifier'>: 0.9875\n",
      "Accuray of <class 'core.models.RandomForest.m_DecisionTreeClassifier'>: 0.995\n",
      "Accuray of <class 'core.models.RandomForest.m_DecisionTreeClassifier'>: 0.995\n",
      "Accuray of <class 'core.models.GAM.m_LogisticRegression'>: 0.985\n",
      "Accuray of <class 'core.models.SVM.SVMClassifier'>: 0.985\n"
     ]
    },
    {
     "name": "stderr",
     "output_type": "stream",
     "text": [
      "  0%|          | 2/500 [00:00<00:33, 15.05it/s]"
     ]
    },
    {
     "name": "stdout",
     "output_type": "stream",
     "text": [
      "Accuray of <class 'core.models.XGB.XGBOOSTClassifier'>: 0.985\n",
      "Processing index 20\n",
      "set features: 12\n"
     ]
    },
    {
     "name": "stderr",
     "output_type": "stream",
     "text": [
      "100%|██████████| 500/500 [00:39<00:00, 12.73it/s]\n",
      "  0%|          | 0/500 [00:00<?, ?it/s]"
     ]
    },
    {
     "name": "stdout",
     "output_type": "stream",
     "text": [
      "Accuray of <class 'core.models.MLP.MLPClassifier'>: 1.0\n",
      "Accuray of <class 'core.models.RandomForest.m_RandomForestClassifier'>: 1.0\n",
      "Accuray of <class 'core.models.RandomForest.m_RandomForestClassifier'>: 1.0\n",
      "Accuray of <class 'core.models.RandomForest.m_DecisionTreeClassifier'>: 1.0\n",
      "Accuray of <class 'core.models.RandomForest.m_DecisionTreeClassifier'>: 1.0\n",
      "Accuray of <class 'core.models.GAM.m_LogisticRegression'>: 1.0\n",
      "Accuray of <class 'core.models.SVM.SVMClassifier'>: 1.0\n",
      "Accuray of <class 'core.models.XGB.XGBOOSTClassifier'>: 1.0\n",
      "Processing index 21\n",
      "set features: 12\n"
     ]
    },
    {
     "name": "stderr",
     "output_type": "stream",
     "text": [
      "100%|██████████| 500/500 [00:33<00:00, 15.06it/s]\n",
      "  0%|          | 0/500 [00:00<?, ?it/s]"
     ]
    },
    {
     "name": "stdout",
     "output_type": "stream",
     "text": [
      "Accuray of <class 'core.models.MLP.MLPClassifier'>: 1.0\n",
      "Accuray of <class 'core.models.RandomForest.m_RandomForestClassifier'>: 1.0\n",
      "Accuray of <class 'core.models.RandomForest.m_RandomForestClassifier'>: 1.0\n",
      "Accuray of <class 'core.models.RandomForest.m_DecisionTreeClassifier'>: 1.0\n",
      "Accuray of <class 'core.models.RandomForest.m_DecisionTreeClassifier'>: 1.0\n",
      "Accuray of <class 'core.models.GAM.m_LogisticRegression'>: 1.0\n",
      "Accuray of <class 'core.models.SVM.SVMClassifier'>: 1.0\n",
      "Accuray of <class 'core.models.XGB.XGBOOSTClassifier'>: 1.0\n",
      "Processing index 22\n",
      "set features: 12\n"
     ]
    },
    {
     "name": "stderr",
     "output_type": "stream",
     "text": [
      "100%|██████████| 500/500 [00:41<00:00, 12.16it/s]\n",
      "  0%|          | 0/500 [00:00<?, ?it/s]"
     ]
    },
    {
     "name": "stdout",
     "output_type": "stream",
     "text": [
      "Accuray of <class 'core.models.MLP.MLPClassifier'>: 1.0\n",
      "Accuray of <class 'core.models.RandomForest.m_RandomForestClassifier'>: 1.0\n",
      "Accuray of <class 'core.models.RandomForest.m_RandomForestClassifier'>: 1.0\n",
      "Accuray of <class 'core.models.RandomForest.m_DecisionTreeClassifier'>: 1.0\n",
      "Accuray of <class 'core.models.RandomForest.m_DecisionTreeClassifier'>: 1.0\n",
      "Accuray of <class 'core.models.GAM.m_LogisticRegression'>: 1.0\n",
      "Accuray of <class 'core.models.SVM.SVMClassifier'>: 1.0\n",
      "Accuray of <class 'core.models.XGB.XGBOOSTClassifier'>: 1.0\n",
      "Processing index 23\n",
      "set features: 12\n"
     ]
    },
    {
     "name": "stderr",
     "output_type": "stream",
     "text": [
      "100%|██████████| 500/500 [00:31<00:00, 15.83it/s]\n"
     ]
    },
    {
     "name": "stdout",
     "output_type": "stream",
     "text": [
      "Accuray of <class 'core.models.MLP.MLPClassifier'>: 0.9775\n",
      "Accuray of <class 'core.models.RandomForest.m_RandomForestClassifier'>: 0.995\n",
      "Accuray of <class 'core.models.RandomForest.m_RandomForestClassifier'>: 0.9975\n",
      "Accuray of <class 'core.models.RandomForest.m_DecisionTreeClassifier'>: 0.9975\n",
      "Accuray of <class 'core.models.RandomForest.m_DecisionTreeClassifier'>: 0.9925\n",
      "Accuray of <class 'core.models.GAM.m_LogisticRegression'>: 0.9775\n",
      "Accuray of <class 'core.models.SVM.SVMClassifier'>: 0.9775\n"
     ]
    },
    {
     "name": "stderr",
     "output_type": "stream",
     "text": [
      "  0%|          | 2/500 [00:00<00:37, 13.13it/s]"
     ]
    },
    {
     "name": "stdout",
     "output_type": "stream",
     "text": [
      "Accuray of <class 'core.models.XGB.XGBOOSTClassifier'>: 0.9725\n",
      "Processing index 24\n",
      "set features: 12\n"
     ]
    },
    {
     "name": "stderr",
     "output_type": "stream",
     "text": [
      "100%|██████████| 500/500 [00:33<00:00, 14.81it/s]\n"
     ]
    },
    {
     "name": "stdout",
     "output_type": "stream",
     "text": [
      "Accuray of <class 'core.models.MLP.MLPClassifier'>: 1.0\n",
      "Accuray of <class 'core.models.RandomForest.m_RandomForestClassifier'>: 0.99\n",
      "Accuray of <class 'core.models.RandomForest.m_RandomForestClassifier'>: 1.0\n",
      "Accuray of <class 'core.models.RandomForest.m_DecisionTreeClassifier'>: 1.0\n",
      "Accuray of <class 'core.models.RandomForest.m_DecisionTreeClassifier'>: 1.0\n",
      "Accuray of <class 'core.models.GAM.m_LogisticRegression'>: 1.0\n",
      "Accuray of <class 'core.models.SVM.SVMClassifier'>: 1.0\n",
      "Accuray of <class 'core.models.XGB.XGBOOSTClassifier'>: 1.0\n",
      "Processing index 25\n"
     ]
    },
    {
     "name": "stderr",
     "output_type": "stream",
     "text": [
      "  0%|          | 2/500 [00:00<00:29, 16.63it/s]"
     ]
    },
    {
     "name": "stdout",
     "output_type": "stream",
     "text": [
      "set features: 12\n"
     ]
    },
    {
     "name": "stderr",
     "output_type": "stream",
     "text": [
      "100%|██████████| 500/500 [00:29<00:00, 16.83it/s]\n"
     ]
    },
    {
     "name": "stdout",
     "output_type": "stream",
     "text": [
      "Accuray of <class 'core.models.MLP.MLPClassifier'>: 0.9975\n",
      "Accuray of <class 'core.models.RandomForest.m_RandomForestClassifier'>: 1.0\n",
      "Accuray of <class 'core.models.RandomForest.m_RandomForestClassifier'>: 1.0\n",
      "Accuray of <class 'core.models.RandomForest.m_DecisionTreeClassifier'>: 1.0\n",
      "Accuray of <class 'core.models.RandomForest.m_DecisionTreeClassifier'>: 1.0\n",
      "Accuray of <class 'core.models.GAM.m_LogisticRegression'>: 0.995\n",
      "Accuray of <class 'core.models.SVM.SVMClassifier'>: 0.9975\n"
     ]
    },
    {
     "name": "stderr",
     "output_type": "stream",
     "text": [
      "  0%|          | 2/500 [00:00<00:38, 12.86it/s]"
     ]
    },
    {
     "name": "stdout",
     "output_type": "stream",
     "text": [
      "Accuray of <class 'core.models.XGB.XGBOOSTClassifier'>: 0.9925\n",
      "Processing index 26\n",
      "set features: 12\n"
     ]
    },
    {
     "name": "stderr",
     "output_type": "stream",
     "text": [
      "100%|██████████| 500/500 [00:31<00:00, 15.72it/s]\n"
     ]
    },
    {
     "name": "stdout",
     "output_type": "stream",
     "text": [
      "Accuray of <class 'core.models.MLP.MLPClassifier'>: 0.9725\n",
      "Accuray of <class 'core.models.RandomForest.m_RandomForestClassifier'>: 0.9925\n",
      "Accuray of <class 'core.models.RandomForest.m_RandomForestClassifier'>: 0.9875\n",
      "Accuray of <class 'core.models.RandomForest.m_DecisionTreeClassifier'>: 0.9875\n",
      "Accuray of <class 'core.models.RandomForest.m_DecisionTreeClassifier'>: 0.9825\n",
      "Accuray of <class 'core.models.GAM.m_LogisticRegression'>: 0.985\n",
      "Accuray of <class 'core.models.SVM.SVMClassifier'>: 0.985\n"
     ]
    },
    {
     "name": "stderr",
     "output_type": "stream",
     "text": [
      "  0%|          | 2/500 [00:00<00:31, 15.87it/s]"
     ]
    },
    {
     "name": "stdout",
     "output_type": "stream",
     "text": [
      "Accuray of <class 'core.models.XGB.XGBOOSTClassifier'>: 0.985\n",
      "Processing index 27\n",
      "set features: 12\n"
     ]
    },
    {
     "name": "stderr",
     "output_type": "stream",
     "text": [
      "100%|██████████| 500/500 [00:33<00:00, 14.91it/s]\n"
     ]
    },
    {
     "name": "stdout",
     "output_type": "stream",
     "text": [
      "Accuray of <class 'core.models.MLP.MLPClassifier'>: 0.9775\n",
      "Accuray of <class 'core.models.RandomForest.m_RandomForestClassifier'>: 0.98\n",
      "Accuray of <class 'core.models.RandomForest.m_RandomForestClassifier'>: 0.9875\n",
      "Accuray of <class 'core.models.RandomForest.m_DecisionTreeClassifier'>: 0.985\n",
      "Accuray of <class 'core.models.RandomForest.m_DecisionTreeClassifier'>: 0.99\n",
      "Accuray of <class 'core.models.GAM.m_LogisticRegression'>: 0.98\n",
      "Accuray of <class 'core.models.SVM.SVMClassifier'>: 0.98\n"
     ]
    },
    {
     "name": "stderr",
     "output_type": "stream",
     "text": [
      "  0%|          | 2/500 [00:00<00:36, 13.69it/s]"
     ]
    },
    {
     "name": "stdout",
     "output_type": "stream",
     "text": [
      "Accuray of <class 'core.models.XGB.XGBOOSTClassifier'>: 0.9775\n",
      "Processing index 28\n",
      "set features: 12\n"
     ]
    },
    {
     "name": "stderr",
     "output_type": "stream",
     "text": [
      "100%|██████████| 500/500 [00:35<00:00, 14.01it/s]\n",
      "  0%|          | 0/500 [00:00<?, ?it/s]"
     ]
    },
    {
     "name": "stdout",
     "output_type": "stream",
     "text": [
      "Accuray of <class 'core.models.MLP.MLPClassifier'>: 1.0\n",
      "Accuray of <class 'core.models.RandomForest.m_RandomForestClassifier'>: 1.0\n",
      "Accuray of <class 'core.models.RandomForest.m_RandomForestClassifier'>: 1.0\n",
      "Accuray of <class 'core.models.RandomForest.m_DecisionTreeClassifier'>: 1.0\n",
      "Accuray of <class 'core.models.RandomForest.m_DecisionTreeClassifier'>: 1.0\n",
      "Accuray of <class 'core.models.GAM.m_LogisticRegression'>: 1.0\n",
      "Accuray of <class 'core.models.SVM.SVMClassifier'>: 1.0\n",
      "Accuray of <class 'core.models.XGB.XGBOOSTClassifier'>: 1.0\n",
      "Processing index 29\n",
      "set features: 12\n"
     ]
    },
    {
     "name": "stderr",
     "output_type": "stream",
     "text": [
      "100%|██████████| 500/500 [00:31<00:00, 15.84it/s]\n"
     ]
    },
    {
     "name": "stdout",
     "output_type": "stream",
     "text": [
      "Accuray of <class 'core.models.MLP.MLPClassifier'>: 0.9875\n",
      "Accuray of <class 'core.models.RandomForest.m_RandomForestClassifier'>: 0.99\n",
      "Accuray of <class 'core.models.RandomForest.m_RandomForestClassifier'>: 0.9975\n",
      "Accuray of <class 'core.models.RandomForest.m_DecisionTreeClassifier'>: 0.9975\n",
      "Accuray of <class 'core.models.RandomForest.m_DecisionTreeClassifier'>: 0.9975\n",
      "Accuray of <class 'core.models.GAM.m_LogisticRegression'>: 0.9875\n",
      "Accuray of <class 'core.models.SVM.SVMClassifier'>: 0.9875\n"
     ]
    },
    {
     "name": "stderr",
     "output_type": "stream",
     "text": [
      "  0%|          | 2/500 [00:00<00:28, 17.41it/s]"
     ]
    },
    {
     "name": "stdout",
     "output_type": "stream",
     "text": [
      "Accuray of <class 'core.models.XGB.XGBOOSTClassifier'>: 0.9875\n",
      "Processing index 30\n",
      "set features: 12\n"
     ]
    },
    {
     "name": "stderr",
     "output_type": "stream",
     "text": [
      "100%|██████████| 500/500 [00:40<00:00, 12.31it/s]\n",
      "  0%|          | 0/500 [00:00<?, ?it/s]"
     ]
    },
    {
     "name": "stdout",
     "output_type": "stream",
     "text": [
      "Accuray of <class 'core.models.MLP.MLPClassifier'>: 1.0\n",
      "Accuray of <class 'core.models.RandomForest.m_RandomForestClassifier'>: 1.0\n",
      "Accuray of <class 'core.models.RandomForest.m_RandomForestClassifier'>: 1.0\n",
      "Accuray of <class 'core.models.RandomForest.m_DecisionTreeClassifier'>: 1.0\n",
      "Accuray of <class 'core.models.RandomForest.m_DecisionTreeClassifier'>: 1.0\n",
      "Accuray of <class 'core.models.GAM.m_LogisticRegression'>: 1.0\n",
      "Accuray of <class 'core.models.SVM.SVMClassifier'>: 1.0\n",
      "Accuray of <class 'core.models.XGB.XGBOOSTClassifier'>: 1.0\n",
      "Processing index 31\n",
      "set features: 12\n"
     ]
    },
    {
     "name": "stderr",
     "output_type": "stream",
     "text": [
      "100%|██████████| 500/500 [00:31<00:00, 15.68it/s]\n"
     ]
    },
    {
     "name": "stdout",
     "output_type": "stream",
     "text": [
      "Accuray of <class 'core.models.MLP.MLPClassifier'>: 0.885\n",
      "Accuray of <class 'core.models.RandomForest.m_RandomForestClassifier'>: 0.895\n",
      "Accuray of <class 'core.models.RandomForest.m_RandomForestClassifier'>: 0.925\n",
      "Accuray of <class 'core.models.RandomForest.m_DecisionTreeClassifier'>: 0.8825\n",
      "Accuray of <class 'core.models.RandomForest.m_DecisionTreeClassifier'>: 0.895\n",
      "Accuray of <class 'core.models.GAM.m_LogisticRegression'>: 0.79\n",
      "Accuray of <class 'core.models.SVM.SVMClassifier'>: 0.7275\n"
     ]
    },
    {
     "name": "stderr",
     "output_type": "stream",
     "text": [
      "  0%|          | 2/500 [00:00<00:35, 14.22it/s]"
     ]
    },
    {
     "name": "stdout",
     "output_type": "stream",
     "text": [
      "Accuray of <class 'core.models.XGB.XGBOOSTClassifier'>: 0.8825\n",
      "Processing index 32\n",
      "set features: 12\n"
     ]
    },
    {
     "name": "stderr",
     "output_type": "stream",
     "text": [
      "100%|██████████| 500/500 [00:31<00:00, 16.08it/s]\n"
     ]
    },
    {
     "name": "stdout",
     "output_type": "stream",
     "text": [
      "Accuray of <class 'core.models.MLP.MLPClassifier'>: 0.965\n",
      "Accuray of <class 'core.models.RandomForest.m_RandomForestClassifier'>: 0.8925\n",
      "Accuray of <class 'core.models.RandomForest.m_RandomForestClassifier'>: 0.955\n",
      "Accuray of <class 'core.models.RandomForest.m_DecisionTreeClassifier'>: 0.8975\n",
      "Accuray of <class 'core.models.RandomForest.m_DecisionTreeClassifier'>: 0.9375\n",
      "Accuray of <class 'core.models.GAM.m_LogisticRegression'>: 0.7575\n",
      "Accuray of <class 'core.models.SVM.SVMClassifier'>: 0.6825\n"
     ]
    },
    {
     "name": "stderr",
     "output_type": "stream",
     "text": [
      "  0%|          | 2/500 [00:00<00:34, 14.41it/s]"
     ]
    },
    {
     "name": "stdout",
     "output_type": "stream",
     "text": [
      "Accuray of <class 'core.models.XGB.XGBOOSTClassifier'>: 0.895\n",
      "Processing index 33\n",
      "set features: 12\n"
     ]
    },
    {
     "name": "stderr",
     "output_type": "stream",
     "text": [
      "100%|██████████| 500/500 [00:32<00:00, 15.36it/s]\n"
     ]
    },
    {
     "name": "stdout",
     "output_type": "stream",
     "text": [
      "Accuray of <class 'core.models.MLP.MLPClassifier'>: 0.995\n",
      "Accuray of <class 'core.models.RandomForest.m_RandomForestClassifier'>: 0.995\n",
      "Accuray of <class 'core.models.RandomForest.m_RandomForestClassifier'>: 1.0\n",
      "Accuray of <class 'core.models.RandomForest.m_DecisionTreeClassifier'>: 0.99\n",
      "Accuray of <class 'core.models.RandomForest.m_DecisionTreeClassifier'>: 1.0\n",
      "Accuray of <class 'core.models.GAM.m_LogisticRegression'>: 0.9325\n",
      "Accuray of <class 'core.models.SVM.SVMClassifier'>: 0.92\n"
     ]
    },
    {
     "name": "stderr",
     "output_type": "stream",
     "text": [
      "  0%|          | 2/500 [00:00<00:26, 18.95it/s]"
     ]
    },
    {
     "name": "stdout",
     "output_type": "stream",
     "text": [
      "Accuray of <class 'core.models.XGB.XGBOOSTClassifier'>: 0.9825\n",
      "Processing index 34\n",
      "set features: 12\n"
     ]
    },
    {
     "name": "stderr",
     "output_type": "stream",
     "text": [
      "100%|██████████| 500/500 [00:29<00:00, 17.09it/s]\n"
     ]
    },
    {
     "name": "stdout",
     "output_type": "stream",
     "text": [
      "Accuray of <class 'core.models.MLP.MLPClassifier'>: 1.0\n",
      "Accuray of <class 'core.models.RandomForest.m_RandomForestClassifier'>: 1.0\n",
      "Accuray of <class 'core.models.RandomForest.m_RandomForestClassifier'>: 1.0\n",
      "Accuray of <class 'core.models.RandomForest.m_DecisionTreeClassifier'>: 1.0\n",
      "Accuray of <class 'core.models.RandomForest.m_DecisionTreeClassifier'>: 1.0\n",
      "Accuray of <class 'core.models.GAM.m_LogisticRegression'>: 1.0\n",
      "Accuray of <class 'core.models.SVM.SVMClassifier'>: 1.0\n",
      "Accuray of <class 'core.models.XGB.XGBOOSTClassifier'>: 1.0\n",
      "Processing index 35\n"
     ]
    },
    {
     "name": "stderr",
     "output_type": "stream",
     "text": [
      "  0%|          | 2/500 [00:00<00:35, 14.10it/s]"
     ]
    },
    {
     "name": "stdout",
     "output_type": "stream",
     "text": [
      "set features: 12\n"
     ]
    },
    {
     "name": "stderr",
     "output_type": "stream",
     "text": [
      "100%|██████████| 500/500 [00:36<00:00, 13.87it/s]\n",
      "  0%|          | 0/500 [00:00<?, ?it/s]"
     ]
    },
    {
     "name": "stdout",
     "output_type": "stream",
     "text": [
      "Accuray of <class 'core.models.MLP.MLPClassifier'>: 1.0\n",
      "Accuray of <class 'core.models.RandomForest.m_RandomForestClassifier'>: 1.0\n",
      "Accuray of <class 'core.models.RandomForest.m_RandomForestClassifier'>: 1.0\n",
      "Accuray of <class 'core.models.RandomForest.m_DecisionTreeClassifier'>: 1.0\n",
      "Accuray of <class 'core.models.RandomForest.m_DecisionTreeClassifier'>: 1.0\n",
      "Accuray of <class 'core.models.GAM.m_LogisticRegression'>: 1.0\n",
      "Accuray of <class 'core.models.SVM.SVMClassifier'>: 1.0\n",
      "Accuray of <class 'core.models.XGB.XGBOOSTClassifier'>: 1.0\n",
      "Processing index 36\n",
      "set features: 12\n"
     ]
    },
    {
     "name": "stderr",
     "output_type": "stream",
     "text": [
      "100%|██████████| 500/500 [00:36<00:00, 13.76it/s]\n",
      "  0%|          | 0/500 [00:00<?, ?it/s]"
     ]
    },
    {
     "name": "stdout",
     "output_type": "stream",
     "text": [
      "Accuray of <class 'core.models.MLP.MLPClassifier'>: 1.0\n",
      "Accuray of <class 'core.models.RandomForest.m_RandomForestClassifier'>: 1.0\n",
      "Accuray of <class 'core.models.RandomForest.m_RandomForestClassifier'>: 1.0\n",
      "Accuray of <class 'core.models.RandomForest.m_DecisionTreeClassifier'>: 1.0\n",
      "Accuray of <class 'core.models.RandomForest.m_DecisionTreeClassifier'>: 1.0\n",
      "Accuray of <class 'core.models.GAM.m_LogisticRegression'>: 1.0\n",
      "Accuray of <class 'core.models.SVM.SVMClassifier'>: 1.0\n",
      "Accuray of <class 'core.models.XGB.XGBOOSTClassifier'>: 1.0\n",
      "Processing index 37\n",
      "set features: 12\n"
     ]
    },
    {
     "name": "stderr",
     "output_type": "stream",
     "text": [
      "100%|██████████| 500/500 [00:41<00:00, 11.99it/s]\n",
      "  0%|          | 0/500 [00:00<?, ?it/s]"
     ]
    },
    {
     "name": "stdout",
     "output_type": "stream",
     "text": [
      "Accuray of <class 'core.models.MLP.MLPClassifier'>: 1.0\n",
      "Accuray of <class 'core.models.RandomForest.m_RandomForestClassifier'>: 1.0\n",
      "Accuray of <class 'core.models.RandomForest.m_RandomForestClassifier'>: 1.0\n",
      "Accuray of <class 'core.models.RandomForest.m_DecisionTreeClassifier'>: 1.0\n",
      "Accuray of <class 'core.models.RandomForest.m_DecisionTreeClassifier'>: 1.0\n",
      "Accuray of <class 'core.models.GAM.m_LogisticRegression'>: 1.0\n",
      "Accuray of <class 'core.models.SVM.SVMClassifier'>: 1.0\n",
      "Accuray of <class 'core.models.XGB.XGBOOSTClassifier'>: 1.0\n",
      "Processing index 38\n",
      "set features: 12\n"
     ]
    },
    {
     "name": "stderr",
     "output_type": "stream",
     "text": [
      "100%|██████████| 500/500 [00:30<00:00, 16.55it/s]\n"
     ]
    },
    {
     "name": "stdout",
     "output_type": "stream",
     "text": [
      "Accuray of <class 'core.models.MLP.MLPClassifier'>: 0.9825\n",
      "Accuray of <class 'core.models.RandomForest.m_RandomForestClassifier'>: 0.9975\n",
      "Accuray of <class 'core.models.RandomForest.m_RandomForestClassifier'>: 1.0\n",
      "Accuray of <class 'core.models.RandomForest.m_DecisionTreeClassifier'>: 0.995\n",
      "Accuray of <class 'core.models.RandomForest.m_DecisionTreeClassifier'>: 0.995\n",
      "Accuray of <class 'core.models.GAM.m_LogisticRegression'>: 0.9725\n",
      "Accuray of <class 'core.models.SVM.SVMClassifier'>: 0.9725\n"
     ]
    },
    {
     "name": "stderr",
     "output_type": "stream",
     "text": [
      "  0%|          | 2/500 [00:00<00:33, 14.80it/s]"
     ]
    },
    {
     "name": "stdout",
     "output_type": "stream",
     "text": [
      "Accuray of <class 'core.models.XGB.XGBOOSTClassifier'>: 0.9925\n",
      "Processing index 39\n",
      "set features: 12\n"
     ]
    },
    {
     "name": "stderr",
     "output_type": "stream",
     "text": [
      "100%|██████████| 500/500 [00:29<00:00, 17.21it/s]\n"
     ]
    },
    {
     "name": "stdout",
     "output_type": "stream",
     "text": [
      "Accuray of <class 'core.models.MLP.MLPClassifier'>: 1.0\n",
      "Accuray of <class 'core.models.RandomForest.m_RandomForestClassifier'>: 1.0\n",
      "Accuray of <class 'core.models.RandomForest.m_RandomForestClassifier'>: 1.0\n",
      "Accuray of <class 'core.models.RandomForest.m_DecisionTreeClassifier'>: 1.0\n",
      "Accuray of <class 'core.models.RandomForest.m_DecisionTreeClassifier'>: 1.0\n",
      "Accuray of <class 'core.models.GAM.m_LogisticRegression'>: 1.0\n",
      "Accuray of <class 'core.models.SVM.SVMClassifier'>: 1.0\n",
      "Accuray of <class 'core.models.XGB.XGBOOSTClassifier'>: 1.0\n",
      "Processing index 40\n"
     ]
    },
    {
     "name": "stderr",
     "output_type": "stream",
     "text": [
      "  1%|          | 3/500 [00:00<00:23, 20.80it/s]"
     ]
    },
    {
     "name": "stdout",
     "output_type": "stream",
     "text": [
      "set features: 12\n"
     ]
    },
    {
     "name": "stderr",
     "output_type": "stream",
     "text": [
      "100%|██████████| 500/500 [00:31<00:00, 15.71it/s]\n"
     ]
    },
    {
     "name": "stdout",
     "output_type": "stream",
     "text": [
      "Accuray of <class 'core.models.MLP.MLPClassifier'>: 0.9925\n",
      "Accuray of <class 'core.models.RandomForest.m_RandomForestClassifier'>: 0.9925\n",
      "Accuray of <class 'core.models.RandomForest.m_RandomForestClassifier'>: 0.9975\n",
      "Accuray of <class 'core.models.RandomForest.m_DecisionTreeClassifier'>: 0.995\n",
      "Accuray of <class 'core.models.RandomForest.m_DecisionTreeClassifier'>: 0.995\n",
      "Accuray of <class 'core.models.GAM.m_LogisticRegression'>: 0.9925\n",
      "Accuray of <class 'core.models.SVM.SVMClassifier'>: 0.9925\n"
     ]
    },
    {
     "name": "stderr",
     "output_type": "stream",
     "text": [
      "  1%|          | 3/500 [00:00<00:26, 19.01it/s]"
     ]
    },
    {
     "name": "stdout",
     "output_type": "stream",
     "text": [
      "Accuray of <class 'core.models.XGB.XGBOOSTClassifier'>: 0.9925\n",
      "Processing index 41\n",
      "set features: 12\n"
     ]
    },
    {
     "name": "stderr",
     "output_type": "stream",
     "text": [
      "100%|██████████| 500/500 [00:32<00:00, 15.38it/s]\n"
     ]
    },
    {
     "name": "stdout",
     "output_type": "stream",
     "text": [
      "Accuray of <class 'core.models.MLP.MLPClassifier'>: 0.9825\n",
      "Accuray of <class 'core.models.RandomForest.m_RandomForestClassifier'>: 1.0\n",
      "Accuray of <class 'core.models.RandomForest.m_RandomForestClassifier'>: 1.0\n",
      "Accuray of <class 'core.models.RandomForest.m_DecisionTreeClassifier'>: 0.9975\n",
      "Accuray of <class 'core.models.RandomForest.m_DecisionTreeClassifier'>: 0.9975\n",
      "Accuray of <class 'core.models.GAM.m_LogisticRegression'>: 0.9925\n",
      "Accuray of <class 'core.models.SVM.SVMClassifier'>: 0.9925\n"
     ]
    },
    {
     "name": "stderr",
     "output_type": "stream",
     "text": [
      "  0%|          | 2/500 [00:00<00:37, 13.44it/s]"
     ]
    },
    {
     "name": "stdout",
     "output_type": "stream",
     "text": [
      "Accuray of <class 'core.models.XGB.XGBOOSTClassifier'>: 0.995\n",
      "Processing index 42\n",
      "set features: 12\n"
     ]
    },
    {
     "name": "stderr",
     "output_type": "stream",
     "text": [
      "100%|██████████| 500/500 [00:30<00:00, 16.28it/s]\n"
     ]
    },
    {
     "name": "stdout",
     "output_type": "stream",
     "text": [
      "Accuray of <class 'core.models.MLP.MLPClassifier'>: 1.0\n",
      "Accuray of <class 'core.models.RandomForest.m_RandomForestClassifier'>: 1.0\n",
      "Accuray of <class 'core.models.RandomForest.m_RandomForestClassifier'>: 1.0\n",
      "Accuray of <class 'core.models.RandomForest.m_DecisionTreeClassifier'>: 1.0\n",
      "Accuray of <class 'core.models.RandomForest.m_DecisionTreeClassifier'>: 1.0\n",
      "Accuray of <class 'core.models.GAM.m_LogisticRegression'>: 0.995\n",
      "Accuray of <class 'core.models.SVM.SVMClassifier'>: 0.995\n"
     ]
    },
    {
     "name": "stderr",
     "output_type": "stream",
     "text": [
      "  0%|          | 2/500 [00:00<00:34, 14.37it/s]"
     ]
    },
    {
     "name": "stdout",
     "output_type": "stream",
     "text": [
      "Accuray of <class 'core.models.XGB.XGBOOSTClassifier'>: 0.9975\n",
      "Processing index 43\n",
      "set features: 12\n"
     ]
    },
    {
     "name": "stderr",
     "output_type": "stream",
     "text": [
      "100%|██████████| 500/500 [00:35<00:00, 14.20it/s]\n",
      "  0%|          | 0/500 [00:00<?, ?it/s]"
     ]
    },
    {
     "name": "stdout",
     "output_type": "stream",
     "text": [
      "Accuray of <class 'core.models.MLP.MLPClassifier'>: 1.0\n",
      "Accuray of <class 'core.models.RandomForest.m_RandomForestClassifier'>: 1.0\n",
      "Accuray of <class 'core.models.RandomForest.m_RandomForestClassifier'>: 1.0\n",
      "Accuray of <class 'core.models.RandomForest.m_DecisionTreeClassifier'>: 1.0\n",
      "Accuray of <class 'core.models.RandomForest.m_DecisionTreeClassifier'>: 1.0\n",
      "Accuray of <class 'core.models.GAM.m_LogisticRegression'>: 1.0\n",
      "Accuray of <class 'core.models.SVM.SVMClassifier'>: 1.0\n",
      "Accuray of <class 'core.models.XGB.XGBOOSTClassifier'>: 1.0\n",
      "Processing index 44\n",
      "set features: 12\n"
     ]
    },
    {
     "name": "stderr",
     "output_type": "stream",
     "text": [
      "100%|██████████| 500/500 [00:33<00:00, 14.73it/s]\n",
      "  0%|          | 0/500 [00:00<?, ?it/s]"
     ]
    },
    {
     "name": "stdout",
     "output_type": "stream",
     "text": [
      "Accuray of <class 'core.models.MLP.MLPClassifier'>: 0.9975\n",
      "Accuray of <class 'core.models.RandomForest.m_RandomForestClassifier'>: 0.9975\n",
      "Accuray of <class 'core.models.RandomForest.m_RandomForestClassifier'>: 0.9975\n",
      "Accuray of <class 'core.models.RandomForest.m_DecisionTreeClassifier'>: 0.9975\n",
      "Accuray of <class 'core.models.RandomForest.m_DecisionTreeClassifier'>: 0.9975\n",
      "Accuray of <class 'core.models.GAM.m_LogisticRegression'>: 0.9975\n",
      "Accuray of <class 'core.models.SVM.SVMClassifier'>: 0.9975\n",
      "Accuray of <class 'core.models.XGB.XGBOOSTClassifier'>: 0.9975\n",
      "Processing index 45\n",
      "set features: 12\n"
     ]
    },
    {
     "name": "stderr",
     "output_type": "stream",
     "text": [
      "100%|██████████| 500/500 [00:34<00:00, 14.50it/s]\n",
      "  0%|          | 0/500 [00:00<?, ?it/s]"
     ]
    },
    {
     "name": "stdout",
     "output_type": "stream",
     "text": [
      "Accuray of <class 'core.models.MLP.MLPClassifier'>: 1.0\n",
      "Accuray of <class 'core.models.RandomForest.m_RandomForestClassifier'>: 1.0\n",
      "Accuray of <class 'core.models.RandomForest.m_RandomForestClassifier'>: 1.0\n",
      "Accuray of <class 'core.models.RandomForest.m_DecisionTreeClassifier'>: 1.0\n",
      "Accuray of <class 'core.models.RandomForest.m_DecisionTreeClassifier'>: 1.0\n",
      "Accuray of <class 'core.models.GAM.m_LogisticRegression'>: 1.0\n",
      "Accuray of <class 'core.models.SVM.SVMClassifier'>: 1.0\n",
      "Accuray of <class 'core.models.XGB.XGBOOSTClassifier'>: 1.0\n",
      "Processing index 46\n",
      "set features: 12\n"
     ]
    },
    {
     "name": "stderr",
     "output_type": "stream",
     "text": [
      "100%|██████████| 500/500 [00:30<00:00, 16.46it/s]\n"
     ]
    },
    {
     "name": "stdout",
     "output_type": "stream",
     "text": [
      "Accuray of <class 'core.models.MLP.MLPClassifier'>: 0.9725\n",
      "Accuray of <class 'core.models.RandomForest.m_RandomForestClassifier'>: 0.9725\n",
      "Accuray of <class 'core.models.RandomForest.m_RandomForestClassifier'>: 0.9675\n",
      "Accuray of <class 'core.models.RandomForest.m_DecisionTreeClassifier'>: 0.9675\n",
      "Accuray of <class 'core.models.RandomForest.m_DecisionTreeClassifier'>: 0.9675\n",
      "Accuray of <class 'core.models.GAM.m_LogisticRegression'>: 0.9875\n",
      "Accuray of <class 'core.models.SVM.SVMClassifier'>: 0.9875\n"
     ]
    },
    {
     "name": "stderr",
     "output_type": "stream",
     "text": [
      "  0%|          | 2/500 [00:00<00:38, 12.79it/s]"
     ]
    },
    {
     "name": "stdout",
     "output_type": "stream",
     "text": [
      "Accuray of <class 'core.models.XGB.XGBOOSTClassifier'>: 0.9975\n",
      "Processing index 47\n",
      "set features: 12\n"
     ]
    },
    {
     "name": "stderr",
     "output_type": "stream",
     "text": [
      "100%|██████████| 500/500 [00:30<00:00, 16.44it/s]\n"
     ]
    },
    {
     "name": "stdout",
     "output_type": "stream",
     "text": [
      "Accuray of <class 'core.models.MLP.MLPClassifier'>: 0.9575\n",
      "Accuray of <class 'core.models.RandomForest.m_RandomForestClassifier'>: 0.99\n",
      "Accuray of <class 'core.models.RandomForest.m_RandomForestClassifier'>: 0.985\n",
      "Accuray of <class 'core.models.RandomForest.m_DecisionTreeClassifier'>: 0.995\n",
      "Accuray of <class 'core.models.RandomForest.m_DecisionTreeClassifier'>: 0.9875\n",
      "Accuray of <class 'core.models.GAM.m_LogisticRegression'>: 0.945\n",
      "Accuray of <class 'core.models.SVM.SVMClassifier'>: 0.945\n"
     ]
    },
    {
     "name": "stderr",
     "output_type": "stream",
     "text": [
      "  0%|          | 2/500 [00:00<00:33, 14.88it/s]"
     ]
    },
    {
     "name": "stdout",
     "output_type": "stream",
     "text": [
      "Accuray of <class 'core.models.XGB.XGBOOSTClassifier'>: 0.96\n",
      "Processing index 48\n",
      "set features: 12\n"
     ]
    },
    {
     "name": "stderr",
     "output_type": "stream",
     "text": [
      "100%|██████████| 500/500 [00:32<00:00, 15.22it/s]\n"
     ]
    },
    {
     "name": "stdout",
     "output_type": "stream",
     "text": [
      "Accuray of <class 'core.models.MLP.MLPClassifier'>: 0.995\n",
      "Accuray of <class 'core.models.RandomForest.m_RandomForestClassifier'>: 0.985\n",
      "Accuray of <class 'core.models.RandomForest.m_RandomForestClassifier'>: 1.0\n",
      "Accuray of <class 'core.models.RandomForest.m_DecisionTreeClassifier'>: 0.99\n",
      "Accuray of <class 'core.models.RandomForest.m_DecisionTreeClassifier'>: 1.0\n",
      "Accuray of <class 'core.models.GAM.m_LogisticRegression'>: 0.9325\n",
      "Accuray of <class 'core.models.SVM.SVMClassifier'>: 0.92\n"
     ]
    },
    {
     "name": "stderr",
     "output_type": "stream",
     "text": [
      "  0%|          | 2/500 [00:00<00:32, 15.32it/s]"
     ]
    },
    {
     "name": "stdout",
     "output_type": "stream",
     "text": [
      "Accuray of <class 'core.models.XGB.XGBOOSTClassifier'>: 0.9825\n",
      "Processing index 49\n",
      "set features: 12\n"
     ]
    },
    {
     "name": "stderr",
     "output_type": "stream",
     "text": [
      "100%|██████████| 500/500 [00:37<00:00, 13.23it/s]\n",
      "  0%|          | 0/500 [00:00<?, ?it/s]"
     ]
    },
    {
     "name": "stdout",
     "output_type": "stream",
     "text": [
      "Accuray of <class 'core.models.MLP.MLPClassifier'>: 1.0\n",
      "Accuray of <class 'core.models.RandomForest.m_RandomForestClassifier'>: 1.0\n",
      "Accuray of <class 'core.models.RandomForest.m_RandomForestClassifier'>: 1.0\n",
      "Accuray of <class 'core.models.RandomForest.m_DecisionTreeClassifier'>: 1.0\n",
      "Accuray of <class 'core.models.RandomForest.m_DecisionTreeClassifier'>: 1.0\n",
      "Accuray of <class 'core.models.GAM.m_LogisticRegression'>: 1.0\n",
      "Accuray of <class 'core.models.SVM.SVMClassifier'>: 1.0\n",
      "Accuray of <class 'core.models.XGB.XGBOOSTClassifier'>: 1.0\n",
      "Processing index 50\n",
      "set features: 12\n"
     ]
    },
    {
     "name": "stderr",
     "output_type": "stream",
     "text": [
      "100%|██████████| 500/500 [00:38<00:00, 12.88it/s]\n",
      "  0%|          | 0/500 [00:00<?, ?it/s]"
     ]
    },
    {
     "name": "stdout",
     "output_type": "stream",
     "text": [
      "Accuray of <class 'core.models.MLP.MLPClassifier'>: 1.0\n",
      "Accuray of <class 'core.models.RandomForest.m_RandomForestClassifier'>: 1.0\n",
      "Accuray of <class 'core.models.RandomForest.m_RandomForestClassifier'>: 1.0\n",
      "Accuray of <class 'core.models.RandomForest.m_DecisionTreeClassifier'>: 1.0\n",
      "Accuray of <class 'core.models.RandomForest.m_DecisionTreeClassifier'>: 1.0\n",
      "Accuray of <class 'core.models.GAM.m_LogisticRegression'>: 1.0\n",
      "Accuray of <class 'core.models.SVM.SVMClassifier'>: 1.0\n",
      "Accuray of <class 'core.models.XGB.XGBOOSTClassifier'>: 1.0\n",
      "Processing index 51\n",
      "set features: 12\n"
     ]
    },
    {
     "name": "stderr",
     "output_type": "stream",
     "text": [
      "100%|██████████| 500/500 [00:38<00:00, 12.84it/s]\n",
      "  0%|          | 0/500 [00:00<?, ?it/s]"
     ]
    },
    {
     "name": "stdout",
     "output_type": "stream",
     "text": [
      "Accuray of <class 'core.models.MLP.MLPClassifier'>: 1.0\n",
      "Accuray of <class 'core.models.RandomForest.m_RandomForestClassifier'>: 1.0\n",
      "Accuray of <class 'core.models.RandomForest.m_RandomForestClassifier'>: 1.0\n",
      "Accuray of <class 'core.models.RandomForest.m_DecisionTreeClassifier'>: 1.0\n",
      "Accuray of <class 'core.models.RandomForest.m_DecisionTreeClassifier'>: 1.0\n",
      "Accuray of <class 'core.models.GAM.m_LogisticRegression'>: 1.0\n",
      "Accuray of <class 'core.models.SVM.SVMClassifier'>: 1.0\n",
      "Accuray of <class 'core.models.XGB.XGBOOSTClassifier'>: 1.0\n",
      "Processing index 52\n",
      "set features: 12\n"
     ]
    },
    {
     "name": "stderr",
     "output_type": "stream",
     "text": [
      "100%|██████████| 500/500 [00:42<00:00, 11.75it/s]\n",
      "  0%|          | 0/500 [00:00<?, ?it/s]"
     ]
    },
    {
     "name": "stdout",
     "output_type": "stream",
     "text": [
      "Accuray of <class 'core.models.MLP.MLPClassifier'>: 1.0\n",
      "Accuray of <class 'core.models.RandomForest.m_RandomForestClassifier'>: 1.0\n",
      "Accuray of <class 'core.models.RandomForest.m_RandomForestClassifier'>: 1.0\n",
      "Accuray of <class 'core.models.RandomForest.m_DecisionTreeClassifier'>: 1.0\n",
      "Accuray of <class 'core.models.RandomForest.m_DecisionTreeClassifier'>: 1.0\n",
      "Accuray of <class 'core.models.GAM.m_LogisticRegression'>: 1.0\n",
      "Accuray of <class 'core.models.SVM.SVMClassifier'>: 1.0\n",
      "Accuray of <class 'core.models.XGB.XGBOOSTClassifier'>: 1.0\n",
      "Processing index 53\n",
      "set features: 12\n"
     ]
    },
    {
     "name": "stderr",
     "output_type": "stream",
     "text": [
      "100%|██████████| 500/500 [00:30<00:00, 16.21it/s]\n"
     ]
    },
    {
     "name": "stdout",
     "output_type": "stream",
     "text": [
      "Accuray of <class 'core.models.MLP.MLPClassifier'>: 0.9975\n",
      "Accuray of <class 'core.models.RandomForest.m_RandomForestClassifier'>: 0.995\n",
      "Accuray of <class 'core.models.RandomForest.m_RandomForestClassifier'>: 0.9975\n",
      "Accuray of <class 'core.models.RandomForest.m_DecisionTreeClassifier'>: 0.9975\n",
      "Accuray of <class 'core.models.RandomForest.m_DecisionTreeClassifier'>: 0.9975\n",
      "Accuray of <class 'core.models.GAM.m_LogisticRegression'>: 0.9975\n",
      "Accuray of <class 'core.models.SVM.SVMClassifier'>: 0.9975\n"
     ]
    },
    {
     "name": "stderr",
     "output_type": "stream",
     "text": [
      "  0%|          | 2/500 [00:00<00:27, 18.39it/s]"
     ]
    },
    {
     "name": "stdout",
     "output_type": "stream",
     "text": [
      "Accuray of <class 'core.models.XGB.XGBOOSTClassifier'>: 0.9975\n",
      "Processing index 54\n",
      "set features: 12\n"
     ]
    },
    {
     "name": "stderr",
     "output_type": "stream",
     "text": [
      "100%|██████████| 500/500 [00:28<00:00, 17.24it/s]\n"
     ]
    },
    {
     "name": "stdout",
     "output_type": "stream",
     "text": [
      "Accuray of <class 'core.models.MLP.MLPClassifier'>: 0.945\n",
      "Accuray of <class 'core.models.RandomForest.m_RandomForestClassifier'>: 0.9575\n",
      "Accuray of <class 'core.models.RandomForest.m_RandomForestClassifier'>: 0.975\n",
      "Accuray of <class 'core.models.RandomForest.m_DecisionTreeClassifier'>: 0.96\n",
      "Accuray of <class 'core.models.RandomForest.m_DecisionTreeClassifier'>: 0.97\n",
      "Accuray of <class 'core.models.GAM.m_LogisticRegression'>: 0.945\n",
      "Accuray of <class 'core.models.SVM.SVMClassifier'>: 0.945\n"
     ]
    },
    {
     "name": "stderr",
     "output_type": "stream",
     "text": [
      "  1%|          | 3/500 [00:00<00:22, 21.85it/s]"
     ]
    },
    {
     "name": "stdout",
     "output_type": "stream",
     "text": [
      "Accuray of <class 'core.models.XGB.XGBOOSTClassifier'>: 0.945\n",
      "Processing index 55\n",
      "set features: 12\n"
     ]
    },
    {
     "name": "stderr",
     "output_type": "stream",
     "text": [
      "100%|██████████| 500/500 [00:31<00:00, 16.06it/s]\n"
     ]
    },
    {
     "name": "stdout",
     "output_type": "stream",
     "text": [
      "Accuray of <class 'core.models.MLP.MLPClassifier'>: 0.99\n",
      "Accuray of <class 'core.models.RandomForest.m_RandomForestClassifier'>: 0.9975\n",
      "Accuray of <class 'core.models.RandomForest.m_RandomForestClassifier'>: 0.9975\n",
      "Accuray of <class 'core.models.RandomForest.m_DecisionTreeClassifier'>: 0.9975\n",
      "Accuray of <class 'core.models.RandomForest.m_DecisionTreeClassifier'>: 0.995\n",
      "Accuray of <class 'core.models.GAM.m_LogisticRegression'>: 0.99\n",
      "Accuray of <class 'core.models.SVM.SVMClassifier'>: 0.99\n"
     ]
    },
    {
     "name": "stderr",
     "output_type": "stream",
     "text": [
      "  0%|          | 2/500 [00:00<00:26, 19.12it/s]"
     ]
    },
    {
     "name": "stdout",
     "output_type": "stream",
     "text": [
      "Accuray of <class 'core.models.XGB.XGBOOSTClassifier'>: 0.99\n",
      "Processing index 56\n",
      "set features: 12\n"
     ]
    },
    {
     "name": "stderr",
     "output_type": "stream",
     "text": [
      "100%|██████████| 500/500 [00:30<00:00, 16.48it/s]\n"
     ]
    },
    {
     "name": "stdout",
     "output_type": "stream",
     "text": [
      "Accuray of <class 'core.models.MLP.MLPClassifier'>: 0.965\n",
      "Accuray of <class 'core.models.RandomForest.m_RandomForestClassifier'>: 0.9275\n",
      "Accuray of <class 'core.models.RandomForest.m_RandomForestClassifier'>: 0.9825\n",
      "Accuray of <class 'core.models.RandomForest.m_DecisionTreeClassifier'>: 0.9425\n",
      "Accuray of <class 'core.models.RandomForest.m_DecisionTreeClassifier'>: 0.98\n",
      "Accuray of <class 'core.models.GAM.m_LogisticRegression'>: 0.8675\n",
      "Accuray of <class 'core.models.SVM.SVMClassifier'>: 0.8675\n"
     ]
    },
    {
     "name": "stderr",
     "output_type": "stream",
     "text": [
      "  0%|          | 2/500 [00:00<00:27, 17.82it/s]"
     ]
    },
    {
     "name": "stdout",
     "output_type": "stream",
     "text": [
      "Accuray of <class 'core.models.XGB.XGBOOSTClassifier'>: 0.8925\n",
      "Processing index 57\n",
      "set features: 12\n"
     ]
    },
    {
     "name": "stderr",
     "output_type": "stream",
     "text": [
      "100%|██████████| 500/500 [00:31<00:00, 16.09it/s]\n"
     ]
    },
    {
     "name": "stdout",
     "output_type": "stream",
     "text": [
      "Accuray of <class 'core.models.MLP.MLPClassifier'>: 0.98\n",
      "Accuray of <class 'core.models.RandomForest.m_RandomForestClassifier'>: 0.9975\n",
      "Accuray of <class 'core.models.RandomForest.m_RandomForestClassifier'>: 0.9975\n",
      "Accuray of <class 'core.models.RandomForest.m_DecisionTreeClassifier'>: 0.9875\n",
      "Accuray of <class 'core.models.RandomForest.m_DecisionTreeClassifier'>: 0.99\n",
      "Accuray of <class 'core.models.GAM.m_LogisticRegression'>: 0.9925\n",
      "Accuray of <class 'core.models.SVM.SVMClassifier'>: 0.9925\n"
     ]
    },
    {
     "name": "stderr",
     "output_type": "stream",
     "text": [
      "  0%|          | 2/500 [00:00<00:35, 13.98it/s]"
     ]
    },
    {
     "name": "stdout",
     "output_type": "stream",
     "text": [
      "Accuray of <class 'core.models.XGB.XGBOOSTClassifier'>: 0.9925\n",
      "Processing index 58\n",
      "set features: 12\n"
     ]
    },
    {
     "name": "stderr",
     "output_type": "stream",
     "text": [
      "100%|██████████| 500/500 [00:31<00:00, 15.68it/s]\n"
     ]
    },
    {
     "name": "stdout",
     "output_type": "stream",
     "text": [
      "Accuray of <class 'core.models.MLP.MLPClassifier'>: 0.9775\n",
      "Accuray of <class 'core.models.RandomForest.m_RandomForestClassifier'>: 0.9875\n",
      "Accuray of <class 'core.models.RandomForest.m_RandomForestClassifier'>: 0.9975\n",
      "Accuray of <class 'core.models.RandomForest.m_DecisionTreeClassifier'>: 0.99\n",
      "Accuray of <class 'core.models.RandomForest.m_DecisionTreeClassifier'>: 0.995\n",
      "Accuray of <class 'core.models.GAM.m_LogisticRegression'>: 0.985\n",
      "Accuray of <class 'core.models.SVM.SVMClassifier'>: 0.985\n"
     ]
    },
    {
     "name": "stderr",
     "output_type": "stream",
     "text": [
      "  0%|          | 1/500 [00:00<00:57,  8.68it/s]"
     ]
    },
    {
     "name": "stdout",
     "output_type": "stream",
     "text": [
      "Accuray of <class 'core.models.XGB.XGBOOSTClassifier'>: 0.985\n",
      "Processing index 59\n",
      "set features: 12\n"
     ]
    },
    {
     "name": "stderr",
     "output_type": "stream",
     "text": [
      "100%|██████████| 500/500 [00:30<00:00, 16.26it/s]\n"
     ]
    },
    {
     "name": "stdout",
     "output_type": "stream",
     "text": [
      "Accuray of <class 'core.models.MLP.MLPClassifier'>: 0.975\n",
      "Accuray of <class 'core.models.RandomForest.m_RandomForestClassifier'>: 0.99\n",
      "Accuray of <class 'core.models.RandomForest.m_RandomForestClassifier'>: 0.995\n",
      "Accuray of <class 'core.models.RandomForest.m_DecisionTreeClassifier'>: 0.985\n",
      "Accuray of <class 'core.models.RandomForest.m_DecisionTreeClassifier'>: 0.985\n",
      "Accuray of <class 'core.models.GAM.m_LogisticRegression'>: 0.9825\n",
      "Accuray of <class 'core.models.SVM.SVMClassifier'>: 0.9775\n"
     ]
    },
    {
     "name": "stderr",
     "output_type": "stream",
     "text": [
      "  0%|          | 2/500 [00:00<00:30, 16.17it/s]"
     ]
    },
    {
     "name": "stdout",
     "output_type": "stream",
     "text": [
      "Accuray of <class 'core.models.XGB.XGBOOSTClassifier'>: 0.9825\n",
      "Processing index 60\n",
      "set features: 12\n"
     ]
    },
    {
     "name": "stderr",
     "output_type": "stream",
     "text": [
      "100%|██████████| 500/500 [00:30<00:00, 16.60it/s]\n"
     ]
    },
    {
     "name": "stdout",
     "output_type": "stream",
     "text": [
      "Accuray of <class 'core.models.MLP.MLPClassifier'>: 0.93\n",
      "Accuray of <class 'core.models.RandomForest.m_RandomForestClassifier'>: 0.95\n",
      "Accuray of <class 'core.models.RandomForest.m_RandomForestClassifier'>: 0.9675\n",
      "Accuray of <class 'core.models.RandomForest.m_DecisionTreeClassifier'>: 0.96\n",
      "Accuray of <class 'core.models.RandomForest.m_DecisionTreeClassifier'>: 0.9775\n",
      "Accuray of <class 'core.models.GAM.m_LogisticRegression'>: 0.8975\n",
      "Accuray of <class 'core.models.SVM.SVMClassifier'>: 0.9\n"
     ]
    },
    {
     "name": "stderr",
     "output_type": "stream",
     "text": [
      "  0%|          | 2/500 [00:00<00:40, 12.42it/s]"
     ]
    },
    {
     "name": "stdout",
     "output_type": "stream",
     "text": [
      "Accuray of <class 'core.models.XGB.XGBOOSTClassifier'>: 0.8975\n",
      "Processing index 61\n",
      "set features: 12\n"
     ]
    },
    {
     "name": "stderr",
     "output_type": "stream",
     "text": [
      "100%|██████████| 500/500 [00:29<00:00, 17.22it/s]\n"
     ]
    },
    {
     "name": "stdout",
     "output_type": "stream",
     "text": [
      "Accuray of <class 'core.models.MLP.MLPClassifier'>: 0.945\n",
      "Accuray of <class 'core.models.RandomForest.m_RandomForestClassifier'>: 0.9725\n",
      "Accuray of <class 'core.models.RandomForest.m_RandomForestClassifier'>: 0.97\n",
      "Accuray of <class 'core.models.RandomForest.m_DecisionTreeClassifier'>: 0.9625\n",
      "Accuray of <class 'core.models.RandomForest.m_DecisionTreeClassifier'>: 0.97\n",
      "Accuray of <class 'core.models.GAM.m_LogisticRegression'>: 0.9225\n",
      "Accuray of <class 'core.models.SVM.SVMClassifier'>: 0.9225\n"
     ]
    },
    {
     "name": "stderr",
     "output_type": "stream",
     "text": [
      "  0%|          | 2/500 [00:00<00:32, 15.24it/s]"
     ]
    },
    {
     "name": "stdout",
     "output_type": "stream",
     "text": [
      "Accuray of <class 'core.models.XGB.XGBOOSTClassifier'>: 0.9225\n",
      "Processing index 62\n",
      "set features: 12\n"
     ]
    },
    {
     "name": "stderr",
     "output_type": "stream",
     "text": [
      "100%|██████████| 500/500 [00:30<00:00, 16.38it/s]\n"
     ]
    },
    {
     "name": "stdout",
     "output_type": "stream",
     "text": [
      "Accuray of <class 'core.models.MLP.MLPClassifier'>: 0.97\n",
      "Accuray of <class 'core.models.RandomForest.m_RandomForestClassifier'>: 0.98\n",
      "Accuray of <class 'core.models.RandomForest.m_RandomForestClassifier'>: 0.9925\n",
      "Accuray of <class 'core.models.RandomForest.m_DecisionTreeClassifier'>: 0.9775\n",
      "Accuray of <class 'core.models.RandomForest.m_DecisionTreeClassifier'>: 1.0\n",
      "Accuray of <class 'core.models.GAM.m_LogisticRegression'>: 0.98\n",
      "Accuray of <class 'core.models.SVM.SVMClassifier'>: 0.98\n",
      "Accuray of <class 'core.models.XGB.XGBOOSTClassifier'>: 0.9775\n"
     ]
    }
   ],
   "source": [
    "# model_perf = {\n",
    "    \n",
    "# }\n",
    "present_idxs = range(len(one_file_dss))\n",
    "\n",
    "for i in present_idxs:  # range(len(one_file_dss)):\n",
    "#     i = 0\n",
    "    # ds = one_file_dss[i][one_file_dss[i]['predicate_op_num_on_non_indexed_attr'] == 0]\n",
    "    print(f\"Processing index {i}\")\n",
    "    ds = one_file_dss[i]\n",
    "    ds_name = one_file_names[i]\n",
    "    \n",
    "    # =========================\n",
    "    X = ds[features]\n",
    "    y = ds['optimal_decision']\n",
    "    X_costs = ds[dl.regression_targets]\n",
    "\n",
    "    from sklearn.model_selection import train_test_split\n",
    "    from sklearn import preprocessing\n",
    "\n",
    "    X_train, X_test, y_train, y_test = train_test_split(X, y, train_size=0.8, random_state=1)\n",
    "    X_train_costs, _, _, _, = train_test_split(X_costs, y, train_size=0.8, random_state=1)\n",
    "    X_train, X_test, y_train, y_test = \\\n",
    "        X_train.to_numpy(),X_test.to_numpy(), y_train.to_numpy(), y_test.to_numpy()\n",
    "\n",
    "    X_train_weights = calculate_importance_from_costs(X_train_costs.to_numpy())\n",
    "\n",
    "    scaler = preprocessing.StandardScaler().fit(X_train)\n",
    "    X_train = scaler.transform(X_train)\n",
    "\n",
    "    # scaler = preprocessing.StandardScaler().fit(X_test)\n",
    "    X_test = scaler.transform(X_test)\n",
    "\n",
    "    X_train_weights = preprocessing.MinMaxScaler().fit_transform(X_train_weights.reshape(-1,1)).flatten()\n",
    "    # =========================\n",
    "    \n",
    "    accs = []\n",
    "    for idx, model_name in enumerate(weighted_clf_model_name_list):\n",
    "        model = weighted_clf_model_list[model_name.split('(')[0]]        \n",
    "        if 'DT' in model_name or 'RF' in model_name:\n",
    "            max_depth = model_name.split('(')[-1].split(')')[0]\n",
    "            if max_depth.lower() == 'u':\n",
    "                max_depth = None\n",
    "            else:\n",
    "                max_depth = int(max_depth)\n",
    "            clf = model().fit(X_train, y_train, sample_weight=X_train_weights, max_depth=max_depth)\n",
    "        elif model_name == 'MLP':\n",
    "            clf = model().fit(X_train, y_train, sample_weight=X_train_weights, max_iter=500, weight_decay=0.000001)\n",
    "        else:\n",
    "            clf = model().fit(X_train, y_train, sample_weight=X_train_weights)\n",
    "            \n",
    "        print(f\"Accuray of {model}: {clf.score(X_test, y_test)}\")\n",
    "        if len(features) == 2:\n",
    "            plot_2d_decision_boundaries(clf, X_train, X_train_costs, y_train, title=f'{model} on {one_file_names[i]}')\n",
    "        \n",
    "        model_accs[model_name].append(clf.score(X_test, y_test))\n",
    "#         accs.append(clf.score(X_test, y_test))\n",
    "        \n",
    "    \n",
    "#     model_perf[ds_name] = accs\n",
    "    "
   ]
  },
  {
   "cell_type": "markdown",
   "id": "unique-material",
   "metadata": {},
   "source": [
    "# Postgres Results"
   ]
  },
  {
   "cell_type": "markdown",
   "id": "thick-secretary",
   "metadata": {},
   "source": [
    "# Plot the graph"
   ]
  },
  {
   "cell_type": "code",
   "execution_count": 13,
   "id": "great-happiness",
   "metadata": {},
   "outputs": [],
   "source": [
    "# import numpy as np\n",
    "# import matplotlib.pyplot as plt\n",
    "\n",
    "# import matplotlib\n",
    "# matplotlib.rcParams['pdf.fonttype'] = 42\n",
    "# matplotlib.rcParams['ps.fonttype'] = 42\n",
    "\n",
    "# # SetPlotRC()\n",
    "# # set width of bar\n",
    "# barWidth = 0.4\n",
    " \n",
    "# # SELECT THE FIRST 4 ROWS of each dataset\n",
    "# # set height of bar\n",
    "\n",
    "# MLP = model_accs['MLP'] # [97,96.5,97.5,96.5,96.5,91.5,96.5,96,100,98.5,100,100]\n",
    "# RF_5 = model_accs['RF(5)'] #[95,95.5,95,96.5,98,90.5,95.5,97,100,98.5,100,100]\n",
    "# # RF_10 =model_accs['RF(10)'] # [95.5, 98,97.5,98,96.5,94.5,98.5,95.5,100,99,100,100]\n",
    "# RF_U = model_accs['RF(U)'] #[97.5,97,98.5,98,99,94,97.5,97.5,100,99.5,100,100]\n",
    "# DT_5 = model_accs['DT(5)'] #[97,97.5,96,97.5,97,90,93,96.5,100,99.5,100,100]\n",
    "# # DT_10 = model_accs['DT(10)'] #[98,98.5,96.5,96.5,97,91.5,95.5,95.5,100,98.5,100,100]\n",
    "# DT_U = model_accs['DT(U)'] #[98,98.5,96.5,96.5,97,92,95,95.5,100,99,100,100]\n",
    "# LR = model_accs['LR'] #[92,83.5,92,94,89.5,91,92,90.5,100,96,100,100]\n",
    "# SVM = model_accs['SVM'] #[85,83,88.5,88,82.5,89,85.5,86.5,100,95.5,100,100]\n",
    "# XGB = model_accs['XGB'] #[85,83,88.5,88,82.5,89,85.5,86.5,100,95.5,100,100]\n",
    "\n",
    "# # MLP = model_accs['MLP'] # [97,96.5,97.5,96.5,96.5,91.5,96.5,96,100,98.5,100,100]\n",
    "# # RF_5 = model_accs['RF(5)'] #[95,95.5,95,96.5,98,90.5,95.5,97,100,98.5,100,100]\n",
    "# # RF_10 =model_accs['RF(10)'] # [95.5, 98,97.5,98,96.5,94.5,98.5,95.5,100,99,100,100]\n",
    "# # RF_U = model_accs['RF(U)'] #[97.5,97,98.5,98,99,94,97.5,97.5,100,99.5,100,100]\n",
    "# # DT_5 = model_accs['DT(5)'] #[97,97.5,96,97.5,97,90,93,96.5,100,99.5,100,100]\n",
    "# # DT_10 = model_accs['DT(10)'] #[98,98.5,96.5,96.5,97,91.5,95.5,95.5,100,98.5,100,100]\n",
    "# # DT_U = model_accs['DT(U)'] #[98,98.5,96.5,96.5,97,92,95,95.5,100,99,100,100]\n",
    "# # LR = model_accs['LR'] #[92,83.5,92,94,89.5,91,92,90.5,100,96,100,100]\n",
    "# # SVM = model_accs['SVM'] #[85,83,88.5,88,82.5,89,85.5,86.5,100,95.5,100,100]\n",
    " \n",
    "# # Set position of bar on X axis\n",
    "# r1 = [i*6 for i in range(12)]\n",
    "# r2 = [x + barWidth for x in r1]\n",
    "# r3 = [x + barWidth for x in r2]\n",
    "# r4 = [x + barWidth for x in r3]\n",
    "# r5 = [x + barWidth for x in r4]\n",
    "# r6 = [x + barWidth for x in r5]\n",
    "# r7 = [x + barWidth for x in r6]\n",
    "# r8 = [x + barWidth for x in r7]\n",
    "# r9 = [x + barWidth for x in r8]\n",
    "# r10 = [x + barWidth for x in r9]\n",
    "\n",
    "# plt.figure(figsize=(40, 5), dpi=300)\n",
    "\n",
    "# axes = plt.gca()\n",
    "# # axes.set_xlim([xmin,xmax])\n",
    "# axes.set_ylim([0, 1])\n",
    "# plt.grid(axis='y')\n",
    "# # Make the plot\n",
    "# plt.bar(r1, MLP, color='tab:blue', width=barWidth, edgecolor='white', label='MLP')\n",
    "# plt.bar(r2, RF_5, color='tab:orange', width=barWidth, edgecolor='white', label='RF(5)')\n",
    "# # plt.bar(r3, RF_10, color='tab:green', width=barWidth, edgecolor='white', label='RF(10)')\n",
    "# plt.bar(r4, RF_U, color='tab:red', width=barWidth, edgecolor='white', label='RF(U)')\n",
    "# plt.bar(r5, DT_5, color='tab:purple', width=barWidth, edgecolor='white', label='DT(5)')\n",
    "# # plt.bar(r6, DT_10, color='tab:brown', width=barWidth, edgecolor='white', label='DT(10)')\n",
    "# plt.bar(r7, DT_U, color='tab:pink', width=barWidth, edgecolor='white', label='DT(U)')\n",
    "# plt.bar(r8, LR, color='tab:gray', width=barWidth, edgecolor='white', label='LR')\n",
    "# plt.bar(r9, SVM, color='tab:olive', width=barWidth, edgecolor='white', label='SVM')\n",
    "# plt.bar(r10, XGB, color='tab:cyan', width=barWidth, edgecolor='white', label='XGB')\n",
    " \n",
    "# # Add xticks on the middle of the group bars\n",
    "# # plt.xlabel('', fontweight='bold')\n",
    "# plt.xticks([r + 4*barWidth for r in r1], ['SSB: part-lineorder', 'SSB: customer-lineorder', 'SSB: ddate-lineorder', \n",
    "#                                                        'SSB: supplier-lineorder', 'TPC-H: customer-orders', \n",
    "#                                           'TPC-H: orders-customer',\n",
    "#                                                        'TPC-H: orders-lineitem', 'TPC-H: part-lineitem',\n",
    "#                                                       'IMDB: title-cast_info', 'IMDB: title-movie_companies', \n",
    "#                                                        'IMDB: title-movie_info_idx' , 'IMDB: title-movie_info'])\n",
    "# axes.tick_params(axis='x', which='major', labelsize=12)\n",
    "# axes.tick_params(axis='y', which='major', labelsize=20)\n",
    "\n",
    "# # Create legend & Show graphic\n",
    "# plt.legend(prop={'size': 10})\n",
    "# plt.savefig(f'./figures/exp1-ML-acc-{engine}.pdf', bbox_inches = 'tight',pad_inches = 0)\n",
    "# plt.show()"
   ]
  },
  {
   "cell_type": "code",
   "execution_count": 16,
   "id": "partial-dallas",
   "metadata": {
    "scrolled": false
   },
   "outputs": [
    {
     "name": "stdout",
     "output_type": "stream",
     "text": [
      "ssb part/mssql_lineorder_part_optimal.csv\n",
      "& \\textbf{ .96 }& \\textbf{ .99 }& \\textbf{ .97 }& \\textbf{ .99 }& .93& .90& .85& .85\n",
      "\n",
      "ssb customer/mssql_lineorder_customer_optimal.csv\n",
      "& \\textbf{ .98 }& \\textbf{ .98 }& \\textbf{ .95 }& \\textbf{ .98 }& \\textbf{ .97 }& .94& .69& .69\n",
      "\n",
      "ssb ddate/mssql_lineorder_ddate_optimal.csv\n",
      "& .88& \\textbf{ .96 }& .77& \\textbf{ .97 }& .94& .91& .72& .69\n",
      "\n",
      "ssb supplier/mssql_lineorder_supplier_optimal.csv\n",
      "& .89& \\textbf{ .97 }& .88& \\textbf{ .96 }& .92& .94& .79& .76\n",
      "\n",
      "ssb lineorder/mssql_part_lineorder_optimal.csv\n",
      "& \\textbf{ 1.00 }& \\textbf{ 1.00 }& \\textbf{ .99 }& \\textbf{ .99 }& \\textbf{ 1.00 }& \\textbf{ 1.00 }& \\textbf{ 1.00 }& \\textbf{ 1.00 }\n",
      "\n",
      "ssb lineorder/mssql_customer_lineorder_optimal.csv\n",
      "& \\textbf{ 1.00 }& \\textbf{ 1.00 }& \\textbf{ 1.00 }& \\textbf{ 1.00 }& \\textbf{ 1.00 }& \\textbf{ 1.00 }& \\textbf{ 1.00 }& \\textbf{ 1.00 }\n",
      "\n",
      "ssb lineorder/mssql_ddate_lineorder_optimal.csv\n",
      "& \\textbf{ .96 }& \\textbf{ .99 }& \\textbf{ .96 }& \\textbf{ .98 }& .93& .93& .85& .85\n",
      "\n",
      "ssb lineorder/mssql_supplier_lineorder_optimal.csv\n",
      "& \\textbf{ .98 }& \\textbf{ .98 }& .94& \\textbf{ .99 }& \\textbf{ .97 }& \\textbf{ .96 }& .69& .69\n",
      "\n",
      "tpch customer/mssql_orders_customer_optimal.csv\n",
      "& .88& \\textbf{ .97 }& .78& \\textbf{ .97 }& .94& \\textbf{ .95 }& .72& .69\n",
      "\n",
      "tpch orders/mssql_customer_orders_optimal.csv\n",
      "& .89& \\textbf{ .96 }& .88& \\textbf{ .96 }& .92& \\textbf{ .95 }& .79& .76\n",
      "\n",
      "tpch orders/mssql_lineitem_orders_optimal.csv\n",
      "& \\textbf{ 1.00 }& \\textbf{ 1.00 }& \\textbf{ 1.00 }& \\textbf{ .99 }& \\textbf{ 1.00 }& \\textbf{ 1.00 }& \\textbf{ 1.00 }& \\textbf{ 1.00 }\n",
      "\n",
      "tpch part/mssql_lineitem_part_optimal.csv\n",
      "& \\textbf{ 1.00 }& \\textbf{ 1.00 }& \\textbf{ 1.00 }& \\textbf{ 1.00 }& \\textbf{ 1.00 }& \\textbf{ 1.00 }& \\textbf{ 1.00 }& \\textbf{ 1.00 }\n",
      "\n",
      "tpch part/mssql_partsupp_part_optimal.csv\n",
      "& \\textbf{ 1.00 }& \\textbf{ 1.00 }& \\textbf{ 1.00 }& \\textbf{ 1.00 }& \\textbf{ 1.00 }& \\textbf{ 1.00 }& \\textbf{ 1.00 }& \\textbf{ 1.00 }\n",
      "\n",
      "tpch partsupp/mssql_lineitem_partsupp_optimal.csv\n",
      "& \\textbf{ 1.00 }& \\textbf{ 1.00 }& \\textbf{ 1.00 }& \\textbf{ 1.00 }& \\textbf{ 1.00 }& \\textbf{ 1.00 }& \\textbf{ 1.00 }& \\textbf{ 1.00 }\n",
      "\n",
      "tpch partsupp/mssql_part_partsupp_optimal.csv\n",
      "& .94& \\textbf{ .96 }& .91& \\textbf{ .97 }& \\textbf{ .95 }& \\textbf{ .97 }& .89& .88\n",
      "\n",
      "tpch partsupp/mssql_supplier_partsupp_optimal.csv\n",
      "& \\textbf{ .97 }& \\textbf{ .98 }& \\textbf{ .98 }& \\textbf{ .98 }& \\textbf{ .97 }& \\textbf{ .99 }& \\textbf{ .97 }& \\textbf{ .97 }\n",
      "\n",
      "tpch supplier/mssql_lineitem_supplier_optimal.csv\n",
      "& .92& .94& .92& \\textbf{ .95 }& .94& \\textbf{ .98 }& .91& .72\n",
      "\n",
      "tpch supplier/mssql_partsupp_supplier_optimal.csv\n",
      "& \\textbf{ .96 }& \\textbf{ .97 }& \\textbf{ .95 }& \\textbf{ .97 }& \\textbf{ .98 }& \\textbf{ .98 }& \\textbf{ .95 }& .94\n",
      "\n",
      "tpch nation/mssql_region_nation_optimal.csv\n",
      "& \\textbf{ .96 }& \\textbf{ .97 }& .94& \\textbf{ .98 }& \\textbf{ .98 }& \\textbf{ .98 }& \\textbf{ .96 }& \\textbf{ .95 }\n",
      "\n",
      "tpch lineitem/mssql_orders_lineitem_optimal.csv\n",
      "& \\textbf{ 1.00 }& \\textbf{ 1.00 }& \\textbf{ 1.00 }& \\textbf{ 1.00 }& \\textbf{ 1.00 }& \\textbf{ 1.00 }& \\textbf{ 1.00 }& \\textbf{ 1.00 }\n",
      "\n",
      "tpch lineitem/mssql_part_lineitem_optimal.csv\n",
      "& \\textbf{ .99 }& \\textbf{ .99 }& \\textbf{ .97 }& \\textbf{ .98 }& .94& \\textbf{ .99 }& .94& .94\n",
      "\n",
      "tpch lineitem/mssql_partsupp_lineitem_optimal.csv\n",
      "& \\textbf{ 1.00 }& \\textbf{ 1.00 }& \\textbf{ 1.00 }& \\textbf{ 1.00 }& \\textbf{ 1.00 }& \\textbf{ 1.00 }& \\textbf{ 1.00 }& \\textbf{ 1.00 }\n",
      "\n",
      "tpch region/mssql_nation_region_optimal.csv\n",
      "& .94& \\textbf{ .95 }& \\textbf{ .95 }& \\textbf{ .95 }& .94& \\textbf{ .96 }& .92& .91\n",
      "\n",
      "tpch_10 customer/mssql_orders_customer_optimal.csv\n",
      "& \\textbf{ .97 }& \\textbf{ .98 }& \\textbf{ .98 }& \\textbf{ .98 }& \\textbf{ .96 }& .93& \\textbf{ .95 }& .94\n",
      "\n",
      "tpch_10 orders/mssql_customer_orders_optimal.csv\n",
      "& \\textbf{ .99 }& \\textbf{ 1.00 }& \\textbf{ .99 }& \\textbf{ .99 }& \\textbf{ .98 }& \\textbf{ .99 }& .93& .92\n",
      "\n",
      "tpch_10 orders/mssql_lineitem_orders_optimal.csv\n",
      "& \\textbf{ .99 }& \\textbf{ .99 }& \\textbf{ .98 }& \\textbf{ .99 }& \\textbf{ .98 }& \\textbf{ .98 }& \\textbf{ .98 }& \\textbf{ .98 }\n",
      "\n",
      "tpch_10 part/mssql_lineitem_part_optimal.csv\n",
      "& \\textbf{ 1.00 }& \\textbf{ 1.00 }& \\textbf{ 1.00 }& \\textbf{ 1.00 }& \\textbf{ 1.00 }& \\textbf{ 1.00 }& \\textbf{ 1.00 }& \\textbf{ 1.00 }\n",
      "\n",
      "tpch_10 part/mssql_partsupp_part_optimal.csv\n",
      "& \\textbf{ 1.00 }& \\textbf{ 1.00 }& \\textbf{ 1.00 }& \\textbf{ 1.00 }& \\textbf{ 1.00 }& \\textbf{ 1.00 }& \\textbf{ 1.00 }& \\textbf{ 1.00 }\n",
      "\n",
      "tpch_10 partsupp/mssql_lineitem_partsupp_optimal.csv\n",
      "& \\textbf{ 1.00 }& \\textbf{ 1.00 }& \\textbf{ 1.00 }& \\textbf{ 1.00 }& \\textbf{ 1.00 }& \\textbf{ 1.00 }& \\textbf{ 1.00 }& \\textbf{ 1.00 }\n",
      "\n",
      "tpch_10 partsupp/mssql_part_partsupp_optimal.csv\n",
      "& \\textbf{ 1.00 }& \\textbf{ .99 }& \\textbf{ .99 }& \\textbf{ 1.00 }& \\textbf{ .97 }& \\textbf{ .98 }& \\textbf{ .98 }& \\textbf{ .98 }\n",
      "\n",
      "tpch_10 partsupp/mssql_supplier_partsupp_optimal.csv\n",
      "& \\textbf{ 1.00 }& \\textbf{ 1.00 }& \\textbf{ .99 }& \\textbf{ 1.00 }& \\textbf{ 1.00 }& \\textbf{ 1.00 }& \\textbf{ 1.00 }& \\textbf{ 1.00 }\n",
      "\n",
      "tpch_10 supplier/mssql_lineitem_supplier_optimal.csv\n",
      "& \\textbf{ 1.00 }& \\textbf{ 1.00 }& \\textbf{ 1.00 }& \\textbf{ 1.00 }& \\textbf{ .99 }& \\textbf{ 1.00 }& \\textbf{ .99 }& \\textbf{ 1.00 }\n",
      "\n",
      "tpch_10 supplier/mssql_partsupp_supplier_optimal.csv\n",
      "& \\textbf{ .99 }& \\textbf{ .98 }& \\textbf{ 1.00 }& \\textbf{ .98 }& \\textbf{ .98 }& \\textbf{ .97 }& \\textbf{ .98 }& \\textbf{ .98 }\n",
      "\n",
      "tpch_10 nation/mssql_region_nation_optimal.csv\n",
      "& \\textbf{ .98 }& \\textbf{ .99 }& \\textbf{ .98 }& \\textbf{ .99 }& \\textbf{ .98 }& \\textbf{ .98 }& \\textbf{ .98 }& \\textbf{ .98 }\n",
      "\n",
      "tpch_10 lineitem/mssql_orders_lineitem_optimal.csv\n",
      "& \\textbf{ 1.00 }& \\textbf{ 1.00 }& \\textbf{ 1.00 }& \\textbf{ 1.00 }& \\textbf{ 1.00 }& \\textbf{ 1.00 }& \\textbf{ 1.00 }& \\textbf{ 1.00 }\n",
      "\n",
      "tpch_10 lineitem/mssql_part_lineitem_optimal.csv\n",
      "& \\textbf{ 1.00 }& \\textbf{ 1.00 }& \\textbf{ .99 }& \\textbf{ .99 }& \\textbf{ .99 }& \\textbf{ .99 }& \\textbf{ .99 }& \\textbf{ .99 }\n",
      "\n",
      "tpch_10 lineitem/mssql_partsupp_lineitem_optimal.csv\n",
      "& \\textbf{ 1.00 }& \\textbf{ 1.00 }& \\textbf{ 1.00 }& \\textbf{ 1.00 }& \\textbf{ 1.00 }& \\textbf{ 1.00 }& \\textbf{ 1.00 }& \\textbf{ 1.00 }\n",
      "\n",
      "tpch_10 region/mssql_nation_region_optimal.csv\n",
      "& .88& .91& .90& .92& .88& .91& .79& .73\n",
      "\n",
      "tpch_100 customer/mssql_orders_customer_optimal.csv\n",
      "& .90& .93& .89& \\textbf{ .95 }& .90& .94& .76& .68\n",
      "\n",
      "tpch_100 orders/mssql_customer_orders_optimal.csv\n",
      "& \\textbf{ .99 }& \\textbf{ 1.00 }& \\textbf{ .99 }& \\textbf{ 1.00 }& \\textbf{ .98 }& \\textbf{ .99 }& .93& .92\n",
      "\n",
      "tpch_100 orders/mssql_lineitem_orders_optimal.csv\n",
      "& \\textbf{ 1.00 }& \\textbf{ 1.00 }& \\textbf{ 1.00 }& \\textbf{ 1.00 }& \\textbf{ 1.00 }& \\textbf{ 1.00 }& \\textbf{ 1.00 }& \\textbf{ 1.00 }\n",
      "\n",
      "tpch_100 part/mssql_lineitem_part_optimal.csv\n",
      "& \\textbf{ 1.00 }& \\textbf{ 1.00 }& \\textbf{ 1.00 }& \\textbf{ 1.00 }& \\textbf{ 1.00 }& \\textbf{ 1.00 }& \\textbf{ 1.00 }& \\textbf{ 1.00 }\n",
      "\n",
      "tpch_100 part/mssql_partsupp_part_optimal.csv\n",
      "& \\textbf{ 1.00 }& \\textbf{ 1.00 }& \\textbf{ 1.00 }& \\textbf{ 1.00 }& \\textbf{ 1.00 }& \\textbf{ 1.00 }& \\textbf{ 1.00 }& \\textbf{ 1.00 }\n",
      "\n",
      "tpch_100 partsupp/mssql_lineitem_partsupp_optimal.csv\n",
      "& \\textbf{ 1.00 }& \\textbf{ 1.00 }& \\textbf{ 1.00 }& \\textbf{ 1.00 }& \\textbf{ 1.00 }& \\textbf{ 1.00 }& \\textbf{ 1.00 }& \\textbf{ 1.00 }\n",
      "\n",
      "tpch_100 partsupp/mssql_part_partsupp_optimal.csv\n",
      "& \\textbf{ 1.00 }& \\textbf{ .99 }& \\textbf{ 1.00 }& \\textbf{ 1.00 }& \\textbf{ .99 }& \\textbf{ .98 }& \\textbf{ .97 }& \\textbf{ .97 }\n",
      "\n",
      "tpch_100 partsupp/mssql_supplier_partsupp_optimal.csv\n",
      "& \\textbf{ 1.00 }& \\textbf{ 1.00 }& \\textbf{ 1.00 }& \\textbf{ 1.00 }& \\textbf{ 1.00 }& \\textbf{ 1.00 }& \\textbf{ 1.00 }& \\textbf{ 1.00 }\n",
      "\n",
      "tpch_100 supplier/mssql_lineitem_supplier_optimal.csv\n",
      "& \\textbf{ .99 }& \\textbf{ .99 }& \\textbf{ .99 }& \\textbf{ .99 }& \\textbf{ .99 }& \\textbf{ .99 }& \\textbf{ .99 }& \\textbf{ .99 }\n",
      "\n",
      "tpch_100 supplier/mssql_partsupp_supplier_optimal.csv\n",
      "& \\textbf{ 1.00 }& \\textbf{ 1.00 }& \\textbf{ 1.00 }& \\textbf{ 1.00 }& \\textbf{ .99 }& \\textbf{ .98 }& \\textbf{ .99 }& \\textbf{ .99 }\n",
      "\n",
      "tpch_100 nation/mssql_region_nation_optimal.csv\n",
      "& \\textbf{ 1.00 }& \\textbf{ 1.00 }& \\textbf{ 1.00 }& \\textbf{ 1.00 }& \\textbf{ 1.00 }& \\textbf{ 1.00 }& \\textbf{ .99 }& \\textbf{ .99 }\n",
      "\n",
      "tpch_100 lineitem/mssql_orders_lineitem_optimal.csv\n",
      "& \\textbf{ 1.00 }& \\textbf{ 1.00 }& \\textbf{ 1.00 }& \\textbf{ 1.00 }& \\textbf{ 1.00 }& \\textbf{ 1.00 }& \\textbf{ 1.00 }& \\textbf{ 1.00 }\n",
      "\n",
      "tpch_100 lineitem/mssql_part_lineitem_optimal.csv\n",
      "& \\textbf{ 1.00 }& \\textbf{ 1.00 }& \\textbf{ 1.00 }& \\textbf{ 1.00 }& \\textbf{ 1.00 }& \\textbf{ 1.00 }& \\textbf{ 1.00 }& \\textbf{ 1.00 }\n",
      "\n",
      "tpch_100 lineitem/mssql_partsupp_lineitem_optimal.csv\n",
      "& \\textbf{ 1.00 }& \\textbf{ 1.00 }& \\textbf{ 1.00 }& \\textbf{ 1.00 }& \\textbf{ 1.00 }& \\textbf{ 1.00 }& \\textbf{ 1.00 }& \\textbf{ 1.00 }\n",
      "\n",
      "tpch_100 region/mssql_nation_region_optimal.csv\n",
      "& \\textbf{ .97 }& \\textbf{ .97 }& \\textbf{ .99 }& \\textbf{ .96 }& \\textbf{ 1.00 }& \\textbf{ .98 }& \\textbf{ .99 }& \\textbf{ .99 }\n",
      "\n",
      "imdb cast_info/mssql_title_cast_info_optimal.csv\n",
      "& \\textbf{ .99 }& \\textbf{ .98 }& \\textbf{ .98 }& \\textbf{ .98 }& \\textbf{ .96 }& \\textbf{ .96 }& .94& .94\n",
      "\n",
      "imdb movie_companies/mssql_title_movie_companies_optimal.csv\n",
      "& \\textbf{ .99 }& \\textbf{ 1.00 }& \\textbf{ .99 }& \\textbf{ 1.00 }& \\textbf{ .98 }& \\textbf{ .99 }& .93& .92\n",
      "\n",
      "imdb movie_info/mssql_title_movie_info_optimal.csv\n",
      "& \\textbf{ 1.00 }& \\textbf{ 1.00 }& \\textbf{ 1.00 }& \\textbf{ 1.00 }& \\textbf{ 1.00 }& \\textbf{ 1.00 }& \\textbf{ 1.00 }& \\textbf{ 1.00 }\n",
      "\n",
      "imdb movie_info_idx/mssql_title_movie_info_idx_optimal.csv\n",
      "& \\textbf{ 1.00 }& \\textbf{ 1.00 }& \\textbf{ 1.00 }& \\textbf{ 1.00 }& \\textbf{ 1.00 }& \\textbf{ 1.00 }& \\textbf{ 1.00 }& \\textbf{ 1.00 }\n",
      "\n",
      "imdb movie_keyword/mssql_title_movie_keyword_optimal.csv\n",
      "& \\textbf{ 1.00 }& \\textbf{ 1.00 }& \\textbf{ 1.00 }& \\textbf{ 1.00 }& \\textbf{ 1.00 }& \\textbf{ 1.00 }& \\textbf{ 1.00 }& \\textbf{ 1.00 }\n",
      "\n",
      "imdb title/mssql_cast_info_title_optimal.csv\n",
      "& \\textbf{ 1.00 }& \\textbf{ 1.00 }& \\textbf{ 1.00 }& \\textbf{ 1.00 }& \\textbf{ 1.00 }& \\textbf{ 1.00 }& \\textbf{ 1.00 }& \\textbf{ 1.00 }\n",
      "\n",
      "imdb title/mssql_movie_companies_title_optimal.csv\n",
      "& \\textbf{ 1.00 }& \\textbf{ 1.00 }& \\textbf{ 1.00 }& \\textbf{ .99 }& \\textbf{ 1.00 }& \\textbf{ 1.00 }& \\textbf{ 1.00 }& \\textbf{ 1.00 }\n",
      "\n",
      "imdb title/mssql_movie_info_idx_title_optimal.csv\n",
      "& \\textbf{ .96 }& \\textbf{ .97 }& \\textbf{ .96 }& \\textbf{ .96 }& .94& .94& .94& .94\n",
      "\n",
      "imdb title/mssql_movie_info_title_optimal.csv\n",
      "& \\textbf{ 1.00 }& \\textbf{ .99 }& \\textbf{ .99 }& \\textbf{ 1.00 }& \\textbf{ .99 }& \\textbf{ .99 }& \\textbf{ .99 }& \\textbf{ .99 }\n",
      "\n",
      "imdb title/mssql_movie_keyword_title_optimal.csv\n",
      "& .94& \\textbf{ .97 }& .92& \\textbf{ .98 }& .89& .94& .87& .87\n",
      "\n",
      "Data written to ./latex_result/exp1_mssql_(random_left)_model_acc.txt\n"
     ]
    }
   ],
   "source": [
    "MLP = model_accs['MLP'] # [97,96.5,97.5,96.5,96.5,91.5,96.5,96,100,98.5,100,100]\n",
    "RF_5 = model_accs['RF(5)'] #[95,95.5,95,96.5,98,90.5,95.5,97,100,98.5,100,100]\n",
    "# RF_10 =model_accs['RF(10)'] # [95.5, 98,97.5,98,96.5,94.5,98.5,95.5,100,99,100,100]\n",
    "RF_U = model_accs['RF(U)'] #[97.5,97,98.5,98,99,94,97.5,97.5,100,99.5,100,100]\n",
    "DT_5 = model_accs['DT(5)'] #[97,97.5,96,97.5,97,90,93,96.5,100,99.5,100,100]\n",
    "# DT_10 = model_accs['DT(10)'] #[98,98.5,96.5,96.5,97,91.5,95.5,95.5,100,98.5,100,100]\n",
    "DT_U = model_accs['DT(U)'] #[98,98.5,96.5,96.5,97,92,95,95.5,100,99,100,100]\n",
    "LR = model_accs['LR'] #[92,83.5,92,94,89.5,91,92,90.5,100,96,100,100]\n",
    "SVM = model_accs['SVM'] #[85,83,88.5,88,82.5,89,85.5,86.5,100,95.5,100,100]\n",
    "XGB = model_accs['XGB'] #[85,83,88.5,88,82.5,89,85.5,86.5,100,95.5,100,100]\n",
    "\n",
    "d = [DT_5, DT_U,  RF_5, RF_U, XGB, MLP, LR, SVM ]\n",
    "result_txt = f'{engine} training results\\nfor models DT_5, DT_U,  RF_5, RF_U, XGB, MLP, LR, SVM\\n'\n",
    "\n",
    "for i in range(len(present_idxs)):\n",
    "    print(f\"{one_file_names[i]}\", end='\\n')\n",
    "    result_txt += f\"{one_file_names[i]} \\n\"\n",
    "    for l in d:\n",
    "        if l[i] >= 0.9451:\n",
    "            s = '& \\\\textbf{ %.2f }' % l[i]\n",
    "        else:\n",
    "            s = '& %.2f' % l[i]\n",
    "        result_txt +=  s.replace('0.', '.')\n",
    "        print(s.replace('0.', '.'), end='')\n",
    "    print(\"\\n\")\n",
    "    result_txt += '\\n'\n",
    "with open(f'./latex_result/exp1_{engine}_(random_left)_model_acc.txt', 'w') as f:\n",
    "    f.write(result_txt)\n",
    "print(f\"Data written to {f'./latex_result/exp1_{engine}_(random_left)_model_acc.txt'}\")"
   ]
  },
  {
   "cell_type": "code",
   "execution_count": null,
   "id": "endless-society",
   "metadata": {},
   "outputs": [],
   "source": []
  }
 ],
 "metadata": {
  "kernelspec": {
   "display_name": "Python 3",
   "language": "python",
   "name": "python3"
  },
  "language_info": {
   "codemirror_mode": {
    "name": "ipython",
    "version": 3
   },
   "file_extension": ".py",
   "mimetype": "text/x-python",
   "name": "python",
   "nbconvert_exporter": "python",
   "pygments_lexer": "ipython3",
   "version": "3.6.9"
  }
 },
 "nbformat": 4,
 "nbformat_minor": 5
}
