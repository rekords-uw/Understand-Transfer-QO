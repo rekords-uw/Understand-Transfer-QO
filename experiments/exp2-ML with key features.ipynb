{
 "cells": [
  {
   "cell_type": "code",
   "execution_count": 1,
   "id": "adverse-relaxation",
   "metadata": {},
   "outputs": [],
   "source": [
    "from core.DataLoader import *\n",
    "from core.models.MLP import * \n",
    "from core.models.GAM import *\n",
    "from core.models.SVM import *\n",
    "# from core.models.EBM import *\n",
    "\n",
    "from core.models.RandomForest import *\n",
    "from core.Visualizer import *\n",
    "from core.models.Classifier import *\n",
    "from core.models.XGB import *"
   ]
  },
  {
   "cell_type": "code",
   "execution_count": 2,
   "id": "virgin-celtic",
   "metadata": {},
   "outputs": [],
   "source": [
    "model_accs = {\n",
    "    'MLP': [],\n",
    "    'RF(5)': [],\n",
    "    'RF(10)': [],\n",
    "    'RF(U)': [],\n",
    "    'DT(5)': [],\n",
    "    'DT(10)': [],\n",
    "    'DT(U)': [],\n",
    "    'LR': [],\n",
    "    'SVM': [],\n",
    "    'XGB': []\n",
    "}\n",
    "# present_idxs = [0, 1, 2, 3, 4, 5, 8 ,12, 21, 22, 23, 24]"
   ]
  },
  {
   "cell_type": "code",
   "execution_count": 3,
   "id": "mobile-supplier",
   "metadata": {},
   "outputs": [],
   "source": [
    "weighted_clf_model_list ={\n",
    "    \"MLP\": MLPClassifier,\n",
    "    \"DT\": m_DecisionTreeClassifier,\n",
    "    \"RF\": m_RandomForestClassifier,\n",
    "    \"LR\": m_LogisticRegression,\n",
    "    \"SVM\": SVMClassifier,\n",
    "    \"XGB\": XGBOOSTClassifier\n",
    "}\n",
    "weighted_clf_model_name_list = ['MLP', 'RF(5)', 'RF(U)', 'DT(5)', 'DT(U)', 'LR', 'SVM', 'XGB']"
   ]
  },
  {
   "cell_type": "code",
   "execution_count": 4,
   "id": "velvet-array",
   "metadata": {},
   "outputs": [],
   "source": [
    "engine = 'mssql'\n",
    "dl = DataLoader(engine)\n",
    "one_file_dss, one_file_names = dl.get_one_file_ds(return_type='ds and names', datasets=['ssb', 'tpch', 'tpch_10', 'tpch_100', 'imdb'], suffix='(random_left)')"
   ]
  },
  {
   "cell_type": "code",
   "execution_count": 5,
   "id": "hairy-puzzle",
   "metadata": {},
   "outputs": [
    {
     "name": "stdout",
     "output_type": "stream",
     "text": [
      "Using features:  ['sel_of_pred_on_indexed_attr', 'left_cardinality']\n"
     ]
    }
   ],
   "source": [
    "key_features = [['sel_of_pred_on_indexed_attr', 'left_cardinality'], \n",
    "                ['sel_of_pred_on_indexed_attr_and_join_pred', 'left_cardinality'],\n",
    "                ['sel_of_pred_on_indexed_attr_and_join_pred', 'sel_of_pred_on_indexed_attr_and_non_indexed_attr'],\n",
    "               ['sel_of_pred_on_indexed_attr_and_join_pred']]\n",
    "\n",
    "# if engine == 'mssql':\n",
    "#     key_features = ['sel_of_pred_on_indexed_attr_and_join_pred', 'left_cardinality']\n",
    "# else:\n",
    "#     key_features = ['sel_of_pred_on_indexed_attr', 'left_cardinality']\n",
    "    \n",
    "classification_target = dl.classification_target\n",
    "\n",
    "if engine == 'mssql':\n",
    "    key_feature_set = 0\n",
    "else:\n",
    "    key_feature_set = 0\n",
    "    \n",
    "features = key_features[key_feature_set]\n",
    "print(\"Using features: \", features)"
   ]
  },
  {
   "cell_type": "code",
   "execution_count": 6,
   "id": "personal-liechtenstein",
   "metadata": {
    "scrolled": true
   },
   "outputs": [
    {
     "name": "stderr",
     "output_type": "stream",
     "text": [
      "\r",
      "  0%|          | 0/500 [00:00<?, ?it/s]"
     ]
    },
    {
     "name": "stdout",
     "output_type": "stream",
     "text": [
      "Processing: 0\n"
     ]
    },
    {
     "name": "stderr",
     "output_type": "stream",
     "text": [
      "100%|██████████| 500/500 [01:07<00:00,  7.46it/s]\n"
     ]
    },
    {
     "name": "stdout",
     "output_type": "stream",
     "text": [
      "Accuray of <class 'core.models.MLP.MLPClassifier'>: 0.8475\n",
      "Accuray of <class 'core.models.RandomForest.m_RandomForestClassifier'>: 0.9425\n",
      "Accuray of <class 'core.models.RandomForest.m_RandomForestClassifier'>: 0.9825\n",
      "Accuray of <class 'core.models.RandomForest.m_DecisionTreeClassifier'>: 0.9475\n",
      "Accuray of <class 'core.models.RandomForest.m_DecisionTreeClassifier'>: 0.9775\n",
      "Accuray of <class 'core.models.GAM.m_LogisticRegression'>: 0.8525\n"
     ]
    },
    {
     "name": "stderr",
     "output_type": "stream",
     "text": [
      "\r",
      "  0%|          | 0/500 [00:00<?, ?it/s]"
     ]
    },
    {
     "name": "stdout",
     "output_type": "stream",
     "text": [
      "Accuray of <class 'core.models.SVM.SVMClassifier'>: 0.855\n",
      "Accuray of <class 'core.models.XGB.XGBOOSTClassifier'>: 0.905\n",
      "Processing: 1\n"
     ]
    },
    {
     "name": "stderr",
     "output_type": "stream",
     "text": [
      "100%|██████████| 500/500 [00:30<00:00, 16.14it/s]\n"
     ]
    },
    {
     "name": "stdout",
     "output_type": "stream",
     "text": [
      "Accuray of <class 'core.models.MLP.MLPClassifier'>: 0.98\n",
      "Accuray of <class 'core.models.RandomForest.m_RandomForestClassifier'>: 0.965\n",
      "Accuray of <class 'core.models.RandomForest.m_RandomForestClassifier'>: 0.9925\n",
      "Accuray of <class 'core.models.RandomForest.m_DecisionTreeClassifier'>: 0.9575\n",
      "Accuray of <class 'core.models.RandomForest.m_DecisionTreeClassifier'>: 0.985\n",
      "Accuray of <class 'core.models.GAM.m_LogisticRegression'>: 0.6675\n"
     ]
    },
    {
     "name": "stderr",
     "output_type": "stream",
     "text": [
      "\r",
      "  0%|          | 0/500 [00:00<?, ?it/s]"
     ]
    },
    {
     "name": "stdout",
     "output_type": "stream",
     "text": [
      "Accuray of <class 'core.models.SVM.SVMClassifier'>: 0.55\n",
      "Accuray of <class 'core.models.XGB.XGBOOSTClassifier'>: 0.97\n",
      "Processing: 2\n"
     ]
    },
    {
     "name": "stderr",
     "output_type": "stream",
     "text": [
      "100%|██████████| 500/500 [00:30<00:00, 16.27it/s]\n"
     ]
    },
    {
     "name": "stdout",
     "output_type": "stream",
     "text": [
      "Accuray of <class 'core.models.MLP.MLPClassifier'>: 0.88\n",
      "Accuray of <class 'core.models.RandomForest.m_RandomForestClassifier'>: 0.8025\n",
      "Accuray of <class 'core.models.RandomForest.m_RandomForestClassifier'>: 0.9475\n",
      "Accuray of <class 'core.models.RandomForest.m_DecisionTreeClassifier'>: 0.8825\n",
      "Accuray of <class 'core.models.RandomForest.m_DecisionTreeClassifier'>: 0.965\n",
      "Accuray of <class 'core.models.GAM.m_LogisticRegression'>: 0.685\n",
      "Accuray of <class 'core.models.SVM.SVMClassifier'>: 0.65\n"
     ]
    },
    {
     "name": "stderr",
     "output_type": "stream",
     "text": [
      "  0%|          | 2/500 [00:00<00:39, 12.66it/s]"
     ]
    },
    {
     "name": "stdout",
     "output_type": "stream",
     "text": [
      "Accuray of <class 'core.models.XGB.XGBOOSTClassifier'>: 0.8575\n",
      "Processing: 3\n"
     ]
    },
    {
     "name": "stderr",
     "output_type": "stream",
     "text": [
      "100%|██████████| 500/500 [00:32<00:00, 15.23it/s]\n"
     ]
    },
    {
     "name": "stdout",
     "output_type": "stream",
     "text": [
      "Accuray of <class 'core.models.MLP.MLPClassifier'>: 0.84\n",
      "Accuray of <class 'core.models.RandomForest.m_RandomForestClassifier'>: 0.8175\n",
      "Accuray of <class 'core.models.RandomForest.m_RandomForestClassifier'>: 0.935\n",
      "Accuray of <class 'core.models.RandomForest.m_DecisionTreeClassifier'>: 0.815\n",
      "Accuray of <class 'core.models.RandomForest.m_DecisionTreeClassifier'>: 0.9325\n",
      "Accuray of <class 'core.models.GAM.m_LogisticRegression'>: 0.7525\n",
      "Accuray of <class 'core.models.SVM.SVMClassifier'>: 0.75\n"
     ]
    },
    {
     "name": "stderr",
     "output_type": "stream",
     "text": [
      "  0%|          | 2/500 [00:00<00:40, 12.44it/s]"
     ]
    },
    {
     "name": "stdout",
     "output_type": "stream",
     "text": [
      "Accuray of <class 'core.models.XGB.XGBOOSTClassifier'>: 0.815\n",
      "Processing: 4\n"
     ]
    },
    {
     "name": "stderr",
     "output_type": "stream",
     "text": [
      "100%|██████████| 500/500 [00:33<00:00, 14.79it/s]\n",
      "  0%|          | 0/500 [00:00<?, ?it/s]"
     ]
    },
    {
     "name": "stdout",
     "output_type": "stream",
     "text": [
      "Accuray of <class 'core.models.MLP.MLPClassifier'>: 0.9975\n",
      "Accuray of <class 'core.models.RandomForest.m_RandomForestClassifier'>: 0.995\n",
      "Accuray of <class 'core.models.RandomForest.m_RandomForestClassifier'>: 0.9925\n",
      "Accuray of <class 'core.models.RandomForest.m_DecisionTreeClassifier'>: 0.9925\n",
      "Accuray of <class 'core.models.RandomForest.m_DecisionTreeClassifier'>: 0.9925\n",
      "Accuray of <class 'core.models.GAM.m_LogisticRegression'>: 0.9975\n",
      "Accuray of <class 'core.models.SVM.SVMClassifier'>: 0.9975\n",
      "Accuray of <class 'core.models.XGB.XGBOOSTClassifier'>: 0.9975\n",
      "Processing: 5\n"
     ]
    },
    {
     "name": "stderr",
     "output_type": "stream",
     "text": [
      "100%|██████████| 500/500 [00:42<00:00, 11.81it/s]\n",
      "  0%|          | 0/500 [00:00<?, ?it/s]"
     ]
    },
    {
     "name": "stdout",
     "output_type": "stream",
     "text": [
      "Accuray of <class 'core.models.MLP.MLPClassifier'>: 1.0\n",
      "Accuray of <class 'core.models.RandomForest.m_RandomForestClassifier'>: 1.0\n",
      "Accuray of <class 'core.models.RandomForest.m_RandomForestClassifier'>: 1.0\n",
      "Accuray of <class 'core.models.RandomForest.m_DecisionTreeClassifier'>: 1.0\n",
      "Accuray of <class 'core.models.RandomForest.m_DecisionTreeClassifier'>: 1.0\n",
      "Accuray of <class 'core.models.GAM.m_LogisticRegression'>: 1.0\n",
      "Accuray of <class 'core.models.SVM.SVMClassifier'>: 1.0\n",
      "Accuray of <class 'core.models.XGB.XGBOOSTClassifier'>: 1.0\n",
      "Processing: 6\n"
     ]
    },
    {
     "name": "stderr",
     "output_type": "stream",
     "text": [
      "100%|██████████| 500/500 [00:32<00:00, 15.43it/s]\n"
     ]
    },
    {
     "name": "stdout",
     "output_type": "stream",
     "text": [
      "Accuray of <class 'core.models.MLP.MLPClassifier'>: 1.0\n",
      "Accuray of <class 'core.models.RandomForest.m_RandomForestClassifier'>: 1.0\n",
      "Accuray of <class 'core.models.RandomForest.m_RandomForestClassifier'>: 1.0\n",
      "Accuray of <class 'core.models.RandomForest.m_DecisionTreeClassifier'>: 1.0\n",
      "Accuray of <class 'core.models.RandomForest.m_DecisionTreeClassifier'>: 1.0\n",
      "Accuray of <class 'core.models.GAM.m_LogisticRegression'>: 1.0\n",
      "Accuray of <class 'core.models.SVM.SVMClassifier'>: 1.0\n"
     ]
    },
    {
     "name": "stderr",
     "output_type": "stream",
     "text": [
      "  0%|          | 2/500 [00:00<00:34, 14.49it/s]"
     ]
    },
    {
     "name": "stdout",
     "output_type": "stream",
     "text": [
      "Accuray of <class 'core.models.XGB.XGBOOSTClassifier'>: 1.0\n",
      "Processing: 7\n"
     ]
    },
    {
     "name": "stderr",
     "output_type": "stream",
     "text": [
      "100%|██████████| 500/500 [00:32<00:00, 15.37it/s]\n",
      "  0%|          | 0/500 [00:00<?, ?it/s]"
     ]
    },
    {
     "name": "stdout",
     "output_type": "stream",
     "text": [
      "Accuray of <class 'core.models.MLP.MLPClassifier'>: 0.9975\n",
      "Accuray of <class 'core.models.RandomForest.m_RandomForestClassifier'>: 0.9975\n",
      "Accuray of <class 'core.models.RandomForest.m_RandomForestClassifier'>: 0.9975\n",
      "Accuray of <class 'core.models.RandomForest.m_DecisionTreeClassifier'>: 0.9975\n",
      "Accuray of <class 'core.models.RandomForest.m_DecisionTreeClassifier'>: 0.9975\n",
      "Accuray of <class 'core.models.GAM.m_LogisticRegression'>: 0.9975\n",
      "Accuray of <class 'core.models.SVM.SVMClassifier'>: 0.9975\n",
      "Accuray of <class 'core.models.XGB.XGBOOSTClassifier'>: 0.9975\n",
      "Processing: 8\n"
     ]
    },
    {
     "name": "stderr",
     "output_type": "stream",
     "text": [
      "100%|██████████| 500/500 [00:30<00:00, 16.46it/s]\n"
     ]
    },
    {
     "name": "stdout",
     "output_type": "stream",
     "text": [
      "Accuray of <class 'core.models.MLP.MLPClassifier'>: 0.815\n",
      "Accuray of <class 'core.models.RandomForest.m_RandomForestClassifier'>: 0.815\n",
      "Accuray of <class 'core.models.RandomForest.m_RandomForestClassifier'>: 0.66\n",
      "Accuray of <class 'core.models.RandomForest.m_DecisionTreeClassifier'>: 0.8125\n",
      "Accuray of <class 'core.models.RandomForest.m_DecisionTreeClassifier'>: 0.6525\n",
      "Accuray of <class 'core.models.GAM.m_LogisticRegression'>: 0.8025\n"
     ]
    },
    {
     "name": "stderr",
     "output_type": "stream",
     "text": [
      "\r",
      "  0%|          | 0/500 [00:00<?, ?it/s]"
     ]
    },
    {
     "name": "stdout",
     "output_type": "stream",
     "text": [
      "Accuray of <class 'core.models.SVM.SVMClassifier'>: 0.8025\n",
      "Accuray of <class 'core.models.XGB.XGBOOSTClassifier'>: 0.815\n",
      "Processing: 9\n"
     ]
    },
    {
     "name": "stderr",
     "output_type": "stream",
     "text": [
      "100%|██████████| 500/500 [00:33<00:00, 15.04it/s]\n"
     ]
    },
    {
     "name": "stdout",
     "output_type": "stream",
     "text": [
      "Accuray of <class 'core.models.MLP.MLPClassifier'>: 0.975\n",
      "Accuray of <class 'core.models.RandomForest.m_RandomForestClassifier'>: 0.9725\n",
      "Accuray of <class 'core.models.RandomForest.m_RandomForestClassifier'>: 0.96\n",
      "Accuray of <class 'core.models.RandomForest.m_DecisionTreeClassifier'>: 0.9675\n",
      "Accuray of <class 'core.models.RandomForest.m_DecisionTreeClassifier'>: 0.9575\n",
      "Accuray of <class 'core.models.GAM.m_LogisticRegression'>: 0.975\n",
      "Accuray of <class 'core.models.SVM.SVMClassifier'>: 0.975\n",
      "Accuray of <class 'core.models.XGB.XGBOOSTClassifier'>: 0.975\n",
      "Processing: 10\n"
     ]
    },
    {
     "name": "stderr",
     "output_type": "stream",
     "text": [
      "100%|██████████| 500/500 [00:30<00:00, 16.49it/s]\n"
     ]
    },
    {
     "name": "stdout",
     "output_type": "stream",
     "text": [
      "Accuray of <class 'core.models.MLP.MLPClassifier'>: 0.92\n",
      "Accuray of <class 'core.models.RandomForest.m_RandomForestClassifier'>: 0.915\n",
      "Accuray of <class 'core.models.RandomForest.m_RandomForestClassifier'>: 0.86\n",
      "Accuray of <class 'core.models.RandomForest.m_DecisionTreeClassifier'>: 0.9175\n",
      "Accuray of <class 'core.models.RandomForest.m_DecisionTreeClassifier'>: 0.855\n",
      "Accuray of <class 'core.models.GAM.m_LogisticRegression'>: 0.8\n"
     ]
    },
    {
     "name": "stderr",
     "output_type": "stream",
     "text": [
      "\r",
      "  0%|          | 0/500 [00:00<?, ?it/s]"
     ]
    },
    {
     "name": "stdout",
     "output_type": "stream",
     "text": [
      "Accuray of <class 'core.models.SVM.SVMClassifier'>: 0.66\n",
      "Accuray of <class 'core.models.XGB.XGBOOSTClassifier'>: 0.9075\n",
      "Processing: 11\n"
     ]
    },
    {
     "name": "stderr",
     "output_type": "stream",
     "text": [
      "100%|██████████| 500/500 [00:27<00:00, 18.01it/s]\n"
     ]
    },
    {
     "name": "stdout",
     "output_type": "stream",
     "text": [
      "Accuray of <class 'core.models.MLP.MLPClassifier'>: 0.9075\n",
      "Accuray of <class 'core.models.RandomForest.m_RandomForestClassifier'>: 0.9075\n",
      "Accuray of <class 'core.models.RandomForest.m_RandomForestClassifier'>: 0.8325\n",
      "Accuray of <class 'core.models.RandomForest.m_DecisionTreeClassifier'>: 0.905\n",
      "Accuray of <class 'core.models.RandomForest.m_DecisionTreeClassifier'>: 0.815\n",
      "Accuray of <class 'core.models.GAM.m_LogisticRegression'>: 0.9\n",
      "Accuray of <class 'core.models.SVM.SVMClassifier'>: 0.9\n"
     ]
    },
    {
     "name": "stderr",
     "output_type": "stream",
     "text": [
      "  0%|          | 2/500 [00:00<00:32, 15.43it/s]"
     ]
    },
    {
     "name": "stdout",
     "output_type": "stream",
     "text": [
      "Accuray of <class 'core.models.XGB.XGBOOSTClassifier'>: 0.9075\n",
      "Processing: 12\n"
     ]
    },
    {
     "name": "stderr",
     "output_type": "stream",
     "text": [
      "100%|██████████| 500/500 [00:30<00:00, 16.41it/s]\n"
     ]
    },
    {
     "name": "stdout",
     "output_type": "stream",
     "text": [
      "Accuray of <class 'core.models.MLP.MLPClassifier'>: 0.91\n",
      "Accuray of <class 'core.models.RandomForest.m_RandomForestClassifier'>: 0.91\n",
      "Accuray of <class 'core.models.RandomForest.m_RandomForestClassifier'>: 0.835\n",
      "Accuray of <class 'core.models.RandomForest.m_DecisionTreeClassifier'>: 0.9075\n",
      "Accuray of <class 'core.models.RandomForest.m_DecisionTreeClassifier'>: 0.82\n",
      "Accuray of <class 'core.models.GAM.m_LogisticRegression'>: 0.905\n",
      "Accuray of <class 'core.models.SVM.SVMClassifier'>: 0.905\n"
     ]
    },
    {
     "name": "stderr",
     "output_type": "stream",
     "text": [
      "  0%|          | 2/500 [00:00<00:41, 11.96it/s]"
     ]
    },
    {
     "name": "stdout",
     "output_type": "stream",
     "text": [
      "Accuray of <class 'core.models.XGB.XGBOOSTClassifier'>: 0.91\n",
      "Processing: 13\n"
     ]
    },
    {
     "name": "stderr",
     "output_type": "stream",
     "text": [
      "100%|██████████| 500/500 [00:31<00:00, 16.07it/s]\n",
      "  0%|          | 0/500 [00:00<?, ?it/s]"
     ]
    },
    {
     "name": "stdout",
     "output_type": "stream",
     "text": [
      "Accuray of <class 'core.models.MLP.MLPClassifier'>: 1.0\n",
      "Accuray of <class 'core.models.RandomForest.m_RandomForestClassifier'>: 1.0\n",
      "Accuray of <class 'core.models.RandomForest.m_RandomForestClassifier'>: 0.9975\n",
      "Accuray of <class 'core.models.RandomForest.m_DecisionTreeClassifier'>: 0.9975\n",
      "Accuray of <class 'core.models.RandomForest.m_DecisionTreeClassifier'>: 0.9975\n",
      "Accuray of <class 'core.models.GAM.m_LogisticRegression'>: 1.0\n",
      "Accuray of <class 'core.models.SVM.SVMClassifier'>: 1.0\n",
      "Accuray of <class 'core.models.XGB.XGBOOSTClassifier'>: 1.0\n",
      "Processing: 14\n"
     ]
    },
    {
     "name": "stderr",
     "output_type": "stream",
     "text": [
      "100%|██████████| 500/500 [00:32<00:00, 15.51it/s]\n"
     ]
    },
    {
     "name": "stdout",
     "output_type": "stream",
     "text": [
      "Accuray of <class 'core.models.MLP.MLPClassifier'>: 0.935\n",
      "Accuray of <class 'core.models.RandomForest.m_RandomForestClassifier'>: 0.935\n",
      "Accuray of <class 'core.models.RandomForest.m_RandomForestClassifier'>: 0.9175\n",
      "Accuray of <class 'core.models.RandomForest.m_DecisionTreeClassifier'>: 0.935\n",
      "Accuray of <class 'core.models.RandomForest.m_DecisionTreeClassifier'>: 0.915\n",
      "Accuray of <class 'core.models.GAM.m_LogisticRegression'>: 0.935\n",
      "Accuray of <class 'core.models.SVM.SVMClassifier'>: 0.935\n"
     ]
    },
    {
     "name": "stderr",
     "output_type": "stream",
     "text": [
      "  0%|          | 2/500 [00:00<00:28, 17.42it/s]"
     ]
    },
    {
     "name": "stdout",
     "output_type": "stream",
     "text": [
      "Accuray of <class 'core.models.XGB.XGBOOSTClassifier'>: 0.935\n",
      "Processing: 15\n"
     ]
    },
    {
     "name": "stderr",
     "output_type": "stream",
     "text": [
      "100%|██████████| 500/500 [00:44<00:00, 11.28it/s]\n",
      "  0%|          | 0/500 [00:00<?, ?it/s]"
     ]
    },
    {
     "name": "stdout",
     "output_type": "stream",
     "text": [
      "Accuray of <class 'core.models.MLP.MLPClassifier'>: 1.0\n",
      "Accuray of <class 'core.models.RandomForest.m_RandomForestClassifier'>: 1.0\n",
      "Accuray of <class 'core.models.RandomForest.m_RandomForestClassifier'>: 1.0\n",
      "Accuray of <class 'core.models.RandomForest.m_DecisionTreeClassifier'>: 1.0\n",
      "Accuray of <class 'core.models.RandomForest.m_DecisionTreeClassifier'>: 1.0\n",
      "Accuray of <class 'core.models.GAM.m_LogisticRegression'>: 1.0\n",
      "Accuray of <class 'core.models.SVM.SVMClassifier'>: 1.0\n",
      "Accuray of <class 'core.models.XGB.XGBOOSTClassifier'>: 1.0\n",
      "Processing: 16\n"
     ]
    },
    {
     "name": "stderr",
     "output_type": "stream",
     "text": [
      "100%|██████████| 500/500 [00:29<00:00, 16.67it/s]\n"
     ]
    },
    {
     "name": "stdout",
     "output_type": "stream",
     "text": [
      "Accuray of <class 'core.models.MLP.MLPClassifier'>: 0.9525\n",
      "Accuray of <class 'core.models.RandomForest.m_RandomForestClassifier'>: 0.945\n",
      "Accuray of <class 'core.models.RandomForest.m_RandomForestClassifier'>: 0.945\n",
      "Accuray of <class 'core.models.RandomForest.m_DecisionTreeClassifier'>: 0.95\n",
      "Accuray of <class 'core.models.RandomForest.m_DecisionTreeClassifier'>: 0.945\n",
      "Accuray of <class 'core.models.GAM.m_LogisticRegression'>: 0.905\n",
      "Accuray of <class 'core.models.SVM.SVMClassifier'>: 0.905\n"
     ]
    },
    {
     "name": "stderr",
     "output_type": "stream",
     "text": [
      "  1%|          | 3/500 [00:00<00:22, 22.36it/s]"
     ]
    },
    {
     "name": "stdout",
     "output_type": "stream",
     "text": [
      "Accuray of <class 'core.models.XGB.XGBOOSTClassifier'>: 0.945\n",
      "Processing: 17\n"
     ]
    },
    {
     "name": "stderr",
     "output_type": "stream",
     "text": [
      "100%|██████████| 500/500 [00:30<00:00, 16.65it/s]\n"
     ]
    },
    {
     "name": "stdout",
     "output_type": "stream",
     "text": [
      "Accuray of <class 'core.models.MLP.MLPClassifier'>: 0.965\n",
      "Accuray of <class 'core.models.RandomForest.m_RandomForestClassifier'>: 0.9675\n",
      "Accuray of <class 'core.models.RandomForest.m_RandomForestClassifier'>: 0.9575\n",
      "Accuray of <class 'core.models.RandomForest.m_DecisionTreeClassifier'>: 0.96\n",
      "Accuray of <class 'core.models.RandomForest.m_DecisionTreeClassifier'>: 0.9525\n",
      "Accuray of <class 'core.models.GAM.m_LogisticRegression'>: 0.9375\n",
      "Accuray of <class 'core.models.SVM.SVMClassifier'>: 0.9375\n"
     ]
    },
    {
     "name": "stderr",
     "output_type": "stream",
     "text": [
      "  0%|          | 2/500 [00:00<00:27, 18.28it/s]"
     ]
    },
    {
     "name": "stdout",
     "output_type": "stream",
     "text": [
      "Accuray of <class 'core.models.XGB.XGBOOSTClassifier'>: 0.965\n",
      "Processing: 18\n"
     ]
    },
    {
     "name": "stderr",
     "output_type": "stream",
     "text": [
      "100%|██████████| 500/500 [00:32<00:00, 15.42it/s]\n"
     ]
    },
    {
     "name": "stdout",
     "output_type": "stream",
     "text": [
      "Accuray of <class 'core.models.MLP.MLPClassifier'>: 0.675\n",
      "Accuray of <class 'core.models.RandomForest.m_RandomForestClassifier'>: 0.6975\n",
      "Accuray of <class 'core.models.RandomForest.m_RandomForestClassifier'>: 0.6825\n",
      "Accuray of <class 'core.models.RandomForest.m_DecisionTreeClassifier'>: 0.695\n",
      "Accuray of <class 'core.models.RandomForest.m_DecisionTreeClassifier'>: 0.6875\n",
      "Accuray of <class 'core.models.GAM.m_LogisticRegression'>: 0.695\n"
     ]
    },
    {
     "name": "stderr",
     "output_type": "stream",
     "text": [
      "\r",
      "  0%|          | 0/500 [00:00<?, ?it/s]"
     ]
    },
    {
     "name": "stdout",
     "output_type": "stream",
     "text": [
      "Accuray of <class 'core.models.SVM.SVMClassifier'>: 0.69\n",
      "Accuray of <class 'core.models.XGB.XGBOOSTClassifier'>: 0.6775\n",
      "Processing: 19\n"
     ]
    },
    {
     "name": "stderr",
     "output_type": "stream",
     "text": [
      "100%|██████████| 500/500 [00:31<00:00, 15.81it/s]\n"
     ]
    },
    {
     "name": "stdout",
     "output_type": "stream",
     "text": [
      "Accuray of <class 'core.models.MLP.MLPClassifier'>: 0.985\n",
      "Accuray of <class 'core.models.RandomForest.m_RandomForestClassifier'>: 0.9825\n",
      "Accuray of <class 'core.models.RandomForest.m_RandomForestClassifier'>: 0.9775\n",
      "Accuray of <class 'core.models.RandomForest.m_DecisionTreeClassifier'>: 0.9775\n",
      "Accuray of <class 'core.models.RandomForest.m_DecisionTreeClassifier'>: 0.9725\n",
      "Accuray of <class 'core.models.GAM.m_LogisticRegression'>: 0.985\n",
      "Accuray of <class 'core.models.SVM.SVMClassifier'>: 0.985\n"
     ]
    },
    {
     "name": "stderr",
     "output_type": "stream",
     "text": [
      "  0%|          | 2/500 [00:00<00:25, 19.43it/s]"
     ]
    },
    {
     "name": "stdout",
     "output_type": "stream",
     "text": [
      "Accuray of <class 'core.models.XGB.XGBOOSTClassifier'>: 0.985\n",
      "Processing: 20\n"
     ]
    },
    {
     "name": "stderr",
     "output_type": "stream",
     "text": [
      "100%|██████████| 500/500 [00:41<00:00, 12.07it/s]\n",
      "  0%|          | 0/500 [00:00<?, ?it/s]"
     ]
    },
    {
     "name": "stdout",
     "output_type": "stream",
     "text": [
      "Accuray of <class 'core.models.MLP.MLPClassifier'>: 1.0\n",
      "Accuray of <class 'core.models.RandomForest.m_RandomForestClassifier'>: 1.0\n",
      "Accuray of <class 'core.models.RandomForest.m_RandomForestClassifier'>: 1.0\n",
      "Accuray of <class 'core.models.RandomForest.m_DecisionTreeClassifier'>: 1.0\n",
      "Accuray of <class 'core.models.RandomForest.m_DecisionTreeClassifier'>: 1.0\n",
      "Accuray of <class 'core.models.GAM.m_LogisticRegression'>: 1.0\n",
      "Accuray of <class 'core.models.SVM.SVMClassifier'>: 1.0\n",
      "Accuray of <class 'core.models.XGB.XGBOOSTClassifier'>: 1.0\n",
      "Processing: 21\n"
     ]
    },
    {
     "name": "stderr",
     "output_type": "stream",
     "text": [
      "100%|██████████| 500/500 [00:42<00:00, 11.78it/s]\n",
      "  0%|          | 0/500 [00:00<?, ?it/s]"
     ]
    },
    {
     "name": "stdout",
     "output_type": "stream",
     "text": [
      "Accuray of <class 'core.models.MLP.MLPClassifier'>: 1.0\n",
      "Accuray of <class 'core.models.RandomForest.m_RandomForestClassifier'>: 1.0\n",
      "Accuray of <class 'core.models.RandomForest.m_RandomForestClassifier'>: 1.0\n",
      "Accuray of <class 'core.models.RandomForest.m_DecisionTreeClassifier'>: 1.0\n",
      "Accuray of <class 'core.models.RandomForest.m_DecisionTreeClassifier'>: 1.0\n",
      "Accuray of <class 'core.models.GAM.m_LogisticRegression'>: 1.0\n",
      "Accuray of <class 'core.models.SVM.SVMClassifier'>: 1.0\n",
      "Accuray of <class 'core.models.XGB.XGBOOSTClassifier'>: 1.0\n",
      "Processing: 22\n"
     ]
    },
    {
     "name": "stderr",
     "output_type": "stream",
     "text": [
      "100%|██████████| 500/500 [00:46<00:00, 10.79it/s]\n",
      "  0%|          | 0/500 [00:00<?, ?it/s]"
     ]
    },
    {
     "name": "stdout",
     "output_type": "stream",
     "text": [
      "Accuray of <class 'core.models.MLP.MLPClassifier'>: 1.0\n",
      "Accuray of <class 'core.models.RandomForest.m_RandomForestClassifier'>: 1.0\n",
      "Accuray of <class 'core.models.RandomForest.m_RandomForestClassifier'>: 1.0\n",
      "Accuray of <class 'core.models.RandomForest.m_DecisionTreeClassifier'>: 1.0\n",
      "Accuray of <class 'core.models.RandomForest.m_DecisionTreeClassifier'>: 1.0\n",
      "Accuray of <class 'core.models.GAM.m_LogisticRegression'>: 1.0\n",
      "Accuray of <class 'core.models.SVM.SVMClassifier'>: 1.0\n",
      "Accuray of <class 'core.models.XGB.XGBOOSTClassifier'>: 1.0\n",
      "Processing: 23\n"
     ]
    },
    {
     "name": "stderr",
     "output_type": "stream",
     "text": [
      "100%|██████████| 500/500 [00:31<00:00, 15.77it/s]\n"
     ]
    },
    {
     "name": "stdout",
     "output_type": "stream",
     "text": [
      "Accuray of <class 'core.models.MLP.MLPClassifier'>: 0.975\n",
      "Accuray of <class 'core.models.RandomForest.m_RandomForestClassifier'>: 1.0\n",
      "Accuray of <class 'core.models.RandomForest.m_RandomForestClassifier'>: 0.9975\n",
      "Accuray of <class 'core.models.RandomForest.m_DecisionTreeClassifier'>: 1.0\n",
      "Accuray of <class 'core.models.RandomForest.m_DecisionTreeClassifier'>: 0.995\n",
      "Accuray of <class 'core.models.GAM.m_LogisticRegression'>: 0.9775\n"
     ]
    },
    {
     "name": "stderr",
     "output_type": "stream",
     "text": [
      "\r",
      "  0%|          | 0/500 [00:00<?, ?it/s]"
     ]
    },
    {
     "name": "stdout",
     "output_type": "stream",
     "text": [
      "Accuray of <class 'core.models.SVM.SVMClassifier'>: 0.9725\n",
      "Accuray of <class 'core.models.XGB.XGBOOSTClassifier'>: 0.9725\n",
      "Processing: 24\n"
     ]
    },
    {
     "name": "stderr",
     "output_type": "stream",
     "text": [
      "100%|██████████| 500/500 [00:32<00:00, 15.55it/s]\n"
     ]
    },
    {
     "name": "stdout",
     "output_type": "stream",
     "text": [
      "Accuray of <class 'core.models.MLP.MLPClassifier'>: 1.0\n",
      "Accuray of <class 'core.models.RandomForest.m_RandomForestClassifier'>: 0.9975\n",
      "Accuray of <class 'core.models.RandomForest.m_RandomForestClassifier'>: 0.99\n",
      "Accuray of <class 'core.models.RandomForest.m_DecisionTreeClassifier'>: 0.985\n",
      "Accuray of <class 'core.models.RandomForest.m_DecisionTreeClassifier'>: 0.985\n",
      "Accuray of <class 'core.models.GAM.m_LogisticRegression'>: 1.0\n",
      "Accuray of <class 'core.models.SVM.SVMClassifier'>: 1.0\n"
     ]
    },
    {
     "name": "stderr",
     "output_type": "stream",
     "text": [
      "  0%|          | 2/500 [00:00<00:38, 13.09it/s]"
     ]
    },
    {
     "name": "stdout",
     "output_type": "stream",
     "text": [
      "Accuray of <class 'core.models.XGB.XGBOOSTClassifier'>: 1.0\n",
      "Processing: 25\n"
     ]
    },
    {
     "name": "stderr",
     "output_type": "stream",
     "text": [
      "100%|██████████| 500/500 [00:33<00:00, 15.00it/s]\n"
     ]
    },
    {
     "name": "stdout",
     "output_type": "stream",
     "text": [
      "Accuray of <class 'core.models.MLP.MLPClassifier'>: 0.99\n",
      "Accuray of <class 'core.models.RandomForest.m_RandomForestClassifier'>: 1.0\n",
      "Accuray of <class 'core.models.RandomForest.m_RandomForestClassifier'>: 1.0\n",
      "Accuray of <class 'core.models.RandomForest.m_DecisionTreeClassifier'>: 1.0\n",
      "Accuray of <class 'core.models.RandomForest.m_DecisionTreeClassifier'>: 1.0\n",
      "Accuray of <class 'core.models.GAM.m_LogisticRegression'>: 0.9775\n",
      "Accuray of <class 'core.models.SVM.SVMClassifier'>: 0.9775\n"
     ]
    },
    {
     "name": "stderr",
     "output_type": "stream",
     "text": [
      "  0%|          | 2/500 [00:00<00:33, 14.89it/s]"
     ]
    },
    {
     "name": "stdout",
     "output_type": "stream",
     "text": [
      "Accuray of <class 'core.models.XGB.XGBOOSTClassifier'>: 0.995\n",
      "Processing: 26\n"
     ]
    },
    {
     "name": "stderr",
     "output_type": "stream",
     "text": [
      "100%|██████████| 500/500 [00:33<00:00, 14.96it/s]\n"
     ]
    },
    {
     "name": "stdout",
     "output_type": "stream",
     "text": [
      "Accuray of <class 'core.models.MLP.MLPClassifier'>: 0.985\n",
      "Accuray of <class 'core.models.RandomForest.m_RandomForestClassifier'>: 0.99\n",
      "Accuray of <class 'core.models.RandomForest.m_RandomForestClassifier'>: 0.985\n",
      "Accuray of <class 'core.models.RandomForest.m_DecisionTreeClassifier'>: 0.985\n",
      "Accuray of <class 'core.models.RandomForest.m_DecisionTreeClassifier'>: 0.985\n",
      "Accuray of <class 'core.models.GAM.m_LogisticRegression'>: 0.985\n",
      "Accuray of <class 'core.models.SVM.SVMClassifier'>: 0.985\n"
     ]
    },
    {
     "name": "stderr",
     "output_type": "stream",
     "text": [
      "  0%|          | 2/500 [00:00<00:33, 14.72it/s]"
     ]
    },
    {
     "name": "stdout",
     "output_type": "stream",
     "text": [
      "Accuray of <class 'core.models.XGB.XGBOOSTClassifier'>: 0.985\n",
      "Processing: 27\n"
     ]
    },
    {
     "name": "stderr",
     "output_type": "stream",
     "text": [
      "100%|██████████| 500/500 [00:32<00:00, 15.41it/s]\n"
     ]
    },
    {
     "name": "stdout",
     "output_type": "stream",
     "text": [
      "Accuray of <class 'core.models.MLP.MLPClassifier'>: 0.98\n",
      "Accuray of <class 'core.models.RandomForest.m_RandomForestClassifier'>: 0.9825\n",
      "Accuray of <class 'core.models.RandomForest.m_RandomForestClassifier'>: 0.99\n",
      "Accuray of <class 'core.models.RandomForest.m_DecisionTreeClassifier'>: 0.9925\n",
      "Accuray of <class 'core.models.RandomForest.m_DecisionTreeClassifier'>: 0.99\n",
      "Accuray of <class 'core.models.GAM.m_LogisticRegression'>: 0.97\n",
      "Accuray of <class 'core.models.SVM.SVMClassifier'>: 0.97\n"
     ]
    },
    {
     "name": "stderr",
     "output_type": "stream",
     "text": [
      "  1%|          | 3/500 [00:00<00:22, 21.97it/s]"
     ]
    },
    {
     "name": "stdout",
     "output_type": "stream",
     "text": [
      "Accuray of <class 'core.models.XGB.XGBOOSTClassifier'>: 0.9775\n",
      "Processing: 28\n"
     ]
    },
    {
     "name": "stderr",
     "output_type": "stream",
     "text": [
      "100%|██████████| 500/500 [00:43<00:00, 11.62it/s]\n",
      "  0%|          | 0/500 [00:00<?, ?it/s]"
     ]
    },
    {
     "name": "stdout",
     "output_type": "stream",
     "text": [
      "Accuray of <class 'core.models.MLP.MLPClassifier'>: 1.0\n",
      "Accuray of <class 'core.models.RandomForest.m_RandomForestClassifier'>: 1.0\n",
      "Accuray of <class 'core.models.RandomForest.m_RandomForestClassifier'>: 1.0\n",
      "Accuray of <class 'core.models.RandomForest.m_DecisionTreeClassifier'>: 1.0\n",
      "Accuray of <class 'core.models.RandomForest.m_DecisionTreeClassifier'>: 1.0\n",
      "Accuray of <class 'core.models.GAM.m_LogisticRegression'>: 1.0\n",
      "Accuray of <class 'core.models.SVM.SVMClassifier'>: 1.0\n",
      "Accuray of <class 'core.models.XGB.XGBOOSTClassifier'>: 1.0\n",
      "Processing: 29\n"
     ]
    },
    {
     "name": "stderr",
     "output_type": "stream",
     "text": [
      "100%|██████████| 500/500 [00:32<00:00, 15.58it/s]\n"
     ]
    },
    {
     "name": "stdout",
     "output_type": "stream",
     "text": [
      "Accuray of <class 'core.models.MLP.MLPClassifier'>: 0.9875\n",
      "Accuray of <class 'core.models.RandomForest.m_RandomForestClassifier'>: 0.9875\n",
      "Accuray of <class 'core.models.RandomForest.m_RandomForestClassifier'>: 0.9775\n",
      "Accuray of <class 'core.models.RandomForest.m_DecisionTreeClassifier'>: 0.9875\n",
      "Accuray of <class 'core.models.RandomForest.m_DecisionTreeClassifier'>: 0.975\n",
      "Accuray of <class 'core.models.GAM.m_LogisticRegression'>: 0.9875\n",
      "Accuray of <class 'core.models.SVM.SVMClassifier'>: 0.9875\n"
     ]
    },
    {
     "name": "stderr",
     "output_type": "stream",
     "text": [
      "  0%|          | 2/500 [00:00<00:37, 13.36it/s]"
     ]
    },
    {
     "name": "stdout",
     "output_type": "stream",
     "text": [
      "Accuray of <class 'core.models.XGB.XGBOOSTClassifier'>: 0.9875\n",
      "Processing: 30\n"
     ]
    },
    {
     "name": "stderr",
     "output_type": "stream",
     "text": [
      "100%|██████████| 500/500 [00:43<00:00, 11.46it/s]\n",
      "  0%|          | 0/500 [00:00<?, ?it/s]"
     ]
    },
    {
     "name": "stdout",
     "output_type": "stream",
     "text": [
      "Accuray of <class 'core.models.MLP.MLPClassifier'>: 1.0\n",
      "Accuray of <class 'core.models.RandomForest.m_RandomForestClassifier'>: 1.0\n",
      "Accuray of <class 'core.models.RandomForest.m_RandomForestClassifier'>: 1.0\n",
      "Accuray of <class 'core.models.RandomForest.m_DecisionTreeClassifier'>: 1.0\n",
      "Accuray of <class 'core.models.RandomForest.m_DecisionTreeClassifier'>: 1.0\n",
      "Accuray of <class 'core.models.GAM.m_LogisticRegression'>: 1.0\n",
      "Accuray of <class 'core.models.SVM.SVMClassifier'>: 1.0\n",
      "Accuray of <class 'core.models.XGB.XGBOOSTClassifier'>: 1.0\n",
      "Processing: 31\n"
     ]
    },
    {
     "name": "stderr",
     "output_type": "stream",
     "text": [
      "100%|██████████| 500/500 [00:33<00:00, 15.04it/s]\n"
     ]
    },
    {
     "name": "stdout",
     "output_type": "stream",
     "text": [
      "Accuray of <class 'core.models.MLP.MLPClassifier'>: 0.8175\n",
      "Accuray of <class 'core.models.RandomForest.m_RandomForestClassifier'>: 0.8025\n",
      "Accuray of <class 'core.models.RandomForest.m_RandomForestClassifier'>: 0.8625\n",
      "Accuray of <class 'core.models.RandomForest.m_DecisionTreeClassifier'>: 0.8225\n",
      "Accuray of <class 'core.models.RandomForest.m_DecisionTreeClassifier'>: 0.8425\n",
      "Accuray of <class 'core.models.GAM.m_LogisticRegression'>: 0.7275\n"
     ]
    },
    {
     "name": "stderr",
     "output_type": "stream",
     "text": [
      "\r",
      "  0%|          | 0/500 [00:00<?, ?it/s]"
     ]
    },
    {
     "name": "stdout",
     "output_type": "stream",
     "text": [
      "Accuray of <class 'core.models.SVM.SVMClassifier'>: 0.7275\n",
      "Accuray of <class 'core.models.XGB.XGBOOSTClassifier'>: 0.8125\n",
      "Processing: 32\n"
     ]
    },
    {
     "name": "stderr",
     "output_type": "stream",
     "text": [
      "100%|██████████| 500/500 [00:32<00:00, 15.57it/s]\n"
     ]
    },
    {
     "name": "stdout",
     "output_type": "stream",
     "text": [
      "Accuray of <class 'core.models.MLP.MLPClassifier'>: 0.815\n",
      "Accuray of <class 'core.models.RandomForest.m_RandomForestClassifier'>: 0.8425\n",
      "Accuray of <class 'core.models.RandomForest.m_RandomForestClassifier'>: 0.915\n",
      "Accuray of <class 'core.models.RandomForest.m_DecisionTreeClassifier'>: 0.8325\n",
      "Accuray of <class 'core.models.RandomForest.m_DecisionTreeClassifier'>: 0.9125\n",
      "Accuray of <class 'core.models.GAM.m_LogisticRegression'>: 0.7\n"
     ]
    },
    {
     "name": "stderr",
     "output_type": "stream",
     "text": [
      "\r",
      "  0%|          | 0/500 [00:00<?, ?it/s]"
     ]
    },
    {
     "name": "stdout",
     "output_type": "stream",
     "text": [
      "Accuray of <class 'core.models.SVM.SVMClassifier'>: 0.6875\n",
      "Accuray of <class 'core.models.XGB.XGBOOSTClassifier'>: 0.84\n",
      "Processing: 33\n"
     ]
    },
    {
     "name": "stderr",
     "output_type": "stream",
     "text": [
      "100%|██████████| 500/500 [00:30<00:00, 16.23it/s]\n"
     ]
    },
    {
     "name": "stdout",
     "output_type": "stream",
     "text": [
      "Accuray of <class 'core.models.MLP.MLPClassifier'>: 0.6825\n",
      "Accuray of <class 'core.models.RandomForest.m_RandomForestClassifier'>: 0.6875\n",
      "Accuray of <class 'core.models.RandomForest.m_RandomForestClassifier'>: 0.7\n",
      "Accuray of <class 'core.models.RandomForest.m_DecisionTreeClassifier'>: 0.695\n",
      "Accuray of <class 'core.models.RandomForest.m_DecisionTreeClassifier'>: 0.6875\n",
      "Accuray of <class 'core.models.GAM.m_LogisticRegression'>: 0.695\n"
     ]
    },
    {
     "name": "stderr",
     "output_type": "stream",
     "text": [
      "\r",
      "  0%|          | 0/500 [00:00<?, ?it/s]"
     ]
    },
    {
     "name": "stdout",
     "output_type": "stream",
     "text": [
      "Accuray of <class 'core.models.SVM.SVMClassifier'>: 0.69\n",
      "Accuray of <class 'core.models.XGB.XGBOOSTClassifier'>: 0.6775\n",
      "Processing: 34\n"
     ]
    },
    {
     "name": "stderr",
     "output_type": "stream",
     "text": [
      "100%|██████████| 500/500 [00:32<00:00, 15.17it/s]\n",
      "  0%|          | 0/500 [00:00<?, ?it/s]"
     ]
    },
    {
     "name": "stdout",
     "output_type": "stream",
     "text": [
      "Accuray of <class 'core.models.MLP.MLPClassifier'>: 1.0\n",
      "Accuray of <class 'core.models.RandomForest.m_RandomForestClassifier'>: 0.9975\n",
      "Accuray of <class 'core.models.RandomForest.m_RandomForestClassifier'>: 0.9975\n",
      "Accuray of <class 'core.models.RandomForest.m_DecisionTreeClassifier'>: 0.9975\n",
      "Accuray of <class 'core.models.RandomForest.m_DecisionTreeClassifier'>: 0.9975\n",
      "Accuray of <class 'core.models.GAM.m_LogisticRegression'>: 1.0\n",
      "Accuray of <class 'core.models.SVM.SVMClassifier'>: 1.0\n",
      "Accuray of <class 'core.models.XGB.XGBOOSTClassifier'>: 1.0\n",
      "Processing: 35\n"
     ]
    },
    {
     "name": "stderr",
     "output_type": "stream",
     "text": [
      "100%|██████████| 500/500 [00:42<00:00, 11.79it/s]\n",
      "  0%|          | 0/500 [00:00<?, ?it/s]"
     ]
    },
    {
     "name": "stdout",
     "output_type": "stream",
     "text": [
      "Accuray of <class 'core.models.MLP.MLPClassifier'>: 1.0\n",
      "Accuray of <class 'core.models.RandomForest.m_RandomForestClassifier'>: 1.0\n",
      "Accuray of <class 'core.models.RandomForest.m_RandomForestClassifier'>: 1.0\n",
      "Accuray of <class 'core.models.RandomForest.m_DecisionTreeClassifier'>: 1.0\n",
      "Accuray of <class 'core.models.RandomForest.m_DecisionTreeClassifier'>: 1.0\n",
      "Accuray of <class 'core.models.GAM.m_LogisticRegression'>: 1.0\n",
      "Accuray of <class 'core.models.SVM.SVMClassifier'>: 1.0\n",
      "Accuray of <class 'core.models.XGB.XGBOOSTClassifier'>: 1.0\n",
      "Processing: 36\n"
     ]
    },
    {
     "name": "stderr",
     "output_type": "stream",
     "text": [
      "100%|██████████| 500/500 [00:41<00:00, 12.18it/s]\n",
      "  0%|          | 0/500 [00:00<?, ?it/s]"
     ]
    },
    {
     "name": "stdout",
     "output_type": "stream",
     "text": [
      "Accuray of <class 'core.models.MLP.MLPClassifier'>: 1.0\n",
      "Accuray of <class 'core.models.RandomForest.m_RandomForestClassifier'>: 1.0\n",
      "Accuray of <class 'core.models.RandomForest.m_RandomForestClassifier'>: 1.0\n",
      "Accuray of <class 'core.models.RandomForest.m_DecisionTreeClassifier'>: 1.0\n",
      "Accuray of <class 'core.models.RandomForest.m_DecisionTreeClassifier'>: 1.0\n",
      "Accuray of <class 'core.models.GAM.m_LogisticRegression'>: 1.0\n",
      "Accuray of <class 'core.models.SVM.SVMClassifier'>: 1.0\n",
      "Accuray of <class 'core.models.XGB.XGBOOSTClassifier'>: 1.0\n",
      "Processing: 37\n"
     ]
    },
    {
     "name": "stderr",
     "output_type": "stream",
     "text": [
      "100%|██████████| 500/500 [00:46<00:00, 10.66it/s]\n",
      "  0%|          | 0/500 [00:00<?, ?it/s]"
     ]
    },
    {
     "name": "stdout",
     "output_type": "stream",
     "text": [
      "Accuray of <class 'core.models.MLP.MLPClassifier'>: 1.0\n",
      "Accuray of <class 'core.models.RandomForest.m_RandomForestClassifier'>: 1.0\n",
      "Accuray of <class 'core.models.RandomForest.m_RandomForestClassifier'>: 1.0\n",
      "Accuray of <class 'core.models.RandomForest.m_DecisionTreeClassifier'>: 1.0\n",
      "Accuray of <class 'core.models.RandomForest.m_DecisionTreeClassifier'>: 1.0\n",
      "Accuray of <class 'core.models.GAM.m_LogisticRegression'>: 1.0\n",
      "Accuray of <class 'core.models.SVM.SVMClassifier'>: 1.0\n",
      "Accuray of <class 'core.models.XGB.XGBOOSTClassifier'>: 1.0\n",
      "Processing: 38\n"
     ]
    },
    {
     "name": "stderr",
     "output_type": "stream",
     "text": [
      "100%|██████████| 500/500 [00:33<00:00, 14.93it/s]\n"
     ]
    },
    {
     "name": "stdout",
     "output_type": "stream",
     "text": [
      "Accuray of <class 'core.models.MLP.MLPClassifier'>: 0.9975\n",
      "Accuray of <class 'core.models.RandomForest.m_RandomForestClassifier'>: 1.0\n",
      "Accuray of <class 'core.models.RandomForest.m_RandomForestClassifier'>: 0.9975\n",
      "Accuray of <class 'core.models.RandomForest.m_DecisionTreeClassifier'>: 0.9975\n",
      "Accuray of <class 'core.models.RandomForest.m_DecisionTreeClassifier'>: 0.9975\n",
      "Accuray of <class 'core.models.GAM.m_LogisticRegression'>: 0.9725\n",
      "Accuray of <class 'core.models.SVM.SVMClassifier'>: 0.9725\n"
     ]
    },
    {
     "name": "stderr",
     "output_type": "stream",
     "text": [
      "  0%|          | 2/500 [00:00<00:37, 13.20it/s]"
     ]
    },
    {
     "name": "stdout",
     "output_type": "stream",
     "text": [
      "Accuray of <class 'core.models.XGB.XGBOOSTClassifier'>: 0.9875\n",
      "Processing: 39\n"
     ]
    },
    {
     "name": "stderr",
     "output_type": "stream",
     "text": [
      "100%|██████████| 500/500 [00:34<00:00, 14.49it/s]\n",
      "  0%|          | 0/500 [00:00<?, ?it/s]"
     ]
    },
    {
     "name": "stdout",
     "output_type": "stream",
     "text": [
      "Accuray of <class 'core.models.MLP.MLPClassifier'>: 1.0\n",
      "Accuray of <class 'core.models.RandomForest.m_RandomForestClassifier'>: 1.0\n",
      "Accuray of <class 'core.models.RandomForest.m_RandomForestClassifier'>: 1.0\n",
      "Accuray of <class 'core.models.RandomForest.m_DecisionTreeClassifier'>: 1.0\n",
      "Accuray of <class 'core.models.RandomForest.m_DecisionTreeClassifier'>: 1.0\n",
      "Accuray of <class 'core.models.GAM.m_LogisticRegression'>: 1.0\n",
      "Accuray of <class 'core.models.SVM.SVMClassifier'>: 1.0\n",
      "Accuray of <class 'core.models.XGB.XGBOOSTClassifier'>: 1.0\n",
      "Processing: 40\n"
     ]
    },
    {
     "name": "stderr",
     "output_type": "stream",
     "text": [
      "100%|██████████| 500/500 [00:33<00:00, 14.94it/s]\n",
      "  0%|          | 0/500 [00:00<?, ?it/s]"
     ]
    },
    {
     "name": "stdout",
     "output_type": "stream",
     "text": [
      "Accuray of <class 'core.models.MLP.MLPClassifier'>: 0.9925\n",
      "Accuray of <class 'core.models.RandomForest.m_RandomForestClassifier'>: 0.9925\n",
      "Accuray of <class 'core.models.RandomForest.m_RandomForestClassifier'>: 1.0\n",
      "Accuray of <class 'core.models.RandomForest.m_DecisionTreeClassifier'>: 0.995\n",
      "Accuray of <class 'core.models.RandomForest.m_DecisionTreeClassifier'>: 0.995\n",
      "Accuray of <class 'core.models.GAM.m_LogisticRegression'>: 0.9925\n",
      "Accuray of <class 'core.models.SVM.SVMClassifier'>: 0.9925\n",
      "Accuray of <class 'core.models.XGB.XGBOOSTClassifier'>: 0.9925\n",
      "Processing: 41\n"
     ]
    },
    {
     "name": "stderr",
     "output_type": "stream",
     "text": [
      "100%|██████████| 500/500 [00:34<00:00, 14.32it/s]\n"
     ]
    },
    {
     "name": "stdout",
     "output_type": "stream",
     "text": [
      "Accuray of <class 'core.models.MLP.MLPClassifier'>: 0.9975\n",
      "Accuray of <class 'core.models.RandomForest.m_RandomForestClassifier'>: 1.0\n",
      "Accuray of <class 'core.models.RandomForest.m_RandomForestClassifier'>: 1.0\n",
      "Accuray of <class 'core.models.RandomForest.m_DecisionTreeClassifier'>: 0.9975\n",
      "Accuray of <class 'core.models.RandomForest.m_DecisionTreeClassifier'>: 0.9975\n",
      "Accuray of <class 'core.models.GAM.m_LogisticRegression'>: 0.9925\n",
      "Accuray of <class 'core.models.SVM.SVMClassifier'>: 0.9925\n"
     ]
    },
    {
     "name": "stderr",
     "output_type": "stream",
     "text": [
      "  0%|          | 2/500 [00:00<00:33, 15.06it/s]"
     ]
    },
    {
     "name": "stdout",
     "output_type": "stream",
     "text": [
      "Accuray of <class 'core.models.XGB.XGBOOSTClassifier'>: 0.9925\n",
      "Processing: 42\n"
     ]
    },
    {
     "name": "stderr",
     "output_type": "stream",
     "text": [
      "100%|██████████| 500/500 [00:33<00:00, 14.73it/s]\n"
     ]
    },
    {
     "name": "stdout",
     "output_type": "stream",
     "text": [
      "Accuray of <class 'core.models.MLP.MLPClassifier'>: 1.0\n",
      "Accuray of <class 'core.models.RandomForest.m_RandomForestClassifier'>: 1.0\n",
      "Accuray of <class 'core.models.RandomForest.m_RandomForestClassifier'>: 1.0\n",
      "Accuray of <class 'core.models.RandomForest.m_DecisionTreeClassifier'>: 1.0\n",
      "Accuray of <class 'core.models.RandomForest.m_DecisionTreeClassifier'>: 1.0\n",
      "Accuray of <class 'core.models.GAM.m_LogisticRegression'>: 0.9825\n",
      "Accuray of <class 'core.models.SVM.SVMClassifier'>: 0.9825\n"
     ]
    },
    {
     "name": "stderr",
     "output_type": "stream",
     "text": [
      "  0%|          | 2/500 [00:00<00:28, 17.51it/s]"
     ]
    },
    {
     "name": "stdout",
     "output_type": "stream",
     "text": [
      "Accuray of <class 'core.models.XGB.XGBOOSTClassifier'>: 0.9975\n",
      "Processing: 43\n"
     ]
    },
    {
     "name": "stderr",
     "output_type": "stream",
     "text": [
      "100%|██████████| 500/500 [00:41<00:00, 12.03it/s]\n",
      "  0%|          | 0/500 [00:00<?, ?it/s]"
     ]
    },
    {
     "name": "stdout",
     "output_type": "stream",
     "text": [
      "Accuray of <class 'core.models.MLP.MLPClassifier'>: 1.0\n",
      "Accuray of <class 'core.models.RandomForest.m_RandomForestClassifier'>: 1.0\n",
      "Accuray of <class 'core.models.RandomForest.m_RandomForestClassifier'>: 1.0\n",
      "Accuray of <class 'core.models.RandomForest.m_DecisionTreeClassifier'>: 1.0\n",
      "Accuray of <class 'core.models.RandomForest.m_DecisionTreeClassifier'>: 1.0\n",
      "Accuray of <class 'core.models.GAM.m_LogisticRegression'>: 1.0\n",
      "Accuray of <class 'core.models.SVM.SVMClassifier'>: 1.0\n",
      "Accuray of <class 'core.models.XGB.XGBOOSTClassifier'>: 1.0\n",
      "Processing: 44\n"
     ]
    },
    {
     "name": "stderr",
     "output_type": "stream",
     "text": [
      "100%|██████████| 500/500 [00:43<00:00, 11.51it/s]\n",
      "  0%|          | 0/500 [00:00<?, ?it/s]"
     ]
    },
    {
     "name": "stdout",
     "output_type": "stream",
     "text": [
      "Accuray of <class 'core.models.MLP.MLPClassifier'>: 0.9975\n",
      "Accuray of <class 'core.models.RandomForest.m_RandomForestClassifier'>: 0.9975\n",
      "Accuray of <class 'core.models.RandomForest.m_RandomForestClassifier'>: 0.9975\n",
      "Accuray of <class 'core.models.RandomForest.m_DecisionTreeClassifier'>: 0.9975\n",
      "Accuray of <class 'core.models.RandomForest.m_DecisionTreeClassifier'>: 0.9975\n",
      "Accuray of <class 'core.models.GAM.m_LogisticRegression'>: 0.9975\n",
      "Accuray of <class 'core.models.SVM.SVMClassifier'>: 0.9975\n",
      "Accuray of <class 'core.models.XGB.XGBOOSTClassifier'>: 0.9975\n",
      "Processing: 45\n"
     ]
    },
    {
     "name": "stderr",
     "output_type": "stream",
     "text": [
      "100%|██████████| 500/500 [00:41<00:00, 12.04it/s]\n",
      "  0%|          | 0/500 [00:00<?, ?it/s]"
     ]
    },
    {
     "name": "stdout",
     "output_type": "stream",
     "text": [
      "Accuray of <class 'core.models.MLP.MLPClassifier'>: 1.0\n",
      "Accuray of <class 'core.models.RandomForest.m_RandomForestClassifier'>: 1.0\n",
      "Accuray of <class 'core.models.RandomForest.m_RandomForestClassifier'>: 1.0\n",
      "Accuray of <class 'core.models.RandomForest.m_DecisionTreeClassifier'>: 1.0\n",
      "Accuray of <class 'core.models.RandomForest.m_DecisionTreeClassifier'>: 1.0\n",
      "Accuray of <class 'core.models.GAM.m_LogisticRegression'>: 1.0\n",
      "Accuray of <class 'core.models.SVM.SVMClassifier'>: 1.0\n",
      "Accuray of <class 'core.models.XGB.XGBOOSTClassifier'>: 1.0\n",
      "Processing: 46\n"
     ]
    },
    {
     "name": "stderr",
     "output_type": "stream",
     "text": [
      "100%|██████████| 500/500 [00:33<00:00, 14.79it/s]\n"
     ]
    },
    {
     "name": "stdout",
     "output_type": "stream",
     "text": [
      "Accuray of <class 'core.models.MLP.MLPClassifier'>: 0.96\n",
      "Accuray of <class 'core.models.RandomForest.m_RandomForestClassifier'>: 0.985\n",
      "Accuray of <class 'core.models.RandomForest.m_RandomForestClassifier'>: 0.97\n",
      "Accuray of <class 'core.models.RandomForest.m_DecisionTreeClassifier'>: 0.9675\n",
      "Accuray of <class 'core.models.RandomForest.m_DecisionTreeClassifier'>: 0.9675\n",
      "Accuray of <class 'core.models.GAM.m_LogisticRegression'>: 0.9875\n",
      "Accuray of <class 'core.models.SVM.SVMClassifier'>: 0.9875\n"
     ]
    },
    {
     "name": "stderr",
     "output_type": "stream",
     "text": [
      "  0%|          | 2/500 [00:00<00:33, 14.93it/s]"
     ]
    },
    {
     "name": "stdout",
     "output_type": "stream",
     "text": [
      "Accuray of <class 'core.models.XGB.XGBOOSTClassifier'>: 0.9975\n",
      "Processing: 47\n"
     ]
    },
    {
     "name": "stderr",
     "output_type": "stream",
     "text": [
      "100%|██████████| 500/500 [00:33<00:00, 14.92it/s]\n"
     ]
    },
    {
     "name": "stdout",
     "output_type": "stream",
     "text": [
      "Accuray of <class 'core.models.MLP.MLPClassifier'>: 0.9775\n",
      "Accuray of <class 'core.models.RandomForest.m_RandomForestClassifier'>: 0.9875\n",
      "Accuray of <class 'core.models.RandomForest.m_RandomForestClassifier'>: 0.985\n",
      "Accuray of <class 'core.models.RandomForest.m_DecisionTreeClassifier'>: 0.9875\n",
      "Accuray of <class 'core.models.RandomForest.m_DecisionTreeClassifier'>: 0.985\n",
      "Accuray of <class 'core.models.GAM.m_LogisticRegression'>: 0.9475\n",
      "Accuray of <class 'core.models.SVM.SVMClassifier'>: 0.945\n"
     ]
    },
    {
     "name": "stderr",
     "output_type": "stream",
     "text": [
      "  0%|          | 2/500 [00:00<00:29, 16.76it/s]"
     ]
    },
    {
     "name": "stdout",
     "output_type": "stream",
     "text": [
      "Accuray of <class 'core.models.XGB.XGBOOSTClassifier'>: 0.96\n",
      "Processing: 48\n"
     ]
    },
    {
     "name": "stderr",
     "output_type": "stream",
     "text": [
      "100%|██████████| 500/500 [00:31<00:00, 15.87it/s]\n"
     ]
    },
    {
     "name": "stdout",
     "output_type": "stream",
     "text": [
      "Accuray of <class 'core.models.MLP.MLPClassifier'>: 0.6625\n",
      "Accuray of <class 'core.models.RandomForest.m_RandomForestClassifier'>: 0.6925\n",
      "Accuray of <class 'core.models.RandomForest.m_RandomForestClassifier'>: 0.7075\n",
      "Accuray of <class 'core.models.RandomForest.m_DecisionTreeClassifier'>: 0.695\n",
      "Accuray of <class 'core.models.RandomForest.m_DecisionTreeClassifier'>: 0.6875\n",
      "Accuray of <class 'core.models.GAM.m_LogisticRegression'>: 0.695\n"
     ]
    },
    {
     "name": "stderr",
     "output_type": "stream",
     "text": [
      "  0%|          | 2/500 [00:00<00:27, 18.20it/s]"
     ]
    },
    {
     "name": "stdout",
     "output_type": "stream",
     "text": [
      "Accuray of <class 'core.models.SVM.SVMClassifier'>: 0.69\n",
      "Accuray of <class 'core.models.XGB.XGBOOSTClassifier'>: 0.6775\n",
      "Processing: 49\n"
     ]
    },
    {
     "name": "stderr",
     "output_type": "stream",
     "text": [
      "100%|██████████| 500/500 [00:41<00:00, 12.00it/s]\n",
      "  0%|          | 0/500 [00:00<?, ?it/s]"
     ]
    },
    {
     "name": "stdout",
     "output_type": "stream",
     "text": [
      "Accuray of <class 'core.models.MLP.MLPClassifier'>: 1.0\n",
      "Accuray of <class 'core.models.RandomForest.m_RandomForestClassifier'>: 1.0\n",
      "Accuray of <class 'core.models.RandomForest.m_RandomForestClassifier'>: 1.0\n",
      "Accuray of <class 'core.models.RandomForest.m_DecisionTreeClassifier'>: 1.0\n",
      "Accuray of <class 'core.models.RandomForest.m_DecisionTreeClassifier'>: 1.0\n",
      "Accuray of <class 'core.models.GAM.m_LogisticRegression'>: 1.0\n",
      "Accuray of <class 'core.models.SVM.SVMClassifier'>: 1.0\n",
      "Accuray of <class 'core.models.XGB.XGBOOSTClassifier'>: 1.0\n",
      "Processing: 50\n"
     ]
    },
    {
     "name": "stderr",
     "output_type": "stream",
     "text": [
      "100%|██████████| 500/500 [00:43<00:00, 11.52it/s]\n",
      "  0%|          | 0/500 [00:00<?, ?it/s]"
     ]
    },
    {
     "name": "stdout",
     "output_type": "stream",
     "text": [
      "Accuray of <class 'core.models.MLP.MLPClassifier'>: 1.0\n",
      "Accuray of <class 'core.models.RandomForest.m_RandomForestClassifier'>: 1.0\n",
      "Accuray of <class 'core.models.RandomForest.m_RandomForestClassifier'>: 1.0\n",
      "Accuray of <class 'core.models.RandomForest.m_DecisionTreeClassifier'>: 1.0\n",
      "Accuray of <class 'core.models.RandomForest.m_DecisionTreeClassifier'>: 1.0\n",
      "Accuray of <class 'core.models.GAM.m_LogisticRegression'>: 1.0\n",
      "Accuray of <class 'core.models.SVM.SVMClassifier'>: 1.0\n",
      "Accuray of <class 'core.models.XGB.XGBOOSTClassifier'>: 1.0\n",
      "Processing: 51\n"
     ]
    },
    {
     "name": "stderr",
     "output_type": "stream",
     "text": [
      "100%|██████████| 500/500 [00:43<00:00, 11.53it/s]\n",
      "  0%|          | 0/500 [00:00<?, ?it/s]"
     ]
    },
    {
     "name": "stdout",
     "output_type": "stream",
     "text": [
      "Accuray of <class 'core.models.MLP.MLPClassifier'>: 1.0\n",
      "Accuray of <class 'core.models.RandomForest.m_RandomForestClassifier'>: 1.0\n",
      "Accuray of <class 'core.models.RandomForest.m_RandomForestClassifier'>: 1.0\n",
      "Accuray of <class 'core.models.RandomForest.m_DecisionTreeClassifier'>: 1.0\n",
      "Accuray of <class 'core.models.RandomForest.m_DecisionTreeClassifier'>: 1.0\n",
      "Accuray of <class 'core.models.GAM.m_LogisticRegression'>: 1.0\n",
      "Accuray of <class 'core.models.SVM.SVMClassifier'>: 1.0\n",
      "Accuray of <class 'core.models.XGB.XGBOOSTClassifier'>: 1.0\n",
      "Processing: 52\n"
     ]
    },
    {
     "name": "stderr",
     "output_type": "stream",
     "text": [
      "100%|██████████| 500/500 [00:43<00:00, 11.46it/s]\n",
      "  0%|          | 0/500 [00:00<?, ?it/s]"
     ]
    },
    {
     "name": "stdout",
     "output_type": "stream",
     "text": [
      "Accuray of <class 'core.models.MLP.MLPClassifier'>: 1.0\n",
      "Accuray of <class 'core.models.RandomForest.m_RandomForestClassifier'>: 1.0\n",
      "Accuray of <class 'core.models.RandomForest.m_RandomForestClassifier'>: 1.0\n",
      "Accuray of <class 'core.models.RandomForest.m_DecisionTreeClassifier'>: 1.0\n",
      "Accuray of <class 'core.models.RandomForest.m_DecisionTreeClassifier'>: 1.0\n",
      "Accuray of <class 'core.models.GAM.m_LogisticRegression'>: 1.0\n",
      "Accuray of <class 'core.models.SVM.SVMClassifier'>: 1.0\n",
      "Accuray of <class 'core.models.XGB.XGBOOSTClassifier'>: 1.0\n",
      "Processing: 53\n"
     ]
    },
    {
     "name": "stderr",
     "output_type": "stream",
     "text": [
      "100%|██████████| 500/500 [00:33<00:00, 14.97it/s]\n"
     ]
    },
    {
     "name": "stdout",
     "output_type": "stream",
     "text": [
      "Accuray of <class 'core.models.MLP.MLPClassifier'>: 0.9975\n",
      "Accuray of <class 'core.models.RandomForest.m_RandomForestClassifier'>: 0.995\n",
      "Accuray of <class 'core.models.RandomForest.m_RandomForestClassifier'>: 0.995\n",
      "Accuray of <class 'core.models.RandomForest.m_DecisionTreeClassifier'>: 0.99\n",
      "Accuray of <class 'core.models.RandomForest.m_DecisionTreeClassifier'>: 0.99\n",
      "Accuray of <class 'core.models.GAM.m_LogisticRegression'>: 0.9975\n",
      "Accuray of <class 'core.models.SVM.SVMClassifier'>: 0.9975\n"
     ]
    },
    {
     "name": "stderr",
     "output_type": "stream",
     "text": [
      "  0%|          | 2/500 [00:00<00:27, 18.41it/s]"
     ]
    },
    {
     "name": "stdout",
     "output_type": "stream",
     "text": [
      "Accuray of <class 'core.models.XGB.XGBOOSTClassifier'>: 0.9975\n",
      "Processing: 54\n"
     ]
    },
    {
     "name": "stderr",
     "output_type": "stream",
     "text": [
      "100%|██████████| 500/500 [00:31<00:00, 15.68it/s]\n"
     ]
    },
    {
     "name": "stdout",
     "output_type": "stream",
     "text": [
      "Accuray of <class 'core.models.MLP.MLPClassifier'>: 0.945\n",
      "Accuray of <class 'core.models.RandomForest.m_RandomForestClassifier'>: 0.9475\n",
      "Accuray of <class 'core.models.RandomForest.m_RandomForestClassifier'>: 0.9475\n",
      "Accuray of <class 'core.models.RandomForest.m_DecisionTreeClassifier'>: 0.95\n",
      "Accuray of <class 'core.models.RandomForest.m_DecisionTreeClassifier'>: 0.9475\n",
      "Accuray of <class 'core.models.GAM.m_LogisticRegression'>: 0.945\n",
      "Accuray of <class 'core.models.SVM.SVMClassifier'>: 0.945\n"
     ]
    },
    {
     "name": "stderr",
     "output_type": "stream",
     "text": [
      "  0%|          | 2/500 [00:00<00:34, 14.23it/s]"
     ]
    },
    {
     "name": "stdout",
     "output_type": "stream",
     "text": [
      "Accuray of <class 'core.models.XGB.XGBOOSTClassifier'>: 0.945\n",
      "Processing: 55\n"
     ]
    },
    {
     "name": "stderr",
     "output_type": "stream",
     "text": [
      "100%|██████████| 500/500 [00:29<00:00, 16.89it/s]\n"
     ]
    },
    {
     "name": "stdout",
     "output_type": "stream",
     "text": [
      "Accuray of <class 'core.models.MLP.MLPClassifier'>: 0.99\n",
      "Accuray of <class 'core.models.RandomForest.m_RandomForestClassifier'>: 0.99\n",
      "Accuray of <class 'core.models.RandomForest.m_RandomForestClassifier'>: 0.9925\n",
      "Accuray of <class 'core.models.RandomForest.m_DecisionTreeClassifier'>: 0.99\n",
      "Accuray of <class 'core.models.RandomForest.m_DecisionTreeClassifier'>: 0.995\n",
      "Accuray of <class 'core.models.GAM.m_LogisticRegression'>: 0.99\n",
      "Accuray of <class 'core.models.SVM.SVMClassifier'>: 0.99\n",
      "Accuray of <class 'core.models.XGB.XGBOOSTClassifier'>: 0.99\n",
      "Processing: 56\n"
     ]
    },
    {
     "name": "stderr",
     "output_type": "stream",
     "text": [
      "100%|██████████| 500/500 [00:30<00:00, 16.61it/s]\n"
     ]
    },
    {
     "name": "stdout",
     "output_type": "stream",
     "text": [
      "Accuray of <class 'core.models.MLP.MLPClassifier'>: 0.8925\n",
      "Accuray of <class 'core.models.RandomForest.m_RandomForestClassifier'>: 0.89\n",
      "Accuray of <class 'core.models.RandomForest.m_RandomForestClassifier'>: 0.92\n",
      "Accuray of <class 'core.models.RandomForest.m_DecisionTreeClassifier'>: 0.9\n",
      "Accuray of <class 'core.models.RandomForest.m_DecisionTreeClassifier'>: 0.9125\n",
      "Accuray of <class 'core.models.GAM.m_LogisticRegression'>: 0.8675\n",
      "Accuray of <class 'core.models.SVM.SVMClassifier'>: 0.8675\n"
     ]
    },
    {
     "name": "stderr",
     "output_type": "stream",
     "text": [
      "  0%|          | 2/500 [00:00<00:36, 13.81it/s]"
     ]
    },
    {
     "name": "stdout",
     "output_type": "stream",
     "text": [
      "Accuray of <class 'core.models.XGB.XGBOOSTClassifier'>: 0.88\n",
      "Processing: 57\n"
     ]
    },
    {
     "name": "stderr",
     "output_type": "stream",
     "text": [
      "100%|██████████| 500/500 [00:29<00:00, 17.20it/s]\n",
      "  0%|          | 0/500 [00:00<?, ?it/s]"
     ]
    },
    {
     "name": "stdout",
     "output_type": "stream",
     "text": [
      "Accuray of <class 'core.models.MLP.MLPClassifier'>: 0.9925\n",
      "Accuray of <class 'core.models.RandomForest.m_RandomForestClassifier'>: 0.9925\n",
      "Accuray of <class 'core.models.RandomForest.m_RandomForestClassifier'>: 0.9925\n",
      "Accuray of <class 'core.models.RandomForest.m_DecisionTreeClassifier'>: 0.9925\n",
      "Accuray of <class 'core.models.RandomForest.m_DecisionTreeClassifier'>: 0.9875\n",
      "Accuray of <class 'core.models.GAM.m_LogisticRegression'>: 0.9925\n",
      "Accuray of <class 'core.models.SVM.SVMClassifier'>: 0.9925\n",
      "Accuray of <class 'core.models.XGB.XGBOOSTClassifier'>: 0.9925\n",
      "Processing: 58\n"
     ]
    },
    {
     "name": "stderr",
     "output_type": "stream",
     "text": [
      "100%|██████████| 500/500 [00:21<00:00, 23.07it/s]\n"
     ]
    },
    {
     "name": "stdout",
     "output_type": "stream",
     "text": [
      "Accuray of <class 'core.models.MLP.MLPClassifier'>: 0.9875\n",
      "Accuray of <class 'core.models.RandomForest.m_RandomForestClassifier'>: 0.9875\n",
      "Accuray of <class 'core.models.RandomForest.m_RandomForestClassifier'>: 0.995\n",
      "Accuray of <class 'core.models.RandomForest.m_DecisionTreeClassifier'>: 0.99\n",
      "Accuray of <class 'core.models.RandomForest.m_DecisionTreeClassifier'>: 0.995\n",
      "Accuray of <class 'core.models.GAM.m_LogisticRegression'>: 0.985\n",
      "Accuray of <class 'core.models.SVM.SVMClassifier'>: 0.985\n"
     ]
    },
    {
     "name": "stderr",
     "output_type": "stream",
     "text": [
      "  1%|          | 3/500 [00:00<00:22, 22.33it/s]"
     ]
    },
    {
     "name": "stdout",
     "output_type": "stream",
     "text": [
      "Accuray of <class 'core.models.XGB.XGBOOSTClassifier'>: 0.985\n",
      "Processing: 59\n"
     ]
    },
    {
     "name": "stderr",
     "output_type": "stream",
     "text": [
      "100%|██████████| 500/500 [00:21<00:00, 23.07it/s]\n"
     ]
    },
    {
     "name": "stdout",
     "output_type": "stream",
     "text": [
      "Accuray of <class 'core.models.MLP.MLPClassifier'>: 0.9825\n",
      "Accuray of <class 'core.models.RandomForest.m_RandomForestClassifier'>: 0.985\n",
      "Accuray of <class 'core.models.RandomForest.m_RandomForestClassifier'>: 0.985\n",
      "Accuray of <class 'core.models.RandomForest.m_DecisionTreeClassifier'>: 0.985\n",
      "Accuray of <class 'core.models.RandomForest.m_DecisionTreeClassifier'>: 0.9875\n",
      "Accuray of <class 'core.models.GAM.m_LogisticRegression'>: 0.9825\n",
      "Accuray of <class 'core.models.SVM.SVMClassifier'>: 0.9825\n"
     ]
    },
    {
     "name": "stderr",
     "output_type": "stream",
     "text": [
      "  1%|          | 3/500 [00:00<00:19, 25.38it/s]"
     ]
    },
    {
     "name": "stdout",
     "output_type": "stream",
     "text": [
      "Accuray of <class 'core.models.XGB.XGBOOSTClassifier'>: 0.9825\n",
      "Processing: 60\n"
     ]
    },
    {
     "name": "stderr",
     "output_type": "stream",
     "text": [
      "100%|██████████| 500/500 [00:21<00:00, 23.06it/s]\n"
     ]
    },
    {
     "name": "stdout",
     "output_type": "stream",
     "text": [
      "Accuray of <class 'core.models.MLP.MLPClassifier'>: 0.9025\n",
      "Accuray of <class 'core.models.RandomForest.m_RandomForestClassifier'>: 0.955\n",
      "Accuray of <class 'core.models.RandomForest.m_RandomForestClassifier'>: 0.9675\n",
      "Accuray of <class 'core.models.RandomForest.m_DecisionTreeClassifier'>: 0.9525\n",
      "Accuray of <class 'core.models.RandomForest.m_DecisionTreeClassifier'>: 0.965\n",
      "Accuray of <class 'core.models.GAM.m_LogisticRegression'>: 0.8975\n",
      "Accuray of <class 'core.models.SVM.SVMClassifier'>: 0.8975\n"
     ]
    },
    {
     "name": "stderr",
     "output_type": "stream",
     "text": [
      "  1%|          | 3/500 [00:00<00:16, 29.34it/s]"
     ]
    },
    {
     "name": "stdout",
     "output_type": "stream",
     "text": [
      "Accuray of <class 'core.models.XGB.XGBOOSTClassifier'>: 0.8975\n",
      "Processing: 61\n"
     ]
    },
    {
     "name": "stderr",
     "output_type": "stream",
     "text": [
      "100%|██████████| 500/500 [00:20<00:00, 24.37it/s]\n"
     ]
    },
    {
     "name": "stdout",
     "output_type": "stream",
     "text": [
      "Accuray of <class 'core.models.MLP.MLPClassifier'>: 0.9575\n",
      "Accuray of <class 'core.models.RandomForest.m_RandomForestClassifier'>: 0.96\n",
      "Accuray of <class 'core.models.RandomForest.m_RandomForestClassifier'>: 0.9575\n",
      "Accuray of <class 'core.models.RandomForest.m_DecisionTreeClassifier'>: 0.96\n",
      "Accuray of <class 'core.models.RandomForest.m_DecisionTreeClassifier'>: 0.955\n",
      "Accuray of <class 'core.models.GAM.m_LogisticRegression'>: 0.9225\n",
      "Accuray of <class 'core.models.SVM.SVMClassifier'>: 0.9225\n"
     ]
    },
    {
     "name": "stderr",
     "output_type": "stream",
     "text": [
      "  1%|          | 3/500 [00:00<00:18, 26.20it/s]"
     ]
    },
    {
     "name": "stdout",
     "output_type": "stream",
     "text": [
      "Accuray of <class 'core.models.XGB.XGBOOSTClassifier'>: 0.9225\n",
      "Processing: 62\n"
     ]
    },
    {
     "name": "stderr",
     "output_type": "stream",
     "text": [
      "100%|██████████| 500/500 [00:20<00:00, 24.11it/s]\n"
     ]
    },
    {
     "name": "stdout",
     "output_type": "stream",
     "text": [
      "Accuray of <class 'core.models.MLP.MLPClassifier'>: 0.9775\n",
      "Accuray of <class 'core.models.RandomForest.m_RandomForestClassifier'>: 0.985\n",
      "Accuray of <class 'core.models.RandomForest.m_RandomForestClassifier'>: 1.0\n",
      "Accuray of <class 'core.models.RandomForest.m_DecisionTreeClassifier'>: 0.975\n",
      "Accuray of <class 'core.models.RandomForest.m_DecisionTreeClassifier'>: 0.99\n",
      "Accuray of <class 'core.models.GAM.m_LogisticRegression'>: 0.9775\n",
      "Accuray of <class 'core.models.SVM.SVMClassifier'>: 0.9775\n",
      "Accuray of <class 'core.models.XGB.XGBOOSTClassifier'>: 0.9775\n"
     ]
    }
   ],
   "source": [
    "# model_perf = {\n",
    "    \n",
    "# }\n",
    "\n",
    "present_idxs = range(len(one_file_dss))\n",
    "\n",
    "for i in present_idxs:  # range(len(one_file_dss)):\n",
    "#     i = 0\n",
    "    print(f\"Processing: {i}\")\n",
    "    # ds = one_file_dss[i][one_file_dss[i]['predicate_op_num_on_non_indexed_attr'] == 0]\n",
    "    ds = one_file_dss[i]\n",
    "    ds_name = one_file_names[i]\n",
    "    \n",
    "    # =========================\n",
    "    X = ds[features]\n",
    "    y = ds['optimal_decision']\n",
    "    X_costs = ds[dl.regression_targets]\n",
    "\n",
    "    from sklearn.model_selection import train_test_split\n",
    "    from sklearn import preprocessing\n",
    "\n",
    "    X_train, X_test, y_train, y_test = train_test_split(X, y, train_size=0.8, random_state=1)\n",
    "    X_train_costs, _, _, _, = train_test_split(X_costs, y, train_size=0.8, random_state=1)\n",
    "    X_train, X_test, y_train, y_test = \\\n",
    "        X_train.to_numpy(),X_test.to_numpy(), y_train.to_numpy(), y_test.to_numpy()\n",
    "\n",
    "    X_train_weights = calculate_importance_from_costs(X_train_costs.to_numpy())\n",
    "\n",
    "    scaler = preprocessing.StandardScaler().fit(X_train)\n",
    "    X_train = scaler.transform(X_train)\n",
    "\n",
    "    # scaler = preprocessing.StandardScaler().fit(X_test)\n",
    "    X_test = scaler.transform(X_test)\n",
    "\n",
    "    X_train_weights = preprocessing.MinMaxScaler().fit_transform(X_train_weights.reshape(-1,1)).flatten()\n",
    "    # =========================\n",
    "    \n",
    "    accs = []\n",
    "    for idx, model_name in enumerate(weighted_clf_model_name_list):\n",
    "        model = weighted_clf_model_list[model_name.split('(')[0]]        \n",
    "        if 'DT' in model_name or 'RF' in model_name:\n",
    "            max_depth = model_name.split('(')[-1].split(')')[0]\n",
    "            if max_depth.lower() == 'u':\n",
    "                max_depth = None\n",
    "            else:\n",
    "                max_depth = int(max_depth)\n",
    "            clf = model().fit(X_train, y_train, sample_weight=X_train_weights, max_depth=max_depth)\n",
    "        elif model_name == 'MLP':\n",
    "            clf = model().fit(X_train, y_train, sample_weight=X_train_weights, max_iter=500, weight_decay=0.000001)\n",
    "        else:\n",
    "            clf = model().fit(X_train, y_train, sample_weight=X_train_weights)\n",
    "            \n",
    "        print(f\"Accuray of {model}: {clf.score(X_test, y_test)}\")\n",
    "#         if len(features) == 2:\n",
    "#             plot_2d_decision_boundaries(clf, scaler.inverse_transform(X_train), X_train_costs, y_train, title=f'{model} on {one_file_names[i]}')\n",
    "        \n",
    "        model_accs[model_name].append(clf.score(X_test, y_test))\n",
    "#         accs.append(clf.score(X_test, y_test))\n",
    "        \n",
    "    \n",
    "#     model_perf[ds_name] = accs\n",
    "#     break\n",
    "    "
   ]
  },
  {
   "cell_type": "markdown",
   "id": "thick-secretary",
   "metadata": {},
   "source": [
    "# Plot the graph"
   ]
  },
  {
   "cell_type": "code",
   "execution_count": 7,
   "id": "great-happiness",
   "metadata": {},
   "outputs": [],
   "source": [
    "# import numpy as np\n",
    "# import matplotlib.pyplot as plt\n",
    "\n",
    "# import matplotlib\n",
    "# matplotlib.rcParams['pdf.fonttype'] = 42\n",
    "# matplotlib.rcParams['ps.fonttype'] = 42\n",
    "\n",
    "# # SetPlotRC()\n",
    "# # set width of bar\n",
    "# barWidth = 0.4\n",
    " \n",
    "# # SELECT THE FIRST 4 ROWS of each dataset\n",
    "# # set height of bar\n",
    "\n",
    "# MLP = model_accs['MLP'] # [97,96.5,97.5,96.5,96.5,91.5,96.5,96,100,98.5,100,100]\n",
    "# RF_5 = model_accs['RF(5)'] #[95,95.5,95,96.5,98,90.5,95.5,97,100,98.5,100,100]\n",
    "# # RF_10 =model_accs['RF(10)'] # [95.5, 98,97.5,98,96.5,94.5,98.5,95.5,100,99,100,100]\n",
    "# RF_U = model_accs['RF(U)'] #[97.5,97,98.5,98,99,94,97.5,97.5,100,99.5,100,100]\n",
    "# DT_5 = model_accs['DT(5)'] #[97,97.5,96,97.5,97,90,93,96.5,100,99.5,100,100]\n",
    "# # DT_10 = model_accs['DT(10)'] #[98,98.5,96.5,96.5,97,91.5,95.5,95.5,100,98.5,100,100]\n",
    "# DT_U = model_accs['DT(U)'] #[98,98.5,96.5,96.5,97,92,95,95.5,100,99,100,100]\n",
    "# LR = model_accs['LR'] #[92,83.5,92,94,89.5,91,92,90.5,100,96,100,100]\n",
    "# SVM = model_accs['SVM'] #[85,83,88.5,88,82.5,89,85.5,86.5,100,95.5,100,100]\n",
    "# XGB = model_accs['XGB'] #[85,83,88.5,88,82.5,89,85.5,86.5,100,95.5,100,100]\n",
    "\n",
    "# # MLP = model_accs['MLP'] # [97,96.5,97.5,96.5,96.5,91.5,96.5,96,100,98.5,100,100]\n",
    "# # RF_5 = model_accs['RF(5)'] #[95,95.5,95,96.5,98,90.5,95.5,97,100,98.5,100,100]\n",
    "# # RF_10 =model_accs['RF(10)'] # [95.5, 98,97.5,98,96.5,94.5,98.5,95.5,100,99,100,100]\n",
    "# # RF_U = model_accs['RF(U)'] #[97.5,97,98.5,98,99,94,97.5,97.5,100,99.5,100,100]\n",
    "# # DT_5 = model_accs['DT(5)'] #[97,97.5,96,97.5,97,90,93,96.5,100,99.5,100,100]\n",
    "# # DT_10 = model_accs['DT(10)'] #[98,98.5,96.5,96.5,97,91.5,95.5,95.5,100,98.5,100,100]\n",
    "# # DT_U = model_accs['DT(U)'] #[98,98.5,96.5,96.5,97,92,95,95.5,100,99,100,100]\n",
    "# # LR = model_accs['LR'] #[92,83.5,92,94,89.5,91,92,90.5,100,96,100,100]\n",
    "# # SVM = model_accs['SVM'] #[85,83,88.5,88,82.5,89,85.5,86.5,100,95.5,100,100]\n",
    " \n",
    "# # Set position of bar on X axis\n",
    "# r1 = [i*6 for i in range(12)]\n",
    "# r2 = [x + barWidth for x in r1]\n",
    "# r3 = [x + barWidth for x in r2]\n",
    "# r4 = [x + barWidth for x in r3]\n",
    "# r5 = [x + barWidth for x in r4]\n",
    "# r6 = [x + barWidth for x in r5]\n",
    "# r7 = [x + barWidth for x in r6]\n",
    "# r8 = [x + barWidth for x in r7]\n",
    "# r9 = [x + barWidth for x in r8]\n",
    "# r10 = [x + barWidth for x in r9]\n",
    "\n",
    "# plt.figure(figsize=(40, 5), dpi=300)\n",
    "\n",
    "# axes = plt.gca()\n",
    "# # axes.set_xlim([xmin,xmax])\n",
    "# axes.set_ylim([0, 1])\n",
    "# plt.grid(axis='y')\n",
    "# # Make the plot\n",
    "# plt.bar(r1, MLP, color='tab:blue', width=barWidth, edgecolor='white', label='MLP')\n",
    "# plt.bar(r2, RF_5, color='tab:orange', width=barWidth, edgecolor='white', label='RF(5)')\n",
    "# # plt.bar(r3, RF_10, color='tab:green', width=barWidth, edgecolor='white', label='RF(10)')\n",
    "# plt.bar(r4, RF_U, color='tab:red', width=barWidth, edgecolor='white', label='RF(U)')\n",
    "# plt.bar(r5, DT_5, color='tab:purple', width=barWidth, edgecolor='white', label='DT(5)')\n",
    "# # plt.bar(r6, DT_10, color='tab:brown', width=barWidth, edgecolor='white', label='DT(10)')\n",
    "# plt.bar(r7, DT_U, color='tab:pink', width=barWidth, edgecolor='white', label='DT(U)')\n",
    "# plt.bar(r8, LR, color='tab:gray', width=barWidth, edgecolor='white', label='LR')\n",
    "# plt.bar(r9, SVM, color='tab:olive', width=barWidth, edgecolor='white', label='SVM')\n",
    "# plt.bar(r10, XGB, color='tab:cyan', width=barWidth, edgecolor='white', label='XGB')\n",
    " \n",
    "# # Add xticks on the middle of the group bars\n",
    "# # plt.xlabel('', fontweight='bold')\n",
    "# plt.xticks([r + 5*barWidth for r in r1], ['SSB: part-lineorder', 'SSB: customer-lineorder', 'SSB: ddate-lineorder', \n",
    "#                                                        'SSB: supplier-lineorder', 'TPC-H: customer-orders', 'TPC-H: orders-customer',\n",
    "#                                                        'TPC-H: orders-lineitem', 'TPC-H: part-lineitem',\n",
    "#                                                       'IMDB: title-cast_info', 'IMDB: title-movie_companies', \n",
    "#                                                        'IMDB: title-movie_info_idx' , 'IMDB: title-movie_info'])\n",
    "# axes.tick_params(axis='x', which='major', labelsize=12)\n",
    "# axes.tick_params(axis='y', which='major', labelsize=20)\n",
    "\n",
    "# # Create legend & Show graphic\n",
    "# plt.legend(prop={'size': 10})\n",
    "# plt.savefig(f'./figures/exp2-ML-key-feat-acc-{engine}-keyset{key_feature_set}.pdf', bbox_inches = 'tight',pad_inches = 0)\n",
    "# plt.show()"
   ]
  },
  {
   "cell_type": "code",
   "execution_count": 8,
   "id": "handmade-friendly",
   "metadata": {
    "scrolled": true
   },
   "outputs": [
    {
     "name": "stdout",
     "output_type": "stream",
     "text": [
      "ssb part/mssql_lineorder_part_optimal.csv\n",
      "& \\textbf{ .95 }& \\textbf{ .98 }& \\textbf{ .94 }& \\textbf{ .98 }& \\textbf{ .91 }& .85& .85& .85\n",
      "\n",
      "ssb customer/mssql_lineorder_customer_optimal.csv\n",
      "& \\textbf{ .96 }& \\textbf{ .98 }& \\textbf{ .96 }& \\textbf{ .99 }& \\textbf{ .97 }& \\textbf{ .98 }& .67& .55\n",
      "\n",
      "ssb ddate/mssql_lineorder_ddate_optimal.csv\n",
      "& .88& \\textbf{ .96 }& .80& \\textbf{ .95 }& .86& .88& .69& .65\n",
      "\n",
      "ssb supplier/mssql_lineorder_supplier_optimal.csv\n",
      "& .81& \\textbf{ .93 }& .82& \\textbf{ .94 }& .81& .84& .75& .75\n",
      "\n",
      "ssb lineorder/mssql_part_lineorder_optimal.csv\n",
      "& \\textbf{ .99 }& \\textbf{ .99 }& \\textbf{ .99 }& \\textbf{ .99 }& \\textbf{ 1.00 }& \\textbf{ 1.00 }& \\textbf{ 1.00 }& \\textbf{ 1.00 }\n",
      "\n",
      "ssb lineorder/mssql_customer_lineorder_optimal.csv\n",
      "& \\textbf{ 1.00 }& \\textbf{ 1.00 }& \\textbf{ 1.00 }& \\textbf{ 1.00 }& \\textbf{ 1.00 }& \\textbf{ 1.00 }& \\textbf{ 1.00 }& \\textbf{ 1.00 }\n",
      "\n",
      "ssb lineorder/mssql_ddate_lineorder_optimal.csv\n",
      "& \\textbf{ 1.00 }& \\textbf{ 1.00 }& \\textbf{ 1.00 }& \\textbf{ 1.00 }& \\textbf{ 1.00 }& \\textbf{ 1.00 }& \\textbf{ 1.00 }& \\textbf{ 1.00 }\n",
      "\n",
      "ssb lineorder/mssql_supplier_lineorder_optimal.csv\n",
      "& \\textbf{ 1.00 }& \\textbf{ 1.00 }& \\textbf{ 1.00 }& \\textbf{ 1.00 }& \\textbf{ 1.00 }& \\textbf{ 1.00 }& \\textbf{ 1.00 }& \\textbf{ 1.00 }\n",
      "\n",
      "tpch customer/mssql_orders_customer_optimal.csv\n",
      "& .81& .65& .81& .66& .81& .81& .80& .80\n",
      "\n",
      "tpch orders/mssql_customer_orders_optimal.csv\n",
      "& \\textbf{ .97 }& \\textbf{ .96 }& \\textbf{ .97 }& \\textbf{ .96 }& \\textbf{ .97 }& \\textbf{ .97 }& \\textbf{ .97 }& \\textbf{ .97 }\n",
      "\n",
      "tpch orders/mssql_lineitem_orders_optimal.csv\n",
      "& \\textbf{ .92 }& .85& \\textbf{ .92 }& .86& \\textbf{ .91 }& \\textbf{ .92 }& .80& .66\n",
      "\n",
      "tpch part/mssql_lineitem_part_optimal.csv\n",
      "& \\textbf{ .91 }& .81& \\textbf{ .91 }& .83& \\textbf{ .91 }& \\textbf{ .91 }& \\textbf{ .90 }& \\textbf{ .90 }\n",
      "\n",
      "tpch part/mssql_partsupp_part_optimal.csv\n",
      "& \\textbf{ .91 }& .82& \\textbf{ .91 }& .83& \\textbf{ .91 }& \\textbf{ .91 }& \\textbf{ .91 }& \\textbf{ .91 }\n",
      "\n",
      "tpch partsupp/mssql_lineitem_partsupp_optimal.csv\n",
      "& \\textbf{ 1.00 }& \\textbf{ 1.00 }& \\textbf{ 1.00 }& \\textbf{ 1.00 }& \\textbf{ 1.00 }& \\textbf{ 1.00 }& \\textbf{ 1.00 }& \\textbf{ 1.00 }\n",
      "\n",
      "tpch partsupp/mssql_part_partsupp_optimal.csv\n",
      "& \\textbf{ .94 }& \\textbf{ .92 }& \\textbf{ .94 }& \\textbf{ .92 }& \\textbf{ .94 }& \\textbf{ .94 }& \\textbf{ .94 }& \\textbf{ .94 }\n",
      "\n",
      "tpch partsupp/mssql_supplier_partsupp_optimal.csv\n",
      "& \\textbf{ 1.00 }& \\textbf{ 1.00 }& \\textbf{ 1.00 }& \\textbf{ 1.00 }& \\textbf{ 1.00 }& \\textbf{ 1.00 }& \\textbf{ 1.00 }& \\textbf{ 1.00 }\n",
      "\n",
      "tpch supplier/mssql_lineitem_supplier_optimal.csv\n",
      "& \\textbf{ .95 }& \\textbf{ .94 }& \\textbf{ .94 }& \\textbf{ .94 }& \\textbf{ .94 }& \\textbf{ .95 }& \\textbf{ .91 }& \\textbf{ .91 }\n",
      "\n",
      "tpch supplier/mssql_partsupp_supplier_optimal.csv\n",
      "& \\textbf{ .96 }& \\textbf{ .95 }& \\textbf{ .97 }& \\textbf{ .96 }& \\textbf{ .96 }& \\textbf{ .96 }& \\textbf{ .94 }& \\textbf{ .94 }\n",
      "\n",
      "tpch nation/mssql_region_nation_optimal.csv\n",
      "& .69& .69& .70& .68& .68& .68& .69& .69\n",
      "\n",
      "tpch lineitem/mssql_orders_lineitem_optimal.csv\n",
      "& \\textbf{ .98 }& \\textbf{ .97 }& \\textbf{ .98 }& \\textbf{ .98 }& \\textbf{ .98 }& \\textbf{ .98 }& \\textbf{ .98 }& \\textbf{ .98 }\n",
      "\n",
      "tpch lineitem/mssql_part_lineitem_optimal.csv\n",
      "& \\textbf{ 1.00 }& \\textbf{ 1.00 }& \\textbf{ 1.00 }& \\textbf{ 1.00 }& \\textbf{ 1.00 }& \\textbf{ 1.00 }& \\textbf{ 1.00 }& \\textbf{ 1.00 }\n",
      "\n",
      "tpch lineitem/mssql_partsupp_lineitem_optimal.csv\n",
      "& \\textbf{ 1.00 }& \\textbf{ 1.00 }& \\textbf{ 1.00 }& \\textbf{ 1.00 }& \\textbf{ 1.00 }& \\textbf{ 1.00 }& \\textbf{ 1.00 }& \\textbf{ 1.00 }\n",
      "\n",
      "tpch region/mssql_nation_region_optimal.csv\n",
      "& \\textbf{ 1.00 }& \\textbf{ 1.00 }& \\textbf{ 1.00 }& \\textbf{ 1.00 }& \\textbf{ 1.00 }& \\textbf{ 1.00 }& \\textbf{ 1.00 }& \\textbf{ 1.00 }\n",
      "\n",
      "tpch_10 customer/mssql_orders_customer_optimal.csv\n",
      "& \\textbf{ 1.00 }& \\textbf{ .99 }& \\textbf{ 1.00 }& \\textbf{ 1.00 }& \\textbf{ .97 }& \\textbf{ .97 }& \\textbf{ .98 }& \\textbf{ .97 }\n",
      "\n",
      "tpch_10 orders/mssql_customer_orders_optimal.csv\n",
      "& \\textbf{ .98 }& \\textbf{ .98 }& \\textbf{ 1.00 }& \\textbf{ .99 }& \\textbf{ 1.00 }& \\textbf{ 1.00 }& \\textbf{ 1.00 }& \\textbf{ 1.00 }\n",
      "\n",
      "tpch_10 orders/mssql_lineitem_orders_optimal.csv\n",
      "& \\textbf{ 1.00 }& \\textbf{ 1.00 }& \\textbf{ 1.00 }& \\textbf{ 1.00 }& \\textbf{ .99 }& \\textbf{ .99 }& \\textbf{ .98 }& \\textbf{ .98 }\n",
      "\n",
      "tpch_10 part/mssql_lineitem_part_optimal.csv\n",
      "& \\textbf{ .98 }& \\textbf{ .98 }& \\textbf{ .99 }& \\textbf{ .98 }& \\textbf{ .98 }& \\textbf{ .98 }& \\textbf{ .98 }& \\textbf{ .98 }\n",
      "\n",
      "tpch_10 part/mssql_partsupp_part_optimal.csv\n",
      "& \\textbf{ .99 }& \\textbf{ .99 }& \\textbf{ .98 }& \\textbf{ .99 }& \\textbf{ .98 }& \\textbf{ .98 }& \\textbf{ .97 }& \\textbf{ .97 }\n",
      "\n",
      "tpch_10 partsupp/mssql_lineitem_partsupp_optimal.csv\n",
      "& \\textbf{ 1.00 }& \\textbf{ 1.00 }& \\textbf{ 1.00 }& \\textbf{ 1.00 }& \\textbf{ 1.00 }& \\textbf{ 1.00 }& \\textbf{ 1.00 }& \\textbf{ 1.00 }\n",
      "\n",
      "tpch_10 partsupp/mssql_part_partsupp_optimal.csv\n",
      "& \\textbf{ .99 }& \\textbf{ .97 }& \\textbf{ .99 }& \\textbf{ .98 }& \\textbf{ .99 }& \\textbf{ .99 }& \\textbf{ .99 }& \\textbf{ .99 }\n",
      "\n",
      "tpch_10 partsupp/mssql_supplier_partsupp_optimal.csv\n",
      "& \\textbf{ 1.00 }& \\textbf{ 1.00 }& \\textbf{ 1.00 }& \\textbf{ 1.00 }& \\textbf{ 1.00 }& \\textbf{ 1.00 }& \\textbf{ 1.00 }& \\textbf{ 1.00 }\n",
      "\n",
      "tpch_10 supplier/mssql_lineitem_supplier_optimal.csv\n",
      "& .82& .84& .80& .86& .81& .82& .73& .73\n",
      "\n",
      "tpch_10 supplier/mssql_partsupp_supplier_optimal.csv\n",
      "& .83& \\textbf{ .91 }& .84& \\textbf{ .92 }& .84& .81& .70& .69\n",
      "\n",
      "tpch_10 nation/mssql_region_nation_optimal.csv\n",
      "& .69& .69& .69& .70& .68& .68& .69& .69\n",
      "\n",
      "tpch_10 lineitem/mssql_orders_lineitem_optimal.csv\n",
      "& \\textbf{ 1.00 }& \\textbf{ 1.00 }& \\textbf{ 1.00 }& \\textbf{ 1.00 }& \\textbf{ 1.00 }& \\textbf{ 1.00 }& \\textbf{ 1.00 }& \\textbf{ 1.00 }\n",
      "\n",
      "tpch_10 lineitem/mssql_part_lineitem_optimal.csv\n",
      "& \\textbf{ 1.00 }& \\textbf{ 1.00 }& \\textbf{ 1.00 }& \\textbf{ 1.00 }& \\textbf{ 1.00 }& \\textbf{ 1.00 }& \\textbf{ 1.00 }& \\textbf{ 1.00 }\n",
      "\n",
      "tpch_10 lineitem/mssql_partsupp_lineitem_optimal.csv\n",
      "& \\textbf{ 1.00 }& \\textbf{ 1.00 }& \\textbf{ 1.00 }& \\textbf{ 1.00 }& \\textbf{ 1.00 }& \\textbf{ 1.00 }& \\textbf{ 1.00 }& \\textbf{ 1.00 }\n",
      "\n",
      "tpch_10 region/mssql_nation_region_optimal.csv\n",
      "& \\textbf{ 1.00 }& \\textbf{ 1.00 }& \\textbf{ 1.00 }& \\textbf{ 1.00 }& \\textbf{ 1.00 }& \\textbf{ 1.00 }& \\textbf{ 1.00 }& \\textbf{ 1.00 }\n",
      "\n",
      "tpch_100 customer/mssql_orders_customer_optimal.csv\n",
      "& \\textbf{ 1.00 }& \\textbf{ 1.00 }& \\textbf{ 1.00 }& \\textbf{ 1.00 }& \\textbf{ .99 }& \\textbf{ 1.00 }& \\textbf{ .97 }& \\textbf{ .97 }\n",
      "\n",
      "tpch_100 orders/mssql_customer_orders_optimal.csv\n",
      "& \\textbf{ 1.00 }& \\textbf{ 1.00 }& \\textbf{ 1.00 }& \\textbf{ 1.00 }& \\textbf{ 1.00 }& \\textbf{ 1.00 }& \\textbf{ 1.00 }& \\textbf{ 1.00 }\n",
      "\n",
      "tpch_100 orders/mssql_lineitem_orders_optimal.csv\n",
      "& \\textbf{ .99 }& \\textbf{ .99 }& \\textbf{ .99 }& \\textbf{ 1.00 }& \\textbf{ .99 }& \\textbf{ .99 }& \\textbf{ .99 }& \\textbf{ .99 }\n",
      "\n",
      "tpch_100 part/mssql_lineitem_part_optimal.csv\n",
      "& \\textbf{ 1.00 }& \\textbf{ 1.00 }& \\textbf{ 1.00 }& \\textbf{ 1.00 }& \\textbf{ .99 }& \\textbf{ 1.00 }& \\textbf{ .99 }& \\textbf{ .99 }\n",
      "\n",
      "tpch_100 part/mssql_partsupp_part_optimal.csv\n",
      "& \\textbf{ 1.00 }& \\textbf{ 1.00 }& \\textbf{ 1.00 }& \\textbf{ 1.00 }& \\textbf{ 1.00 }& \\textbf{ 1.00 }& \\textbf{ .98 }& \\textbf{ .98 }\n",
      "\n",
      "tpch_100 partsupp/mssql_lineitem_partsupp_optimal.csv\n",
      "& \\textbf{ 1.00 }& \\textbf{ 1.00 }& \\textbf{ 1.00 }& \\textbf{ 1.00 }& \\textbf{ 1.00 }& \\textbf{ 1.00 }& \\textbf{ 1.00 }& \\textbf{ 1.00 }\n",
      "\n",
      "tpch_100 partsupp/mssql_part_partsupp_optimal.csv\n",
      "& \\textbf{ 1.00 }& \\textbf{ 1.00 }& \\textbf{ 1.00 }& \\textbf{ 1.00 }& \\textbf{ 1.00 }& \\textbf{ 1.00 }& \\textbf{ 1.00 }& \\textbf{ 1.00 }\n",
      "\n",
      "tpch_100 partsupp/mssql_supplier_partsupp_optimal.csv\n",
      "& \\textbf{ 1.00 }& \\textbf{ 1.00 }& \\textbf{ 1.00 }& \\textbf{ 1.00 }& \\textbf{ 1.00 }& \\textbf{ 1.00 }& \\textbf{ 1.00 }& \\textbf{ 1.00 }\n",
      "\n",
      "tpch_100 supplier/mssql_lineitem_supplier_optimal.csv\n",
      "& \\textbf{ .97 }& \\textbf{ .97 }& \\textbf{ .98 }& \\textbf{ .97 }& \\textbf{ 1.00 }& \\textbf{ .96 }& \\textbf{ .99 }& \\textbf{ .99 }\n",
      "\n",
      "tpch_100 supplier/mssql_partsupp_supplier_optimal.csv\n",
      "& \\textbf{ .99 }& \\textbf{ .98 }& \\textbf{ .99 }& \\textbf{ .98 }& \\textbf{ .96 }& \\textbf{ .98 }& \\textbf{ .95 }& \\textbf{ .94 }\n",
      "\n",
      "tpch_100 nation/mssql_region_nation_optimal.csv\n",
      "& .69& .69& .69& .71& .68& .66& .69& .69\n",
      "\n",
      "tpch_100 lineitem/mssql_orders_lineitem_optimal.csv\n",
      "& \\textbf{ 1.00 }& \\textbf{ 1.00 }& \\textbf{ 1.00 }& \\textbf{ 1.00 }& \\textbf{ 1.00 }& \\textbf{ 1.00 }& \\textbf{ 1.00 }& \\textbf{ 1.00 }\n",
      "\n",
      "tpch_100 lineitem/mssql_part_lineitem_optimal.csv\n",
      "& \\textbf{ 1.00 }& \\textbf{ 1.00 }& \\textbf{ 1.00 }& \\textbf{ 1.00 }& \\textbf{ 1.00 }& \\textbf{ 1.00 }& \\textbf{ 1.00 }& \\textbf{ 1.00 }\n",
      "\n",
      "tpch_100 lineitem/mssql_partsupp_lineitem_optimal.csv\n",
      "& \\textbf{ 1.00 }& \\textbf{ 1.00 }& \\textbf{ 1.00 }& \\textbf{ 1.00 }& \\textbf{ 1.00 }& \\textbf{ 1.00 }& \\textbf{ 1.00 }& \\textbf{ 1.00 }\n",
      "\n",
      "tpch_100 region/mssql_nation_region_optimal.csv\n",
      "& \\textbf{ 1.00 }& \\textbf{ 1.00 }& \\textbf{ 1.00 }& \\textbf{ 1.00 }& \\textbf{ 1.00 }& \\textbf{ 1.00 }& \\textbf{ 1.00 }& \\textbf{ 1.00 }\n",
      "\n",
      "imdb cast_info/mssql_title_cast_info_optimal.csv\n",
      "& \\textbf{ .99 }& \\textbf{ .99 }& \\textbf{ .99 }& \\textbf{ .99 }& \\textbf{ 1.00 }& \\textbf{ 1.00 }& \\textbf{ 1.00 }& \\textbf{ 1.00 }\n",
      "\n",
      "imdb movie_companies/mssql_title_movie_companies_optimal.csv\n",
      "& \\textbf{ .95 }& \\textbf{ .95 }& \\textbf{ .95 }& \\textbf{ .95 }& \\textbf{ .94 }& \\textbf{ .94 }& \\textbf{ .94 }& \\textbf{ .94 }\n",
      "\n",
      "imdb movie_info/mssql_title_movie_info_optimal.csv\n",
      "& \\textbf{ .99 }& \\textbf{ .99 }& \\textbf{ .99 }& \\textbf{ .99 }& \\textbf{ .99 }& \\textbf{ .99 }& \\textbf{ .99 }& \\textbf{ .99 }\n",
      "\n",
      "imdb movie_info_idx/mssql_title_movie_info_idx_optimal.csv\n",
      "& \\textbf{ .90 }& \\textbf{ .91 }& .89& \\textbf{ .92 }& .88& .89& .87& .87\n",
      "\n",
      "imdb movie_keyword/mssql_title_movie_keyword_optimal.csv\n",
      "& \\textbf{ .99 }& \\textbf{ .99 }& \\textbf{ .99 }& \\textbf{ .99 }& \\textbf{ .99 }& \\textbf{ .99 }& \\textbf{ .99 }& \\textbf{ .99 }\n",
      "\n",
      "imdb title/mssql_cast_info_title_optimal.csv\n",
      "& \\textbf{ .99 }& \\textbf{ .99 }& \\textbf{ .99 }& \\textbf{ .99 }& \\textbf{ .98 }& \\textbf{ .99 }& \\textbf{ .98 }& \\textbf{ .98 }\n",
      "\n",
      "imdb title/mssql_movie_companies_title_optimal.csv\n",
      "& \\textbf{ .98 }& \\textbf{ .99 }& \\textbf{ .98 }& \\textbf{ .98 }& \\textbf{ .98 }& \\textbf{ .98 }& \\textbf{ .98 }& \\textbf{ .98 }\n",
      "\n",
      "imdb title/mssql_movie_info_idx_title_optimal.csv\n",
      "& \\textbf{ .95 }& \\textbf{ .96 }& \\textbf{ .95 }& \\textbf{ .97 }& \\textbf{ .90 }& \\textbf{ .90 }& \\textbf{ .90 }& \\textbf{ .90 }\n",
      "\n",
      "imdb title/mssql_movie_info_title_optimal.csv\n",
      "& \\textbf{ .96 }& \\textbf{ .95 }& \\textbf{ .96 }& \\textbf{ .96 }& \\textbf{ .92 }& \\textbf{ .96 }& \\textbf{ .92 }& \\textbf{ .92 }\n",
      "\n",
      "imdb title/mssql_movie_keyword_title_optimal.csv\n",
      "& \\textbf{ .97 }& \\textbf{ .99 }& \\textbf{ .98 }& \\textbf{ 1.00 }& \\textbf{ .98 }& \\textbf{ .98 }& \\textbf{ .98 }& \\textbf{ .98 }\n",
      "\n"
     ]
    }
   ],
   "source": [
    "MLP = model_accs['MLP'] # [97,96.5,97.5,96.5,96.5,91.5,96.5,96,100,98.5,100,100]\n",
    "RF_5 = model_accs['RF(5)'] #[95,95.5,95,96.5,98,90.5,95.5,97,100,98.5,100,100]\n",
    "# RF_10 =model_accs['RF(10)'] # [95.5, 98,97.5,98,96.5,94.5,98.5,95.5,100,99,100,100]\n",
    "RF_U = model_accs['RF(U)'] #[97.5,97,98.5,98,99,94,97.5,97.5,100,99.5,100,100]\n",
    "DT_5 = model_accs['DT(5)'] #[97,97.5,96,97.5,97,90,93,96.5,100,99.5,100,100]\n",
    "# DT_10 = model_accs['DT(10)'] #[98,98.5,96.5,96.5,97,91.5,95.5,95.5,100,98.5,100,100]\n",
    "DT_U = model_accs['DT(U)'] #[98,98.5,96.5,96.5,97,92,95,95.5,100,99,100,100]\n",
    "LR = model_accs['LR'] #[92,83.5,92,94,89.5,91,92,90.5,100,96,100,100]\n",
    "SVM = model_accs['SVM'] #[85,83,88.5,88,82.5,89,85.5,86.5,100,95.5,100,100]\n",
    "XGB = model_accs['XGB'] #[85,83,88.5,88,82.5,89,85.5,86.5,100,95.5,100,100]\n",
    "\n",
    "d = [DT_5, DT_U,  RF_5, RF_U, XGB, MLP, LR, SVM ]\n",
    "result_txt = ''\n",
    "\n",
    "for i in range(len(present_idxs)):\n",
    "    print(f\"{one_file_names[i]}\", end='\\n')\n",
    "    result_txt += f\"{one_file_names[i]} \\n\"\n",
    "    for l in d:\n",
    "        if l[i] >= 0.8951:\n",
    "            s = '& \\\\textbf{ %.2f }' % l[i]\n",
    "        else:\n",
    "            s = '& %.2f' % l[i]\n",
    "        result_txt +=  s.replace('0.', '.')\n",
    "        print(s.replace('0.', '.'), end='')\n",
    "    print(\"\\n\")\n",
    "    result_txt += '\\n'\n",
    "with open(f'./latex_result/exp2_{engine}_(random_left)_key_feature_acc.txt', 'w') as f:\n",
    "    f.write(result_txt)"
   ]
  },
  {
   "cell_type": "code",
   "execution_count": null,
   "id": "neural-panel",
   "metadata": {},
   "outputs": [],
   "source": []
  },
  {
   "cell_type": "markdown",
   "id": "attractive-relative",
   "metadata": {},
   "source": [
    "# Latex difference table"
   ]
  },
  {
   "cell_type": "code",
   "execution_count": 9,
   "id": "surprised-minnesota",
   "metadata": {},
   "outputs": [],
   "source": [
    "# postgres_feature_set_0_acc = [[0.92, 0.985, 0.94, 0.955, 0.905, 0.9325, 0.895, 0.9575, 0.9225, 0.925, 0.9375, 0.9175],\n",
    "# [0.9275, 0.97, 0.9675, 0.9675, 0.895, 0.94, 0.91, 0.97, 0.9325, 0.925, 0.9275, 0.9425],\n",
    "# [0.9825, 0.9925, 0.995, 0.99, 0.9775, 0.975, 0.9725, 0.995, 0.9725, 0.975, 0.97, 0.9775],\n",
    "# [0.93, 0.97, 0.97, 0.955, 0.885, 0.9425, 0.92, 0.9575, 0.9175, 0.9175, 0.925, 0.93],\n",
    "# [0.9825, 0.99, 0.9975, 0.9925, 0.965, 0.985, 0.98, 1.0, 0.975, 0.975, 0.98, 0.98],\n",
    "# [0.85, 0.84, 0.9425, 0.93, 0.7475, 0.925, 0.82, 0.945, 0.905, 0.905, 0.915, 0.9075],\n",
    "# [0.88, 0.87, 0.9125, 0.8725, 0.78, 0.92, 0.875, 0.935, 0.8925, 0.8925, 0.8975, 0.89],\n",
    "# [0.91, 0.88, 0.94, 0.9375, 0.79, 0.9475, 0.8075, 0.945, 0.9075, 0.905, 0.9075, 0.9175]]"
   ]
  },
  {
   "cell_type": "code",
   "execution_count": 10,
   "id": "fabulous-degree",
   "metadata": {},
   "outputs": [],
   "source": [
    "# postgres_feature_set_1_acc = [[0.9175, 0.9525, 0.9525, 0.8175, 0.9075, 0.9375, 0.905, 0.945, 0.92, 0.9375, 0.935, 0.92],\n",
    "# [0.915, 0.9675, 0.9375, 0.9425, 0.8925, 0.9375, 0.9025, 0.965, 0.9375, 0.9375, 0.93, 0.945],\n",
    "# [0.97, 0.9925, 0.9775, 0.99, 0.9775, 0.98, 0.9775, 0.9825, 0.9775, 0.97, 0.97, 0.98],\n",
    "# [0.93, 0.97, 0.9475, 0.8975, 0.885, 0.94, 0.92, 0.965, 0.9175, 0.9175, 0.925, 0.93],\n",
    "# [0.9825, 0.99, 0.99, 0.995, 0.965, 0.985, 0.98, 0.995, 0.975, 0.975, 0.98, 0.98],\n",
    "# [0.8175, 0.8375, 0.875, 0.85, 0.7725, 0.925, 0.8225, 0.94, 0.905, 0.905, 0.915, 0.9075],\n",
    "# [0.87, 0.8725, 0.87, 0.8275, 0.7975, 0.92, 0.8775, 0.945, 0.8925, 0.8925, 0.8975, 0.89],\n",
    "# [0.82, 0.8075, 0.8725, 0.9125, 0.78, 0.9425, 0.815, 0.9325, 0.9075, 0.905, 0.9075, 0.9175]]"
   ]
  },
  {
   "cell_type": "code",
   "execution_count": 11,
   "id": "indirect-yorkshire",
   "metadata": {},
   "outputs": [],
   "source": [
    "# mssql_feature_set_0_acc = [[0.96, 0.975, 0.855, 0.5975, 0.91, 0.975, 0.7875, 0.94, 0.935, 0.9225, 0.9475, 0.9775],\n",
    "# [0.955, 0.975, 0.87, 0.6, 0.9125, 0.97, 0.825, 0.9525, 0.915, 0.8975, 0.9625, 0.9625],\n",
    "# [0.9775, 0.98, 0.88, 0.755, 0.98, 0.9625, 0.955, 0.9575, 0.9925, 0.9875, 0.9875, 0.995],\n",
    "# [0.965, 0.9725, 0.86, 0.5775, 0.9, 0.965, 0.78, 0.955, 0.925, 0.9375, 0.96, 0.9725],\n",
    "# [0.97, 0.9825, 0.8775, 0.76, 0.98, 0.9575, 0.9425, 0.9575, 0.9925, 0.9875, 0.985, 0.99],\n",
    "# [0.865, 0.9125, 0.74, 0.5075, 0.1675, 0.975, 0.805, 0.885, 0.785, 0.7875, 0.8525, 0.875],\n",
    "# [0.7875, 0.8675, 0.7825, 0.5925, 0.4775, 0.975, 0.845, 0.885, 0.73, 0.81, 0.8925, 0.915],\n",
    "# [0.8925, 0.91, 0.8325, 0.595, 0.015, 0.975, 0.8075, 0.94, 0.86, 0.87, 0.9525, 0.945]]"
   ]
  },
  {
   "cell_type": "code",
   "execution_count": 12,
   "id": "extra-interaction",
   "metadata": {},
   "outputs": [],
   "source": [
    "# mssql_feature_set_1_acc = [[0.955, 0.98, 0.845, 0.6075, 0.8575, 0.975, 0.7975, 0.9475, 0.96, 0.9625, 0.9025, 0.9775],\n",
    "# [0.9675, 0.98, 0.8425, 0.61, 0.91, 0.975, 0.8175, 0.96, 0.965, 0.945, 0.9625, 0.975],\n",
    "# [0.975, 0.9825, 0.8825, 0.76, 0.985, 0.9625, 0.945, 0.965, 0.99, 0.9875, 0.99, 0.99],\n",
    "# [0.9725, 0.9775, 0.8475, 0.56, 0.9075, 0.9725, 0.7875, 0.9575, 0.955, 0.9425, 0.965, 0.97],\n",
    "# [0.98, 0.98, 0.8725, 0.76, 0.99, 0.9575, 0.9525, 0.96, 0.99, 0.9875, 0.985, 0.99],\n",
    "# [0.88, 0.9075, 0.7375, 0.5, 0.2, 0.975, 0.8525, 0.875, 0.815, 0.825, 0.925, 0.9675],\n",
    "# [0.7475, 0.91, 0.6625, 0.495, 0.5725, 0.975, 0.815, 0.875, 0.7275, 0.835, 0.915, 0.9375],\n",
    "# [0.97, 0.925, 0.8225, 0.5675, 0.015, 0.975, 0.79, 0.94, 0.9475, 0.8925, 0.96, 0.97]]\n"
   ]
  },
  {
   "cell_type": "code",
   "execution_count": 13,
   "id": "homeless-pakistan",
   "metadata": {},
   "outputs": [],
   "source": [
    "# for engine in ['postgres', 'mssql']:\n",
    "\n",
    "#     if engine == 'mssql':\n",
    "#         baseline = mssql_accs\n",
    "#     else:\n",
    "#         baseline = postgres_accs\n",
    "\n",
    "#     if engine == 'postgres':\n",
    "#         acc0 = postgres_feature_set_0_acc\n",
    "#         acc1 = postgres_feature_set_1_acc\n",
    "#     else:\n",
    "#         acc0 = mssql_feature_set_0_acc\n",
    "#         acc1 = mssql_feature_set_1_acc\n",
    "#     for i in range(len(present_idxs)):\n",
    "#         for a0, a1, b in zip(acc0, acc1, baseline):\n",
    "#             print(f\"& {'%+.2f, %+.2f' % (a0[i] - b[i], a1[i] - b[i])} \".replace('0.', '.'), end=' ')\n",
    "#         print(\"\")\n",
    "#     print('\\n\\n\\n\\n\\n\\n')"
   ]
  },
  {
   "cell_type": "code",
   "execution_count": null,
   "id": "broadband-drawing",
   "metadata": {},
   "outputs": [],
   "source": []
  },
  {
   "cell_type": "code",
   "execution_count": 14,
   "id": "nuclear-microwave",
   "metadata": {},
   "outputs": [],
   "source": [
    "# for engine in ['postgres', 'mssql']:\n",
    "\n",
    "#     if engine == 'mssql':\n",
    "#         baseline = mssql_accs\n",
    "#     else:\n",
    "#         baseline = postgres_accs\n",
    "\n",
    "#     if engine == 'postgres':\n",
    "#         acc0 = postgres_feature_set_0_acc\n",
    "#         acc1 = postgres_feature_set_1_acc\n",
    "#     else:\n",
    "#         acc0 = mssql_feature_set_0_acc\n",
    "#         acc1 = mssql_feature_set_1_acc\n",
    "#     for i in range(len(present_idxs)):\n",
    "#         for a0, a1, b in zip(acc0, acc1, baseline):\n",
    "# #             print(f\"& {'%.2f, %.2f' % (a0[i], a1[i])} \".replace('0.', '.'), end=' ')\n",
    "#             l = \"& \\\\textbf{ %.2f } \" % a0[i]\n",
    "#             if a0[i] >= 0.90:  \n",
    "#                 l = \"& \\\\textbf{ %.2f } \" % a0[i]\n",
    "#             else:\n",
    "#                 l = \"&  %.2f \" % a0[i]\n",
    "#             print(l, end = '')\n",
    "\n",
    "#         print(\"BREAK LINE\")\n",
    "#     print('\\n\\n\\n\\n\\n\\n')"
   ]
  },
  {
   "cell_type": "code",
   "execution_count": null,
   "id": "dominican-sense",
   "metadata": {},
   "outputs": [],
   "source": []
  }
 ],
 "metadata": {
  "kernelspec": {
   "display_name": "Python 3",
   "language": "python",
   "name": "python3"
  },
  "language_info": {
   "codemirror_mode": {
    "name": "ipython",
    "version": 3
   },
   "file_extension": ".py",
   "mimetype": "text/x-python",
   "name": "python",
   "nbconvert_exporter": "python",
   "pygments_lexer": "ipython3",
   "version": "3.6.9"
  }
 },
 "nbformat": 4,
 "nbformat_minor": 5
}
