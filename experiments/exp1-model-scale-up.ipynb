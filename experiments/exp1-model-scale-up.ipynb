{
 "cells": [
  {
   "cell_type": "code",
   "execution_count": 1,
   "id": "adverse-relaxation",
   "metadata": {},
   "outputs": [],
   "source": [
    "from core.DataLoader import *\n",
    "from core.models.MLP import * \n",
    "from core.models.GAM import *\n",
    "from core.models.SVM import *\n",
    "# from core.models.EBM import *\n",
    "\n",
    "from core.models.RandomForest import *\n",
    "from core.Visualizer import *\n",
    "from core.models.Classifier import *\n",
    "from core.models.XGB import *"
   ]
  },
  {
   "cell_type": "markdown",
   "id": "thick-secretary",
   "metadata": {},
   "source": [
    "# Model eval sf=100 => sf=10"
   ]
  },
  {
   "cell_type": "code",
   "execution_count": 2,
   "id": "mobile-supplier",
   "metadata": {},
   "outputs": [],
   "source": [
    "weighted_clf_model_list ={\n",
    "    \"MLP\": MLPClassifier,\n",
    "    \"DT\": m_DecisionTreeClassifier,\n",
    "    \"RF\": m_RandomForestClassifier,\n",
    "    \"LR\": m_LogisticRegression,\n",
    "    \"SVM\": SVMClassifier,\n",
    "    \"XGB\": XGBOOSTClassifier\n",
    "}\n",
    "weighted_clf_model_name_list = ['MLP', 'RF(5)', 'RF(U)', 'DT(5)', 'DT(U)', 'LR', 'SVM', 'XGB']\n",
    "# weighted_clf_model_name_list = ['DT(5)', 'RF(5)', 'MLP']"
   ]
  },
  {
   "cell_type": "code",
   "execution_count": 3,
   "id": "velvet-array",
   "metadata": {},
   "outputs": [],
   "source": [
    "engine = 'postgres'\n",
    "\n",
    "dl = DataLoader(engine)\n",
    "one_file_dss, one_file_names = dl.get_one_file_ds(return_type='ds and names', datasets=['tpch_100'])"
   ]
  },
  {
   "cell_type": "code",
   "execution_count": 9,
   "id": "hairy-puzzle",
   "metadata": {},
   "outputs": [
    {
     "name": "stdout",
     "output_type": "stream",
     "text": [
      "Using features:  ['left_cardinality', 'base_cardinality', 'sel_of_pred_on_indexed_attr', 'sel_of_pred_on_non_indexed_attr', 'sel_of_join_pred', 'left_ordered', 'base_ordered', 'left_indexed', 'base_indexed', 'result_size', 'predicate_op_num_on_indexed_attr', 'predicate_op_num_on_non_indexed_attr']\n"
     ]
    }
   ],
   "source": [
    "# all_features = dl.all_features\n",
    "all_features = dl.all_features\n",
    "classification_target = dl.classification_target\n",
    "\n",
    "# features = dl.base_features\n",
    "# features = ['left_cardinality', 'sel_of_pred_on_indexed_attr']\n",
    "print(\"Using features: \", features)"
   ]
  },
  {
   "cell_type": "code",
   "execution_count": 10,
   "id": "personal-liechtenstein",
   "metadata": {
    "scrolled": true
   },
   "outputs": [
    {
     "name": "stderr",
     "output_type": "stream",
     "text": [
      "  0%|          | 2/500 [00:00<00:25, 19.25it/s]"
     ]
    },
    {
     "name": "stdout",
     "output_type": "stream",
     "text": [
      "Processing index 0 / 15\n",
      "set features: 12\n"
     ]
    },
    {
     "name": "stderr",
     "output_type": "stream",
     "text": [
      "100%|██████████| 500/500 [00:19<00:00, 26.14it/s]\n"
     ]
    },
    {
     "name": "stdout",
     "output_type": "stream",
     "text": [
      "Accuray of <class 'core.models.MLP.MLPClassifier'>: 0.9875\n",
      "Accuray of <class 'core.models.RandomForest.m_RandomForestClassifier'>: 0.95\n",
      "Accuray of <class 'core.models.RandomForest.m_RandomForestClassifier'>: 0.9925\n",
      "Accuray of <class 'core.models.RandomForest.m_DecisionTreeClassifier'>: 0.9575\n",
      "Accuray of <class 'core.models.RandomForest.m_DecisionTreeClassifier'>: 0.99\n",
      "Accuray of <class 'core.models.GAM.m_LogisticRegression'>: 0.885\n",
      "Accuray of <class 'core.models.SVM.SVMClassifier'>: 0.855\n"
     ]
    },
    {
     "name": "stderr",
     "output_type": "stream",
     "text": [
      "  1%|          | 3/500 [00:00<00:16, 29.69it/s]"
     ]
    },
    {
     "name": "stdout",
     "output_type": "stream",
     "text": [
      "Accuray of <class 'core.models.XGB.XGBOOSTClassifier'>: 0.935\n",
      "Processing index 1 / 15\n",
      "set features: 12\n"
     ]
    },
    {
     "name": "stderr",
     "output_type": "stream",
     "text": [
      "100%|██████████| 500/500 [00:18<00:00, 27.50it/s]\n"
     ]
    },
    {
     "name": "stdout",
     "output_type": "stream",
     "text": [
      "Accuray of <class 'core.models.MLP.MLPClassifier'>: 0.9475\n",
      "Accuray of <class 'core.models.RandomForest.m_RandomForestClassifier'>: 0.86\n",
      "Accuray of <class 'core.models.RandomForest.m_RandomForestClassifier'>: 0.9675\n",
      "Accuray of <class 'core.models.RandomForest.m_DecisionTreeClassifier'>: 0.8875\n",
      "Accuray of <class 'core.models.RandomForest.m_DecisionTreeClassifier'>: 0.98\n",
      "Accuray of <class 'core.models.GAM.m_LogisticRegression'>: 0.8775\n",
      "Accuray of <class 'core.models.SVM.SVMClassifier'>: 0.76\n"
     ]
    },
    {
     "name": "stderr",
     "output_type": "stream",
     "text": [
      "  1%|          | 3/500 [00:00<00:17, 29.03it/s]"
     ]
    },
    {
     "name": "stdout",
     "output_type": "stream",
     "text": [
      "Accuray of <class 'core.models.XGB.XGBOOSTClassifier'>: 0.91\n",
      "Processing index 2 / 15\n",
      "set features: 12\n"
     ]
    },
    {
     "name": "stderr",
     "output_type": "stream",
     "text": [
      "100%|██████████| 500/500 [00:19<00:00, 26.31it/s]\n"
     ]
    },
    {
     "name": "stdout",
     "output_type": "stream",
     "text": [
      "Accuray of <class 'core.models.MLP.MLPClassifier'>: 0.995\n",
      "Accuray of <class 'core.models.RandomForest.m_RandomForestClassifier'>: 0.96\n",
      "Accuray of <class 'core.models.RandomForest.m_RandomForestClassifier'>: 1.0\n",
      "Accuray of <class 'core.models.RandomForest.m_DecisionTreeClassifier'>: 0.9775\n",
      "Accuray of <class 'core.models.RandomForest.m_DecisionTreeClassifier'>: 1.0\n",
      "Accuray of <class 'core.models.GAM.m_LogisticRegression'>: 0.9175\n",
      "Accuray of <class 'core.models.SVM.SVMClassifier'>: 0.8675\n"
     ]
    },
    {
     "name": "stderr",
     "output_type": "stream",
     "text": [
      "  1%|          | 3/500 [00:00<00:17, 29.06it/s]"
     ]
    },
    {
     "name": "stdout",
     "output_type": "stream",
     "text": [
      "Accuray of <class 'core.models.XGB.XGBOOSTClassifier'>: 0.9425\n",
      "Processing index 3 / 15\n",
      "set features: 12\n"
     ]
    },
    {
     "name": "stderr",
     "output_type": "stream",
     "text": [
      "100%|██████████| 500/500 [00:18<00:00, 27.34it/s]\n"
     ]
    },
    {
     "name": "stdout",
     "output_type": "stream",
     "text": [
      "Accuray of <class 'core.models.MLP.MLPClassifier'>: 0.9925\n",
      "Accuray of <class 'core.models.RandomForest.m_RandomForestClassifier'>: 0.9725\n",
      "Accuray of <class 'core.models.RandomForest.m_RandomForestClassifier'>: 0.9975\n",
      "Accuray of <class 'core.models.RandomForest.m_DecisionTreeClassifier'>: 0.9775\n",
      "Accuray of <class 'core.models.RandomForest.m_DecisionTreeClassifier'>: 1.0\n",
      "Accuray of <class 'core.models.GAM.m_LogisticRegression'>: 0.895\n",
      "Accuray of <class 'core.models.SVM.SVMClassifier'>: 0.86\n"
     ]
    },
    {
     "name": "stderr",
     "output_type": "stream",
     "text": [
      "\r",
      "  0%|          | 0/500 [00:00<?, ?it/s]"
     ]
    },
    {
     "name": "stdout",
     "output_type": "stream",
     "text": [
      "Accuray of <class 'core.models.XGB.XGBOOSTClassifier'>: 0.93\n",
      "Processing index 4 / 15\n",
      "set features: 12\n"
     ]
    },
    {
     "name": "stderr",
     "output_type": "stream",
     "text": [
      "100%|██████████| 500/500 [00:18<00:00, 27.41it/s]\n"
     ]
    },
    {
     "name": "stdout",
     "output_type": "stream",
     "text": [
      "Accuray of <class 'core.models.MLP.MLPClassifier'>: 0.9825\n",
      "Accuray of <class 'core.models.RandomForest.m_RandomForestClassifier'>: 0.975\n",
      "Accuray of <class 'core.models.RandomForest.m_RandomForestClassifier'>: 0.9925\n",
      "Accuray of <class 'core.models.RandomForest.m_DecisionTreeClassifier'>: 0.9825\n",
      "Accuray of <class 'core.models.RandomForest.m_DecisionTreeClassifier'>: 1.0\n",
      "Accuray of <class 'core.models.GAM.m_LogisticRegression'>: 0.8925\n",
      "Accuray of <class 'core.models.SVM.SVMClassifier'>: 0.8675\n"
     ]
    },
    {
     "name": "stderr",
     "output_type": "stream",
     "text": [
      "  1%|          | 3/500 [00:00<00:22, 22.41it/s]"
     ]
    },
    {
     "name": "stdout",
     "output_type": "stream",
     "text": [
      "Accuray of <class 'core.models.XGB.XGBOOSTClassifier'>: 0.92\n",
      "Processing index 5 / 15\n",
      "set features: 12\n"
     ]
    },
    {
     "name": "stderr",
     "output_type": "stream",
     "text": [
      "100%|██████████| 500/500 [00:18<00:00, 27.08it/s]\n"
     ]
    },
    {
     "name": "stdout",
     "output_type": "stream",
     "text": [
      "Accuray of <class 'core.models.MLP.MLPClassifier'>: 0.985\n",
      "Accuray of <class 'core.models.RandomForest.m_RandomForestClassifier'>: 0.9575\n",
      "Accuray of <class 'core.models.RandomForest.m_RandomForestClassifier'>: 0.99\n",
      "Accuray of <class 'core.models.RandomForest.m_DecisionTreeClassifier'>: 0.975\n",
      "Accuray of <class 'core.models.RandomForest.m_DecisionTreeClassifier'>: 0.99\n",
      "Accuray of <class 'core.models.GAM.m_LogisticRegression'>: 0.955\n",
      "Accuray of <class 'core.models.SVM.SVMClassifier'>: 0.955\n"
     ]
    },
    {
     "name": "stderr",
     "output_type": "stream",
     "text": [
      "  1%|          | 4/500 [00:00<00:15, 31.61it/s]"
     ]
    },
    {
     "name": "stdout",
     "output_type": "stream",
     "text": [
      "Accuray of <class 'core.models.XGB.XGBOOSTClassifier'>: 0.9625\n",
      "Processing index 6 / 15\n",
      "set features: 12\n"
     ]
    },
    {
     "name": "stderr",
     "output_type": "stream",
     "text": [
      "100%|██████████| 500/500 [00:17<00:00, 27.79it/s]\n"
     ]
    },
    {
     "name": "stdout",
     "output_type": "stream",
     "text": [
      "Accuray of <class 'core.models.MLP.MLPClassifier'>: 0.995\n",
      "Accuray of <class 'core.models.RandomForest.m_RandomForestClassifier'>: 0.965\n",
      "Accuray of <class 'core.models.RandomForest.m_RandomForestClassifier'>: 0.9925\n",
      "Accuray of <class 'core.models.RandomForest.m_DecisionTreeClassifier'>: 0.98\n",
      "Accuray of <class 'core.models.RandomForest.m_DecisionTreeClassifier'>: 1.0\n",
      "Accuray of <class 'core.models.GAM.m_LogisticRegression'>: 0.9875\n",
      "Accuray of <class 'core.models.SVM.SVMClassifier'>: 0.9525\n"
     ]
    },
    {
     "name": "stderr",
     "output_type": "stream",
     "text": [
      "  1%|          | 3/500 [00:00<00:16, 29.38it/s]"
     ]
    },
    {
     "name": "stdout",
     "output_type": "stream",
     "text": [
      "Accuray of <class 'core.models.XGB.XGBOOSTClassifier'>: 0.9675\n",
      "Processing index 7 / 15\n",
      "set features: 12\n"
     ]
    },
    {
     "name": "stderr",
     "output_type": "stream",
     "text": [
      "100%|██████████| 500/500 [00:18<00:00, 26.42it/s]\n",
      "  0%|          | 0/500 [00:00<?, ?it/s]"
     ]
    },
    {
     "name": "stdout",
     "output_type": "stream",
     "text": [
      "Accuray of <class 'core.models.MLP.MLPClassifier'>: 0.9975\n",
      "Accuray of <class 'core.models.RandomForest.m_RandomForestClassifier'>: 0.995\n",
      "Accuray of <class 'core.models.RandomForest.m_RandomForestClassifier'>: 1.0\n",
      "Accuray of <class 'core.models.RandomForest.m_DecisionTreeClassifier'>: 1.0\n",
      "Accuray of <class 'core.models.RandomForest.m_DecisionTreeClassifier'>: 1.0\n",
      "Accuray of <class 'core.models.GAM.m_LogisticRegression'>: 0.945\n",
      "Accuray of <class 'core.models.SVM.SVMClassifier'>: 0.945\n",
      "Accuray of <class 'core.models.XGB.XGBOOSTClassifier'>: 0.945\n",
      "Processing index 8 / 15\n",
      "set features: 12\n"
     ]
    },
    {
     "name": "stderr",
     "output_type": "stream",
     "text": [
      "100%|██████████| 500/500 [00:18<00:00, 26.62it/s]\n"
     ]
    },
    {
     "name": "stdout",
     "output_type": "stream",
     "text": [
      "Accuray of <class 'core.models.MLP.MLPClassifier'>: 0.9675\n",
      "Accuray of <class 'core.models.RandomForest.m_RandomForestClassifier'>: 0.875\n",
      "Accuray of <class 'core.models.RandomForest.m_RandomForestClassifier'>: 0.99\n",
      "Accuray of <class 'core.models.RandomForest.m_DecisionTreeClassifier'>: 0.98\n",
      "Accuray of <class 'core.models.RandomForest.m_DecisionTreeClassifier'>: 0.985\n",
      "Accuray of <class 'core.models.GAM.m_LogisticRegression'>: 0.91\n",
      "Accuray of <class 'core.models.SVM.SVMClassifier'>: 0.8425\n"
     ]
    },
    {
     "name": "stderr",
     "output_type": "stream",
     "text": [
      "  1%|          | 3/500 [00:00<00:21, 23.55it/s]"
     ]
    },
    {
     "name": "stdout",
     "output_type": "stream",
     "text": [
      "Accuray of <class 'core.models.XGB.XGBOOSTClassifier'>: 0.94\n",
      "Processing index 9 / 15\n",
      "set features: 12\n"
     ]
    },
    {
     "name": "stderr",
     "output_type": "stream",
     "text": [
      "100%|██████████| 500/500 [00:18<00:00, 26.34it/s]\n"
     ]
    },
    {
     "name": "stdout",
     "output_type": "stream",
     "text": [
      "Accuray of <class 'core.models.MLP.MLPClassifier'>: 0.9925\n",
      "Accuray of <class 'core.models.RandomForest.m_RandomForestClassifier'>: 0.9475\n",
      "Accuray of <class 'core.models.RandomForest.m_RandomForestClassifier'>: 0.985\n",
      "Accuray of <class 'core.models.RandomForest.m_DecisionTreeClassifier'>: 0.955\n",
      "Accuray of <class 'core.models.RandomForest.m_DecisionTreeClassifier'>: 0.985\n",
      "Accuray of <class 'core.models.GAM.m_LogisticRegression'>: 0.9175\n",
      "Accuray of <class 'core.models.SVM.SVMClassifier'>: 0.8425\n"
     ]
    },
    {
     "name": "stderr",
     "output_type": "stream",
     "text": [
      "  1%|          | 3/500 [00:00<00:20, 24.71it/s]"
     ]
    },
    {
     "name": "stdout",
     "output_type": "stream",
     "text": [
      "Accuray of <class 'core.models.XGB.XGBOOSTClassifier'>: 0.9325\n",
      "Processing index 10 / 15\n",
      "set features: 12\n"
     ]
    },
    {
     "name": "stderr",
     "output_type": "stream",
     "text": [
      "100%|██████████| 500/500 [00:18<00:00, 27.10it/s]\n",
      "  1%|          | 4/500 [00:00<00:16, 29.26it/s]"
     ]
    },
    {
     "name": "stdout",
     "output_type": "stream",
     "text": [
      "Accuray of <class 'core.models.MLP.MLPClassifier'>: 1.0\n",
      "Accuray of <class 'core.models.RandomForest.m_RandomForestClassifier'>: 1.0\n",
      "Accuray of <class 'core.models.RandomForest.m_RandomForestClassifier'>: 1.0\n",
      "Accuray of <class 'core.models.RandomForest.m_DecisionTreeClassifier'>: 1.0\n",
      "Accuray of <class 'core.models.RandomForest.m_DecisionTreeClassifier'>: 1.0\n",
      "Accuray of <class 'core.models.GAM.m_LogisticRegression'>: 1.0\n",
      "Accuray of <class 'core.models.SVM.SVMClassifier'>: 1.0\n",
      "Accuray of <class 'core.models.XGB.XGBOOSTClassifier'>: 1.0\n",
      "Processing index 11 / 15\n",
      "set features: 12\n"
     ]
    },
    {
     "name": "stderr",
     "output_type": "stream",
     "text": [
      "100%|██████████| 500/500 [00:19<00:00, 25.38it/s]\n"
     ]
    },
    {
     "name": "stdout",
     "output_type": "stream",
     "text": [
      "Accuray of <class 'core.models.MLP.MLPClassifier'>: 0.975\n",
      "Accuray of <class 'core.models.RandomForest.m_RandomForestClassifier'>: 0.9925\n",
      "Accuray of <class 'core.models.RandomForest.m_RandomForestClassifier'>: 0.9925\n",
      "Accuray of <class 'core.models.RandomForest.m_DecisionTreeClassifier'>: 0.985\n",
      "Accuray of <class 'core.models.RandomForest.m_DecisionTreeClassifier'>: 0.995\n",
      "Accuray of <class 'core.models.GAM.m_LogisticRegression'>: 0.96\n",
      "Accuray of <class 'core.models.SVM.SVMClassifier'>: 0.975\n"
     ]
    },
    {
     "name": "stderr",
     "output_type": "stream",
     "text": [
      "  1%|          | 3/500 [00:00<00:22, 21.95it/s]"
     ]
    },
    {
     "name": "stdout",
     "output_type": "stream",
     "text": [
      "Accuray of <class 'core.models.XGB.XGBOOSTClassifier'>: 0.975\n",
      "Processing index 12 / 15\n",
      "set features: 12\n"
     ]
    },
    {
     "name": "stderr",
     "output_type": "stream",
     "text": [
      "100%|██████████| 500/500 [00:17<00:00, 28.60it/s]\n"
     ]
    },
    {
     "name": "stdout",
     "output_type": "stream",
     "text": [
      "Accuray of <class 'core.models.MLP.MLPClassifier'>: 0.9975\n",
      "Accuray of <class 'core.models.RandomForest.m_RandomForestClassifier'>: 0.9925\n",
      "Accuray of <class 'core.models.RandomForest.m_RandomForestClassifier'>: 0.9975\n",
      "Accuray of <class 'core.models.RandomForest.m_DecisionTreeClassifier'>: 0.995\n",
      "Accuray of <class 'core.models.RandomForest.m_DecisionTreeClassifier'>: 1.0\n",
      "Accuray of <class 'core.models.GAM.m_LogisticRegression'>: 0.98\n",
      "Accuray of <class 'core.models.SVM.SVMClassifier'>: 0.955\n"
     ]
    },
    {
     "name": "stderr",
     "output_type": "stream",
     "text": [
      "  1%|          | 4/500 [00:00<00:15, 33.02it/s]"
     ]
    },
    {
     "name": "stdout",
     "output_type": "stream",
     "text": [
      "Accuray of <class 'core.models.XGB.XGBOOSTClassifier'>: 0.98\n",
      "Processing index 13 / 15\n",
      "set features: 12\n"
     ]
    },
    {
     "name": "stderr",
     "output_type": "stream",
     "text": [
      "100%|██████████| 500/500 [00:18<00:00, 26.80it/s]\n"
     ]
    },
    {
     "name": "stdout",
     "output_type": "stream",
     "text": [
      "Accuray of <class 'core.models.MLP.MLPClassifier'>: 0.9975\n",
      "Accuray of <class 'core.models.RandomForest.m_RandomForestClassifier'>: 0.995\n",
      "Accuray of <class 'core.models.RandomForest.m_RandomForestClassifier'>: 0.9925\n",
      "Accuray of <class 'core.models.RandomForest.m_DecisionTreeClassifier'>: 0.99\n",
      "Accuray of <class 'core.models.RandomForest.m_DecisionTreeClassifier'>: 0.9975\n",
      "Accuray of <class 'core.models.GAM.m_LogisticRegression'>: 0.98\n",
      "Accuray of <class 'core.models.SVM.SVMClassifier'>: 0.9475\n"
     ]
    },
    {
     "name": "stderr",
     "output_type": "stream",
     "text": [
      "  1%|          | 4/500 [00:00<00:15, 31.60it/s]"
     ]
    },
    {
     "name": "stdout",
     "output_type": "stream",
     "text": [
      "Accuray of <class 'core.models.XGB.XGBOOSTClassifier'>: 0.985\n",
      "Processing index 14 / 15\n",
      "set features: 12\n"
     ]
    },
    {
     "name": "stderr",
     "output_type": "stream",
     "text": [
      "100%|██████████| 500/500 [00:20<00:00, 24.94it/s]"
     ]
    },
    {
     "name": "stdout",
     "output_type": "stream",
     "text": [
      "Accuray of <class 'core.models.MLP.MLPClassifier'>: 1.0\n",
      "Accuray of <class 'core.models.RandomForest.m_RandomForestClassifier'>: 1.0\n",
      "Accuray of <class 'core.models.RandomForest.m_RandomForestClassifier'>: 1.0\n",
      "Accuray of <class 'core.models.RandomForest.m_DecisionTreeClassifier'>: 1.0\n",
      "Accuray of <class 'core.models.RandomForest.m_DecisionTreeClassifier'>: 1.0\n",
      "Accuray of <class 'core.models.GAM.m_LogisticRegression'>: 1.0\n",
      "Accuray of <class 'core.models.SVM.SVMClassifier'>: 1.0\n",
      "Accuray of <class 'core.models.XGB.XGBOOSTClassifier'>: 1.0\n"
     ]
    },
    {
     "name": "stderr",
     "output_type": "stream",
     "text": [
      "\n"
     ]
    }
   ],
   "source": [
    "# model_perf = {\n",
    "    \n",
    "# }\n",
    "present_idxs = range(len(one_file_dss))\n",
    "models = {\n",
    "    'MLP': [],\n",
    "    'RF(5)': [],\n",
    "    'RF(U)': [],\n",
    "    'DT(5)': [],\n",
    "    'DT(U)': [],\n",
    "    'LR': [],\n",
    "    'SVM': [],\n",
    "    'XGB': []\n",
    "}\n",
    "\n",
    "scalers = []\n",
    "\n",
    "for i in present_idxs:  # range(len(one_file_dss)):\n",
    "    # ds = one_file_dss[i][one_file_dss[i]['predicate_op_num_on_non_indexed_attr'] == 0]\n",
    "    print(f\"Processing index {i} / {len(present_idxs)}\")\n",
    "    ds = one_file_dss[i]\n",
    "    ds_name = one_file_names[i]\n",
    "    \n",
    "    # =========================\n",
    "    X = ds[features]\n",
    "    y = ds['optimal_decision']\n",
    "    X_costs = ds[dl.regression_targets]\n",
    "\n",
    "    from sklearn.model_selection import train_test_split\n",
    "    from sklearn import preprocessing\n",
    "\n",
    "    X_train, X_test, y_train, y_test = train_test_split(X, y, train_size=0.8, random_state=1)\n",
    "    X_train_costs, _, _, _, = train_test_split(X_costs, y, train_size=0.8, random_state=1)\n",
    "    X_train, X_test, y_train, y_test = \\\n",
    "        X_train.to_numpy(),X_test.to_numpy(), y_train.to_numpy(), y_test.to_numpy()\n",
    "\n",
    "    X_train_weights = calculate_importance_from_costs(X_train_costs.to_numpy())\n",
    "\n",
    "    scaler = preprocessing.StandardScaler().fit(X_train)\n",
    "    X_train = scaler.transform(X_train)\n",
    "\n",
    "    # scaler = preprocessing.StandardScaler().fit(X_test)\n",
    "    X_test = scaler.transform(X_test)\n",
    "\n",
    "    X_train_weights = preprocessing.MinMaxScaler().fit_transform(X_train_weights.reshape(-1,1)).flatten()\n",
    "    \n",
    "    scalers.append(scaler)\n",
    "    # =========================\n",
    "    \n",
    "    accs = []\n",
    "    for idx, model_name in enumerate(weighted_clf_model_name_list):\n",
    "        model = weighted_clf_model_list[model_name.split('(')[0]]        \n",
    "        if 'DT' in model_name or 'RF' in model_name:\n",
    "            max_depth = model_name.split('(')[-1].split(')')[0]\n",
    "            if max_depth.lower() == 'u':\n",
    "                max_depth = None\n",
    "            else:\n",
    "                max_depth = int(max_depth)\n",
    "            clf = model().fit(X_train, y_train, sample_weight=X_train_weights, max_depth=max_depth)\n",
    "        else:\n",
    "            clf = model().fit(X_train, y_train, sample_weight=X_train_weights)\n",
    "            \n",
    "        print(f\"Accuray of {model}: {clf.score(X_test, y_test)}\")\n",
    "        \n",
    "        models[model_name].append(clf)\n",
    "    "
   ]
  },
  {
   "cell_type": "code",
   "execution_count": 11,
   "id": "great-happiness",
   "metadata": {},
   "outputs": [],
   "source": [
    "scale_factor = 10\n",
    "dl = DataLoader(engine)\n",
    "one_file_dss, one_file_names = dl.get_one_file_ds(return_type='ds and names', datasets=[f'tpch_{scale_factor}'])"
   ]
  },
  {
   "cell_type": "code",
   "execution_count": 12,
   "id": "cardiovascular-fetish",
   "metadata": {},
   "outputs": [
    {
     "name": "stdout",
     "output_type": "stream",
     "text": [
      "Using features:  ['left_cardinality', 'base_cardinality', 'sel_of_pred_on_indexed_attr', 'sel_of_pred_on_non_indexed_attr', 'sel_of_join_pred', 'left_ordered', 'base_ordered', 'left_indexed', 'base_indexed', 'result_size', 'predicate_op_num_on_indexed_attr', 'predicate_op_num_on_non_indexed_attr']\n"
     ]
    }
   ],
   "source": [
    "all_features = dl.all_features\n",
    "classification_target = dl.classification_target\n",
    "\n",
    "features = dl.base_features\n",
    "print(\"Using features: \", features)"
   ]
  },
  {
   "cell_type": "code",
   "execution_count": 13,
   "id": "piano-horror",
   "metadata": {
    "scrolled": false
   },
   "outputs": [
    {
     "name": "stdout",
     "output_type": "stream",
     "text": [
      "Processing index 0 : tpch_10 customer/postgres_orders_customer_optimal.csv\n",
      "Accuray of MLP: 0.993\n",
      "Accuray of RF(5): 0.963\n",
      "Accuray of RF(U): 0.998\n",
      "Accuray of DT(5): 0.975\n",
      "Accuray of DT(U): 0.998\n",
      "Accuray of LR: 0.884\n",
      "Accuray of SVM: 0.849\n",
      "Accuray of XGB: 0.932\n",
      "Processing index 1 : tpch_10 orders/postgres_customer_orders_optimal.csv\n",
      "Accuray of MLP: 0.9645\n",
      "Accuray of RF(5): 0.8825\n",
      "Accuray of RF(U): 0.9935\n",
      "Accuray of DT(5): 0.904\n",
      "Accuray of DT(U): 0.996\n",
      "Accuray of LR: 0.884\n",
      "Accuray of SVM: 0.769\n",
      "Accuray of XGB: 0.924\n",
      "Processing index 2 : tpch_10 orders/postgres_lineitem_orders_optimal.csv\n",
      "Accuray of MLP: 0.999\n",
      "Accuray of RF(5): 0.951\n",
      "Accuray of RF(U): 1.0\n",
      "Accuray of DT(5): 0.972\n",
      "Accuray of DT(U): 1.0\n",
      "Accuray of LR: 0.902\n",
      "Accuray of SVM: 0.866\n",
      "Accuray of XGB: 0.933\n",
      "Processing index 3 : tpch_10 part/postgres_lineitem_part_optimal.csv\n",
      "Accuray of MLP: 0.998\n",
      "Accuray of RF(5): 0.977\n",
      "Accuray of RF(U): 0.997\n",
      "Accuray of DT(5): 0.978\n",
      "Accuray of DT(U): 1.0\n",
      "Accuray of LR: 0.891\n",
      "Accuray of SVM: 0.86\n",
      "Accuray of XGB: 0.926\n",
      "Processing index 4 : tpch_10 part/postgres_partsupp_part_optimal.csv\n",
      "Accuray of MLP: 0.99\n",
      "Accuray of RF(5): 0.972\n",
      "Accuray of RF(U): 0.998\n",
      "Accuray of DT(5): 0.981\n",
      "Accuray of DT(U): 1.0\n",
      "Accuray of LR: 0.889\n",
      "Accuray of SVM: 0.864\n",
      "Accuray of XGB: 0.921\n",
      "Processing index 5 : tpch_10 partsupp/postgres_lineitem_partsupp_optimal.csv\n",
      "Accuray of MLP: 0.993\n",
      "Accuray of RF(5): 0.977\n",
      "Accuray of RF(U): 0.998\n",
      "Accuray of DT(5): 0.988\n",
      "Accuray of DT(U): 0.998\n",
      "Accuray of LR: 0.953\n",
      "Accuray of SVM: 0.955\n",
      "Accuray of XGB: 0.969\n",
      "Processing index 6 : tpch_10 partsupp/postgres_part_partsupp_optimal.csv\n",
      "Accuray of MLP: 0.9945\n",
      "Accuray of RF(5): 0.974\n",
      "Accuray of RF(U): 0.998\n",
      "Accuray of DT(5): 0.988\n",
      "Accuray of DT(U): 1.0\n",
      "Accuray of LR: 0.9795\n",
      "Accuray of SVM: 0.9505\n",
      "Accuray of XGB: 0.969\n",
      "Processing index 7 : tpch_10 partsupp/postgres_supplier_partsupp_optimal.csv\n",
      "Accuray of MLP: 0.992\n",
      "Accuray of RF(5): 0.9935\n",
      "Accuray of RF(U): 0.999\n",
      "Accuray of DT(5): 0.999\n",
      "Accuray of DT(U): 1.0\n",
      "Accuray of LR: 0.939\n",
      "Accuray of SVM: 0.939\n",
      "Accuray of XGB: 0.939\n",
      "Processing index 8 : tpch_10 supplier/postgres_lineitem_supplier_optimal.csv\n",
      "Accuray of MLP: 0.978\n",
      "Accuray of RF(5): 0.877\n",
      "Accuray of RF(U): 0.998\n",
      "Accuray of DT(5): 0.978\n",
      "Accuray of DT(U): 0.997\n",
      "Accuray of LR: 0.9\n",
      "Accuray of SVM: 0.827\n",
      "Accuray of XGB: 0.937\n",
      "Processing index 9 : tpch_10 supplier/postgres_partsupp_supplier_optimal.csv\n",
      "Accuray of MLP: 0.996\n",
      "Accuray of RF(5): 0.951\n",
      "Accuray of RF(U): 0.997\n",
      "Accuray of DT(5): 0.968\n",
      "Accuray of DT(U): 0.997\n",
      "Accuray of LR: 0.906\n",
      "Accuray of SVM: 0.829\n",
      "Accuray of XGB: 0.931\n",
      "Processing index 10 : tpch_10 nation/postgres_region_nation_optimal.csv\n",
      "Accuray of MLP: 1.0\n",
      "Accuray of RF(5): 1.0\n",
      "Accuray of RF(U): 1.0\n",
      "Accuray of DT(5): 1.0\n",
      "Accuray of DT(U): 1.0\n",
      "Accuray of LR: 1.0\n",
      "Accuray of SVM: 1.0\n",
      "Accuray of XGB: 1.0\n",
      "Processing index 11 : tpch_10 lineitem/postgres_orders_lineitem_optimal.csv\n",
      "Accuray of MLP: 0.9675\n",
      "Accuray of RF(5): 0.9965\n",
      "Accuray of RF(U): 0.9985\n",
      "Accuray of DT(5): 0.995\n",
      "Accuray of DT(U): 0.999\n",
      "Accuray of LR: 0.961\n",
      "Accuray of SVM: 0.9755\n",
      "Accuray of XGB: 0.98\n",
      "Processing index 12 : tpch_10 lineitem/postgres_part_lineitem_optimal.csv\n",
      "Accuray of MLP: 0.9995\n",
      "Accuray of RF(5): 0.9925\n",
      "Accuray of RF(U): 0.9995\n",
      "Accuray of DT(5): 0.991\n",
      "Accuray of DT(U): 1.0\n",
      "Accuray of LR: 0.9865\n",
      "Accuray of SVM: 0.964\n",
      "Accuray of XGB: 0.979\n",
      "Processing index 13 : tpch_10 lineitem/postgres_partsupp_lineitem_optimal.csv\n",
      "Accuray of MLP: 0.999\n",
      "Accuray of RF(5): 0.998\n",
      "Accuray of RF(U): 0.998\n",
      "Accuray of DT(5): 0.992\n",
      "Accuray of DT(U): 0.999\n",
      "Accuray of LR: 0.984\n",
      "Accuray of SVM: 0.954\n",
      "Accuray of XGB: 0.98\n",
      "Processing index 14 : tpch_10 region/postgres_nation_region_optimal.csv\n",
      "Accuray of MLP: 1.0\n",
      "Accuray of RF(5): 1.0\n",
      "Accuray of RF(U): 1.0\n",
      "Accuray of DT(5): 1.0\n",
      "Accuray of DT(U): 1.0\n",
      "Accuray of LR: 1.0\n",
      "Accuray of SVM: 1.0\n",
      "Accuray of XGB: 1.0\n"
     ]
    }
   ],
   "source": [
    "present_idxs = range(len(one_file_dss))\n",
    "model_accs = {\n",
    "    'MLP': [],\n",
    "    'RF(5)': [],\n",
    "    'RF(U)': [],\n",
    "    'DT(5)': [],\n",
    "    'DT(U)': [],\n",
    "    'LR': [],\n",
    "    'SVM': [],\n",
    "    'XGB': []\n",
    "}\n",
    "for i in present_idxs:  # range(len(one_file_dss)):\n",
    "    # ds = one_file_dss[i][one_file_dss[i]['predicate_op_num_on_non_indexed_attr'] == 0]\n",
    "    print(f\"Processing index {i} : {one_file_names[i]}\")\n",
    "    ds = one_file_dss[i]\n",
    "    ds_name = one_file_names[i]\n",
    "    \n",
    "    \n",
    "    # =========================\n",
    "    X = ds[features]\n",
    "    y = ds['optimal_decision']    \n",
    "#     X['left_cardinality'] = X['left_cardinality'] / scale_factor\n",
    "#     X['base_cardinality'] = X['base_cardinality'] / scale_factor\n",
    "#     X['result_size'] = X['result_size'] / scale_factor\n",
    "    \n",
    "    scaler = scalers[i]\n",
    "    X = scaler.transform(X.to_numpy())\n",
    "    y = y.to_numpy()\n",
    "    # =========================    \n",
    "    \n",
    "    for idx, model_name in enumerate(weighted_clf_model_name_list):\n",
    "        \n",
    "        clf = models[model_name][i]\n",
    "        score = clf.score(X, y)    \n",
    "        print(f\"Accuray of {model_name}: {score}\")\n",
    "    \n",
    "        model_accs[model_name].append(score)"
   ]
  },
  {
   "cell_type": "markdown",
   "id": "aboriginal-cache",
   "metadata": {},
   "source": [
    "# Model eval sf=10 => sf=1"
   ]
  },
  {
   "cell_type": "code",
   "execution_count": 19,
   "id": "wrapped-hurricane",
   "metadata": {},
   "outputs": [],
   "source": [
    "weighted_clf_model_list ={\n",
    "    \"MLP\": MLPClassifier,\n",
    "    \"DT\": m_DecisionTreeClassifier,\n",
    "    \"RF\": m_RandomForestClassifier,\n",
    "    \"LR\": m_LogisticRegression,\n",
    "    \"SVM\": SVMClassifier,\n",
    "    \"XGB\": XGBOOSTClassifier\n",
    "}\n",
    "weighted_clf_model_name_list = ['MLP', 'RF(5)', 'RF(U)', 'DT(5)', 'DT(U)', 'LR', 'SVM', 'XGB']\n",
    "# weighted_clf_model_name_list = ['DT(5)', 'RF(5)', 'MLP']"
   ]
  },
  {
   "cell_type": "code",
   "execution_count": 20,
   "id": "conservative-camera",
   "metadata": {},
   "outputs": [],
   "source": [
    "engine = 'postgres'\n",
    "\n",
    "dl = DataLoader(engine)\n",
    "one_file_dss, one_file_names = dl.get_one_file_ds(return_type='ds and names', datasets=['tpch_10'])"
   ]
  },
  {
   "cell_type": "code",
   "execution_count": 21,
   "id": "bright-bulgarian",
   "metadata": {},
   "outputs": [
    {
     "name": "stdout",
     "output_type": "stream",
     "text": [
      "Using features:  ['left_cardinality', 'base_cardinality', 'sel_of_pred_on_indexed_attr', 'sel_of_pred_on_non_indexed_attr', 'sel_of_join_pred', 'left_ordered', 'base_ordered', 'left_indexed', 'base_indexed', 'result_size', 'predicate_op_num_on_indexed_attr', 'predicate_op_num_on_non_indexed_attr']\n"
     ]
    }
   ],
   "source": [
    "# all_features = dl.all_features\n",
    "all_features = dl.all_features\n",
    "classification_target = dl.classification_target\n",
    "\n",
    "# features = dl.base_features\n",
    "# features = ['left_cardinality', 'sel_of_pred_on_indexed_attr']\n",
    "print(\"Using features: \", features)"
   ]
  },
  {
   "cell_type": "code",
   "execution_count": 22,
   "id": "running-brother",
   "metadata": {},
   "outputs": [
    {
     "name": "stderr",
     "output_type": "stream",
     "text": [
      "  1%|          | 3/500 [00:00<00:20, 23.83it/s]"
     ]
    },
    {
     "name": "stdout",
     "output_type": "stream",
     "text": [
      "Processing index 0 / 15\n",
      "set features: 12\n"
     ]
    },
    {
     "name": "stderr",
     "output_type": "stream",
     "text": [
      "100%|██████████| 500/500 [00:20<00:00, 24.82it/s]\n"
     ]
    },
    {
     "name": "stdout",
     "output_type": "stream",
     "text": [
      "Accuray of <class 'core.models.MLP.MLPClassifier'>: 0.9775\n",
      "Accuray of <class 'core.models.RandomForest.m_RandomForestClassifier'>: 0.9425\n",
      "Accuray of <class 'core.models.RandomForest.m_RandomForestClassifier'>: 0.9975\n",
      "Accuray of <class 'core.models.RandomForest.m_DecisionTreeClassifier'>: 0.9575\n",
      "Accuray of <class 'core.models.RandomForest.m_DecisionTreeClassifier'>: 0.99\n",
      "Accuray of <class 'core.models.GAM.m_LogisticRegression'>: 0.885\n",
      "Accuray of <class 'core.models.SVM.SVMClassifier'>: 0.855\n"
     ]
    },
    {
     "name": "stderr",
     "output_type": "stream",
     "text": [
      "  1%|          | 4/500 [00:00<00:15, 31.48it/s]"
     ]
    },
    {
     "name": "stdout",
     "output_type": "stream",
     "text": [
      "Accuray of <class 'core.models.XGB.XGBOOSTClassifier'>: 0.935\n",
      "Processing index 1 / 15\n",
      "set features: 12\n"
     ]
    },
    {
     "name": "stderr",
     "output_type": "stream",
     "text": [
      "100%|██████████| 500/500 [00:18<00:00, 27.00it/s]\n"
     ]
    },
    {
     "name": "stdout",
     "output_type": "stream",
     "text": [
      "Accuray of <class 'core.models.MLP.MLPClassifier'>: 0.975\n",
      "Accuray of <class 'core.models.RandomForest.m_RandomForestClassifier'>: 0.845\n",
      "Accuray of <class 'core.models.RandomForest.m_RandomForestClassifier'>: 0.97\n",
      "Accuray of <class 'core.models.RandomForest.m_DecisionTreeClassifier'>: 0.8875\n",
      "Accuray of <class 'core.models.RandomForest.m_DecisionTreeClassifier'>: 0.98\n",
      "Accuray of <class 'core.models.GAM.m_LogisticRegression'>: 0.8775\n",
      "Accuray of <class 'core.models.SVM.SVMClassifier'>: 0.76\n"
     ]
    },
    {
     "name": "stderr",
     "output_type": "stream",
     "text": [
      "  1%|          | 3/500 [00:00<00:17, 28.19it/s]"
     ]
    },
    {
     "name": "stdout",
     "output_type": "stream",
     "text": [
      "Accuray of <class 'core.models.XGB.XGBOOSTClassifier'>: 0.91\n",
      "Processing index 2 / 15\n",
      "set features: 12\n"
     ]
    },
    {
     "name": "stderr",
     "output_type": "stream",
     "text": [
      "100%|██████████| 500/500 [00:19<00:00, 25.63it/s]\n"
     ]
    },
    {
     "name": "stdout",
     "output_type": "stream",
     "text": [
      "Accuray of <class 'core.models.MLP.MLPClassifier'>: 0.995\n",
      "Accuray of <class 'core.models.RandomForest.m_RandomForestClassifier'>: 0.965\n",
      "Accuray of <class 'core.models.RandomForest.m_RandomForestClassifier'>: 0.995\n",
      "Accuray of <class 'core.models.RandomForest.m_DecisionTreeClassifier'>: 0.9775\n",
      "Accuray of <class 'core.models.RandomForest.m_DecisionTreeClassifier'>: 1.0\n",
      "Accuray of <class 'core.models.GAM.m_LogisticRegression'>: 0.9175\n",
      "Accuray of <class 'core.models.SVM.SVMClassifier'>: 0.8675\n"
     ]
    },
    {
     "name": "stderr",
     "output_type": "stream",
     "text": [
      "  1%|          | 3/500 [00:00<00:18, 27.37it/s]"
     ]
    },
    {
     "name": "stdout",
     "output_type": "stream",
     "text": [
      "Accuray of <class 'core.models.XGB.XGBOOSTClassifier'>: 0.9425\n",
      "Processing index 3 / 15\n",
      "set features: 12\n"
     ]
    },
    {
     "name": "stderr",
     "output_type": "stream",
     "text": [
      "100%|██████████| 500/500 [00:18<00:00, 27.57it/s]\n"
     ]
    },
    {
     "name": "stdout",
     "output_type": "stream",
     "text": [
      "Accuray of <class 'core.models.MLP.MLPClassifier'>: 0.975\n",
      "Accuray of <class 'core.models.RandomForest.m_RandomForestClassifier'>: 0.965\n",
      "Accuray of <class 'core.models.RandomForest.m_RandomForestClassifier'>: 0.99\n",
      "Accuray of <class 'core.models.RandomForest.m_DecisionTreeClassifier'>: 0.9775\n",
      "Accuray of <class 'core.models.RandomForest.m_DecisionTreeClassifier'>: 1.0\n",
      "Accuray of <class 'core.models.GAM.m_LogisticRegression'>: 0.895\n",
      "Accuray of <class 'core.models.SVM.SVMClassifier'>: 0.86\n"
     ]
    },
    {
     "name": "stderr",
     "output_type": "stream",
     "text": [
      "  1%|          | 4/500 [00:00<00:15, 31.75it/s]"
     ]
    },
    {
     "name": "stdout",
     "output_type": "stream",
     "text": [
      "Accuray of <class 'core.models.XGB.XGBOOSTClassifier'>: 0.93\n",
      "Processing index 4 / 15\n",
      "set features: 12\n"
     ]
    },
    {
     "name": "stderr",
     "output_type": "stream",
     "text": [
      "100%|██████████| 500/500 [00:17<00:00, 28.29it/s]\n"
     ]
    },
    {
     "name": "stdout",
     "output_type": "stream",
     "text": [
      "Accuray of <class 'core.models.MLP.MLPClassifier'>: 0.995\n",
      "Accuray of <class 'core.models.RandomForest.m_RandomForestClassifier'>: 0.9675\n",
      "Accuray of <class 'core.models.RandomForest.m_RandomForestClassifier'>: 0.9925\n",
      "Accuray of <class 'core.models.RandomForest.m_DecisionTreeClassifier'>: 0.9825\n",
      "Accuray of <class 'core.models.RandomForest.m_DecisionTreeClassifier'>: 1.0\n",
      "Accuray of <class 'core.models.GAM.m_LogisticRegression'>: 0.8925\n",
      "Accuray of <class 'core.models.SVM.SVMClassifier'>: 0.8675\n"
     ]
    },
    {
     "name": "stderr",
     "output_type": "stream",
     "text": [
      "  1%|          | 4/500 [00:00<00:15, 31.67it/s]"
     ]
    },
    {
     "name": "stdout",
     "output_type": "stream",
     "text": [
      "Accuray of <class 'core.models.XGB.XGBOOSTClassifier'>: 0.92\n",
      "Processing index 5 / 15\n",
      "set features: 12\n"
     ]
    },
    {
     "name": "stderr",
     "output_type": "stream",
     "text": [
      "100%|██████████| 500/500 [00:18<00:00, 26.49it/s]\n"
     ]
    },
    {
     "name": "stdout",
     "output_type": "stream",
     "text": [
      "Accuray of <class 'core.models.MLP.MLPClassifier'>: 0.98\n",
      "Accuray of <class 'core.models.RandomForest.m_RandomForestClassifier'>: 0.9725\n",
      "Accuray of <class 'core.models.RandomForest.m_RandomForestClassifier'>: 0.9825\n",
      "Accuray of <class 'core.models.RandomForest.m_DecisionTreeClassifier'>: 0.975\n",
      "Accuray of <class 'core.models.RandomForest.m_DecisionTreeClassifier'>: 0.99\n",
      "Accuray of <class 'core.models.GAM.m_LogisticRegression'>: 0.955\n",
      "Accuray of <class 'core.models.SVM.SVMClassifier'>: 0.955\n"
     ]
    },
    {
     "name": "stderr",
     "output_type": "stream",
     "text": [
      "  1%|          | 3/500 [00:00<00:19, 25.97it/s]"
     ]
    },
    {
     "name": "stdout",
     "output_type": "stream",
     "text": [
      "Accuray of <class 'core.models.XGB.XGBOOSTClassifier'>: 0.9625\n",
      "Processing index 6 / 15\n",
      "set features: 12\n"
     ]
    },
    {
     "name": "stderr",
     "output_type": "stream",
     "text": [
      "100%|██████████| 500/500 [00:19<00:00, 26.19it/s]\n"
     ]
    },
    {
     "name": "stdout",
     "output_type": "stream",
     "text": [
      "Accuray of <class 'core.models.MLP.MLPClassifier'>: 0.9925\n",
      "Accuray of <class 'core.models.RandomForest.m_RandomForestClassifier'>: 0.9775\n",
      "Accuray of <class 'core.models.RandomForest.m_RandomForestClassifier'>: 0.9875\n",
      "Accuray of <class 'core.models.RandomForest.m_DecisionTreeClassifier'>: 0.98\n",
      "Accuray of <class 'core.models.RandomForest.m_DecisionTreeClassifier'>: 1.0\n",
      "Accuray of <class 'core.models.GAM.m_LogisticRegression'>: 0.9875\n",
      "Accuray of <class 'core.models.SVM.SVMClassifier'>: 0.9525\n"
     ]
    },
    {
     "name": "stderr",
     "output_type": "stream",
     "text": [
      "  1%|          | 4/500 [00:00<00:16, 30.00it/s]"
     ]
    },
    {
     "name": "stdout",
     "output_type": "stream",
     "text": [
      "Accuray of <class 'core.models.XGB.XGBOOSTClassifier'>: 0.9675\n",
      "Processing index 7 / 15\n",
      "set features: 12\n"
     ]
    },
    {
     "name": "stderr",
     "output_type": "stream",
     "text": [
      "100%|██████████| 500/500 [00:20<00:00, 24.93it/s]\n"
     ]
    },
    {
     "name": "stdout",
     "output_type": "stream",
     "text": [
      "Accuray of <class 'core.models.MLP.MLPClassifier'>: 0.995\n",
      "Accuray of <class 'core.models.RandomForest.m_RandomForestClassifier'>: 1.0\n",
      "Accuray of <class 'core.models.RandomForest.m_RandomForestClassifier'>: 1.0\n",
      "Accuray of <class 'core.models.RandomForest.m_DecisionTreeClassifier'>: 1.0\n",
      "Accuray of <class 'core.models.RandomForest.m_DecisionTreeClassifier'>: 1.0\n",
      "Accuray of <class 'core.models.GAM.m_LogisticRegression'>: 0.945\n",
      "Accuray of <class 'core.models.SVM.SVMClassifier'>: 0.945\n",
      "Accuray of <class 'core.models.XGB.XGBOOSTClassifier'>: 0.945\n",
      "Processing index 8 / 15\n"
     ]
    },
    {
     "name": "stderr",
     "output_type": "stream",
     "text": [
      "  0%|          | 2/500 [00:00<00:26, 18.54it/s]"
     ]
    },
    {
     "name": "stdout",
     "output_type": "stream",
     "text": [
      "set features: 12\n"
     ]
    },
    {
     "name": "stderr",
     "output_type": "stream",
     "text": [
      "100%|██████████| 500/500 [00:19<00:00, 25.44it/s]\n"
     ]
    },
    {
     "name": "stdout",
     "output_type": "stream",
     "text": [
      "Accuray of <class 'core.models.MLP.MLPClassifier'>: 0.98\n",
      "Accuray of <class 'core.models.RandomForest.m_RandomForestClassifier'>: 0.915\n",
      "Accuray of <class 'core.models.RandomForest.m_RandomForestClassifier'>: 0.99\n",
      "Accuray of <class 'core.models.RandomForest.m_DecisionTreeClassifier'>: 0.98\n",
      "Accuray of <class 'core.models.RandomForest.m_DecisionTreeClassifier'>: 0.985\n",
      "Accuray of <class 'core.models.GAM.m_LogisticRegression'>: 0.91\n",
      "Accuray of <class 'core.models.SVM.SVMClassifier'>: 0.8425\n"
     ]
    },
    {
     "name": "stderr",
     "output_type": "stream",
     "text": [
      "  1%|          | 3/500 [00:00<00:16, 29.98it/s]"
     ]
    },
    {
     "name": "stdout",
     "output_type": "stream",
     "text": [
      "Accuray of <class 'core.models.XGB.XGBOOSTClassifier'>: 0.94\n",
      "Processing index 9 / 15\n",
      "set features: 12\n"
     ]
    },
    {
     "name": "stderr",
     "output_type": "stream",
     "text": [
      "100%|██████████| 500/500 [00:18<00:00, 27.73it/s]\n"
     ]
    },
    {
     "name": "stdout",
     "output_type": "stream",
     "text": [
      "Accuray of <class 'core.models.MLP.MLPClassifier'>: 0.9525\n",
      "Accuray of <class 'core.models.RandomForest.m_RandomForestClassifier'>: 0.96\n",
      "Accuray of <class 'core.models.RandomForest.m_RandomForestClassifier'>: 0.99\n",
      "Accuray of <class 'core.models.RandomForest.m_DecisionTreeClassifier'>: 0.955\n",
      "Accuray of <class 'core.models.RandomForest.m_DecisionTreeClassifier'>: 0.985\n",
      "Accuray of <class 'core.models.GAM.m_LogisticRegression'>: 0.9175\n",
      "Accuray of <class 'core.models.SVM.SVMClassifier'>: 0.8425\n"
     ]
    },
    {
     "name": "stderr",
     "output_type": "stream",
     "text": [
      "  1%|          | 3/500 [00:00<00:16, 29.90it/s]"
     ]
    },
    {
     "name": "stdout",
     "output_type": "stream",
     "text": [
      "Accuray of <class 'core.models.XGB.XGBOOSTClassifier'>: 0.9325\n",
      "Processing index 10 / 15\n",
      "set features: 12\n"
     ]
    },
    {
     "name": "stderr",
     "output_type": "stream",
     "text": [
      "100%|██████████| 500/500 [00:17<00:00, 29.03it/s]\n",
      "  0%|          | 0/500 [00:00<?, ?it/s]"
     ]
    },
    {
     "name": "stdout",
     "output_type": "stream",
     "text": [
      "Accuray of <class 'core.models.MLP.MLPClassifier'>: 1.0\n",
      "Accuray of <class 'core.models.RandomForest.m_RandomForestClassifier'>: 1.0\n",
      "Accuray of <class 'core.models.RandomForest.m_RandomForestClassifier'>: 1.0\n",
      "Accuray of <class 'core.models.RandomForest.m_DecisionTreeClassifier'>: 1.0\n",
      "Accuray of <class 'core.models.RandomForest.m_DecisionTreeClassifier'>: 1.0\n",
      "Accuray of <class 'core.models.GAM.m_LogisticRegression'>: 1.0\n",
      "Accuray of <class 'core.models.SVM.SVMClassifier'>: 1.0\n",
      "Accuray of <class 'core.models.XGB.XGBOOSTClassifier'>: 1.0\n",
      "Processing index 11 / 15\n",
      "set features: 12\n"
     ]
    },
    {
     "name": "stderr",
     "output_type": "stream",
     "text": [
      "100%|██████████| 500/500 [00:19<00:00, 25.54it/s]\n"
     ]
    },
    {
     "name": "stdout",
     "output_type": "stream",
     "text": [
      "Accuray of <class 'core.models.MLP.MLPClassifier'>: 0.9925\n",
      "Accuray of <class 'core.models.RandomForest.m_RandomForestClassifier'>: 0.995\n",
      "Accuray of <class 'core.models.RandomForest.m_RandomForestClassifier'>: 0.9925\n",
      "Accuray of <class 'core.models.RandomForest.m_DecisionTreeClassifier'>: 0.985\n",
      "Accuray of <class 'core.models.RandomForest.m_DecisionTreeClassifier'>: 1.0\n",
      "Accuray of <class 'core.models.GAM.m_LogisticRegression'>: 0.96\n",
      "Accuray of <class 'core.models.SVM.SVMClassifier'>: 0.975\n",
      "Accuray of <class 'core.models.XGB.XGBOOSTClassifier'>: 0.975\n",
      "Processing index 12 / 15\n"
     ]
    },
    {
     "name": "stderr",
     "output_type": "stream",
     "text": [
      "  1%|          | 3/500 [00:00<00:17, 29.13it/s]"
     ]
    },
    {
     "name": "stdout",
     "output_type": "stream",
     "text": [
      "set features: 12\n"
     ]
    },
    {
     "name": "stderr",
     "output_type": "stream",
     "text": [
      "100%|██████████| 500/500 [00:18<00:00, 27.20it/s]\n"
     ]
    },
    {
     "name": "stdout",
     "output_type": "stream",
     "text": [
      "Accuray of <class 'core.models.MLP.MLPClassifier'>: 0.9975\n",
      "Accuray of <class 'core.models.RandomForest.m_RandomForestClassifier'>: 0.98\n",
      "Accuray of <class 'core.models.RandomForest.m_RandomForestClassifier'>: 0.9925\n",
      "Accuray of <class 'core.models.RandomForest.m_DecisionTreeClassifier'>: 0.995\n",
      "Accuray of <class 'core.models.RandomForest.m_DecisionTreeClassifier'>: 1.0\n",
      "Accuray of <class 'core.models.GAM.m_LogisticRegression'>: 0.98\n",
      "Accuray of <class 'core.models.SVM.SVMClassifier'>: 0.955\n"
     ]
    },
    {
     "name": "stderr",
     "output_type": "stream",
     "text": [
      "  1%|          | 4/500 [00:00<00:15, 32.27it/s]"
     ]
    },
    {
     "name": "stdout",
     "output_type": "stream",
     "text": [
      "Accuray of <class 'core.models.XGB.XGBOOSTClassifier'>: 0.98\n",
      "Processing index 13 / 15\n",
      "set features: 12\n"
     ]
    },
    {
     "name": "stderr",
     "output_type": "stream",
     "text": [
      "100%|██████████| 500/500 [00:17<00:00, 28.71it/s]\n"
     ]
    },
    {
     "name": "stdout",
     "output_type": "stream",
     "text": [
      "Accuray of <class 'core.models.MLP.MLPClassifier'>: 0.9975\n",
      "Accuray of <class 'core.models.RandomForest.m_RandomForestClassifier'>: 0.99\n",
      "Accuray of <class 'core.models.RandomForest.m_RandomForestClassifier'>: 0.9825\n",
      "Accuray of <class 'core.models.RandomForest.m_DecisionTreeClassifier'>: 0.99\n",
      "Accuray of <class 'core.models.RandomForest.m_DecisionTreeClassifier'>: 0.9975\n",
      "Accuray of <class 'core.models.GAM.m_LogisticRegression'>: 0.98\n",
      "Accuray of <class 'core.models.SVM.SVMClassifier'>: 0.9475\n"
     ]
    },
    {
     "name": "stderr",
     "output_type": "stream",
     "text": [
      "  1%|          | 4/500 [00:00<00:16, 30.19it/s]"
     ]
    },
    {
     "name": "stdout",
     "output_type": "stream",
     "text": [
      "Accuray of <class 'core.models.XGB.XGBOOSTClassifier'>: 0.985\n",
      "Processing index 14 / 15\n",
      "set features: 12\n"
     ]
    },
    {
     "name": "stderr",
     "output_type": "stream",
     "text": [
      "100%|██████████| 500/500 [00:17<00:00, 29.15it/s]\n"
     ]
    },
    {
     "name": "stdout",
     "output_type": "stream",
     "text": [
      "Accuray of <class 'core.models.MLP.MLPClassifier'>: 1.0\n",
      "Accuray of <class 'core.models.RandomForest.m_RandomForestClassifier'>: 1.0\n",
      "Accuray of <class 'core.models.RandomForest.m_RandomForestClassifier'>: 1.0\n",
      "Accuray of <class 'core.models.RandomForest.m_DecisionTreeClassifier'>: 1.0\n",
      "Accuray of <class 'core.models.RandomForest.m_DecisionTreeClassifier'>: 1.0\n",
      "Accuray of <class 'core.models.GAM.m_LogisticRegression'>: 1.0\n",
      "Accuray of <class 'core.models.SVM.SVMClassifier'>: 1.0\n",
      "Accuray of <class 'core.models.XGB.XGBOOSTClassifier'>: 1.0\n"
     ]
    }
   ],
   "source": [
    "# model_perf = {\n",
    "    \n",
    "# }\n",
    "present_idxs = range(len(one_file_dss))\n",
    "models = {\n",
    "    'MLP': [],\n",
    "    'RF(5)': [],\n",
    "    'RF(U)': [],\n",
    "    'DT(5)': [],\n",
    "    'DT(U)': [],\n",
    "    'LR': [],\n",
    "    'SVM': [],\n",
    "    'XGB': []\n",
    "}\n",
    "\n",
    "scalers = []\n",
    "\n",
    "for i in present_idxs:  # range(len(one_file_dss)):\n",
    "    # ds = one_file_dss[i][one_file_dss[i]['predicate_op_num_on_non_indexed_attr'] == 0]\n",
    "    print(f\"Processing index {i} / {len(present_idxs)}\")\n",
    "    ds = one_file_dss[i]\n",
    "    ds_name = one_file_names[i]\n",
    "    \n",
    "    # =========================\n",
    "    X = ds[features]\n",
    "    y = ds['optimal_decision']\n",
    "    X_costs = ds[dl.regression_targets]\n",
    "\n",
    "    from sklearn.model_selection import train_test_split\n",
    "    from sklearn import preprocessing\n",
    "\n",
    "    X_train, X_test, y_train, y_test = train_test_split(X, y, train_size=0.8, random_state=1)\n",
    "    X_train_costs, _, _, _, = train_test_split(X_costs, y, train_size=0.8, random_state=1)\n",
    "    X_train, X_test, y_train, y_test = \\\n",
    "        X_train.to_numpy(),X_test.to_numpy(), y_train.to_numpy(), y_test.to_numpy()\n",
    "\n",
    "    X_train_weights = calculate_importance_from_costs(X_train_costs.to_numpy())\n",
    "\n",
    "    scaler = preprocessing.StandardScaler().fit(X_train)\n",
    "    X_train = scaler.transform(X_train)\n",
    "\n",
    "    # scaler = preprocessing.StandardScaler().fit(X_test)\n",
    "    X_test = scaler.transform(X_test)\n",
    "\n",
    "    X_train_weights = preprocessing.MinMaxScaler().fit_transform(X_train_weights.reshape(-1,1)).flatten()\n",
    "    \n",
    "    scalers.append(scaler)\n",
    "    # =========================\n",
    "    \n",
    "    accs = []\n",
    "    for idx, model_name in enumerate(weighted_clf_model_name_list):\n",
    "        model = weighted_clf_model_list[model_name.split('(')[0]]        \n",
    "        if 'DT' in model_name or 'RF' in model_name:\n",
    "            max_depth = model_name.split('(')[-1].split(')')[0]\n",
    "            if max_depth.lower() == 'u':\n",
    "                max_depth = None\n",
    "            else:\n",
    "                max_depth = int(max_depth)\n",
    "            clf = model().fit(X_train, y_train, sample_weight=X_train_weights, max_depth=max_depth)\n",
    "        else:\n",
    "            clf = model().fit(X_train, y_train, sample_weight=X_train_weights)\n",
    "            \n",
    "        print(f\"Accuray of {model}: {clf.score(X_test, y_test)}\")\n",
    "        \n",
    "        models[model_name].append(clf)\n",
    "    "
   ]
  },
  {
   "cell_type": "code",
   "execution_count": 23,
   "id": "russian-flush",
   "metadata": {},
   "outputs": [],
   "source": [
    "# scale_factor = 1\n",
    "dl = DataLoader(engine)\n",
    "one_file_dss, one_file_names = dl.get_one_file_ds(return_type='ds and names', datasets=[f'tpch'])"
   ]
  },
  {
   "cell_type": "code",
   "execution_count": 24,
   "id": "local-equivalent",
   "metadata": {},
   "outputs": [
    {
     "name": "stdout",
     "output_type": "stream",
     "text": [
      "Using features:  ['left_cardinality', 'base_cardinality', 'sel_of_pred_on_indexed_attr', 'sel_of_pred_on_non_indexed_attr', 'sel_of_join_pred', 'left_ordered', 'base_ordered', 'left_indexed', 'base_indexed', 'result_size', 'predicate_op_num_on_indexed_attr', 'predicate_op_num_on_non_indexed_attr']\n"
     ]
    }
   ],
   "source": [
    "all_features = dl.all_features\n",
    "classification_target = dl.classification_target\n",
    "\n",
    "features = dl.base_features\n",
    "print(\"Using features: \", features)"
   ]
  },
  {
   "cell_type": "code",
   "execution_count": 25,
   "id": "indie-anxiety",
   "metadata": {
    "scrolled": false
   },
   "outputs": [
    {
     "name": "stdout",
     "output_type": "stream",
     "text": [
      "Processing index 0 : tpch customer/postgres_orders_customer_optimal.csv\n",
      "Accuray of MLP: 0.008\n",
      "Accuray of RF(5): 0.507\n",
      "Accuray of RF(U): 0.541\n",
      "Accuray of DT(5): 0.427\n",
      "Accuray of DT(U): 0.448\n",
      "Accuray of LR: 0.082\n",
      "Accuray of SVM: 0.151\n",
      "Accuray of XGB: 0.566\n",
      "Processing index 1 : tpch orders/postgres_customer_orders_optimal.csv\n",
      "Accuray of MLP: 0.062\n",
      "Accuray of RF(5): 0.605\n",
      "Accuray of RF(U): 0.753\n",
      "Accuray of DT(5): 0.691\n",
      "Accuray of DT(U): 0.742\n",
      "Accuray of LR: 0.006\n",
      "Accuray of SVM: 0.606\n",
      "Accuray of XGB: 0.679\n",
      "Processing index 2 : tpch orders/postgres_lineitem_orders_optimal.csv\n",
      "Accuray of MLP: 0.773\n",
      "Accuray of RF(5): 0.738\n",
      "Accuray of RF(U): 0.675\n",
      "Accuray of DT(5): 0.706\n",
      "Accuray of DT(U): 0.599\n",
      "Accuray of LR: 0.134\n",
      "Accuray of SVM: 0.112\n",
      "Accuray of XGB: 0.783\n",
      "Processing index 3 : tpch part/postgres_lineitem_part_optimal.csv\n",
      "Accuray of MLP: 0.11\n",
      "Accuray of RF(5): 0.613\n",
      "Accuray of RF(U): 0.545\n",
      "Accuray of DT(5): 0.45\n",
      "Accuray of DT(U): 0.439\n",
      "Accuray of LR: 0.11\n",
      "Accuray of SVM: 0.075\n",
      "Accuray of XGB: 0.538\n",
      "Processing index 4 : tpch part/postgres_partsupp_part_optimal.csv\n",
      "Accuray of MLP: 0.093\n",
      "Accuray of RF(5): 0.589\n",
      "Accuray of RF(U): 0.537\n",
      "Accuray of DT(5): 0.482\n",
      "Accuray of DT(U): 0.46\n",
      "Accuray of LR: 0.799\n",
      "Accuray of SVM: 0.067\n",
      "Accuray of XGB: 0.533\n",
      "Processing index 5 : tpch partsupp/postgres_lineitem_partsupp_optimal.csv\n",
      "Accuray of MLP: 1.0\n",
      "Accuray of RF(5): 0.88\n",
      "Accuray of RF(U): 0.892\n",
      "Accuray of DT(5): 0.893\n",
      "Accuray of DT(U): 0.894\n",
      "Accuray of LR: 1.0\n",
      "Accuray of SVM: 0.656\n",
      "Accuray of XGB: 0.972\n",
      "Processing index 6 : tpch partsupp/postgres_part_partsupp_optimal.csv\n",
      "Accuray of MLP: 1.0\n",
      "Accuray of RF(5): 0.9355\n",
      "Accuray of RF(U): 0.9475\n",
      "Accuray of DT(5): 0.931\n",
      "Accuray of DT(U): 0.931\n",
      "Accuray of LR: 0.002\n",
      "Accuray of SVM: 0.6635\n",
      "Accuray of XGB: 0.919\n",
      "Processing index 7 : tpch partsupp/postgres_supplier_partsupp_optimal.csv\n",
      "Accuray of MLP: 0.981\n",
      "Accuray of RF(5): 0.9855\n",
      "Accuray of RF(U): 0.9855\n",
      "Accuray of DT(5): 0.981\n",
      "Accuray of DT(U): 0.981\n",
      "Accuray of LR: 0.981\n",
      "Accuray of SVM: 0.981\n",
      "Accuray of XGB: 0.981\n",
      "Processing index 8 : tpch supplier/postgres_lineitem_supplier_optimal.csv\n",
      "Accuray of MLP: 0.823\n",
      "Accuray of RF(5): 0.55\n",
      "Accuray of RF(U): 0.564\n",
      "Accuray of DT(5): 0.548\n",
      "Accuray of DT(U): 0.496\n",
      "Accuray of LR: 0.576\n",
      "Accuray of SVM: 0.725\n",
      "Accuray of XGB: 0.569\n",
      "Processing index 9 : tpch supplier/postgres_partsupp_supplier_optimal.csv\n",
      "Accuray of MLP: 0.008\n",
      "Accuray of RF(5): 0.583\n",
      "Accuray of RF(U): 0.542\n",
      "Accuray of DT(5): 0.481\n",
      "Accuray of DT(U): 0.457\n",
      "Accuray of LR: 0.608\n",
      "Accuray of SVM: 0.732\n",
      "Accuray of XGB: 0.517\n",
      "Processing index 10 : tpch nation/postgres_region_nation_optimal.csv\n",
      "Accuray of MLP: 1.0\n",
      "Accuray of RF(5): 1.0\n",
      "Accuray of RF(U): 1.0\n",
      "Accuray of DT(5): 1.0\n",
      "Accuray of DT(U): 1.0\n",
      "Accuray of LR: 1.0\n",
      "Accuray of SVM: 1.0\n",
      "Accuray of XGB: 1.0\n",
      "Processing index 11 : tpch lineitem/postgres_orders_lineitem_optimal.csv\n",
      "Accuray of MLP: 0.233\n",
      "Accuray of RF(5): 0.7205\n",
      "Accuray of RF(U): 0.857\n",
      "Accuray of DT(5): 0.665\n",
      "Accuray of DT(U): 0.887\n",
      "Accuray of LR: 0.697\n",
      "Accuray of SVM: 0.7485\n",
      "Accuray of XGB: 0.731\n",
      "Processing index 12 : tpch lineitem/postgres_part_lineitem_optimal.csv\n",
      "Accuray of MLP: 0.933\n",
      "Accuray of RF(5): 0.9705\n",
      "Accuray of RF(U): 0.951\n",
      "Accuray of DT(5): 0.966\n",
      "Accuray of DT(U): 0.966\n",
      "Accuray of LR: 0.933\n",
      "Accuray of SVM: 0.935\n",
      "Accuray of XGB: 0.986\n",
      "Processing index 13 : tpch lineitem/postgres_partsupp_lineitem_optimal.csv\n",
      "Accuray of MLP: 0.18\n",
      "Accuray of RF(5): 0.922\n",
      "Accuray of RF(U): 0.925\n",
      "Accuray of DT(5): 0.922\n",
      "Accuray of DT(U): 0.922\n",
      "Accuray of LR: 0.964\n",
      "Accuray of SVM: 0.949\n",
      "Accuray of XGB: 0.919\n",
      "Processing index 14 : tpch region/postgres_nation_region_optimal.csv\n",
      "Accuray of MLP: 1.0\n",
      "Accuray of RF(5): 1.0\n",
      "Accuray of RF(U): 1.0\n",
      "Accuray of DT(5): 1.0\n",
      "Accuray of DT(U): 1.0\n",
      "Accuray of LR: 1.0\n",
      "Accuray of SVM: 1.0\n",
      "Accuray of XGB: 1.0\n"
     ]
    }
   ],
   "source": [
    "present_idxs = range(len(one_file_dss))\n",
    "model_accs = {\n",
    "    'MLP': [],\n",
    "    'RF(5)': [],\n",
    "    'RF(U)': [],\n",
    "    'DT(5)': [],\n",
    "    'DT(U)': [],\n",
    "    'LR': [],\n",
    "    'SVM': [],\n",
    "    'XGB': []\n",
    "}\n",
    "for i in present_idxs:  # range(len(one_file_dss)):\n",
    "    # ds = one_file_dss[i][one_file_dss[i]['predicate_op_num_on_non_indexed_attr'] == 0]\n",
    "    print(f\"Processing index {i} : {one_file_names[i]}\")\n",
    "    ds = one_file_dss[i]\n",
    "    ds_name = one_file_names[i]\n",
    "    \n",
    "    \n",
    "    # =========================\n",
    "    X = ds[features]\n",
    "    y = ds['optimal_decision']    \n",
    "    \n",
    "    scaler = scalers[i]\n",
    "    X = scaler.transform(X.to_numpy())\n",
    "    y = y.to_numpy()\n",
    "    # =========================    \n",
    "    \n",
    "    for idx, model_name in enumerate(weighted_clf_model_name_list):\n",
    "        \n",
    "        clf = models[model_name][i]\n",
    "        score = clf.score(X, y)    \n",
    "        print(f\"Accuray of {model_name}: {score}\")\n",
    "    \n",
    "        model_accs[model_name].append(score)"
   ]
  },
  {
   "cell_type": "code",
   "execution_count": null,
   "id": "robust-lying",
   "metadata": {},
   "outputs": [],
   "source": []
  },
  {
   "cell_type": "code",
   "execution_count": null,
   "id": "mexican-snapshot",
   "metadata": {},
   "outputs": [],
   "source": []
  },
  {
   "cell_type": "code",
   "execution_count": null,
   "id": "social-potter",
   "metadata": {},
   "outputs": [],
   "source": []
  },
  {
   "cell_type": "code",
   "execution_count": null,
   "id": "final-memphis",
   "metadata": {},
   "outputs": [],
   "source": []
  },
  {
   "cell_type": "code",
   "execution_count": null,
   "id": "partial-dallas",
   "metadata": {
    "scrolled": false
   },
   "outputs": [],
   "source": [
    "# MLP = model_accs['MLP'] # [97,96.5,97.5,96.5,96.5,91.5,96.5,96,100,98.5,100,100]\n",
    "# RF_5 = model_accs['RF(5)'] #[95,95.5,95,96.5,98,90.5,95.5,97,100,98.5,100,100]\n",
    "# RF_U = model_accs['RF(U)'] #[97.5,97,98.5,98,99,94,97.5,97.5,100,99.5,100,100]\n",
    "# DT_5 = model_accs['DT(5)'] #[97,97.5,96,97.5,97,90,93,96.5,100,99.5,100,100]\n",
    "# DT_U = model_accs['DT(U)'] #[98,98.5,96.5,96.5,97,92,95,95.5,100,99,100,100]\n",
    "# LR = model_accs['LR'] #[92,83.5,92,94,89.5,91,92,90.5,100,96,100,100]\n",
    "# SVM = model_accs['SVM'] #[85,83,88.5,88,82.5,89,85.5,86.5,100,95.5,100,100]\n",
    "# XGB = model_accs['XGB'] #[85,83,88.5,88,82.5,89,85.5,86.5,100,95.5,100,100]\n",
    "\n",
    "# d = [DT_5, DT_U,  RF_5, RF_U, XGB, MLP, LR, SVM ]\n",
    "# result_txt = ''\n",
    "\n",
    "# for i in range(len(present_idxs)):\n",
    "#     print(f\"{one_file_names[i]}\", end='\\n')\n",
    "#     result_txt += f\"{one_file_names[i]} \\n\"\n",
    "#     for l in d:\n",
    "#         if l[i] >= 0.9451:\n",
    "#             s = '& \\\\textbf{ %.2f }' % l[i]\n",
    "#         else:\n",
    "#             s = '& %.2f' % l[i]\n",
    "#         result_txt +=  s.replace('0.', '.')\n",
    "#         print(s.replace('0.', '.'), end='')\n",
    "#     print(\"\\n\")\n",
    "#     result_txt += '\\n'\n",
    "# with open(f'./latex_result/exp1_{engine}_model_acc.txt', 'w') as f:\n",
    "#     f.write(result_txt)\n",
    "# print(f\"Data written to {f'./latex_result/exp1_{engine}_tpch_model_scale_up.txt'}\")"
   ]
  },
  {
   "cell_type": "code",
   "execution_count": null,
   "id": "endless-society",
   "metadata": {},
   "outputs": [],
   "source": []
  }
 ],
 "metadata": {
  "kernelspec": {
   "display_name": "Python 3",
   "language": "python",
   "name": "python3"
  },
  "language_info": {
   "codemirror_mode": {
    "name": "ipython",
    "version": 3
   },
   "file_extension": ".py",
   "mimetype": "text/x-python",
   "name": "python",
   "nbconvert_exporter": "python",
   "pygments_lexer": "ipython3",
   "version": "3.6.9"
  }
 },
 "nbformat": 4,
 "nbformat_minor": 5
}
