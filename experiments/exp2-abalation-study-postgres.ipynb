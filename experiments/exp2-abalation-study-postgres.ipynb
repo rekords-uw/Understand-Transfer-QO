{
 "cells": [
  {
   "cell_type": "code",
   "execution_count": 1,
   "id": "synthetic-latitude",
   "metadata": {},
   "outputs": [],
   "source": [
    "from core.DataLoader import *\n",
    "from core.models.MLP import * \n",
    "from core.models.GAM import *\n",
    "from core.models.SVM import *\n",
    "# from core.models.EBM import *\n",
    "\n",
    "from core.models.RandomForest import *\n",
    "from core.Visualizer import *\n",
    "\n",
    "from core.models.Classifier import *\n",
    "from core.models.XGB import *"
   ]
  },
  {
   "cell_type": "code",
   "execution_count": 2,
   "id": "resistant-couple",
   "metadata": {},
   "outputs": [],
   "source": [
    "# model_accs = {\n",
    "#     'MLP': [],\n",
    "#     'RF(5)': [],\n",
    "#     'RF(10)': [],\n",
    "#     'RF(U)': [],\n",
    "#     'DT(5)': [],\n",
    "#     'DT(10)': [],\n",
    "#     'DT(U)': [],\n",
    "#     'LR': [],\n",
    "#     'SVM': [],\n",
    "#     'XGB': []\n",
    "# }\n",
    "# present_idxs = [0, 1, 2, 3, 4, 5, 8 ,12, 21, 22, 23, 24]"
   ]
  },
  {
   "cell_type": "code",
   "execution_count": 3,
   "id": "acute-dressing",
   "metadata": {},
   "outputs": [],
   "source": [
    "weighted_clf_model_list ={\n",
    "    \"MLP\": MLPClassifier,\n",
    "    \"DT\": m_DecisionTreeClassifier,\n",
    "    \"RF\": m_RandomForestClassifier,\n",
    "    \"LR\": m_LogisticRegression,\n",
    "    \"SVM\": SVMClassifier,\n",
    "    \"XGB\": XGBOOSTClassifier\n",
    "}\n",
    "# weighted_clf_model_name_list = ['MLP', 'RF(5)', 'RF(U)', 'DT(5)', 'DT(U)', 'LR', 'SVM', 'XGB']\n",
    "# weighted_clf_model_name_list = ['MLP', 'RF(U)', 'DT(U)']\n",
    "# weighted_clf_model_name_list = ['DT(5)', 'RF(5)', 'MLP']\n",
    "# weighted_clf_model_name_list = ['DT(5)', 'RF(5)']\n",
    "weighted_clf_model_name_list = ['MLP']\n"
   ]
  },
  {
   "cell_type": "code",
   "execution_count": 4,
   "id": "usual-working",
   "metadata": {},
   "outputs": [],
   "source": [
    "engine = 'postgres'\n",
    "# if engine == 'mssql':\n",
    "#     baseline = mssql_accs\n",
    "# else:\n",
    "#     baseline = postgres_accs\n",
    "dl = DataLoader(engine)\n",
    "# one_file_dss, one_file_names = dl.get_one_file_ds(return_type='ds and names', datasets=['ssb', 'tpch', 'imdb'])\n",
    "one_file_dss, one_file_names = dl.get_one_file_ds(return_type='ds and names', datasets=['ssb', 'tpch', 'tpch_10', 'tpch_100', 'imdb'])\n"
   ]
  },
  {
   "cell_type": "code",
   "execution_count": 5,
   "id": "spatial-quantum",
   "metadata": {},
   "outputs": [],
   "source": [
    "all_features = dl.all_features\n",
    "classification_target = dl.classification_target\n",
    "all_features =['left_cardinality',\n",
    " 'base_cardinality',\n",
    " 'sel_of_pred_on_indexed_attr',\n",
    " 'sel_of_pred_on_non_indexed_attr',\n",
    " 'sel_of_join_pred',\n",
    " 'left_ordered',\n",
    " 'base_ordered',\n",
    " 'left_indexed',\n",
    " 'base_indexed',\n",
    " 'result_size',\n",
    " 'predicate_op_num_on_indexed_attr',\n",
    " 'predicate_op_num_on_non_indexed_attr']\n",
    "# key_feature_set = 0\n",
    "# features = key_features[key_feature_set]\n",
    "# print(\"Using features: \", features)"
   ]
  },
  {
   "cell_type": "code",
   "execution_count": 6,
   "id": "horizontal-command",
   "metadata": {},
   "outputs": [],
   "source": [
    "# feature_groups = [\n",
    "#     ['left_cardinality', 'base_cardinality', 'result_size'],\n",
    "#     ['sel_of_pred_on_indexed_attr', 'sel_of_pred_on_non_indexed_attr', 'sel_of_pred_on_indexed_attr_and_join_pred',\n",
    "#      'sel_of_pred_on_non_indexed_attr_and_join_pred', 'sel_of_pred_on_indexed_attr_and_non_indexed_attr',\n",
    "#      'total_sel_on_base_table', 'predicate_op_num_on_indexed_attr', 'predicate_op_num_on_non_indexed_attr'],\n",
    "#     [ 'left_ordered', 'base_ordered', 'left_indexed', 'base_indexed']    \n",
    "# ]"
   ]
  },
  {
   "cell_type": "markdown",
   "id": "dimensional-strength",
   "metadata": {},
   "source": [
    "# Base accuracy with all features"
   ]
  },
  {
   "cell_type": "code",
   "execution_count": 7,
   "id": "smoking-center",
   "metadata": {
    "scrolled": true
   },
   "outputs": [],
   "source": [
    "# present_idxs = list(range(len(one_file_dss)))    \n",
    "# features = all_features.copy()\n",
    "    \n",
    "# full_model_accs = {\n",
    "#     'MLP': [],\n",
    "#     'RF(5)': [],\n",
    "#     'RF(U)': [],\n",
    "#     'DT(5)': [],\n",
    "#     'DT(U)': [],\n",
    "#     'LR': [],\n",
    "#     'SVM': [],\n",
    "#     'XGB': []\n",
    "# }\n",
    "\n",
    "# for i in present_idxs:  # range(len(one_file_dss)):\n",
    "# #     i = 0\n",
    "#     print(f\"Processing: {i}\")\n",
    "#     # ds = one_file_dss[i][one_file_dss[i]['predicate_op_num_on_non_indexed_attr'] == 0]\n",
    "#     ds = one_file_dss[i]\n",
    "#     ds_name = one_file_names[i]\n",
    "\n",
    "#     # =========================\n",
    "#     X = ds[features]\n",
    "#     y = ds['optimal_decision']\n",
    "#     X_costs = ds[dl.regression_targets]\n",
    "\n",
    "#     from sklearn.model_selection import train_test_split\n",
    "#     from sklearn import preprocessing\n",
    "\n",
    "#     X_train, X_test, y_train, y_test = train_test_split(X, y, train_size=0.8, random_state=1)\n",
    "#     X_train_costs, _, _, _, = train_test_split(X_costs, y, train_size=0.8, random_state=1)\n",
    "#     X_train, X_test, y_train, y_test = \\\n",
    "#         X_train.to_numpy(),X_test.to_numpy(), y_train.to_numpy(), y_test.to_numpy()\n",
    "\n",
    "#     X_train_weights = calculate_importance_from_costs(X_train_costs.to_numpy())\n",
    "\n",
    "#     scaler = preprocessing.StandardScaler().fit(X_train)\n",
    "#     X_train = scaler.transform(X_train)\n",
    "\n",
    "#     # scaler = preprocessing.StandardScaler().fit(X_test)\n",
    "#     X_test = scaler.transform(X_test)\n",
    "\n",
    "#     X_train_weights = preprocessing.MinMaxScaler().fit_transform(X_train_weights.reshape(-1,1)).flatten()\n",
    "#     # =========================\n",
    "\n",
    "#     accs = []\n",
    "#     for idx, model_name in enumerate(weighted_clf_model_name_list):\n",
    "#         model = weighted_clf_model_list[model_name.split('(')[0]]        \n",
    "#         if 'DT' in model_name or 'RF' in model_name:\n",
    "#             max_depth = model_name.split('(')[-1].split(')')[0]\n",
    "#             if max_depth.lower() == 'u':\n",
    "#                 max_depth = None\n",
    "#             else:\n",
    "#                 max_depth = int(max_depth)\n",
    "#             clf = model().fit(X_train, y_train, sample_weight=None, max_depth=max_depth)\n",
    "#         else:\n",
    "#             clf = model(n_layers=2).fit(X_train, y_train, sample_weight=None, max_iter=50, weight_decay=0.0001)\n",
    "\n",
    "#         print(f\"Accuray of {model}: {clf.score(X_test, y_test)}\")\n",
    "# #         if len(features) == 2:\n",
    "# #             plot_2d_decision_boundaries(clf, scaler.inverse_transform(X_train), X_train_costs, y_train, title=f'{model} on {one_file_names[i]}')\n",
    "\n",
    "#         full_model_accs[model_name].append(clf.score(X_test, y_test))\n",
    "# #         accs.append(clf.score(X_test, y_test))"
   ]
  },
  {
   "cell_type": "markdown",
   "id": "prescription-mambo",
   "metadata": {},
   "source": [
    "# Remove feature acc"
   ]
  },
  {
   "cell_type": "code",
   "execution_count": 8,
   "id": "ranging-gregory",
   "metadata": {
    "scrolled": true
   },
   "outputs": [
    {
     "name": "stderr",
     "output_type": "stream",
     "text": [
      "\r",
      "  0%|          | 0/200 [00:00<?, ?it/s]"
     ]
    },
    {
     "name": "stdout",
     "output_type": "stream",
     "text": [
      "remove feature left_cardinality: after remove length: 11\n",
      "Feature 0 / 12; Processing: 0 / 63\n",
      "set features: 11\n"
     ]
    },
    {
     "name": "stderr",
     "output_type": "stream",
     "text": [
      "100%|██████████| 200/200 [00:30<00:00,  6.54it/s]\n",
      "  0%|          | 0/200 [00:00<?, ?it/s]"
     ]
    },
    {
     "name": "stdout",
     "output_type": "stream",
     "text": [
      "Accuray of <class 'core.models.MLP.MLPClassifier'>: 0.99\n",
      "Feature 0 / 12; Processing: 1 / 63\n",
      "set features: 11\n"
     ]
    },
    {
     "name": "stderr",
     "output_type": "stream",
     "text": [
      "100%|██████████| 200/200 [00:36<00:00,  5.46it/s]\n",
      "  0%|          | 0/200 [00:00<?, ?it/s]"
     ]
    },
    {
     "name": "stdout",
     "output_type": "stream",
     "text": [
      "Accuray of <class 'core.models.MLP.MLPClassifier'>: 0.995\n",
      "Feature 0 / 12; Processing: 2 / 63\n",
      "set features: 11\n"
     ]
    },
    {
     "name": "stderr",
     "output_type": "stream",
     "text": [
      "100%|██████████| 200/200 [00:36<00:00,  5.51it/s]\n",
      "  0%|          | 0/200 [00:00<?, ?it/s]"
     ]
    },
    {
     "name": "stdout",
     "output_type": "stream",
     "text": [
      "Accuray of <class 'core.models.MLP.MLPClassifier'>: 0.9875\n",
      "Feature 0 / 12; Processing: 3 / 63\n",
      "set features: 11\n"
     ]
    },
    {
     "name": "stderr",
     "output_type": "stream",
     "text": [
      "100%|██████████| 200/200 [00:43<00:00,  4.57it/s]\n",
      "  0%|          | 0/200 [00:00<?, ?it/s]"
     ]
    },
    {
     "name": "stdout",
     "output_type": "stream",
     "text": [
      "Accuray of <class 'core.models.MLP.MLPClassifier'>: 0.9825\n",
      "Feature 0 / 12; Processing: 4 / 63\n",
      "set features: 11\n"
     ]
    },
    {
     "name": "stderr",
     "output_type": "stream",
     "text": [
      "100%|██████████| 200/200 [00:40<00:00,  4.91it/s]\n",
      "  0%|          | 0/200 [00:00<?, ?it/s]"
     ]
    },
    {
     "name": "stdout",
     "output_type": "stream",
     "text": [
      "Accuray of <class 'core.models.MLP.MLPClassifier'>: 0.9825\n",
      "Feature 0 / 12; Processing: 5 / 63\n",
      "set features: 11\n"
     ]
    },
    {
     "name": "stderr",
     "output_type": "stream",
     "text": [
      "100%|██████████| 200/200 [00:33<00:00,  5.92it/s]\n",
      "  0%|          | 0/200 [00:00<?, ?it/s]"
     ]
    },
    {
     "name": "stdout",
     "output_type": "stream",
     "text": [
      "Accuray of <class 'core.models.MLP.MLPClassifier'>: 0.9775\n",
      "Feature 0 / 12; Processing: 6 / 63\n",
      "set features: 11\n"
     ]
    },
    {
     "name": "stderr",
     "output_type": "stream",
     "text": [
      "100%|██████████| 200/200 [00:53<00:00,  3.76it/s]\n",
      "  0%|          | 0/200 [00:00<?, ?it/s]"
     ]
    },
    {
     "name": "stdout",
     "output_type": "stream",
     "text": [
      "Accuray of <class 'core.models.MLP.MLPClassifier'>: 0.99\n",
      "Feature 0 / 12; Processing: 7 / 63\n",
      "set features: 11\n"
     ]
    },
    {
     "name": "stderr",
     "output_type": "stream",
     "text": [
      "100%|██████████| 200/200 [00:42<00:00,  4.70it/s]\n",
      "  0%|          | 0/200 [00:00<?, ?it/s]"
     ]
    },
    {
     "name": "stdout",
     "output_type": "stream",
     "text": [
      "Accuray of <class 'core.models.MLP.MLPClassifier'>: 0.99\n",
      "Feature 0 / 12; Processing: 8 / 63\n",
      "set features: 11\n"
     ]
    },
    {
     "name": "stderr",
     "output_type": "stream",
     "text": [
      "100%|██████████| 200/200 [00:29<00:00,  6.78it/s]\n",
      "  0%|          | 0/200 [00:00<?, ?it/s]"
     ]
    },
    {
     "name": "stdout",
     "output_type": "stream",
     "text": [
      "Accuray of <class 'core.models.MLP.MLPClassifier'>: 0.995\n",
      "Feature 0 / 12; Processing: 9 / 63\n",
      "set features: 11\n"
     ]
    },
    {
     "name": "stderr",
     "output_type": "stream",
     "text": [
      "100%|██████████| 200/200 [00:51<00:00,  3.89it/s]\n",
      "  0%|          | 0/200 [00:00<?, ?it/s]"
     ]
    },
    {
     "name": "stdout",
     "output_type": "stream",
     "text": [
      "Accuray of <class 'core.models.MLP.MLPClassifier'>: 0.9275\n",
      "Feature 0 / 12; Processing: 10 / 63\n",
      "set features: 11\n"
     ]
    },
    {
     "name": "stderr",
     "output_type": "stream",
     "text": [
      "100%|██████████| 200/200 [00:42<00:00,  4.75it/s]\n",
      "  0%|          | 1/200 [00:00<00:24,  8.14it/s]"
     ]
    },
    {
     "name": "stdout",
     "output_type": "stream",
     "text": [
      "Accuray of <class 'core.models.MLP.MLPClassifier'>: 0.9875\n",
      "Feature 0 / 12; Processing: 11 / 63\n",
      "set features: 11\n"
     ]
    },
    {
     "name": "stderr",
     "output_type": "stream",
     "text": [
      "100%|██████████| 200/200 [00:37<00:00,  5.40it/s]\n",
      "  0%|          | 1/200 [00:00<00:23,  8.60it/s]"
     ]
    },
    {
     "name": "stdout",
     "output_type": "stream",
     "text": [
      "Accuray of <class 'core.models.MLP.MLPClassifier'>: 1.0\n",
      "Feature 0 / 12; Processing: 12 / 63\n",
      "set features: 11\n"
     ]
    },
    {
     "name": "stderr",
     "output_type": "stream",
     "text": [
      "100%|██████████| 200/200 [00:33<00:00,  5.89it/s]\n",
      "  0%|          | 0/200 [00:00<?, ?it/s]"
     ]
    },
    {
     "name": "stdout",
     "output_type": "stream",
     "text": [
      "Accuray of <class 'core.models.MLP.MLPClassifier'>: 0.9875\n",
      "Feature 0 / 12; Processing: 13 / 63\n",
      "set features: 11\n"
     ]
    },
    {
     "name": "stderr",
     "output_type": "stream",
     "text": [
      "100%|██████████| 200/200 [00:41<00:00,  4.79it/s]\n",
      "  0%|          | 0/200 [00:00<?, ?it/s]"
     ]
    },
    {
     "name": "stdout",
     "output_type": "stream",
     "text": [
      "Accuray of <class 'core.models.MLP.MLPClassifier'>: 1.0\n",
      "Feature 0 / 12; Processing: 14 / 63\n",
      "set features: 11\n"
     ]
    },
    {
     "name": "stderr",
     "output_type": "stream",
     "text": [
      "100%|██████████| 200/200 [00:47<00:00,  4.22it/s]\n",
      "  0%|          | 0/200 [00:00<?, ?it/s]"
     ]
    },
    {
     "name": "stdout",
     "output_type": "stream",
     "text": [
      "Accuray of <class 'core.models.MLP.MLPClassifier'>: 1.0\n",
      "Feature 0 / 12; Processing: 15 / 63\n",
      "set features: 11\n"
     ]
    },
    {
     "name": "stderr",
     "output_type": "stream",
     "text": [
      "100%|██████████| 200/200 [00:38<00:00,  5.23it/s]\n",
      "  0%|          | 0/200 [00:00<?, ?it/s]"
     ]
    },
    {
     "name": "stdout",
     "output_type": "stream",
     "text": [
      "Accuray of <class 'core.models.MLP.MLPClassifier'>: 0.97\n",
      "Feature 0 / 12; Processing: 16 / 63\n",
      "set features: 11\n"
     ]
    },
    {
     "name": "stderr",
     "output_type": "stream",
     "text": [
      "100%|██████████| 200/200 [00:35<00:00,  5.56it/s]\n",
      "  0%|          | 1/200 [00:00<00:23,  8.54it/s]"
     ]
    },
    {
     "name": "stdout",
     "output_type": "stream",
     "text": [
      "Accuray of <class 'core.models.MLP.MLPClassifier'>: 0.9875\n",
      "Feature 0 / 12; Processing: 17 / 63\n",
      "set features: 11\n"
     ]
    },
    {
     "name": "stderr",
     "output_type": "stream",
     "text": [
      "100%|██████████| 200/200 [00:37<00:00,  5.36it/s]\n",
      "  0%|          | 1/200 [00:00<00:27,  7.31it/s]"
     ]
    },
    {
     "name": "stdout",
     "output_type": "stream",
     "text": [
      "Accuray of <class 'core.models.MLP.MLPClassifier'>: 0.9975\n",
      "Feature 0 / 12; Processing: 18 / 63\n",
      "set features: 11\n"
     ]
    },
    {
     "name": "stderr",
     "output_type": "stream",
     "text": [
      "100%|██████████| 200/200 [00:27<00:00,  7.35it/s]\n",
      "  0%|          | 0/200 [00:00<?, ?it/s]"
     ]
    },
    {
     "name": "stdout",
     "output_type": "stream",
     "text": [
      "Accuray of <class 'core.models.MLP.MLPClassifier'>: 1.0\n",
      "Feature 0 / 12; Processing: 19 / 63\n",
      "set features: 11\n"
     ]
    },
    {
     "name": "stderr",
     "output_type": "stream",
     "text": [
      "100%|██████████| 200/200 [00:31<00:00,  6.44it/s]\n",
      "  0%|          | 0/200 [00:00<?, ?it/s]"
     ]
    },
    {
     "name": "stdout",
     "output_type": "stream",
     "text": [
      "Accuray of <class 'core.models.MLP.MLPClassifier'>: 0.9775\n",
      "Feature 0 / 12; Processing: 20 / 63\n",
      "set features: 11\n"
     ]
    },
    {
     "name": "stderr",
     "output_type": "stream",
     "text": [
      "100%|██████████| 200/200 [00:41<00:00,  4.85it/s]\n",
      "  0%|          | 0/200 [00:00<?, ?it/s]"
     ]
    },
    {
     "name": "stdout",
     "output_type": "stream",
     "text": [
      "Accuray of <class 'core.models.MLP.MLPClassifier'>: 1.0\n",
      "Feature 0 / 12; Processing: 21 / 63\n",
      "set features: 11\n"
     ]
    },
    {
     "name": "stderr",
     "output_type": "stream",
     "text": [
      "100%|██████████| 200/200 [00:46<00:00,  4.33it/s]\n",
      "  0%|          | 0/200 [00:00<?, ?it/s]"
     ]
    },
    {
     "name": "stdout",
     "output_type": "stream",
     "text": [
      "Accuray of <class 'core.models.MLP.MLPClassifier'>: 1.0\n",
      "Feature 0 / 12; Processing: 22 / 63\n",
      "set features: 11\n"
     ]
    },
    {
     "name": "stderr",
     "output_type": "stream",
     "text": [
      "100%|██████████| 200/200 [00:31<00:00,  6.25it/s]\n",
      "  0%|          | 0/200 [00:00<?, ?it/s]"
     ]
    },
    {
     "name": "stdout",
     "output_type": "stream",
     "text": [
      "Accuray of <class 'core.models.MLP.MLPClassifier'>: 1.0\n",
      "Feature 0 / 12; Processing: 23 / 63\n",
      "set features: 11\n"
     ]
    },
    {
     "name": "stderr",
     "output_type": "stream",
     "text": [
      "100%|██████████| 200/200 [00:38<00:00,  5.20it/s]\n",
      "  0%|          | 1/200 [00:00<00:21,  9.19it/s]"
     ]
    },
    {
     "name": "stdout",
     "output_type": "stream",
     "text": [
      "Accuray of <class 'core.models.MLP.MLPClassifier'>: 0.9825\n",
      "Feature 0 / 12; Processing: 24 / 63\n",
      "set features: 11\n"
     ]
    },
    {
     "name": "stderr",
     "output_type": "stream",
     "text": [
      "100%|██████████| 200/200 [00:38<00:00,  5.18it/s]\n",
      "  0%|          | 0/200 [00:00<?, ?it/s]"
     ]
    },
    {
     "name": "stdout",
     "output_type": "stream",
     "text": [
      "Accuray of <class 'core.models.MLP.MLPClassifier'>: 0.965\n",
      "Feature 0 / 12; Processing: 25 / 63\n",
      "set features: 11\n"
     ]
    },
    {
     "name": "stderr",
     "output_type": "stream",
     "text": [
      "100%|██████████| 200/200 [00:40<00:00,  4.98it/s]\n",
      "  0%|          | 0/200 [00:00<?, ?it/s]"
     ]
    },
    {
     "name": "stdout",
     "output_type": "stream",
     "text": [
      "Accuray of <class 'core.models.MLP.MLPClassifier'>: 0.97\n",
      "Feature 0 / 12; Processing: 26 / 63\n",
      "set features: 11\n"
     ]
    },
    {
     "name": "stderr",
     "output_type": "stream",
     "text": [
      "100%|██████████| 200/200 [00:33<00:00,  5.91it/s]\n",
      "  0%|          | 0/200 [00:00<?, ?it/s]"
     ]
    },
    {
     "name": "stdout",
     "output_type": "stream",
     "text": [
      "Accuray of <class 'core.models.MLP.MLPClassifier'>: 0.9825\n",
      "Feature 0 / 12; Processing: 27 / 63\n",
      "set features: 11\n"
     ]
    },
    {
     "name": "stderr",
     "output_type": "stream",
     "text": [
      "100%|██████████| 200/200 [00:43<00:00,  4.55it/s]\n",
      "  0%|          | 0/200 [00:00<?, ?it/s]"
     ]
    },
    {
     "name": "stdout",
     "output_type": "stream",
     "text": [
      "Accuray of <class 'core.models.MLP.MLPClassifier'>: 0.995\n",
      "Feature 0 / 12; Processing: 28 / 63\n",
      "set features: 11\n"
     ]
    },
    {
     "name": "stderr",
     "output_type": "stream",
     "text": [
      "100%|██████████| 200/200 [00:40<00:00,  4.99it/s]\n",
      "  0%|          | 0/200 [00:00<?, ?it/s]"
     ]
    },
    {
     "name": "stdout",
     "output_type": "stream",
     "text": [
      "Accuray of <class 'core.models.MLP.MLPClassifier'>: 0.9725\n",
      "Feature 0 / 12; Processing: 29 / 63\n",
      "set features: 11\n"
     ]
    },
    {
     "name": "stderr",
     "output_type": "stream",
     "text": [
      "100%|██████████| 200/200 [00:44<00:00,  4.45it/s]\n",
      "  0%|          | 0/200 [00:00<?, ?it/s]"
     ]
    },
    {
     "name": "stdout",
     "output_type": "stream",
     "text": [
      "Accuray of <class 'core.models.MLP.MLPClassifier'>: 0.985\n",
      "Feature 0 / 12; Processing: 30 / 63\n",
      "set features: 11\n"
     ]
    },
    {
     "name": "stderr",
     "output_type": "stream",
     "text": [
      "100%|██████████| 200/200 [00:43<00:00,  4.55it/s]\n",
      "  0%|          | 0/200 [00:00<?, ?it/s]"
     ]
    },
    {
     "name": "stdout",
     "output_type": "stream",
     "text": [
      "Accuray of <class 'core.models.MLP.MLPClassifier'>: 0.995\n",
      "Feature 0 / 12; Processing: 31 / 63\n",
      "set features: 11\n"
     ]
    },
    {
     "name": "stderr",
     "output_type": "stream",
     "text": [
      "100%|██████████| 200/200 [00:50<00:00,  3.96it/s]\n",
      "  0%|          | 0/200 [00:00<?, ?it/s]"
     ]
    },
    {
     "name": "stdout",
     "output_type": "stream",
     "text": [
      "Accuray of <class 'core.models.MLP.MLPClassifier'>: 0.97\n",
      "Feature 0 / 12; Processing: 32 / 63\n",
      "set features: 11\n"
     ]
    },
    {
     "name": "stderr",
     "output_type": "stream",
     "text": [
      "100%|██████████| 200/200 [00:42<00:00,  4.68it/s]\n",
      "  0%|          | 0/200 [00:00<?, ?it/s]"
     ]
    },
    {
     "name": "stdout",
     "output_type": "stream",
     "text": [
      "Accuray of <class 'core.models.MLP.MLPClassifier'>: 0.965\n",
      "Feature 0 / 12; Processing: 33 / 63\n",
      "set features: 11\n"
     ]
    },
    {
     "name": "stderr",
     "output_type": "stream",
     "text": [
      "100%|██████████| 200/200 [00:42<00:00,  4.76it/s]\n",
      "  0%|          | 1/200 [00:00<00:20,  9.80it/s]"
     ]
    },
    {
     "name": "stdout",
     "output_type": "stream",
     "text": [
      "Accuray of <class 'core.models.MLP.MLPClassifier'>: 1.0\n",
      "Feature 0 / 12; Processing: 34 / 63\n",
      "set features: 11\n"
     ]
    },
    {
     "name": "stderr",
     "output_type": "stream",
     "text": [
      "100%|██████████| 200/200 [00:44<00:00,  4.54it/s]\n",
      "  0%|          | 0/200 [00:00<?, ?it/s]"
     ]
    },
    {
     "name": "stdout",
     "output_type": "stream",
     "text": [
      "Accuray of <class 'core.models.MLP.MLPClassifier'>: 0.9825\n",
      "Feature 0 / 12; Processing: 35 / 63\n",
      "set features: 11\n"
     ]
    },
    {
     "name": "stderr",
     "output_type": "stream",
     "text": [
      "100%|██████████| 200/200 [00:42<00:00,  4.68it/s]\n",
      "  0%|          | 0/200 [00:00<?, ?it/s]"
     ]
    },
    {
     "name": "stdout",
     "output_type": "stream",
     "text": [
      "Accuray of <class 'core.models.MLP.MLPClassifier'>: 0.9825\n",
      "Feature 0 / 12; Processing: 36 / 63\n",
      "set features: 11\n"
     ]
    },
    {
     "name": "stderr",
     "output_type": "stream",
     "text": [
      "100%|██████████| 200/200 [00:45<00:00,  4.41it/s]\n",
      "  0%|          | 0/200 [00:00<?, ?it/s]"
     ]
    },
    {
     "name": "stdout",
     "output_type": "stream",
     "text": [
      "Accuray of <class 'core.models.MLP.MLPClassifier'>: 0.9675\n",
      "Feature 0 / 12; Processing: 37 / 63\n",
      "set features: 11\n"
     ]
    },
    {
     "name": "stderr",
     "output_type": "stream",
     "text": [
      "100%|██████████| 200/200 [00:44<00:00,  4.45it/s]\n",
      "  0%|          | 1/200 [00:00<00:29,  6.70it/s]"
     ]
    },
    {
     "name": "stdout",
     "output_type": "stream",
     "text": [
      "Accuray of <class 'core.models.MLP.MLPClassifier'>: 1.0\n",
      "Feature 0 / 12; Processing: 38 / 63\n",
      "set features: 11\n"
     ]
    },
    {
     "name": "stderr",
     "output_type": "stream",
     "text": [
      "100%|██████████| 200/200 [00:43<00:00,  4.57it/s]\n",
      "  0%|          | 0/200 [00:00<?, ?it/s]"
     ]
    },
    {
     "name": "stdout",
     "output_type": "stream",
     "text": [
      "Accuray of <class 'core.models.MLP.MLPClassifier'>: 0.9825\n",
      "Feature 0 / 12; Processing: 39 / 63\n",
      "set features: 11\n"
     ]
    },
    {
     "name": "stderr",
     "output_type": "stream",
     "text": [
      "100%|██████████| 200/200 [00:41<00:00,  4.80it/s]\n",
      "  0%|          | 0/200 [00:00<?, ?it/s]"
     ]
    },
    {
     "name": "stdout",
     "output_type": "stream",
     "text": [
      "Accuray of <class 'core.models.MLP.MLPClassifier'>: 0.9825\n",
      "Feature 0 / 12; Processing: 40 / 63\n",
      "set features: 11\n"
     ]
    },
    {
     "name": "stderr",
     "output_type": "stream",
     "text": [
      "100%|██████████| 200/200 [00:37<00:00,  5.31it/s]\n",
      "  0%|          | 0/200 [00:00<?, ?it/s]"
     ]
    },
    {
     "name": "stdout",
     "output_type": "stream",
     "text": [
      "Accuray of <class 'core.models.MLP.MLPClassifier'>: 1.0\n",
      "Feature 0 / 12; Processing: 41 / 63\n",
      "set features: 11\n"
     ]
    },
    {
     "name": "stderr",
     "output_type": "stream",
     "text": [
      "100%|██████████| 200/200 [00:30<00:00,  6.51it/s]\n",
      "  0%|          | 0/200 [00:00<?, ?it/s]"
     ]
    },
    {
     "name": "stdout",
     "output_type": "stream",
     "text": [
      "Accuray of <class 'core.models.MLP.MLPClassifier'>: 0.985\n",
      "Feature 0 / 12; Processing: 42 / 63\n",
      "set features: 11\n"
     ]
    },
    {
     "name": "stderr",
     "output_type": "stream",
     "text": [
      "100%|██████████| 200/200 [00:33<00:00,  5.94it/s]\n",
      "  0%|          | 0/200 [00:00<?, ?it/s]"
     ]
    },
    {
     "name": "stdout",
     "output_type": "stream",
     "text": [
      "Accuray of <class 'core.models.MLP.MLPClassifier'>: 0.9525\n",
      "Feature 0 / 12; Processing: 43 / 63\n",
      "set features: 11\n"
     ]
    },
    {
     "name": "stderr",
     "output_type": "stream",
     "text": [
      "100%|██████████| 200/200 [00:37<00:00,  5.40it/s]\n",
      "  0%|          | 0/200 [00:00<?, ?it/s]"
     ]
    },
    {
     "name": "stdout",
     "output_type": "stream",
     "text": [
      "Accuray of <class 'core.models.MLP.MLPClassifier'>: 0.9975\n",
      "Feature 0 / 12; Processing: 44 / 63\n",
      "set features: 11\n"
     ]
    },
    {
     "name": "stderr",
     "output_type": "stream",
     "text": [
      "100%|██████████| 200/200 [00:45<00:00,  4.40it/s]\n",
      "  0%|          | 0/200 [00:00<?, ?it/s]"
     ]
    },
    {
     "name": "stdout",
     "output_type": "stream",
     "text": [
      "Accuray of <class 'core.models.MLP.MLPClassifier'>: 1.0\n",
      "Feature 0 / 12; Processing: 45 / 63\n",
      "set features: 11\n"
     ]
    },
    {
     "name": "stderr",
     "output_type": "stream",
     "text": [
      "100%|██████████| 200/200 [00:39<00:00,  5.03it/s]\n",
      "  0%|          | 0/200 [00:00<?, ?it/s]"
     ]
    },
    {
     "name": "stdout",
     "output_type": "stream",
     "text": [
      "Accuray of <class 'core.models.MLP.MLPClassifier'>: 0.9825\n",
      "Feature 0 / 12; Processing: 46 / 63\n",
      "set features: 11\n"
     ]
    },
    {
     "name": "stderr",
     "output_type": "stream",
     "text": [
      "100%|██████████| 200/200 [00:33<00:00,  5.95it/s]\n",
      "  0%|          | 0/200 [00:00<?, ?it/s]"
     ]
    },
    {
     "name": "stdout",
     "output_type": "stream",
     "text": [
      "Accuray of <class 'core.models.MLP.MLPClassifier'>: 0.9725\n",
      "Feature 0 / 12; Processing: 47 / 63\n",
      "set features: 11\n"
     ]
    },
    {
     "name": "stderr",
     "output_type": "stream",
     "text": [
      "100%|██████████| 200/200 [00:33<00:00,  6.00it/s]\n",
      "  0%|          | 1/200 [00:00<00:23,  8.54it/s]"
     ]
    },
    {
     "name": "stdout",
     "output_type": "stream",
     "text": [
      "Accuray of <class 'core.models.MLP.MLPClassifier'>: 0.9875\n",
      "Feature 0 / 12; Processing: 48 / 63\n",
      "set features: 11\n"
     ]
    },
    {
     "name": "stderr",
     "output_type": "stream",
     "text": [
      "100%|██████████| 200/200 [00:45<00:00,  4.40it/s]\n",
      "  0%|          | 0/200 [00:00<?, ?it/s]"
     ]
    },
    {
     "name": "stdout",
     "output_type": "stream",
     "text": [
      "Accuray of <class 'core.models.MLP.MLPClassifier'>: 1.0\n",
      "Feature 0 / 12; Processing: 49 / 63\n",
      "set features: 11\n"
     ]
    },
    {
     "name": "stderr",
     "output_type": "stream",
     "text": [
      "100%|██████████| 200/200 [00:47<00:00,  4.23it/s]\n",
      "  0%|          | 0/200 [00:00<?, ?it/s]"
     ]
    },
    {
     "name": "stdout",
     "output_type": "stream",
     "text": [
      "Accuray of <class 'core.models.MLP.MLPClassifier'>: 0.9925\n",
      "Feature 0 / 12; Processing: 50 / 63\n",
      "set features: 11\n"
     ]
    },
    {
     "name": "stderr",
     "output_type": "stream",
     "text": [
      "100%|██████████| 200/200 [00:29<00:00,  6.89it/s]\n",
      "  0%|          | 0/200 [00:00<?, ?it/s]"
     ]
    },
    {
     "name": "stdout",
     "output_type": "stream",
     "text": [
      "Accuray of <class 'core.models.MLP.MLPClassifier'>: 0.9875\n",
      "Feature 0 / 12; Processing: 51 / 63\n",
      "set features: 11\n"
     ]
    },
    {
     "name": "stderr",
     "output_type": "stream",
     "text": [
      "100%|██████████| 200/200 [00:52<00:00,  3.82it/s]\n",
      "  0%|          | 0/200 [00:00<?, ?it/s]"
     ]
    },
    {
     "name": "stdout",
     "output_type": "stream",
     "text": [
      "Accuray of <class 'core.models.MLP.MLPClassifier'>: 1.0\n",
      "Feature 0 / 12; Processing: 52 / 63\n",
      "set features: 11\n"
     ]
    },
    {
     "name": "stderr",
     "output_type": "stream",
     "text": [
      "100%|██████████| 200/200 [00:33<00:00,  5.94it/s]\n",
      "  0%|          | 0/200 [00:00<?, ?it/s]"
     ]
    },
    {
     "name": "stdout",
     "output_type": "stream",
     "text": [
      "Accuray of <class 'core.models.MLP.MLPClassifier'>: 1.0\n",
      "Feature 0 / 12; Processing: 53 / 63\n",
      "set features: 11\n"
     ]
    },
    {
     "name": "stderr",
     "output_type": "stream",
     "text": [
      "100%|██████████| 200/200 [00:28<00:00,  7.10it/s]\n",
      "  0%|          | 1/200 [00:00<00:22,  8.87it/s]"
     ]
    },
    {
     "name": "stdout",
     "output_type": "stream",
     "text": [
      "Accuray of <class 'core.models.MLP.MLPClassifier'>: 0.9725\n",
      "Feature 0 / 12; Processing: 54 / 63\n",
      "set features: 11\n"
     ]
    },
    {
     "name": "stderr",
     "output_type": "stream",
     "text": [
      "100%|██████████| 200/200 [00:28<00:00,  7.06it/s]\n",
      "  0%|          | 0/200 [00:00<?, ?it/s]"
     ]
    },
    {
     "name": "stdout",
     "output_type": "stream",
     "text": [
      "Accuray of <class 'core.models.MLP.MLPClassifier'>: 0.95\n",
      "Feature 0 / 12; Processing: 55 / 63\n",
      "set features: 11\n"
     ]
    },
    {
     "name": "stderr",
     "output_type": "stream",
     "text": [
      "100%|██████████| 200/200 [00:30<00:00,  6.59it/s]\n",
      "  0%|          | 1/200 [00:00<00:23,  8.53it/s]"
     ]
    },
    {
     "name": "stdout",
     "output_type": "stream",
     "text": [
      "Accuray of <class 'core.models.MLP.MLPClassifier'>: 0.975\n",
      "Feature 0 / 12; Processing: 56 / 63\n",
      "set features: 11\n"
     ]
    },
    {
     "name": "stderr",
     "output_type": "stream",
     "text": [
      "100%|██████████| 200/200 [00:32<00:00,  6.20it/s]\n",
      "  0%|          | 0/200 [00:00<?, ?it/s]"
     ]
    },
    {
     "name": "stdout",
     "output_type": "stream",
     "text": [
      "Accuray of <class 'core.models.MLP.MLPClassifier'>: 0.975\n",
      "Feature 0 / 12; Processing: 57 / 63\n",
      "set features: 11\n"
     ]
    },
    {
     "name": "stderr",
     "output_type": "stream",
     "text": [
      "100%|██████████| 200/200 [00:33<00:00,  6.05it/s]\n",
      "  0%|          | 0/200 [00:00<?, ?it/s]"
     ]
    },
    {
     "name": "stdout",
     "output_type": "stream",
     "text": [
      "Accuray of <class 'core.models.MLP.MLPClassifier'>: 0.9625\n",
      "Feature 0 / 12; Processing: 58 / 63\n",
      "set features: 11\n"
     ]
    },
    {
     "name": "stderr",
     "output_type": "stream",
     "text": [
      "100%|██████████| 200/200 [00:38<00:00,  5.14it/s]\n",
      "  0%|          | 0/200 [00:00<?, ?it/s]"
     ]
    },
    {
     "name": "stdout",
     "output_type": "stream",
     "text": [
      "Accuray of <class 'core.models.MLP.MLPClassifier'>: 0.99\n",
      "Feature 0 / 12; Processing: 59 / 63\n",
      "set features: 11\n"
     ]
    },
    {
     "name": "stderr",
     "output_type": "stream",
     "text": [
      "100%|██████████| 200/200 [00:31<00:00,  6.29it/s]\n",
      "  0%|          | 0/200 [00:00<?, ?it/s]"
     ]
    },
    {
     "name": "stdout",
     "output_type": "stream",
     "text": [
      "Accuray of <class 'core.models.MLP.MLPClassifier'>: 0.9775\n",
      "Feature 0 / 12; Processing: 60 / 63\n",
      "set features: 11\n"
     ]
    },
    {
     "name": "stderr",
     "output_type": "stream",
     "text": [
      "100%|██████████| 200/200 [00:30<00:00,  6.48it/s]\n",
      "  0%|          | 0/200 [00:00<?, ?it/s]"
     ]
    },
    {
     "name": "stdout",
     "output_type": "stream",
     "text": [
      "Accuray of <class 'core.models.MLP.MLPClassifier'>: 0.98\n",
      "Feature 0 / 12; Processing: 61 / 63\n",
      "set features: 11\n"
     ]
    },
    {
     "name": "stderr",
     "output_type": "stream",
     "text": [
      "100%|██████████| 200/200 [00:29<00:00,  6.81it/s]\n",
      "  0%|          | 0/200 [00:00<?, ?it/s]"
     ]
    },
    {
     "name": "stdout",
     "output_type": "stream",
     "text": [
      "Accuray of <class 'core.models.MLP.MLPClassifier'>: 0.9925\n",
      "Feature 0 / 12; Processing: 62 / 63\n",
      "set features: 11\n"
     ]
    },
    {
     "name": "stderr",
     "output_type": "stream",
     "text": [
      "100%|██████████| 200/200 [00:37<00:00,  5.32it/s]\n",
      "  0%|          | 0/200 [00:00<?, ?it/s]"
     ]
    },
    {
     "name": "stdout",
     "output_type": "stream",
     "text": [
      "Accuray of <class 'core.models.MLP.MLPClassifier'>: 0.985\n",
      "remove feature base_cardinality: after remove length: 11\n",
      "Feature 1 / 12; Processing: 0 / 63\n",
      "set features: 11\n"
     ]
    },
    {
     "name": "stderr",
     "output_type": "stream",
     "text": [
      "100%|██████████| 200/200 [00:27<00:00,  7.22it/s]\n",
      "  0%|          | 1/200 [00:00<00:19,  9.99it/s]"
     ]
    },
    {
     "name": "stdout",
     "output_type": "stream",
     "text": [
      "Accuray of <class 'core.models.MLP.MLPClassifier'>: 0.995\n",
      "Feature 1 / 12; Processing: 1 / 63\n",
      "set features: 11\n"
     ]
    },
    {
     "name": "stderr",
     "output_type": "stream",
     "text": [
      "100%|██████████| 200/200 [00:31<00:00,  6.41it/s]\n",
      "  0%|          | 0/200 [00:00<?, ?it/s]"
     ]
    },
    {
     "name": "stdout",
     "output_type": "stream",
     "text": [
      "Accuray of <class 'core.models.MLP.MLPClassifier'>: 0.995\n",
      "Feature 1 / 12; Processing: 2 / 63\n",
      "set features: 11\n"
     ]
    },
    {
     "name": "stderr",
     "output_type": "stream",
     "text": [
      "100%|██████████| 200/200 [00:27<00:00,  7.26it/s]\n",
      "  0%|          | 1/200 [00:00<00:26,  7.58it/s]"
     ]
    },
    {
     "name": "stdout",
     "output_type": "stream",
     "text": [
      "Accuray of <class 'core.models.MLP.MLPClassifier'>: 0.99\n",
      "Feature 1 / 12; Processing: 3 / 63\n",
      "set features: 11\n"
     ]
    },
    {
     "name": "stderr",
     "output_type": "stream",
     "text": [
      "100%|██████████| 200/200 [00:33<00:00,  6.02it/s]\n",
      "  0%|          | 0/200 [00:00<?, ?it/s]"
     ]
    },
    {
     "name": "stdout",
     "output_type": "stream",
     "text": [
      "Accuray of <class 'core.models.MLP.MLPClassifier'>: 0.99\n",
      "Feature 1 / 12; Processing: 4 / 63\n",
      "set features: 11\n"
     ]
    },
    {
     "name": "stderr",
     "output_type": "stream",
     "text": [
      "100%|██████████| 200/200 [00:29<00:00,  6.74it/s]\n",
      "  0%|          | 0/200 [00:00<?, ?it/s]"
     ]
    },
    {
     "name": "stdout",
     "output_type": "stream",
     "text": [
      "Accuray of <class 'core.models.MLP.MLPClassifier'>: 0.99\n",
      "Feature 1 / 12; Processing: 5 / 63\n",
      "set features: 11\n"
     ]
    },
    {
     "name": "stderr",
     "output_type": "stream",
     "text": [
      "100%|██████████| 200/200 [00:30<00:00,  6.54it/s]\n",
      "  0%|          | 0/200 [00:00<?, ?it/s]"
     ]
    },
    {
     "name": "stdout",
     "output_type": "stream",
     "text": [
      "Accuray of <class 'core.models.MLP.MLPClassifier'>: 0.9975\n",
      "Feature 1 / 12; Processing: 6 / 63\n",
      "set features: 11\n"
     ]
    },
    {
     "name": "stderr",
     "output_type": "stream",
     "text": [
      "100%|██████████| 200/200 [00:31<00:00,  6.45it/s]\n",
      "  0%|          | 0/200 [00:00<?, ?it/s]"
     ]
    },
    {
     "name": "stdout",
     "output_type": "stream",
     "text": [
      "Accuray of <class 'core.models.MLP.MLPClassifier'>: 0.9975\n",
      "Feature 1 / 12; Processing: 7 / 63\n",
      "set features: 11\n"
     ]
    },
    {
     "name": "stderr",
     "output_type": "stream",
     "text": [
      "100%|██████████| 200/200 [00:32<00:00,  6.07it/s]\n",
      "  0%|          | 0/200 [00:00<?, ?it/s]"
     ]
    },
    {
     "name": "stdout",
     "output_type": "stream",
     "text": [
      "Accuray of <class 'core.models.MLP.MLPClassifier'>: 0.9975\n",
      "Feature 1 / 12; Processing: 8 / 63\n",
      "set features: 11\n"
     ]
    },
    {
     "name": "stderr",
     "output_type": "stream",
     "text": [
      "100%|██████████| 200/200 [00:30<00:00,  6.59it/s]\n",
      "  0%|          | 1/200 [00:00<00:20,  9.57it/s]"
     ]
    },
    {
     "name": "stdout",
     "output_type": "stream",
     "text": [
      "Accuray of <class 'core.models.MLP.MLPClassifier'>: 0.9825\n",
      "Feature 1 / 12; Processing: 9 / 63\n",
      "set features: 11\n"
     ]
    },
    {
     "name": "stderr",
     "output_type": "stream",
     "text": [
      "100%|██████████| 200/200 [00:31<00:00,  6.33it/s]\n",
      "  0%|          | 0/200 [00:00<?, ?it/s]"
     ]
    },
    {
     "name": "stdout",
     "output_type": "stream",
     "text": [
      "Accuray of <class 'core.models.MLP.MLPClassifier'>: 0.955\n",
      "Feature 1 / 12; Processing: 10 / 63\n",
      "set features: 11\n"
     ]
    },
    {
     "name": "stderr",
     "output_type": "stream",
     "text": [
      "100%|██████████| 200/200 [00:32<00:00,  6.19it/s]\n",
      "  0%|          | 1/200 [00:00<00:27,  7.12it/s]"
     ]
    },
    {
     "name": "stdout",
     "output_type": "stream",
     "text": [
      "Accuray of <class 'core.models.MLP.MLPClassifier'>: 0.995\n",
      "Feature 1 / 12; Processing: 11 / 63\n",
      "set features: 11\n"
     ]
    },
    {
     "name": "stderr",
     "output_type": "stream",
     "text": [
      "100%|██████████| 200/200 [00:33<00:00,  6.03it/s]\n",
      "  0%|          | 0/200 [00:00<?, ?it/s]"
     ]
    },
    {
     "name": "stdout",
     "output_type": "stream",
     "text": [
      "Accuray of <class 'core.models.MLP.MLPClassifier'>: 0.995\n",
      "Feature 1 / 12; Processing: 12 / 63\n",
      "set features: 11\n"
     ]
    },
    {
     "name": "stderr",
     "output_type": "stream",
     "text": [
      "100%|██████████| 200/200 [00:29<00:00,  6.81it/s]\n",
      "  0%|          | 0/200 [00:00<?, ?it/s]"
     ]
    },
    {
     "name": "stdout",
     "output_type": "stream",
     "text": [
      "Accuray of <class 'core.models.MLP.MLPClassifier'>: 0.9875\n",
      "Feature 1 / 12; Processing: 13 / 63\n",
      "set features: 11\n"
     ]
    },
    {
     "name": "stderr",
     "output_type": "stream",
     "text": [
      "100%|██████████| 200/200 [00:27<00:00,  7.41it/s]\n",
      "  0%|          | 1/200 [00:00<00:29,  6.65it/s]"
     ]
    },
    {
     "name": "stdout",
     "output_type": "stream",
     "text": [
      "Accuray of <class 'core.models.MLP.MLPClassifier'>: 1.0\n",
      "Feature 1 / 12; Processing: 14 / 63\n",
      "set features: 11\n"
     ]
    },
    {
     "name": "stderr",
     "output_type": "stream",
     "text": [
      "100%|██████████| 200/200 [00:28<00:00,  7.01it/s]\n",
      "  0%|          | 0/200 [00:00<?, ?it/s]"
     ]
    },
    {
     "name": "stdout",
     "output_type": "stream",
     "text": [
      "Accuray of <class 'core.models.MLP.MLPClassifier'>: 1.0\n",
      "Feature 1 / 12; Processing: 15 / 63\n",
      "set features: 11\n"
     ]
    },
    {
     "name": "stderr",
     "output_type": "stream",
     "text": [
      "100%|██████████| 200/200 [00:32<00:00,  6.08it/s]\n",
      "  0%|          | 0/200 [00:00<?, ?it/s]"
     ]
    },
    {
     "name": "stdout",
     "output_type": "stream",
     "text": [
      "Accuray of <class 'core.models.MLP.MLPClassifier'>: 0.9825\n",
      "Feature 1 / 12; Processing: 16 / 63\n",
      "set features: 11\n"
     ]
    },
    {
     "name": "stderr",
     "output_type": "stream",
     "text": [
      "100%|██████████| 200/200 [00:32<00:00,  6.15it/s]\n",
      "  0%|          | 0/200 [00:00<?, ?it/s]"
     ]
    },
    {
     "name": "stdout",
     "output_type": "stream",
     "text": [
      "Accuray of <class 'core.models.MLP.MLPClassifier'>: 0.98\n",
      "Feature 1 / 12; Processing: 17 / 63\n",
      "set features: 11\n"
     ]
    },
    {
     "name": "stderr",
     "output_type": "stream",
     "text": [
      "100%|██████████| 200/200 [00:34<00:00,  5.79it/s]\n",
      "  0%|          | 0/200 [00:00<?, ?it/s]"
     ]
    },
    {
     "name": "stdout",
     "output_type": "stream",
     "text": [
      "Accuray of <class 'core.models.MLP.MLPClassifier'>: 0.9975\n",
      "Feature 1 / 12; Processing: 18 / 63\n",
      "set features: 11\n"
     ]
    },
    {
     "name": "stderr",
     "output_type": "stream",
     "text": [
      "100%|██████████| 200/200 [00:35<00:00,  5.65it/s]\n",
      "  0%|          | 0/200 [00:00<?, ?it/s]"
     ]
    },
    {
     "name": "stdout",
     "output_type": "stream",
     "text": [
      "Accuray of <class 'core.models.MLP.MLPClassifier'>: 1.0\n",
      "Feature 1 / 12; Processing: 19 / 63\n",
      "set features: 11\n"
     ]
    },
    {
     "name": "stderr",
     "output_type": "stream",
     "text": [
      "100%|██████████| 200/200 [00:33<00:00,  5.98it/s]\n",
      "  0%|          | 0/200 [00:00<?, ?it/s]"
     ]
    },
    {
     "name": "stdout",
     "output_type": "stream",
     "text": [
      "Accuray of <class 'core.models.MLP.MLPClassifier'>: 0.9925\n",
      "Feature 1 / 12; Processing: 20 / 63\n",
      "set features: 11\n"
     ]
    },
    {
     "name": "stderr",
     "output_type": "stream",
     "text": [
      "100%|██████████| 200/200 [00:26<00:00,  7.41it/s]\n",
      "  0%|          | 0/200 [00:00<?, ?it/s]"
     ]
    },
    {
     "name": "stdout",
     "output_type": "stream",
     "text": [
      "Accuray of <class 'core.models.MLP.MLPClassifier'>: 0.99\n",
      "Feature 1 / 12; Processing: 21 / 63\n",
      "set features: 11\n"
     ]
    },
    {
     "name": "stderr",
     "output_type": "stream",
     "text": [
      "100%|██████████| 200/200 [00:33<00:00,  5.97it/s]\n",
      "  0%|          | 0/200 [00:00<?, ?it/s]"
     ]
    },
    {
     "name": "stdout",
     "output_type": "stream",
     "text": [
      "Accuray of <class 'core.models.MLP.MLPClassifier'>: 1.0\n",
      "Feature 1 / 12; Processing: 22 / 63\n",
      "set features: 11\n"
     ]
    },
    {
     "name": "stderr",
     "output_type": "stream",
     "text": [
      "100%|██████████| 200/200 [00:28<00:00,  6.95it/s]\n",
      "  1%|          | 2/200 [00:00<00:16, 12.14it/s]"
     ]
    },
    {
     "name": "stdout",
     "output_type": "stream",
     "text": [
      "Accuray of <class 'core.models.MLP.MLPClassifier'>: 1.0\n",
      "Feature 1 / 12; Processing: 23 / 63\n",
      "set features: 11\n"
     ]
    },
    {
     "name": "stderr",
     "output_type": "stream",
     "text": [
      "100%|██████████| 200/200 [00:30<00:00,  6.66it/s]\n",
      "  0%|          | 1/200 [00:00<00:23,  8.61it/s]"
     ]
    },
    {
     "name": "stdout",
     "output_type": "stream",
     "text": [
      "Accuray of <class 'core.models.MLP.MLPClassifier'>: 0.995\n",
      "Feature 1 / 12; Processing: 24 / 63\n",
      "set features: 11\n"
     ]
    },
    {
     "name": "stderr",
     "output_type": "stream",
     "text": [
      "100%|██████████| 200/200 [00:33<00:00,  5.94it/s]\n",
      "  0%|          | 1/200 [00:00<00:23,  8.43it/s]"
     ]
    },
    {
     "name": "stdout",
     "output_type": "stream",
     "text": [
      "Accuray of <class 'core.models.MLP.MLPClassifier'>: 0.9775\n",
      "Feature 1 / 12; Processing: 25 / 63\n",
      "set features: 11\n"
     ]
    },
    {
     "name": "stderr",
     "output_type": "stream",
     "text": [
      "100%|██████████| 200/200 [00:32<00:00,  6.12it/s]\n",
      "  0%|          | 0/200 [00:00<?, ?it/s]"
     ]
    },
    {
     "name": "stdout",
     "output_type": "stream",
     "text": [
      "Accuray of <class 'core.models.MLP.MLPClassifier'>: 0.995\n",
      "Feature 1 / 12; Processing: 26 / 63\n",
      "set features: 11\n"
     ]
    },
    {
     "name": "stderr",
     "output_type": "stream",
     "text": [
      "100%|██████████| 200/200 [00:32<00:00,  6.17it/s]\n",
      "  0%|          | 0/200 [00:00<?, ?it/s]"
     ]
    },
    {
     "name": "stdout",
     "output_type": "stream",
     "text": [
      "Accuray of <class 'core.models.MLP.MLPClassifier'>: 0.975\n",
      "Feature 1 / 12; Processing: 27 / 63\n",
      "set features: 11\n"
     ]
    },
    {
     "name": "stderr",
     "output_type": "stream",
     "text": [
      "100%|██████████| 200/200 [00:28<00:00,  6.92it/s]\n",
      "  0%|          | 0/200 [00:00<?, ?it/s]"
     ]
    },
    {
     "name": "stdout",
     "output_type": "stream",
     "text": [
      "Accuray of <class 'core.models.MLP.MLPClassifier'>: 0.995\n",
      "Feature 1 / 12; Processing: 28 / 63\n",
      "set features: 11\n"
     ]
    },
    {
     "name": "stderr",
     "output_type": "stream",
     "text": [
      "100%|██████████| 200/200 [00:32<00:00,  6.09it/s]\n",
      "  0%|          | 0/200 [00:00<?, ?it/s]"
     ]
    },
    {
     "name": "stdout",
     "output_type": "stream",
     "text": [
      "Accuray of <class 'core.models.MLP.MLPClassifier'>: 0.98\n",
      "Feature 1 / 12; Processing: 29 / 63\n",
      "set features: 11\n"
     ]
    },
    {
     "name": "stderr",
     "output_type": "stream",
     "text": [
      "100%|██████████| 200/200 [00:38<00:00,  5.16it/s]\n",
      "  0%|          | 0/200 [00:00<?, ?it/s]"
     ]
    },
    {
     "name": "stdout",
     "output_type": "stream",
     "text": [
      "Accuray of <class 'core.models.MLP.MLPClassifier'>: 0.995\n",
      "Feature 1 / 12; Processing: 30 / 63\n",
      "set features: 11\n"
     ]
    },
    {
     "name": "stderr",
     "output_type": "stream",
     "text": [
      "100%|██████████| 200/200 [00:39<00:00,  5.08it/s]\n",
      "  0%|          | 1/200 [00:00<00:25,  7.92it/s]"
     ]
    },
    {
     "name": "stdout",
     "output_type": "stream",
     "text": [
      "Accuray of <class 'core.models.MLP.MLPClassifier'>: 0.9875\n",
      "Feature 1 / 12; Processing: 31 / 63\n",
      "set features: 11\n"
     ]
    },
    {
     "name": "stderr",
     "output_type": "stream",
     "text": [
      "100%|██████████| 200/200 [00:29<00:00,  6.76it/s]\n",
      "  0%|          | 0/200 [00:00<?, ?it/s]"
     ]
    },
    {
     "name": "stdout",
     "output_type": "stream",
     "text": [
      "Accuray of <class 'core.models.MLP.MLPClassifier'>: 0.975\n",
      "Feature 1 / 12; Processing: 32 / 63\n",
      "set features: 11\n"
     ]
    },
    {
     "name": "stderr",
     "output_type": "stream",
     "text": [
      "100%|██████████| 200/200 [00:38<00:00,  5.21it/s]\n",
      "  0%|          | 0/200 [00:00<?, ?it/s]"
     ]
    },
    {
     "name": "stdout",
     "output_type": "stream",
     "text": [
      "Accuray of <class 'core.models.MLP.MLPClassifier'>: 0.9875\n",
      "Feature 1 / 12; Processing: 33 / 63\n",
      "set features: 11\n"
     ]
    },
    {
     "name": "stderr",
     "output_type": "stream",
     "text": [
      "100%|██████████| 200/200 [00:25<00:00,  7.78it/s]\n",
      "  0%|          | 0/200 [00:00<?, ?it/s]"
     ]
    },
    {
     "name": "stdout",
     "output_type": "stream",
     "text": [
      "Accuray of <class 'core.models.MLP.MLPClassifier'>: 1.0\n",
      "Feature 1 / 12; Processing: 34 / 63\n",
      "set features: 11\n"
     ]
    },
    {
     "name": "stderr",
     "output_type": "stream",
     "text": [
      "100%|██████████| 200/200 [00:35<00:00,  5.59it/s]\n",
      "  0%|          | 1/200 [00:00<00:25,  7.82it/s]"
     ]
    },
    {
     "name": "stdout",
     "output_type": "stream",
     "text": [
      "Accuray of <class 'core.models.MLP.MLPClassifier'>: 0.9775\n",
      "Feature 1 / 12; Processing: 35 / 63\n",
      "set features: 11\n"
     ]
    },
    {
     "name": "stderr",
     "output_type": "stream",
     "text": [
      "100%|██████████| 200/200 [00:37<00:00,  5.31it/s]\n",
      "  0%|          | 0/200 [00:00<?, ?it/s]"
     ]
    },
    {
     "name": "stdout",
     "output_type": "stream",
     "text": [
      "Accuray of <class 'core.models.MLP.MLPClassifier'>: 0.9975\n",
      "Feature 1 / 12; Processing: 36 / 63\n",
      "set features: 11\n"
     ]
    },
    {
     "name": "stderr",
     "output_type": "stream",
     "text": [
      "100%|██████████| 200/200 [00:38<00:00,  5.25it/s]\n",
      "  0%|          | 0/200 [00:00<?, ?it/s]"
     ]
    },
    {
     "name": "stdout",
     "output_type": "stream",
     "text": [
      "Accuray of <class 'core.models.MLP.MLPClassifier'>: 0.9925\n",
      "Feature 1 / 12; Processing: 37 / 63\n",
      "set features: 11\n"
     ]
    },
    {
     "name": "stderr",
     "output_type": "stream",
     "text": [
      "100%|██████████| 200/200 [00:37<00:00,  5.30it/s]\n",
      "  0%|          | 1/200 [00:00<00:31,  6.37it/s]"
     ]
    },
    {
     "name": "stdout",
     "output_type": "stream",
     "text": [
      "Accuray of <class 'core.models.MLP.MLPClassifier'>: 1.0\n",
      "Feature 1 / 12; Processing: 38 / 63\n",
      "set features: 11\n"
     ]
    },
    {
     "name": "stderr",
     "output_type": "stream",
     "text": [
      "100%|██████████| 200/200 [00:41<00:00,  4.85it/s]\n",
      "  0%|          | 0/200 [00:00<?, ?it/s]"
     ]
    },
    {
     "name": "stdout",
     "output_type": "stream",
     "text": [
      "Accuray of <class 'core.models.MLP.MLPClassifier'>: 0.98\n",
      "Feature 1 / 12; Processing: 39 / 63\n",
      "set features: 11\n"
     ]
    },
    {
     "name": "stderr",
     "output_type": "stream",
     "text": [
      "100%|██████████| 200/200 [00:37<00:00,  5.39it/s]\n",
      "  0%|          | 1/200 [00:00<00:22,  8.82it/s]"
     ]
    },
    {
     "name": "stdout",
     "output_type": "stream",
     "text": [
      "Accuray of <class 'core.models.MLP.MLPClassifier'>: 0.9825\n",
      "Feature 1 / 12; Processing: 40 / 63\n",
      "set features: 11\n"
     ]
    },
    {
     "name": "stderr",
     "output_type": "stream",
     "text": [
      "100%|██████████| 200/200 [00:32<00:00,  6.16it/s]\n",
      "  0%|          | 0/200 [00:00<?, ?it/s]"
     ]
    },
    {
     "name": "stdout",
     "output_type": "stream",
     "text": [
      "Accuray of <class 'core.models.MLP.MLPClassifier'>: 1.0\n",
      "Feature 1 / 12; Processing: 41 / 63\n",
      "set features: 11\n"
     ]
    },
    {
     "name": "stderr",
     "output_type": "stream",
     "text": [
      "100%|██████████| 200/200 [00:36<00:00,  5.51it/s]\n",
      "  0%|          | 1/200 [00:00<00:21,  9.08it/s]"
     ]
    },
    {
     "name": "stdout",
     "output_type": "stream",
     "text": [
      "Accuray of <class 'core.models.MLP.MLPClassifier'>: 0.995\n",
      "Feature 1 / 12; Processing: 42 / 63\n",
      "set features: 11\n"
     ]
    },
    {
     "name": "stderr",
     "output_type": "stream",
     "text": [
      "100%|██████████| 200/200 [00:36<00:00,  5.52it/s]\n",
      "  0%|          | 1/200 [00:00<00:20,  9.58it/s]"
     ]
    },
    {
     "name": "stdout",
     "output_type": "stream",
     "text": [
      "Accuray of <class 'core.models.MLP.MLPClassifier'>: 0.995\n",
      "Feature 1 / 12; Processing: 43 / 63\n",
      "set features: 11\n"
     ]
    },
    {
     "name": "stderr",
     "output_type": "stream",
     "text": [
      "100%|██████████| 200/200 [00:38<00:00,  5.15it/s]\n",
      "  0%|          | 0/200 [00:00<?, ?it/s]"
     ]
    },
    {
     "name": "stdout",
     "output_type": "stream",
     "text": [
      "Accuray of <class 'core.models.MLP.MLPClassifier'>: 0.9875\n",
      "Feature 1 / 12; Processing: 44 / 63\n",
      "set features: 11\n"
     ]
    },
    {
     "name": "stderr",
     "output_type": "stream",
     "text": [
      "100%|██████████| 200/200 [00:33<00:00,  6.05it/s]\n",
      "  0%|          | 0/200 [00:00<?, ?it/s]"
     ]
    },
    {
     "name": "stdout",
     "output_type": "stream",
     "text": [
      "Accuray of <class 'core.models.MLP.MLPClassifier'>: 1.0\n",
      "Feature 1 / 12; Processing: 45 / 63\n",
      "set features: 11\n"
     ]
    },
    {
     "name": "stderr",
     "output_type": "stream",
     "text": [
      "100%|██████████| 200/200 [00:28<00:00,  6.92it/s]\n",
      "  0%|          | 0/200 [00:00<?, ?it/s]"
     ]
    },
    {
     "name": "stdout",
     "output_type": "stream",
     "text": [
      "Accuray of <class 'core.models.MLP.MLPClassifier'>: 0.9825\n",
      "Feature 1 / 12; Processing: 46 / 63\n",
      "set features: 11\n"
     ]
    },
    {
     "name": "stderr",
     "output_type": "stream",
     "text": [
      "100%|██████████| 200/200 [00:40<00:00,  4.96it/s]\n",
      "  0%|          | 0/200 [00:00<?, ?it/s]"
     ]
    },
    {
     "name": "stdout",
     "output_type": "stream",
     "text": [
      "Accuray of <class 'core.models.MLP.MLPClassifier'>: 0.9875\n",
      "Feature 1 / 12; Processing: 47 / 63\n",
      "set features: 11\n"
     ]
    },
    {
     "name": "stderr",
     "output_type": "stream",
     "text": [
      "100%|██████████| 200/200 [00:38<00:00,  5.17it/s]\n",
      "  0%|          | 0/200 [00:00<?, ?it/s]"
     ]
    },
    {
     "name": "stdout",
     "output_type": "stream",
     "text": [
      "Accuray of <class 'core.models.MLP.MLPClassifier'>: 0.9875\n",
      "Feature 1 / 12; Processing: 48 / 63\n",
      "set features: 11\n"
     ]
    },
    {
     "name": "stderr",
     "output_type": "stream",
     "text": [
      "100%|██████████| 200/200 [00:34<00:00,  5.81it/s]\n",
      "  0%|          | 1/200 [00:00<00:21,  9.22it/s]"
     ]
    },
    {
     "name": "stdout",
     "output_type": "stream",
     "text": [
      "Accuray of <class 'core.models.MLP.MLPClassifier'>: 1.0\n",
      "Feature 1 / 12; Processing: 49 / 63\n",
      "set features: 11\n"
     ]
    },
    {
     "name": "stderr",
     "output_type": "stream",
     "text": [
      "100%|██████████| 200/200 [00:35<00:00,  5.67it/s]\n",
      "  0%|          | 0/200 [00:00<?, ?it/s]"
     ]
    },
    {
     "name": "stdout",
     "output_type": "stream",
     "text": [
      "Accuray of <class 'core.models.MLP.MLPClassifier'>: 0.9925\n",
      "Feature 1 / 12; Processing: 50 / 63\n",
      "set features: 11\n"
     ]
    },
    {
     "name": "stderr",
     "output_type": "stream",
     "text": [
      "100%|██████████| 200/200 [00:31<00:00,  6.45it/s]\n",
      "  0%|          | 1/200 [00:00<00:21,  9.25it/s]"
     ]
    },
    {
     "name": "stdout",
     "output_type": "stream",
     "text": [
      "Accuray of <class 'core.models.MLP.MLPClassifier'>: 0.99\n",
      "Feature 1 / 12; Processing: 51 / 63\n",
      "set features: 11\n"
     ]
    },
    {
     "name": "stderr",
     "output_type": "stream",
     "text": [
      "100%|██████████| 200/200 [00:31<00:00,  6.34it/s]\n",
      "  0%|          | 1/200 [00:00<00:21,  9.22it/s]"
     ]
    },
    {
     "name": "stdout",
     "output_type": "stream",
     "text": [
      "Accuray of <class 'core.models.MLP.MLPClassifier'>: 1.0\n",
      "Feature 1 / 12; Processing: 52 / 63\n",
      "set features: 11\n"
     ]
    },
    {
     "name": "stderr",
     "output_type": "stream",
     "text": [
      "100%|██████████| 200/200 [00:30<00:00,  6.52it/s]\n",
      "  0%|          | 0/200 [00:00<?, ?it/s]"
     ]
    },
    {
     "name": "stdout",
     "output_type": "stream",
     "text": [
      "Accuray of <class 'core.models.MLP.MLPClassifier'>: 1.0\n",
      "Feature 1 / 12; Processing: 53 / 63\n",
      "set features: 11\n"
     ]
    },
    {
     "name": "stderr",
     "output_type": "stream",
     "text": [
      "100%|██████████| 200/200 [00:34<00:00,  5.85it/s]\n",
      "  0%|          | 1/200 [00:00<00:21,  9.05it/s]"
     ]
    },
    {
     "name": "stdout",
     "output_type": "stream",
     "text": [
      "Accuray of <class 'core.models.MLP.MLPClassifier'>: 0.9675\n",
      "Feature 1 / 12; Processing: 54 / 63\n",
      "set features: 11\n"
     ]
    },
    {
     "name": "stderr",
     "output_type": "stream",
     "text": [
      "100%|██████████| 200/200 [00:29<00:00,  6.72it/s]\n",
      "  0%|          | 0/200 [00:00<?, ?it/s]"
     ]
    },
    {
     "name": "stdout",
     "output_type": "stream",
     "text": [
      "Accuray of <class 'core.models.MLP.MLPClassifier'>: 0.97\n",
      "Feature 1 / 12; Processing: 55 / 63\n",
      "set features: 11\n"
     ]
    },
    {
     "name": "stderr",
     "output_type": "stream",
     "text": [
      "100%|██████████| 200/200 [00:37<00:00,  5.28it/s]\n",
      "  0%|          | 0/200 [00:00<?, ?it/s]"
     ]
    },
    {
     "name": "stdout",
     "output_type": "stream",
     "text": [
      "Accuray of <class 'core.models.MLP.MLPClassifier'>: 0.98\n",
      "Feature 1 / 12; Processing: 56 / 63\n",
      "set features: 11\n"
     ]
    },
    {
     "name": "stderr",
     "output_type": "stream",
     "text": [
      "100%|██████████| 200/200 [00:32<00:00,  6.20it/s]\n",
      "  0%|          | 0/200 [00:00<?, ?it/s]"
     ]
    },
    {
     "name": "stdout",
     "output_type": "stream",
     "text": [
      "Accuray of <class 'core.models.MLP.MLPClassifier'>: 0.9775\n",
      "Feature 1 / 12; Processing: 57 / 63\n",
      "set features: 11\n"
     ]
    },
    {
     "name": "stderr",
     "output_type": "stream",
     "text": [
      "100%|██████████| 200/200 [00:32<00:00,  6.13it/s]\n",
      "  0%|          | 0/200 [00:00<?, ?it/s]"
     ]
    },
    {
     "name": "stdout",
     "output_type": "stream",
     "text": [
      "Accuray of <class 'core.models.MLP.MLPClassifier'>: 0.985\n",
      "Feature 1 / 12; Processing: 58 / 63\n",
      "set features: 11\n"
     ]
    },
    {
     "name": "stderr",
     "output_type": "stream",
     "text": [
      "100%|██████████| 200/200 [00:37<00:00,  5.31it/s]\n",
      "  0%|          | 1/200 [00:00<00:24,  7.96it/s]"
     ]
    },
    {
     "name": "stdout",
     "output_type": "stream",
     "text": [
      "Accuray of <class 'core.models.MLP.MLPClassifier'>: 0.995\n",
      "Feature 1 / 12; Processing: 59 / 63\n",
      "set features: 11\n"
     ]
    },
    {
     "name": "stderr",
     "output_type": "stream",
     "text": [
      "100%|██████████| 200/200 [00:30<00:00,  6.46it/s]\n",
      "  0%|          | 0/200 [00:00<?, ?it/s]"
     ]
    },
    {
     "name": "stdout",
     "output_type": "stream",
     "text": [
      "Accuray of <class 'core.models.MLP.MLPClassifier'>: 0.995\n",
      "Feature 1 / 12; Processing: 60 / 63\n",
      "set features: 11\n"
     ]
    },
    {
     "name": "stderr",
     "output_type": "stream",
     "text": [
      "100%|██████████| 200/200 [00:33<00:00,  5.93it/s]\n",
      "  0%|          | 1/200 [00:00<00:22,  9.03it/s]"
     ]
    },
    {
     "name": "stdout",
     "output_type": "stream",
     "text": [
      "Accuray of <class 'core.models.MLP.MLPClassifier'>: 0.995\n",
      "Feature 1 / 12; Processing: 61 / 63\n",
      "set features: 11\n"
     ]
    },
    {
     "name": "stderr",
     "output_type": "stream",
     "text": [
      "100%|██████████| 200/200 [00:30<00:00,  6.65it/s]\n",
      "  0%|          | 0/200 [00:00<?, ?it/s]"
     ]
    },
    {
     "name": "stdout",
     "output_type": "stream",
     "text": [
      "Accuray of <class 'core.models.MLP.MLPClassifier'>: 0.9925\n",
      "Feature 1 / 12; Processing: 62 / 63\n",
      "set features: 11\n"
     ]
    },
    {
     "name": "stderr",
     "output_type": "stream",
     "text": [
      "100%|██████████| 200/200 [00:36<00:00,  5.43it/s]\n",
      "  0%|          | 1/200 [00:00<00:21,  9.15it/s]"
     ]
    },
    {
     "name": "stdout",
     "output_type": "stream",
     "text": [
      "Accuray of <class 'core.models.MLP.MLPClassifier'>: 0.99\n",
      "remove feature sel_of_pred_on_indexed_attr: after remove length: 11\n",
      "Feature 2 / 12; Processing: 0 / 63\n",
      "set features: 11\n"
     ]
    },
    {
     "name": "stderr",
     "output_type": "stream",
     "text": [
      "100%|██████████| 200/200 [00:31<00:00,  6.35it/s]\n",
      "  0%|          | 0/200 [00:00<?, ?it/s]"
     ]
    },
    {
     "name": "stdout",
     "output_type": "stream",
     "text": [
      "Accuray of <class 'core.models.MLP.MLPClassifier'>: 0.955\n",
      "Feature 2 / 12; Processing: 1 / 63\n",
      "set features: 11\n"
     ]
    },
    {
     "name": "stderr",
     "output_type": "stream",
     "text": [
      "100%|██████████| 200/200 [00:32<00:00,  6.13it/s]\n",
      "  0%|          | 0/200 [00:00<?, ?it/s]"
     ]
    },
    {
     "name": "stdout",
     "output_type": "stream",
     "text": [
      "Accuray of <class 'core.models.MLP.MLPClassifier'>: 0.96\n",
      "Feature 2 / 12; Processing: 2 / 63\n",
      "set features: 11\n"
     ]
    },
    {
     "name": "stderr",
     "output_type": "stream",
     "text": [
      "100%|██████████| 200/200 [00:43<00:00,  4.56it/s]\n",
      "  0%|          | 0/200 [00:00<?, ?it/s]"
     ]
    },
    {
     "name": "stdout",
     "output_type": "stream",
     "text": [
      "Accuray of <class 'core.models.MLP.MLPClassifier'>: 0.9725\n",
      "Feature 2 / 12; Processing: 3 / 63\n",
      "set features: 11\n"
     ]
    },
    {
     "name": "stderr",
     "output_type": "stream",
     "text": [
      "100%|██████████| 200/200 [00:30<00:00,  6.55it/s]\n",
      "  0%|          | 0/200 [00:00<?, ?it/s]"
     ]
    },
    {
     "name": "stdout",
     "output_type": "stream",
     "text": [
      "Accuray of <class 'core.models.MLP.MLPClassifier'>: 0.8225\n",
      "Feature 2 / 12; Processing: 4 / 63\n",
      "set features: 11\n"
     ]
    },
    {
     "name": "stderr",
     "output_type": "stream",
     "text": [
      "100%|██████████| 200/200 [00:32<00:00,  6.23it/s]\n",
      "  0%|          | 0/200 [00:00<?, ?it/s]"
     ]
    },
    {
     "name": "stdout",
     "output_type": "stream",
     "text": [
      "Accuray of <class 'core.models.MLP.MLPClassifier'>: 0.985\n",
      "Feature 2 / 12; Processing: 5 / 63\n",
      "set features: 11\n"
     ]
    },
    {
     "name": "stderr",
     "output_type": "stream",
     "text": [
      "100%|██████████| 200/200 [00:31<00:00,  6.44it/s]\n",
      "  0%|          | 0/200 [00:00<?, ?it/s]"
     ]
    },
    {
     "name": "stdout",
     "output_type": "stream",
     "text": [
      "Accuray of <class 'core.models.MLP.MLPClassifier'>: 0.99\n",
      "Feature 2 / 12; Processing: 6 / 63\n",
      "set features: 11\n"
     ]
    },
    {
     "name": "stderr",
     "output_type": "stream",
     "text": [
      "100%|██████████| 200/200 [00:35<00:00,  5.68it/s]\n",
      "  0%|          | 1/200 [00:00<00:22,  8.87it/s]"
     ]
    },
    {
     "name": "stdout",
     "output_type": "stream",
     "text": [
      "Accuray of <class 'core.models.MLP.MLPClassifier'>: 0.9875\n",
      "Feature 2 / 12; Processing: 7 / 63\n",
      "set features: 11\n"
     ]
    },
    {
     "name": "stderr",
     "output_type": "stream",
     "text": [
      "100%|██████████| 200/200 [00:26<00:00,  7.45it/s]\n",
      "  0%|          | 1/200 [00:00<00:29,  6.77it/s]"
     ]
    },
    {
     "name": "stdout",
     "output_type": "stream",
     "text": [
      "Accuray of <class 'core.models.MLP.MLPClassifier'>: 0.9975\n",
      "Feature 2 / 12; Processing: 8 / 63\n",
      "set features: 11\n"
     ]
    },
    {
     "name": "stderr",
     "output_type": "stream",
     "text": [
      "100%|██████████| 200/200 [00:34<00:00,  5.81it/s]\n",
      "  0%|          | 0/200 [00:00<?, ?it/s]"
     ]
    },
    {
     "name": "stdout",
     "output_type": "stream",
     "text": [
      "Accuray of <class 'core.models.MLP.MLPClassifier'>: 0.98\n",
      "Feature 2 / 12; Processing: 9 / 63\n",
      "set features: 11\n"
     ]
    },
    {
     "name": "stderr",
     "output_type": "stream",
     "text": [
      "100%|██████████| 200/200 [00:32<00:00,  6.17it/s]\n",
      "  0%|          | 1/200 [00:00<00:26,  7.60it/s]"
     ]
    },
    {
     "name": "stdout",
     "output_type": "stream",
     "text": [
      "Accuray of <class 'core.models.MLP.MLPClassifier'>: 0.8975\n",
      "Feature 2 / 12; Processing: 10 / 63\n",
      "set features: 11\n"
     ]
    },
    {
     "name": "stderr",
     "output_type": "stream",
     "text": [
      "100%|██████████| 200/200 [00:33<00:00,  5.95it/s]\n",
      "  0%|          | 0/200 [00:00<?, ?it/s]"
     ]
    },
    {
     "name": "stdout",
     "output_type": "stream",
     "text": [
      "Accuray of <class 'core.models.MLP.MLPClassifier'>: 0.9725\n",
      "Feature 2 / 12; Processing: 11 / 63\n",
      "set features: 11\n"
     ]
    },
    {
     "name": "stderr",
     "output_type": "stream",
     "text": [
      "100%|██████████| 200/200 [00:30<00:00,  6.66it/s]\n",
      "  0%|          | 0/200 [00:00<?, ?it/s]"
     ]
    },
    {
     "name": "stdout",
     "output_type": "stream",
     "text": [
      "Accuray of <class 'core.models.MLP.MLPClassifier'>: 0.9575\n",
      "Feature 2 / 12; Processing: 12 / 63\n",
      "set features: 11\n"
     ]
    },
    {
     "name": "stderr",
     "output_type": "stream",
     "text": [
      "100%|██████████| 200/200 [00:30<00:00,  6.47it/s]\n",
      "  0%|          | 1/200 [00:00<00:22,  8.94it/s]"
     ]
    },
    {
     "name": "stdout",
     "output_type": "stream",
     "text": [
      "Accuray of <class 'core.models.MLP.MLPClassifier'>: 0.9575\n",
      "Feature 2 / 12; Processing: 13 / 63\n",
      "set features: 11\n"
     ]
    },
    {
     "name": "stderr",
     "output_type": "stream",
     "text": [
      "100%|██████████| 200/200 [00:32<00:00,  6.24it/s]\n",
      "  0%|          | 0/200 [00:00<?, ?it/s]"
     ]
    },
    {
     "name": "stdout",
     "output_type": "stream",
     "text": [
      "Accuray of <class 'core.models.MLP.MLPClassifier'>: 1.0\n",
      "Feature 2 / 12; Processing: 14 / 63\n",
      "set features: 11\n"
     ]
    },
    {
     "name": "stderr",
     "output_type": "stream",
     "text": [
      "100%|██████████| 200/200 [00:34<00:00,  5.88it/s]\n",
      "  0%|          | 0/200 [00:00<?, ?it/s]"
     ]
    },
    {
     "name": "stdout",
     "output_type": "stream",
     "text": [
      "Accuray of <class 'core.models.MLP.MLPClassifier'>: 1.0\n",
      "Feature 2 / 12; Processing: 15 / 63\n",
      "set features: 11\n"
     ]
    },
    {
     "name": "stderr",
     "output_type": "stream",
     "text": [
      "100%|██████████| 200/200 [00:33<00:00,  6.04it/s]\n",
      "  0%|          | 1/200 [00:00<00:30,  6.61it/s]"
     ]
    },
    {
     "name": "stdout",
     "output_type": "stream",
     "text": [
      "Accuray of <class 'core.models.MLP.MLPClassifier'>: 0.985\n",
      "Feature 2 / 12; Processing: 16 / 63\n",
      "set features: 11\n"
     ]
    },
    {
     "name": "stderr",
     "output_type": "stream",
     "text": [
      "100%|██████████| 200/200 [00:32<00:00,  6.17it/s]\n",
      "  0%|          | 1/200 [00:00<00:21,  9.36it/s]"
     ]
    },
    {
     "name": "stdout",
     "output_type": "stream",
     "text": [
      "Accuray of <class 'core.models.MLP.MLPClassifier'>: 0.9525\n",
      "Feature 2 / 12; Processing: 17 / 63\n",
      "set features: 11\n"
     ]
    },
    {
     "name": "stderr",
     "output_type": "stream",
     "text": [
      "100%|██████████| 200/200 [00:25<00:00,  7.76it/s]\n",
      "  0%|          | 0/200 [00:00<?, ?it/s]"
     ]
    },
    {
     "name": "stdout",
     "output_type": "stream",
     "text": [
      "Accuray of <class 'core.models.MLP.MLPClassifier'>: 0.9575\n",
      "Feature 2 / 12; Processing: 18 / 63\n",
      "set features: 11\n"
     ]
    },
    {
     "name": "stderr",
     "output_type": "stream",
     "text": [
      "100%|██████████| 200/200 [00:32<00:00,  6.19it/s]\n",
      "  0%|          | 0/200 [00:00<?, ?it/s]"
     ]
    },
    {
     "name": "stdout",
     "output_type": "stream",
     "text": [
      "Accuray of <class 'core.models.MLP.MLPClassifier'>: 1.0\n",
      "Feature 2 / 12; Processing: 19 / 63\n",
      "set features: 11\n"
     ]
    },
    {
     "name": "stderr",
     "output_type": "stream",
     "text": [
      "100%|██████████| 200/200 [00:41<00:00,  4.84it/s]\n",
      "  0%|          | 0/200 [00:00<?, ?it/s]"
     ]
    },
    {
     "name": "stdout",
     "output_type": "stream",
     "text": [
      "Accuray of <class 'core.models.MLP.MLPClassifier'>: 0.9875\n",
      "Feature 2 / 12; Processing: 20 / 63\n",
      "set features: 11\n"
     ]
    },
    {
     "name": "stderr",
     "output_type": "stream",
     "text": [
      "100%|██████████| 200/200 [00:35<00:00,  5.60it/s]\n",
      "  0%|          | 1/200 [00:00<00:25,  7.68it/s]"
     ]
    },
    {
     "name": "stdout",
     "output_type": "stream",
     "text": [
      "Accuray of <class 'core.models.MLP.MLPClassifier'>: 0.995\n",
      "Feature 2 / 12; Processing: 21 / 63\n",
      "set features: 11\n"
     ]
    },
    {
     "name": "stderr",
     "output_type": "stream",
     "text": [
      "100%|██████████| 200/200 [00:30<00:00,  6.62it/s]\n",
      "  0%|          | 0/200 [00:00<?, ?it/s]"
     ]
    },
    {
     "name": "stdout",
     "output_type": "stream",
     "text": [
      "Accuray of <class 'core.models.MLP.MLPClassifier'>: 0.9975\n",
      "Feature 2 / 12; Processing: 22 / 63\n",
      "set features: 11\n"
     ]
    },
    {
     "name": "stderr",
     "output_type": "stream",
     "text": [
      "100%|██████████| 200/200 [00:30<00:00,  6.64it/s]\n",
      "  0%|          | 0/200 [00:00<?, ?it/s]"
     ]
    },
    {
     "name": "stdout",
     "output_type": "stream",
     "text": [
      "Accuray of <class 'core.models.MLP.MLPClassifier'>: 1.0\n",
      "Feature 2 / 12; Processing: 23 / 63\n",
      "set features: 11\n"
     ]
    },
    {
     "name": "stderr",
     "output_type": "stream",
     "text": [
      "100%|██████████| 200/200 [00:27<00:00,  7.17it/s]\n",
      "  0%|          | 1/200 [00:00<00:25,  7.65it/s]"
     ]
    },
    {
     "name": "stdout",
     "output_type": "stream",
     "text": [
      "Accuray of <class 'core.models.MLP.MLPClassifier'>: 0.975\n",
      "Feature 2 / 12; Processing: 24 / 63\n",
      "set features: 11\n"
     ]
    },
    {
     "name": "stderr",
     "output_type": "stream",
     "text": [
      "100%|██████████| 200/200 [00:31<00:00,  6.36it/s]\n",
      "  0%|          | 0/200 [00:00<?, ?it/s]"
     ]
    },
    {
     "name": "stdout",
     "output_type": "stream",
     "text": [
      "Accuray of <class 'core.models.MLP.MLPClassifier'>: 0.9475\n",
      "Feature 2 / 12; Processing: 25 / 63\n",
      "set features: 11\n"
     ]
    },
    {
     "name": "stderr",
     "output_type": "stream",
     "text": [
      "100%|██████████| 200/200 [00:30<00:00,  6.62it/s]\n",
      "  0%|          | 0/200 [00:00<?, ?it/s]"
     ]
    },
    {
     "name": "stdout",
     "output_type": "stream",
     "text": [
      "Accuray of <class 'core.models.MLP.MLPClassifier'>: 0.935\n",
      "Feature 2 / 12; Processing: 26 / 63\n",
      "set features: 11\n"
     ]
    },
    {
     "name": "stderr",
     "output_type": "stream",
     "text": [
      "100%|██████████| 200/200 [00:33<00:00,  6.03it/s]\n",
      "  0%|          | 1/200 [00:00<00:26,  7.40it/s]"
     ]
    },
    {
     "name": "stdout",
     "output_type": "stream",
     "text": [
      "Accuray of <class 'core.models.MLP.MLPClassifier'>: 0.9875\n",
      "Feature 2 / 12; Processing: 27 / 63\n",
      "set features: 11\n"
     ]
    },
    {
     "name": "stderr",
     "output_type": "stream",
     "text": [
      "100%|██████████| 200/200 [00:28<00:00,  7.02it/s]\n",
      "  0%|          | 0/200 [00:00<?, ?it/s]"
     ]
    },
    {
     "name": "stdout",
     "output_type": "stream",
     "text": [
      "Accuray of <class 'core.models.MLP.MLPClassifier'>: 0.98\n",
      "Feature 2 / 12; Processing: 28 / 63\n",
      "set features: 11\n"
     ]
    },
    {
     "name": "stderr",
     "output_type": "stream",
     "text": [
      "100%|██████████| 200/200 [00:40<00:00,  4.88it/s]\n",
      "  0%|          | 0/200 [00:00<?, ?it/s]"
     ]
    },
    {
     "name": "stdout",
     "output_type": "stream",
     "text": [
      "Accuray of <class 'core.models.MLP.MLPClassifier'>: 0.985\n",
      "Feature 2 / 12; Processing: 29 / 63\n",
      "set features: 11\n"
     ]
    },
    {
     "name": "stderr",
     "output_type": "stream",
     "text": [
      "100%|██████████| 200/200 [00:38<00:00,  5.25it/s]\n",
      "  0%|          | 0/200 [00:00<?, ?it/s]"
     ]
    },
    {
     "name": "stdout",
     "output_type": "stream",
     "text": [
      "Accuray of <class 'core.models.MLP.MLPClassifier'>: 0.99\n",
      "Feature 2 / 12; Processing: 30 / 63\n",
      "set features: 11\n"
     ]
    },
    {
     "name": "stderr",
     "output_type": "stream",
     "text": [
      "100%|██████████| 200/200 [00:35<00:00,  5.58it/s]\n",
      "  0%|          | 0/200 [00:00<?, ?it/s]"
     ]
    },
    {
     "name": "stdout",
     "output_type": "stream",
     "text": [
      "Accuray of <class 'core.models.MLP.MLPClassifier'>: 0.9925\n",
      "Feature 2 / 12; Processing: 31 / 63\n",
      "set features: 11\n"
     ]
    },
    {
     "name": "stderr",
     "output_type": "stream",
     "text": [
      "100%|██████████| 200/200 [00:32<00:00,  6.20it/s]\n",
      "  0%|          | 0/200 [00:00<?, ?it/s]"
     ]
    },
    {
     "name": "stdout",
     "output_type": "stream",
     "text": [
      "Accuray of <class 'core.models.MLP.MLPClassifier'>: 0.975\n",
      "Feature 2 / 12; Processing: 32 / 63\n",
      "set features: 11\n"
     ]
    },
    {
     "name": "stderr",
     "output_type": "stream",
     "text": [
      "100%|██████████| 200/200 [00:32<00:00,  6.08it/s]\n",
      "  0%|          | 0/200 [00:00<?, ?it/s]"
     ]
    },
    {
     "name": "stdout",
     "output_type": "stream",
     "text": [
      "Accuray of <class 'core.models.MLP.MLPClassifier'>: 0.9875\n",
      "Feature 2 / 12; Processing: 33 / 63\n",
      "set features: 11\n"
     ]
    },
    {
     "name": "stderr",
     "output_type": "stream",
     "text": [
      "100%|██████████| 200/200 [00:35<00:00,  5.66it/s]\n"
     ]
    },
    {
     "name": "stdout",
     "output_type": "stream",
     "text": [
      "Accuray of <class 'core.models.MLP.MLPClassifier'>: 1.0\n",
      "Feature 2 / 12; Processing: 34 / 63\n"
     ]
    },
    {
     "name": "stderr",
     "output_type": "stream",
     "text": [
      "  0%|          | 1/200 [00:00<00:27,  7.20it/s]"
     ]
    },
    {
     "name": "stdout",
     "output_type": "stream",
     "text": [
      "set features: 11\n"
     ]
    },
    {
     "name": "stderr",
     "output_type": "stream",
     "text": [
      "100%|██████████| 200/200 [00:35<00:00,  5.60it/s]\n",
      "  0%|          | 0/200 [00:00<?, ?it/s]"
     ]
    },
    {
     "name": "stdout",
     "output_type": "stream",
     "text": [
      "Accuray of <class 'core.models.MLP.MLPClassifier'>: 0.995\n",
      "Feature 2 / 12; Processing: 35 / 63\n",
      "set features: 11\n"
     ]
    },
    {
     "name": "stderr",
     "output_type": "stream",
     "text": [
      "100%|██████████| 200/200 [00:32<00:00,  6.13it/s]\n",
      "  0%|          | 1/200 [00:00<00:21,  9.21it/s]"
     ]
    },
    {
     "name": "stdout",
     "output_type": "stream",
     "text": [
      "Accuray of <class 'core.models.MLP.MLPClassifier'>: 0.9975\n",
      "Feature 2 / 12; Processing: 36 / 63\n",
      "set features: 11\n"
     ]
    },
    {
     "name": "stderr",
     "output_type": "stream",
     "text": [
      "100%|██████████| 200/200 [00:30<00:00,  6.65it/s]\n",
      "  0%|          | 0/200 [00:00<?, ?it/s]"
     ]
    },
    {
     "name": "stdout",
     "output_type": "stream",
     "text": [
      "Accuray of <class 'core.models.MLP.MLPClassifier'>: 0.9925\n",
      "Feature 2 / 12; Processing: 37 / 63\n",
      "set features: 11\n"
     ]
    },
    {
     "name": "stderr",
     "output_type": "stream",
     "text": [
      "100%|██████████| 200/200 [00:31<00:00,  6.26it/s]\n",
      "  0%|          | 0/200 [00:00<?, ?it/s]"
     ]
    },
    {
     "name": "stdout",
     "output_type": "stream",
     "text": [
      "Accuray of <class 'core.models.MLP.MLPClassifier'>: 1.0\n",
      "Feature 2 / 12; Processing: 38 / 63\n",
      "set features: 11\n"
     ]
    },
    {
     "name": "stderr",
     "output_type": "stream",
     "text": [
      "100%|██████████| 200/200 [00:32<00:00,  6.13it/s]\n",
      "  0%|          | 0/200 [00:00<?, ?it/s]"
     ]
    },
    {
     "name": "stdout",
     "output_type": "stream",
     "text": [
      "Accuray of <class 'core.models.MLP.MLPClassifier'>: 0.965\n",
      "Feature 2 / 12; Processing: 39 / 63\n",
      "set features: 11\n"
     ]
    },
    {
     "name": "stderr",
     "output_type": "stream",
     "text": [
      "100%|██████████| 200/200 [00:29<00:00,  6.68it/s]\n",
      "  0%|          | 0/200 [00:00<?, ?it/s]"
     ]
    },
    {
     "name": "stdout",
     "output_type": "stream",
     "text": [
      "Accuray of <class 'core.models.MLP.MLPClassifier'>: 0.9325\n",
      "Feature 2 / 12; Processing: 40 / 63\n",
      "set features: 11\n"
     ]
    },
    {
     "name": "stderr",
     "output_type": "stream",
     "text": [
      "100%|██████████| 200/200 [00:42<00:00,  4.73it/s]\n",
      "  0%|          | 0/200 [00:00<?, ?it/s]"
     ]
    },
    {
     "name": "stdout",
     "output_type": "stream",
     "text": [
      "Accuray of <class 'core.models.MLP.MLPClassifier'>: 0.985\n",
      "Feature 2 / 12; Processing: 41 / 63\n",
      "set features: 11\n"
     ]
    },
    {
     "name": "stderr",
     "output_type": "stream",
     "text": [
      "100%|██████████| 200/200 [00:35<00:00,  5.69it/s]\n",
      "  0%|          | 1/200 [00:00<00:25,  7.83it/s]"
     ]
    },
    {
     "name": "stdout",
     "output_type": "stream",
     "text": [
      "Accuray of <class 'core.models.MLP.MLPClassifier'>: 0.955\n",
      "Feature 2 / 12; Processing: 42 / 63\n",
      "set features: 11\n"
     ]
    },
    {
     "name": "stderr",
     "output_type": "stream",
     "text": [
      "100%|██████████| 200/200 [00:34<00:00,  5.83it/s]\n",
      "  0%|          | 0/200 [00:00<?, ?it/s]"
     ]
    },
    {
     "name": "stdout",
     "output_type": "stream",
     "text": [
      "Accuray of <class 'core.models.MLP.MLPClassifier'>: 0.9725\n",
      "Feature 2 / 12; Processing: 43 / 63\n",
      "set features: 11\n"
     ]
    },
    {
     "name": "stderr",
     "output_type": "stream",
     "text": [
      "100%|██████████| 200/200 [00:39<00:00,  5.11it/s]\n",
      "  0%|          | 0/200 [00:00<?, ?it/s]"
     ]
    },
    {
     "name": "stdout",
     "output_type": "stream",
     "text": [
      "Accuray of <class 'core.models.MLP.MLPClassifier'>: 0.98\n",
      "Feature 2 / 12; Processing: 44 / 63\n",
      "set features: 11\n"
     ]
    },
    {
     "name": "stderr",
     "output_type": "stream",
     "text": [
      "100%|██████████| 200/200 [00:34<00:00,  5.84it/s]\n",
      "  0%|          | 1/200 [00:00<00:28,  6.94it/s]"
     ]
    },
    {
     "name": "stdout",
     "output_type": "stream",
     "text": [
      "Accuray of <class 'core.models.MLP.MLPClassifier'>: 0.9975\n",
      "Feature 2 / 12; Processing: 45 / 63\n",
      "set features: 11\n"
     ]
    },
    {
     "name": "stderr",
     "output_type": "stream",
     "text": [
      "100%|██████████| 200/200 [00:34<00:00,  5.81it/s]\n",
      "  0%|          | 1/200 [00:00<00:26,  7.39it/s]"
     ]
    },
    {
     "name": "stdout",
     "output_type": "stream",
     "text": [
      "Accuray of <class 'core.models.MLP.MLPClassifier'>: 0.9925\n",
      "Feature 2 / 12; Processing: 46 / 63\n",
      "set features: 11\n"
     ]
    },
    {
     "name": "stderr",
     "output_type": "stream",
     "text": [
      "100%|██████████| 200/200 [00:29<00:00,  6.87it/s]\n",
      "  0%|          | 0/200 [00:00<?, ?it/s]"
     ]
    },
    {
     "name": "stdout",
     "output_type": "stream",
     "text": [
      "Accuray of <class 'core.models.MLP.MLPClassifier'>: 0.9575\n",
      "Feature 2 / 12; Processing: 47 / 63\n",
      "set features: 11\n"
     ]
    },
    {
     "name": "stderr",
     "output_type": "stream",
     "text": [
      "100%|██████████| 200/200 [00:31<00:00,  6.25it/s]\n",
      "  0%|          | 0/200 [00:00<?, ?it/s]"
     ]
    },
    {
     "name": "stdout",
     "output_type": "stream",
     "text": [
      "Accuray of <class 'core.models.MLP.MLPClassifier'>: 0.96\n",
      "Feature 2 / 12; Processing: 48 / 63\n",
      "set features: 11\n"
     ]
    },
    {
     "name": "stderr",
     "output_type": "stream",
     "text": [
      "100%|██████████| 200/200 [00:29<00:00,  6.88it/s]\n",
      "  0%|          | 0/200 [00:00<?, ?it/s]"
     ]
    },
    {
     "name": "stdout",
     "output_type": "stream",
     "text": [
      "Accuray of <class 'core.models.MLP.MLPClassifier'>: 1.0\n",
      "Feature 2 / 12; Processing: 49 / 63\n",
      "set features: 11\n"
     ]
    },
    {
     "name": "stderr",
     "output_type": "stream",
     "text": [
      "100%|██████████| 200/200 [00:35<00:00,  5.63it/s]\n",
      "  0%|          | 0/200 [00:00<?, ?it/s]"
     ]
    },
    {
     "name": "stdout",
     "output_type": "stream",
     "text": [
      "Accuray of <class 'core.models.MLP.MLPClassifier'>: 0.9925\n",
      "Feature 2 / 12; Processing: 50 / 63\n",
      "set features: 11\n"
     ]
    },
    {
     "name": "stderr",
     "output_type": "stream",
     "text": [
      "100%|██████████| 200/200 [00:38<00:00,  5.14it/s]\n",
      "  0%|          | 1/200 [00:00<00:26,  7.46it/s]"
     ]
    },
    {
     "name": "stdout",
     "output_type": "stream",
     "text": [
      "Accuray of <class 'core.models.MLP.MLPClassifier'>: 0.995\n",
      "Feature 2 / 12; Processing: 51 / 63\n",
      "set features: 11\n"
     ]
    },
    {
     "name": "stderr",
     "output_type": "stream",
     "text": [
      "100%|██████████| 200/200 [00:35<00:00,  5.70it/s]\n",
      "  0%|          | 1/200 [00:00<00:27,  7.13it/s]"
     ]
    },
    {
     "name": "stdout",
     "output_type": "stream",
     "text": [
      "Accuray of <class 'core.models.MLP.MLPClassifier'>: 0.995\n",
      "Feature 2 / 12; Processing: 52 / 63\n",
      "set features: 11\n"
     ]
    },
    {
     "name": "stderr",
     "output_type": "stream",
     "text": [
      "100%|██████████| 200/200 [00:31<00:00,  6.43it/s]\n",
      "  0%|          | 0/200 [00:00<?, ?it/s]"
     ]
    },
    {
     "name": "stdout",
     "output_type": "stream",
     "text": [
      "Accuray of <class 'core.models.MLP.MLPClassifier'>: 1.0\n",
      "Feature 2 / 12; Processing: 53 / 63\n",
      "set features: 11\n"
     ]
    },
    {
     "name": "stderr",
     "output_type": "stream",
     "text": [
      "100%|██████████| 200/200 [00:34<00:00,  5.81it/s]\n",
      "  0%|          | 0/200 [00:00<?, ?it/s]"
     ]
    },
    {
     "name": "stdout",
     "output_type": "stream",
     "text": [
      "Accuray of <class 'core.models.MLP.MLPClassifier'>: 0.915\n",
      "Feature 2 / 12; Processing: 54 / 63\n",
      "set features: 11\n"
     ]
    },
    {
     "name": "stderr",
     "output_type": "stream",
     "text": [
      "100%|██████████| 200/200 [00:35<00:00,  5.66it/s]\n",
      "  0%|          | 0/200 [00:00<?, ?it/s]"
     ]
    },
    {
     "name": "stdout",
     "output_type": "stream",
     "text": [
      "Accuray of <class 'core.models.MLP.MLPClassifier'>: 0.9275\n",
      "Feature 2 / 12; Processing: 55 / 63\n",
      "set features: 11\n"
     ]
    },
    {
     "name": "stderr",
     "output_type": "stream",
     "text": [
      "100%|██████████| 200/200 [00:36<00:00,  5.45it/s]\n",
      "  0%|          | 1/200 [00:00<00:29,  6.74it/s]"
     ]
    },
    {
     "name": "stdout",
     "output_type": "stream",
     "text": [
      "Accuray of <class 'core.models.MLP.MLPClassifier'>: 0.9525\n",
      "Feature 2 / 12; Processing: 56 / 63\n",
      "set features: 11\n"
     ]
    },
    {
     "name": "stderr",
     "output_type": "stream",
     "text": [
      "100%|██████████| 200/200 [00:32<00:00,  6.06it/s]\n",
      "  0%|          | 0/200 [00:00<?, ?it/s]"
     ]
    },
    {
     "name": "stdout",
     "output_type": "stream",
     "text": [
      "Accuray of <class 'core.models.MLP.MLPClassifier'>: 0.945\n",
      "Feature 2 / 12; Processing: 57 / 63\n",
      "set features: 11\n"
     ]
    },
    {
     "name": "stderr",
     "output_type": "stream",
     "text": [
      "100%|██████████| 200/200 [00:43<00:00,  4.57it/s]\n",
      "  0%|          | 0/200 [00:00<?, ?it/s]"
     ]
    },
    {
     "name": "stdout",
     "output_type": "stream",
     "text": [
      "Accuray of <class 'core.models.MLP.MLPClassifier'>: 0.945\n",
      "Feature 2 / 12; Processing: 58 / 63\n",
      "set features: 11\n"
     ]
    },
    {
     "name": "stderr",
     "output_type": "stream",
     "text": [
      "100%|██████████| 200/200 [00:44<00:00,  4.47it/s]\n",
      "  0%|          | 0/200 [00:00<?, ?it/s]"
     ]
    },
    {
     "name": "stdout",
     "output_type": "stream",
     "text": [
      "Accuray of <class 'core.models.MLP.MLPClassifier'>: 0.9725\n",
      "Feature 2 / 12; Processing: 59 / 63\n",
      "set features: 11\n"
     ]
    },
    {
     "name": "stderr",
     "output_type": "stream",
     "text": [
      "100%|██████████| 200/200 [00:38<00:00,  5.21it/s]\n",
      "  0%|          | 1/200 [00:00<00:32,  6.09it/s]"
     ]
    },
    {
     "name": "stdout",
     "output_type": "stream",
     "text": [
      "Accuray of <class 'core.models.MLP.MLPClassifier'>: 0.9725\n",
      "Feature 2 / 12; Processing: 60 / 63\n",
      "set features: 11\n"
     ]
    },
    {
     "name": "stderr",
     "output_type": "stream",
     "text": [
      "100%|██████████| 200/200 [00:29<00:00,  6.89it/s]\n",
      "  0%|          | 1/200 [00:00<00:20,  9.84it/s]"
     ]
    },
    {
     "name": "stdout",
     "output_type": "stream",
     "text": [
      "Accuray of <class 'core.models.MLP.MLPClassifier'>: 0.945\n",
      "Feature 2 / 12; Processing: 61 / 63\n",
      "set features: 11\n"
     ]
    },
    {
     "name": "stderr",
     "output_type": "stream",
     "text": [
      "100%|██████████| 200/200 [00:28<00:00,  6.92it/s]\n",
      "  0%|          | 0/200 [00:00<?, ?it/s]"
     ]
    },
    {
     "name": "stdout",
     "output_type": "stream",
     "text": [
      "Accuray of <class 'core.models.MLP.MLPClassifier'>: 0.9725\n",
      "Feature 2 / 12; Processing: 62 / 63\n",
      "set features: 11\n"
     ]
    },
    {
     "name": "stderr",
     "output_type": "stream",
     "text": [
      "100%|██████████| 200/200 [00:41<00:00,  4.79it/s]\n",
      "  0%|          | 0/200 [00:00<?, ?it/s]"
     ]
    },
    {
     "name": "stdout",
     "output_type": "stream",
     "text": [
      "Accuray of <class 'core.models.MLP.MLPClassifier'>: 0.9775\n",
      "remove feature sel_of_pred_on_non_indexed_attr: after remove length: 11\n",
      "Feature 3 / 12; Processing: 0 / 63\n",
      "set features: 11\n"
     ]
    },
    {
     "name": "stderr",
     "output_type": "stream",
     "text": [
      "100%|██████████| 200/200 [00:44<00:00,  4.51it/s]\n",
      "  0%|          | 0/200 [00:00<?, ?it/s]"
     ]
    },
    {
     "name": "stdout",
     "output_type": "stream",
     "text": [
      "Accuray of <class 'core.models.MLP.MLPClassifier'>: 0.9925\n",
      "Feature 3 / 12; Processing: 1 / 63\n",
      "set features: 11\n"
     ]
    },
    {
     "name": "stderr",
     "output_type": "stream",
     "text": [
      "100%|██████████| 200/200 [00:29<00:00,  6.68it/s]\n",
      "  0%|          | 1/200 [00:00<00:21,  9.17it/s]"
     ]
    },
    {
     "name": "stdout",
     "output_type": "stream",
     "text": [
      "Accuray of <class 'core.models.MLP.MLPClassifier'>: 1.0\n",
      "Feature 3 / 12; Processing: 2 / 63\n",
      "set features: 11\n"
     ]
    },
    {
     "name": "stderr",
     "output_type": "stream",
     "text": [
      "100%|██████████| 200/200 [00:31<00:00,  6.38it/s]\n",
      "  0%|          | 1/200 [00:00<00:25,  7.84it/s]"
     ]
    },
    {
     "name": "stdout",
     "output_type": "stream",
     "text": [
      "Accuray of <class 'core.models.MLP.MLPClassifier'>: 0.97\n",
      "Feature 3 / 12; Processing: 3 / 63\n",
      "set features: 11\n"
     ]
    },
    {
     "name": "stderr",
     "output_type": "stream",
     "text": [
      "100%|██████████| 200/200 [00:31<00:00,  6.39it/s]\n",
      "  0%|          | 1/200 [00:00<00:20,  9.50it/s]"
     ]
    },
    {
     "name": "stdout",
     "output_type": "stream",
     "text": [
      "Accuray of <class 'core.models.MLP.MLPClassifier'>: 1.0\n",
      "Feature 3 / 12; Processing: 4 / 63\n",
      "set features: 11\n"
     ]
    },
    {
     "name": "stderr",
     "output_type": "stream",
     "text": [
      "100%|██████████| 200/200 [00:35<00:00,  5.68it/s]\n",
      "  0%|          | 1/200 [00:00<00:27,  7.22it/s]"
     ]
    },
    {
     "name": "stdout",
     "output_type": "stream",
     "text": [
      "Accuray of <class 'core.models.MLP.MLPClassifier'>: 0.99\n",
      "Feature 3 / 12; Processing: 5 / 63\n",
      "set features: 11\n"
     ]
    },
    {
     "name": "stderr",
     "output_type": "stream",
     "text": [
      "100%|██████████| 200/200 [00:33<00:00,  6.03it/s]\n",
      "  0%|          | 0/200 [00:00<?, ?it/s]"
     ]
    },
    {
     "name": "stdout",
     "output_type": "stream",
     "text": [
      "Accuray of <class 'core.models.MLP.MLPClassifier'>: 0.98\n",
      "Feature 3 / 12; Processing: 6 / 63\n",
      "set features: 11\n"
     ]
    },
    {
     "name": "stderr",
     "output_type": "stream",
     "text": [
      "100%|██████████| 200/200 [00:36<00:00,  5.43it/s]\n",
      "  0%|          | 1/200 [00:00<00:20,  9.76it/s]"
     ]
    },
    {
     "name": "stdout",
     "output_type": "stream",
     "text": [
      "Accuray of <class 'core.models.MLP.MLPClassifier'>: 0.9975\n",
      "Feature 3 / 12; Processing: 7 / 63\n",
      "set features: 11\n"
     ]
    },
    {
     "name": "stderr",
     "output_type": "stream",
     "text": [
      "100%|██████████| 200/200 [00:32<00:00,  6.09it/s]\n",
      "  0%|          | 0/200 [00:00<?, ?it/s]"
     ]
    },
    {
     "name": "stdout",
     "output_type": "stream",
     "text": [
      "Accuray of <class 'core.models.MLP.MLPClassifier'>: 0.995\n",
      "Feature 3 / 12; Processing: 8 / 63\n",
      "set features: 11\n"
     ]
    },
    {
     "name": "stderr",
     "output_type": "stream",
     "text": [
      "100%|██████████| 200/200 [00:31<00:00,  6.29it/s]\n",
      "  0%|          | 0/200 [00:00<?, ?it/s]"
     ]
    },
    {
     "name": "stdout",
     "output_type": "stream",
     "text": [
      "Accuray of <class 'core.models.MLP.MLPClassifier'>: 0.975\n",
      "Feature 3 / 12; Processing: 9 / 63\n",
      "set features: 11\n"
     ]
    },
    {
     "name": "stderr",
     "output_type": "stream",
     "text": [
      "100%|██████████| 200/200 [00:38<00:00,  5.14it/s]\n",
      "  0%|          | 1/200 [00:00<00:30,  6.51it/s]"
     ]
    },
    {
     "name": "stdout",
     "output_type": "stream",
     "text": [
      "Accuray of <class 'core.models.MLP.MLPClassifier'>: 0.9525\n",
      "Feature 3 / 12; Processing: 10 / 63\n",
      "set features: 11\n"
     ]
    },
    {
     "name": "stderr",
     "output_type": "stream",
     "text": [
      "100%|██████████| 200/200 [00:25<00:00,  7.89it/s]\n",
      "  0%|          | 0/200 [00:00<?, ?it/s]"
     ]
    },
    {
     "name": "stdout",
     "output_type": "stream",
     "text": [
      "Accuray of <class 'core.models.MLP.MLPClassifier'>: 0.975\n",
      "Feature 3 / 12; Processing: 11 / 63\n",
      "set features: 11\n"
     ]
    },
    {
     "name": "stderr",
     "output_type": "stream",
     "text": [
      "100%|██████████| 200/200 [00:31<00:00,  6.34it/s]\n",
      "  0%|          | 0/200 [00:00<?, ?it/s]"
     ]
    },
    {
     "name": "stdout",
     "output_type": "stream",
     "text": [
      "Accuray of <class 'core.models.MLP.MLPClassifier'>: 0.985\n",
      "Feature 3 / 12; Processing: 12 / 63\n",
      "set features: 11\n"
     ]
    },
    {
     "name": "stderr",
     "output_type": "stream",
     "text": [
      "100%|██████████| 200/200 [00:36<00:00,  5.47it/s]\n",
      "  0%|          | 0/200 [00:00<?, ?it/s]"
     ]
    },
    {
     "name": "stdout",
     "output_type": "stream",
     "text": [
      "Accuray of <class 'core.models.MLP.MLPClassifier'>: 0.9875\n",
      "Feature 3 / 12; Processing: 13 / 63\n",
      "set features: 11\n"
     ]
    },
    {
     "name": "stderr",
     "output_type": "stream",
     "text": [
      "100%|██████████| 200/200 [00:34<00:00,  5.73it/s]\n",
      "  0%|          | 0/200 [00:00<?, ?it/s]"
     ]
    },
    {
     "name": "stdout",
     "output_type": "stream",
     "text": [
      "Accuray of <class 'core.models.MLP.MLPClassifier'>: 1.0\n",
      "Feature 3 / 12; Processing: 14 / 63\n",
      "set features: 11\n"
     ]
    },
    {
     "name": "stderr",
     "output_type": "stream",
     "text": [
      "100%|██████████| 200/200 [00:33<00:00,  6.02it/s]\n",
      "  0%|          | 0/200 [00:00<?, ?it/s]"
     ]
    },
    {
     "name": "stdout",
     "output_type": "stream",
     "text": [
      "Accuray of <class 'core.models.MLP.MLPClassifier'>: 1.0\n",
      "Feature 3 / 12; Processing: 15 / 63\n",
      "set features: 11\n"
     ]
    },
    {
     "name": "stderr",
     "output_type": "stream",
     "text": [
      "100%|██████████| 200/200 [00:34<00:00,  5.79it/s]\n",
      "  0%|          | 0/200 [00:00<?, ?it/s]"
     ]
    },
    {
     "name": "stdout",
     "output_type": "stream",
     "text": [
      "Accuray of <class 'core.models.MLP.MLPClassifier'>: 0.985\n",
      "Feature 3 / 12; Processing: 16 / 63\n",
      "set features: 11\n"
     ]
    },
    {
     "name": "stderr",
     "output_type": "stream",
     "text": [
      "100%|██████████| 200/200 [00:37<00:00,  5.40it/s]\n",
      "  0%|          | 0/200 [00:00<?, ?it/s]"
     ]
    },
    {
     "name": "stdout",
     "output_type": "stream",
     "text": [
      "Accuray of <class 'core.models.MLP.MLPClassifier'>: 0.995\n",
      "Feature 3 / 12; Processing: 17 / 63\n",
      "set features: 11\n"
     ]
    },
    {
     "name": "stderr",
     "output_type": "stream",
     "text": [
      "100%|██████████| 200/200 [00:43<00:00,  4.61it/s]\n",
      "  0%|          | 0/200 [00:00<?, ?it/s]"
     ]
    },
    {
     "name": "stdout",
     "output_type": "stream",
     "text": [
      "Accuray of <class 'core.models.MLP.MLPClassifier'>: 0.9925\n",
      "Feature 3 / 12; Processing: 18 / 63\n",
      "set features: 11\n"
     ]
    },
    {
     "name": "stderr",
     "output_type": "stream",
     "text": [
      "100%|██████████| 200/200 [00:34<00:00,  5.81it/s]\n",
      "  0%|          | 0/200 [00:00<?, ?it/s]"
     ]
    },
    {
     "name": "stdout",
     "output_type": "stream",
     "text": [
      "Accuray of <class 'core.models.MLP.MLPClassifier'>: 1.0\n",
      "Feature 3 / 12; Processing: 19 / 63\n",
      "set features: 11\n"
     ]
    },
    {
     "name": "stderr",
     "output_type": "stream",
     "text": [
      "100%|██████████| 200/200 [00:41<00:00,  4.87it/s]\n",
      "  0%|          | 1/200 [00:00<00:21,  9.27it/s]"
     ]
    },
    {
     "name": "stdout",
     "output_type": "stream",
     "text": [
      "Accuray of <class 'core.models.MLP.MLPClassifier'>: 0.99\n",
      "Feature 3 / 12; Processing: 20 / 63\n",
      "set features: 11\n"
     ]
    },
    {
     "name": "stderr",
     "output_type": "stream",
     "text": [
      "100%|██████████| 200/200 [00:35<00:00,  5.56it/s]\n",
      "  0%|          | 0/200 [00:00<?, ?it/s]"
     ]
    },
    {
     "name": "stdout",
     "output_type": "stream",
     "text": [
      "Accuray of <class 'core.models.MLP.MLPClassifier'>: 0.9975\n",
      "Feature 3 / 12; Processing: 21 / 63\n",
      "set features: 11\n"
     ]
    },
    {
     "name": "stderr",
     "output_type": "stream",
     "text": [
      "100%|██████████| 200/200 [00:32<00:00,  6.09it/s]\n",
      "  0%|          | 0/200 [00:00<?, ?it/s]"
     ]
    },
    {
     "name": "stdout",
     "output_type": "stream",
     "text": [
      "Accuray of <class 'core.models.MLP.MLPClassifier'>: 0.985\n",
      "Feature 3 / 12; Processing: 22 / 63\n",
      "set features: 11\n"
     ]
    },
    {
     "name": "stderr",
     "output_type": "stream",
     "text": [
      "100%|██████████| 200/200 [00:30<00:00,  6.56it/s]\n",
      "  0%|          | 0/200 [00:00<?, ?it/s]"
     ]
    },
    {
     "name": "stdout",
     "output_type": "stream",
     "text": [
      "Accuray of <class 'core.models.MLP.MLPClassifier'>: 1.0\n",
      "Feature 3 / 12; Processing: 23 / 63\n",
      "set features: 11\n"
     ]
    },
    {
     "name": "stderr",
     "output_type": "stream",
     "text": [
      "100%|██████████| 200/200 [00:35<00:00,  5.65it/s]\n",
      "  0%|          | 0/200 [00:00<?, ?it/s]"
     ]
    },
    {
     "name": "stdout",
     "output_type": "stream",
     "text": [
      "Accuray of <class 'core.models.MLP.MLPClassifier'>: 0.98\n",
      "Feature 3 / 12; Processing: 24 / 63\n",
      "set features: 11\n"
     ]
    },
    {
     "name": "stderr",
     "output_type": "stream",
     "text": [
      "100%|██████████| 200/200 [00:33<00:00,  5.95it/s]\n",
      "  0%|          | 0/200 [00:00<?, ?it/s]"
     ]
    },
    {
     "name": "stdout",
     "output_type": "stream",
     "text": [
      "Accuray of <class 'core.models.MLP.MLPClassifier'>: 0.9525\n",
      "Feature 3 / 12; Processing: 25 / 63\n",
      "set features: 11\n"
     ]
    },
    {
     "name": "stderr",
     "output_type": "stream",
     "text": [
      "100%|██████████| 200/200 [00:31<00:00,  6.35it/s]\n",
      "  0%|          | 0/200 [00:00<?, ?it/s]"
     ]
    },
    {
     "name": "stdout",
     "output_type": "stream",
     "text": [
      "Accuray of <class 'core.models.MLP.MLPClassifier'>: 0.975\n",
      "Feature 3 / 12; Processing: 26 / 63\n",
      "set features: 11\n"
     ]
    },
    {
     "name": "stderr",
     "output_type": "stream",
     "text": [
      "100%|██████████| 200/200 [00:38<00:00,  5.18it/s]\n",
      "  0%|          | 0/200 [00:00<?, ?it/s]"
     ]
    },
    {
     "name": "stdout",
     "output_type": "stream",
     "text": [
      "Accuray of <class 'core.models.MLP.MLPClassifier'>: 0.975\n",
      "Feature 3 / 12; Processing: 27 / 63\n",
      "set features: 11\n"
     ]
    },
    {
     "name": "stderr",
     "output_type": "stream",
     "text": [
      "100%|██████████| 200/200 [00:37<00:00,  5.35it/s]\n",
      "  0%|          | 0/200 [00:00<?, ?it/s]"
     ]
    },
    {
     "name": "stdout",
     "output_type": "stream",
     "text": [
      "Accuray of <class 'core.models.MLP.MLPClassifier'>: 0.9625\n",
      "Feature 3 / 12; Processing: 28 / 63\n",
      "set features: 11\n"
     ]
    },
    {
     "name": "stderr",
     "output_type": "stream",
     "text": [
      "100%|██████████| 200/200 [00:36<00:00,  5.53it/s]\n",
      "  0%|          | 1/200 [00:00<00:32,  6.21it/s]"
     ]
    },
    {
     "name": "stdout",
     "output_type": "stream",
     "text": [
      "Accuray of <class 'core.models.MLP.MLPClassifier'>: 0.975\n",
      "Feature 3 / 12; Processing: 29 / 63\n",
      "set features: 11\n"
     ]
    },
    {
     "name": "stderr",
     "output_type": "stream",
     "text": [
      "100%|██████████| 200/200 [00:38<00:00,  5.23it/s]\n",
      "  0%|          | 0/200 [00:00<?, ?it/s]"
     ]
    },
    {
     "name": "stdout",
     "output_type": "stream",
     "text": [
      "Accuray of <class 'core.models.MLP.MLPClassifier'>: 0.9925\n",
      "Feature 3 / 12; Processing: 30 / 63\n",
      "set features: 11\n"
     ]
    },
    {
     "name": "stderr",
     "output_type": "stream",
     "text": [
      "100%|██████████| 200/200 [00:30<00:00,  6.62it/s]\n",
      "  0%|          | 1/200 [00:00<00:21,  9.44it/s]"
     ]
    },
    {
     "name": "stdout",
     "output_type": "stream",
     "text": [
      "Accuray of <class 'core.models.MLP.MLPClassifier'>: 0.99\n",
      "Feature 3 / 12; Processing: 31 / 63\n",
      "set features: 11\n"
     ]
    },
    {
     "name": "stderr",
     "output_type": "stream",
     "text": [
      "100%|██████████| 200/200 [00:36<00:00,  5.42it/s]\n",
      "  0%|          | 1/200 [00:00<00:25,  7.93it/s]"
     ]
    },
    {
     "name": "stdout",
     "output_type": "stream",
     "text": [
      "Accuray of <class 'core.models.MLP.MLPClassifier'>: 0.98\n",
      "Feature 3 / 12; Processing: 32 / 63\n",
      "set features: 11\n"
     ]
    },
    {
     "name": "stderr",
     "output_type": "stream",
     "text": [
      "100%|██████████| 200/200 [00:33<00:00,  6.06it/s]\n",
      "  0%|          | 0/200 [00:00<?, ?it/s]"
     ]
    },
    {
     "name": "stdout",
     "output_type": "stream",
     "text": [
      "Accuray of <class 'core.models.MLP.MLPClassifier'>: 0.9825\n",
      "Feature 3 / 12; Processing: 33 / 63\n",
      "set features: 11\n"
     ]
    },
    {
     "name": "stderr",
     "output_type": "stream",
     "text": [
      "100%|██████████| 200/200 [00:33<00:00,  6.00it/s]\n",
      "  0%|          | 0/200 [00:00<?, ?it/s]"
     ]
    },
    {
     "name": "stdout",
     "output_type": "stream",
     "text": [
      "Accuray of <class 'core.models.MLP.MLPClassifier'>: 1.0\n",
      "Feature 3 / 12; Processing: 34 / 63\n",
      "set features: 11\n"
     ]
    },
    {
     "name": "stderr",
     "output_type": "stream",
     "text": [
      "100%|██████████| 200/200 [00:31<00:00,  6.32it/s]\n",
      "  0%|          | 1/200 [00:00<00:20,  9.61it/s]"
     ]
    },
    {
     "name": "stdout",
     "output_type": "stream",
     "text": [
      "Accuray of <class 'core.models.MLP.MLPClassifier'>: 0.9925\n",
      "Feature 3 / 12; Processing: 35 / 63\n",
      "set features: 11\n"
     ]
    },
    {
     "name": "stderr",
     "output_type": "stream",
     "text": [
      "100%|██████████| 200/200 [00:32<00:00,  6.12it/s]\n",
      "  0%|          | 0/200 [00:00<?, ?it/s]"
     ]
    },
    {
     "name": "stdout",
     "output_type": "stream",
     "text": [
      "Accuray of <class 'core.models.MLP.MLPClassifier'>: 0.975\n",
      "Feature 3 / 12; Processing: 36 / 63\n",
      "set features: 11\n"
     ]
    },
    {
     "name": "stderr",
     "output_type": "stream",
     "text": [
      "100%|██████████| 200/200 [00:34<00:00,  5.85it/s]\n",
      "  0%|          | 0/200 [00:00<?, ?it/s]"
     ]
    },
    {
     "name": "stdout",
     "output_type": "stream",
     "text": [
      "Accuray of <class 'core.models.MLP.MLPClassifier'>: 0.985\n",
      "Feature 3 / 12; Processing: 37 / 63\n",
      "set features: 11\n"
     ]
    },
    {
     "name": "stderr",
     "output_type": "stream",
     "text": [
      "100%|██████████| 200/200 [00:27<00:00,  7.18it/s]\n",
      "  0%|          | 0/200 [00:00<?, ?it/s]"
     ]
    },
    {
     "name": "stdout",
     "output_type": "stream",
     "text": [
      "Accuray of <class 'core.models.MLP.MLPClassifier'>: 1.0\n",
      "Feature 3 / 12; Processing: 38 / 63\n",
      "set features: 11\n"
     ]
    },
    {
     "name": "stderr",
     "output_type": "stream",
     "text": [
      "100%|██████████| 200/200 [00:32<00:00,  6.10it/s]\n",
      "  0%|          | 0/200 [00:00<?, ?it/s]"
     ]
    },
    {
     "name": "stdout",
     "output_type": "stream",
     "text": [
      "Accuray of <class 'core.models.MLP.MLPClassifier'>: 0.98\n",
      "Feature 3 / 12; Processing: 39 / 63\n",
      "set features: 11\n"
     ]
    },
    {
     "name": "stderr",
     "output_type": "stream",
     "text": [
      "100%|██████████| 200/200 [00:36<00:00,  5.55it/s]\n"
     ]
    },
    {
     "name": "stdout",
     "output_type": "stream",
     "text": [
      "Accuray of <class 'core.models.MLP.MLPClassifier'>: 0.9875\n",
      "Feature 3 / 12; Processing: 40 / 63\n"
     ]
    },
    {
     "name": "stderr",
     "output_type": "stream",
     "text": [
      "\r",
      "  0%|          | 0/200 [00:00<?, ?it/s]"
     ]
    },
    {
     "name": "stdout",
     "output_type": "stream",
     "text": [
      "set features: 11\n"
     ]
    },
    {
     "name": "stderr",
     "output_type": "stream",
     "text": [
      "100%|██████████| 200/200 [00:42<00:00,  4.75it/s]\n",
      "  0%|          | 0/200 [00:00<?, ?it/s]"
     ]
    },
    {
     "name": "stdout",
     "output_type": "stream",
     "text": [
      "Accuray of <class 'core.models.MLP.MLPClassifier'>: 0.99\n",
      "Feature 3 / 12; Processing: 41 / 63\n",
      "set features: 11\n"
     ]
    },
    {
     "name": "stderr",
     "output_type": "stream",
     "text": [
      "100%|██████████| 200/200 [00:33<00:00,  6.04it/s]\n",
      "  0%|          | 0/200 [00:00<?, ?it/s]"
     ]
    },
    {
     "name": "stdout",
     "output_type": "stream",
     "text": [
      "Accuray of <class 'core.models.MLP.MLPClassifier'>: 0.985\n",
      "Feature 3 / 12; Processing: 42 / 63\n",
      "set features: 11\n"
     ]
    },
    {
     "name": "stderr",
     "output_type": "stream",
     "text": [
      "100%|██████████| 200/200 [00:37<00:00,  5.28it/s]\n",
      "  0%|          | 0/200 [00:00<?, ?it/s]"
     ]
    },
    {
     "name": "stdout",
     "output_type": "stream",
     "text": [
      "Accuray of <class 'core.models.MLP.MLPClassifier'>: 0.9775\n",
      "Feature 3 / 12; Processing: 43 / 63\n",
      "set features: 11\n"
     ]
    },
    {
     "name": "stderr",
     "output_type": "stream",
     "text": [
      "100%|██████████| 200/200 [00:33<00:00,  6.05it/s]\n",
      "  0%|          | 1/200 [00:00<00:22,  8.79it/s]"
     ]
    },
    {
     "name": "stdout",
     "output_type": "stream",
     "text": [
      "Accuray of <class 'core.models.MLP.MLPClassifier'>: 0.9825\n",
      "Feature 3 / 12; Processing: 44 / 63\n",
      "set features: 11\n"
     ]
    },
    {
     "name": "stderr",
     "output_type": "stream",
     "text": [
      "100%|██████████| 200/200 [00:29<00:00,  6.76it/s]\n",
      "  0%|          | 0/200 [00:00<?, ?it/s]"
     ]
    },
    {
     "name": "stdout",
     "output_type": "stream",
     "text": [
      "Accuray of <class 'core.models.MLP.MLPClassifier'>: 0.99\n",
      "Feature 3 / 12; Processing: 45 / 63\n",
      "set features: 11\n"
     ]
    },
    {
     "name": "stderr",
     "output_type": "stream",
     "text": [
      "100%|██████████| 200/200 [00:33<00:00,  5.91it/s]\n",
      "  0%|          | 1/200 [00:00<00:20,  9.76it/s]"
     ]
    },
    {
     "name": "stdout",
     "output_type": "stream",
     "text": [
      "Accuray of <class 'core.models.MLP.MLPClassifier'>: 0.98\n",
      "Feature 3 / 12; Processing: 46 / 63\n",
      "set features: 11\n"
     ]
    },
    {
     "name": "stderr",
     "output_type": "stream",
     "text": [
      "100%|██████████| 200/200 [00:28<00:00,  6.98it/s]\n",
      "  0%|          | 0/200 [00:00<?, ?it/s]"
     ]
    },
    {
     "name": "stdout",
     "output_type": "stream",
     "text": [
      "Accuray of <class 'core.models.MLP.MLPClassifier'>: 0.9875\n",
      "Feature 3 / 12; Processing: 47 / 63\n",
      "set features: 11\n"
     ]
    },
    {
     "name": "stderr",
     "output_type": "stream",
     "text": [
      "100%|██████████| 200/200 [00:33<00:00,  5.99it/s]\n",
      "  0%|          | 1/200 [00:00<00:21,  9.23it/s]"
     ]
    },
    {
     "name": "stdout",
     "output_type": "stream",
     "text": [
      "Accuray of <class 'core.models.MLP.MLPClassifier'>: 0.9775\n",
      "Feature 3 / 12; Processing: 48 / 63\n",
      "set features: 11\n"
     ]
    },
    {
     "name": "stderr",
     "output_type": "stream",
     "text": [
      "100%|██████████| 200/200 [00:29<00:00,  6.78it/s]\n",
      "  0%|          | 0/200 [00:00<?, ?it/s]"
     ]
    },
    {
     "name": "stdout",
     "output_type": "stream",
     "text": [
      "Accuray of <class 'core.models.MLP.MLPClassifier'>: 1.0\n",
      "Feature 3 / 12; Processing: 49 / 63\n",
      "set features: 11\n"
     ]
    },
    {
     "name": "stderr",
     "output_type": "stream",
     "text": [
      "100%|██████████| 200/200 [00:32<00:00,  6.14it/s]\n",
      "  0%|          | 0/200 [00:00<?, ?it/s]"
     ]
    },
    {
     "name": "stdout",
     "output_type": "stream",
     "text": [
      "Accuray of <class 'core.models.MLP.MLPClassifier'>: 0.9925\n",
      "Feature 3 / 12; Processing: 50 / 63\n",
      "set features: 11\n"
     ]
    },
    {
     "name": "stderr",
     "output_type": "stream",
     "text": [
      "100%|██████████| 200/200 [00:36<00:00,  5.55it/s]\n",
      "  0%|          | 0/200 [00:00<?, ?it/s]"
     ]
    },
    {
     "name": "stdout",
     "output_type": "stream",
     "text": [
      "Accuray of <class 'core.models.MLP.MLPClassifier'>: 0.9875\n",
      "Feature 3 / 12; Processing: 51 / 63\n",
      "set features: 11\n"
     ]
    },
    {
     "name": "stderr",
     "output_type": "stream",
     "text": [
      "100%|██████████| 200/200 [00:30<00:00,  6.60it/s]\n",
      "  0%|          | 0/200 [00:00<?, ?it/s]"
     ]
    },
    {
     "name": "stdout",
     "output_type": "stream",
     "text": [
      "Accuray of <class 'core.models.MLP.MLPClassifier'>: 0.9975\n",
      "Feature 3 / 12; Processing: 52 / 63\n",
      "set features: 11\n"
     ]
    },
    {
     "name": "stderr",
     "output_type": "stream",
     "text": [
      "100%|██████████| 200/200 [00:33<00:00,  5.90it/s]\n",
      "  0%|          | 0/200 [00:00<?, ?it/s]"
     ]
    },
    {
     "name": "stdout",
     "output_type": "stream",
     "text": [
      "Accuray of <class 'core.models.MLP.MLPClassifier'>: 1.0\n",
      "Feature 3 / 12; Processing: 53 / 63\n",
      "set features: 11\n"
     ]
    },
    {
     "name": "stderr",
     "output_type": "stream",
     "text": [
      "100%|██████████| 200/200 [00:40<00:00,  4.98it/s]\n",
      "  0%|          | 0/200 [00:00<?, ?it/s]"
     ]
    },
    {
     "name": "stdout",
     "output_type": "stream",
     "text": [
      "Accuray of <class 'core.models.MLP.MLPClassifier'>: 0.9725\n",
      "Feature 3 / 12; Processing: 54 / 63\n",
      "set features: 11\n"
     ]
    },
    {
     "name": "stderr",
     "output_type": "stream",
     "text": [
      "100%|██████████| 200/200 [00:37<00:00,  5.35it/s]\n",
      "  0%|          | 0/200 [00:00<?, ?it/s]"
     ]
    },
    {
     "name": "stdout",
     "output_type": "stream",
     "text": [
      "Accuray of <class 'core.models.MLP.MLPClassifier'>: 0.945\n",
      "Feature 3 / 12; Processing: 55 / 63\n",
      "set features: 11\n"
     ]
    },
    {
     "name": "stderr",
     "output_type": "stream",
     "text": [
      "100%|██████████| 200/200 [00:30<00:00,  6.62it/s]\n",
      "  0%|          | 0/200 [00:00<?, ?it/s]"
     ]
    },
    {
     "name": "stdout",
     "output_type": "stream",
     "text": [
      "Accuray of <class 'core.models.MLP.MLPClassifier'>: 0.965\n",
      "Feature 3 / 12; Processing: 56 / 63\n",
      "set features: 11\n"
     ]
    },
    {
     "name": "stderr",
     "output_type": "stream",
     "text": [
      "100%|██████████| 200/200 [00:34<00:00,  5.77it/s]\n",
      "  0%|          | 0/200 [00:00<?, ?it/s]"
     ]
    },
    {
     "name": "stdout",
     "output_type": "stream",
     "text": [
      "Accuray of <class 'core.models.MLP.MLPClassifier'>: 0.98\n",
      "Feature 3 / 12; Processing: 57 / 63\n",
      "set features: 11\n"
     ]
    },
    {
     "name": "stderr",
     "output_type": "stream",
     "text": [
      "100%|██████████| 200/200 [00:36<00:00,  5.46it/s]\n",
      "  0%|          | 0/200 [00:00<?, ?it/s]"
     ]
    },
    {
     "name": "stdout",
     "output_type": "stream",
     "text": [
      "Accuray of <class 'core.models.MLP.MLPClassifier'>: 0.98\n",
      "Feature 3 / 12; Processing: 58 / 63\n",
      "set features: 11\n"
     ]
    },
    {
     "name": "stderr",
     "output_type": "stream",
     "text": [
      "100%|██████████| 200/200 [00:37<00:00,  5.40it/s]\n",
      "  0%|          | 1/200 [00:00<00:21,  9.26it/s]"
     ]
    },
    {
     "name": "stdout",
     "output_type": "stream",
     "text": [
      "Accuray of <class 'core.models.MLP.MLPClassifier'>: 0.9775\n",
      "Feature 3 / 12; Processing: 59 / 63\n",
      "set features: 11\n"
     ]
    },
    {
     "name": "stderr",
     "output_type": "stream",
     "text": [
      "100%|██████████| 200/200 [00:34<00:00,  5.72it/s]\n",
      "  0%|          | 1/200 [00:00<00:27,  7.21it/s]"
     ]
    },
    {
     "name": "stdout",
     "output_type": "stream",
     "text": [
      "Accuray of <class 'core.models.MLP.MLPClassifier'>: 0.99\n",
      "Feature 3 / 12; Processing: 60 / 63\n",
      "set features: 11\n"
     ]
    },
    {
     "name": "stderr",
     "output_type": "stream",
     "text": [
      "100%|██████████| 200/200 [00:39<00:00,  5.12it/s]\n",
      "  0%|          | 0/200 [00:00<?, ?it/s]"
     ]
    },
    {
     "name": "stdout",
     "output_type": "stream",
     "text": [
      "Accuray of <class 'core.models.MLP.MLPClassifier'>: 0.9825\n",
      "Feature 3 / 12; Processing: 61 / 63\n",
      "set features: 11\n"
     ]
    },
    {
     "name": "stderr",
     "output_type": "stream",
     "text": [
      "100%|██████████| 200/200 [00:40<00:00,  4.98it/s]\n",
      "  0%|          | 0/200 [00:00<?, ?it/s]"
     ]
    },
    {
     "name": "stdout",
     "output_type": "stream",
     "text": [
      "Accuray of <class 'core.models.MLP.MLPClassifier'>: 0.9825\n",
      "Feature 3 / 12; Processing: 62 / 63\n",
      "set features: 11\n"
     ]
    },
    {
     "name": "stderr",
     "output_type": "stream",
     "text": [
      "100%|██████████| 200/200 [00:37<00:00,  5.40it/s]\n",
      "  0%|          | 0/200 [00:00<?, ?it/s]"
     ]
    },
    {
     "name": "stdout",
     "output_type": "stream",
     "text": [
      "Accuray of <class 'core.models.MLP.MLPClassifier'>: 0.9875\n",
      "remove feature sel_of_join_pred: after remove length: 11\n",
      "Feature 4 / 12; Processing: 0 / 63\n",
      "set features: 11\n"
     ]
    },
    {
     "name": "stderr",
     "output_type": "stream",
     "text": [
      "100%|██████████| 200/200 [00:32<00:00,  6.11it/s]\n",
      "  0%|          | 0/200 [00:00<?, ?it/s]"
     ]
    },
    {
     "name": "stdout",
     "output_type": "stream",
     "text": [
      "Accuray of <class 'core.models.MLP.MLPClassifier'>: 0.995\n",
      "Feature 4 / 12; Processing: 1 / 63\n",
      "set features: 11\n"
     ]
    },
    {
     "name": "stderr",
     "output_type": "stream",
     "text": [
      "100%|██████████| 200/200 [00:31<00:00,  6.29it/s]\n",
      "  0%|          | 0/200 [00:00<?, ?it/s]"
     ]
    },
    {
     "name": "stdout",
     "output_type": "stream",
     "text": [
      "Accuray of <class 'core.models.MLP.MLPClassifier'>: 1.0\n",
      "Feature 4 / 12; Processing: 2 / 63\n",
      "set features: 11\n"
     ]
    },
    {
     "name": "stderr",
     "output_type": "stream",
     "text": [
      "100%|██████████| 200/200 [00:41<00:00,  4.78it/s]\n",
      "  0%|          | 0/200 [00:00<?, ?it/s]"
     ]
    },
    {
     "name": "stdout",
     "output_type": "stream",
     "text": [
      "Accuray of <class 'core.models.MLP.MLPClassifier'>: 0.9875\n",
      "Feature 4 / 12; Processing: 3 / 63\n",
      "set features: 11\n"
     ]
    },
    {
     "name": "stderr",
     "output_type": "stream",
     "text": [
      "100%|██████████| 200/200 [00:36<00:00,  5.53it/s]\n",
      "  0%|          | 0/200 [00:00<?, ?it/s]"
     ]
    },
    {
     "name": "stdout",
     "output_type": "stream",
     "text": [
      "Accuray of <class 'core.models.MLP.MLPClassifier'>: 0.995\n",
      "Feature 4 / 12; Processing: 4 / 63\n",
      "set features: 11\n"
     ]
    },
    {
     "name": "stderr",
     "output_type": "stream",
     "text": [
      "100%|██████████| 200/200 [00:30<00:00,  6.47it/s]\n",
      "  0%|          | 1/200 [00:00<00:26,  7.64it/s]"
     ]
    },
    {
     "name": "stdout",
     "output_type": "stream",
     "text": [
      "Accuray of <class 'core.models.MLP.MLPClassifier'>: 0.9725\n",
      "Feature 4 / 12; Processing: 5 / 63\n",
      "set features: 11\n"
     ]
    },
    {
     "name": "stderr",
     "output_type": "stream",
     "text": [
      "100%|██████████| 200/200 [00:29<00:00,  6.74it/s]\n",
      "  0%|          | 1/200 [00:00<00:21,  9.12it/s]"
     ]
    },
    {
     "name": "stdout",
     "output_type": "stream",
     "text": [
      "Accuray of <class 'core.models.MLP.MLPClassifier'>: 0.995\n",
      "Feature 4 / 12; Processing: 6 / 63\n",
      "set features: 11\n"
     ]
    },
    {
     "name": "stderr",
     "output_type": "stream",
     "text": [
      "100%|██████████| 200/200 [00:30<00:00,  6.48it/s]\n",
      "  0%|          | 1/200 [00:00<00:26,  7.50it/s]"
     ]
    },
    {
     "name": "stdout",
     "output_type": "stream",
     "text": [
      "Accuray of <class 'core.models.MLP.MLPClassifier'>: 1.0\n",
      "Feature 4 / 12; Processing: 7 / 63\n",
      "set features: 11\n"
     ]
    },
    {
     "name": "stderr",
     "output_type": "stream",
     "text": [
      "100%|██████████| 200/200 [00:34<00:00,  5.78it/s]\n",
      "  0%|          | 0/200 [00:00<?, ?it/s]"
     ]
    },
    {
     "name": "stdout",
     "output_type": "stream",
     "text": [
      "Accuray of <class 'core.models.MLP.MLPClassifier'>: 0.995\n",
      "Feature 4 / 12; Processing: 8 / 63\n",
      "set features: 11\n"
     ]
    },
    {
     "name": "stderr",
     "output_type": "stream",
     "text": [
      "100%|██████████| 200/200 [00:37<00:00,  5.40it/s]\n",
      "  0%|          | 0/200 [00:00<?, ?it/s]"
     ]
    },
    {
     "name": "stdout",
     "output_type": "stream",
     "text": [
      "Accuray of <class 'core.models.MLP.MLPClassifier'>: 0.98\n",
      "Feature 4 / 12; Processing: 9 / 63\n",
      "set features: 11\n"
     ]
    },
    {
     "name": "stderr",
     "output_type": "stream",
     "text": [
      "100%|██████████| 200/200 [00:29<00:00,  6.73it/s]\n",
      "  0%|          | 0/200 [00:00<?, ?it/s]"
     ]
    },
    {
     "name": "stdout",
     "output_type": "stream",
     "text": [
      "Accuray of <class 'core.models.MLP.MLPClassifier'>: 0.97\n",
      "Feature 4 / 12; Processing: 10 / 63\n",
      "set features: 11\n"
     ]
    },
    {
     "name": "stderr",
     "output_type": "stream",
     "text": [
      "100%|██████████| 200/200 [00:32<00:00,  6.06it/s]\n",
      "  0%|          | 1/200 [00:00<00:22,  8.79it/s]"
     ]
    },
    {
     "name": "stdout",
     "output_type": "stream",
     "text": [
      "Accuray of <class 'core.models.MLP.MLPClassifier'>: 0.9925\n",
      "Feature 4 / 12; Processing: 11 / 63\n",
      "set features: 11\n"
     ]
    },
    {
     "name": "stderr",
     "output_type": "stream",
     "text": [
      "100%|██████████| 200/200 [00:30<00:00,  6.56it/s]\n",
      "  0%|          | 0/200 [00:00<?, ?it/s]"
     ]
    },
    {
     "name": "stdout",
     "output_type": "stream",
     "text": [
      "Accuray of <class 'core.models.MLP.MLPClassifier'>: 0.9675\n",
      "Feature 4 / 12; Processing: 12 / 63\n",
      "set features: 11\n"
     ]
    },
    {
     "name": "stderr",
     "output_type": "stream",
     "text": [
      "100%|██████████| 200/200 [00:29<00:00,  6.72it/s]\n",
      "  0%|          | 0/200 [00:00<?, ?it/s]"
     ]
    },
    {
     "name": "stdout",
     "output_type": "stream",
     "text": [
      "Accuray of <class 'core.models.MLP.MLPClassifier'>: 0.995\n",
      "Feature 4 / 12; Processing: 13 / 63\n",
      "set features: 11\n"
     ]
    },
    {
     "name": "stderr",
     "output_type": "stream",
     "text": [
      "100%|██████████| 200/200 [00:33<00:00,  6.04it/s]\n",
      "  0%|          | 0/200 [00:00<?, ?it/s]"
     ]
    },
    {
     "name": "stdout",
     "output_type": "stream",
     "text": [
      "Accuray of <class 'core.models.MLP.MLPClassifier'>: 1.0\n",
      "Feature 4 / 12; Processing: 14 / 63\n",
      "set features: 11\n"
     ]
    },
    {
     "name": "stderr",
     "output_type": "stream",
     "text": [
      "100%|██████████| 200/200 [00:29<00:00,  6.69it/s]\n",
      "  0%|          | 1/200 [00:00<00:22,  8.79it/s]"
     ]
    },
    {
     "name": "stdout",
     "output_type": "stream",
     "text": [
      "Accuray of <class 'core.models.MLP.MLPClassifier'>: 1.0\n",
      "Feature 4 / 12; Processing: 15 / 63\n",
      "set features: 11\n"
     ]
    },
    {
     "name": "stderr",
     "output_type": "stream",
     "text": [
      "100%|██████████| 200/200 [00:34<00:00,  5.79it/s]\n",
      "  0%|          | 1/200 [00:00<00:27,  7.19it/s]"
     ]
    },
    {
     "name": "stdout",
     "output_type": "stream",
     "text": [
      "Accuray of <class 'core.models.MLP.MLPClassifier'>: 0.9825\n",
      "Feature 4 / 12; Processing: 16 / 63\n",
      "set features: 11\n"
     ]
    },
    {
     "name": "stderr",
     "output_type": "stream",
     "text": [
      "100%|██████████| 200/200 [00:35<00:00,  5.67it/s]\n",
      "  0%|          | 0/200 [00:00<?, ?it/s]"
     ]
    },
    {
     "name": "stdout",
     "output_type": "stream",
     "text": [
      "Accuray of <class 'core.models.MLP.MLPClassifier'>: 0.995\n",
      "Feature 4 / 12; Processing: 17 / 63\n",
      "set features: 11\n"
     ]
    },
    {
     "name": "stderr",
     "output_type": "stream",
     "text": [
      "100%|██████████| 200/200 [00:35<00:00,  5.64it/s]\n",
      "  0%|          | 0/200 [00:00<?, ?it/s]"
     ]
    },
    {
     "name": "stdout",
     "output_type": "stream",
     "text": [
      "Accuray of <class 'core.models.MLP.MLPClassifier'>: 0.995\n",
      "Feature 4 / 12; Processing: 18 / 63\n",
      "set features: 11\n"
     ]
    },
    {
     "name": "stderr",
     "output_type": "stream",
     "text": [
      "100%|██████████| 200/200 [00:38<00:00,  5.20it/s]\n",
      "  0%|          | 0/200 [00:00<?, ?it/s]"
     ]
    },
    {
     "name": "stdout",
     "output_type": "stream",
     "text": [
      "Accuray of <class 'core.models.MLP.MLPClassifier'>: 1.0\n",
      "Feature 4 / 12; Processing: 19 / 63\n",
      "set features: 11\n"
     ]
    },
    {
     "name": "stderr",
     "output_type": "stream",
     "text": [
      "100%|██████████| 200/200 [00:33<00:00,  6.06it/s]\n",
      "  0%|          | 1/200 [00:00<00:32,  6.11it/s]"
     ]
    },
    {
     "name": "stdout",
     "output_type": "stream",
     "text": [
      "Accuray of <class 'core.models.MLP.MLPClassifier'>: 0.9925\n",
      "Feature 4 / 12; Processing: 20 / 63\n",
      "set features: 11\n"
     ]
    },
    {
     "name": "stderr",
     "output_type": "stream",
     "text": [
      "100%|██████████| 200/200 [00:32<00:00,  6.14it/s]\n",
      "  0%|          | 0/200 [00:00<?, ?it/s]"
     ]
    },
    {
     "name": "stdout",
     "output_type": "stream",
     "text": [
      "Accuray of <class 'core.models.MLP.MLPClassifier'>: 0.99\n",
      "Feature 4 / 12; Processing: 21 / 63\n",
      "set features: 11\n"
     ]
    },
    {
     "name": "stderr",
     "output_type": "stream",
     "text": [
      "100%|██████████| 200/200 [00:29<00:00,  6.73it/s]\n",
      "  0%|          | 0/200 [00:00<?, ?it/s]"
     ]
    },
    {
     "name": "stdout",
     "output_type": "stream",
     "text": [
      "Accuray of <class 'core.models.MLP.MLPClassifier'>: 1.0\n",
      "Feature 4 / 12; Processing: 22 / 63\n",
      "set features: 11\n"
     ]
    },
    {
     "name": "stderr",
     "output_type": "stream",
     "text": [
      "100%|██████████| 200/200 [00:33<00:00,  5.91it/s]\n",
      "  0%|          | 0/200 [00:00<?, ?it/s]"
     ]
    },
    {
     "name": "stdout",
     "output_type": "stream",
     "text": [
      "Accuray of <class 'core.models.MLP.MLPClassifier'>: 1.0\n",
      "Feature 4 / 12; Processing: 23 / 63\n",
      "set features: 11\n"
     ]
    },
    {
     "name": "stderr",
     "output_type": "stream",
     "text": [
      "100%|██████████| 200/200 [00:42<00:00,  4.69it/s]\n",
      "  0%|          | 1/200 [00:00<00:22,  9.03it/s]"
     ]
    },
    {
     "name": "stdout",
     "output_type": "stream",
     "text": [
      "Accuray of <class 'core.models.MLP.MLPClassifier'>: 0.995\n",
      "Feature 4 / 12; Processing: 24 / 63\n",
      "set features: 11\n"
     ]
    },
    {
     "name": "stderr",
     "output_type": "stream",
     "text": [
      "100%|██████████| 200/200 [00:28<00:00,  6.98it/s]\n",
      "  0%|          | 0/200 [00:00<?, ?it/s]"
     ]
    },
    {
     "name": "stdout",
     "output_type": "stream",
     "text": [
      "Accuray of <class 'core.models.MLP.MLPClassifier'>: 0.9675\n",
      "Feature 4 / 12; Processing: 25 / 63\n",
      "set features: 11\n"
     ]
    },
    {
     "name": "stderr",
     "output_type": "stream",
     "text": [
      "100%|██████████| 200/200 [00:31<00:00,  6.34it/s]\n",
      "  0%|          | 0/200 [00:00<?, ?it/s]"
     ]
    },
    {
     "name": "stdout",
     "output_type": "stream",
     "text": [
      "Accuray of <class 'core.models.MLP.MLPClassifier'>: 0.995\n",
      "Feature 4 / 12; Processing: 26 / 63\n",
      "set features: 11\n"
     ]
    },
    {
     "name": "stderr",
     "output_type": "stream",
     "text": [
      "100%|██████████| 200/200 [00:31<00:00,  6.35it/s]\n",
      "  0%|          | 0/200 [00:00<?, ?it/s]"
     ]
    },
    {
     "name": "stdout",
     "output_type": "stream",
     "text": [
      "Accuray of <class 'core.models.MLP.MLPClassifier'>: 0.9875\n",
      "Feature 4 / 12; Processing: 27 / 63\n",
      "set features: 11\n"
     ]
    },
    {
     "name": "stderr",
     "output_type": "stream",
     "text": [
      "100%|██████████| 200/200 [00:29<00:00,  6.72it/s]\n",
      "  0%|          | 0/200 [00:00<?, ?it/s]"
     ]
    },
    {
     "name": "stdout",
     "output_type": "stream",
     "text": [
      "Accuray of <class 'core.models.MLP.MLPClassifier'>: 0.99\n",
      "Feature 4 / 12; Processing: 28 / 63\n",
      "set features: 11\n"
     ]
    },
    {
     "name": "stderr",
     "output_type": "stream",
     "text": [
      "100%|██████████| 200/200 [00:31<00:00,  6.39it/s]\n",
      "  0%|          | 1/200 [00:00<00:22,  8.67it/s]"
     ]
    },
    {
     "name": "stdout",
     "output_type": "stream",
     "text": [
      "Accuray of <class 'core.models.MLP.MLPClassifier'>: 0.985\n",
      "Feature 4 / 12; Processing: 29 / 63\n",
      "set features: 11\n"
     ]
    },
    {
     "name": "stderr",
     "output_type": "stream",
     "text": [
      "100%|██████████| 200/200 [00:29<00:00,  6.75it/s]\n",
      "  1%|          | 2/200 [00:00<00:13, 15.18it/s]"
     ]
    },
    {
     "name": "stdout",
     "output_type": "stream",
     "text": [
      "Accuray of <class 'core.models.MLP.MLPClassifier'>: 0.995\n",
      "Feature 4 / 12; Processing: 30 / 63\n",
      "set features: 11\n"
     ]
    },
    {
     "name": "stderr",
     "output_type": "stream",
     "text": [
      "100%|██████████| 200/200 [00:27<00:00,  7.38it/s]\n",
      "  0%|          | 0/200 [00:00<?, ?it/s]"
     ]
    },
    {
     "name": "stdout",
     "output_type": "stream",
     "text": [
      "Accuray of <class 'core.models.MLP.MLPClassifier'>: 0.995\n",
      "Feature 4 / 12; Processing: 31 / 63\n",
      "set features: 11\n"
     ]
    },
    {
     "name": "stderr",
     "output_type": "stream",
     "text": [
      "100%|██████████| 200/200 [00:32<00:00,  6.14it/s]\n",
      "  0%|          | 1/200 [00:00<00:30,  6.55it/s]"
     ]
    },
    {
     "name": "stdout",
     "output_type": "stream",
     "text": [
      "Accuray of <class 'core.models.MLP.MLPClassifier'>: 0.9825\n",
      "Feature 4 / 12; Processing: 32 / 63\n",
      "set features: 11\n"
     ]
    },
    {
     "name": "stderr",
     "output_type": "stream",
     "text": [
      "100%|██████████| 200/200 [00:32<00:00,  6.08it/s]\n",
      "  0%|          | 0/200 [00:00<?, ?it/s]"
     ]
    },
    {
     "name": "stdout",
     "output_type": "stream",
     "text": [
      "Accuray of <class 'core.models.MLP.MLPClassifier'>: 0.985\n",
      "Feature 4 / 12; Processing: 33 / 63\n",
      "set features: 11\n"
     ]
    },
    {
     "name": "stderr",
     "output_type": "stream",
     "text": [
      "100%|██████████| 200/200 [00:36<00:00,  5.49it/s]\n",
      "  0%|          | 1/200 [00:00<00:22,  8.97it/s]"
     ]
    },
    {
     "name": "stdout",
     "output_type": "stream",
     "text": [
      "Accuray of <class 'core.models.MLP.MLPClassifier'>: 1.0\n",
      "Feature 4 / 12; Processing: 34 / 63\n",
      "set features: 11\n"
     ]
    },
    {
     "name": "stderr",
     "output_type": "stream",
     "text": [
      "100%|██████████| 200/200 [00:31<00:00,  6.33it/s]\n",
      "  0%|          | 0/200 [00:00<?, ?it/s]"
     ]
    },
    {
     "name": "stdout",
     "output_type": "stream",
     "text": [
      "Accuray of <class 'core.models.MLP.MLPClassifier'>: 0.985\n",
      "Feature 4 / 12; Processing: 35 / 63\n",
      "set features: 11\n"
     ]
    },
    {
     "name": "stderr",
     "output_type": "stream",
     "text": [
      "100%|██████████| 200/200 [00:36<00:00,  5.45it/s]\n",
      "  0%|          | 0/200 [00:00<?, ?it/s]"
     ]
    },
    {
     "name": "stdout",
     "output_type": "stream",
     "text": [
      "Accuray of <class 'core.models.MLP.MLPClassifier'>: 0.9975\n",
      "Feature 4 / 12; Processing: 36 / 63\n",
      "set features: 11\n"
     ]
    },
    {
     "name": "stderr",
     "output_type": "stream",
     "text": [
      "100%|██████████| 200/200 [00:32<00:00,  6.15it/s]\n",
      "  0%|          | 1/200 [00:00<00:23,  8.45it/s]"
     ]
    },
    {
     "name": "stdout",
     "output_type": "stream",
     "text": [
      "Accuray of <class 'core.models.MLP.MLPClassifier'>: 0.9975\n",
      "Feature 4 / 12; Processing: 37 / 63\n",
      "set features: 11\n"
     ]
    },
    {
     "name": "stderr",
     "output_type": "stream",
     "text": [
      "100%|██████████| 200/200 [00:25<00:00,  7.71it/s]\n",
      "  0%|          | 1/200 [00:00<00:21,  9.46it/s]"
     ]
    },
    {
     "name": "stdout",
     "output_type": "stream",
     "text": [
      "Accuray of <class 'core.models.MLP.MLPClassifier'>: 1.0\n",
      "Feature 4 / 12; Processing: 38 / 63\n",
      "set features: 11\n"
     ]
    },
    {
     "name": "stderr",
     "output_type": "stream",
     "text": [
      "100%|██████████| 200/200 [00:26<00:00,  7.48it/s]\n",
      "  0%|          | 0/200 [00:00<?, ?it/s]"
     ]
    },
    {
     "name": "stdout",
     "output_type": "stream",
     "text": [
      "Accuray of <class 'core.models.MLP.MLPClassifier'>: 0.9825\n",
      "Feature 4 / 12; Processing: 39 / 63\n",
      "set features: 11\n"
     ]
    },
    {
     "name": "stderr",
     "output_type": "stream",
     "text": [
      "100%|██████████| 200/200 [00:31<00:00,  6.26it/s]\n",
      "  0%|          | 0/200 [00:00<?, ?it/s]"
     ]
    },
    {
     "name": "stdout",
     "output_type": "stream",
     "text": [
      "Accuray of <class 'core.models.MLP.MLPClassifier'>: 0.9675\n",
      "Feature 4 / 12; Processing: 40 / 63\n",
      "set features: 11\n"
     ]
    },
    {
     "name": "stderr",
     "output_type": "stream",
     "text": [
      "100%|██████████| 200/200 [00:29<00:00,  6.74it/s]\n",
      "  0%|          | 0/200 [00:00<?, ?it/s]"
     ]
    },
    {
     "name": "stdout",
     "output_type": "stream",
     "text": [
      "Accuray of <class 'core.models.MLP.MLPClassifier'>: 1.0\n",
      "Feature 4 / 12; Processing: 41 / 63\n",
      "set features: 11\n"
     ]
    },
    {
     "name": "stderr",
     "output_type": "stream",
     "text": [
      "100%|██████████| 200/200 [00:28<00:00,  6.99it/s]\n",
      "  0%|          | 0/200 [00:00<?, ?it/s]"
     ]
    },
    {
     "name": "stdout",
     "output_type": "stream",
     "text": [
      "Accuray of <class 'core.models.MLP.MLPClassifier'>: 0.995\n",
      "Feature 4 / 12; Processing: 42 / 63\n",
      "set features: 11\n"
     ]
    },
    {
     "name": "stderr",
     "output_type": "stream",
     "text": [
      "100%|██████████| 200/200 [00:29<00:00,  6.73it/s]\n",
      "  0%|          | 1/200 [00:00<00:25,  7.81it/s]"
     ]
    },
    {
     "name": "stdout",
     "output_type": "stream",
     "text": [
      "Accuray of <class 'core.models.MLP.MLPClassifier'>: 0.995\n",
      "Feature 4 / 12; Processing: 43 / 63\n",
      "set features: 11\n"
     ]
    },
    {
     "name": "stderr",
     "output_type": "stream",
     "text": [
      "100%|██████████| 200/200 [00:29<00:00,  6.77it/s]\n",
      "  0%|          | 1/200 [00:00<00:28,  7.06it/s]"
     ]
    },
    {
     "name": "stdout",
     "output_type": "stream",
     "text": [
      "Accuray of <class 'core.models.MLP.MLPClassifier'>: 0.995\n",
      "Feature 4 / 12; Processing: 44 / 63\n",
      "set features: 11\n"
     ]
    },
    {
     "name": "stderr",
     "output_type": "stream",
     "text": [
      "100%|██████████| 200/200 [00:28<00:00,  6.94it/s]\n",
      "  0%|          | 0/200 [00:00<?, ?it/s]"
     ]
    },
    {
     "name": "stdout",
     "output_type": "stream",
     "text": [
      "Accuray of <class 'core.models.MLP.MLPClassifier'>: 0.9975\n",
      "Feature 4 / 12; Processing: 45 / 63\n",
      "set features: 11\n"
     ]
    },
    {
     "name": "stderr",
     "output_type": "stream",
     "text": [
      "100%|██████████| 200/200 [00:30<00:00,  6.62it/s]\n",
      "  0%|          | 0/200 [00:00<?, ?it/s]"
     ]
    },
    {
     "name": "stdout",
     "output_type": "stream",
     "text": [
      "Accuray of <class 'core.models.MLP.MLPClassifier'>: 0.9875\n",
      "Feature 4 / 12; Processing: 46 / 63\n",
      "set features: 11\n"
     ]
    },
    {
     "name": "stderr",
     "output_type": "stream",
     "text": [
      "100%|██████████| 200/200 [00:33<00:00,  5.89it/s]\n",
      "  0%|          | 1/200 [00:00<00:33,  6.03it/s]"
     ]
    },
    {
     "name": "stdout",
     "output_type": "stream",
     "text": [
      "Accuray of <class 'core.models.MLP.MLPClassifier'>: 0.9875\n",
      "Feature 4 / 12; Processing: 47 / 63\n",
      "set features: 11\n"
     ]
    },
    {
     "name": "stderr",
     "output_type": "stream",
     "text": [
      "100%|██████████| 200/200 [00:34<00:00,  5.76it/s]\n",
      "  0%|          | 0/200 [00:00<?, ?it/s]"
     ]
    },
    {
     "name": "stdout",
     "output_type": "stream",
     "text": [
      "Accuray of <class 'core.models.MLP.MLPClassifier'>: 0.9875\n",
      "Feature 4 / 12; Processing: 48 / 63\n",
      "set features: 11\n"
     ]
    },
    {
     "name": "stderr",
     "output_type": "stream",
     "text": [
      "100%|██████████| 200/200 [00:34<00:00,  5.79it/s]\n",
      "  0%|          | 1/200 [00:00<00:24,  8.18it/s]"
     ]
    },
    {
     "name": "stdout",
     "output_type": "stream",
     "text": [
      "Accuray of <class 'core.models.MLP.MLPClassifier'>: 1.0\n",
      "Feature 4 / 12; Processing: 49 / 63\n",
      "set features: 11\n"
     ]
    },
    {
     "name": "stderr",
     "output_type": "stream",
     "text": [
      "100%|██████████| 200/200 [00:32<00:00,  6.24it/s]\n",
      "  0%|          | 0/200 [00:00<?, ?it/s]"
     ]
    },
    {
     "name": "stdout",
     "output_type": "stream",
     "text": [
      "Accuray of <class 'core.models.MLP.MLPClassifier'>: 0.9875\n",
      "Feature 4 / 12; Processing: 50 / 63\n",
      "set features: 11\n"
     ]
    },
    {
     "name": "stderr",
     "output_type": "stream",
     "text": [
      "100%|██████████| 200/200 [00:36<00:00,  5.51it/s]\n",
      "  0%|          | 0/200 [00:00<?, ?it/s]"
     ]
    },
    {
     "name": "stdout",
     "output_type": "stream",
     "text": [
      "Accuray of <class 'core.models.MLP.MLPClassifier'>: 0.995\n",
      "Feature 4 / 12; Processing: 51 / 63\n",
      "set features: 11\n"
     ]
    },
    {
     "name": "stderr",
     "output_type": "stream",
     "text": [
      "100%|██████████| 200/200 [00:39<00:00,  5.05it/s]\n",
      "  0%|          | 0/200 [00:00<?, ?it/s]"
     ]
    },
    {
     "name": "stdout",
     "output_type": "stream",
     "text": [
      "Accuray of <class 'core.models.MLP.MLPClassifier'>: 0.9975\n",
      "Feature 4 / 12; Processing: 52 / 63\n",
      "set features: 11\n"
     ]
    },
    {
     "name": "stderr",
     "output_type": "stream",
     "text": [
      "100%|██████████| 200/200 [00:35<00:00,  5.64it/s]\n",
      "  0%|          | 0/200 [00:00<?, ?it/s]"
     ]
    },
    {
     "name": "stdout",
     "output_type": "stream",
     "text": [
      "Accuray of <class 'core.models.MLP.MLPClassifier'>: 1.0\n",
      "Feature 4 / 12; Processing: 53 / 63\n",
      "set features: 11\n"
     ]
    },
    {
     "name": "stderr",
     "output_type": "stream",
     "text": [
      "100%|██████████| 200/200 [00:30<00:00,  6.63it/s]\n",
      "  0%|          | 0/200 [00:00<?, ?it/s]"
     ]
    },
    {
     "name": "stdout",
     "output_type": "stream",
     "text": [
      "Accuray of <class 'core.models.MLP.MLPClassifier'>: 0.9675\n",
      "Feature 4 / 12; Processing: 54 / 63\n",
      "set features: 11\n"
     ]
    },
    {
     "name": "stderr",
     "output_type": "stream",
     "text": [
      "100%|██████████| 200/200 [00:25<00:00,  7.74it/s]\n",
      "  0%|          | 1/200 [00:00<00:22,  8.76it/s]"
     ]
    },
    {
     "name": "stdout",
     "output_type": "stream",
     "text": [
      "Accuray of <class 'core.models.MLP.MLPClassifier'>: 0.97\n",
      "Feature 4 / 12; Processing: 55 / 63\n",
      "set features: 11\n"
     ]
    },
    {
     "name": "stderr",
     "output_type": "stream",
     "text": [
      "100%|██████████| 200/200 [00:26<00:00,  7.66it/s]\n",
      "  0%|          | 0/200 [00:00<?, ?it/s]"
     ]
    },
    {
     "name": "stdout",
     "output_type": "stream",
     "text": [
      "Accuray of <class 'core.models.MLP.MLPClassifier'>: 0.98\n",
      "Feature 4 / 12; Processing: 56 / 63\n",
      "set features: 11\n"
     ]
    },
    {
     "name": "stderr",
     "output_type": "stream",
     "text": [
      "100%|██████████| 200/200 [00:32<00:00,  6.20it/s]\n",
      "  0%|          | 0/200 [00:00<?, ?it/s]"
     ]
    },
    {
     "name": "stdout",
     "output_type": "stream",
     "text": [
      "Accuray of <class 'core.models.MLP.MLPClassifier'>: 0.985\n",
      "Feature 4 / 12; Processing: 57 / 63\n",
      "set features: 11\n"
     ]
    },
    {
     "name": "stderr",
     "output_type": "stream",
     "text": [
      "100%|██████████| 200/200 [00:34<00:00,  5.76it/s]\n",
      "  0%|          | 0/200 [00:00<?, ?it/s]"
     ]
    },
    {
     "name": "stdout",
     "output_type": "stream",
     "text": [
      "Accuray of <class 'core.models.MLP.MLPClassifier'>: 0.975\n",
      "Feature 4 / 12; Processing: 58 / 63\n",
      "set features: 11\n"
     ]
    },
    {
     "name": "stderr",
     "output_type": "stream",
     "text": [
      "100%|██████████| 200/200 [00:30<00:00,  6.50it/s]\n",
      "  0%|          | 0/200 [00:00<?, ?it/s]"
     ]
    },
    {
     "name": "stdout",
     "output_type": "stream",
     "text": [
      "Accuray of <class 'core.models.MLP.MLPClassifier'>: 0.995\n",
      "Feature 4 / 12; Processing: 59 / 63\n",
      "set features: 11\n"
     ]
    },
    {
     "name": "stderr",
     "output_type": "stream",
     "text": [
      "100%|██████████| 200/200 [00:34<00:00,  5.72it/s]\n",
      "  0%|          | 0/200 [00:00<?, ?it/s]"
     ]
    },
    {
     "name": "stdout",
     "output_type": "stream",
     "text": [
      "Accuray of <class 'core.models.MLP.MLPClassifier'>: 0.995\n",
      "Feature 4 / 12; Processing: 60 / 63\n",
      "set features: 11\n"
     ]
    },
    {
     "name": "stderr",
     "output_type": "stream",
     "text": [
      "100%|██████████| 200/200 [00:35<00:00,  5.61it/s]\n",
      "  0%|          | 0/200 [00:00<?, ?it/s]"
     ]
    },
    {
     "name": "stdout",
     "output_type": "stream",
     "text": [
      "Accuray of <class 'core.models.MLP.MLPClassifier'>: 0.995\n",
      "Feature 4 / 12; Processing: 61 / 63\n",
      "set features: 11\n"
     ]
    },
    {
     "name": "stderr",
     "output_type": "stream",
     "text": [
      "100%|██████████| 200/200 [00:43<00:00,  4.57it/s]\n",
      "  0%|          | 0/200 [00:00<?, ?it/s]"
     ]
    },
    {
     "name": "stdout",
     "output_type": "stream",
     "text": [
      "Accuray of <class 'core.models.MLP.MLPClassifier'>: 0.9925\n",
      "Feature 4 / 12; Processing: 62 / 63\n",
      "set features: 11\n"
     ]
    },
    {
     "name": "stderr",
     "output_type": "stream",
     "text": [
      "100%|██████████| 200/200 [00:36<00:00,  5.45it/s]\n",
      "  0%|          | 1/200 [00:00<00:19,  9.97it/s]"
     ]
    },
    {
     "name": "stdout",
     "output_type": "stream",
     "text": [
      "Accuray of <class 'core.models.MLP.MLPClassifier'>: 0.985\n",
      "remove feature left_ordered: after remove length: 11\n",
      "Feature 5 / 12; Processing: 0 / 63\n",
      "set features: 11\n"
     ]
    },
    {
     "name": "stderr",
     "output_type": "stream",
     "text": [
      "100%|██████████| 200/200 [00:32<00:00,  6.24it/s]\n",
      "  0%|          | 1/200 [00:00<00:25,  7.80it/s]"
     ]
    },
    {
     "name": "stdout",
     "output_type": "stream",
     "text": [
      "Accuray of <class 'core.models.MLP.MLPClassifier'>: 0.995\n",
      "Feature 5 / 12; Processing: 1 / 63\n",
      "set features: 11\n"
     ]
    },
    {
     "name": "stderr",
     "output_type": "stream",
     "text": [
      "100%|██████████| 200/200 [00:34<00:00,  5.83it/s]\n",
      "  0%|          | 0/200 [00:00<?, ?it/s]"
     ]
    },
    {
     "name": "stdout",
     "output_type": "stream",
     "text": [
      "Accuray of <class 'core.models.MLP.MLPClassifier'>: 0.995\n",
      "Feature 5 / 12; Processing: 2 / 63\n",
      "set features: 11\n"
     ]
    },
    {
     "name": "stderr",
     "output_type": "stream",
     "text": [
      "100%|██████████| 200/200 [00:37<00:00,  5.36it/s]\n",
      "  0%|          | 0/200 [00:00<?, ?it/s]"
     ]
    },
    {
     "name": "stdout",
     "output_type": "stream",
     "text": [
      "Accuray of <class 'core.models.MLP.MLPClassifier'>: 0.9875\n",
      "Feature 5 / 12; Processing: 3 / 63\n",
      "set features: 11\n"
     ]
    },
    {
     "name": "stderr",
     "output_type": "stream",
     "text": [
      "100%|██████████| 200/200 [00:34<00:00,  5.80it/s]\n",
      "  0%|          | 0/200 [00:00<?, ?it/s]"
     ]
    },
    {
     "name": "stdout",
     "output_type": "stream",
     "text": [
      "Accuray of <class 'core.models.MLP.MLPClassifier'>: 0.9925\n",
      "Feature 5 / 12; Processing: 4 / 63\n",
      "set features: 11\n"
     ]
    },
    {
     "name": "stderr",
     "output_type": "stream",
     "text": [
      "100%|██████████| 200/200 [00:31<00:00,  6.40it/s]\n",
      "  0%|          | 0/200 [00:00<?, ?it/s]"
     ]
    },
    {
     "name": "stdout",
     "output_type": "stream",
     "text": [
      "Accuray of <class 'core.models.MLP.MLPClassifier'>: 0.9925\n",
      "Feature 5 / 12; Processing: 5 / 63\n",
      "set features: 11\n"
     ]
    },
    {
     "name": "stderr",
     "output_type": "stream",
     "text": [
      "100%|██████████| 200/200 [00:32<00:00,  6.17it/s]\n",
      "  0%|          | 0/200 [00:00<?, ?it/s]"
     ]
    },
    {
     "name": "stdout",
     "output_type": "stream",
     "text": [
      "Accuray of <class 'core.models.MLP.MLPClassifier'>: 1.0\n",
      "Feature 5 / 12; Processing: 6 / 63\n",
      "set features: 11\n"
     ]
    },
    {
     "name": "stderr",
     "output_type": "stream",
     "text": [
      "100%|██████████| 200/200 [00:34<00:00,  5.86it/s]\n",
      "  0%|          | 1/200 [00:00<00:27,  7.23it/s]"
     ]
    },
    {
     "name": "stdout",
     "output_type": "stream",
     "text": [
      "Accuray of <class 'core.models.MLP.MLPClassifier'>: 1.0\n",
      "Feature 5 / 12; Processing: 7 / 63\n",
      "set features: 11\n"
     ]
    },
    {
     "name": "stderr",
     "output_type": "stream",
     "text": [
      "100%|██████████| 200/200 [00:37<00:00,  5.28it/s]\n",
      "  0%|          | 0/200 [00:00<?, ?it/s]"
     ]
    },
    {
     "name": "stdout",
     "output_type": "stream",
     "text": [
      "Accuray of <class 'core.models.MLP.MLPClassifier'>: 0.9975\n",
      "Feature 5 / 12; Processing: 8 / 63\n",
      "set features: 11\n"
     ]
    },
    {
     "name": "stderr",
     "output_type": "stream",
     "text": [
      "100%|██████████| 200/200 [00:36<00:00,  5.48it/s]\n",
      "  0%|          | 0/200 [00:00<?, ?it/s]"
     ]
    },
    {
     "name": "stdout",
     "output_type": "stream",
     "text": [
      "Accuray of <class 'core.models.MLP.MLPClassifier'>: 0.965\n",
      "Feature 5 / 12; Processing: 9 / 63\n",
      "set features: 11\n"
     ]
    },
    {
     "name": "stderr",
     "output_type": "stream",
     "text": [
      "100%|██████████| 200/200 [00:36<00:00,  5.43it/s]\n",
      "  0%|          | 0/200 [00:00<?, ?it/s]"
     ]
    },
    {
     "name": "stdout",
     "output_type": "stream",
     "text": [
      "Accuray of <class 'core.models.MLP.MLPClassifier'>: 0.9975\n",
      "Feature 5 / 12; Processing: 10 / 63\n",
      "set features: 11\n"
     ]
    },
    {
     "name": "stderr",
     "output_type": "stream",
     "text": [
      "100%|██████████| 200/200 [00:32<00:00,  6.18it/s]\n",
      "  0%|          | 0/200 [00:00<?, ?it/s]"
     ]
    },
    {
     "name": "stdout",
     "output_type": "stream",
     "text": [
      "Accuray of <class 'core.models.MLP.MLPClassifier'>: 0.9925\n",
      "Feature 5 / 12; Processing: 11 / 63\n",
      "set features: 11\n"
     ]
    },
    {
     "name": "stderr",
     "output_type": "stream",
     "text": [
      "100%|██████████| 200/200 [00:28<00:00,  7.05it/s]\n",
      "  0%|          | 1/200 [00:00<00:21,  9.07it/s]"
     ]
    },
    {
     "name": "stdout",
     "output_type": "stream",
     "text": [
      "Accuray of <class 'core.models.MLP.MLPClassifier'>: 0.995\n",
      "Feature 5 / 12; Processing: 12 / 63\n",
      "set features: 11\n"
     ]
    },
    {
     "name": "stderr",
     "output_type": "stream",
     "text": [
      "100%|██████████| 200/200 [00:29<00:00,  6.85it/s]\n",
      "  0%|          | 1/200 [00:00<00:26,  7.56it/s]"
     ]
    },
    {
     "name": "stdout",
     "output_type": "stream",
     "text": [
      "Accuray of <class 'core.models.MLP.MLPClassifier'>: 0.9925\n",
      "Feature 5 / 12; Processing: 13 / 63\n",
      "set features: 11\n"
     ]
    },
    {
     "name": "stderr",
     "output_type": "stream",
     "text": [
      "100%|██████████| 200/200 [00:27<00:00,  7.29it/s]\n",
      "  0%|          | 0/200 [00:00<?, ?it/s]"
     ]
    },
    {
     "name": "stdout",
     "output_type": "stream",
     "text": [
      "Accuray of <class 'core.models.MLP.MLPClassifier'>: 1.0\n",
      "Feature 5 / 12; Processing: 14 / 63\n",
      "set features: 11\n"
     ]
    },
    {
     "name": "stderr",
     "output_type": "stream",
     "text": [
      "100%|██████████| 200/200 [00:26<00:00,  7.56it/s]\n",
      "  0%|          | 0/200 [00:00<?, ?it/s]"
     ]
    },
    {
     "name": "stdout",
     "output_type": "stream",
     "text": [
      "Accuray of <class 'core.models.MLP.MLPClassifier'>: 1.0\n",
      "Feature 5 / 12; Processing: 15 / 63\n",
      "set features: 11\n"
     ]
    },
    {
     "name": "stderr",
     "output_type": "stream",
     "text": [
      "100%|██████████| 200/200 [00:26<00:00,  7.43it/s]\n",
      "  0%|          | 0/200 [00:00<?, ?it/s]"
     ]
    },
    {
     "name": "stdout",
     "output_type": "stream",
     "text": [
      "Accuray of <class 'core.models.MLP.MLPClassifier'>: 0.9875\n",
      "Feature 5 / 12; Processing: 16 / 63\n",
      "set features: 11\n"
     ]
    },
    {
     "name": "stderr",
     "output_type": "stream",
     "text": [
      "100%|██████████| 200/200 [00:40<00:00,  4.90it/s]\n",
      "  0%|          | 0/200 [00:00<?, ?it/s]"
     ]
    },
    {
     "name": "stdout",
     "output_type": "stream",
     "text": [
      "Accuray of <class 'core.models.MLP.MLPClassifier'>: 0.9975\n",
      "Feature 5 / 12; Processing: 17 / 63\n",
      "set features: 11\n"
     ]
    },
    {
     "name": "stderr",
     "output_type": "stream",
     "text": [
      "100%|██████████| 200/200 [00:31<00:00,  6.26it/s]\n",
      "  0%|          | 1/200 [00:00<00:22,  8.98it/s]"
     ]
    },
    {
     "name": "stdout",
     "output_type": "stream",
     "text": [
      "Accuray of <class 'core.models.MLP.MLPClassifier'>: 0.9975\n",
      "Feature 5 / 12; Processing: 18 / 63\n",
      "set features: 11\n"
     ]
    },
    {
     "name": "stderr",
     "output_type": "stream",
     "text": [
      "100%|██████████| 200/200 [00:32<00:00,  6.22it/s]\n",
      "  0%|          | 0/200 [00:00<?, ?it/s]"
     ]
    },
    {
     "name": "stdout",
     "output_type": "stream",
     "text": [
      "Accuray of <class 'core.models.MLP.MLPClassifier'>: 1.0\n",
      "Feature 5 / 12; Processing: 19 / 63\n",
      "set features: 11\n"
     ]
    },
    {
     "name": "stderr",
     "output_type": "stream",
     "text": [
      "100%|██████████| 200/200 [00:35<00:00,  5.68it/s]\n",
      "  0%|          | 1/200 [00:00<00:31,  6.33it/s]"
     ]
    },
    {
     "name": "stdout",
     "output_type": "stream",
     "text": [
      "Accuray of <class 'core.models.MLP.MLPClassifier'>: 0.99\n",
      "Feature 5 / 12; Processing: 20 / 63\n",
      "set features: 11\n"
     ]
    },
    {
     "name": "stderr",
     "output_type": "stream",
     "text": [
      "100%|██████████| 200/200 [00:33<00:00,  5.98it/s]\n",
      "  0%|          | 0/200 [00:00<?, ?it/s]"
     ]
    },
    {
     "name": "stdout",
     "output_type": "stream",
     "text": [
      "Accuray of <class 'core.models.MLP.MLPClassifier'>: 0.995\n",
      "Feature 5 / 12; Processing: 21 / 63\n",
      "set features: 11\n"
     ]
    },
    {
     "name": "stderr",
     "output_type": "stream",
     "text": [
      "100%|██████████| 200/200 [00:25<00:00,  7.71it/s]\n",
      "  0%|          | 0/200 [00:00<?, ?it/s]"
     ]
    },
    {
     "name": "stdout",
     "output_type": "stream",
     "text": [
      "Accuray of <class 'core.models.MLP.MLPClassifier'>: 0.9975\n",
      "Feature 5 / 12; Processing: 22 / 63\n",
      "set features: 11\n"
     ]
    },
    {
     "name": "stderr",
     "output_type": "stream",
     "text": [
      "100%|██████████| 200/200 [00:33<00:00,  6.02it/s]\n",
      "  0%|          | 0/200 [00:00<?, ?it/s]"
     ]
    },
    {
     "name": "stdout",
     "output_type": "stream",
     "text": [
      "Accuray of <class 'core.models.MLP.MLPClassifier'>: 1.0\n",
      "Feature 5 / 12; Processing: 23 / 63\n",
      "set features: 11\n"
     ]
    },
    {
     "name": "stderr",
     "output_type": "stream",
     "text": [
      "100%|██████████| 200/200 [00:35<00:00,  5.67it/s]\n",
      "  0%|          | 0/200 [00:00<?, ?it/s]"
     ]
    },
    {
     "name": "stdout",
     "output_type": "stream",
     "text": [
      "Accuray of <class 'core.models.MLP.MLPClassifier'>: 0.9975\n",
      "Feature 5 / 12; Processing: 24 / 63\n",
      "set features: 11\n"
     ]
    },
    {
     "name": "stderr",
     "output_type": "stream",
     "text": [
      "100%|██████████| 200/200 [00:28<00:00,  7.07it/s]\n",
      "  0%|          | 0/200 [00:00<?, ?it/s]"
     ]
    },
    {
     "name": "stdout",
     "output_type": "stream",
     "text": [
      "Accuray of <class 'core.models.MLP.MLPClassifier'>: 0.9825\n",
      "Feature 5 / 12; Processing: 25 / 63\n",
      "set features: 11\n"
     ]
    },
    {
     "name": "stderr",
     "output_type": "stream",
     "text": [
      "100%|██████████| 200/200 [00:33<00:00,  6.04it/s]\n",
      "  0%|          | 0/200 [00:00<?, ?it/s]"
     ]
    },
    {
     "name": "stdout",
     "output_type": "stream",
     "text": [
      "Accuray of <class 'core.models.MLP.MLPClassifier'>: 0.995\n",
      "Feature 5 / 12; Processing: 26 / 63\n",
      "set features: 11\n"
     ]
    },
    {
     "name": "stderr",
     "output_type": "stream",
     "text": [
      "100%|██████████| 200/200 [00:37<00:00,  5.40it/s]\n",
      "  0%|          | 0/200 [00:00<?, ?it/s]"
     ]
    },
    {
     "name": "stdout",
     "output_type": "stream",
     "text": [
      "Accuray of <class 'core.models.MLP.MLPClassifier'>: 0.995\n",
      "Feature 5 / 12; Processing: 27 / 63\n",
      "set features: 11\n"
     ]
    },
    {
     "name": "stderr",
     "output_type": "stream",
     "text": [
      "100%|██████████| 200/200 [00:37<00:00,  5.32it/s]\n",
      "  0%|          | 0/200 [00:00<?, ?it/s]"
     ]
    },
    {
     "name": "stdout",
     "output_type": "stream",
     "text": [
      "Accuray of <class 'core.models.MLP.MLPClassifier'>: 0.99\n",
      "Feature 5 / 12; Processing: 28 / 63\n",
      "set features: 11\n"
     ]
    },
    {
     "name": "stderr",
     "output_type": "stream",
     "text": [
      "100%|██████████| 200/200 [00:30<00:00,  6.59it/s]\n",
      "  0%|          | 1/200 [00:00<00:26,  7.65it/s]"
     ]
    },
    {
     "name": "stdout",
     "output_type": "stream",
     "text": [
      "Accuray of <class 'core.models.MLP.MLPClassifier'>: 0.995\n",
      "Feature 5 / 12; Processing: 29 / 63\n",
      "set features: 11\n"
     ]
    },
    {
     "name": "stderr",
     "output_type": "stream",
     "text": [
      "100%|██████████| 200/200 [00:29<00:00,  6.74it/s]\n",
      "  0%|          | 1/200 [00:00<00:26,  7.60it/s]"
     ]
    },
    {
     "name": "stdout",
     "output_type": "stream",
     "text": [
      "Accuray of <class 'core.models.MLP.MLPClassifier'>: 0.995\n",
      "Feature 5 / 12; Processing: 30 / 63\n",
      "set features: 11\n"
     ]
    },
    {
     "name": "stderr",
     "output_type": "stream",
     "text": [
      "100%|██████████| 200/200 [00:29<00:00,  6.89it/s]\n",
      "  0%|          | 0/200 [00:00<?, ?it/s]"
     ]
    },
    {
     "name": "stdout",
     "output_type": "stream",
     "text": [
      "Accuray of <class 'core.models.MLP.MLPClassifier'>: 0.9975\n",
      "Feature 5 / 12; Processing: 31 / 63\n",
      "set features: 11\n"
     ]
    },
    {
     "name": "stderr",
     "output_type": "stream",
     "text": [
      "100%|██████████| 200/200 [00:31<00:00,  6.39it/s]\n",
      "  0%|          | 0/200 [00:00<?, ?it/s]"
     ]
    },
    {
     "name": "stdout",
     "output_type": "stream",
     "text": [
      "Accuray of <class 'core.models.MLP.MLPClassifier'>: 0.9775\n",
      "Feature 5 / 12; Processing: 32 / 63\n",
      "set features: 11\n"
     ]
    },
    {
     "name": "stderr",
     "output_type": "stream",
     "text": [
      "100%|██████████| 200/200 [00:38<00:00,  5.23it/s]\n",
      "  0%|          | 0/200 [00:00<?, ?it/s]"
     ]
    },
    {
     "name": "stdout",
     "output_type": "stream",
     "text": [
      "Accuray of <class 'core.models.MLP.MLPClassifier'>: 0.9825\n",
      "Feature 5 / 12; Processing: 33 / 63\n",
      "set features: 11\n"
     ]
    },
    {
     "name": "stderr",
     "output_type": "stream",
     "text": [
      "100%|██████████| 200/200 [00:32<00:00,  6.24it/s]\n",
      "  0%|          | 0/200 [00:00<?, ?it/s]"
     ]
    },
    {
     "name": "stdout",
     "output_type": "stream",
     "text": [
      "Accuray of <class 'core.models.MLP.MLPClassifier'>: 1.0\n",
      "Feature 5 / 12; Processing: 34 / 63\n",
      "set features: 11\n"
     ]
    },
    {
     "name": "stderr",
     "output_type": "stream",
     "text": [
      "100%|██████████| 200/200 [00:31<00:00,  6.43it/s]\n",
      "  0%|          | 0/200 [00:00<?, ?it/s]"
     ]
    },
    {
     "name": "stdout",
     "output_type": "stream",
     "text": [
      "Accuray of <class 'core.models.MLP.MLPClassifier'>: 0.9925\n",
      "Feature 5 / 12; Processing: 35 / 63\n",
      "set features: 11\n"
     ]
    },
    {
     "name": "stderr",
     "output_type": "stream",
     "text": [
      "100%|██████████| 200/200 [00:29<00:00,  6.85it/s]\n",
      "  0%|          | 0/200 [00:00<?, ?it/s]"
     ]
    },
    {
     "name": "stdout",
     "output_type": "stream",
     "text": [
      "Accuray of <class 'core.models.MLP.MLPClassifier'>: 1.0\n",
      "Feature 5 / 12; Processing: 36 / 63\n",
      "set features: 11\n"
     ]
    },
    {
     "name": "stderr",
     "output_type": "stream",
     "text": [
      "100%|██████████| 200/200 [00:35<00:00,  5.64it/s]\n",
      "  0%|          | 1/200 [00:00<00:30,  6.44it/s]"
     ]
    },
    {
     "name": "stdout",
     "output_type": "stream",
     "text": [
      "Accuray of <class 'core.models.MLP.MLPClassifier'>: 0.99\n",
      "Feature 5 / 12; Processing: 37 / 63\n",
      "set features: 11\n"
     ]
    },
    {
     "name": "stderr",
     "output_type": "stream",
     "text": [
      "100%|██████████| 200/200 [00:36<00:00,  5.50it/s]\n",
      "  0%|          | 1/200 [00:00<00:22,  8.94it/s]"
     ]
    },
    {
     "name": "stdout",
     "output_type": "stream",
     "text": [
      "Accuray of <class 'core.models.MLP.MLPClassifier'>: 1.0\n",
      "Feature 5 / 12; Processing: 38 / 63\n",
      "set features: 11\n"
     ]
    },
    {
     "name": "stderr",
     "output_type": "stream",
     "text": [
      "100%|██████████| 200/200 [00:32<00:00,  6.21it/s]\n",
      "  0%|          | 0/200 [00:00<?, ?it/s]"
     ]
    },
    {
     "name": "stdout",
     "output_type": "stream",
     "text": [
      "Accuray of <class 'core.models.MLP.MLPClassifier'>: 0.99\n",
      "Feature 5 / 12; Processing: 39 / 63\n",
      "set features: 11\n"
     ]
    },
    {
     "name": "stderr",
     "output_type": "stream",
     "text": [
      "100%|██████████| 200/200 [00:36<00:00,  5.51it/s]\n",
      "  0%|          | 0/200 [00:00<?, ?it/s]"
     ]
    },
    {
     "name": "stdout",
     "output_type": "stream",
     "text": [
      "Accuray of <class 'core.models.MLP.MLPClassifier'>: 1.0\n",
      "Feature 5 / 12; Processing: 40 / 63\n",
      "set features: 11\n"
     ]
    },
    {
     "name": "stderr",
     "output_type": "stream",
     "text": [
      "100%|██████████| 200/200 [00:34<00:00,  5.88it/s]\n",
      "  0%|          | 1/200 [00:00<00:24,  8.19it/s]"
     ]
    },
    {
     "name": "stdout",
     "output_type": "stream",
     "text": [
      "Accuray of <class 'core.models.MLP.MLPClassifier'>: 1.0\n",
      "Feature 5 / 12; Processing: 41 / 63\n",
      "set features: 11\n"
     ]
    },
    {
     "name": "stderr",
     "output_type": "stream",
     "text": [
      "100%|██████████| 200/200 [00:31<00:00,  6.34it/s]\n",
      "  0%|          | 0/200 [00:00<?, ?it/s]"
     ]
    },
    {
     "name": "stdout",
     "output_type": "stream",
     "text": [
      "Accuray of <class 'core.models.MLP.MLPClassifier'>: 0.995\n",
      "Feature 5 / 12; Processing: 42 / 63\n",
      "set features: 11\n"
     ]
    },
    {
     "name": "stderr",
     "output_type": "stream",
     "text": [
      "100%|██████████| 200/200 [00:37<00:00,  5.39it/s]\n",
      "  0%|          | 1/200 [00:00<00:24,  8.20it/s]"
     ]
    },
    {
     "name": "stdout",
     "output_type": "stream",
     "text": [
      "Accuray of <class 'core.models.MLP.MLPClassifier'>: 0.995\n",
      "Feature 5 / 12; Processing: 43 / 63\n",
      "set features: 11\n"
     ]
    },
    {
     "name": "stderr",
     "output_type": "stream",
     "text": [
      "100%|██████████| 200/200 [00:32<00:00,  6.20it/s]\n",
      "  0%|          | 0/200 [00:00<?, ?it/s]"
     ]
    },
    {
     "name": "stdout",
     "output_type": "stream",
     "text": [
      "Accuray of <class 'core.models.MLP.MLPClassifier'>: 0.9925\n",
      "Feature 5 / 12; Processing: 44 / 63\n",
      "set features: 11\n"
     ]
    },
    {
     "name": "stderr",
     "output_type": "stream",
     "text": [
      "100%|██████████| 200/200 [00:32<00:00,  6.14it/s]\n",
      "  0%|          | 0/200 [00:00<?, ?it/s]"
     ]
    },
    {
     "name": "stdout",
     "output_type": "stream",
     "text": [
      "Accuray of <class 'core.models.MLP.MLPClassifier'>: 1.0\n",
      "Feature 5 / 12; Processing: 45 / 63\n",
      "set features: 11\n"
     ]
    },
    {
     "name": "stderr",
     "output_type": "stream",
     "text": [
      "100%|██████████| 200/200 [00:31<00:00,  6.29it/s]\n",
      "  0%|          | 0/200 [00:00<?, ?it/s]"
     ]
    },
    {
     "name": "stdout",
     "output_type": "stream",
     "text": [
      "Accuray of <class 'core.models.MLP.MLPClassifier'>: 0.9825\n",
      "Feature 5 / 12; Processing: 46 / 63\n",
      "set features: 11\n"
     ]
    },
    {
     "name": "stderr",
     "output_type": "stream",
     "text": [
      "100%|██████████| 200/200 [00:29<00:00,  6.75it/s]\n",
      "  0%|          | 0/200 [00:00<?, ?it/s]"
     ]
    },
    {
     "name": "stdout",
     "output_type": "stream",
     "text": [
      "Accuray of <class 'core.models.MLP.MLPClassifier'>: 0.9825\n",
      "Feature 5 / 12; Processing: 47 / 63\n",
      "set features: 11\n"
     ]
    },
    {
     "name": "stderr",
     "output_type": "stream",
     "text": [
      "100%|██████████| 200/200 [00:31<00:00,  6.29it/s]\n",
      "  0%|          | 0/200 [00:00<?, ?it/s]"
     ]
    },
    {
     "name": "stdout",
     "output_type": "stream",
     "text": [
      "Accuray of <class 'core.models.MLP.MLPClassifier'>: 0.9825\n",
      "Feature 5 / 12; Processing: 48 / 63\n",
      "set features: 11\n"
     ]
    },
    {
     "name": "stderr",
     "output_type": "stream",
     "text": [
      "100%|██████████| 200/200 [00:31<00:00,  6.36it/s]\n",
      "  0%|          | 0/200 [00:00<?, ?it/s]"
     ]
    },
    {
     "name": "stdout",
     "output_type": "stream",
     "text": [
      "Accuray of <class 'core.models.MLP.MLPClassifier'>: 1.0\n",
      "Feature 5 / 12; Processing: 49 / 63\n",
      "set features: 11\n"
     ]
    },
    {
     "name": "stderr",
     "output_type": "stream",
     "text": [
      "100%|██████████| 200/200 [00:33<00:00,  5.90it/s]\n",
      "  0%|          | 0/200 [00:00<?, ?it/s]"
     ]
    },
    {
     "name": "stdout",
     "output_type": "stream",
     "text": [
      "Accuray of <class 'core.models.MLP.MLPClassifier'>: 0.99\n",
      "Feature 5 / 12; Processing: 50 / 63\n",
      "set features: 11\n"
     ]
    },
    {
     "name": "stderr",
     "output_type": "stream",
     "text": [
      "100%|██████████| 200/200 [00:28<00:00,  7.04it/s]\n",
      "  0%|          | 0/200 [00:00<?, ?it/s]"
     ]
    },
    {
     "name": "stdout",
     "output_type": "stream",
     "text": [
      "Accuray of <class 'core.models.MLP.MLPClassifier'>: 0.9925\n",
      "Feature 5 / 12; Processing: 51 / 63\n",
      "set features: 11\n"
     ]
    },
    {
     "name": "stderr",
     "output_type": "stream",
     "text": [
      "100%|██████████| 200/200 [00:30<00:00,  6.57it/s]\n",
      "  0%|          | 0/200 [00:00<?, ?it/s]"
     ]
    },
    {
     "name": "stdout",
     "output_type": "stream",
     "text": [
      "Accuray of <class 'core.models.MLP.MLPClassifier'>: 0.9975\n",
      "Feature 5 / 12; Processing: 52 / 63\n",
      "set features: 11\n"
     ]
    },
    {
     "name": "stderr",
     "output_type": "stream",
     "text": [
      "100%|██████████| 200/200 [00:32<00:00,  6.23it/s]\n",
      "  0%|          | 0/200 [00:00<?, ?it/s]"
     ]
    },
    {
     "name": "stdout",
     "output_type": "stream",
     "text": [
      "Accuray of <class 'core.models.MLP.MLPClassifier'>: 1.0\n",
      "Feature 5 / 12; Processing: 53 / 63\n",
      "set features: 11\n"
     ]
    },
    {
     "name": "stderr",
     "output_type": "stream",
     "text": [
      "100%|██████████| 200/200 [00:35<00:00,  5.68it/s]\n",
      "  0%|          | 0/200 [00:00<?, ?it/s]"
     ]
    },
    {
     "name": "stdout",
     "output_type": "stream",
     "text": [
      "Accuray of <class 'core.models.MLP.MLPClassifier'>: 0.99\n",
      "Feature 5 / 12; Processing: 54 / 63\n",
      "set features: 11\n"
     ]
    },
    {
     "name": "stderr",
     "output_type": "stream",
     "text": [
      "100%|██████████| 200/200 [00:32<00:00,  6.10it/s]\n",
      "  0%|          | 1/200 [00:00<00:21,  9.45it/s]"
     ]
    },
    {
     "name": "stdout",
     "output_type": "stream",
     "text": [
      "Accuray of <class 'core.models.MLP.MLPClassifier'>: 0.99\n",
      "Feature 5 / 12; Processing: 55 / 63\n",
      "set features: 11\n"
     ]
    },
    {
     "name": "stderr",
     "output_type": "stream",
     "text": [
      "100%|██████████| 200/200 [00:31<00:00,  6.32it/s]\n",
      "  0%|          | 0/200 [00:00<?, ?it/s]"
     ]
    },
    {
     "name": "stdout",
     "output_type": "stream",
     "text": [
      "Accuray of <class 'core.models.MLP.MLPClassifier'>: 0.995\n",
      "Feature 5 / 12; Processing: 56 / 63\n",
      "set features: 11\n"
     ]
    },
    {
     "name": "stderr",
     "output_type": "stream",
     "text": [
      "100%|██████████| 200/200 [00:35<00:00,  5.67it/s]\n",
      "  0%|          | 1/200 [00:00<00:24,  8.27it/s]"
     ]
    },
    {
     "name": "stdout",
     "output_type": "stream",
     "text": [
      "Accuray of <class 'core.models.MLP.MLPClassifier'>: 0.9875\n",
      "Feature 5 / 12; Processing: 57 / 63\n",
      "set features: 11\n"
     ]
    },
    {
     "name": "stderr",
     "output_type": "stream",
     "text": [
      "100%|██████████| 200/200 [00:28<00:00,  7.12it/s]\n",
      "  0%|          | 0/200 [00:00<?, ?it/s]"
     ]
    },
    {
     "name": "stdout",
     "output_type": "stream",
     "text": [
      "Accuray of <class 'core.models.MLP.MLPClassifier'>: 0.995\n",
      "Feature 5 / 12; Processing: 58 / 63\n",
      "set features: 11\n"
     ]
    },
    {
     "name": "stderr",
     "output_type": "stream",
     "text": [
      "100%|██████████| 200/200 [00:30<00:00,  6.58it/s]\n",
      "  0%|          | 1/200 [00:00<00:31,  6.39it/s]"
     ]
    },
    {
     "name": "stdout",
     "output_type": "stream",
     "text": [
      "Accuray of <class 'core.models.MLP.MLPClassifier'>: 0.995\n",
      "Feature 5 / 12; Processing: 59 / 63\n",
      "set features: 11\n"
     ]
    },
    {
     "name": "stderr",
     "output_type": "stream",
     "text": [
      "100%|██████████| 200/200 [00:38<00:00,  5.20it/s]\n",
      "  0%|          | 1/200 [00:00<00:22,  8.73it/s]"
     ]
    },
    {
     "name": "stdout",
     "output_type": "stream",
     "text": [
      "Accuray of <class 'core.models.MLP.MLPClassifier'>: 0.995\n",
      "Feature 5 / 12; Processing: 60 / 63\n",
      "set features: 11\n"
     ]
    },
    {
     "name": "stderr",
     "output_type": "stream",
     "text": [
      "100%|██████████| 200/200 [00:29<00:00,  6.88it/s]\n",
      "  0%|          | 0/200 [00:00<?, ?it/s]"
     ]
    },
    {
     "name": "stdout",
     "output_type": "stream",
     "text": [
      "Accuray of <class 'core.models.MLP.MLPClassifier'>: 0.995\n",
      "Feature 5 / 12; Processing: 61 / 63\n",
      "set features: 11\n"
     ]
    },
    {
     "name": "stderr",
     "output_type": "stream",
     "text": [
      "100%|██████████| 200/200 [00:28<00:00,  7.04it/s]\n",
      "  0%|          | 0/200 [00:00<?, ?it/s]"
     ]
    },
    {
     "name": "stdout",
     "output_type": "stream",
     "text": [
      "Accuray of <class 'core.models.MLP.MLPClassifier'>: 0.9925\n",
      "Feature 5 / 12; Processing: 62 / 63\n",
      "set features: 11\n"
     ]
    },
    {
     "name": "stderr",
     "output_type": "stream",
     "text": [
      "100%|██████████| 200/200 [00:42<00:00,  4.66it/s]\n",
      "  0%|          | 1/200 [00:00<00:27,  7.25it/s]"
     ]
    },
    {
     "name": "stdout",
     "output_type": "stream",
     "text": [
      "Accuray of <class 'core.models.MLP.MLPClassifier'>: 0.99\n",
      "remove feature base_ordered: after remove length: 11\n",
      "Feature 6 / 12; Processing: 0 / 63\n",
      "set features: 11\n"
     ]
    },
    {
     "name": "stderr",
     "output_type": "stream",
     "text": [
      "100%|██████████| 200/200 [00:30<00:00,  6.57it/s]\n",
      "  0%|          | 0/200 [00:00<?, ?it/s]"
     ]
    },
    {
     "name": "stdout",
     "output_type": "stream",
     "text": [
      "Accuray of <class 'core.models.MLP.MLPClassifier'>: 0.995\n",
      "Feature 6 / 12; Processing: 1 / 63\n",
      "set features: 11\n"
     ]
    },
    {
     "name": "stderr",
     "output_type": "stream",
     "text": [
      "100%|██████████| 200/200 [00:32<00:00,  6.09it/s]\n",
      "  0%|          | 0/200 [00:00<?, ?it/s]"
     ]
    },
    {
     "name": "stdout",
     "output_type": "stream",
     "text": [
      "Accuray of <class 'core.models.MLP.MLPClassifier'>: 0.995\n",
      "Feature 6 / 12; Processing: 2 / 63\n",
      "set features: 11\n"
     ]
    },
    {
     "name": "stderr",
     "output_type": "stream",
     "text": [
      "100%|██████████| 200/200 [00:31<00:00,  6.36it/s]\n",
      "  0%|          | 1/200 [00:00<00:26,  7.54it/s]"
     ]
    },
    {
     "name": "stdout",
     "output_type": "stream",
     "text": [
      "Accuray of <class 'core.models.MLP.MLPClassifier'>: 0.98\n",
      "Feature 6 / 12; Processing: 3 / 63\n",
      "set features: 11\n"
     ]
    },
    {
     "name": "stderr",
     "output_type": "stream",
     "text": [
      "100%|██████████| 200/200 [00:33<00:00,  5.96it/s]\n",
      "  0%|          | 1/200 [00:00<00:20,  9.60it/s]"
     ]
    },
    {
     "name": "stdout",
     "output_type": "stream",
     "text": [
      "Accuray of <class 'core.models.MLP.MLPClassifier'>: 0.9875\n",
      "Feature 6 / 12; Processing: 4 / 63\n",
      "set features: 11\n"
     ]
    },
    {
     "name": "stderr",
     "output_type": "stream",
     "text": [
      "100%|██████████| 200/200 [00:34<00:00,  5.82it/s]\n",
      "  0%|          | 0/200 [00:00<?, ?it/s]"
     ]
    },
    {
     "name": "stdout",
     "output_type": "stream",
     "text": [
      "Accuray of <class 'core.models.MLP.MLPClassifier'>: 0.9875\n",
      "Feature 6 / 12; Processing: 5 / 63\n",
      "set features: 11\n"
     ]
    },
    {
     "name": "stderr",
     "output_type": "stream",
     "text": [
      "100%|██████████| 200/200 [00:30<00:00,  6.58it/s]\n",
      "  0%|          | 0/200 [00:00<?, ?it/s]"
     ]
    },
    {
     "name": "stdout",
     "output_type": "stream",
     "text": [
      "Accuray of <class 'core.models.MLP.MLPClassifier'>: 0.995\n",
      "Feature 6 / 12; Processing: 6 / 63\n",
      "set features: 11\n"
     ]
    },
    {
     "name": "stderr",
     "output_type": "stream",
     "text": [
      "100%|██████████| 200/200 [00:35<00:00,  5.62it/s]\n",
      "  0%|          | 0/200 [00:00<?, ?it/s]"
     ]
    },
    {
     "name": "stdout",
     "output_type": "stream",
     "text": [
      "Accuray of <class 'core.models.MLP.MLPClassifier'>: 1.0\n",
      "Feature 6 / 12; Processing: 7 / 63\n",
      "set features: 11\n"
     ]
    },
    {
     "name": "stderr",
     "output_type": "stream",
     "text": [
      "100%|██████████| 200/200 [00:34<00:00,  5.87it/s]\n",
      "  0%|          | 1/200 [00:00<00:20,  9.93it/s]"
     ]
    },
    {
     "name": "stdout",
     "output_type": "stream",
     "text": [
      "Accuray of <class 'core.models.MLP.MLPClassifier'>: 0.995\n",
      "Feature 6 / 12; Processing: 8 / 63\n",
      "set features: 11\n"
     ]
    },
    {
     "name": "stderr",
     "output_type": "stream",
     "text": [
      "100%|██████████| 200/200 [00:33<00:00,  5.96it/s]\n",
      "  0%|          | 0/200 [00:00<?, ?it/s]"
     ]
    },
    {
     "name": "stdout",
     "output_type": "stream",
     "text": [
      "Accuray of <class 'core.models.MLP.MLPClassifier'>: 0.985\n",
      "Feature 6 / 12; Processing: 9 / 63\n",
      "set features: 11\n"
     ]
    },
    {
     "name": "stderr",
     "output_type": "stream",
     "text": [
      "100%|██████████| 200/200 [00:31<00:00,  6.42it/s]\n",
      "  0%|          | 0/200 [00:00<?, ?it/s]"
     ]
    },
    {
     "name": "stdout",
     "output_type": "stream",
     "text": [
      "Accuray of <class 'core.models.MLP.MLPClassifier'>: 0.9625\n",
      "Feature 6 / 12; Processing: 10 / 63\n",
      "set features: 11\n"
     ]
    },
    {
     "name": "stderr",
     "output_type": "stream",
     "text": [
      "100%|██████████| 200/200 [00:31<00:00,  6.40it/s]\n",
      "  0%|          | 1/200 [00:00<00:27,  7.33it/s]"
     ]
    },
    {
     "name": "stdout",
     "output_type": "stream",
     "text": [
      "Accuray of <class 'core.models.MLP.MLPClassifier'>: 0.9925\n",
      "Feature 6 / 12; Processing: 11 / 63\n",
      "set features: 11\n"
     ]
    },
    {
     "name": "stderr",
     "output_type": "stream",
     "text": [
      "100%|██████████| 200/200 [00:32<00:00,  6.22it/s]\n",
      "  0%|          | 0/200 [00:00<?, ?it/s]"
     ]
    },
    {
     "name": "stdout",
     "output_type": "stream",
     "text": [
      "Accuray of <class 'core.models.MLP.MLPClassifier'>: 1.0\n",
      "Feature 6 / 12; Processing: 12 / 63\n",
      "set features: 11\n"
     ]
    },
    {
     "name": "stderr",
     "output_type": "stream",
     "text": [
      "100%|██████████| 200/200 [00:28<00:00,  7.02it/s]\n",
      "  0%|          | 1/200 [00:00<00:28,  7.07it/s]"
     ]
    },
    {
     "name": "stdout",
     "output_type": "stream",
     "text": [
      "Accuray of <class 'core.models.MLP.MLPClassifier'>: 0.995\n",
      "Feature 6 / 12; Processing: 13 / 63\n",
      "set features: 11\n"
     ]
    },
    {
     "name": "stderr",
     "output_type": "stream",
     "text": [
      "100%|██████████| 200/200 [00:29<00:00,  6.79it/s]\n",
      "  0%|          | 0/200 [00:00<?, ?it/s]"
     ]
    },
    {
     "name": "stdout",
     "output_type": "stream",
     "text": [
      "Accuray of <class 'core.models.MLP.MLPClassifier'>: 1.0\n",
      "Feature 6 / 12; Processing: 14 / 63\n",
      "set features: 11\n"
     ]
    },
    {
     "name": "stderr",
     "output_type": "stream",
     "text": [
      "100%|██████████| 200/200 [00:33<00:00,  6.05it/s]\n",
      "  0%|          | 0/200 [00:00<?, ?it/s]"
     ]
    },
    {
     "name": "stdout",
     "output_type": "stream",
     "text": [
      "Accuray of <class 'core.models.MLP.MLPClassifier'>: 1.0\n",
      "Feature 6 / 12; Processing: 15 / 63\n",
      "set features: 11\n"
     ]
    },
    {
     "name": "stderr",
     "output_type": "stream",
     "text": [
      "100%|██████████| 200/200 [00:27<00:00,  7.17it/s]\n",
      "  0%|          | 0/200 [00:00<?, ?it/s]"
     ]
    },
    {
     "name": "stdout",
     "output_type": "stream",
     "text": [
      "Accuray of <class 'core.models.MLP.MLPClassifier'>: 0.985\n",
      "Feature 6 / 12; Processing: 16 / 63\n",
      "set features: 11\n"
     ]
    },
    {
     "name": "stderr",
     "output_type": "stream",
     "text": [
      "100%|██████████| 200/200 [00:31<00:00,  6.36it/s]\n",
      "  0%|          | 1/200 [00:00<00:21,  9.07it/s]"
     ]
    },
    {
     "name": "stdout",
     "output_type": "stream",
     "text": [
      "Accuray of <class 'core.models.MLP.MLPClassifier'>: 0.995\n",
      "Feature 6 / 12; Processing: 17 / 63\n",
      "set features: 11\n"
     ]
    },
    {
     "name": "stderr",
     "output_type": "stream",
     "text": [
      "100%|██████████| 200/200 [00:33<00:00,  5.96it/s]\n",
      "  0%|          | 0/200 [00:00<?, ?it/s]"
     ]
    },
    {
     "name": "stdout",
     "output_type": "stream",
     "text": [
      "Accuray of <class 'core.models.MLP.MLPClassifier'>: 0.9975\n",
      "Feature 6 / 12; Processing: 18 / 63\n",
      "set features: 11\n"
     ]
    },
    {
     "name": "stderr",
     "output_type": "stream",
     "text": [
      "100%|██████████| 200/200 [00:27<00:00,  7.33it/s]\n",
      "  0%|          | 0/200 [00:00<?, ?it/s]"
     ]
    },
    {
     "name": "stdout",
     "output_type": "stream",
     "text": [
      "Accuray of <class 'core.models.MLP.MLPClassifier'>: 1.0\n",
      "Feature 6 / 12; Processing: 19 / 63\n",
      "set features: 11\n"
     ]
    },
    {
     "name": "stderr",
     "output_type": "stream",
     "text": [
      "100%|██████████| 200/200 [00:30<00:00,  6.56it/s]\n",
      "  0%|          | 0/200 [00:00<?, ?it/s]"
     ]
    },
    {
     "name": "stdout",
     "output_type": "stream",
     "text": [
      "Accuray of <class 'core.models.MLP.MLPClassifier'>: 0.995\n",
      "Feature 6 / 12; Processing: 20 / 63\n",
      "set features: 11\n"
     ]
    },
    {
     "name": "stderr",
     "output_type": "stream",
     "text": [
      "100%|██████████| 200/200 [00:33<00:00,  5.90it/s]\n",
      "  0%|          | 0/200 [00:00<?, ?it/s]"
     ]
    },
    {
     "name": "stdout",
     "output_type": "stream",
     "text": [
      "Accuray of <class 'core.models.MLP.MLPClassifier'>: 0.9975\n",
      "Feature 6 / 12; Processing: 21 / 63\n",
      "set features: 11\n"
     ]
    },
    {
     "name": "stderr",
     "output_type": "stream",
     "text": [
      "100%|██████████| 200/200 [00:30<00:00,  6.50it/s]\n",
      "  0%|          | 0/200 [00:00<?, ?it/s]"
     ]
    },
    {
     "name": "stdout",
     "output_type": "stream",
     "text": [
      "Accuray of <class 'core.models.MLP.MLPClassifier'>: 0.9975\n",
      "Feature 6 / 12; Processing: 22 / 63\n",
      "set features: 11\n"
     ]
    },
    {
     "name": "stderr",
     "output_type": "stream",
     "text": [
      "100%|██████████| 200/200 [00:32<00:00,  6.11it/s]\n",
      "  0%|          | 0/200 [00:00<?, ?it/s]"
     ]
    },
    {
     "name": "stdout",
     "output_type": "stream",
     "text": [
      "Accuray of <class 'core.models.MLP.MLPClassifier'>: 1.0\n",
      "Feature 6 / 12; Processing: 23 / 63\n",
      "set features: 11\n"
     ]
    },
    {
     "name": "stderr",
     "output_type": "stream",
     "text": [
      "100%|██████████| 200/200 [00:32<00:00,  6.20it/s]\n",
      "  0%|          | 1/200 [00:00<00:27,  7.36it/s]"
     ]
    },
    {
     "name": "stdout",
     "output_type": "stream",
     "text": [
      "Accuray of <class 'core.models.MLP.MLPClassifier'>: 0.985\n",
      "Feature 6 / 12; Processing: 24 / 63\n",
      "set features: 11\n"
     ]
    },
    {
     "name": "stderr",
     "output_type": "stream",
     "text": [
      "100%|██████████| 200/200 [00:29<00:00,  6.69it/s]\n",
      "  0%|          | 1/200 [00:00<00:23,  8.30it/s]"
     ]
    },
    {
     "name": "stdout",
     "output_type": "stream",
     "text": [
      "Accuray of <class 'core.models.MLP.MLPClassifier'>: 0.965\n",
      "Feature 6 / 12; Processing: 25 / 63\n",
      "set features: 11\n"
     ]
    },
    {
     "name": "stderr",
     "output_type": "stream",
     "text": [
      "100%|██████████| 200/200 [00:28<00:00,  6.90it/s]\n",
      "  0%|          | 0/200 [00:00<?, ?it/s]"
     ]
    },
    {
     "name": "stdout",
     "output_type": "stream",
     "text": [
      "Accuray of <class 'core.models.MLP.MLPClassifier'>: 0.995\n",
      "Feature 6 / 12; Processing: 26 / 63\n",
      "set features: 11\n"
     ]
    },
    {
     "name": "stderr",
     "output_type": "stream",
     "text": [
      "100%|██████████| 200/200 [00:28<00:00,  6.99it/s]\n",
      "  0%|          | 1/200 [00:00<00:20,  9.54it/s]"
     ]
    },
    {
     "name": "stdout",
     "output_type": "stream",
     "text": [
      "Accuray of <class 'core.models.MLP.MLPClassifier'>: 0.98\n",
      "Feature 6 / 12; Processing: 27 / 63\n",
      "set features: 11\n"
     ]
    },
    {
     "name": "stderr",
     "output_type": "stream",
     "text": [
      "100%|██████████| 200/200 [00:33<00:00,  5.96it/s]\n",
      "  0%|          | 0/200 [00:00<?, ?it/s]"
     ]
    },
    {
     "name": "stdout",
     "output_type": "stream",
     "text": [
      "Accuray of <class 'core.models.MLP.MLPClassifier'>: 0.99\n",
      "Feature 6 / 12; Processing: 28 / 63\n",
      "set features: 11\n"
     ]
    },
    {
     "name": "stderr",
     "output_type": "stream",
     "text": [
      "100%|██████████| 200/200 [00:28<00:00,  7.05it/s]\n",
      "  0%|          | 0/200 [00:00<?, ?it/s]"
     ]
    },
    {
     "name": "stdout",
     "output_type": "stream",
     "text": [
      "Accuray of <class 'core.models.MLP.MLPClassifier'>: 0.99\n",
      "Feature 6 / 12; Processing: 29 / 63\n",
      "set features: 11\n"
     ]
    },
    {
     "name": "stderr",
     "output_type": "stream",
     "text": [
      "100%|██████████| 200/200 [00:33<00:00,  5.95it/s]\n",
      "  0%|          | 0/200 [00:00<?, ?it/s]"
     ]
    },
    {
     "name": "stdout",
     "output_type": "stream",
     "text": [
      "Accuray of <class 'core.models.MLP.MLPClassifier'>: 0.99\n",
      "Feature 6 / 12; Processing: 30 / 63\n",
      "set features: 11\n"
     ]
    },
    {
     "name": "stderr",
     "output_type": "stream",
     "text": [
      "100%|██████████| 200/200 [00:32<00:00,  6.24it/s]\n",
      "  0%|          | 1/200 [00:00<00:27,  7.19it/s]"
     ]
    },
    {
     "name": "stdout",
     "output_type": "stream",
     "text": [
      "Accuray of <class 'core.models.MLP.MLPClassifier'>: 0.9975\n",
      "Feature 6 / 12; Processing: 31 / 63\n",
      "set features: 11\n"
     ]
    },
    {
     "name": "stderr",
     "output_type": "stream",
     "text": [
      "100%|██████████| 200/200 [00:31<00:00,  6.33it/s]\n",
      "  0%|          | 0/200 [00:00<?, ?it/s]"
     ]
    },
    {
     "name": "stdout",
     "output_type": "stream",
     "text": [
      "Accuray of <class 'core.models.MLP.MLPClassifier'>: 0.985\n",
      "Feature 6 / 12; Processing: 32 / 63\n",
      "set features: 11\n"
     ]
    },
    {
     "name": "stderr",
     "output_type": "stream",
     "text": [
      "100%|██████████| 200/200 [00:30<00:00,  6.59it/s]\n",
      "  0%|          | 0/200 [00:00<?, ?it/s]"
     ]
    },
    {
     "name": "stdout",
     "output_type": "stream",
     "text": [
      "Accuray of <class 'core.models.MLP.MLPClassifier'>: 0.9825\n",
      "Feature 6 / 12; Processing: 33 / 63\n",
      "set features: 11\n"
     ]
    },
    {
     "name": "stderr",
     "output_type": "stream",
     "text": [
      "100%|██████████| 200/200 [00:20<00:00,  9.71it/s]\n",
      "  0%|          | 0/200 [00:00<?, ?it/s]"
     ]
    },
    {
     "name": "stdout",
     "output_type": "stream",
     "text": [
      "Accuray of <class 'core.models.MLP.MLPClassifier'>: 1.0\n",
      "Feature 6 / 12; Processing: 34 / 63\n",
      "set features: 11\n"
     ]
    },
    {
     "name": "stderr",
     "output_type": "stream",
     "text": [
      "100%|██████████| 200/200 [00:21<00:00,  9.45it/s]\n",
      "  0%|          | 1/200 [00:00<00:21,  9.09it/s]"
     ]
    },
    {
     "name": "stdout",
     "output_type": "stream",
     "text": [
      "Accuray of <class 'core.models.MLP.MLPClassifier'>: 0.985\n",
      "Feature 6 / 12; Processing: 35 / 63\n",
      "set features: 11\n"
     ]
    },
    {
     "name": "stderr",
     "output_type": "stream",
     "text": [
      "100%|██████████| 200/200 [00:23<00:00,  8.66it/s]\n",
      "  1%|          | 2/200 [00:00<00:15, 12.91it/s]"
     ]
    },
    {
     "name": "stdout",
     "output_type": "stream",
     "text": [
      "Accuray of <class 'core.models.MLP.MLPClassifier'>: 0.9925\n",
      "Feature 6 / 12; Processing: 36 / 63\n",
      "set features: 11\n"
     ]
    },
    {
     "name": "stderr",
     "output_type": "stream",
     "text": [
      "100%|██████████| 200/200 [00:20<00:00,  9.69it/s]\n",
      "  1%|          | 2/200 [00:00<00:13, 14.97it/s]"
     ]
    },
    {
     "name": "stdout",
     "output_type": "stream",
     "text": [
      "Accuray of <class 'core.models.MLP.MLPClassifier'>: 0.9975\n",
      "Feature 6 / 12; Processing: 37 / 63\n",
      "set features: 11\n"
     ]
    },
    {
     "name": "stderr",
     "output_type": "stream",
     "text": [
      "100%|██████████| 200/200 [00:21<00:00,  9.50it/s]\n",
      "  1%|          | 2/200 [00:00<00:14, 13.39it/s]"
     ]
    },
    {
     "name": "stdout",
     "output_type": "stream",
     "text": [
      "Accuray of <class 'core.models.MLP.MLPClassifier'>: 1.0\n",
      "Feature 6 / 12; Processing: 38 / 63\n",
      "set features: 11\n"
     ]
    },
    {
     "name": "stderr",
     "output_type": "stream",
     "text": [
      "100%|██████████| 200/200 [00:19<00:00, 10.07it/s]\n",
      "  0%|          | 1/200 [00:00<00:22,  8.96it/s]"
     ]
    },
    {
     "name": "stdout",
     "output_type": "stream",
     "text": [
      "Accuray of <class 'core.models.MLP.MLPClassifier'>: 0.9725\n",
      "Feature 6 / 12; Processing: 39 / 63\n",
      "set features: 11\n"
     ]
    },
    {
     "name": "stderr",
     "output_type": "stream",
     "text": [
      "100%|██████████| 200/200 [00:20<00:00,  9.69it/s]\n",
      "  0%|          | 1/200 [00:00<00:29,  6.64it/s]"
     ]
    },
    {
     "name": "stdout",
     "output_type": "stream",
     "text": [
      "Accuray of <class 'core.models.MLP.MLPClassifier'>: 0.985\n",
      "Feature 6 / 12; Processing: 40 / 63\n",
      "set features: 11\n"
     ]
    },
    {
     "name": "stderr",
     "output_type": "stream",
     "text": [
      "100%|██████████| 200/200 [00:21<00:00,  9.45it/s]\n",
      "  1%|          | 2/200 [00:00<00:15, 13.03it/s]"
     ]
    },
    {
     "name": "stdout",
     "output_type": "stream",
     "text": [
      "Accuray of <class 'core.models.MLP.MLPClassifier'>: 1.0\n",
      "Feature 6 / 12; Processing: 41 / 63\n",
      "set features: 11\n"
     ]
    },
    {
     "name": "stderr",
     "output_type": "stream",
     "text": [
      "100%|██████████| 200/200 [00:20<00:00,  9.95it/s]\n",
      "  0%|          | 0/200 [00:00<?, ?it/s]"
     ]
    },
    {
     "name": "stdout",
     "output_type": "stream",
     "text": [
      "Accuray of <class 'core.models.MLP.MLPClassifier'>: 0.995\n",
      "Feature 6 / 12; Processing: 42 / 63\n",
      "set features: 11\n"
     ]
    },
    {
     "name": "stderr",
     "output_type": "stream",
     "text": [
      "100%|██████████| 200/200 [00:20<00:00,  9.60it/s]\n",
      "  0%|          | 0/200 [00:00<?, ?it/s]"
     ]
    },
    {
     "name": "stdout",
     "output_type": "stream",
     "text": [
      "Accuray of <class 'core.models.MLP.MLPClassifier'>: 0.995\n",
      "Feature 6 / 12; Processing: 43 / 63\n",
      "set features: 11\n"
     ]
    },
    {
     "name": "stderr",
     "output_type": "stream",
     "text": [
      "100%|██████████| 200/200 [00:21<00:00,  9.28it/s]\n",
      "  0%|          | 1/200 [00:00<00:21,  9.47it/s]"
     ]
    },
    {
     "name": "stdout",
     "output_type": "stream",
     "text": [
      "Accuray of <class 'core.models.MLP.MLPClassifier'>: 0.9925\n",
      "Feature 6 / 12; Processing: 44 / 63\n",
      "set features: 11\n"
     ]
    },
    {
     "name": "stderr",
     "output_type": "stream",
     "text": [
      "100%|██████████| 200/200 [00:20<00:00,  9.62it/s]\n",
      "  0%|          | 0/200 [00:00<?, ?it/s]"
     ]
    },
    {
     "name": "stdout",
     "output_type": "stream",
     "text": [
      "Accuray of <class 'core.models.MLP.MLPClassifier'>: 0.9975\n",
      "Feature 6 / 12; Processing: 45 / 63\n",
      "set features: 11\n"
     ]
    },
    {
     "name": "stderr",
     "output_type": "stream",
     "text": [
      "100%|██████████| 200/200 [00:20<00:00,  9.60it/s]\n",
      "  0%|          | 0/200 [00:00<?, ?it/s]"
     ]
    },
    {
     "name": "stdout",
     "output_type": "stream",
     "text": [
      "Accuray of <class 'core.models.MLP.MLPClassifier'>: 0.9875\n",
      "Feature 6 / 12; Processing: 46 / 63\n",
      "set features: 11\n"
     ]
    },
    {
     "name": "stderr",
     "output_type": "stream",
     "text": [
      "100%|██████████| 200/200 [00:18<00:00, 10.54it/s]\n",
      "  1%|          | 2/200 [00:00<00:15, 12.94it/s]"
     ]
    },
    {
     "name": "stdout",
     "output_type": "stream",
     "text": [
      "Accuray of <class 'core.models.MLP.MLPClassifier'>: 0.9875\n",
      "Feature 6 / 12; Processing: 47 / 63\n",
      "set features: 11\n"
     ]
    },
    {
     "name": "stderr",
     "output_type": "stream",
     "text": [
      "100%|██████████| 200/200 [00:20<00:00,  9.71it/s]\n",
      "  1%|          | 2/200 [00:00<00:15, 12.77it/s]"
     ]
    },
    {
     "name": "stdout",
     "output_type": "stream",
     "text": [
      "Accuray of <class 'core.models.MLP.MLPClassifier'>: 0.9925\n",
      "Feature 6 / 12; Processing: 48 / 63\n",
      "set features: 11\n"
     ]
    },
    {
     "name": "stderr",
     "output_type": "stream",
     "text": [
      "100%|██████████| 200/200 [00:20<00:00,  9.54it/s]\n",
      "  0%|          | 0/200 [00:00<?, ?it/s]"
     ]
    },
    {
     "name": "stdout",
     "output_type": "stream",
     "text": [
      "Accuray of <class 'core.models.MLP.MLPClassifier'>: 1.0\n",
      "Feature 6 / 12; Processing: 49 / 63\n",
      "set features: 11\n"
     ]
    },
    {
     "name": "stderr",
     "output_type": "stream",
     "text": [
      "100%|██████████| 200/200 [00:21<00:00,  9.43it/s]\n",
      "  0%|          | 1/200 [00:00<00:23,  8.29it/s]"
     ]
    },
    {
     "name": "stdout",
     "output_type": "stream",
     "text": [
      "Accuray of <class 'core.models.MLP.MLPClassifier'>: 0.9875\n",
      "Feature 6 / 12; Processing: 50 / 63\n",
      "set features: 11\n"
     ]
    },
    {
     "name": "stderr",
     "output_type": "stream",
     "text": [
      "100%|██████████| 200/200 [00:20<00:00,  9.54it/s]\n",
      "  0%|          | 0/200 [00:00<?, ?it/s]"
     ]
    },
    {
     "name": "stdout",
     "output_type": "stream",
     "text": [
      "Accuray of <class 'core.models.MLP.MLPClassifier'>: 0.9875\n",
      "Feature 6 / 12; Processing: 51 / 63\n",
      "set features: 11\n"
     ]
    },
    {
     "name": "stderr",
     "output_type": "stream",
     "text": [
      "100%|██████████| 200/200 [00:20<00:00,  9.59it/s]\n",
      "  0%|          | 1/200 [00:00<00:20,  9.62it/s]"
     ]
    },
    {
     "name": "stdout",
     "output_type": "stream",
     "text": [
      "Accuray of <class 'core.models.MLP.MLPClassifier'>: 0.9975\n",
      "Feature 6 / 12; Processing: 52 / 63\n",
      "set features: 11\n"
     ]
    },
    {
     "name": "stderr",
     "output_type": "stream",
     "text": [
      "100%|██████████| 200/200 [00:21<00:00,  9.44it/s]\n",
      "  0%|          | 1/200 [00:00<00:20,  9.76it/s]"
     ]
    },
    {
     "name": "stdout",
     "output_type": "stream",
     "text": [
      "Accuray of <class 'core.models.MLP.MLPClassifier'>: 1.0\n",
      "Feature 6 / 12; Processing: 53 / 63\n",
      "set features: 11\n"
     ]
    },
    {
     "name": "stderr",
     "output_type": "stream",
     "text": [
      "100%|██████████| 200/200 [00:20<00:00,  9.78it/s]\n",
      "  1%|          | 2/200 [00:00<00:16, 12.32it/s]"
     ]
    },
    {
     "name": "stdout",
     "output_type": "stream",
     "text": [
      "Accuray of <class 'core.models.MLP.MLPClassifier'>: 0.9725\n",
      "Feature 6 / 12; Processing: 54 / 63\n",
      "set features: 11\n"
     ]
    },
    {
     "name": "stderr",
     "output_type": "stream",
     "text": [
      "100%|██████████| 200/200 [00:19<00:00, 10.19it/s]\n",
      "  0%|          | 1/200 [00:00<00:26,  7.60it/s]"
     ]
    },
    {
     "name": "stdout",
     "output_type": "stream",
     "text": [
      "Accuray of <class 'core.models.MLP.MLPClassifier'>: 0.9875\n",
      "Feature 6 / 12; Processing: 55 / 63\n",
      "set features: 11\n"
     ]
    },
    {
     "name": "stderr",
     "output_type": "stream",
     "text": [
      "100%|██████████| 200/200 [00:20<00:00,  9.82it/s]\n",
      "  0%|          | 0/200 [00:00<?, ?it/s]"
     ]
    },
    {
     "name": "stdout",
     "output_type": "stream",
     "text": [
      "Accuray of <class 'core.models.MLP.MLPClassifier'>: 0.98\n",
      "Feature 6 / 12; Processing: 56 / 63\n",
      "set features: 11\n"
     ]
    },
    {
     "name": "stderr",
     "output_type": "stream",
     "text": [
      "100%|██████████| 200/200 [00:19<00:00, 10.20it/s]\n",
      "  0%|          | 0/200 [00:00<?, ?it/s]"
     ]
    },
    {
     "name": "stdout",
     "output_type": "stream",
     "text": [
      "Accuray of <class 'core.models.MLP.MLPClassifier'>: 0.9825\n",
      "Feature 6 / 12; Processing: 57 / 63\n",
      "set features: 11\n"
     ]
    },
    {
     "name": "stderr",
     "output_type": "stream",
     "text": [
      "100%|██████████| 200/200 [00:20<00:00,  9.70it/s]\n",
      "  0%|          | 0/200 [00:00<?, ?it/s]"
     ]
    },
    {
     "name": "stdout",
     "output_type": "stream",
     "text": [
      "Accuray of <class 'core.models.MLP.MLPClassifier'>: 0.9825\n",
      "Feature 6 / 12; Processing: 58 / 63\n",
      "set features: 11\n"
     ]
    },
    {
     "name": "stderr",
     "output_type": "stream",
     "text": [
      "100%|██████████| 200/200 [00:19<00:00, 10.20it/s]\n",
      "  0%|          | 0/200 [00:00<?, ?it/s]"
     ]
    },
    {
     "name": "stdout",
     "output_type": "stream",
     "text": [
      "Accuray of <class 'core.models.MLP.MLPClassifier'>: 0.995\n",
      "Feature 6 / 12; Processing: 59 / 63\n",
      "set features: 11\n"
     ]
    },
    {
     "name": "stderr",
     "output_type": "stream",
     "text": [
      "100%|██████████| 200/200 [00:18<00:00, 10.64it/s]\n",
      "  0%|          | 0/200 [00:00<?, ?it/s]"
     ]
    },
    {
     "name": "stdout",
     "output_type": "stream",
     "text": [
      "Accuray of <class 'core.models.MLP.MLPClassifier'>: 0.995\n",
      "Feature 6 / 12; Processing: 60 / 63\n",
      "set features: 11\n"
     ]
    },
    {
     "name": "stderr",
     "output_type": "stream",
     "text": [
      "100%|██████████| 200/200 [00:19<00:00, 10.25it/s]\n",
      "  0%|          | 0/200 [00:00<?, ?it/s]"
     ]
    },
    {
     "name": "stdout",
     "output_type": "stream",
     "text": [
      "Accuray of <class 'core.models.MLP.MLPClassifier'>: 0.995\n",
      "Feature 6 / 12; Processing: 61 / 63\n",
      "set features: 11\n"
     ]
    },
    {
     "name": "stderr",
     "output_type": "stream",
     "text": [
      "100%|██████████| 200/200 [00:21<00:00,  9.27it/s]\n",
      "  0%|          | 1/200 [00:00<00:25,  7.66it/s]"
     ]
    },
    {
     "name": "stdout",
     "output_type": "stream",
     "text": [
      "Accuray of <class 'core.models.MLP.MLPClassifier'>: 0.99\n",
      "Feature 6 / 12; Processing: 62 / 63\n",
      "set features: 11\n"
     ]
    },
    {
     "name": "stderr",
     "output_type": "stream",
     "text": [
      "100%|██████████| 200/200 [00:20<00:00,  9.95it/s]\n",
      "  0%|          | 0/200 [00:00<?, ?it/s]"
     ]
    },
    {
     "name": "stdout",
     "output_type": "stream",
     "text": [
      "Accuray of <class 'core.models.MLP.MLPClassifier'>: 0.99\n",
      "remove feature left_indexed: after remove length: 11\n",
      "Feature 7 / 12; Processing: 0 / 63\n",
      "set features: 11\n"
     ]
    },
    {
     "name": "stderr",
     "output_type": "stream",
     "text": [
      "100%|██████████| 200/200 [00:20<00:00,  9.91it/s]\n",
      "  0%|          | 1/200 [00:00<00:27,  7.18it/s]"
     ]
    },
    {
     "name": "stdout",
     "output_type": "stream",
     "text": [
      "Accuray of <class 'core.models.MLP.MLPClassifier'>: 0.995\n",
      "Feature 7 / 12; Processing: 1 / 63\n",
      "set features: 11\n"
     ]
    },
    {
     "name": "stderr",
     "output_type": "stream",
     "text": [
      "100%|██████████| 200/200 [00:20<00:00,  9.59it/s]\n",
      "  0%|          | 1/200 [00:00<00:26,  7.58it/s]"
     ]
    },
    {
     "name": "stdout",
     "output_type": "stream",
     "text": [
      "Accuray of <class 'core.models.MLP.MLPClassifier'>: 1.0\n",
      "Feature 7 / 12; Processing: 2 / 63\n",
      "set features: 11\n"
     ]
    },
    {
     "name": "stderr",
     "output_type": "stream",
     "text": [
      "100%|██████████| 200/200 [00:21<00:00,  9.49it/s]\n",
      "  0%|          | 1/200 [00:00<00:23,  8.37it/s]"
     ]
    },
    {
     "name": "stdout",
     "output_type": "stream",
     "text": [
      "Accuray of <class 'core.models.MLP.MLPClassifier'>: 0.985\n",
      "Feature 7 / 12; Processing: 3 / 63\n",
      "set features: 11\n"
     ]
    },
    {
     "name": "stderr",
     "output_type": "stream",
     "text": [
      "100%|██████████| 200/200 [00:18<00:00, 10.63it/s]\n",
      "  0%|          | 1/200 [00:00<00:21,  9.35it/s]"
     ]
    },
    {
     "name": "stdout",
     "output_type": "stream",
     "text": [
      "Accuray of <class 'core.models.MLP.MLPClassifier'>: 1.0\n",
      "Feature 7 / 12; Processing: 4 / 63\n",
      "set features: 11\n"
     ]
    },
    {
     "name": "stderr",
     "output_type": "stream",
     "text": [
      "100%|██████████| 200/200 [00:20<00:00,  9.55it/s]\n",
      "  0%|          | 0/200 [00:00<?, ?it/s]"
     ]
    },
    {
     "name": "stdout",
     "output_type": "stream",
     "text": [
      "Accuray of <class 'core.models.MLP.MLPClassifier'>: 0.9625\n",
      "Feature 7 / 12; Processing: 5 / 63\n",
      "set features: 11\n"
     ]
    },
    {
     "name": "stderr",
     "output_type": "stream",
     "text": [
      "100%|██████████| 200/200 [00:23<00:00,  8.62it/s]\n",
      "  0%|          | 1/200 [00:00<00:20,  9.76it/s]"
     ]
    },
    {
     "name": "stdout",
     "output_type": "stream",
     "text": [
      "Accuray of <class 'core.models.MLP.MLPClassifier'>: 0.9725\n",
      "Feature 7 / 12; Processing: 6 / 63\n",
      "set features: 11\n"
     ]
    },
    {
     "name": "stderr",
     "output_type": "stream",
     "text": [
      "100%|██████████| 200/200 [00:20<00:00,  9.66it/s]\n",
      "  0%|          | 0/200 [00:00<?, ?it/s]"
     ]
    },
    {
     "name": "stdout",
     "output_type": "stream",
     "text": [
      "Accuray of <class 'core.models.MLP.MLPClassifier'>: 0.995\n",
      "Feature 7 / 12; Processing: 7 / 63\n",
      "set features: 11\n"
     ]
    },
    {
     "name": "stderr",
     "output_type": "stream",
     "text": [
      "100%|██████████| 200/200 [00:21<00:00,  9.37it/s]\n",
      "  0%|          | 0/200 [00:00<?, ?it/s]"
     ]
    },
    {
     "name": "stdout",
     "output_type": "stream",
     "text": [
      "Accuray of <class 'core.models.MLP.MLPClassifier'>: 0.995\n",
      "Feature 7 / 12; Processing: 8 / 63\n",
      "set features: 11\n"
     ]
    },
    {
     "name": "stderr",
     "output_type": "stream",
     "text": [
      "100%|██████████| 200/200 [00:19<00:00, 10.00it/s]\n",
      "  0%|          | 0/200 [00:00<?, ?it/s]"
     ]
    },
    {
     "name": "stdout",
     "output_type": "stream",
     "text": [
      "Accuray of <class 'core.models.MLP.MLPClassifier'>: 0.9825\n",
      "Feature 7 / 12; Processing: 9 / 63\n",
      "set features: 11\n"
     ]
    },
    {
     "name": "stderr",
     "output_type": "stream",
     "text": [
      "100%|██████████| 200/200 [00:18<00:00, 10.56it/s]\n",
      "  0%|          | 0/200 [00:00<?, ?it/s]"
     ]
    },
    {
     "name": "stdout",
     "output_type": "stream",
     "text": [
      "Accuray of <class 'core.models.MLP.MLPClassifier'>: 0.96\n",
      "Feature 7 / 12; Processing: 10 / 63\n",
      "set features: 11\n"
     ]
    },
    {
     "name": "stderr",
     "output_type": "stream",
     "text": [
      "100%|██████████| 200/200 [00:20<00:00,  9.83it/s]\n",
      "  0%|          | 1/200 [00:00<00:22,  8.94it/s]"
     ]
    },
    {
     "name": "stdout",
     "output_type": "stream",
     "text": [
      "Accuray of <class 'core.models.MLP.MLPClassifier'>: 0.98\n",
      "Feature 7 / 12; Processing: 11 / 63\n",
      "set features: 11\n"
     ]
    },
    {
     "name": "stderr",
     "output_type": "stream",
     "text": [
      "100%|██████████| 200/200 [00:21<00:00,  9.42it/s]\n",
      "  0%|          | 1/200 [00:00<00:20,  9.92it/s]"
     ]
    },
    {
     "name": "stdout",
     "output_type": "stream",
     "text": [
      "Accuray of <class 'core.models.MLP.MLPClassifier'>: 0.995\n",
      "Feature 7 / 12; Processing: 12 / 63\n",
      "set features: 11\n"
     ]
    },
    {
     "name": "stderr",
     "output_type": "stream",
     "text": [
      "100%|██████████| 200/200 [00:20<00:00,  9.62it/s]\n",
      "  1%|          | 2/200 [00:00<00:15, 12.52it/s]"
     ]
    },
    {
     "name": "stdout",
     "output_type": "stream",
     "text": [
      "Accuray of <class 'core.models.MLP.MLPClassifier'>: 0.995\n",
      "Feature 7 / 12; Processing: 13 / 63\n",
      "set features: 11\n"
     ]
    },
    {
     "name": "stderr",
     "output_type": "stream",
     "text": [
      "100%|██████████| 200/200 [00:21<00:00,  9.14it/s]\n",
      "  0%|          | 0/200 [00:00<?, ?it/s]"
     ]
    },
    {
     "name": "stdout",
     "output_type": "stream",
     "text": [
      "Accuray of <class 'core.models.MLP.MLPClassifier'>: 1.0\n",
      "Feature 7 / 12; Processing: 14 / 63\n",
      "set features: 11\n"
     ]
    },
    {
     "name": "stderr",
     "output_type": "stream",
     "text": [
      "100%|██████████| 200/200 [00:21<00:00,  9.33it/s]\n",
      "  0%|          | 0/200 [00:00<?, ?it/s]"
     ]
    },
    {
     "name": "stdout",
     "output_type": "stream",
     "text": [
      "Accuray of <class 'core.models.MLP.MLPClassifier'>: 1.0\n",
      "Feature 7 / 12; Processing: 15 / 63\n",
      "set features: 11\n"
     ]
    },
    {
     "name": "stderr",
     "output_type": "stream",
     "text": [
      "100%|██████████| 200/200 [00:19<00:00, 10.29it/s]\n",
      "  0%|          | 0/200 [00:00<?, ?it/s]"
     ]
    },
    {
     "name": "stdout",
     "output_type": "stream",
     "text": [
      "Accuray of <class 'core.models.MLP.MLPClassifier'>: 0.975\n",
      "Feature 7 / 12; Processing: 16 / 63\n",
      "set features: 11\n"
     ]
    },
    {
     "name": "stderr",
     "output_type": "stream",
     "text": [
      "100%|██████████| 200/200 [00:19<00:00, 10.33it/s]\n",
      "  0%|          | 0/200 [00:00<?, ?it/s]"
     ]
    },
    {
     "name": "stdout",
     "output_type": "stream",
     "text": [
      "Accuray of <class 'core.models.MLP.MLPClassifier'>: 1.0\n",
      "Feature 7 / 12; Processing: 17 / 63\n",
      "set features: 11\n"
     ]
    },
    {
     "name": "stderr",
     "output_type": "stream",
     "text": [
      "100%|██████████| 200/200 [00:19<00:00, 10.08it/s]\n",
      "  1%|          | 2/200 [00:00<00:16, 12.14it/s]"
     ]
    },
    {
     "name": "stdout",
     "output_type": "stream",
     "text": [
      "Accuray of <class 'core.models.MLP.MLPClassifier'>: 0.9775\n",
      "Feature 7 / 12; Processing: 18 / 63\n",
      "set features: 11\n"
     ]
    },
    {
     "name": "stderr",
     "output_type": "stream",
     "text": [
      "100%|██████████| 200/200 [00:19<00:00, 10.18it/s]\n",
      "  1%|          | 2/200 [00:00<00:15, 12.53it/s]"
     ]
    },
    {
     "name": "stdout",
     "output_type": "stream",
     "text": [
      "Accuray of <class 'core.models.MLP.MLPClassifier'>: 1.0\n",
      "Feature 7 / 12; Processing: 19 / 63\n",
      "set features: 11\n"
     ]
    },
    {
     "name": "stderr",
     "output_type": "stream",
     "text": [
      "100%|██████████| 200/200 [00:20<00:00,  9.77it/s]\n",
      "  0%|          | 0/200 [00:00<?, ?it/s]"
     ]
    },
    {
     "name": "stdout",
     "output_type": "stream",
     "text": [
      "Accuray of <class 'core.models.MLP.MLPClassifier'>: 0.99\n",
      "Feature 7 / 12; Processing: 20 / 63\n",
      "set features: 11\n"
     ]
    },
    {
     "name": "stderr",
     "output_type": "stream",
     "text": [
      "100%|██████████| 200/200 [00:20<00:00,  9.60it/s]\n",
      "  0%|          | 0/200 [00:00<?, ?it/s]"
     ]
    },
    {
     "name": "stdout",
     "output_type": "stream",
     "text": [
      "Accuray of <class 'core.models.MLP.MLPClassifier'>: 0.995\n",
      "Feature 7 / 12; Processing: 21 / 63\n",
      "set features: 11\n"
     ]
    },
    {
     "name": "stderr",
     "output_type": "stream",
     "text": [
      "100%|██████████| 200/200 [00:21<00:00,  9.32it/s]\n",
      "  1%|          | 2/200 [00:00<00:14, 13.87it/s]"
     ]
    },
    {
     "name": "stdout",
     "output_type": "stream",
     "text": [
      "Accuray of <class 'core.models.MLP.MLPClassifier'>: 0.99\n",
      "Feature 7 / 12; Processing: 22 / 63\n",
      "set features: 11\n"
     ]
    },
    {
     "name": "stderr",
     "output_type": "stream",
     "text": [
      "100%|██████████| 200/200 [00:17<00:00, 11.23it/s]\n",
      "  1%|          | 2/200 [00:00<00:15, 13.13it/s]"
     ]
    },
    {
     "name": "stdout",
     "output_type": "stream",
     "text": [
      "Accuray of <class 'core.models.MLP.MLPClassifier'>: 1.0\n",
      "Feature 7 / 12; Processing: 23 / 63\n",
      "set features: 11\n"
     ]
    },
    {
     "name": "stderr",
     "output_type": "stream",
     "text": [
      "100%|██████████| 200/200 [00:17<00:00, 11.20it/s]\n",
      "  1%|          | 2/200 [00:00<00:16, 12.19it/s]"
     ]
    },
    {
     "name": "stdout",
     "output_type": "stream",
     "text": [
      "Accuray of <class 'core.models.MLP.MLPClassifier'>: 0.9925\n",
      "Feature 7 / 12; Processing: 24 / 63\n",
      "set features: 11\n"
     ]
    },
    {
     "name": "stderr",
     "output_type": "stream",
     "text": [
      "100%|██████████| 200/200 [00:20<00:00,  9.91it/s]\n",
      "  0%|          | 1/200 [00:00<00:28,  6.94it/s]"
     ]
    },
    {
     "name": "stdout",
     "output_type": "stream",
     "text": [
      "Accuray of <class 'core.models.MLP.MLPClassifier'>: 0.965\n",
      "Feature 7 / 12; Processing: 25 / 63\n",
      "set features: 11\n"
     ]
    },
    {
     "name": "stderr",
     "output_type": "stream",
     "text": [
      "100%|██████████| 200/200 [00:19<00:00, 10.30it/s]\n",
      "  0%|          | 0/200 [00:00<?, ?it/s]"
     ]
    },
    {
     "name": "stdout",
     "output_type": "stream",
     "text": [
      "Accuray of <class 'core.models.MLP.MLPClassifier'>: 0.995\n",
      "Feature 7 / 12; Processing: 26 / 63\n",
      "set features: 11\n"
     ]
    },
    {
     "name": "stderr",
     "output_type": "stream",
     "text": [
      "100%|██████████| 200/200 [00:22<00:00,  9.06it/s]\n",
      "  1%|          | 2/200 [00:00<00:16, 12.35it/s]"
     ]
    },
    {
     "name": "stdout",
     "output_type": "stream",
     "text": [
      "Accuray of <class 'core.models.MLP.MLPClassifier'>: 0.9925\n",
      "Feature 7 / 12; Processing: 27 / 63\n",
      "set features: 11\n"
     ]
    },
    {
     "name": "stderr",
     "output_type": "stream",
     "text": [
      "100%|██████████| 200/200 [00:21<00:00,  9.49it/s]\n",
      "  0%|          | 0/200 [00:00<?, ?it/s]"
     ]
    },
    {
     "name": "stdout",
     "output_type": "stream",
     "text": [
      "Accuray of <class 'core.models.MLP.MLPClassifier'>: 0.9925\n",
      "Feature 7 / 12; Processing: 28 / 63\n",
      "set features: 11\n"
     ]
    },
    {
     "name": "stderr",
     "output_type": "stream",
     "text": [
      "100%|██████████| 200/200 [00:19<00:00, 10.36it/s]\n",
      "  0%|          | 0/200 [00:00<?, ?it/s]"
     ]
    },
    {
     "name": "stdout",
     "output_type": "stream",
     "text": [
      "Accuray of <class 'core.models.MLP.MLPClassifier'>: 0.99\n",
      "Feature 7 / 12; Processing: 29 / 63\n",
      "set features: 11\n"
     ]
    },
    {
     "name": "stderr",
     "output_type": "stream",
     "text": [
      "100%|██████████| 200/200 [00:20<00:00,  9.60it/s]\n",
      "  1%|          | 2/200 [00:00<00:14, 13.28it/s]"
     ]
    },
    {
     "name": "stdout",
     "output_type": "stream",
     "text": [
      "Accuray of <class 'core.models.MLP.MLPClassifier'>: 0.99\n",
      "Feature 7 / 12; Processing: 30 / 63\n",
      "set features: 11\n"
     ]
    },
    {
     "name": "stderr",
     "output_type": "stream",
     "text": [
      "100%|██████████| 200/200 [00:20<00:00,  9.68it/s]\n",
      "  0%|          | 0/200 [00:00<?, ?it/s]"
     ]
    },
    {
     "name": "stdout",
     "output_type": "stream",
     "text": [
      "Accuray of <class 'core.models.MLP.MLPClassifier'>: 0.995\n",
      "Feature 7 / 12; Processing: 31 / 63\n",
      "set features: 11\n"
     ]
    },
    {
     "name": "stderr",
     "output_type": "stream",
     "text": [
      "100%|██████████| 200/200 [00:21<00:00,  9.23it/s]\n",
      "  0%|          | 1/200 [00:00<00:23,  8.52it/s]"
     ]
    },
    {
     "name": "stdout",
     "output_type": "stream",
     "text": [
      "Accuray of <class 'core.models.MLP.MLPClassifier'>: 0.975\n",
      "Feature 7 / 12; Processing: 32 / 63\n",
      "set features: 11\n"
     ]
    },
    {
     "name": "stderr",
     "output_type": "stream",
     "text": [
      "100%|██████████| 200/200 [00:19<00:00, 10.05it/s]\n",
      "  0%|          | 0/200 [00:00<?, ?it/s]"
     ]
    },
    {
     "name": "stdout",
     "output_type": "stream",
     "text": [
      "Accuray of <class 'core.models.MLP.MLPClassifier'>: 0.99\n",
      "Feature 7 / 12; Processing: 33 / 63\n",
      "set features: 11\n"
     ]
    },
    {
     "name": "stderr",
     "output_type": "stream",
     "text": [
      "100%|██████████| 200/200 [00:19<00:00, 10.04it/s]\n",
      "  0%|          | 0/200 [00:00<?, ?it/s]"
     ]
    },
    {
     "name": "stdout",
     "output_type": "stream",
     "text": [
      "Accuray of <class 'core.models.MLP.MLPClassifier'>: 1.0\n",
      "Feature 7 / 12; Processing: 34 / 63\n",
      "set features: 11\n"
     ]
    },
    {
     "name": "stderr",
     "output_type": "stream",
     "text": [
      "100%|██████████| 200/200 [00:20<00:00,  9.94it/s]\n",
      "  1%|          | 2/200 [00:00<00:14, 13.85it/s]"
     ]
    },
    {
     "name": "stdout",
     "output_type": "stream",
     "text": [
      "Accuray of <class 'core.models.MLP.MLPClassifier'>: 0.985\n",
      "Feature 7 / 12; Processing: 35 / 63\n",
      "set features: 11\n"
     ]
    },
    {
     "name": "stderr",
     "output_type": "stream",
     "text": [
      "100%|██████████| 200/200 [00:21<00:00,  9.33it/s]\n",
      "  0%|          | 0/200 [00:00<?, ?it/s]"
     ]
    },
    {
     "name": "stdout",
     "output_type": "stream",
     "text": [
      "Accuray of <class 'core.models.MLP.MLPClassifier'>: 0.9975\n",
      "Feature 7 / 12; Processing: 36 / 63\n",
      "set features: 11\n"
     ]
    },
    {
     "name": "stderr",
     "output_type": "stream",
     "text": [
      "100%|██████████| 200/200 [00:20<00:00,  9.71it/s]\n",
      "  1%|          | 2/200 [00:00<00:14, 13.37it/s]"
     ]
    },
    {
     "name": "stdout",
     "output_type": "stream",
     "text": [
      "Accuray of <class 'core.models.MLP.MLPClassifier'>: 0.9875\n",
      "Feature 7 / 12; Processing: 37 / 63\n",
      "set features: 11\n"
     ]
    },
    {
     "name": "stderr",
     "output_type": "stream",
     "text": [
      "100%|██████████| 200/200 [00:19<00:00, 10.44it/s]\n",
      "  0%|          | 0/200 [00:00<?, ?it/s]"
     ]
    },
    {
     "name": "stdout",
     "output_type": "stream",
     "text": [
      "Accuray of <class 'core.models.MLP.MLPClassifier'>: 1.0\n",
      "Feature 7 / 12; Processing: 38 / 63\n",
      "set features: 11\n"
     ]
    },
    {
     "name": "stderr",
     "output_type": "stream",
     "text": [
      "100%|██████████| 200/200 [00:20<00:00,  9.66it/s]\n",
      "  0%|          | 1/200 [00:00<00:25,  7.93it/s]"
     ]
    },
    {
     "name": "stdout",
     "output_type": "stream",
     "text": [
      "Accuray of <class 'core.models.MLP.MLPClassifier'>: 0.965\n",
      "Feature 7 / 12; Processing: 39 / 63\n",
      "set features: 11\n"
     ]
    },
    {
     "name": "stderr",
     "output_type": "stream",
     "text": [
      "100%|██████████| 200/200 [00:20<00:00,  9.99it/s]\n",
      "  0%|          | 1/200 [00:00<00:28,  6.93it/s]"
     ]
    },
    {
     "name": "stdout",
     "output_type": "stream",
     "text": [
      "Accuray of <class 'core.models.MLP.MLPClassifier'>: 0.955\n",
      "Feature 7 / 12; Processing: 40 / 63\n",
      "set features: 11\n"
     ]
    },
    {
     "name": "stderr",
     "output_type": "stream",
     "text": [
      "100%|██████████| 200/200 [00:19<00:00, 10.41it/s]\n",
      "  1%|          | 2/200 [00:00<00:13, 14.83it/s]"
     ]
    },
    {
     "name": "stdout",
     "output_type": "stream",
     "text": [
      "Accuray of <class 'core.models.MLP.MLPClassifier'>: 1.0\n",
      "Feature 7 / 12; Processing: 41 / 63\n",
      "set features: 11\n"
     ]
    },
    {
     "name": "stderr",
     "output_type": "stream",
     "text": [
      "100%|██████████| 200/200 [00:20<00:00,  9.59it/s]\n",
      "  0%|          | 0/200 [00:00<?, ?it/s]"
     ]
    },
    {
     "name": "stdout",
     "output_type": "stream",
     "text": [
      "Accuray of <class 'core.models.MLP.MLPClassifier'>: 0.9925\n",
      "Feature 7 / 12; Processing: 42 / 63\n",
      "set features: 11\n"
     ]
    },
    {
     "name": "stderr",
     "output_type": "stream",
     "text": [
      "100%|██████████| 200/200 [00:19<00:00, 10.16it/s]\n",
      "  0%|          | 0/200 [00:00<?, ?it/s]"
     ]
    },
    {
     "name": "stdout",
     "output_type": "stream",
     "text": [
      "Accuray of <class 'core.models.MLP.MLPClassifier'>: 0.995\n",
      "Feature 7 / 12; Processing: 43 / 63\n",
      "set features: 11\n"
     ]
    },
    {
     "name": "stderr",
     "output_type": "stream",
     "text": [
      "100%|██████████| 200/200 [00:18<00:00, 10.64it/s]\n",
      "  1%|          | 2/200 [00:00<00:16, 11.67it/s]"
     ]
    },
    {
     "name": "stdout",
     "output_type": "stream",
     "text": [
      "Accuray of <class 'core.models.MLP.MLPClassifier'>: 0.995\n",
      "Feature 7 / 12; Processing: 44 / 63\n",
      "set features: 11\n"
     ]
    },
    {
     "name": "stderr",
     "output_type": "stream",
     "text": [
      "100%|██████████| 200/200 [00:20<00:00,  9.69it/s]\n",
      "  1%|          | 2/200 [00:00<00:16, 12.29it/s]"
     ]
    },
    {
     "name": "stdout",
     "output_type": "stream",
     "text": [
      "Accuray of <class 'core.models.MLP.MLPClassifier'>: 1.0\n",
      "Feature 7 / 12; Processing: 45 / 63\n",
      "set features: 11\n"
     ]
    },
    {
     "name": "stderr",
     "output_type": "stream",
     "text": [
      "100%|██████████| 200/200 [00:19<00:00, 10.09it/s]\n",
      "  0%|          | 1/200 [00:00<00:23,  8.42it/s]"
     ]
    },
    {
     "name": "stdout",
     "output_type": "stream",
     "text": [
      "Accuray of <class 'core.models.MLP.MLPClassifier'>: 0.9875\n",
      "Feature 7 / 12; Processing: 46 / 63\n",
      "set features: 11\n"
     ]
    },
    {
     "name": "stderr",
     "output_type": "stream",
     "text": [
      "100%|██████████| 200/200 [00:19<00:00, 10.11it/s]\n",
      "  0%|          | 0/200 [00:00<?, ?it/s]"
     ]
    },
    {
     "name": "stdout",
     "output_type": "stream",
     "text": [
      "Accuray of <class 'core.models.MLP.MLPClassifier'>: 0.9875\n",
      "Feature 7 / 12; Processing: 47 / 63\n",
      "set features: 11\n"
     ]
    },
    {
     "name": "stderr",
     "output_type": "stream",
     "text": [
      "100%|██████████| 200/200 [00:20<00:00,  9.76it/s]\n",
      "  0%|          | 1/200 [00:00<00:26,  7.42it/s]"
     ]
    },
    {
     "name": "stdout",
     "output_type": "stream",
     "text": [
      "Accuray of <class 'core.models.MLP.MLPClassifier'>: 0.9875\n",
      "Feature 7 / 12; Processing: 48 / 63\n",
      "set features: 11\n"
     ]
    },
    {
     "name": "stderr",
     "output_type": "stream",
     "text": [
      "100%|██████████| 200/200 [00:19<00:00, 10.11it/s]\n",
      "  1%|          | 2/200 [00:00<00:14, 13.78it/s]"
     ]
    },
    {
     "name": "stdout",
     "output_type": "stream",
     "text": [
      "Accuray of <class 'core.models.MLP.MLPClassifier'>: 1.0\n",
      "Feature 7 / 12; Processing: 49 / 63\n",
      "set features: 11\n"
     ]
    },
    {
     "name": "stderr",
     "output_type": "stream",
     "text": [
      "100%|██████████| 200/200 [00:20<00:00,  9.65it/s]\n",
      "  0%|          | 0/200 [00:00<?, ?it/s]"
     ]
    },
    {
     "name": "stdout",
     "output_type": "stream",
     "text": [
      "Accuray of <class 'core.models.MLP.MLPClassifier'>: 0.99\n",
      "Feature 7 / 12; Processing: 50 / 63\n",
      "set features: 11\n"
     ]
    },
    {
     "name": "stderr",
     "output_type": "stream",
     "text": [
      "100%|██████████| 200/200 [00:18<00:00, 10.58it/s]\n",
      "  0%|          | 1/200 [00:00<00:24,  8.13it/s]"
     ]
    },
    {
     "name": "stdout",
     "output_type": "stream",
     "text": [
      "Accuray of <class 'core.models.MLP.MLPClassifier'>: 0.995\n",
      "Feature 7 / 12; Processing: 51 / 63\n",
      "set features: 11\n"
     ]
    },
    {
     "name": "stderr",
     "output_type": "stream",
     "text": [
      "100%|██████████| 200/200 [00:20<00:00,  9.67it/s]\n",
      "  0%|          | 0/200 [00:00<?, ?it/s]"
     ]
    },
    {
     "name": "stdout",
     "output_type": "stream",
     "text": [
      "Accuray of <class 'core.models.MLP.MLPClassifier'>: 0.9975\n",
      "Feature 7 / 12; Processing: 52 / 63\n",
      "set features: 11\n"
     ]
    },
    {
     "name": "stderr",
     "output_type": "stream",
     "text": [
      "100%|██████████| 200/200 [00:20<00:00,  9.78it/s]\n",
      "  0%|          | 1/200 [00:00<00:21,  9.34it/s]"
     ]
    },
    {
     "name": "stdout",
     "output_type": "stream",
     "text": [
      "Accuray of <class 'core.models.MLP.MLPClassifier'>: 1.0\n",
      "Feature 7 / 12; Processing: 53 / 63\n",
      "set features: 11\n"
     ]
    },
    {
     "name": "stderr",
     "output_type": "stream",
     "text": [
      "100%|██████████| 200/200 [00:20<00:00,  9.89it/s]\n",
      "  0%|          | 1/200 [00:00<00:24,  7.98it/s]"
     ]
    },
    {
     "name": "stdout",
     "output_type": "stream",
     "text": [
      "Accuray of <class 'core.models.MLP.MLPClassifier'>: 0.9825\n",
      "Feature 7 / 12; Processing: 54 / 63\n",
      "set features: 11\n"
     ]
    },
    {
     "name": "stderr",
     "output_type": "stream",
     "text": [
      "100%|██████████| 200/200 [00:21<00:00,  9.33it/s]\n",
      "  0%|          | 0/200 [00:00<?, ?it/s]"
     ]
    },
    {
     "name": "stdout",
     "output_type": "stream",
     "text": [
      "Accuray of <class 'core.models.MLP.MLPClassifier'>: 0.96\n",
      "Feature 7 / 12; Processing: 55 / 63\n",
      "set features: 11\n"
     ]
    },
    {
     "name": "stderr",
     "output_type": "stream",
     "text": [
      "100%|██████████| 200/200 [00:20<00:00,  9.85it/s]\n",
      "  0%|          | 0/200 [00:00<?, ?it/s]"
     ]
    },
    {
     "name": "stdout",
     "output_type": "stream",
     "text": [
      "Accuray of <class 'core.models.MLP.MLPClassifier'>: 0.9725\n",
      "Feature 7 / 12; Processing: 56 / 63\n",
      "set features: 11\n"
     ]
    },
    {
     "name": "stderr",
     "output_type": "stream",
     "text": [
      "100%|██████████| 200/200 [00:23<00:00,  8.68it/s]\n",
      "  0%|          | 0/200 [00:00<?, ?it/s]"
     ]
    },
    {
     "name": "stdout",
     "output_type": "stream",
     "text": [
      "Accuray of <class 'core.models.MLP.MLPClassifier'>: 0.985\n",
      "Feature 7 / 12; Processing: 57 / 63\n",
      "set features: 11\n"
     ]
    },
    {
     "name": "stderr",
     "output_type": "stream",
     "text": [
      "100%|██████████| 200/200 [00:20<00:00,  9.63it/s]\n",
      "  0%|          | 1/200 [00:00<00:25,  7.72it/s]"
     ]
    },
    {
     "name": "stdout",
     "output_type": "stream",
     "text": [
      "Accuray of <class 'core.models.MLP.MLPClassifier'>: 0.96\n",
      "Feature 7 / 12; Processing: 58 / 63\n",
      "set features: 11\n"
     ]
    },
    {
     "name": "stderr",
     "output_type": "stream",
     "text": [
      "100%|██████████| 200/200 [00:19<00:00, 10.40it/s]\n",
      "  0%|          | 0/200 [00:00<?, ?it/s]"
     ]
    },
    {
     "name": "stdout",
     "output_type": "stream",
     "text": [
      "Accuray of <class 'core.models.MLP.MLPClassifier'>: 0.995\n",
      "Feature 7 / 12; Processing: 59 / 63\n",
      "set features: 11\n"
     ]
    },
    {
     "name": "stderr",
     "output_type": "stream",
     "text": [
      "100%|██████████| 200/200 [00:22<00:00,  9.04it/s]\n",
      "  0%|          | 1/200 [00:00<00:26,  7.58it/s]"
     ]
    },
    {
     "name": "stdout",
     "output_type": "stream",
     "text": [
      "Accuray of <class 'core.models.MLP.MLPClassifier'>: 0.995\n",
      "Feature 7 / 12; Processing: 60 / 63\n",
      "set features: 11\n"
     ]
    },
    {
     "name": "stderr",
     "output_type": "stream",
     "text": [
      "100%|██████████| 200/200 [00:20<00:00,  9.94it/s]\n",
      "  0%|          | 0/200 [00:00<?, ?it/s]"
     ]
    },
    {
     "name": "stdout",
     "output_type": "stream",
     "text": [
      "Accuray of <class 'core.models.MLP.MLPClassifier'>: 0.995\n",
      "Feature 7 / 12; Processing: 61 / 63\n",
      "set features: 11\n"
     ]
    },
    {
     "name": "stderr",
     "output_type": "stream",
     "text": [
      "100%|██████████| 200/200 [00:20<00:00,  9.82it/s]\n",
      "  0%|          | 0/200 [00:00<?, ?it/s]"
     ]
    },
    {
     "name": "stdout",
     "output_type": "stream",
     "text": [
      "Accuray of <class 'core.models.MLP.MLPClassifier'>: 0.9925\n",
      "Feature 7 / 12; Processing: 62 / 63\n",
      "set features: 11\n"
     ]
    },
    {
     "name": "stderr",
     "output_type": "stream",
     "text": [
      "100%|██████████| 200/200 [00:18<00:00, 10.56it/s]\n",
      "  0%|          | 0/200 [00:00<?, ?it/s]"
     ]
    },
    {
     "name": "stdout",
     "output_type": "stream",
     "text": [
      "Accuray of <class 'core.models.MLP.MLPClassifier'>: 0.995\n",
      "remove feature base_indexed: after remove length: 11\n",
      "Feature 8 / 12; Processing: 0 / 63\n",
      "set features: 11\n"
     ]
    },
    {
     "name": "stderr",
     "output_type": "stream",
     "text": [
      "100%|██████████| 200/200 [00:21<00:00,  9.49it/s]\n",
      "  0%|          | 1/200 [00:00<00:26,  7.45it/s]"
     ]
    },
    {
     "name": "stdout",
     "output_type": "stream",
     "text": [
      "Accuray of <class 'core.models.MLP.MLPClassifier'>: 0.995\n",
      "Feature 8 / 12; Processing: 1 / 63\n",
      "set features: 11\n"
     ]
    },
    {
     "name": "stderr",
     "output_type": "stream",
     "text": [
      "100%|██████████| 200/200 [00:20<00:00,  9.78it/s]\n",
      "  0%|          | 1/200 [00:00<00:20,  9.65it/s]"
     ]
    },
    {
     "name": "stdout",
     "output_type": "stream",
     "text": [
      "Accuray of <class 'core.models.MLP.MLPClassifier'>: 0.995\n",
      "Feature 8 / 12; Processing: 2 / 63\n",
      "set features: 11\n"
     ]
    },
    {
     "name": "stderr",
     "output_type": "stream",
     "text": [
      "100%|██████████| 200/200 [00:21<00:00,  9.49it/s]\n",
      "  0%|          | 1/200 [00:00<00:27,  7.21it/s]"
     ]
    },
    {
     "name": "stdout",
     "output_type": "stream",
     "text": [
      "Accuray of <class 'core.models.MLP.MLPClassifier'>: 0.9875\n",
      "Feature 8 / 12; Processing: 3 / 63\n",
      "set features: 11\n"
     ]
    },
    {
     "name": "stderr",
     "output_type": "stream",
     "text": [
      "100%|██████████| 200/200 [00:21<00:00,  9.51it/s]\n",
      "  1%|          | 2/200 [00:00<00:14, 13.23it/s]"
     ]
    },
    {
     "name": "stdout",
     "output_type": "stream",
     "text": [
      "Accuray of <class 'core.models.MLP.MLPClassifier'>: 0.9875\n",
      "Feature 8 / 12; Processing: 4 / 63\n",
      "set features: 11\n"
     ]
    },
    {
     "name": "stderr",
     "output_type": "stream",
     "text": [
      "100%|██████████| 200/200 [00:19<00:00, 10.38it/s]\n",
      "  0%|          | 1/200 [00:00<00:20,  9.91it/s]"
     ]
    },
    {
     "name": "stdout",
     "output_type": "stream",
     "text": [
      "Accuray of <class 'core.models.MLP.MLPClassifier'>: 0.9875\n",
      "Feature 8 / 12; Processing: 5 / 63\n",
      "set features: 11\n"
     ]
    },
    {
     "name": "stderr",
     "output_type": "stream",
     "text": [
      "100%|██████████| 200/200 [00:20<00:00,  9.66it/s]\n",
      "  0%|          | 0/200 [00:00<?, ?it/s]"
     ]
    },
    {
     "name": "stdout",
     "output_type": "stream",
     "text": [
      "Accuray of <class 'core.models.MLP.MLPClassifier'>: 0.99\n",
      "Feature 8 / 12; Processing: 6 / 63\n",
      "set features: 11\n"
     ]
    },
    {
     "name": "stderr",
     "output_type": "stream",
     "text": [
      "100%|██████████| 200/200 [00:20<00:00,  9.84it/s]\n",
      "  0%|          | 1/200 [00:00<00:31,  6.35it/s]"
     ]
    },
    {
     "name": "stdout",
     "output_type": "stream",
     "text": [
      "Accuray of <class 'core.models.MLP.MLPClassifier'>: 1.0\n",
      "Feature 8 / 12; Processing: 7 / 63\n",
      "set features: 11\n"
     ]
    },
    {
     "name": "stderr",
     "output_type": "stream",
     "text": [
      "100%|██████████| 200/200 [00:21<00:00,  9.52it/s]\n",
      "  1%|          | 2/200 [00:00<00:15, 12.57it/s]"
     ]
    },
    {
     "name": "stdout",
     "output_type": "stream",
     "text": [
      "Accuray of <class 'core.models.MLP.MLPClassifier'>: 0.9975\n",
      "Feature 8 / 12; Processing: 8 / 63\n",
      "set features: 11\n"
     ]
    },
    {
     "name": "stderr",
     "output_type": "stream",
     "text": [
      "100%|██████████| 200/200 [00:20<00:00,  9.82it/s]\n",
      "  0%|          | 1/200 [00:00<00:24,  8.22it/s]"
     ]
    },
    {
     "name": "stdout",
     "output_type": "stream",
     "text": [
      "Accuray of <class 'core.models.MLP.MLPClassifier'>: 0.9825\n",
      "Feature 8 / 12; Processing: 9 / 63\n",
      "set features: 11\n"
     ]
    },
    {
     "name": "stderr",
     "output_type": "stream",
     "text": [
      "100%|██████████| 200/200 [00:20<00:00,  9.69it/s]\n",
      "  0%|          | 0/200 [00:00<?, ?it/s]"
     ]
    },
    {
     "name": "stdout",
     "output_type": "stream",
     "text": [
      "Accuray of <class 'core.models.MLP.MLPClassifier'>: 0.9725\n",
      "Feature 8 / 12; Processing: 10 / 63\n",
      "set features: 11\n"
     ]
    },
    {
     "name": "stderr",
     "output_type": "stream",
     "text": [
      "100%|██████████| 200/200 [00:20<00:00,  9.92it/s]\n",
      "  0%|          | 1/200 [00:00<00:20,  9.58it/s]"
     ]
    },
    {
     "name": "stdout",
     "output_type": "stream",
     "text": [
      "Accuray of <class 'core.models.MLP.MLPClassifier'>: 0.995\n",
      "Feature 8 / 12; Processing: 11 / 63\n",
      "set features: 11\n"
     ]
    },
    {
     "name": "stderr",
     "output_type": "stream",
     "text": [
      "100%|██████████| 200/200 [00:21<00:00,  9.19it/s]\n",
      "  0%|          | 1/200 [00:00<00:21,  9.11it/s]"
     ]
    },
    {
     "name": "stdout",
     "output_type": "stream",
     "text": [
      "Accuray of <class 'core.models.MLP.MLPClassifier'>: 0.995\n",
      "Feature 8 / 12; Processing: 12 / 63\n",
      "set features: 11\n"
     ]
    },
    {
     "name": "stderr",
     "output_type": "stream",
     "text": [
      "100%|██████████| 200/200 [00:21<00:00,  9.19it/s]\n",
      "  0%|          | 1/200 [00:00<00:21,  9.18it/s]"
     ]
    },
    {
     "name": "stdout",
     "output_type": "stream",
     "text": [
      "Accuray of <class 'core.models.MLP.MLPClassifier'>: 0.995\n",
      "Feature 8 / 12; Processing: 13 / 63\n",
      "set features: 11\n"
     ]
    },
    {
     "name": "stderr",
     "output_type": "stream",
     "text": [
      "100%|██████████| 200/200 [00:19<00:00, 10.49it/s]\n",
      "  0%|          | 1/200 [00:00<00:20,  9.62it/s]"
     ]
    },
    {
     "name": "stdout",
     "output_type": "stream",
     "text": [
      "Accuray of <class 'core.models.MLP.MLPClassifier'>: 1.0\n",
      "Feature 8 / 12; Processing: 14 / 63\n",
      "set features: 11\n"
     ]
    },
    {
     "name": "stderr",
     "output_type": "stream",
     "text": [
      "100%|██████████| 200/200 [00:20<00:00,  9.88it/s]\n",
      "  0%|          | 0/200 [00:00<?, ?it/s]"
     ]
    },
    {
     "name": "stdout",
     "output_type": "stream",
     "text": [
      "Accuray of <class 'core.models.MLP.MLPClassifier'>: 1.0\n",
      "Feature 8 / 12; Processing: 15 / 63\n",
      "set features: 11\n"
     ]
    },
    {
     "name": "stderr",
     "output_type": "stream",
     "text": [
      "100%|██████████| 200/200 [00:20<00:00,  9.76it/s]\n",
      "  0%|          | 0/200 [00:00<?, ?it/s]"
     ]
    },
    {
     "name": "stdout",
     "output_type": "stream",
     "text": [
      "Accuray of <class 'core.models.MLP.MLPClassifier'>: 0.98\n",
      "Feature 8 / 12; Processing: 16 / 63\n",
      "set features: 11\n"
     ]
    },
    {
     "name": "stderr",
     "output_type": "stream",
     "text": [
      "100%|██████████| 200/200 [00:20<00:00,  9.85it/s]\n",
      "  0%|          | 0/200 [00:00<?, ?it/s]"
     ]
    },
    {
     "name": "stdout",
     "output_type": "stream",
     "text": [
      "Accuray of <class 'core.models.MLP.MLPClassifier'>: 0.9975\n",
      "Feature 8 / 12; Processing: 17 / 63\n",
      "set features: 11\n"
     ]
    },
    {
     "name": "stderr",
     "output_type": "stream",
     "text": [
      "100%|██████████| 200/200 [00:21<00:00,  9.25it/s]\n",
      "  1%|          | 2/200 [00:00<00:16, 11.75it/s]"
     ]
    },
    {
     "name": "stdout",
     "output_type": "stream",
     "text": [
      "Accuray of <class 'core.models.MLP.MLPClassifier'>: 0.9975\n",
      "Feature 8 / 12; Processing: 18 / 63\n",
      "set features: 11\n"
     ]
    },
    {
     "name": "stderr",
     "output_type": "stream",
     "text": [
      "100%|██████████| 200/200 [00:21<00:00,  9.45it/s]\n",
      "  0%|          | 1/200 [00:00<00:20,  9.80it/s]"
     ]
    },
    {
     "name": "stdout",
     "output_type": "stream",
     "text": [
      "Accuray of <class 'core.models.MLP.MLPClassifier'>: 1.0\n",
      "Feature 8 / 12; Processing: 19 / 63\n",
      "set features: 11\n"
     ]
    },
    {
     "name": "stderr",
     "output_type": "stream",
     "text": [
      "100%|██████████| 200/200 [00:22<00:00,  8.90it/s]\n",
      "  0%|          | 0/200 [00:00<?, ?it/s]"
     ]
    },
    {
     "name": "stdout",
     "output_type": "stream",
     "text": [
      "Accuray of <class 'core.models.MLP.MLPClassifier'>: 0.9875\n",
      "Feature 8 / 12; Processing: 20 / 63\n",
      "set features: 11\n"
     ]
    },
    {
     "name": "stderr",
     "output_type": "stream",
     "text": [
      "100%|██████████| 200/200 [00:21<00:00,  9.51it/s]\n",
      "  0%|          | 1/200 [00:00<00:21,  9.42it/s]"
     ]
    },
    {
     "name": "stdout",
     "output_type": "stream",
     "text": [
      "Accuray of <class 'core.models.MLP.MLPClassifier'>: 0.9975\n",
      "Feature 8 / 12; Processing: 21 / 63\n",
      "set features: 11\n"
     ]
    },
    {
     "name": "stderr",
     "output_type": "stream",
     "text": [
      "100%|██████████| 200/200 [00:19<00:00, 10.12it/s]\n",
      "  0%|          | 0/200 [00:00<?, ?it/s]"
     ]
    },
    {
     "name": "stdout",
     "output_type": "stream",
     "text": [
      "Accuray of <class 'core.models.MLP.MLPClassifier'>: 1.0\n",
      "Feature 8 / 12; Processing: 22 / 63\n",
      "set features: 11\n"
     ]
    },
    {
     "name": "stderr",
     "output_type": "stream",
     "text": [
      "100%|██████████| 200/200 [00:20<00:00,  9.82it/s]\n",
      "  0%|          | 0/200 [00:00<?, ?it/s]"
     ]
    },
    {
     "name": "stdout",
     "output_type": "stream",
     "text": [
      "Accuray of <class 'core.models.MLP.MLPClassifier'>: 1.0\n",
      "Feature 8 / 12; Processing: 23 / 63\n",
      "set features: 11\n"
     ]
    },
    {
     "name": "stderr",
     "output_type": "stream",
     "text": [
      "100%|██████████| 200/200 [00:20<00:00,  9.90it/s]\n",
      "  0%|          | 0/200 [00:00<?, ?it/s]"
     ]
    },
    {
     "name": "stdout",
     "output_type": "stream",
     "text": [
      "Accuray of <class 'core.models.MLP.MLPClassifier'>: 1.0\n",
      "Feature 8 / 12; Processing: 24 / 63\n",
      "set features: 11\n"
     ]
    },
    {
     "name": "stderr",
     "output_type": "stream",
     "text": [
      "100%|██████████| 200/200 [00:19<00:00, 10.29it/s]\n",
      "  0%|          | 1/200 [00:00<00:22,  8.68it/s]"
     ]
    },
    {
     "name": "stdout",
     "output_type": "stream",
     "text": [
      "Accuray of <class 'core.models.MLP.MLPClassifier'>: 0.98\n",
      "Feature 8 / 12; Processing: 25 / 63\n",
      "set features: 11\n"
     ]
    },
    {
     "name": "stderr",
     "output_type": "stream",
     "text": [
      "100%|██████████| 200/200 [00:21<00:00,  9.45it/s]\n",
      "  0%|          | 0/200 [00:00<?, ?it/s]"
     ]
    },
    {
     "name": "stdout",
     "output_type": "stream",
     "text": [
      "Accuray of <class 'core.models.MLP.MLPClassifier'>: 0.995\n",
      "Feature 8 / 12; Processing: 26 / 63\n",
      "set features: 11\n"
     ]
    },
    {
     "name": "stderr",
     "output_type": "stream",
     "text": [
      "100%|██████████| 200/200 [00:21<00:00,  9.15it/s]\n",
      "  0%|          | 0/200 [00:00<?, ?it/s]"
     ]
    },
    {
     "name": "stdout",
     "output_type": "stream",
     "text": [
      "Accuray of <class 'core.models.MLP.MLPClassifier'>: 0.9825\n",
      "Feature 8 / 12; Processing: 27 / 63\n",
      "set features: 11\n"
     ]
    },
    {
     "name": "stderr",
     "output_type": "stream",
     "text": [
      "100%|██████████| 200/200 [00:21<00:00,  9.30it/s]\n",
      "  0%|          | 0/200 [00:00<?, ?it/s]"
     ]
    },
    {
     "name": "stdout",
     "output_type": "stream",
     "text": [
      "Accuray of <class 'core.models.MLP.MLPClassifier'>: 0.9925\n",
      "Feature 8 / 12; Processing: 28 / 63\n",
      "set features: 11\n"
     ]
    },
    {
     "name": "stderr",
     "output_type": "stream",
     "text": [
      "100%|██████████| 200/200 [00:19<00:00, 10.45it/s]\n",
      "  0%|          | 1/200 [00:00<00:24,  8.21it/s]"
     ]
    },
    {
     "name": "stdout",
     "output_type": "stream",
     "text": [
      "Accuray of <class 'core.models.MLP.MLPClassifier'>: 0.985\n",
      "Feature 8 / 12; Processing: 29 / 63\n",
      "set features: 11\n"
     ]
    },
    {
     "name": "stderr",
     "output_type": "stream",
     "text": [
      "100%|██████████| 200/200 [00:21<00:00,  9.10it/s]\n",
      "  0%|          | 0/200 [00:00<?, ?it/s]"
     ]
    },
    {
     "name": "stdout",
     "output_type": "stream",
     "text": [
      "Accuray of <class 'core.models.MLP.MLPClassifier'>: 0.9875\n",
      "Feature 8 / 12; Processing: 30 / 63\n",
      "set features: 11\n"
     ]
    },
    {
     "name": "stderr",
     "output_type": "stream",
     "text": [
      "100%|██████████| 200/200 [00:19<00:00, 10.10it/s]\n",
      "  1%|          | 2/200 [00:00<00:16, 12.09it/s]"
     ]
    },
    {
     "name": "stdout",
     "output_type": "stream",
     "text": [
      "Accuray of <class 'core.models.MLP.MLPClassifier'>: 0.9975\n",
      "Feature 8 / 12; Processing: 31 / 63\n",
      "set features: 11\n"
     ]
    },
    {
     "name": "stderr",
     "output_type": "stream",
     "text": [
      "100%|██████████| 200/200 [00:20<00:00,  9.96it/s]\n",
      "  0%|          | 1/200 [00:00<00:22,  8.66it/s]"
     ]
    },
    {
     "name": "stdout",
     "output_type": "stream",
     "text": [
      "Accuray of <class 'core.models.MLP.MLPClassifier'>: 0.98\n",
      "Feature 8 / 12; Processing: 32 / 63\n",
      "set features: 11\n"
     ]
    },
    {
     "name": "stderr",
     "output_type": "stream",
     "text": [
      "100%|██████████| 200/200 [00:21<00:00,  9.13it/s]\n",
      "  0%|          | 0/200 [00:00<?, ?it/s]"
     ]
    },
    {
     "name": "stdout",
     "output_type": "stream",
     "text": [
      "Accuray of <class 'core.models.MLP.MLPClassifier'>: 0.99\n",
      "Feature 8 / 12; Processing: 33 / 63\n",
      "set features: 11\n"
     ]
    },
    {
     "name": "stderr",
     "output_type": "stream",
     "text": [
      "100%|██████████| 200/200 [00:20<00:00,  9.67it/s]\n",
      "  0%|          | 1/200 [00:00<00:23,  8.51it/s]"
     ]
    },
    {
     "name": "stdout",
     "output_type": "stream",
     "text": [
      "Accuray of <class 'core.models.MLP.MLPClassifier'>: 1.0\n",
      "Feature 8 / 12; Processing: 34 / 63\n",
      "set features: 11\n"
     ]
    },
    {
     "name": "stderr",
     "output_type": "stream",
     "text": [
      "100%|██████████| 200/200 [00:20<00:00,  9.57it/s]\n",
      "  0%|          | 1/200 [00:00<00:20,  9.61it/s]"
     ]
    },
    {
     "name": "stdout",
     "output_type": "stream",
     "text": [
      "Accuray of <class 'core.models.MLP.MLPClassifier'>: 0.985\n",
      "Feature 8 / 12; Processing: 35 / 63\n",
      "set features: 11\n"
     ]
    },
    {
     "name": "stderr",
     "output_type": "stream",
     "text": [
      "100%|██████████| 200/200 [00:21<00:00,  9.23it/s]\n",
      "  0%|          | 1/200 [00:00<00:21,  9.06it/s]"
     ]
    },
    {
     "name": "stdout",
     "output_type": "stream",
     "text": [
      "Accuray of <class 'core.models.MLP.MLPClassifier'>: 0.9825\n",
      "Feature 8 / 12; Processing: 36 / 63\n",
      "set features: 11\n"
     ]
    },
    {
     "name": "stderr",
     "output_type": "stream",
     "text": [
      "100%|██████████| 200/200 [00:20<00:00,  9.66it/s]\n",
      "  0%|          | 1/200 [00:00<00:21,  9.24it/s]"
     ]
    },
    {
     "name": "stdout",
     "output_type": "stream",
     "text": [
      "Accuray of <class 'core.models.MLP.MLPClassifier'>: 0.9825\n",
      "Feature 8 / 12; Processing: 37 / 63\n",
      "set features: 11\n"
     ]
    },
    {
     "name": "stderr",
     "output_type": "stream",
     "text": [
      "100%|██████████| 200/200 [00:20<00:00,  9.72it/s]\n",
      "  0%|          | 0/200 [00:00<?, ?it/s]"
     ]
    },
    {
     "name": "stdout",
     "output_type": "stream",
     "text": [
      "Accuray of <class 'core.models.MLP.MLPClassifier'>: 1.0\n",
      "Feature 8 / 12; Processing: 38 / 63\n",
      "set features: 11\n"
     ]
    },
    {
     "name": "stderr",
     "output_type": "stream",
     "text": [
      "100%|██████████| 200/200 [00:20<00:00,  9.62it/s]\n",
      "  0%|          | 1/200 [00:00<00:23,  8.47it/s]"
     ]
    },
    {
     "name": "stdout",
     "output_type": "stream",
     "text": [
      "Accuray of <class 'core.models.MLP.MLPClassifier'>: 0.985\n",
      "Feature 8 / 12; Processing: 39 / 63\n",
      "set features: 11\n"
     ]
    },
    {
     "name": "stderr",
     "output_type": "stream",
     "text": [
      "100%|██████████| 200/200 [00:20<00:00,  9.53it/s]\n",
      "  0%|          | 1/200 [00:00<00:28,  7.02it/s]"
     ]
    },
    {
     "name": "stdout",
     "output_type": "stream",
     "text": [
      "Accuray of <class 'core.models.MLP.MLPClassifier'>: 0.98\n",
      "Feature 8 / 12; Processing: 40 / 63\n",
      "set features: 11\n"
     ]
    },
    {
     "name": "stderr",
     "output_type": "stream",
     "text": [
      "100%|██████████| 200/200 [00:20<00:00,  9.75it/s]\n",
      "  0%|          | 0/200 [00:00<?, ?it/s]"
     ]
    },
    {
     "name": "stdout",
     "output_type": "stream",
     "text": [
      "Accuray of <class 'core.models.MLP.MLPClassifier'>: 1.0\n",
      "Feature 8 / 12; Processing: 41 / 63\n",
      "set features: 11\n"
     ]
    },
    {
     "name": "stderr",
     "output_type": "stream",
     "text": [
      "100%|██████████| 200/200 [00:20<00:00, 10.00it/s]\n",
      "  1%|          | 2/200 [00:00<00:15, 12.80it/s]"
     ]
    },
    {
     "name": "stdout",
     "output_type": "stream",
     "text": [
      "Accuray of <class 'core.models.MLP.MLPClassifier'>: 0.995\n",
      "Feature 8 / 12; Processing: 42 / 63\n",
      "set features: 11\n"
     ]
    },
    {
     "name": "stderr",
     "output_type": "stream",
     "text": [
      "100%|██████████| 200/200 [00:20<00:00,  9.71it/s]\n",
      "  0%|          | 0/200 [00:00<?, ?it/s]"
     ]
    },
    {
     "name": "stdout",
     "output_type": "stream",
     "text": [
      "Accuray of <class 'core.models.MLP.MLPClassifier'>: 0.995\n",
      "Feature 8 / 12; Processing: 43 / 63\n",
      "set features: 11\n"
     ]
    },
    {
     "name": "stderr",
     "output_type": "stream",
     "text": [
      "100%|██████████| 200/200 [00:20<00:00,  9.61it/s]\n",
      "  0%|          | 1/200 [00:00<00:23,  8.60it/s]"
     ]
    },
    {
     "name": "stdout",
     "output_type": "stream",
     "text": [
      "Accuray of <class 'core.models.MLP.MLPClassifier'>: 0.9925\n",
      "Feature 8 / 12; Processing: 44 / 63\n",
      "set features: 11\n"
     ]
    },
    {
     "name": "stderr",
     "output_type": "stream",
     "text": [
      "100%|██████████| 200/200 [00:21<00:00,  9.21it/s]\n",
      "  0%|          | 0/200 [00:00<?, ?it/s]"
     ]
    },
    {
     "name": "stdout",
     "output_type": "stream",
     "text": [
      "Accuray of <class 'core.models.MLP.MLPClassifier'>: 1.0\n",
      "Feature 8 / 12; Processing: 45 / 63\n",
      "set features: 11\n"
     ]
    },
    {
     "name": "stderr",
     "output_type": "stream",
     "text": [
      "100%|██████████| 200/200 [00:20<00:00,  9.53it/s]\n",
      "  0%|          | 1/200 [00:00<00:25,  7.77it/s]"
     ]
    },
    {
     "name": "stdout",
     "output_type": "stream",
     "text": [
      "Accuray of <class 'core.models.MLP.MLPClassifier'>: 0.995\n",
      "Feature 8 / 12; Processing: 46 / 63\n",
      "set features: 11\n"
     ]
    },
    {
     "name": "stderr",
     "output_type": "stream",
     "text": [
      "100%|██████████| 200/200 [00:20<00:00,  9.66it/s]\n",
      "  0%|          | 0/200 [00:00<?, ?it/s]"
     ]
    },
    {
     "name": "stdout",
     "output_type": "stream",
     "text": [
      "Accuray of <class 'core.models.MLP.MLPClassifier'>: 0.9825\n",
      "Feature 8 / 12; Processing: 47 / 63\n",
      "set features: 11\n"
     ]
    },
    {
     "name": "stderr",
     "output_type": "stream",
     "text": [
      "100%|██████████| 200/200 [00:20<00:00,  9.70it/s]\n",
      "  0%|          | 0/200 [00:00<?, ?it/s]"
     ]
    },
    {
     "name": "stdout",
     "output_type": "stream",
     "text": [
      "Accuray of <class 'core.models.MLP.MLPClassifier'>: 0.9925\n",
      "Feature 8 / 12; Processing: 48 / 63\n",
      "set features: 11\n"
     ]
    },
    {
     "name": "stderr",
     "output_type": "stream",
     "text": [
      "100%|██████████| 200/200 [00:20<00:00,  9.86it/s]\n",
      "  0%|          | 0/200 [00:00<?, ?it/s]"
     ]
    },
    {
     "name": "stdout",
     "output_type": "stream",
     "text": [
      "Accuray of <class 'core.models.MLP.MLPClassifier'>: 1.0\n",
      "Feature 8 / 12; Processing: 49 / 63\n",
      "set features: 11\n"
     ]
    },
    {
     "name": "stderr",
     "output_type": "stream",
     "text": [
      "100%|██████████| 200/200 [00:22<00:00,  8.85it/s]\n",
      "  0%|          | 0/200 [00:00<?, ?it/s]"
     ]
    },
    {
     "name": "stdout",
     "output_type": "stream",
     "text": [
      "Accuray of <class 'core.models.MLP.MLPClassifier'>: 0.9875\n",
      "Feature 8 / 12; Processing: 50 / 63\n",
      "set features: 11\n"
     ]
    },
    {
     "name": "stderr",
     "output_type": "stream",
     "text": [
      "100%|██████████| 200/200 [00:20<00:00,  9.53it/s]\n",
      "  0%|          | 0/200 [00:00<?, ?it/s]"
     ]
    },
    {
     "name": "stdout",
     "output_type": "stream",
     "text": [
      "Accuray of <class 'core.models.MLP.MLPClassifier'>: 0.995\n",
      "Feature 8 / 12; Processing: 51 / 63\n",
      "set features: 11\n"
     ]
    },
    {
     "name": "stderr",
     "output_type": "stream",
     "text": [
      "100%|██████████| 200/200 [00:20<00:00,  9.72it/s]\n",
      "  1%|          | 2/200 [00:00<00:16, 12.21it/s]"
     ]
    },
    {
     "name": "stdout",
     "output_type": "stream",
     "text": [
      "Accuray of <class 'core.models.MLP.MLPClassifier'>: 1.0\n",
      "Feature 8 / 12; Processing: 52 / 63\n",
      "set features: 11\n"
     ]
    },
    {
     "name": "stderr",
     "output_type": "stream",
     "text": [
      "100%|██████████| 200/200 [00:19<00:00, 10.10it/s]\n",
      "  0%|          | 1/200 [00:00<00:25,  7.87it/s]"
     ]
    },
    {
     "name": "stdout",
     "output_type": "stream",
     "text": [
      "Accuray of <class 'core.models.MLP.MLPClassifier'>: 1.0\n",
      "Feature 8 / 12; Processing: 53 / 63\n",
      "set features: 11\n"
     ]
    },
    {
     "name": "stderr",
     "output_type": "stream",
     "text": [
      "100%|██████████| 200/200 [00:20<00:00,  9.56it/s]\n",
      "  0%|          | 1/200 [00:00<00:23,  8.60it/s]"
     ]
    },
    {
     "name": "stdout",
     "output_type": "stream",
     "text": [
      "Accuray of <class 'core.models.MLP.MLPClassifier'>: 0.9825\n",
      "Feature 8 / 12; Processing: 54 / 63\n",
      "set features: 11\n"
     ]
    },
    {
     "name": "stderr",
     "output_type": "stream",
     "text": [
      "100%|██████████| 200/200 [00:20<00:00,  9.63it/s]\n",
      "  1%|          | 2/200 [00:00<00:15, 12.85it/s]"
     ]
    },
    {
     "name": "stdout",
     "output_type": "stream",
     "text": [
      "Accuray of <class 'core.models.MLP.MLPClassifier'>: 0.9675\n",
      "Feature 8 / 12; Processing: 55 / 63\n",
      "set features: 11\n"
     ]
    },
    {
     "name": "stderr",
     "output_type": "stream",
     "text": [
      "100%|██████████| 200/200 [00:20<00:00,  9.98it/s]\n",
      "  0%|          | 0/200 [00:00<?, ?it/s]"
     ]
    },
    {
     "name": "stdout",
     "output_type": "stream",
     "text": [
      "Accuray of <class 'core.models.MLP.MLPClassifier'>: 0.985\n",
      "Feature 8 / 12; Processing: 56 / 63\n",
      "set features: 11\n"
     ]
    },
    {
     "name": "stderr",
     "output_type": "stream",
     "text": [
      "100%|██████████| 200/200 [00:20<00:00,  9.59it/s]\n",
      "  0%|          | 1/200 [00:00<00:20,  9.63it/s]"
     ]
    },
    {
     "name": "stdout",
     "output_type": "stream",
     "text": [
      "Accuray of <class 'core.models.MLP.MLPClassifier'>: 0.9825\n",
      "Feature 8 / 12; Processing: 57 / 63\n",
      "set features: 11\n"
     ]
    },
    {
     "name": "stderr",
     "output_type": "stream",
     "text": [
      "100%|██████████| 200/200 [00:20<00:00,  9.64it/s]\n",
      "  0%|          | 1/200 [00:00<00:25,  7.89it/s]"
     ]
    },
    {
     "name": "stdout",
     "output_type": "stream",
     "text": [
      "Accuray of <class 'core.models.MLP.MLPClassifier'>: 0.98\n",
      "Feature 8 / 12; Processing: 58 / 63\n",
      "set features: 11\n"
     ]
    },
    {
     "name": "stderr",
     "output_type": "stream",
     "text": [
      "100%|██████████| 200/200 [00:18<00:00, 10.60it/s]\n",
      "  0%|          | 1/200 [00:00<00:21,  9.16it/s]"
     ]
    },
    {
     "name": "stdout",
     "output_type": "stream",
     "text": [
      "Accuray of <class 'core.models.MLP.MLPClassifier'>: 0.9875\n",
      "Feature 8 / 12; Processing: 59 / 63\n",
      "set features: 11\n"
     ]
    },
    {
     "name": "stderr",
     "output_type": "stream",
     "text": [
      "100%|██████████| 200/200 [00:20<00:00,  9.90it/s]\n",
      "  0%|          | 0/200 [00:00<?, ?it/s]"
     ]
    },
    {
     "name": "stdout",
     "output_type": "stream",
     "text": [
      "Accuray of <class 'core.models.MLP.MLPClassifier'>: 0.995\n",
      "Feature 8 / 12; Processing: 60 / 63\n",
      "set features: 11\n"
     ]
    },
    {
     "name": "stderr",
     "output_type": "stream",
     "text": [
      "100%|██████████| 200/200 [00:19<00:00, 10.23it/s]\n",
      "  0%|          | 0/200 [00:00<?, ?it/s]"
     ]
    },
    {
     "name": "stdout",
     "output_type": "stream",
     "text": [
      "Accuray of <class 'core.models.MLP.MLPClassifier'>: 0.995\n",
      "Feature 8 / 12; Processing: 61 / 63\n",
      "set features: 11\n"
     ]
    },
    {
     "name": "stderr",
     "output_type": "stream",
     "text": [
      "100%|██████████| 200/200 [00:19<00:00, 10.17it/s]\n",
      "  0%|          | 0/200 [00:00<?, ?it/s]"
     ]
    },
    {
     "name": "stdout",
     "output_type": "stream",
     "text": [
      "Accuray of <class 'core.models.MLP.MLPClassifier'>: 0.9875\n",
      "Feature 8 / 12; Processing: 62 / 63\n",
      "set features: 11\n"
     ]
    },
    {
     "name": "stderr",
     "output_type": "stream",
     "text": [
      "100%|██████████| 200/200 [00:21<00:00,  9.50it/s]\n",
      "  0%|          | 1/200 [00:00<00:26,  7.44it/s]"
     ]
    },
    {
     "name": "stdout",
     "output_type": "stream",
     "text": [
      "Accuray of <class 'core.models.MLP.MLPClassifier'>: 0.995\n",
      "remove feature result_size: after remove length: 11\n",
      "Feature 9 / 12; Processing: 0 / 63\n",
      "set features: 11\n"
     ]
    },
    {
     "name": "stderr",
     "output_type": "stream",
     "text": [
      "100%|██████████| 200/200 [00:22<00:00,  9.01it/s]\n",
      "  0%|          | 0/200 [00:00<?, ?it/s]"
     ]
    },
    {
     "name": "stdout",
     "output_type": "stream",
     "text": [
      "Accuray of <class 'core.models.MLP.MLPClassifier'>: 0.995\n",
      "Feature 9 / 12; Processing: 1 / 63\n",
      "set features: 11\n"
     ]
    },
    {
     "name": "stderr",
     "output_type": "stream",
     "text": [
      "100%|██████████| 200/200 [00:20<00:00, 10.00it/s]\n",
      "  0%|          | 0/200 [00:00<?, ?it/s]"
     ]
    },
    {
     "name": "stdout",
     "output_type": "stream",
     "text": [
      "Accuray of <class 'core.models.MLP.MLPClassifier'>: 0.985\n",
      "Feature 9 / 12; Processing: 2 / 63\n",
      "set features: 11\n"
     ]
    },
    {
     "name": "stderr",
     "output_type": "stream",
     "text": [
      "100%|██████████| 200/200 [00:21<00:00,  9.29it/s]\n",
      "  0%|          | 0/200 [00:00<?, ?it/s]"
     ]
    },
    {
     "name": "stdout",
     "output_type": "stream",
     "text": [
      "Accuray of <class 'core.models.MLP.MLPClassifier'>: 0.9875\n",
      "Feature 9 / 12; Processing: 3 / 63\n",
      "set features: 11\n"
     ]
    },
    {
     "name": "stderr",
     "output_type": "stream",
     "text": [
      "100%|██████████| 200/200 [00:19<00:00, 10.50it/s]\n",
      "  0%|          | 0/200 [00:00<?, ?it/s]"
     ]
    },
    {
     "name": "stdout",
     "output_type": "stream",
     "text": [
      "Accuray of <class 'core.models.MLP.MLPClassifier'>: 1.0\n",
      "Feature 9 / 12; Processing: 4 / 63\n",
      "set features: 11\n"
     ]
    },
    {
     "name": "stderr",
     "output_type": "stream",
     "text": [
      "100%|██████████| 200/200 [00:20<00:00,  9.72it/s]\n",
      "  1%|          | 2/200 [00:00<00:16, 12.23it/s]"
     ]
    },
    {
     "name": "stdout",
     "output_type": "stream",
     "text": [
      "Accuray of <class 'core.models.MLP.MLPClassifier'>: 0.99\n",
      "Feature 9 / 12; Processing: 5 / 63\n",
      "set features: 11\n"
     ]
    },
    {
     "name": "stderr",
     "output_type": "stream",
     "text": [
      "100%|██████████| 200/200 [00:20<00:00,  9.79it/s]\n",
      "  0%|          | 1/200 [00:00<00:23,  8.60it/s]"
     ]
    },
    {
     "name": "stdout",
     "output_type": "stream",
     "text": [
      "Accuray of <class 'core.models.MLP.MLPClassifier'>: 0.995\n",
      "Feature 9 / 12; Processing: 6 / 63\n",
      "set features: 11\n"
     ]
    },
    {
     "name": "stderr",
     "output_type": "stream",
     "text": [
      "100%|██████████| 200/200 [00:19<00:00, 10.20it/s]\n",
      "  0%|          | 1/200 [00:00<00:22,  8.92it/s]"
     ]
    },
    {
     "name": "stdout",
     "output_type": "stream",
     "text": [
      "Accuray of <class 'core.models.MLP.MLPClassifier'>: 1.0\n",
      "Feature 9 / 12; Processing: 7 / 63\n",
      "set features: 11\n"
     ]
    },
    {
     "name": "stderr",
     "output_type": "stream",
     "text": [
      "100%|██████████| 200/200 [00:20<00:00,  9.67it/s]\n",
      "  1%|          | 2/200 [00:00<00:15, 13.16it/s]"
     ]
    },
    {
     "name": "stdout",
     "output_type": "stream",
     "text": [
      "Accuray of <class 'core.models.MLP.MLPClassifier'>: 0.9925\n",
      "Feature 9 / 12; Processing: 8 / 63\n",
      "set features: 11\n"
     ]
    },
    {
     "name": "stderr",
     "output_type": "stream",
     "text": [
      "100%|██████████| 200/200 [00:19<00:00, 10.08it/s]\n",
      "  0%|          | 1/200 [00:00<00:21,  9.26it/s]"
     ]
    },
    {
     "name": "stdout",
     "output_type": "stream",
     "text": [
      "Accuray of <class 'core.models.MLP.MLPClassifier'>: 0.9875\n",
      "Feature 9 / 12; Processing: 9 / 63\n",
      "set features: 11\n"
     ]
    },
    {
     "name": "stderr",
     "output_type": "stream",
     "text": [
      "100%|██████████| 200/200 [00:20<00:00,  9.92it/s]\n",
      "  0%|          | 0/200 [00:00<?, ?it/s]"
     ]
    },
    {
     "name": "stdout",
     "output_type": "stream",
     "text": [
      "Accuray of <class 'core.models.MLP.MLPClassifier'>: 0.9675\n",
      "Feature 9 / 12; Processing: 10 / 63\n",
      "set features: 11\n"
     ]
    },
    {
     "name": "stderr",
     "output_type": "stream",
     "text": [
      "100%|██████████| 200/200 [00:21<00:00,  9.52it/s]\n",
      "  0%|          | 0/200 [00:00<?, ?it/s]"
     ]
    },
    {
     "name": "stdout",
     "output_type": "stream",
     "text": [
      "Accuray of <class 'core.models.MLP.MLPClassifier'>: 0.995\n",
      "Feature 9 / 12; Processing: 11 / 63\n",
      "set features: 11\n"
     ]
    },
    {
     "name": "stderr",
     "output_type": "stream",
     "text": [
      "100%|██████████| 200/200 [00:20<00:00,  9.97it/s]\n",
      "  0%|          | 1/200 [00:00<00:23,  8.39it/s]"
     ]
    },
    {
     "name": "stdout",
     "output_type": "stream",
     "text": [
      "Accuray of <class 'core.models.MLP.MLPClassifier'>: 0.9975\n",
      "Feature 9 / 12; Processing: 12 / 63\n",
      "set features: 11\n"
     ]
    },
    {
     "name": "stderr",
     "output_type": "stream",
     "text": [
      "100%|██████████| 200/200 [00:21<00:00,  9.42it/s]\n",
      "  0%|          | 1/200 [00:00<00:24,  8.05it/s]"
     ]
    },
    {
     "name": "stdout",
     "output_type": "stream",
     "text": [
      "Accuray of <class 'core.models.MLP.MLPClassifier'>: 0.995\n",
      "Feature 9 / 12; Processing: 13 / 63\n",
      "set features: 11\n"
     ]
    },
    {
     "name": "stderr",
     "output_type": "stream",
     "text": [
      "100%|██████████| 200/200 [00:21<00:00,  9.09it/s]\n",
      "  0%|          | 1/200 [00:00<00:24,  8.26it/s]"
     ]
    },
    {
     "name": "stdout",
     "output_type": "stream",
     "text": [
      "Accuray of <class 'core.models.MLP.MLPClassifier'>: 1.0\n",
      "Feature 9 / 12; Processing: 14 / 63\n",
      "set features: 11\n"
     ]
    },
    {
     "name": "stderr",
     "output_type": "stream",
     "text": [
      "100%|██████████| 200/200 [00:19<00:00, 10.29it/s]\n",
      "  0%|          | 1/200 [00:00<00:24,  8.27it/s]"
     ]
    },
    {
     "name": "stdout",
     "output_type": "stream",
     "text": [
      "Accuray of <class 'core.models.MLP.MLPClassifier'>: 1.0\n",
      "Feature 9 / 12; Processing: 15 / 63\n",
      "set features: 11\n"
     ]
    },
    {
     "name": "stderr",
     "output_type": "stream",
     "text": [
      "100%|██████████| 200/200 [00:20<00:00,  9.72it/s]\n",
      "  0%|          | 1/200 [00:00<00:25,  7.74it/s]"
     ]
    },
    {
     "name": "stdout",
     "output_type": "stream",
     "text": [
      "Accuray of <class 'core.models.MLP.MLPClassifier'>: 0.98\n",
      "Feature 9 / 12; Processing: 16 / 63\n",
      "set features: 11\n"
     ]
    },
    {
     "name": "stderr",
     "output_type": "stream",
     "text": [
      "100%|██████████| 200/200 [00:20<00:00,  9.66it/s]\n",
      "  0%|          | 0/200 [00:00<?, ?it/s]"
     ]
    },
    {
     "name": "stdout",
     "output_type": "stream",
     "text": [
      "Accuray of <class 'core.models.MLP.MLPClassifier'>: 0.9875\n",
      "Feature 9 / 12; Processing: 17 / 63\n",
      "set features: 11\n"
     ]
    },
    {
     "name": "stderr",
     "output_type": "stream",
     "text": [
      "100%|██████████| 200/200 [00:20<00:00,  9.96it/s]\n",
      "  0%|          | 1/200 [00:00<00:22,  8.79it/s]"
     ]
    },
    {
     "name": "stdout",
     "output_type": "stream",
     "text": [
      "Accuray of <class 'core.models.MLP.MLPClassifier'>: 0.9925\n",
      "Feature 9 / 12; Processing: 18 / 63\n",
      "set features: 11\n"
     ]
    },
    {
     "name": "stderr",
     "output_type": "stream",
     "text": [
      "100%|██████████| 200/200 [00:20<00:00,  9.92it/s]\n",
      "  0%|          | 0/200 [00:00<?, ?it/s]"
     ]
    },
    {
     "name": "stdout",
     "output_type": "stream",
     "text": [
      "Accuray of <class 'core.models.MLP.MLPClassifier'>: 1.0\n",
      "Feature 9 / 12; Processing: 19 / 63\n",
      "set features: 11\n"
     ]
    },
    {
     "name": "stderr",
     "output_type": "stream",
     "text": [
      "100%|██████████| 200/200 [00:20<00:00,  9.88it/s]\n",
      "  1%|          | 2/200 [00:00<00:16, 11.90it/s]"
     ]
    },
    {
     "name": "stdout",
     "output_type": "stream",
     "text": [
      "Accuray of <class 'core.models.MLP.MLPClassifier'>: 0.9975\n",
      "Feature 9 / 12; Processing: 20 / 63\n",
      "set features: 11\n"
     ]
    },
    {
     "name": "stderr",
     "output_type": "stream",
     "text": [
      "100%|██████████| 200/200 [00:21<00:00,  9.51it/s]\n",
      "  0%|          | 1/200 [00:00<00:20,  9.59it/s]"
     ]
    },
    {
     "name": "stdout",
     "output_type": "stream",
     "text": [
      "Accuray of <class 'core.models.MLP.MLPClassifier'>: 0.995\n",
      "Feature 9 / 12; Processing: 21 / 63\n",
      "set features: 11\n"
     ]
    },
    {
     "name": "stderr",
     "output_type": "stream",
     "text": [
      "100%|██████████| 200/200 [00:19<00:00, 10.07it/s]\n",
      "  0%|          | 1/200 [00:00<00:26,  7.54it/s]"
     ]
    },
    {
     "name": "stdout",
     "output_type": "stream",
     "text": [
      "Accuray of <class 'core.models.MLP.MLPClassifier'>: 0.97\n",
      "Feature 9 / 12; Processing: 22 / 63\n",
      "set features: 11\n"
     ]
    },
    {
     "name": "stderr",
     "output_type": "stream",
     "text": [
      "100%|██████████| 200/200 [00:20<00:00,  9.80it/s]\n",
      "  0%|          | 0/200 [00:00<?, ?it/s]"
     ]
    },
    {
     "name": "stdout",
     "output_type": "stream",
     "text": [
      "Accuray of <class 'core.models.MLP.MLPClassifier'>: 1.0\n",
      "Feature 9 / 12; Processing: 23 / 63\n",
      "set features: 11\n"
     ]
    },
    {
     "name": "stderr",
     "output_type": "stream",
     "text": [
      "100%|██████████| 200/200 [00:19<00:00, 10.02it/s]\n",
      "  0%|          | 0/200 [00:00<?, ?it/s]"
     ]
    },
    {
     "name": "stdout",
     "output_type": "stream",
     "text": [
      "Accuray of <class 'core.models.MLP.MLPClassifier'>: 0.9925\n",
      "Feature 9 / 12; Processing: 24 / 63\n",
      "set features: 11\n"
     ]
    },
    {
     "name": "stderr",
     "output_type": "stream",
     "text": [
      "100%|██████████| 200/200 [00:19<00:00, 10.12it/s]\n",
      "  0%|          | 0/200 [00:00<?, ?it/s]"
     ]
    },
    {
     "name": "stdout",
     "output_type": "stream",
     "text": [
      "Accuray of <class 'core.models.MLP.MLPClassifier'>: 0.96\n",
      "Feature 9 / 12; Processing: 25 / 63\n",
      "set features: 11\n"
     ]
    },
    {
     "name": "stderr",
     "output_type": "stream",
     "text": [
      "100%|██████████| 200/200 [00:20<00:00,  9.81it/s]\n",
      "  0%|          | 0/200 [00:00<?, ?it/s]"
     ]
    },
    {
     "name": "stdout",
     "output_type": "stream",
     "text": [
      "Accuray of <class 'core.models.MLP.MLPClassifier'>: 0.995\n",
      "Feature 9 / 12; Processing: 26 / 63\n",
      "set features: 11\n"
     ]
    },
    {
     "name": "stderr",
     "output_type": "stream",
     "text": [
      "100%|██████████| 200/200 [00:20<00:00,  9.64it/s]\n",
      "  0%|          | 0/200 [00:00<?, ?it/s]"
     ]
    },
    {
     "name": "stdout",
     "output_type": "stream",
     "text": [
      "Accuray of <class 'core.models.MLP.MLPClassifier'>: 1.0\n",
      "Feature 9 / 12; Processing: 27 / 63\n",
      "set features: 11\n"
     ]
    },
    {
     "name": "stderr",
     "output_type": "stream",
     "text": [
      "100%|██████████| 200/200 [00:20<00:00,  9.84it/s]\n",
      "  0%|          | 1/200 [00:00<00:23,  8.35it/s]"
     ]
    },
    {
     "name": "stdout",
     "output_type": "stream",
     "text": [
      "Accuray of <class 'core.models.MLP.MLPClassifier'>: 0.9975\n",
      "Feature 9 / 12; Processing: 28 / 63\n",
      "set features: 11\n"
     ]
    },
    {
     "name": "stderr",
     "output_type": "stream",
     "text": [
      "100%|██████████| 200/200 [00:20<00:00,  9.69it/s]\n",
      "  0%|          | 0/200 [00:00<?, ?it/s]"
     ]
    },
    {
     "name": "stdout",
     "output_type": "stream",
     "text": [
      "Accuray of <class 'core.models.MLP.MLPClassifier'>: 0.9875\n",
      "Feature 9 / 12; Processing: 29 / 63\n",
      "set features: 11\n"
     ]
    },
    {
     "name": "stderr",
     "output_type": "stream",
     "text": [
      "100%|██████████| 200/200 [00:20<00:00,  9.91it/s]\n",
      "  1%|          | 2/200 [00:00<00:16, 11.91it/s]"
     ]
    },
    {
     "name": "stdout",
     "output_type": "stream",
     "text": [
      "Accuray of <class 'core.models.MLP.MLPClassifier'>: 0.9875\n",
      "Feature 9 / 12; Processing: 30 / 63\n",
      "set features: 11\n"
     ]
    },
    {
     "name": "stderr",
     "output_type": "stream",
     "text": [
      "100%|██████████| 200/200 [00:20<00:00,  9.75it/s]\n",
      "  0%|          | 1/200 [00:00<00:26,  7.41it/s]"
     ]
    },
    {
     "name": "stdout",
     "output_type": "stream",
     "text": [
      "Accuray of <class 'core.models.MLP.MLPClassifier'>: 0.99\n",
      "Feature 9 / 12; Processing: 31 / 63\n",
      "set features: 11\n"
     ]
    },
    {
     "name": "stderr",
     "output_type": "stream",
     "text": [
      "100%|██████████| 200/200 [00:20<00:00,  9.75it/s]\n",
      "  0%|          | 0/200 [00:00<?, ?it/s]"
     ]
    },
    {
     "name": "stdout",
     "output_type": "stream",
     "text": [
      "Accuray of <class 'core.models.MLP.MLPClassifier'>: 0.9825\n",
      "Feature 9 / 12; Processing: 32 / 63\n",
      "set features: 11\n"
     ]
    },
    {
     "name": "stderr",
     "output_type": "stream",
     "text": [
      "100%|██████████| 200/200 [00:21<00:00,  9.33it/s]\n",
      "  0%|          | 1/200 [00:00<00:23,  8.44it/s]"
     ]
    },
    {
     "name": "stdout",
     "output_type": "stream",
     "text": [
      "Accuray of <class 'core.models.MLP.MLPClassifier'>: 0.985\n",
      "Feature 9 / 12; Processing: 33 / 63\n",
      "set features: 11\n"
     ]
    },
    {
     "name": "stderr",
     "output_type": "stream",
     "text": [
      "100%|██████████| 200/200 [00:20<00:00,  9.65it/s]\n",
      "  1%|          | 2/200 [00:00<00:15, 12.67it/s]"
     ]
    },
    {
     "name": "stdout",
     "output_type": "stream",
     "text": [
      "Accuray of <class 'core.models.MLP.MLPClassifier'>: 1.0\n",
      "Feature 9 / 12; Processing: 34 / 63\n",
      "set features: 11\n"
     ]
    },
    {
     "name": "stderr",
     "output_type": "stream",
     "text": [
      "100%|██████████| 200/200 [00:20<00:00,  9.74it/s]\n",
      "  1%|          | 2/200 [00:00<00:15, 12.40it/s]"
     ]
    },
    {
     "name": "stdout",
     "output_type": "stream",
     "text": [
      "Accuray of <class 'core.models.MLP.MLPClassifier'>: 0.9725\n",
      "Feature 9 / 12; Processing: 35 / 63\n",
      "set features: 11\n"
     ]
    },
    {
     "name": "stderr",
     "output_type": "stream",
     "text": [
      "100%|██████████| 200/200 [00:20<00:00,  9.66it/s]\n",
      "  0%|          | 1/200 [00:00<00:28,  6.89it/s]"
     ]
    },
    {
     "name": "stdout",
     "output_type": "stream",
     "text": [
      "Accuray of <class 'core.models.MLP.MLPClassifier'>: 0.9975\n",
      "Feature 9 / 12; Processing: 36 / 63\n",
      "set features: 11\n"
     ]
    },
    {
     "name": "stderr",
     "output_type": "stream",
     "text": [
      "100%|██████████| 200/200 [00:21<00:00,  9.49it/s]\n",
      "  0%|          | 0/200 [00:00<?, ?it/s]"
     ]
    },
    {
     "name": "stdout",
     "output_type": "stream",
     "text": [
      "Accuray of <class 'core.models.MLP.MLPClassifier'>: 0.99\n",
      "Feature 9 / 12; Processing: 37 / 63\n",
      "set features: 11\n"
     ]
    },
    {
     "name": "stderr",
     "output_type": "stream",
     "text": [
      "100%|██████████| 200/200 [00:19<00:00, 10.49it/s]\n",
      "  0%|          | 1/200 [00:00<00:21,  9.23it/s]"
     ]
    },
    {
     "name": "stdout",
     "output_type": "stream",
     "text": [
      "Accuray of <class 'core.models.MLP.MLPClassifier'>: 1.0\n",
      "Feature 9 / 12; Processing: 38 / 63\n",
      "set features: 11\n"
     ]
    },
    {
     "name": "stderr",
     "output_type": "stream",
     "text": [
      "100%|██████████| 200/200 [00:20<00:00,  9.64it/s]\n",
      "  0%|          | 1/200 [00:00<00:21,  9.07it/s]"
     ]
    },
    {
     "name": "stdout",
     "output_type": "stream",
     "text": [
      "Accuray of <class 'core.models.MLP.MLPClassifier'>: 0.9825\n",
      "Feature 9 / 12; Processing: 39 / 63\n",
      "set features: 11\n"
     ]
    },
    {
     "name": "stderr",
     "output_type": "stream",
     "text": [
      "100%|██████████| 200/200 [00:18<00:00, 10.98it/s]\n",
      "  1%|          | 2/200 [00:00<00:13, 14.33it/s]"
     ]
    },
    {
     "name": "stdout",
     "output_type": "stream",
     "text": [
      "Accuray of <class 'core.models.MLP.MLPClassifier'>: 0.9975\n",
      "Feature 9 / 12; Processing: 40 / 63\n",
      "set features: 11\n"
     ]
    },
    {
     "name": "stderr",
     "output_type": "stream",
     "text": [
      "100%|██████████| 200/200 [00:20<00:00,  9.71it/s]\n",
      "  0%|          | 1/200 [00:00<00:25,  7.88it/s]"
     ]
    },
    {
     "name": "stdout",
     "output_type": "stream",
     "text": [
      "Accuray of <class 'core.models.MLP.MLPClassifier'>: 1.0\n",
      "Feature 9 / 12; Processing: 41 / 63\n",
      "set features: 11\n"
     ]
    },
    {
     "name": "stderr",
     "output_type": "stream",
     "text": [
      "100%|██████████| 200/200 [00:19<00:00, 10.48it/s]\n",
      "  1%|          | 2/200 [00:00<00:15, 12.81it/s]"
     ]
    },
    {
     "name": "stdout",
     "output_type": "stream",
     "text": [
      "Accuray of <class 'core.models.MLP.MLPClassifier'>: 0.995\n",
      "Feature 9 / 12; Processing: 42 / 63\n",
      "set features: 11\n"
     ]
    },
    {
     "name": "stderr",
     "output_type": "stream",
     "text": [
      "100%|██████████| 200/200 [00:20<00:00,  9.77it/s]\n",
      "  0%|          | 0/200 [00:00<?, ?it/s]"
     ]
    },
    {
     "name": "stdout",
     "output_type": "stream",
     "text": [
      "Accuray of <class 'core.models.MLP.MLPClassifier'>: 0.99\n",
      "Feature 9 / 12; Processing: 43 / 63\n",
      "set features: 11\n"
     ]
    },
    {
     "name": "stderr",
     "output_type": "stream",
     "text": [
      "100%|██████████| 200/200 [00:20<00:00,  9.73it/s]\n",
      "  0%|          | 0/200 [00:00<?, ?it/s]"
     ]
    },
    {
     "name": "stdout",
     "output_type": "stream",
     "text": [
      "Accuray of <class 'core.models.MLP.MLPClassifier'>: 0.9975\n",
      "Feature 9 / 12; Processing: 44 / 63\n",
      "set features: 11\n"
     ]
    },
    {
     "name": "stderr",
     "output_type": "stream",
     "text": [
      "100%|██████████| 200/200 [00:20<00:00,  9.93it/s]\n",
      "  0%|          | 1/200 [00:00<00:20,  9.74it/s]"
     ]
    },
    {
     "name": "stdout",
     "output_type": "stream",
     "text": [
      "Accuray of <class 'core.models.MLP.MLPClassifier'>: 0.9925\n",
      "Feature 9 / 12; Processing: 45 / 63\n",
      "set features: 11\n"
     ]
    },
    {
     "name": "stderr",
     "output_type": "stream",
     "text": [
      "100%|██████████| 200/200 [00:20<00:00,  9.55it/s]\n",
      "  1%|          | 2/200 [00:00<00:15, 12.89it/s]"
     ]
    },
    {
     "name": "stdout",
     "output_type": "stream",
     "text": [
      "Accuray of <class 'core.models.MLP.MLPClassifier'>: 0.9975\n",
      "Feature 9 / 12; Processing: 46 / 63\n",
      "set features: 11\n"
     ]
    },
    {
     "name": "stderr",
     "output_type": "stream",
     "text": [
      "100%|██████████| 200/200 [00:19<00:00, 10.11it/s]\n",
      "  0%|          | 1/200 [00:00<00:22,  8.82it/s]"
     ]
    },
    {
     "name": "stdout",
     "output_type": "stream",
     "text": [
      "Accuray of <class 'core.models.MLP.MLPClassifier'>: 0.9925\n",
      "Feature 9 / 12; Processing: 47 / 63\n",
      "set features: 11\n"
     ]
    },
    {
     "name": "stderr",
     "output_type": "stream",
     "text": [
      "100%|██████████| 200/200 [00:20<00:00,  9.60it/s]\n",
      "  1%|          | 2/200 [00:00<00:16, 12.02it/s]"
     ]
    },
    {
     "name": "stdout",
     "output_type": "stream",
     "text": [
      "Accuray of <class 'core.models.MLP.MLPClassifier'>: 0.985\n",
      "Feature 9 / 12; Processing: 48 / 63\n",
      "set features: 11\n"
     ]
    },
    {
     "name": "stderr",
     "output_type": "stream",
     "text": [
      "100%|██████████| 200/200 [00:19<00:00, 10.07it/s]\n",
      "  0%|          | 1/200 [00:00<00:22,  8.91it/s]"
     ]
    },
    {
     "name": "stdout",
     "output_type": "stream",
     "text": [
      "Accuray of <class 'core.models.MLP.MLPClassifier'>: 1.0\n",
      "Feature 9 / 12; Processing: 49 / 63\n",
      "set features: 11\n"
     ]
    },
    {
     "name": "stderr",
     "output_type": "stream",
     "text": [
      "100%|██████████| 200/200 [00:20<00:00,  9.79it/s]\n",
      "  1%|          | 2/200 [00:00<00:14, 13.35it/s]"
     ]
    },
    {
     "name": "stdout",
     "output_type": "stream",
     "text": [
      "Accuray of <class 'core.models.MLP.MLPClassifier'>: 0.985\n",
      "Feature 9 / 12; Processing: 50 / 63\n",
      "set features: 11\n"
     ]
    },
    {
     "name": "stderr",
     "output_type": "stream",
     "text": [
      "100%|██████████| 200/200 [00:21<00:00,  9.52it/s]\n",
      "  0%|          | 0/200 [00:00<?, ?it/s]"
     ]
    },
    {
     "name": "stdout",
     "output_type": "stream",
     "text": [
      "Accuray of <class 'core.models.MLP.MLPClassifier'>: 0.9875\n",
      "Feature 9 / 12; Processing: 51 / 63\n",
      "set features: 11\n"
     ]
    },
    {
     "name": "stderr",
     "output_type": "stream",
     "text": [
      "100%|██████████| 200/200 [00:21<00:00,  9.40it/s]\n",
      "  0%|          | 0/200 [00:00<?, ?it/s]"
     ]
    },
    {
     "name": "stdout",
     "output_type": "stream",
     "text": [
      "Accuray of <class 'core.models.MLP.MLPClassifier'>: 1.0\n",
      "Feature 9 / 12; Processing: 52 / 63\n",
      "set features: 11\n"
     ]
    },
    {
     "name": "stderr",
     "output_type": "stream",
     "text": [
      "100%|██████████| 200/200 [00:22<00:00,  8.83it/s]\n",
      "  0%|          | 1/200 [00:00<00:27,  7.25it/s]"
     ]
    },
    {
     "name": "stdout",
     "output_type": "stream",
     "text": [
      "Accuray of <class 'core.models.MLP.MLPClassifier'>: 1.0\n",
      "Feature 9 / 12; Processing: 53 / 63\n",
      "set features: 11\n"
     ]
    },
    {
     "name": "stderr",
     "output_type": "stream",
     "text": [
      "100%|██████████| 200/200 [00:20<00:00,  9.95it/s]\n",
      "  1%|          | 2/200 [00:00<00:15, 12.72it/s]"
     ]
    },
    {
     "name": "stdout",
     "output_type": "stream",
     "text": [
      "Accuray of <class 'core.models.MLP.MLPClassifier'>: 0.965\n",
      "Feature 9 / 12; Processing: 54 / 63\n",
      "set features: 11\n"
     ]
    },
    {
     "name": "stderr",
     "output_type": "stream",
     "text": [
      "100%|██████████| 200/200 [00:18<00:00, 10.67it/s]\n",
      "  0%|          | 0/200 [00:00<?, ?it/s]"
     ]
    },
    {
     "name": "stdout",
     "output_type": "stream",
     "text": [
      "Accuray of <class 'core.models.MLP.MLPClassifier'>: 0.9675\n",
      "Feature 9 / 12; Processing: 55 / 63\n",
      "set features: 11\n"
     ]
    },
    {
     "name": "stderr",
     "output_type": "stream",
     "text": [
      "100%|██████████| 200/200 [00:20<00:00,  9.65it/s]\n",
      "  0%|          | 0/200 [00:00<?, ?it/s]"
     ]
    },
    {
     "name": "stdout",
     "output_type": "stream",
     "text": [
      "Accuray of <class 'core.models.MLP.MLPClassifier'>: 0.9775\n",
      "Feature 9 / 12; Processing: 56 / 63\n",
      "set features: 11\n"
     ]
    },
    {
     "name": "stderr",
     "output_type": "stream",
     "text": [
      "100%|██████████| 200/200 [00:20<00:00,  9.53it/s]\n",
      "  0%|          | 0/200 [00:00<?, ?it/s]"
     ]
    },
    {
     "name": "stdout",
     "output_type": "stream",
     "text": [
      "Accuray of <class 'core.models.MLP.MLPClassifier'>: 0.9825\n",
      "Feature 9 / 12; Processing: 57 / 63\n",
      "set features: 11\n"
     ]
    },
    {
     "name": "stderr",
     "output_type": "stream",
     "text": [
      "100%|██████████| 200/200 [00:20<00:00,  9.71it/s]\n",
      "  0%|          | 1/200 [00:00<00:25,  7.67it/s]"
     ]
    },
    {
     "name": "stdout",
     "output_type": "stream",
     "text": [
      "Accuray of <class 'core.models.MLP.MLPClassifier'>: 0.98\n",
      "Feature 9 / 12; Processing: 58 / 63\n",
      "set features: 11\n"
     ]
    },
    {
     "name": "stderr",
     "output_type": "stream",
     "text": [
      "100%|██████████| 200/200 [00:20<00:00,  9.69it/s]\n",
      "  1%|          | 2/200 [00:00<00:15, 13.09it/s]"
     ]
    },
    {
     "name": "stdout",
     "output_type": "stream",
     "text": [
      "Accuray of <class 'core.models.MLP.MLPClassifier'>: 0.995\n",
      "Feature 9 / 12; Processing: 59 / 63\n",
      "set features: 11\n"
     ]
    },
    {
     "name": "stderr",
     "output_type": "stream",
     "text": [
      "100%|██████████| 200/200 [00:21<00:00,  9.32it/s]\n",
      "  0%|          | 1/200 [00:00<00:24,  7.99it/s]"
     ]
    },
    {
     "name": "stdout",
     "output_type": "stream",
     "text": [
      "Accuray of <class 'core.models.MLP.MLPClassifier'>: 0.995\n",
      "Feature 9 / 12; Processing: 60 / 63\n",
      "set features: 11\n"
     ]
    },
    {
     "name": "stderr",
     "output_type": "stream",
     "text": [
      "100%|██████████| 200/200 [00:20<00:00,  9.63it/s]\n",
      "  0%|          | 0/200 [00:00<?, ?it/s]"
     ]
    },
    {
     "name": "stdout",
     "output_type": "stream",
     "text": [
      "Accuray of <class 'core.models.MLP.MLPClassifier'>: 0.995\n",
      "Feature 9 / 12; Processing: 61 / 63\n",
      "set features: 11\n"
     ]
    },
    {
     "name": "stderr",
     "output_type": "stream",
     "text": [
      "100%|██████████| 200/200 [00:22<00:00,  8.83it/s]\n",
      "  0%|          | 1/200 [00:00<00:20,  9.87it/s]"
     ]
    },
    {
     "name": "stdout",
     "output_type": "stream",
     "text": [
      "Accuray of <class 'core.models.MLP.MLPClassifier'>: 0.985\n",
      "Feature 9 / 12; Processing: 62 / 63\n",
      "set features: 11\n"
     ]
    },
    {
     "name": "stderr",
     "output_type": "stream",
     "text": [
      "100%|██████████| 200/200 [00:18<00:00, 10.61it/s]\n",
      "  1%|          | 2/200 [00:00<00:10, 18.91it/s]"
     ]
    },
    {
     "name": "stdout",
     "output_type": "stream",
     "text": [
      "Accuray of <class 'core.models.MLP.MLPClassifier'>: 0.99\n",
      "remove feature predicate_op_num_on_indexed_attr: after remove length: 11\n",
      "Feature 10 / 12; Processing: 0 / 63\n",
      "set features: 11\n"
     ]
    },
    {
     "name": "stderr",
     "output_type": "stream",
     "text": [
      "100%|██████████| 200/200 [00:19<00:00, 10.31it/s]\n",
      "  0%|          | 1/200 [00:00<00:24,  8.19it/s]"
     ]
    },
    {
     "name": "stdout",
     "output_type": "stream",
     "text": [
      "Accuray of <class 'core.models.MLP.MLPClassifier'>: 0.9875\n",
      "Feature 10 / 12; Processing: 1 / 63\n",
      "set features: 11\n"
     ]
    },
    {
     "name": "stderr",
     "output_type": "stream",
     "text": [
      "100%|██████████| 200/200 [00:21<00:00,  9.28it/s]\n",
      "  0%|          | 1/200 [00:00<00:20,  9.94it/s]"
     ]
    },
    {
     "name": "stdout",
     "output_type": "stream",
     "text": [
      "Accuray of <class 'core.models.MLP.MLPClassifier'>: 1.0\n",
      "Feature 10 / 12; Processing: 2 / 63\n",
      "set features: 11\n"
     ]
    },
    {
     "name": "stderr",
     "output_type": "stream",
     "text": [
      "100%|██████████| 200/200 [00:21<00:00,  9.18it/s]\n",
      "  0%|          | 1/200 [00:00<00:23,  8.62it/s]"
     ]
    },
    {
     "name": "stdout",
     "output_type": "stream",
     "text": [
      "Accuray of <class 'core.models.MLP.MLPClassifier'>: 0.98\n",
      "Feature 10 / 12; Processing: 3 / 63\n",
      "set features: 11\n"
     ]
    },
    {
     "name": "stderr",
     "output_type": "stream",
     "text": [
      "100%|██████████| 200/200 [00:22<00:00,  8.85it/s]\n",
      "  0%|          | 1/200 [00:00<00:22,  8.72it/s]"
     ]
    },
    {
     "name": "stdout",
     "output_type": "stream",
     "text": [
      "Accuray of <class 'core.models.MLP.MLPClassifier'>: 0.9825\n",
      "Feature 10 / 12; Processing: 4 / 63\n",
      "set features: 11\n"
     ]
    },
    {
     "name": "stderr",
     "output_type": "stream",
     "text": [
      "100%|██████████| 200/200 [00:19<00:00, 10.10it/s]\n",
      "  0%|          | 0/200 [00:00<?, ?it/s]"
     ]
    },
    {
     "name": "stdout",
     "output_type": "stream",
     "text": [
      "Accuray of <class 'core.models.MLP.MLPClassifier'>: 0.995\n",
      "Feature 10 / 12; Processing: 5 / 63\n",
      "set features: 11\n"
     ]
    },
    {
     "name": "stderr",
     "output_type": "stream",
     "text": [
      "100%|██████████| 200/200 [00:21<00:00,  9.35it/s]\n",
      "  0%|          | 1/200 [00:00<00:20,  9.93it/s]"
     ]
    },
    {
     "name": "stdout",
     "output_type": "stream",
     "text": [
      "Accuray of <class 'core.models.MLP.MLPClassifier'>: 0.995\n",
      "Feature 10 / 12; Processing: 6 / 63\n",
      "set features: 11\n"
     ]
    },
    {
     "name": "stderr",
     "output_type": "stream",
     "text": [
      "100%|██████████| 200/200 [00:21<00:00,  9.36it/s]\n",
      "  1%|          | 2/200 [00:00<00:15, 12.51it/s]"
     ]
    },
    {
     "name": "stdout",
     "output_type": "stream",
     "text": [
      "Accuray of <class 'core.models.MLP.MLPClassifier'>: 0.9975\n",
      "Feature 10 / 12; Processing: 7 / 63\n",
      "set features: 11\n"
     ]
    },
    {
     "name": "stderr",
     "output_type": "stream",
     "text": [
      "100%|██████████| 200/200 [00:20<00:00,  9.81it/s]\n",
      "  0%|          | 0/200 [00:00<?, ?it/s]"
     ]
    },
    {
     "name": "stdout",
     "output_type": "stream",
     "text": [
      "Accuray of <class 'core.models.MLP.MLPClassifier'>: 0.995\n",
      "Feature 10 / 12; Processing: 8 / 63\n",
      "set features: 11\n"
     ]
    },
    {
     "name": "stderr",
     "output_type": "stream",
     "text": [
      "100%|██████████| 200/200 [00:22<00:00,  9.04it/s]\n",
      "  0%|          | 0/200 [00:00<?, ?it/s]"
     ]
    },
    {
     "name": "stdout",
     "output_type": "stream",
     "text": [
      "Accuray of <class 'core.models.MLP.MLPClassifier'>: 0.975\n",
      "Feature 10 / 12; Processing: 9 / 63\n",
      "set features: 11\n"
     ]
    },
    {
     "name": "stderr",
     "output_type": "stream",
     "text": [
      "100%|██████████| 200/200 [00:21<00:00,  9.18it/s]\n",
      "  0%|          | 1/200 [00:00<00:22,  9.02it/s]"
     ]
    },
    {
     "name": "stdout",
     "output_type": "stream",
     "text": [
      "Accuray of <class 'core.models.MLP.MLPClassifier'>: 0.9775\n",
      "Feature 10 / 12; Processing: 10 / 63\n",
      "set features: 11\n"
     ]
    },
    {
     "name": "stderr",
     "output_type": "stream",
     "text": [
      "100%|██████████| 200/200 [00:19<00:00, 10.48it/s]\n",
      "  0%|          | 1/200 [00:00<00:23,  8.47it/s]"
     ]
    },
    {
     "name": "stdout",
     "output_type": "stream",
     "text": [
      "Accuray of <class 'core.models.MLP.MLPClassifier'>: 0.9875\n",
      "Feature 10 / 12; Processing: 11 / 63\n",
      "set features: 11\n"
     ]
    },
    {
     "name": "stderr",
     "output_type": "stream",
     "text": [
      "100%|██████████| 200/200 [00:20<00:00,  9.53it/s]\n",
      "  0%|          | 1/200 [00:00<00:20,  9.91it/s]"
     ]
    },
    {
     "name": "stdout",
     "output_type": "stream",
     "text": [
      "Accuray of <class 'core.models.MLP.MLPClassifier'>: 0.9825\n",
      "Feature 10 / 12; Processing: 12 / 63\n",
      "set features: 11\n"
     ]
    },
    {
     "name": "stderr",
     "output_type": "stream",
     "text": [
      "100%|██████████| 200/200 [00:19<00:00, 10.11it/s]\n",
      "  0%|          | 0/200 [00:00<?, ?it/s]"
     ]
    },
    {
     "name": "stdout",
     "output_type": "stream",
     "text": [
      "Accuray of <class 'core.models.MLP.MLPClassifier'>: 0.9925\n",
      "Feature 10 / 12; Processing: 13 / 63\n",
      "set features: 11\n"
     ]
    },
    {
     "name": "stderr",
     "output_type": "stream",
     "text": [
      "100%|██████████| 200/200 [00:19<00:00, 10.05it/s]\n",
      "  0%|          | 0/200 [00:00<?, ?it/s]"
     ]
    },
    {
     "name": "stdout",
     "output_type": "stream",
     "text": [
      "Accuray of <class 'core.models.MLP.MLPClassifier'>: 1.0\n",
      "Feature 10 / 12; Processing: 14 / 63\n",
      "set features: 11\n"
     ]
    },
    {
     "name": "stderr",
     "output_type": "stream",
     "text": [
      "100%|██████████| 200/200 [00:19<00:00, 10.34it/s]\n",
      "  0%|          | 1/200 [00:00<00:23,  8.45it/s]"
     ]
    },
    {
     "name": "stdout",
     "output_type": "stream",
     "text": [
      "Accuray of <class 'core.models.MLP.MLPClassifier'>: 1.0\n",
      "Feature 10 / 12; Processing: 15 / 63\n",
      "set features: 11\n"
     ]
    },
    {
     "name": "stderr",
     "output_type": "stream",
     "text": [
      "100%|██████████| 200/200 [00:19<00:00, 10.12it/s]\n",
      "  0%|          | 0/200 [00:00<?, ?it/s]"
     ]
    },
    {
     "name": "stdout",
     "output_type": "stream",
     "text": [
      "Accuray of <class 'core.models.MLP.MLPClassifier'>: 0.9825\n",
      "Feature 10 / 12; Processing: 16 / 63\n",
      "set features: 11\n"
     ]
    },
    {
     "name": "stderr",
     "output_type": "stream",
     "text": [
      "100%|██████████| 200/200 [00:21<00:00,  9.32it/s]\n",
      "  0%|          | 0/200 [00:00<?, ?it/s]"
     ]
    },
    {
     "name": "stdout",
     "output_type": "stream",
     "text": [
      "Accuray of <class 'core.models.MLP.MLPClassifier'>: 0.9925\n",
      "Feature 10 / 12; Processing: 17 / 63\n",
      "set features: 11\n"
     ]
    },
    {
     "name": "stderr",
     "output_type": "stream",
     "text": [
      "100%|██████████| 200/200 [00:20<00:00,  9.56it/s]\n",
      "  0%|          | 1/200 [00:00<00:26,  7.63it/s]"
     ]
    },
    {
     "name": "stdout",
     "output_type": "stream",
     "text": [
      "Accuray of <class 'core.models.MLP.MLPClassifier'>: 0.975\n",
      "Feature 10 / 12; Processing: 18 / 63\n",
      "set features: 11\n"
     ]
    },
    {
     "name": "stderr",
     "output_type": "stream",
     "text": [
      "100%|██████████| 200/200 [00:20<00:00,  9.53it/s]\n",
      "  0%|          | 1/200 [00:00<00:22,  9.03it/s]"
     ]
    },
    {
     "name": "stdout",
     "output_type": "stream",
     "text": [
      "Accuray of <class 'core.models.MLP.MLPClassifier'>: 1.0\n",
      "Feature 10 / 12; Processing: 19 / 63\n",
      "set features: 11\n"
     ]
    },
    {
     "name": "stderr",
     "output_type": "stream",
     "text": [
      "100%|██████████| 200/200 [00:21<00:00,  9.37it/s]\n",
      "  0%|          | 1/200 [00:00<00:24,  8.26it/s]"
     ]
    },
    {
     "name": "stdout",
     "output_type": "stream",
     "text": [
      "Accuray of <class 'core.models.MLP.MLPClassifier'>: 0.995\n",
      "Feature 10 / 12; Processing: 20 / 63\n",
      "set features: 11\n"
     ]
    },
    {
     "name": "stderr",
     "output_type": "stream",
     "text": [
      "100%|██████████| 200/200 [00:20<00:00,  9.95it/s]\n",
      "  0%|          | 0/200 [00:00<?, ?it/s]"
     ]
    },
    {
     "name": "stdout",
     "output_type": "stream",
     "text": [
      "Accuray of <class 'core.models.MLP.MLPClassifier'>: 0.9925\n",
      "Feature 10 / 12; Processing: 21 / 63\n",
      "set features: 11\n"
     ]
    },
    {
     "name": "stderr",
     "output_type": "stream",
     "text": [
      "100%|██████████| 200/200 [00:20<00:00,  9.72it/s]\n",
      "  1%|          | 2/200 [00:00<00:16, 12.35it/s]"
     ]
    },
    {
     "name": "stdout",
     "output_type": "stream",
     "text": [
      "Accuray of <class 'core.models.MLP.MLPClassifier'>: 0.99\n",
      "Feature 10 / 12; Processing: 22 / 63\n",
      "set features: 11\n"
     ]
    },
    {
     "name": "stderr",
     "output_type": "stream",
     "text": [
      "100%|██████████| 200/200 [00:19<00:00, 10.10it/s]\n",
      "  0%|          | 0/200 [00:00<?, ?it/s]"
     ]
    },
    {
     "name": "stdout",
     "output_type": "stream",
     "text": [
      "Accuray of <class 'core.models.MLP.MLPClassifier'>: 1.0\n",
      "Feature 10 / 12; Processing: 23 / 63\n",
      "set features: 11\n"
     ]
    },
    {
     "name": "stderr",
     "output_type": "stream",
     "text": [
      "100%|██████████| 200/200 [00:20<00:00,  9.96it/s]\n",
      "  0%|          | 1/200 [00:00<00:25,  7.72it/s]"
     ]
    },
    {
     "name": "stdout",
     "output_type": "stream",
     "text": [
      "Accuray of <class 'core.models.MLP.MLPClassifier'>: 0.985\n",
      "Feature 10 / 12; Processing: 24 / 63\n",
      "set features: 11\n"
     ]
    },
    {
     "name": "stderr",
     "output_type": "stream",
     "text": [
      "100%|██████████| 200/200 [00:21<00:00,  9.29it/s]\n",
      "  0%|          | 0/200 [00:00<?, ?it/s]"
     ]
    },
    {
     "name": "stdout",
     "output_type": "stream",
     "text": [
      "Accuray of <class 'core.models.MLP.MLPClassifier'>: 0.97\n",
      "Feature 10 / 12; Processing: 25 / 63\n",
      "set features: 11\n"
     ]
    },
    {
     "name": "stderr",
     "output_type": "stream",
     "text": [
      "100%|██████████| 200/200 [00:21<00:00,  9.32it/s]\n",
      "  0%|          | 0/200 [00:00<?, ?it/s]"
     ]
    },
    {
     "name": "stdout",
     "output_type": "stream",
     "text": [
      "Accuray of <class 'core.models.MLP.MLPClassifier'>: 0.995\n",
      "Feature 10 / 12; Processing: 26 / 63\n",
      "set features: 11\n"
     ]
    },
    {
     "name": "stderr",
     "output_type": "stream",
     "text": [
      "100%|██████████| 200/200 [00:20<00:00,  9.89it/s]\n",
      "  0%|          | 0/200 [00:00<?, ?it/s]"
     ]
    },
    {
     "name": "stdout",
     "output_type": "stream",
     "text": [
      "Accuray of <class 'core.models.MLP.MLPClassifier'>: 0.995\n",
      "Feature 10 / 12; Processing: 27 / 63\n",
      "set features: 11\n"
     ]
    },
    {
     "name": "stderr",
     "output_type": "stream",
     "text": [
      "100%|██████████| 200/200 [00:21<00:00,  9.41it/s]\n",
      "  0%|          | 0/200 [00:00<?, ?it/s]"
     ]
    },
    {
     "name": "stdout",
     "output_type": "stream",
     "text": [
      "Accuray of <class 'core.models.MLP.MLPClassifier'>: 0.995\n",
      "Feature 10 / 12; Processing: 28 / 63\n",
      "set features: 11\n"
     ]
    },
    {
     "name": "stderr",
     "output_type": "stream",
     "text": [
      "100%|██████████| 200/200 [00:20<00:00,  9.56it/s]\n",
      "  0%|          | 1/200 [00:00<00:21,  9.20it/s]"
     ]
    },
    {
     "name": "stdout",
     "output_type": "stream",
     "text": [
      "Accuray of <class 'core.models.MLP.MLPClassifier'>: 0.985\n",
      "Feature 10 / 12; Processing: 29 / 63\n",
      "set features: 11\n"
     ]
    },
    {
     "name": "stderr",
     "output_type": "stream",
     "text": [
      "100%|██████████| 200/200 [00:20<00:00,  9.87it/s]\n",
      "  0%|          | 1/200 [00:00<00:20,  9.93it/s]"
     ]
    },
    {
     "name": "stdout",
     "output_type": "stream",
     "text": [
      "Accuray of <class 'core.models.MLP.MLPClassifier'>: 0.99\n",
      "Feature 10 / 12; Processing: 30 / 63\n",
      "set features: 11\n"
     ]
    },
    {
     "name": "stderr",
     "output_type": "stream",
     "text": [
      "100%|██████████| 200/200 [00:19<00:00, 10.44it/s]\n",
      "  0%|          | 0/200 [00:00<?, ?it/s]"
     ]
    },
    {
     "name": "stdout",
     "output_type": "stream",
     "text": [
      "Accuray of <class 'core.models.MLP.MLPClassifier'>: 0.99\n",
      "Feature 10 / 12; Processing: 31 / 63\n",
      "set features: 11\n"
     ]
    },
    {
     "name": "stderr",
     "output_type": "stream",
     "text": [
      "100%|██████████| 200/200 [00:21<00:00,  9.35it/s]\n",
      "  1%|          | 2/200 [00:00<00:15, 12.40it/s]"
     ]
    },
    {
     "name": "stdout",
     "output_type": "stream",
     "text": [
      "Accuray of <class 'core.models.MLP.MLPClassifier'>: 0.9775\n",
      "Feature 10 / 12; Processing: 32 / 63\n",
      "set features: 11\n"
     ]
    },
    {
     "name": "stderr",
     "output_type": "stream",
     "text": [
      "100%|██████████| 200/200 [00:19<00:00, 10.35it/s]\n",
      "  0%|          | 1/200 [00:00<00:24,  8.12it/s]"
     ]
    },
    {
     "name": "stdout",
     "output_type": "stream",
     "text": [
      "Accuray of <class 'core.models.MLP.MLPClassifier'>: 0.99\n",
      "Feature 10 / 12; Processing: 33 / 63\n",
      "set features: 11\n"
     ]
    },
    {
     "name": "stderr",
     "output_type": "stream",
     "text": [
      "100%|██████████| 200/200 [00:21<00:00,  9.16it/s]\n",
      "  0%|          | 0/200 [00:00<?, ?it/s]"
     ]
    },
    {
     "name": "stdout",
     "output_type": "stream",
     "text": [
      "Accuray of <class 'core.models.MLP.MLPClassifier'>: 1.0\n",
      "Feature 10 / 12; Processing: 34 / 63\n",
      "set features: 11\n"
     ]
    },
    {
     "name": "stderr",
     "output_type": "stream",
     "text": [
      "100%|██████████| 200/200 [00:20<00:00,  9.55it/s]\n",
      "  0%|          | 1/200 [00:00<00:24,  8.24it/s]"
     ]
    },
    {
     "name": "stdout",
     "output_type": "stream",
     "text": [
      "Accuray of <class 'core.models.MLP.MLPClassifier'>: 0.995\n",
      "Feature 10 / 12; Processing: 35 / 63\n",
      "set features: 11\n"
     ]
    },
    {
     "name": "stderr",
     "output_type": "stream",
     "text": [
      "100%|██████████| 200/200 [00:20<00:00,  9.77it/s]\n",
      "  0%|          | 1/200 [00:00<00:26,  7.46it/s]"
     ]
    },
    {
     "name": "stdout",
     "output_type": "stream",
     "text": [
      "Accuray of <class 'core.models.MLP.MLPClassifier'>: 0.9975\n",
      "Feature 10 / 12; Processing: 36 / 63\n",
      "set features: 11\n"
     ]
    },
    {
     "name": "stderr",
     "output_type": "stream",
     "text": [
      "100%|██████████| 200/200 [00:20<00:00,  9.80it/s]\n",
      "  0%|          | 0/200 [00:00<?, ?it/s]"
     ]
    },
    {
     "name": "stdout",
     "output_type": "stream",
     "text": [
      "Accuray of <class 'core.models.MLP.MLPClassifier'>: 0.9975\n",
      "Feature 10 / 12; Processing: 37 / 63\n",
      "set features: 11\n"
     ]
    },
    {
     "name": "stderr",
     "output_type": "stream",
     "text": [
      "100%|██████████| 200/200 [00:20<00:00,  9.77it/s]\n",
      "  1%|          | 2/200 [00:00<00:16, 12.28it/s]"
     ]
    },
    {
     "name": "stdout",
     "output_type": "stream",
     "text": [
      "Accuray of <class 'core.models.MLP.MLPClassifier'>: 1.0\n",
      "Feature 10 / 12; Processing: 38 / 63\n",
      "set features: 11\n"
     ]
    },
    {
     "name": "stderr",
     "output_type": "stream",
     "text": [
      "100%|██████████| 200/200 [00:20<00:00,  9.80it/s]\n",
      "  0%|          | 1/200 [00:00<00:20,  9.53it/s]"
     ]
    },
    {
     "name": "stdout",
     "output_type": "stream",
     "text": [
      "Accuray of <class 'core.models.MLP.MLPClassifier'>: 0.975\n",
      "Feature 10 / 12; Processing: 39 / 63\n",
      "set features: 11\n"
     ]
    },
    {
     "name": "stderr",
     "output_type": "stream",
     "text": [
      "100%|██████████| 200/200 [00:21<00:00,  9.15it/s]\n",
      "  1%|          | 2/200 [00:00<00:16, 12.01it/s]"
     ]
    },
    {
     "name": "stdout",
     "output_type": "stream",
     "text": [
      "Accuray of <class 'core.models.MLP.MLPClassifier'>: 0.9775\n",
      "Feature 10 / 12; Processing: 40 / 63\n",
      "set features: 11\n"
     ]
    },
    {
     "name": "stderr",
     "output_type": "stream",
     "text": [
      "100%|██████████| 200/200 [00:21<00:00,  9.26it/s]\n",
      "  0%|          | 1/200 [00:00<00:20,  9.49it/s]"
     ]
    },
    {
     "name": "stdout",
     "output_type": "stream",
     "text": [
      "Accuray of <class 'core.models.MLP.MLPClassifier'>: 1.0\n",
      "Feature 10 / 12; Processing: 41 / 63\n",
      "set features: 11\n"
     ]
    },
    {
     "name": "stderr",
     "output_type": "stream",
     "text": [
      "100%|██████████| 200/200 [00:19<00:00, 10.34it/s]\n",
      "  0%|          | 1/200 [00:00<00:23,  8.51it/s]"
     ]
    },
    {
     "name": "stdout",
     "output_type": "stream",
     "text": [
      "Accuray of <class 'core.models.MLP.MLPClassifier'>: 0.9825\n",
      "Feature 10 / 12; Processing: 42 / 63\n",
      "set features: 11\n"
     ]
    },
    {
     "name": "stderr",
     "output_type": "stream",
     "text": [
      "100%|██████████| 200/200 [00:19<00:00, 10.01it/s]\n",
      "  0%|          | 1/200 [00:00<00:27,  7.23it/s]"
     ]
    },
    {
     "name": "stdout",
     "output_type": "stream",
     "text": [
      "Accuray of <class 'core.models.MLP.MLPClassifier'>: 1.0\n",
      "Feature 10 / 12; Processing: 43 / 63\n",
      "set features: 11\n"
     ]
    },
    {
     "name": "stderr",
     "output_type": "stream",
     "text": [
      "100%|██████████| 200/200 [00:21<00:00,  9.46it/s]\n",
      "  0%|          | 1/200 [00:00<00:23,  8.49it/s]"
     ]
    },
    {
     "name": "stdout",
     "output_type": "stream",
     "text": [
      "Accuray of <class 'core.models.MLP.MLPClassifier'>: 0.99\n",
      "Feature 10 / 12; Processing: 44 / 63\n",
      "set features: 11\n"
     ]
    },
    {
     "name": "stderr",
     "output_type": "stream",
     "text": [
      "100%|██████████| 200/200 [00:22<00:00,  8.93it/s]\n",
      "  0%|          | 1/200 [00:00<00:24,  8.21it/s]"
     ]
    },
    {
     "name": "stdout",
     "output_type": "stream",
     "text": [
      "Accuray of <class 'core.models.MLP.MLPClassifier'>: 1.0\n",
      "Feature 10 / 12; Processing: 45 / 63\n",
      "set features: 11\n"
     ]
    },
    {
     "name": "stderr",
     "output_type": "stream",
     "text": [
      "100%|██████████| 200/200 [00:21<00:00,  9.43it/s]\n",
      "  0%|          | 0/200 [00:00<?, ?it/s]"
     ]
    },
    {
     "name": "stdout",
     "output_type": "stream",
     "text": [
      "Accuray of <class 'core.models.MLP.MLPClassifier'>: 0.985\n",
      "Feature 10 / 12; Processing: 46 / 63\n",
      "set features: 11\n"
     ]
    },
    {
     "name": "stderr",
     "output_type": "stream",
     "text": [
      "100%|██████████| 200/200 [00:21<00:00,  9.43it/s]\n",
      "  0%|          | 0/200 [00:00<?, ?it/s]"
     ]
    },
    {
     "name": "stdout",
     "output_type": "stream",
     "text": [
      "Accuray of <class 'core.models.MLP.MLPClassifier'>: 0.99\n",
      "Feature 10 / 12; Processing: 47 / 63\n",
      "set features: 11\n"
     ]
    },
    {
     "name": "stderr",
     "output_type": "stream",
     "text": [
      "100%|██████████| 200/200 [00:20<00:00,  9.65it/s]\n",
      "  0%|          | 0/200 [00:00<?, ?it/s]"
     ]
    },
    {
     "name": "stdout",
     "output_type": "stream",
     "text": [
      "Accuray of <class 'core.models.MLP.MLPClassifier'>: 0.985\n",
      "Feature 10 / 12; Processing: 48 / 63\n",
      "set features: 11\n"
     ]
    },
    {
     "name": "stderr",
     "output_type": "stream",
     "text": [
      "100%|██████████| 200/200 [00:19<00:00, 10.03it/s]\n",
      "  0%|          | 1/200 [00:00<00:25,  7.81it/s]"
     ]
    },
    {
     "name": "stdout",
     "output_type": "stream",
     "text": [
      "Accuray of <class 'core.models.MLP.MLPClassifier'>: 1.0\n",
      "Feature 10 / 12; Processing: 49 / 63\n",
      "set features: 11\n"
     ]
    },
    {
     "name": "stderr",
     "output_type": "stream",
     "text": [
      "100%|██████████| 200/200 [00:21<00:00,  9.47it/s]\n",
      "  0%|          | 0/200 [00:00<?, ?it/s]"
     ]
    },
    {
     "name": "stdout",
     "output_type": "stream",
     "text": [
      "Accuray of <class 'core.models.MLP.MLPClassifier'>: 0.9925\n",
      "Feature 10 / 12; Processing: 50 / 63\n",
      "set features: 11\n"
     ]
    },
    {
     "name": "stderr",
     "output_type": "stream",
     "text": [
      "100%|██████████| 200/200 [00:23<00:00,  8.55it/s]\n",
      "  0%|          | 1/200 [00:00<00:25,  7.87it/s]"
     ]
    },
    {
     "name": "stdout",
     "output_type": "stream",
     "text": [
      "Accuray of <class 'core.models.MLP.MLPClassifier'>: 0.9925\n",
      "Feature 10 / 12; Processing: 51 / 63\n",
      "set features: 11\n"
     ]
    },
    {
     "name": "stderr",
     "output_type": "stream",
     "text": [
      "100%|██████████| 200/200 [00:22<00:00,  9.00it/s]\n",
      "  0%|          | 1/200 [00:00<00:21,  9.16it/s]"
     ]
    },
    {
     "name": "stdout",
     "output_type": "stream",
     "text": [
      "Accuray of <class 'core.models.MLP.MLPClassifier'>: 0.9925\n",
      "Feature 10 / 12; Processing: 52 / 63\n",
      "set features: 11\n"
     ]
    },
    {
     "name": "stderr",
     "output_type": "stream",
     "text": [
      "100%|██████████| 200/200 [00:20<00:00,  9.98it/s]\n",
      "  0%|          | 1/200 [00:00<00:23,  8.33it/s]"
     ]
    },
    {
     "name": "stdout",
     "output_type": "stream",
     "text": [
      "Accuray of <class 'core.models.MLP.MLPClassifier'>: 1.0\n",
      "Feature 10 / 12; Processing: 53 / 63\n",
      "set features: 11\n"
     ]
    },
    {
     "name": "stderr",
     "output_type": "stream",
     "text": [
      "100%|██████████| 200/200 [00:21<00:00,  9.37it/s]\n",
      "  0%|          | 0/200 [00:00<?, ?it/s]"
     ]
    },
    {
     "name": "stdout",
     "output_type": "stream",
     "text": [
      "Accuray of <class 'core.models.MLP.MLPClassifier'>: 0.9825\n",
      "Feature 10 / 12; Processing: 54 / 63\n",
      "set features: 11\n"
     ]
    },
    {
     "name": "stderr",
     "output_type": "stream",
     "text": [
      "100%|██████████| 200/200 [00:19<00:00, 10.23it/s]\n",
      "  0%|          | 0/200 [00:00<?, ?it/s]"
     ]
    },
    {
     "name": "stdout",
     "output_type": "stream",
     "text": [
      "Accuray of <class 'core.models.MLP.MLPClassifier'>: 0.975\n",
      "Feature 10 / 12; Processing: 55 / 63\n",
      "set features: 11\n"
     ]
    },
    {
     "name": "stderr",
     "output_type": "stream",
     "text": [
      "100%|██████████| 200/200 [00:20<00:00,  9.78it/s]\n",
      "  0%|          | 1/200 [00:00<00:21,  9.19it/s]"
     ]
    },
    {
     "name": "stdout",
     "output_type": "stream",
     "text": [
      "Accuray of <class 'core.models.MLP.MLPClassifier'>: 0.9775\n",
      "Feature 10 / 12; Processing: 56 / 63\n",
      "set features: 11\n"
     ]
    },
    {
     "name": "stderr",
     "output_type": "stream",
     "text": [
      "100%|██████████| 200/200 [00:20<00:00,  9.71it/s]\n",
      "  0%|          | 0/200 [00:00<?, ?it/s]"
     ]
    },
    {
     "name": "stdout",
     "output_type": "stream",
     "text": [
      "Accuray of <class 'core.models.MLP.MLPClassifier'>: 0.97\n",
      "Feature 10 / 12; Processing: 57 / 63\n",
      "set features: 11\n"
     ]
    },
    {
     "name": "stderr",
     "output_type": "stream",
     "text": [
      "100%|██████████| 200/200 [00:22<00:00,  9.00it/s]\n",
      "  0%|          | 0/200 [00:00<?, ?it/s]"
     ]
    },
    {
     "name": "stdout",
     "output_type": "stream",
     "text": [
      "Accuray of <class 'core.models.MLP.MLPClassifier'>: 0.9575\n",
      "Feature 10 / 12; Processing: 58 / 63\n",
      "set features: 11\n"
     ]
    },
    {
     "name": "stderr",
     "output_type": "stream",
     "text": [
      "100%|██████████| 200/200 [00:22<00:00,  9.02it/s]\n",
      "  0%|          | 1/200 [00:00<00:20,  9.53it/s]"
     ]
    },
    {
     "name": "stdout",
     "output_type": "stream",
     "text": [
      "Accuray of <class 'core.models.MLP.MLPClassifier'>: 0.995\n",
      "Feature 10 / 12; Processing: 59 / 63\n",
      "set features: 11\n"
     ]
    },
    {
     "name": "stderr",
     "output_type": "stream",
     "text": [
      "100%|██████████| 200/200 [00:20<00:00,  9.68it/s]\n",
      "  0%|          | 1/200 [00:00<00:20,  9.85it/s]"
     ]
    },
    {
     "name": "stdout",
     "output_type": "stream",
     "text": [
      "Accuray of <class 'core.models.MLP.MLPClassifier'>: 0.995\n",
      "Feature 10 / 12; Processing: 60 / 63\n",
      "set features: 11\n"
     ]
    },
    {
     "name": "stderr",
     "output_type": "stream",
     "text": [
      "100%|██████████| 200/200 [00:20<00:00,  9.62it/s]\n",
      "  1%|          | 2/200 [00:00<00:15, 13.03it/s]"
     ]
    },
    {
     "name": "stdout",
     "output_type": "stream",
     "text": [
      "Accuray of <class 'core.models.MLP.MLPClassifier'>: 0.99\n",
      "Feature 10 / 12; Processing: 61 / 63\n",
      "set features: 11\n"
     ]
    },
    {
     "name": "stderr",
     "output_type": "stream",
     "text": [
      "100%|██████████| 200/200 [00:19<00:00, 10.31it/s]\n",
      "  0%|          | 0/200 [00:00<?, ?it/s]"
     ]
    },
    {
     "name": "stdout",
     "output_type": "stream",
     "text": [
      "Accuray of <class 'core.models.MLP.MLPClassifier'>: 0.9825\n",
      "Feature 10 / 12; Processing: 62 / 63\n",
      "set features: 11\n"
     ]
    },
    {
     "name": "stderr",
     "output_type": "stream",
     "text": [
      "100%|██████████| 200/200 [00:20<00:00,  9.90it/s]\n",
      "  0%|          | 1/200 [00:00<00:23,  8.53it/s]"
     ]
    },
    {
     "name": "stdout",
     "output_type": "stream",
     "text": [
      "Accuray of <class 'core.models.MLP.MLPClassifier'>: 0.99\n",
      "remove feature predicate_op_num_on_non_indexed_attr: after remove length: 11\n",
      "Feature 11 / 12; Processing: 0 / 63\n",
      "set features: 11\n"
     ]
    },
    {
     "name": "stderr",
     "output_type": "stream",
     "text": [
      "100%|██████████| 200/200 [00:20<00:00,  9.59it/s]\n",
      "  1%|          | 2/200 [00:00<00:15, 12.56it/s]"
     ]
    },
    {
     "name": "stdout",
     "output_type": "stream",
     "text": [
      "Accuray of <class 'core.models.MLP.MLPClassifier'>: 0.995\n",
      "Feature 11 / 12; Processing: 1 / 63\n",
      "set features: 11\n"
     ]
    },
    {
     "name": "stderr",
     "output_type": "stream",
     "text": [
      "100%|██████████| 200/200 [00:21<00:00,  9.42it/s]\n",
      "  0%|          | 1/200 [00:00<00:20,  9.70it/s]"
     ]
    },
    {
     "name": "stdout",
     "output_type": "stream",
     "text": [
      "Accuray of <class 'core.models.MLP.MLPClassifier'>: 1.0\n",
      "Feature 11 / 12; Processing: 2 / 63\n",
      "set features: 11\n"
     ]
    },
    {
     "name": "stderr",
     "output_type": "stream",
     "text": [
      "100%|██████████| 200/200 [00:21<00:00,  9.23it/s]\n",
      "  0%|          | 1/200 [00:00<00:22,  8.70it/s]"
     ]
    },
    {
     "name": "stdout",
     "output_type": "stream",
     "text": [
      "Accuray of <class 'core.models.MLP.MLPClassifier'>: 0.9625\n",
      "Feature 11 / 12; Processing: 3 / 63\n",
      "set features: 11\n"
     ]
    },
    {
     "name": "stderr",
     "output_type": "stream",
     "text": [
      "100%|██████████| 200/200 [00:20<00:00,  9.84it/s]\n",
      "  1%|          | 2/200 [00:00<00:15, 12.72it/s]"
     ]
    },
    {
     "name": "stdout",
     "output_type": "stream",
     "text": [
      "Accuray of <class 'core.models.MLP.MLPClassifier'>: 0.995\n",
      "Feature 11 / 12; Processing: 4 / 63\n",
      "set features: 11\n"
     ]
    },
    {
     "name": "stderr",
     "output_type": "stream",
     "text": [
      "100%|██████████| 200/200 [00:21<00:00,  9.29it/s]\n",
      "  0%|          | 1/200 [00:00<00:24,  7.99it/s]"
     ]
    },
    {
     "name": "stdout",
     "output_type": "stream",
     "text": [
      "Accuray of <class 'core.models.MLP.MLPClassifier'>: 0.9875\n",
      "Feature 11 / 12; Processing: 5 / 63\n",
      "set features: 11\n"
     ]
    },
    {
     "name": "stderr",
     "output_type": "stream",
     "text": [
      "100%|██████████| 200/200 [00:22<00:00,  8.78it/s]\n",
      "  1%|          | 2/200 [00:00<00:15, 12.65it/s]"
     ]
    },
    {
     "name": "stdout",
     "output_type": "stream",
     "text": [
      "Accuray of <class 'core.models.MLP.MLPClassifier'>: 0.995\n",
      "Feature 11 / 12; Processing: 6 / 63\n",
      "set features: 11\n"
     ]
    },
    {
     "name": "stderr",
     "output_type": "stream",
     "text": [
      "100%|██████████| 200/200 [00:22<00:00,  8.95it/s]\n",
      "  0%|          | 0/200 [00:00<?, ?it/s]"
     ]
    },
    {
     "name": "stdout",
     "output_type": "stream",
     "text": [
      "Accuray of <class 'core.models.MLP.MLPClassifier'>: 0.9925\n",
      "Feature 11 / 12; Processing: 7 / 63\n",
      "set features: 11\n"
     ]
    },
    {
     "name": "stderr",
     "output_type": "stream",
     "text": [
      "100%|██████████| 200/200 [00:20<00:00,  9.85it/s]\n",
      "  0%|          | 1/200 [00:00<00:22,  8.66it/s]"
     ]
    },
    {
     "name": "stdout",
     "output_type": "stream",
     "text": [
      "Accuray of <class 'core.models.MLP.MLPClassifier'>: 0.9975\n",
      "Feature 11 / 12; Processing: 8 / 63\n",
      "set features: 11\n"
     ]
    },
    {
     "name": "stderr",
     "output_type": "stream",
     "text": [
      "100%|██████████| 200/200 [00:20<00:00,  9.60it/s]\n",
      "  0%|          | 1/200 [00:00<00:25,  7.66it/s]"
     ]
    },
    {
     "name": "stdout",
     "output_type": "stream",
     "text": [
      "Accuray of <class 'core.models.MLP.MLPClassifier'>: 0.9925\n",
      "Feature 11 / 12; Processing: 9 / 63\n",
      "set features: 11\n"
     ]
    },
    {
     "name": "stderr",
     "output_type": "stream",
     "text": [
      "100%|██████████| 200/200 [00:21<00:00,  9.20it/s]\n",
      "  0%|          | 1/200 [00:00<00:21,  9.13it/s]"
     ]
    },
    {
     "name": "stdout",
     "output_type": "stream",
     "text": [
      "Accuray of <class 'core.models.MLP.MLPClassifier'>: 0.9575\n",
      "Feature 11 / 12; Processing: 10 / 63\n",
      "set features: 11\n"
     ]
    },
    {
     "name": "stderr",
     "output_type": "stream",
     "text": [
      "100%|██████████| 200/200 [00:20<00:00,  9.64it/s]\n",
      "  0%|          | 1/200 [00:00<00:25,  7.94it/s]"
     ]
    },
    {
     "name": "stdout",
     "output_type": "stream",
     "text": [
      "Accuray of <class 'core.models.MLP.MLPClassifier'>: 0.985\n",
      "Feature 11 / 12; Processing: 11 / 63\n",
      "set features: 11\n"
     ]
    },
    {
     "name": "stderr",
     "output_type": "stream",
     "text": [
      "100%|██████████| 200/200 [00:20<00:00,  9.55it/s]\n",
      "  0%|          | 1/200 [00:00<00:21,  9.26it/s]"
     ]
    },
    {
     "name": "stdout",
     "output_type": "stream",
     "text": [
      "Accuray of <class 'core.models.MLP.MLPClassifier'>: 0.995\n",
      "Feature 11 / 12; Processing: 12 / 63\n",
      "set features: 11\n"
     ]
    },
    {
     "name": "stderr",
     "output_type": "stream",
     "text": [
      "100%|██████████| 200/200 [00:20<00:00,  9.97it/s]\n",
      "  0%|          | 0/200 [00:00<?, ?it/s]"
     ]
    },
    {
     "name": "stdout",
     "output_type": "stream",
     "text": [
      "Accuray of <class 'core.models.MLP.MLPClassifier'>: 0.995\n",
      "Feature 11 / 12; Processing: 13 / 63\n",
      "set features: 11\n"
     ]
    },
    {
     "name": "stderr",
     "output_type": "stream",
     "text": [
      "100%|██████████| 200/200 [00:18<00:00, 10.54it/s]\n",
      "  1%|          | 2/200 [00:00<00:09, 19.89it/s]"
     ]
    },
    {
     "name": "stdout",
     "output_type": "stream",
     "text": [
      "Accuray of <class 'core.models.MLP.MLPClassifier'>: 1.0\n",
      "Feature 11 / 12; Processing: 14 / 63\n",
      "set features: 11\n"
     ]
    },
    {
     "name": "stderr",
     "output_type": "stream",
     "text": [
      "100%|██████████| 200/200 [00:20<00:00,  9.55it/s]\n",
      "  0%|          | 0/200 [00:00<?, ?it/s]"
     ]
    },
    {
     "name": "stdout",
     "output_type": "stream",
     "text": [
      "Accuray of <class 'core.models.MLP.MLPClassifier'>: 1.0\n",
      "Feature 11 / 12; Processing: 15 / 63\n",
      "set features: 11\n"
     ]
    },
    {
     "name": "stderr",
     "output_type": "stream",
     "text": [
      "100%|██████████| 200/200 [00:19<00:00, 10.06it/s]\n",
      "  0%|          | 1/200 [00:00<00:20,  9.92it/s]"
     ]
    },
    {
     "name": "stdout",
     "output_type": "stream",
     "text": [
      "Accuray of <class 'core.models.MLP.MLPClassifier'>: 0.9825\n",
      "Feature 11 / 12; Processing: 16 / 63\n",
      "set features: 11\n"
     ]
    },
    {
     "name": "stderr",
     "output_type": "stream",
     "text": [
      "100%|██████████| 200/200 [00:20<00:00,  9.75it/s]\n",
      "  0%|          | 0/200 [00:00<?, ?it/s]"
     ]
    },
    {
     "name": "stdout",
     "output_type": "stream",
     "text": [
      "Accuray of <class 'core.models.MLP.MLPClassifier'>: 0.9975\n",
      "Feature 11 / 12; Processing: 17 / 63\n",
      "set features: 11\n"
     ]
    },
    {
     "name": "stderr",
     "output_type": "stream",
     "text": [
      "100%|██████████| 200/200 [00:20<00:00,  9.91it/s]\n",
      "  1%|          | 2/200 [00:00<00:15, 12.91it/s]"
     ]
    },
    {
     "name": "stdout",
     "output_type": "stream",
     "text": [
      "Accuray of <class 'core.models.MLP.MLPClassifier'>: 0.995\n",
      "Feature 11 / 12; Processing: 18 / 63\n",
      "set features: 11\n"
     ]
    },
    {
     "name": "stderr",
     "output_type": "stream",
     "text": [
      "100%|██████████| 200/200 [00:20<00:00,  9.81it/s]\n",
      "  0%|          | 1/200 [00:00<00:25,  7.72it/s]"
     ]
    },
    {
     "name": "stdout",
     "output_type": "stream",
     "text": [
      "Accuray of <class 'core.models.MLP.MLPClassifier'>: 1.0\n",
      "Feature 11 / 12; Processing: 19 / 63\n",
      "set features: 11\n"
     ]
    },
    {
     "name": "stderr",
     "output_type": "stream",
     "text": [
      "100%|██████████| 200/200 [00:21<00:00,  9.51it/s]\n",
      "  0%|          | 1/200 [00:00<00:23,  8.45it/s]"
     ]
    },
    {
     "name": "stdout",
     "output_type": "stream",
     "text": [
      "Accuray of <class 'core.models.MLP.MLPClassifier'>: 0.99\n",
      "Feature 11 / 12; Processing: 20 / 63\n",
      "set features: 11\n"
     ]
    },
    {
     "name": "stderr",
     "output_type": "stream",
     "text": [
      "100%|██████████| 200/200 [00:21<00:00,  9.14it/s]\n",
      "  0%|          | 0/200 [00:00<?, ?it/s]"
     ]
    },
    {
     "name": "stdout",
     "output_type": "stream",
     "text": [
      "Accuray of <class 'core.models.MLP.MLPClassifier'>: 0.995\n",
      "Feature 11 / 12; Processing: 21 / 63\n",
      "set features: 11\n"
     ]
    },
    {
     "name": "stderr",
     "output_type": "stream",
     "text": [
      "100%|██████████| 200/200 [00:21<00:00,  9.42it/s]\n",
      "  0%|          | 0/200 [00:00<?, ?it/s]"
     ]
    },
    {
     "name": "stdout",
     "output_type": "stream",
     "text": [
      "Accuray of <class 'core.models.MLP.MLPClassifier'>: 0.9975\n",
      "Feature 11 / 12; Processing: 22 / 63\n",
      "set features: 11\n"
     ]
    },
    {
     "name": "stderr",
     "output_type": "stream",
     "text": [
      "100%|██████████| 200/200 [00:21<00:00,  9.51it/s]\n",
      "  1%|          | 2/200 [00:00<00:15, 12.92it/s]"
     ]
    },
    {
     "name": "stdout",
     "output_type": "stream",
     "text": [
      "Accuray of <class 'core.models.MLP.MLPClassifier'>: 1.0\n",
      "Feature 11 / 12; Processing: 23 / 63\n",
      "set features: 11\n"
     ]
    },
    {
     "name": "stderr",
     "output_type": "stream",
     "text": [
      "100%|██████████| 200/200 [00:21<00:00,  9.10it/s]\n",
      "  0%|          | 0/200 [00:00<?, ?it/s]"
     ]
    },
    {
     "name": "stdout",
     "output_type": "stream",
     "text": [
      "Accuray of <class 'core.models.MLP.MLPClassifier'>: 0.9925\n",
      "Feature 11 / 12; Processing: 24 / 63\n",
      "set features: 11\n"
     ]
    },
    {
     "name": "stderr",
     "output_type": "stream",
     "text": [
      "100%|██████████| 200/200 [00:19<00:00, 10.03it/s]\n",
      "  0%|          | 1/200 [00:00<00:20,  9.58it/s]"
     ]
    },
    {
     "name": "stdout",
     "output_type": "stream",
     "text": [
      "Accuray of <class 'core.models.MLP.MLPClassifier'>: 0.9625\n",
      "Feature 11 / 12; Processing: 25 / 63\n",
      "set features: 11\n"
     ]
    },
    {
     "name": "stderr",
     "output_type": "stream",
     "text": [
      "100%|██████████| 200/200 [00:21<00:00,  9.32it/s]\n",
      "  0%|          | 1/200 [00:00<00:25,  7.83it/s]"
     ]
    },
    {
     "name": "stdout",
     "output_type": "stream",
     "text": [
      "Accuray of <class 'core.models.MLP.MLPClassifier'>: 0.995\n",
      "Feature 11 / 12; Processing: 26 / 63\n",
      "set features: 11\n"
     ]
    },
    {
     "name": "stderr",
     "output_type": "stream",
     "text": [
      "100%|██████████| 200/200 [00:22<00:00,  8.71it/s]\n",
      "  0%|          | 0/200 [00:00<?, ?it/s]"
     ]
    },
    {
     "name": "stdout",
     "output_type": "stream",
     "text": [
      "Accuray of <class 'core.models.MLP.MLPClassifier'>: 0.9775\n",
      "Feature 11 / 12; Processing: 27 / 63\n",
      "set features: 11\n"
     ]
    },
    {
     "name": "stderr",
     "output_type": "stream",
     "text": [
      "100%|██████████| 200/200 [00:20<00:00,  9.57it/s]\n",
      "  0%|          | 1/200 [00:00<00:25,  7.92it/s]"
     ]
    },
    {
     "name": "stdout",
     "output_type": "stream",
     "text": [
      "Accuray of <class 'core.models.MLP.MLPClassifier'>: 1.0\n",
      "Feature 11 / 12; Processing: 28 / 63\n",
      "set features: 11\n"
     ]
    },
    {
     "name": "stderr",
     "output_type": "stream",
     "text": [
      "100%|██████████| 200/200 [00:20<00:00,  9.96it/s]\n",
      "  0%|          | 0/200 [00:00<?, ?it/s]"
     ]
    },
    {
     "name": "stdout",
     "output_type": "stream",
     "text": [
      "Accuray of <class 'core.models.MLP.MLPClassifier'>: 0.975\n",
      "Feature 11 / 12; Processing: 29 / 63\n",
      "set features: 11\n"
     ]
    },
    {
     "name": "stderr",
     "output_type": "stream",
     "text": [
      "100%|██████████| 200/200 [00:18<00:00, 10.77it/s]\n",
      "  0%|          | 0/200 [00:00<?, ?it/s]"
     ]
    },
    {
     "name": "stdout",
     "output_type": "stream",
     "text": [
      "Accuray of <class 'core.models.MLP.MLPClassifier'>: 0.99\n",
      "Feature 11 / 12; Processing: 30 / 63\n",
      "set features: 11\n"
     ]
    },
    {
     "name": "stderr",
     "output_type": "stream",
     "text": [
      "100%|██████████| 200/200 [00:21<00:00,  9.34it/s]\n",
      "  0%|          | 0/200 [00:00<?, ?it/s]"
     ]
    },
    {
     "name": "stdout",
     "output_type": "stream",
     "text": [
      "Accuray of <class 'core.models.MLP.MLPClassifier'>: 0.9925\n",
      "Feature 11 / 12; Processing: 31 / 63\n",
      "set features: 11\n"
     ]
    },
    {
     "name": "stderr",
     "output_type": "stream",
     "text": [
      "100%|██████████| 200/200 [00:21<00:00,  9.44it/s]\n",
      "  0%|          | 0/200 [00:00<?, ?it/s]"
     ]
    },
    {
     "name": "stdout",
     "output_type": "stream",
     "text": [
      "Accuray of <class 'core.models.MLP.MLPClassifier'>: 0.9825\n",
      "Feature 11 / 12; Processing: 32 / 63\n",
      "set features: 11\n"
     ]
    },
    {
     "name": "stderr",
     "output_type": "stream",
     "text": [
      "100%|██████████| 200/200 [00:19<00:00, 10.20it/s]\n",
      "  0%|          | 0/200 [00:00<?, ?it/s]"
     ]
    },
    {
     "name": "stdout",
     "output_type": "stream",
     "text": [
      "Accuray of <class 'core.models.MLP.MLPClassifier'>: 0.98\n",
      "Feature 11 / 12; Processing: 33 / 63\n",
      "set features: 11\n"
     ]
    },
    {
     "name": "stderr",
     "output_type": "stream",
     "text": [
      "100%|██████████| 200/200 [00:18<00:00, 10.70it/s]\n",
      "  0%|          | 1/200 [00:00<00:26,  7.47it/s]"
     ]
    },
    {
     "name": "stdout",
     "output_type": "stream",
     "text": [
      "Accuray of <class 'core.models.MLP.MLPClassifier'>: 1.0\n",
      "Feature 11 / 12; Processing: 34 / 63\n",
      "set features: 11\n"
     ]
    },
    {
     "name": "stderr",
     "output_type": "stream",
     "text": [
      "100%|██████████| 200/200 [00:20<00:00,  9.71it/s]\n",
      "  1%|          | 2/200 [00:00<00:16, 11.99it/s]"
     ]
    },
    {
     "name": "stdout",
     "output_type": "stream",
     "text": [
      "Accuray of <class 'core.models.MLP.MLPClassifier'>: 0.98\n",
      "Feature 11 / 12; Processing: 35 / 63\n",
      "set features: 11\n"
     ]
    },
    {
     "name": "stderr",
     "output_type": "stream",
     "text": [
      "100%|██████████| 200/200 [00:19<00:00, 10.15it/s]\n",
      "  0%|          | 1/200 [00:00<00:24,  8.04it/s]"
     ]
    },
    {
     "name": "stdout",
     "output_type": "stream",
     "text": [
      "Accuray of <class 'core.models.MLP.MLPClassifier'>: 0.995\n",
      "Feature 11 / 12; Processing: 36 / 63\n",
      "set features: 11\n"
     ]
    },
    {
     "name": "stderr",
     "output_type": "stream",
     "text": [
      "100%|██████████| 200/200 [00:23<00:00,  8.68it/s]\n",
      "  0%|          | 0/200 [00:00<?, ?it/s]"
     ]
    },
    {
     "name": "stdout",
     "output_type": "stream",
     "text": [
      "Accuray of <class 'core.models.MLP.MLPClassifier'>: 0.995\n",
      "Feature 11 / 12; Processing: 37 / 63\n",
      "set features: 11\n"
     ]
    },
    {
     "name": "stderr",
     "output_type": "stream",
     "text": [
      "100%|██████████| 200/200 [00:19<00:00, 10.13it/s]\n",
      "  1%|          | 2/200 [00:00<00:16, 11.96it/s]"
     ]
    },
    {
     "name": "stdout",
     "output_type": "stream",
     "text": [
      "Accuray of <class 'core.models.MLP.MLPClassifier'>: 1.0\n",
      "Feature 11 / 12; Processing: 38 / 63\n",
      "set features: 11\n"
     ]
    },
    {
     "name": "stderr",
     "output_type": "stream",
     "text": [
      "100%|██████████| 200/200 [00:20<00:00,  9.54it/s]\n",
      "  0%|          | 0/200 [00:00<?, ?it/s]"
     ]
    },
    {
     "name": "stdout",
     "output_type": "stream",
     "text": [
      "Accuray of <class 'core.models.MLP.MLPClassifier'>: 0.9875\n",
      "Feature 11 / 12; Processing: 39 / 63\n",
      "set features: 11\n"
     ]
    },
    {
     "name": "stderr",
     "output_type": "stream",
     "text": [
      "100%|██████████| 200/200 [00:20<00:00,  9.70it/s]\n",
      "  0%|          | 1/200 [00:00<00:19,  9.98it/s]"
     ]
    },
    {
     "name": "stdout",
     "output_type": "stream",
     "text": [
      "Accuray of <class 'core.models.MLP.MLPClassifier'>: 0.99\n",
      "Feature 11 / 12; Processing: 40 / 63\n",
      "set features: 11\n"
     ]
    },
    {
     "name": "stderr",
     "output_type": "stream",
     "text": [
      "100%|██████████| 200/200 [00:20<00:00,  9.78it/s]\n",
      "  0%|          | 1/200 [00:00<00:24,  7.97it/s]"
     ]
    },
    {
     "name": "stdout",
     "output_type": "stream",
     "text": [
      "Accuray of <class 'core.models.MLP.MLPClassifier'>: 0.9775\n",
      "Feature 11 / 12; Processing: 41 / 63\n",
      "set features: 11\n"
     ]
    },
    {
     "name": "stderr",
     "output_type": "stream",
     "text": [
      "100%|██████████| 200/200 [00:19<00:00, 10.08it/s]\n",
      "  1%|          | 2/200 [00:00<00:14, 14.13it/s]"
     ]
    },
    {
     "name": "stdout",
     "output_type": "stream",
     "text": [
      "Accuray of <class 'core.models.MLP.MLPClassifier'>: 0.99\n",
      "Feature 11 / 12; Processing: 42 / 63\n",
      "set features: 11\n"
     ]
    },
    {
     "name": "stderr",
     "output_type": "stream",
     "text": [
      "100%|██████████| 200/200 [00:21<00:00,  9.33it/s]\n",
      "  0%|          | 1/200 [00:00<00:21,  9.37it/s]"
     ]
    },
    {
     "name": "stdout",
     "output_type": "stream",
     "text": [
      "Accuray of <class 'core.models.MLP.MLPClassifier'>: 0.985\n",
      "Feature 11 / 12; Processing: 43 / 63\n",
      "set features: 11\n"
     ]
    },
    {
     "name": "stderr",
     "output_type": "stream",
     "text": [
      "100%|██████████| 200/200 [00:21<00:00,  9.22it/s]\n",
      "  0%|          | 0/200 [00:00<?, ?it/s]"
     ]
    },
    {
     "name": "stdout",
     "output_type": "stream",
     "text": [
      "Accuray of <class 'core.models.MLP.MLPClassifier'>: 0.99\n",
      "Feature 11 / 12; Processing: 44 / 63\n",
      "set features: 11\n"
     ]
    },
    {
     "name": "stderr",
     "output_type": "stream",
     "text": [
      "100%|██████████| 200/200 [00:19<00:00, 10.02it/s]\n",
      "  0%|          | 0/200 [00:00<?, ?it/s]"
     ]
    },
    {
     "name": "stdout",
     "output_type": "stream",
     "text": [
      "Accuray of <class 'core.models.MLP.MLPClassifier'>: 0.9975\n",
      "Feature 11 / 12; Processing: 45 / 63\n",
      "set features: 11\n"
     ]
    },
    {
     "name": "stderr",
     "output_type": "stream",
     "text": [
      "100%|██████████| 200/200 [00:20<00:00,  9.74it/s]\n",
      "  0%|          | 1/200 [00:00<00:20,  9.59it/s]"
     ]
    },
    {
     "name": "stdout",
     "output_type": "stream",
     "text": [
      "Accuray of <class 'core.models.MLP.MLPClassifier'>: 0.99\n",
      "Feature 11 / 12; Processing: 46 / 63\n",
      "set features: 11\n"
     ]
    },
    {
     "name": "stderr",
     "output_type": "stream",
     "text": [
      "100%|██████████| 200/200 [00:18<00:00, 10.53it/s]\n",
      "  0%|          | 0/200 [00:00<?, ?it/s]"
     ]
    },
    {
     "name": "stdout",
     "output_type": "stream",
     "text": [
      "Accuray of <class 'core.models.MLP.MLPClassifier'>: 0.9925\n",
      "Feature 11 / 12; Processing: 47 / 63\n",
      "set features: 11\n"
     ]
    },
    {
     "name": "stderr",
     "output_type": "stream",
     "text": [
      "100%|██████████| 200/200 [00:21<00:00,  9.23it/s]\n",
      "  0%|          | 0/200 [00:00<?, ?it/s]"
     ]
    },
    {
     "name": "stdout",
     "output_type": "stream",
     "text": [
      "Accuray of <class 'core.models.MLP.MLPClassifier'>: 0.98\n",
      "Feature 11 / 12; Processing: 48 / 63\n",
      "set features: 11\n"
     ]
    },
    {
     "name": "stderr",
     "output_type": "stream",
     "text": [
      "100%|██████████| 200/200 [00:19<00:00, 10.28it/s]\n",
      "  0%|          | 0/200 [00:00<?, ?it/s]"
     ]
    },
    {
     "name": "stdout",
     "output_type": "stream",
     "text": [
      "Accuray of <class 'core.models.MLP.MLPClassifier'>: 1.0\n",
      "Feature 11 / 12; Processing: 49 / 63\n",
      "set features: 11\n"
     ]
    },
    {
     "name": "stderr",
     "output_type": "stream",
     "text": [
      "100%|██████████| 200/200 [00:20<00:00,  9.53it/s]\n",
      "  0%|          | 0/200 [00:00<?, ?it/s]"
     ]
    },
    {
     "name": "stdout",
     "output_type": "stream",
     "text": [
      "Accuray of <class 'core.models.MLP.MLPClassifier'>: 0.99\n",
      "Feature 11 / 12; Processing: 50 / 63\n",
      "set features: 11\n"
     ]
    },
    {
     "name": "stderr",
     "output_type": "stream",
     "text": [
      "100%|██████████| 200/200 [00:20<00:00,  9.95it/s]\n",
      "  0%|          | 1/200 [00:00<00:24,  8.20it/s]"
     ]
    },
    {
     "name": "stdout",
     "output_type": "stream",
     "text": [
      "Accuray of <class 'core.models.MLP.MLPClassifier'>: 0.9925\n",
      "Feature 11 / 12; Processing: 51 / 63\n",
      "set features: 11\n"
     ]
    },
    {
     "name": "stderr",
     "output_type": "stream",
     "text": [
      "100%|██████████| 200/200 [00:20<00:00,  9.58it/s]\n",
      "  0%|          | 0/200 [00:00<?, ?it/s]"
     ]
    },
    {
     "name": "stdout",
     "output_type": "stream",
     "text": [
      "Accuray of <class 'core.models.MLP.MLPClassifier'>: 1.0\n",
      "Feature 11 / 12; Processing: 52 / 63\n",
      "set features: 11\n"
     ]
    },
    {
     "name": "stderr",
     "output_type": "stream",
     "text": [
      "100%|██████████| 200/200 [00:22<00:00,  8.87it/s]\n",
      "  0%|          | 1/200 [00:00<00:21,  9.46it/s]"
     ]
    },
    {
     "name": "stdout",
     "output_type": "stream",
     "text": [
      "Accuray of <class 'core.models.MLP.MLPClassifier'>: 1.0\n",
      "Feature 11 / 12; Processing: 53 / 63\n",
      "set features: 11\n"
     ]
    },
    {
     "name": "stderr",
     "output_type": "stream",
     "text": [
      "100%|██████████| 200/200 [00:20<00:00,  9.71it/s]\n",
      "  1%|          | 2/200 [00:00<00:12, 15.30it/s]"
     ]
    },
    {
     "name": "stdout",
     "output_type": "stream",
     "text": [
      "Accuray of <class 'core.models.MLP.MLPClassifier'>: 0.9775\n",
      "Feature 11 / 12; Processing: 54 / 63\n",
      "set features: 11\n"
     ]
    },
    {
     "name": "stderr",
     "output_type": "stream",
     "text": [
      "100%|██████████| 200/200 [00:20<00:00,  9.90it/s]\n",
      "  0%|          | 1/200 [00:00<00:21,  9.30it/s]"
     ]
    },
    {
     "name": "stdout",
     "output_type": "stream",
     "text": [
      "Accuray of <class 'core.models.MLP.MLPClassifier'>: 0.9525\n",
      "Feature 11 / 12; Processing: 55 / 63\n",
      "set features: 11\n"
     ]
    },
    {
     "name": "stderr",
     "output_type": "stream",
     "text": [
      "100%|██████████| 200/200 [00:19<00:00, 10.00it/s]\n",
      "  0%|          | 1/200 [00:00<00:29,  6.78it/s]"
     ]
    },
    {
     "name": "stdout",
     "output_type": "stream",
     "text": [
      "Accuray of <class 'core.models.MLP.MLPClassifier'>: 0.965\n",
      "Feature 11 / 12; Processing: 56 / 63\n",
      "set features: 11\n"
     ]
    },
    {
     "name": "stderr",
     "output_type": "stream",
     "text": [
      "100%|██████████| 200/200 [00:20<00:00,  9.90it/s]\n",
      "  0%|          | 1/200 [00:00<00:20,  9.72it/s]"
     ]
    },
    {
     "name": "stdout",
     "output_type": "stream",
     "text": [
      "Accuray of <class 'core.models.MLP.MLPClassifier'>: 0.9825\n",
      "Feature 11 / 12; Processing: 57 / 63\n",
      "set features: 11\n"
     ]
    },
    {
     "name": "stderr",
     "output_type": "stream",
     "text": [
      "100%|██████████| 200/200 [00:20<00:00,  9.59it/s]\n",
      "  0%|          | 1/200 [00:00<00:21,  9.15it/s]"
     ]
    },
    {
     "name": "stdout",
     "output_type": "stream",
     "text": [
      "Accuray of <class 'core.models.MLP.MLPClassifier'>: 0.98\n",
      "Feature 11 / 12; Processing: 58 / 63\n",
      "set features: 11\n"
     ]
    },
    {
     "name": "stderr",
     "output_type": "stream",
     "text": [
      "100%|██████████| 200/200 [00:19<00:00, 10.25it/s]\n",
      "  0%|          | 1/200 [00:00<00:23,  8.42it/s]"
     ]
    },
    {
     "name": "stdout",
     "output_type": "stream",
     "text": [
      "Accuray of <class 'core.models.MLP.MLPClassifier'>: 0.995\n",
      "Feature 11 / 12; Processing: 59 / 63\n",
      "set features: 11\n"
     ]
    },
    {
     "name": "stderr",
     "output_type": "stream",
     "text": [
      "100%|██████████| 200/200 [00:19<00:00, 10.28it/s]\n",
      "  0%|          | 1/200 [00:00<00:20,  9.50it/s]"
     ]
    },
    {
     "name": "stdout",
     "output_type": "stream",
     "text": [
      "Accuray of <class 'core.models.MLP.MLPClassifier'>: 0.995\n",
      "Feature 11 / 12; Processing: 60 / 63\n",
      "set features: 11\n"
     ]
    },
    {
     "name": "stderr",
     "output_type": "stream",
     "text": [
      "100%|██████████| 200/200 [00:21<00:00,  9.45it/s]\n",
      "  0%|          | 1/200 [00:00<00:21,  9.35it/s]"
     ]
    },
    {
     "name": "stdout",
     "output_type": "stream",
     "text": [
      "Accuray of <class 'core.models.MLP.MLPClassifier'>: 0.995\n",
      "Feature 11 / 12; Processing: 61 / 63\n",
      "set features: 11\n"
     ]
    },
    {
     "name": "stderr",
     "output_type": "stream",
     "text": [
      "100%|██████████| 200/200 [00:19<00:00, 10.06it/s]\n",
      "  0%|          | 0/200 [00:00<?, ?it/s]"
     ]
    },
    {
     "name": "stdout",
     "output_type": "stream",
     "text": [
      "Accuray of <class 'core.models.MLP.MLPClassifier'>: 0.985\n",
      "Feature 11 / 12; Processing: 62 / 63\n",
      "set features: 11\n"
     ]
    },
    {
     "name": "stderr",
     "output_type": "stream",
     "text": [
      "100%|██████████| 200/200 [00:20<00:00,  9.94it/s]"
     ]
    },
    {
     "name": "stdout",
     "output_type": "stream",
     "text": [
      "Accuray of <class 'core.models.MLP.MLPClassifier'>: 0.9975\n"
     ]
    },
    {
     "name": "stderr",
     "output_type": "stream",
     "text": [
      "\n"
     ]
    }
   ],
   "source": [
    "present_idxs = list(range(len(one_file_dss)))\n",
    "removed_acc = {}\n",
    "\n",
    "for feat_idx, feat_in_group in enumerate(all_features):\n",
    "    \n",
    "    features = all_features.copy()\n",
    "    \n",
    "    features.remove(feat_in_group)\n",
    "    \n",
    "    print(f\"remove feature {feat_in_group}: after remove length: %d\"%len(features))\n",
    "    \n",
    "    model_accs = {\n",
    "        'MLP': [],\n",
    "        'RF(5)': [],\n",
    "        'RF(U)': [],\n",
    "        'DT(5)': [],\n",
    "        'DT(U)': [],\n",
    "        'LR': [],\n",
    "        'SVM': [],\n",
    "        'XGB': []\n",
    "    }\n",
    "    \n",
    "    for i in present_idxs:  # range(len(one_file_dss)):\n",
    "    #     i = 0\n",
    "        print(f\"Feature {feat_idx} / {len(all_features)}; Processing: {i} / {len(present_idxs)}\")\n",
    "        # ds = one_file_dss[i][one_file_dss[i]['predicate_op_num_on_non_indexed_attr'] == 0]\n",
    "        ds = one_file_dss[i]\n",
    "        ds_name = one_file_names[i]\n",
    "\n",
    "        # =========================\n",
    "        X = ds[features]\n",
    "        y = ds['optimal_decision']\n",
    "        X_costs = ds[dl.regression_targets]\n",
    "\n",
    "        from sklearn.model_selection import train_test_split\n",
    "        from sklearn import preprocessing\n",
    "\n",
    "        X_train, X_test, y_train, y_test = train_test_split(X, y, train_size=0.8, random_state=1)\n",
    "        X_train_costs, _, _, _, = train_test_split(X_costs, y, train_size=0.8, random_state=1)\n",
    "        X_train, X_test, y_train, y_test = \\\n",
    "            X_train.to_numpy(),X_test.to_numpy(), y_train.to_numpy(), y_test.to_numpy()\n",
    "\n",
    "        X_train_weights = calculate_importance_from_costs(X_train_costs.to_numpy())\n",
    "\n",
    "        scaler = preprocessing.StandardScaler().fit(X_train)\n",
    "        X_train = scaler.transform(X_train)\n",
    "\n",
    "        # scaler = preprocessing.StandardScaler().fit(X_test)\n",
    "        X_test = scaler.transform(X_test)\n",
    "\n",
    "        X_train_weights = preprocessing.MinMaxScaler().fit_transform(X_train_weights.reshape(-1,1)).flatten()\n",
    "        # =========================\n",
    "\n",
    "        accs = []\n",
    "        for idx, model_name in enumerate(weighted_clf_model_name_list):\n",
    "            model = weighted_clf_model_list[model_name.split('(')[0]]        \n",
    "            if 'DT' in model_name or 'RF' in model_name:\n",
    "                max_depth = model_name.split('(')[-1].split(')')[0]\n",
    "                if max_depth.lower() == 'u':\n",
    "                    max_depth = None\n",
    "                else:\n",
    "                    max_depth = int(max_depth)\n",
    "                clf = model().fit(X_train, y_train, sample_weight=None, max_depth=max_depth)\n",
    "            else:\n",
    "                clf = model().fit(X_train, y_train, sample_weight=None, max_iter=200, weight_decay=0.00001)\n",
    "\n",
    "            print(f\"Accuray of {model}: {clf.score(X_test, y_test)}\")\n",
    "    #         if len(features) == 2:\n",
    "    #             plot_2d_decision_boundaries(clf, scaler.inverse_transform(X_train), X_train_costs, y_train, title=f'{model} on {one_file_names[i]}')\n",
    "\n",
    "            model_accs[model_name].append(clf.score(X_test, y_test))\n",
    "    #         accs.append(clf.score(X_test, y_test))\n",
    "    \n",
    "    removed_acc[\"%d\" % feat_idx] = model_accs"
   ]
  },
  {
   "cell_type": "code",
   "execution_count": 9,
   "id": "better-repository",
   "metadata": {},
   "outputs": [],
   "source": [
    "# removed_acc.keys()"
   ]
  },
  {
   "cell_type": "code",
   "execution_count": 10,
   "id": "threaded-liver",
   "metadata": {},
   "outputs": [],
   "source": [
    "# import json\n",
    "# with open('acc_drop_postgres.json', 'w') as fp:\n",
    "#     json.dump(removed_acc, fp)"
   ]
  },
  {
   "cell_type": "code",
   "execution_count": 11,
   "id": "separate-affect",
   "metadata": {},
   "outputs": [],
   "source": [
    "# import json \n",
    "  \n",
    "# # Opening JSON file \n",
    "# with open('removed_acc_postgres.json', 'r') as json_file: \n",
    "#     removed_acc_MLP = json.load(json_file) "
   ]
  },
  {
   "cell_type": "code",
   "execution_count": null,
   "id": "traditional-series",
   "metadata": {},
   "outputs": [],
   "source": []
  },
  {
   "cell_type": "markdown",
   "id": "direct-morgan",
   "metadata": {},
   "source": [
    "# Feature rank per binary join"
   ]
  },
  {
   "cell_type": "code",
   "execution_count": 12,
   "id": "negative-configuration",
   "metadata": {},
   "outputs": [],
   "source": [
    "top_feature_chosen = {}\n",
    "for model_name in weighted_clf_model_name_list:\n",
    "    model_features = []\n",
    "    for i in range(len(present_idxs)):\n",
    "#         full_acc = full_model_accs[model_name][i]\n",
    "        ablation_accs = []\n",
    "        for feat_idx in range(len(all_features)):\n",
    "            ablation_accs.append(removed_acc[\"%d\" % feat_idx][model_name][i])\n",
    "        ablation_accs = np.array(ablation_accs)\n",
    "        if sum(ablation_accs) == ablation_accs[0] * len(ablation_accs):\n",
    "            ablation_accs[range(len(ablation_accs))] = 0\n",
    "        else:  \n",
    "            sort_idx = np.argsort(ablation_accs)\n",
    "            ablation_accs[sort_idx[0:2]] = 1\n",
    "            ablation_accs[sort_idx[2:]] = 0\n",
    "        model_features.append(ablation_accs)\n",
    "#         print(ablation_accs)\n",
    "    top_feature_chosen[model_name] = model_features"
   ]
  },
  {
   "cell_type": "code",
   "execution_count": 13,
   "id": "italian-single",
   "metadata": {
    "scrolled": false
   },
   "outputs": [
    {
     "name": "stdout",
     "output_type": "stream",
     "text": [
      "For model MLP\n",
      "ssb part/postgres_lineorder_part_optimal.csv:  [0. 0. 1. 0. 0. 0. 0. 0. 0. 0. 1. 0.]\n",
      "ssb customer/postgres_lineorder_customer_optimal.csv:  [0. 0. 1. 0. 0. 0. 0. 0. 0. 1. 0. 0.]\n",
      "ssb ddate/postgres_lineorder_ddate_optimal.csv:  [0. 0. 0. 1. 0. 0. 0. 0. 0. 0. 0. 1.]\n",
      "ssb supplier/postgres_lineorder_supplier_optimal.csv:  [1. 0. 1. 0. 0. 0. 0. 0. 0. 0. 0. 0.]\n",
      "ssb lineorder/postgres_part_lineorder_optimal.csv:  [0. 0. 0. 0. 1. 0. 0. 1. 0. 0. 0. 0.]\n",
      "ssb lineorder/postgres_customer_lineorder_optimal.csv:  [1. 0. 0. 0. 0. 0. 0. 1. 0. 0. 0. 0.]\n",
      "ssb lineorder/postgres_ddate_lineorder_optimal.csv:  [1. 0. 1. 0. 0. 0. 0. 0. 0. 0. 0. 0.]\n",
      "ssb lineorder/postgres_supplier_lineorder_optimal.csv:  [1. 0. 0. 0. 0. 0. 0. 0. 0. 1. 0. 0.]\n",
      "tpch customer/postgres_orders_customer_optimal.csv:  [0. 0. 0. 1. 0. 1. 0. 0. 0. 0. 0. 0.]\n",
      "tpch orders/postgres_customer_orders_optimal.csv:  [1. 0. 1. 0. 0. 0. 0. 0. 0. 0. 0. 0.]\n",
      "tpch orders/postgres_lineitem_orders_optimal.csv:  [0. 0. 1. 1. 0. 0. 0. 0. 0. 0. 0. 0.]\n",
      "tpch part/postgres_lineitem_part_optimal.csv:  [0. 0. 1. 0. 1. 0. 0. 0. 0. 0. 0. 0.]\n",
      "tpch part/postgres_partsupp_part_optimal.csv:  [1. 0. 1. 0. 0. 0. 0. 0. 0. 0. 0. 0.]\n",
      "tpch partsupp/postgres_lineitem_partsupp_optimal.csv:  [0. 0. 0. 0. 0. 0. 0. 0. 0. 0. 0. 0.]\n",
      "tpch partsupp/postgres_part_partsupp_optimal.csv:  [0. 0. 0. 0. 0. 0. 0. 0. 0. 0. 0. 0.]\n",
      "tpch partsupp/postgres_supplier_partsupp_optimal.csv:  [1. 0. 0. 0. 0. 0. 0. 1. 0. 0. 0. 0.]\n",
      "tpch supplier/postgres_lineitem_supplier_optimal.csv:  [0. 1. 1. 0. 0. 0. 0. 0. 0. 0. 0. 0.]\n",
      "tpch supplier/postgres_partsupp_supplier_optimal.csv:  [0. 0. 1. 0. 0. 0. 0. 0. 0. 0. 1. 0.]\n",
      "tpch nation/postgres_region_nation_optimal.csv:  [0. 0. 0. 0. 0. 0. 0. 0. 0. 0. 0. 0.]\n",
      "tpch lineitem/postgres_orders_lineitem_optimal.csv:  [1. 0. 1. 0. 0. 0. 0. 0. 0. 0. 0. 0.]\n",
      "tpch lineitem/postgres_part_lineitem_optimal.csv:  [0. 1. 0. 0. 1. 0. 0. 0. 0. 0. 0. 0.]\n",
      "tpch lineitem/postgres_partsupp_lineitem_optimal.csv:  [0. 0. 0. 1. 0. 0. 0. 0. 0. 1. 0. 0.]\n",
      "tpch region/postgres_nation_region_optimal.csv:  [0. 0. 0. 0. 0. 0. 0. 0. 0. 0. 0. 0.]\n",
      "tpch_10 customer/postgres_orders_customer_optimal.csv:  [0. 0. 1. 1. 0. 0. 0. 0. 0. 0. 0. 0.]\n",
      "tpch_10 orders/postgres_customer_orders_optimal.csv:  [0. 0. 1. 1. 0. 0. 0. 0. 0. 0. 0. 0.]\n",
      "tpch_10 orders/postgres_lineitem_orders_optimal.csv:  [1. 0. 1. 0. 0. 0. 0. 0. 0. 0. 0. 0.]\n",
      "tpch_10 part/postgres_lineitem_part_optimal.csv:  [0. 1. 0. 1. 0. 0. 0. 0. 0. 0. 0. 0.]\n",
      "tpch_10 part/postgres_partsupp_part_optimal.csv:  [0. 0. 1. 1. 0. 0. 0. 0. 0. 0. 0. 0.]\n",
      "tpch_10 partsupp/postgres_lineitem_partsupp_optimal.csv:  [1. 0. 0. 1. 0. 0. 0. 0. 0. 0. 0. 0.]\n",
      "tpch_10 partsupp/postgres_part_partsupp_optimal.csv:  [1. 0. 0. 0. 0. 0. 0. 0. 1. 0. 0. 0.]\n",
      "tpch_10 partsupp/postgres_supplier_partsupp_optimal.csv:  [0. 1. 0. 1. 0. 0. 0. 0. 0. 0. 0. 0.]\n",
      "tpch_10 supplier/postgres_lineitem_supplier_optimal.csv:  [1. 1. 0. 0. 0. 0. 0. 0. 0. 0. 0. 0.]\n",
      "tpch_10 supplier/postgres_partsupp_supplier_optimal.csv:  [1. 0. 0. 0. 0. 0. 0. 0. 0. 0. 0. 1.]\n",
      "tpch_10 nation/postgres_region_nation_optimal.csv:  [0. 0. 0. 0. 0. 0. 0. 0. 0. 0. 0. 0.]\n",
      "tpch_10 lineitem/postgres_orders_lineitem_optimal.csv:  [0. 1. 0. 0. 0. 0. 0. 0. 0. 1. 0. 0.]\n",
      "tpch_10 lineitem/postgres_part_lineitem_optimal.csv:  [1. 0. 0. 1. 0. 0. 0. 0. 0. 0. 0. 0.]\n",
      "tpch_10 lineitem/postgres_partsupp_lineitem_optimal.csv:  [1. 0. 0. 0. 0. 0. 0. 0. 1. 0. 0. 0.]\n",
      "tpch_10 region/postgres_nation_region_optimal.csv:  [0. 0. 0. 0. 0. 0. 0. 0. 0. 0. 0. 0.]\n",
      "tpch_100 customer/postgres_orders_customer_optimal.csv:  [0. 0. 1. 0. 0. 0. 0. 1. 0. 0. 0. 0.]\n",
      "tpch_100 orders/postgres_customer_orders_optimal.csv:  [0. 0. 1. 0. 0. 0. 0. 1. 0. 0. 0. 0.]\n",
      "tpch_100 orders/postgres_lineitem_orders_optimal.csv:  [0. 0. 1. 0. 0. 0. 0. 0. 0. 0. 0. 1.]\n",
      "tpch_100 part/postgres_lineitem_part_optimal.csv:  [0. 0. 1. 0. 0. 0. 0. 0. 0. 0. 1. 0.]\n",
      "tpch_100 part/postgres_partsupp_part_optimal.csv:  [1. 0. 1. 0. 0. 0. 0. 0. 0. 0. 0. 0.]\n",
      "tpch_100 partsupp/postgres_lineitem_partsupp_optimal.csv:  [0. 0. 1. 1. 0. 0. 0. 0. 0. 0. 0. 0.]\n",
      "tpch_100 partsupp/postgres_part_partsupp_optimal.csv:  [0. 0. 0. 1. 0. 0. 0. 0. 0. 1. 0. 0.]\n",
      "tpch_100 partsupp/postgres_supplier_partsupp_optimal.csv:  [1. 0. 0. 1. 0. 0. 0. 0. 0. 0. 0. 0.]\n",
      "tpch_100 supplier/postgres_lineitem_supplier_optimal.csv:  [1. 0. 1. 0. 0. 0. 0. 0. 0. 0. 0. 0.]\n",
      "tpch_100 supplier/postgres_partsupp_supplier_optimal.csv:  [0. 0. 1. 1. 0. 0. 0. 0. 0. 0. 0. 0.]\n",
      "tpch_100 nation/postgres_region_nation_optimal.csv:  [0. 0. 0. 0. 0. 0. 0. 0. 0. 0. 0. 0.]\n",
      "tpch_100 lineitem/postgres_orders_lineitem_optimal.csv:  [0. 0. 0. 0. 1. 0. 0. 0. 0. 1. 0. 0.]\n",
      "tpch_100 lineitem/postgres_part_lineitem_optimal.csv:  [1. 0. 0. 1. 0. 0. 0. 0. 0. 0. 0. 0.]\n",
      "tpch_100 lineitem/postgres_partsupp_lineitem_optimal.csv:  [0. 0. 1. 0. 0. 0. 0. 0. 0. 0. 1. 0.]\n",
      "tpch_100 region/postgres_nation_region_optimal.csv:  [0. 0. 0. 0. 0. 0. 0. 0. 0. 0. 0. 0.]\n",
      "imdb cast_info/postgres_title_cast_info_optimal.csv:  [0. 0. 1. 0. 0. 0. 0. 0. 0. 1. 0. 0.]\n",
      "imdb movie_companies/postgres_title_movie_companies_optimal.csv:  [0. 0. 1. 1. 0. 0. 0. 0. 0. 0. 0. 0.]\n",
      "imdb movie_info/postgres_title_movie_info_optimal.csv:  [0. 0. 1. 1. 0. 0. 0. 0. 0. 0. 0. 0.]\n",
      "imdb movie_info_idx/postgres_title_movie_info_idx_optimal.csv:  [0. 0. 1. 0. 0. 0. 0. 0. 0. 0. 1. 0.]\n",
      "imdb movie_keyword/postgres_title_movie_keyword_optimal.csv:  [0. 0. 1. 0. 0. 0. 0. 0. 0. 0. 1. 0.]\n",
      "imdb title/postgres_cast_info_title_optimal.csv:  [0. 0. 1. 1. 0. 0. 0. 0. 0. 0. 0. 0.]\n",
      "imdb title/postgres_movie_companies_title_optimal.csv:  [1. 0. 1. 0. 0. 0. 0. 0. 0. 0. 0. 0.]\n",
      "imdb title/postgres_movie_info_idx_title_optimal.csv:  [1. 0. 1. 0. 0. 0. 0. 0. 0. 0. 0. 0.]\n",
      "imdb title/postgres_movie_info_title_optimal.csv:  [0. 0. 1. 1. 0. 0. 0. 0. 0. 0. 0. 0.]\n",
      "imdb title/postgres_movie_keyword_title_optimal.csv:  [1. 0. 1. 0. 0. 0. 0. 0. 0. 0. 0. 0.]\n",
      "Summary for MLP:  [22.  6. 34. 20.  4.  1.  0.  5.  2.  7.  6.  3.]\n",
      "\n"
     ]
    }
   ],
   "source": [
    "# starting_n = 8 + 15\n",
    "\n",
    "for model_name in weighted_clf_model_name_list:\n",
    "    print(f\"For model {model_name}\")\n",
    "    sum_feat = np.zeros(len(all_features))\n",
    "    for idx, ds_name in zip(range(len(one_file_dss)), one_file_names):\n",
    "        print(f\"{ds_name}: \", top_feature_chosen[model_name][idx])\n",
    "        sum_feat += top_feature_chosen[model_name][idx]\n",
    "    print(f\"Summary for {model_name}: \", sum_feat)\n",
    "    print()"
   ]
  },
  {
   "cell_type": "code",
   "execution_count": null,
   "id": "dependent-shopper",
   "metadata": {},
   "outputs": [],
   "source": []
  },
  {
   "cell_type": "code",
   "execution_count": null,
   "id": "latin-passion",
   "metadata": {},
   "outputs": [],
   "source": []
  },
  {
   "cell_type": "code",
   "execution_count": null,
   "id": "assured-deficit",
   "metadata": {},
   "outputs": [],
   "source": []
  },
  {
   "cell_type": "code",
   "execution_count": null,
   "id": "eight-weather",
   "metadata": {},
   "outputs": [],
   "source": []
  },
  {
   "cell_type": "code",
   "execution_count": null,
   "id": "russian-porter",
   "metadata": {},
   "outputs": [],
   "source": []
  },
  {
   "cell_type": "markdown",
   "id": "three-artist",
   "metadata": {},
   "source": [
    "# Average the model performance drop"
   ]
  },
  {
   "cell_type": "markdown",
   "id": "continued-pressure",
   "metadata": {},
   "source": [
    "## DT drop"
   ]
  },
  {
   "cell_type": "code",
   "execution_count": 14,
   "id": "actual-operator",
   "metadata": {},
   "outputs": [],
   "source": [
    "# dt_drop = []\n",
    "\n",
    "# for idx, feat_t in enumerate(all_features):\n",
    "#     acc = removed_acc[\"%d\" % idx]['DT(5)']\n",
    "#     drops = []\n",
    "#     for i in range(len(present_idxs)):\n",
    "#         drops.append(acc[i] - DT_5_pg_acc[i])\n",
    "#     dt_drop.append(-np.average(drops))\n",
    "#     print(f\"Avg drop for {feat_t}: {np.average(drops)}\")\n",
    "    "
   ]
  },
  {
   "cell_type": "code",
   "execution_count": 15,
   "id": "conventional-victorian",
   "metadata": {},
   "outputs": [],
   "source": [
    "# rf_drop = []\n",
    "\n",
    "# for idx, feat_t in enumerate(all_features):\n",
    "#     acc = removed_acc[\"%d\" % idx]['RF(5)']\n",
    "#     drops = []\n",
    "#     for i in range(len(present_idxs)):\n",
    "#         drops.append(acc[i] - RF_5_pg_acc[i])\n",
    "#     rf_drop.append(-np.average(drops))\n",
    "#     print(f\"Avg drop for {feat_t}: {np.average(drops)}\")"
   ]
  },
  {
   "cell_type": "code",
   "execution_count": 16,
   "id": "lightweight-affiliate",
   "metadata": {},
   "outputs": [],
   "source": [
    "# mlp_drop = []\n",
    "\n",
    "# for idx, feat_t in enumerate(all_features):\n",
    "#     acc = removed_acc[\"%d\" % idx]['MLP']\n",
    "#     drops = []\n",
    "#     for i in range(len(present_idxs)):\n",
    "#         drops.append(acc[i] - postgres_accs[0][i])\n",
    "#     mlp_drop.append(-np.average(drops))\n",
    "#     print(f\"Avg drop for {feat_t}: {np.average(drops)}\")"
   ]
  },
  {
   "cell_type": "code",
   "execution_count": null,
   "id": "genetic-armor",
   "metadata": {},
   "outputs": [],
   "source": []
  },
  {
   "cell_type": "code",
   "execution_count": 17,
   "id": "atlantic-european",
   "metadata": {},
   "outputs": [],
   "source": [
    "# # mlp_drop = np.array(mlp_drop)\n",
    "# dt_drop = np.array(dt_drop)\n",
    "# rf_drop = np.array(rf_drop)\n",
    "\n",
    "# # mssql_imp = overall_imp[1]\n",
    "# # shap_values = shap_values / len(present_idxs)\n",
    "# # importances = np.array([feature_scores[f] for f in features])\n",
    "\n",
    "# # ===========================================\n",
    "# # indices = np.argsort(importances)\n",
    "# # ===========================================\n",
    "# barWidth = 0.5\n",
    "# # indices = [11, 10, 1, 12,  9, 8, 7, 6, 5, 4, 3, 2, 0]\n",
    "# indices = [11,10,9,8,7,6,5,4,3,2,1,0]\n",
    "# # indices = [2,1,0]\n",
    "\n",
    "\n",
    "\n",
    "# import matplotlib\n",
    "# matplotlib.rcParams['pdf.fonttype'] = 42\n",
    "# matplotlib.rcParams['ps.fonttype'] = 42\n",
    "\n",
    "# plt.figure(figsize=(18, 10), dpi=300)\n",
    "\n",
    "# # plt.title('Feature Importances')\n",
    "# r1 = [i * 2 for i in range(len(indices))]\n",
    "# r2 = [x + barWidth for x in r1]\n",
    "# r3 = [x + barWidth for x in r2]\n",
    "\n",
    "# plt.barh(r1, rf_drop[indices], height=barWidth, color='tab:blue', align='center',  label='RF-5')\n",
    "# # plt.barh(r1 , mssql_imp[indices], height=barWidth , color='tab:orange', align='center', label='Microsoft SQL Server')\n",
    "# plt.barh(r2, dt_drop[indices], height=barWidth, color='tab:orange', align='center',  label='DT-5')\n",
    "# # plt.barh(r3, mlp_drop[indices], height=barWidth, color='tab:purple', align='center',  label='MLP')\n",
    "\n",
    "# group_names = ['Group 1: cardinalities', 'Group 2: selectivities', 'Group 3: indices and orders']\n",
    "\n",
    "# plt.yticks([i + 1 * barWidth for i in r1], [all_features[i] for i in indices])\n",
    "# plt.xlabel('Accuracy Drop', fontsize=30)\n",
    "\n",
    "# axes = plt.gca()\n",
    "# axes.tick_params(axis='x', which='major', labelsize=30)\n",
    "# axes.tick_params(axis='y', which='major', labelsize=30)\n",
    "\n",
    "# plt.legend(loc='lower right', prop={'size': 30})\n",
    "\n",
    "# plt.grid(axis='x')\n",
    "# plt.tight_layout()\n",
    "# plt.savefig(f'./figures/exp2-postgres-ablation-feastures.pdf')\n",
    "# plt.show()"
   ]
  },
  {
   "cell_type": "markdown",
   "id": "clinical-surname",
   "metadata": {},
   "source": [
    "## RF"
   ]
  },
  {
   "cell_type": "code",
   "execution_count": 18,
   "id": "unauthorized-faith",
   "metadata": {},
   "outputs": [],
   "source": [
    "# dt_drop = []\n",
    "\n",
    "# for idx, feat_t in enumerate(all_features):\n",
    "#     acc = removed_acc[\"%d\" % idx]['RF(5)']\n",
    "#     drops = []\n",
    "#     for i in range(len(present_idxs)):\n",
    "#         drops.append(acc[i] - postgres_accs[1][i])\n",
    "#     dt_drop.append(-np.average(drops))\n",
    "#     print(f\"Avg drop for {feat_t}: {np.average(drops)}\")"
   ]
  },
  {
   "cell_type": "code",
   "execution_count": 19,
   "id": "wicked-triumph",
   "metadata": {},
   "outputs": [],
   "source": [
    "# postgre_imp = np.array(dt_drop)\n",
    "# # mssql_imp = overall_imp[1]\n",
    "# # shap_values = shap_values / len(present_idxs)\n",
    "# # importances = np.array([feature_scores[f] for f in features])\n",
    "\n",
    "# # ===========================================\n",
    "# # indices = np.argsort(importances)\n",
    "# # ===========================================\n",
    "# barWidth = 0.4\n",
    "# indices = [11, 10, 1, 12,  9, 8, 7, 6, 5, 4, 3, 2, 0]\n",
    "\n",
    "# import matplotlib\n",
    "# matplotlib.rcParams['pdf.fonttype'] = 42\n",
    "# matplotlib.rcParams['ps.fonttype'] = 42\n",
    "\n",
    "# plt.figure(figsize=(18, 8), dpi=300)\n",
    "\n",
    "# # plt.title('Feature Importances')\n",
    "# r1 = [i for i in range(13)]\n",
    "# # r2 = [x + barWidth for x in r1]\n",
    "\n",
    "# plt.barh(r1, postgre_imp[indices], height=barWidth, color='tab:blue', align='center',  label='PostgreSQL RF-5')\n",
    "# # plt.barh(r1 , mssql_imp[indices], height=barWidth , color='tab:orange', align='center', label='Microsoft SQL Server')\n",
    "\n",
    "\n",
    "\n",
    "# plt.yticks(range(len(indices)), [dl.all_features[i] for i in indices])\n",
    "# plt.xlabel('Accuracy Drop', fontsize=25)\n",
    "\n",
    "# axes = plt.gca()\n",
    "# axes.tick_params(axis='x', which='major', labelsize=25)\n",
    "# axes.tick_params(axis='y', which='major', labelsize=25)\n",
    "\n",
    "# plt.legend(loc='lower right', prop={'size': 25})\n",
    "\n",
    "# plt.grid(axis='x')\n",
    "# plt.tight_layout()\n",
    "# plt.savefig(f'./figures/exp2-RF-ablation.pdf')\n",
    "# plt.show()"
   ]
  },
  {
   "cell_type": "code",
   "execution_count": null,
   "id": "eligible-solomon",
   "metadata": {},
   "outputs": [],
   "source": []
  },
  {
   "cell_type": "code",
   "execution_count": null,
   "id": "strategic-blink",
   "metadata": {},
   "outputs": [],
   "source": []
  },
  {
   "cell_type": "code",
   "execution_count": null,
   "id": "thermal-belle",
   "metadata": {},
   "outputs": [],
   "source": []
  },
  {
   "cell_type": "code",
   "execution_count": null,
   "id": "funded-techno",
   "metadata": {},
   "outputs": [],
   "source": []
  }
 ],
 "metadata": {
  "kernelspec": {
   "display_name": "Python 3",
   "language": "python",
   "name": "python3"
  },
  "language_info": {
   "codemirror_mode": {
    "name": "ipython",
    "version": 3
   },
   "file_extension": ".py",
   "mimetype": "text/x-python",
   "name": "python",
   "nbconvert_exporter": "python",
   "pygments_lexer": "ipython3",
   "version": "3.6.9"
  }
 },
 "nbformat": 4,
 "nbformat_minor": 5
}
