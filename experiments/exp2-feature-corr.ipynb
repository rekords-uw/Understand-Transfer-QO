{
 "cells": [
  {
   "cell_type": "markdown",
   "id": "objective-relaxation",
   "metadata": {},
   "source": [
    "# Load packages"
   ]
  },
  {
   "cell_type": "code",
   "execution_count": null,
   "id": "oriental-window",
   "metadata": {},
   "outputs": [],
   "source": [
    "from core.DataLoader import *\n",
    "import seaborn as sn\n",
    "import matplotlib\n",
    "matplotlib.rcParams['pdf.fonttype'] = 42\n",
    "matplotlib.rcParams['ps.fonttype'] = 42\n",
    "\n",
    "indexed_feature_names = ['A. left_cardinality', 'B. base_cardinality', \n",
    "                 'C. sel_on_indexed_attr', 'D. sel_on_non_indexed_attr', \n",
    "                 'E. sel_of_join_pred', 'F. left_ordered', 'G. base_ordered', 'H. left_indexed', \n",
    "                 'I. base_indexed', 'J. result_size', 'K. pred_op_num_on_indexed_attr', \n",
    "                 'L. pred_op_num_on_non_indexed_attr']\n",
    "feature_indices = ['A.', 'B.', 'C.', 'D.', 'E.', 'F.', 'G.', 'H.', 'I', 'J.', 'K.' ,'L.']"
   ]
  },
  {
   "cell_type": "markdown",
   "id": "preliminary-reservoir",
   "metadata": {},
   "source": [
    "# Correlations of features on Postgres"
   ]
  },
  {
   "cell_type": "code",
   "execution_count": null,
   "id": "certain-messaging",
   "metadata": {
    "scrolled": false
   },
   "outputs": [],
   "source": [
    "engine = 'postgres'\n",
    "dl = DataLoader(engine)\n",
    "all_ds = dl.get_one_file_ds(datasets=['ssb'])\n",
    "\n",
    "\n",
    "for i in range(len(all_ds)):\n",
    "    ds = all_ds[i]\n",
    "    features = dl.base_features\n",
    "    classification_target = dl.classification_target\n",
    "    \n",
    "    X = ds[features]\n",
    "    y = ds['optimal_decision']\n",
    "    X_costs = ds[dl.regression_targets]\n",
    "    corrMatrix = X.corr()\n",
    "    data = corrMatrix.to_numpy()\n",
    "    data = np.abs(data)\n",
    "\n",
    "    data[data < 0.8] = 0\n",
    "    df = pd.DataFrame(data, columns=feature_indices, index=indexed_feature_names)\n",
    "    fig, ax = plt.subplots(figsize=(14,8))\n",
    "    sn_hm = sn.heatmap(df, annot=False, ax=ax, cbar_kws={'label': 'Pearson Coefficient'}, cmap=plt.cm.get_cmap('Reds'))\n",
    "    cax = plt.gcf().axes[-1]\n",
    "    cax.tick_params(labelsize=20)\n",
    "    \n",
    "    cax = plt.gcf().axes[-2]\n",
    "    cax.tick_params(labelsize=20)\n",
    "    \n",
    "    sn_hm.figure.axes[-1].yaxis.label.set_size(20)\n",
    "\n",
    "    plt.tight_layout()\n",
    "    \n",
    "    # save the figure\n",
    "    # plt.savefig(f'./figures/exp2-{engine}-feat-corr.pdf')\n",
    "    \n",
    "    plt.show()\n",
    "    # remove break for more correlations\n",
    "    break"
   ]
  },
  {
   "cell_type": "markdown",
   "id": "internal-beaver",
   "metadata": {},
   "source": [
    "# Correlations of features on Microsoft SQL Server"
   ]
  },
  {
   "cell_type": "code",
   "execution_count": null,
   "id": "ambient-profile",
   "metadata": {},
   "outputs": [],
   "source": [
    "engine = 'mssql'\n",
    "dl = DataLoader(engine)\n",
    "all_ds = dl.get_one_file_ds(datasets=['ssb'])\n",
    "\n",
    "\n",
    "for i in range(len(all_ds)):\n",
    "    ds = all_ds[i]\n",
    "    features = dl.base_features\n",
    "    classification_target = dl.classification_target\n",
    "    \n",
    "    X = ds[features]\n",
    "    y = ds['optimal_decision']\n",
    "    X_costs = ds[dl.regression_targets]\n",
    "    corrMatrix = X.corr()\n",
    "    data = corrMatrix.to_numpy()\n",
    "    data = np.abs(data)\n",
    "\n",
    "    data[data < 0.8] = 0\n",
    "    df = pd.DataFrame(data, columns=indices, index=indexed_feature_names)\n",
    "    fig, ax = plt.subplots(figsize=(14,8))\n",
    "    sn_hm = sn.heatmap(df, ansnot=False, ax=ax, cbar_kws={'label': 'Pearson Coefficient'}, cmap=plt.cm.get_cmap('Reds'))\n",
    "    \n",
    "    \n",
    "    cax = plt.gcf().axes[-1]\n",
    "    cax.tick_params(labelsize=20)\n",
    "    \n",
    "    cax = plt.gcf().axes[-2]\n",
    "    cax.tick_params(labelsize=20)\n",
    "    \n",
    "    sn_hm.figure.axes[-1].yaxis.label.set_size(20)\n",
    "    \n",
    "    plt.tight_layout()\n",
    "    # save the figure\n",
    "    # plt.savefig(f'./figures/exp2-{engine}-feat-corr.pdf')\n",
    "    plt.show()\n",
    "    # remove break for more correlations\n",
    "    break"
   ]
  },
  {
   "cell_type": "code",
   "execution_count": null,
   "id": "guided-blond",
   "metadata": {},
   "outputs": [],
   "source": []
  }
 ],
 "metadata": {
  "kernelspec": {
   "display_name": "Python 3",
   "language": "python",
   "name": "python3"
  },
  "language_info": {
   "codemirror_mode": {
    "name": "ipython",
    "version": 3
   },
   "file_extension": ".py",
   "mimetype": "text/x-python",
   "name": "python",
   "nbconvert_exporter": "python",
   "pygments_lexer": "ipython3",
   "version": "3.6.9"
  }
 },
 "nbformat": 4,
 "nbformat_minor": 5
}
