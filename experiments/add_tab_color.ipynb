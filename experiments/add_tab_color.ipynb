{
 "cells": [
  {
   "cell_type": "code",
   "execution_count": 37,
   "id": "french-terminal",
   "metadata": {},
   "outputs": [],
   "source": [
    "best = ['0.345','0.855','0.345']\n",
    "good = ['0.741','1','0']\n",
    "fair = ['0.949','0.949','0.129']\n",
    "bad = ['0.949','0.569','0.569']\n",
    "\n",
    "color_code = '\\cellcolor[rgb]'\n",
    "\n",
    "def add_cell_color(lines):\n",
    "#     ret_lines = []\n",
    "#     for l in lines.split('\\n'):\n",
    "    l = lines\n",
    "    ret_line = []\n",
    "    for cell in l.replace(' ', '').split('&'):\n",
    "        val = float(cell)\n",
    "        if val >= 0.95:\n",
    "            color = best\n",
    "        elif val >= 0.9:\n",
    "            color = good\n",
    "        elif val >= 0.8:\n",
    "            color = fair\n",
    "        else:\n",
    "            color = bad\n",
    "        ret_line.append(color_code + '{' + ','.join(color) + \"}\" + f\" {cell.replace('0.', '.').replace('1.00', '1.0')}\")\n",
    "#     ret_lines.append(' & '.join(ret_line))\n",
    "    return ' & '.join(ret_line)"
   ]
  },
  {
   "cell_type": "markdown",
   "id": "every-capacity",
   "metadata": {},
   "source": [
    "# Table 1"
   ]
  },
  {
   "cell_type": "code",
   "execution_count": 39,
   "id": "composite-hayes",
   "metadata": {},
   "outputs": [
    {
     "name": "stdout",
     "output_type": "stream",
     "text": [
      "\\cellcolor[rgb]{0.345,0.855,0.345} .99 & \\cellcolor[rgb]{0.345,0.855,0.345} .97 & \\cellcolor[rgb]{0.345,0.855,0.345} .99 & \\cellcolor[rgb]{0.345,0.855,0.345} .97 & \\cellcolor[rgb]{0.345,0.855,0.345} .99 & \\cellcolor[rgb]{0.741,1,0} .90 & \\cellcolor[rgb]{0.949,0.949,0.129} .85 & \\cellcolor[rgb]{0.741,1,0} .93\n",
      "\\cellcolor[rgb]{0.345,0.855,0.345} .99 & \\cellcolor[rgb]{0.741,1,0} .94 & \\cellcolor[rgb]{0.345,0.855,0.345} .99 & \\cellcolor[rgb]{0.345,0.855,0.345} .98 & \\cellcolor[rgb]{0.345,0.855,0.345} .99 & \\cellcolor[rgb]{0.741,1,0} .90 & \\cellcolor[rgb]{0.949,0.949,0.129} .87 & \\cellcolor[rgb]{0.949,0.949,0.129} .88\n",
      "\\cellcolor[rgb]{0.345,0.855,0.345} .96 & \\cellcolor[rgb]{0.345,0.855,0.345} .97 & \\cellcolor[rgb]{0.345,0.855,0.345} .99 & \\cellcolor[rgb]{0.345,0.855,0.345} .96 & \\cellcolor[rgb]{0.345,0.855,0.345} .99 & \\cellcolor[rgb]{0.741,1,0} .93 & \\cellcolor[rgb]{0.949,0.949,0.129} .88 & \\cellcolor[rgb]{0.741,1,0} .94\n",
      "\\cellcolor[rgb]{0.345,0.855,0.345} .98 & \\cellcolor[rgb]{0.345,0.855,0.345} .97 & \\cellcolor[rgb]{0.345,0.855,0.345} .99 & \\cellcolor[rgb]{0.345,0.855,0.345} .98 & \\cellcolor[rgb]{0.345,0.855,0.345} .99 & \\cellcolor[rgb]{0.741,1,0} .93 & \\cellcolor[rgb]{0.949,0.949,0.129} .81 & \\cellcolor[rgb]{0.345,0.855,0.345} .95\n",
      "\\cellcolor[rgb]{0.345,0.855,0.345} .98 & \\cellcolor[rgb]{0.345,0.855,0.345} .95 & \\cellcolor[rgb]{0.345,0.855,0.345} .99 & \\cellcolor[rgb]{0.345,0.855,0.345} .96 & \\cellcolor[rgb]{0.345,0.855,0.345} .98 & \\cellcolor[rgb]{0.949,0.949,0.129} .86 & \\cellcolor[rgb]{0.949,0.949,0.129} .80 & \\cellcolor[rgb]{0.949,0.949,0.129} .85\n",
      "\\cellcolor[rgb]{0.345,0.855,0.345} .96 & \\cellcolor[rgb]{0.345,0.855,0.345} .95 & \\cellcolor[rgb]{0.345,0.855,0.345} .99 & \\cellcolor[rgb]{0.345,0.855,0.345} .97 & \\cellcolor[rgb]{0.345,0.855,0.345} .99 & \\cellcolor[rgb]{0.741,1,0} .93 & \\cellcolor[rgb]{0.741,1,0} .91 & \\cellcolor[rgb]{0.345,0.855,0.345} .97\n",
      "\\cellcolor[rgb]{0.345,0.855,0.345} .98 & \\cellcolor[rgb]{0.741,1,0} .94 & \\cellcolor[rgb]{0.345,0.855,0.345} .99 & \\cellcolor[rgb]{0.345,0.855,0.345} .97 & \\cellcolor[rgb]{0.345,0.855,0.345} .99 & \\cellcolor[rgb]{0.949,0.949,0.129} .89 & \\cellcolor[rgb]{0.949,0.949,0.129} .84 & \\cellcolor[rgb]{0.949,0.949,0.129} .85\n",
      "\\cellcolor[rgb]{0.345,0.855,0.345} .99 & \\cellcolor[rgb]{0.345,0.855,0.345} .96 & \\cellcolor[rgb]{0.345,0.855,0.345} .99 & \\cellcolor[rgb]{0.345,0.855,0.345} .99 & \\cellcolor[rgb]{0.345,0.855,0.345} 1.0 & \\cellcolor[rgb]{0.741,1,0} .94 & \\cellcolor[rgb]{0.741,1,0} .92 & \\cellcolor[rgb]{0.345,0.855,0.345} .96\n",
      "\\cellcolor[rgb]{0.345,0.855,0.345} .98 & \\cellcolor[rgb]{0.345,0.855,0.345} .97 & \\cellcolor[rgb]{0.345,0.855,0.345} .99 & \\cellcolor[rgb]{0.345,0.855,0.345} .96 & \\cellcolor[rgb]{0.345,0.855,0.345} .99 & \\cellcolor[rgb]{0.345,0.855,0.345} .95 & \\cellcolor[rgb]{0.949,0.949,0.129} .84 & \\cellcolor[rgb]{0.741,1,0} .94\n",
      "\\cellcolor[rgb]{0.345,0.855,0.345} .99 & \\cellcolor[rgb]{0.741,1,0} .94 & \\cellcolor[rgb]{0.345,0.855,0.345} .99 & \\cellcolor[rgb]{0.345,0.855,0.345} .96 & \\cellcolor[rgb]{0.345,0.855,0.345} .99 & \\cellcolor[rgb]{0.345,0.855,0.345} .95 & \\cellcolor[rgb]{0.949,0.949,0.129} .84 & \\cellcolor[rgb]{0.345,0.855,0.345} .95\n",
      "\\cellcolor[rgb]{0.345,0.855,0.345} .99 & \\cellcolor[rgb]{0.741,1,0} .94 & \\cellcolor[rgb]{0.345,0.855,0.345} .99 & \\cellcolor[rgb]{0.345,0.855,0.345} .96 & \\cellcolor[rgb]{0.345,0.855,0.345} .99 & \\cellcolor[rgb]{0.345,0.855,0.345} .95 & \\cellcolor[rgb]{0.949,0.949,0.129} .84 & \\cellcolor[rgb]{0.345,0.855,0.345} .95\n",
      "\\cellcolor[rgb]{0.345,0.855,0.345} .99 & \\cellcolor[rgb]{0.345,0.855,0.345} .97 & \\cellcolor[rgb]{0.345,0.855,0.345} .99 & \\cellcolor[rgb]{0.345,0.855,0.345} .96 & \\cellcolor[rgb]{0.345,0.855,0.345} .99 & \\cellcolor[rgb]{0.345,0.855,0.345} .95 & \\cellcolor[rgb]{0.949,0.949,0.129} .84 & \\cellcolor[rgb]{0.741,1,0} .94\n"
     ]
    }
   ],
   "source": [
    "print(add_cell_color(\"\"\"0.99  & 0.97  & 0.99  & 0.97  & 0.99  & 0.90  & 0.85  & 0.93\"\"\"))\n",
    "print(add_cell_color(\"\"\"0.99  & 0.94  & 0.99  & 0.98  & 0.99  & 0.90  & 0.87  & 0.88\"\"\"))\n",
    "print(add_cell_color(\"\"\"0.96  & 0.97  & 0.99  & 0.96  & 0.99  & 0.93  & 0.88  & 0.94\"\"\"))\n",
    "print(add_cell_color(\"\"\"0.98  & 0.97  & 0.99  & 0.98  & 0.99  & 0.93  & 0.81  & 0.95\"\"\"))\n",
    "print(add_cell_color(\"\"\"0.98  & 0.95  & 0.99  & 0.96  & 0.98  & 0.86  & 0.80  & 0.85\"\"\"))\n",
    "print(add_cell_color(\"\"\"0.96  & 0.95  & 0.99  & 0.97  & 0.99  & 0.93  & 0.91  & 0.97\"\"\"))\n",
    "print(add_cell_color(\"\"\"0.98  & 0.94  & 0.99  & 0.97  & 0.99  & 0.89  & 0.84  & 0.85\"\"\"))\n",
    "print(add_cell_color(\"\"\"0.99  & 0.96  & 0.99  & 0.99  & 1.00  & 0.94  & 0.92  & 0.96 \"\"\"))\n",
    "print(add_cell_color(\"\"\"0.98  & 0.97  & 0.99  & 0.96  & 0.99  & 0.95  & 0.84  & 0.94\"\"\"))\n",
    "print(add_cell_color(\"\"\"0.99  & 0.94  & 0.99  & 0.96  & 0.99  & 0.95  & 0.84  & 0.95 \"\"\"))\n",
    "print(add_cell_color(\"\"\"0.99  & 0.94  & 0.99  & 0.96  & 0.99  & 0.95  & 0.84  & 0.95\"\"\"))\n",
    "print(add_cell_color(\"\"\"0.99  & 0.97  & 0.99  & 0.96  & 0.99  & 0.95  & 0.84  & 0.94\"\"\"))"
   ]
  },
  {
   "cell_type": "markdown",
   "id": "therapeutic-giving",
   "metadata": {},
   "source": [
    "# Table 2"
   ]
  },
  {
   "cell_type": "code",
   "execution_count": 38,
   "id": "experimental-friend",
   "metadata": {},
   "outputs": [
    {
     "name": "stdout",
     "output_type": "stream",
     "text": [
      "\\cellcolor[rgb]{0.345,0.855,0.345} .98 & \\cellcolor[rgb]{0.345,0.855,0.345} .98 & \\cellcolor[rgb]{0.345,0.855,0.345} .99 & \\cellcolor[rgb]{0.345,0.855,0.345} .99 & \\cellcolor[rgb]{0.345,0.855,0.345} 1.0 & \\cellcolor[rgb]{0.741,1,0} .92 & \\cellcolor[rgb]{0.949,0.569,0.569} .67 & \\cellcolor[rgb]{0.345,0.855,0.345} .95\n",
      "\\cellcolor[rgb]{0.345,0.855,0.345} .97 & \\cellcolor[rgb]{0.345,0.855,0.345} .98 & \\cellcolor[rgb]{0.345,0.855,0.345} .98 & \\cellcolor[rgb]{0.345,0.855,0.345} .98 & \\cellcolor[rgb]{0.345,0.855,0.345} .98 & \\cellcolor[rgb]{0.949,0.949,0.129} .89 & \\cellcolor[rgb]{0.741,1,0} .93 & \\cellcolor[rgb]{0.741,1,0} .93\n",
      "\\cellcolor[rgb]{0.949,0.949,0.129} .87 & \\cellcolor[rgb]{0.949,0.949,0.129} .86 & \\cellcolor[rgb]{0.949,0.949,0.129} .88 & \\cellcolor[rgb]{0.949,0.949,0.129} .88 & \\cellcolor[rgb]{0.949,0.949,0.129} .89 & \\cellcolor[rgb]{0.949,0.949,0.129} .81 & \\cellcolor[rgb]{0.949,0.569,0.569} .78 & \\cellcolor[rgb]{0.949,0.949,0.129} .82\n",
      "\\cellcolor[rgb]{0.949,0.949,0.129} .83 & \\cellcolor[rgb]{0.949,0.949,0.129} .80 & \\cellcolor[rgb]{0.949,0.949,0.129} .84 & \\cellcolor[rgb]{0.949,0.949,0.129} .84 & \\cellcolor[rgb]{0.949,0.949,0.129} .85 & \\cellcolor[rgb]{0.949,0.569,0.569} .75 & \\cellcolor[rgb]{0.949,0.569,0.569} .60 & \\cellcolor[rgb]{0.949,0.949,0.129} .81\n",
      "\\cellcolor[rgb]{0.345,0.855,0.345} .98 & \\cellcolor[rgb]{0.741,1,0} .94 & \\cellcolor[rgb]{0.345,0.855,0.345} .98 & \\cellcolor[rgb]{0.741,1,0} .94 & \\cellcolor[rgb]{0.345,0.855,0.345} .98 & \\cellcolor[rgb]{0.949,0.569,0.569} .35 & \\cellcolor[rgb]{0.949,0.569,0.569} .04 & \\cellcolor[rgb]{0.949,0.569,0.569} .01\n",
      "\\cellcolor[rgb]{0.345,0.855,0.345} .99 & \\cellcolor[rgb]{0.345,0.855,0.345} .98 & \\cellcolor[rgb]{0.345,0.855,0.345} .98 & \\cellcolor[rgb]{0.345,0.855,0.345} .99 & \\cellcolor[rgb]{0.345,0.855,0.345} .98 & \\cellcolor[rgb]{0.345,0.855,0.345} .97 & \\cellcolor[rgb]{0.345,0.855,0.345} .97 & \\cellcolor[rgb]{0.345,0.855,0.345} .97\n",
      "\\cellcolor[rgb]{0.345,0.855,0.345} .98 & \\cellcolor[rgb]{0.345,0.855,0.345} .96 & \\cellcolor[rgb]{0.345,0.855,0.345} .99 & \\cellcolor[rgb]{0.345,0.855,0.345} .98 & \\cellcolor[rgb]{0.345,0.855,0.345} .98 & \\cellcolor[rgb]{0.741,1,0} .90 & \\cellcolor[rgb]{0.949,0.949,0.129} .83 & \\cellcolor[rgb]{0.741,1,0} .90\n",
      "\\cellcolor[rgb]{0.345,0.855,0.345} .95 & \\cellcolor[rgb]{0.345,0.855,0.345} .96 & \\cellcolor[rgb]{0.345,0.855,0.345} .96 & \\cellcolor[rgb]{0.345,0.855,0.345} .96 & \\cellcolor[rgb]{0.345,0.855,0.345} .97 & \\cellcolor[rgb]{0.949,0.949,0.129} .86 & \\cellcolor[rgb]{0.741,1,0} .91 & \\cellcolor[rgb]{0.345,0.855,0.345} .95\n",
      "\\cellcolor[rgb]{0.345,0.855,0.345} .99 & \\cellcolor[rgb]{0.345,0.855,0.345} .99 & \\cellcolor[rgb]{0.345,0.855,0.345} 1.0 & \\cellcolor[rgb]{0.345,0.855,0.345} .98 & \\cellcolor[rgb]{0.345,0.855,0.345} .99 & \\cellcolor[rgb]{0.949,0.949,0.129} .88 & \\cellcolor[rgb]{0.949,0.569,0.569} .69 & \\cellcolor[rgb]{0.345,0.855,0.345} .98\n",
      "\\cellcolor[rgb]{0.345,0.855,0.345} .99 & \\cellcolor[rgb]{0.345,0.855,0.345} .95 & \\cellcolor[rgb]{0.345,0.855,0.345} .99 & \\cellcolor[rgb]{0.345,0.855,0.345} .95 & \\cellcolor[rgb]{0.345,0.855,0.345} .99 & \\cellcolor[rgb]{0.949,0.949,0.129} .86 & \\cellcolor[rgb]{0.949,0.569,0.569} .78 & \\cellcolor[rgb]{0.345,0.855,0.345} .95\n",
      "\\cellcolor[rgb]{0.345,0.855,0.345} .99 & \\cellcolor[rgb]{0.345,0.855,0.345} .99 & \\cellcolor[rgb]{0.345,0.855,0.345} 1.0 & \\cellcolor[rgb]{0.345,0.855,0.345} .98 & \\cellcolor[rgb]{0.345,0.855,0.345} .99 & \\cellcolor[rgb]{0.741,1,0} .94 & \\cellcolor[rgb]{0.741,1,0} .90 & \\cellcolor[rgb]{0.345,0.855,0.345} .99\n",
      "\\cellcolor[rgb]{0.345,0.855,0.345} .99 & \\cellcolor[rgb]{0.345,0.855,0.345} .98 & \\cellcolor[rgb]{0.345,0.855,0.345} 1.0 & \\cellcolor[rgb]{0.345,0.855,0.345} 1.0 & \\cellcolor[rgb]{0.345,0.855,0.345} 1.0 & \\cellcolor[rgb]{0.741,1,0} .93 & \\cellcolor[rgb]{0.741,1,0} .94 & \\cellcolor[rgb]{0.345,0.855,0.345} .99\n"
     ]
    }
   ],
   "source": [
    "print(add_cell_color(\"\"\"0.98  & 0.98  & 0.99  & 0.99  & 1.00  & 0.92  & 0.67  & 0.95 \"\"\"))\n",
    "print(add_cell_color(\"\"\"0.97  & 0.98  & 0.98  & 0.98  & 0.98  & 0.89  & 0.93  & 0.93\"\"\"))\n",
    "print(add_cell_color(\"\"\"0.87  & 0.86  & 0.88  & 0.88  & 0.89  & 0.81  & 0.78  & 0.82\"\"\"))\n",
    "print(add_cell_color(\"\"\"0.83  & 0.80  & 0.84  & 0.84  & 0.85  & 0.75  & 0.60  & 0.81\"\"\"))\n",
    "print(add_cell_color(\"\"\"0.98  & 0.94  & 0.98  & 0.94  & 0.98  & 0.35  & 0.04  & 0.01\"\"\"))\n",
    "print(add_cell_color(\"\"\"0.99  & 0.98  & 0.98  & 0.99  & 0.98  & 0.97  & 0.97  & 0.97\"\"\"))\n",
    "print(add_cell_color(\"\"\"0.98  & 0.96  & 0.99  & 0.98  & 0.98  & 0.90  & 0.83  & 0.90\"\"\"))\n",
    "print(add_cell_color(\"\"\"0.95  & 0.96  & 0.96  & 0.96  & 0.97  & 0.86  & 0.91  & 0.95\"\"\"))\n",
    "print(add_cell_color(\"\"\"0.99  & 0.99  & 1.00  & 0.98  & 0.99  & 0.88  & 0.69  & 0.98\"\"\"))\n",
    "print(add_cell_color(\"\"\"0.99  & 0.95  & 0.99  & 0.95  & 0.99  & 0.86  & 0.78  & 0.95\"\"\"))\n",
    "print(add_cell_color(\"\"\"0.99  & 0.99  & 1.00  & 0.98  & 0.99  & 0.94  & 0.90  & 0.99\"\"\"))\n",
    "print(add_cell_color(\"\"\"0.99  & 0.98  & 1.00  & 1.00  & 1.00  & 0.93  & 0.94  & 0.99 \"\"\"))"
   ]
  },
  {
   "cell_type": "code",
   "execution_count": null,
   "id": "standard-tunisia",
   "metadata": {},
   "outputs": [],
   "source": []
  },
  {
   "cell_type": "code",
   "execution_count": 40,
   "id": "meaning-general",
   "metadata": {},
   "outputs": [],
   "source": [
    "best = ['0.345','0.855','0.345']\n",
    "good = ['0.741','1','0']\n",
    "fair = ['0.949','0.949','0.129']\n",
    "bad = ['0.949','0.569','0.569']\n",
    "\n",
    "color_code = '\\cellcolor[rgb]'\n",
    "\n",
    "def add_double_cell_color(lines):\n",
    "#     ret_lines = []\n",
    "#     for l in lines.split('\\n'):\n",
    "    l = lines\n",
    "    ret_line = []\n",
    "    for cell in l.replace(' ', '').split('&'):\n",
    "#         print(cell)\n",
    "        val = max(-float(cell.split(',')[0]), -float(cell.split(',')[1]))\n",
    "        if val <= 0.05:\n",
    "            color = best\n",
    "        elif val <= 0.1:\n",
    "            color = good\n",
    "        elif val <= 0.2:\n",
    "            color = fair\n",
    "        else:\n",
    "            color = bad\n",
    "        ret_line.append(color_code + '{' + ','.join(color) + \"}\" + f\" {cell.replace('0.', '.').replace('1.00', '1.0')}\")\n",
    "#     ret_lines.append(' & '.join(ret_line))\n",
    "    return ' & '.join(ret_line)"
   ]
  },
  {
   "cell_type": "markdown",
   "id": "copyrighted-lighting",
   "metadata": {},
   "source": [
    "# Table 3"
   ]
  },
  {
   "cell_type": "code",
   "execution_count": 41,
   "id": "comparable-fireplace",
   "metadata": {},
   "outputs": [
    {
     "name": "stdout",
     "output_type": "stream",
     "text": [
      "\\cellcolor[rgb]{0.741,1,0} -.07,-.07 & \\cellcolor[rgb]{0.345,0.855,0.345} -.04,-.05 & \\cellcolor[rgb]{0.345,0.855,0.345} -.01,-.02 & \\cellcolor[rgb]{0.345,0.855,0.345} -.04,-.04 & \\cellcolor[rgb]{0.345,0.855,0.345} -.01,-.01 & \\cellcolor[rgb]{0.741,1,0} -.05,-.08 & \\cellcolor[rgb]{0.345,0.855,0.345} +.03,+.02 & \\cellcolor[rgb]{0.949,0.949,0.129} -.02,-.11\n",
      "\\cellcolor[rgb]{0.345,0.855,0.345} -.01,-.04 & \\cellcolor[rgb]{0.345,0.855,0.345} +.03,+.03 & \\cellcolor[rgb]{0.345,0.855,0.345} -.00,-.00 & \\cellcolor[rgb]{0.345,0.855,0.345} -.01,-.01 & \\cellcolor[rgb]{0.345,0.855,0.345} -.01,-.01 & \\cellcolor[rgb]{0.741,1,0} -.06,-.06 & \\cellcolor[rgb]{0.345,0.855,0.345} +.00,+.00 & \\cellcolor[rgb]{0.741,1,0} +.01,-.07\n",
      "\\cellcolor[rgb]{0.345,0.855,0.345} -.03,-.01 & \\cellcolor[rgb]{0.345,0.855,0.345} -.01,-.04 & \\cellcolor[rgb]{0.345,0.855,0.345} +.00,-.02 & \\cellcolor[rgb]{0.345,0.855,0.345} +.01,-.01 & \\cellcolor[rgb]{0.345,0.855,0.345} +.01,+.00 & \\cellcolor[rgb]{0.741,1,0} +.01,-.06 & \\cellcolor[rgb]{0.345,0.855,0.345} +.03,-.01 & \\cellcolor[rgb]{0.741,1,0} +.00,-.07\n",
      "\\cellcolor[rgb]{0.949,0.949,0.129} -.02,-.16 & \\cellcolor[rgb]{0.345,0.855,0.345} +.00,-.03 & \\cellcolor[rgb]{0.345,0.855,0.345} +.00,+.00 & \\cellcolor[rgb]{0.741,1,0} -.03,-.08 & \\cellcolor[rgb]{0.345,0.855,0.345} -.00,+.00 & \\cellcolor[rgb]{0.741,1,0} +.00,-.08 & \\cellcolor[rgb]{0.345,0.855,0.345} +.07,+.02 & \\cellcolor[rgb]{0.345,0.855,0.345} -.01,-.04\n",
      "\\cellcolor[rgb]{0.741,1,0} -.08,-.08 & \\cellcolor[rgb]{0.741,1,0} -.06,-.06 & \\cellcolor[rgb]{0.345,0.855,0.345} -.01,-.01 & \\cellcolor[rgb]{0.741,1,0} -.08,-.08 & \\cellcolor[rgb]{0.345,0.855,0.345} -.02,-.02 & \\cellcolor[rgb]{0.949,0.949,0.129} -.11,-.09 & \\cellcolor[rgb]{0.345,0.855,0.345} -.02,+.00 & \\cellcolor[rgb]{0.741,1,0} -.06,-.07\n",
      "\\cellcolor[rgb]{0.345,0.855,0.345} -.03,-.03 & \\cellcolor[rgb]{0.345,0.855,0.345} -.01,-.01 & \\cellcolor[rgb]{0.345,0.855,0.345} -.01,-.01 & \\cellcolor[rgb]{0.345,0.855,0.345} -.03,-.03 & \\cellcolor[rgb]{0.345,0.855,0.345} -.00,-.00 & \\cellcolor[rgb]{0.345,0.855,0.345} +.00,+.00 & \\cellcolor[rgb]{0.345,0.855,0.345} +.01,+.01 & \\cellcolor[rgb]{0.345,0.855,0.345} -.02,-.03\n",
      "\\cellcolor[rgb]{0.741,1,0} -.08,-.07 & \\cellcolor[rgb]{0.345,0.855,0.345} -.03,-.04 & \\cellcolor[rgb]{0.345,0.855,0.345} -.02,-.02 & \\cellcolor[rgb]{0.345,0.855,0.345} -.05,-.05 & \\cellcolor[rgb]{0.345,0.855,0.345} -.02,-.02 & \\cellcolor[rgb]{0.741,1,0} -.07,-.07 & \\cellcolor[rgb]{0.345,0.855,0.345} +.04,+.04 & \\cellcolor[rgb]{0.345,0.855,0.345} -.05,-.04\n",
      "\\cellcolor[rgb]{0.345,0.855,0.345} -.03,-.04 & \\cellcolor[rgb]{0.345,0.855,0.345} +.01,+.01 & \\cellcolor[rgb]{0.345,0.855,0.345} +.00,-.01 & \\cellcolor[rgb]{0.345,0.855,0.345} -.03,-.02 & \\cellcolor[rgb]{0.345,0.855,0.345} +.00,-.01 & \\cellcolor[rgb]{0.345,0.855,0.345} +.00,-.00 & \\cellcolor[rgb]{0.345,0.855,0.345} +.02,+.03 & \\cellcolor[rgb]{0.345,0.855,0.345} -.01,-.03\n",
      "\\cellcolor[rgb]{0.741,1,0} -.06,-.06 & \\cellcolor[rgb]{0.345,0.855,0.345} -.04,-.03 & \\cellcolor[rgb]{0.345,0.855,0.345} -.02,-.02 & \\cellcolor[rgb]{0.345,0.855,0.345} -.05,-.05 & \\cellcolor[rgb]{0.345,0.855,0.345} -.02,-.02 & \\cellcolor[rgb]{0.345,0.855,0.345} -.05,-.05 & \\cellcolor[rgb]{0.345,0.855,0.345} +.05,+.05 & \\cellcolor[rgb]{0.345,0.855,0.345} -.03,-.03\n",
      "\\cellcolor[rgb]{0.741,1,0} -.07,-.06 & \\cellcolor[rgb]{0.345,0.855,0.345} -.02,-.01 & \\cellcolor[rgb]{0.345,0.855,0.345} -.02,-.03 & \\cellcolor[rgb]{0.345,0.855,0.345} -.04,-.04 & \\cellcolor[rgb]{0.345,0.855,0.345} -.02,-.02 & \\cellcolor[rgb]{0.345,0.855,0.345} -.05,-.05 & \\cellcolor[rgb]{0.345,0.855,0.345} +.05,+.05 & \\cellcolor[rgb]{0.345,0.855,0.345} -.04,-.04\n",
      "\\cellcolor[rgb]{0.345,0.855,0.345} -.05,-.05 & \\cellcolor[rgb]{0.345,0.855,0.345} -.02,-.01 & \\cellcolor[rgb]{0.345,0.855,0.345} -.02,-.02 & \\cellcolor[rgb]{0.345,0.855,0.345} -.03,-.03 & \\cellcolor[rgb]{0.345,0.855,0.345} -.01,-.01 & \\cellcolor[rgb]{0.345,0.855,0.345} -.04,-.04 & \\cellcolor[rgb]{0.345,0.855,0.345} +.05,+.05 & \\cellcolor[rgb]{0.345,0.855,0.345} -.04,-.04\n",
      "\\cellcolor[rgb]{0.741,1,0} -.08,-.07 & \\cellcolor[rgb]{0.345,0.855,0.345} -.03,-.02 & \\cellcolor[rgb]{0.345,0.855,0.345} -.02,-.02 & \\cellcolor[rgb]{0.345,0.855,0.345} -.03,-.03 & \\cellcolor[rgb]{0.345,0.855,0.345} -.02,-.02 & \\cellcolor[rgb]{0.345,0.855,0.345} -.04,-.04 & \\cellcolor[rgb]{0.345,0.855,0.345} +.05,+.05 & \\cellcolor[rgb]{0.345,0.855,0.345} -.02,-.02\n"
     ]
    }
   ],
   "source": [
    "print(add_double_cell_color(\"\"\"-.07, -.07  & -.04, -.05  & -.01, -.02  & -.04, -.04  & -.01, -.01  & -.05, -.08  & +.03, +.02  & -.02, -.11\"\"\"))\n",
    "print(add_double_cell_color(\"\"\" -.01, -.04  & +.03, +.03  & -.00, -.00  & -.01, -.01  & -.01, -.01  & -.06, -.06  & +.00, +.00  & +.01, -.07\"\"\"))\n",
    "print(add_double_cell_color(\"\"\"-.03, -.01  & -.01, -.04  & +.00, -.02  & +.01, -.01  & +.01, +.00  & +.01, -.06  & +.03, -.01  & +.00, -.07\"\"\"))\n",
    "print(add_double_cell_color(\"\"\"-.02, -.16  & +.00, -.03  & +.00, +.00  & -.03, -.08  & -.00, +.00  & +.00, -.08  & +.07, +.02  & -.01, -.04\"\"\"))\n",
    "print(add_double_cell_color(\"\"\"-.08, -.08  & -.06, -.06  & -.01, -.01  & -.08, -.08  & -.02, -.02  & -.11, -.09  & -.02, +.00  & -.06, -.07\"\"\"))\n",
    "print(add_double_cell_color(\"\"\"-.03, -.03  & -.01, -.01  & -.01, -.01  & -.03, -.03  & -.00, -.00  & +.00, +.00  & +.01, +.01  & -.02, -.03\"\"\"))\n",
    "print(add_double_cell_color(\"\"\"-.08, -.07  & -.03, -.04  & -.02, -.02  & -.05, -.05  & -.02, -.02  & -.07, -.07  & +.04, +.04  & -.05, -.04\"\"\"))\n",
    "print(add_double_cell_color(\"\"\"-.03, -.04  & +.01, +.01  & +.00, -.01  & -.03, -.02  & +.00, -.01  & +.00, -.00  & +.02, +.03  & -.01, -.03\"\"\"))\n",
    "print(add_double_cell_color(\"\"\"-.06, -.06  & -.04, -.03  & -.02, -.02  & -.05, -.05  & -.02, -.02  & -.05, -.05  & +.05, +.05  & -.03, -.03\"\"\"))\n",
    "print(add_double_cell_color(\"\"\"-.07, -.06  & -.02, -.01  & -.02, -.03  & -.04, -.04  & -.02, -.02  & -.05, -.05  & +.05, +.05  & -.04, -.04\"\"\"))\n",
    "print(add_double_cell_color(\"\"\"-.05, -.05  & -.02, -.01  & -.02, -.02  & -.03, -.03  & -.01, -.01  & -.04, -.04  & +.05, +.05  & -.04, -.04\"\"\"))\n",
    "print(add_double_cell_color(\"\"\"-.08, -.07  & -.03, -.02  & -.02, -.02  & -.03, -.03  & -.02, -.02  & -.04, -.04  & +.05, +.05  & -.02, -.02 \"\"\"))"
   ]
  },
  {
   "cell_type": "markdown",
   "id": "reverse-solid",
   "metadata": {},
   "source": [
    "# Table 4"
   ]
  },
  {
   "cell_type": "code",
   "execution_count": 42,
   "id": "iraqi-butterfly",
   "metadata": {},
   "outputs": [
    {
     "name": "stdout",
     "output_type": "stream",
     "text": [
      "\\cellcolor[rgb]{0.345,0.855,0.345} -.02,-.02 & \\cellcolor[rgb]{0.345,0.855,0.345} -.02,-.01 & \\cellcolor[rgb]{0.345,0.855,0.345} -.01,-.02 & \\cellcolor[rgb]{0.345,0.855,0.345} -.03,-.02 & \\cellcolor[rgb]{0.345,0.855,0.345} -.03,-.02 & \\cellcolor[rgb]{0.741,1,0} -.06,-.04 & \\cellcolor[rgb]{0.345,0.855,0.345} +.12,+.08 & \\cellcolor[rgb]{0.741,1,0} -.06,+.02\n",
      "\\cellcolor[rgb]{0.345,0.855,0.345} +.01,+.01 & \\cellcolor[rgb]{0.345,0.855,0.345} -.01,+.00 & \\cellcolor[rgb]{0.345,0.855,0.345} -.00,+.00 & \\cellcolor[rgb]{0.345,0.855,0.345} -.01,+.00 & \\cellcolor[rgb]{0.345,0.855,0.345} +.00,+.00 & \\cellcolor[rgb]{0.345,0.855,0.345} +.03,+.02 & \\cellcolor[rgb]{0.741,1,0} -.06,-.02 & \\cellcolor[rgb]{0.345,0.855,0.345} -.02,+.00\n",
      "\\cellcolor[rgb]{0.345,0.855,0.345} -.01,-.02 & \\cellcolor[rgb]{0.345,0.855,0.345} +.02,-.01 & \\cellcolor[rgb]{0.345,0.855,0.345} -.01,-.01 & \\cellcolor[rgb]{0.345,0.855,0.345} -.02,-.03 & \\cellcolor[rgb]{0.345,0.855,0.345} -.02,-.02 & \\cellcolor[rgb]{0.741,1,0} -.07,-.07 & \\cellcolor[rgb]{0.949,0.949,0.129} +.00,-.12 & \\cellcolor[rgb]{0.345,0.855,0.345} +.01,+.00\n",
      "\\cellcolor[rgb]{0.949,0.569,0.569} -.23,-.22 & \\cellcolor[rgb]{0.949,0.569,0.569} -.22,-.21 & \\cellcolor[rgb]{0.741,1,0} -.09,-.09 & \\cellcolor[rgb]{0.949,0.569,0.569} -.26,-.27 & \\cellcolor[rgb]{0.741,1,0} -.09,-.09 & \\cellcolor[rgb]{0.949,0.569,0.569} -.24,-.25 & \\cellcolor[rgb]{0.741,1,0} -.01,-.10 & \\cellcolor[rgb]{0.949,0.569,0.569} -.21,-.24\n",
      "\\cellcolor[rgb]{0.949,0.949,0.129} -.07,-.12 & \\cellcolor[rgb]{0.345,0.855,0.345} -.01,-.01 & \\cellcolor[rgb]{0.345,0.855,0.345} -.00,+.00 & \\cellcolor[rgb]{0.345,0.855,0.345} -.04,-.04 & \\cellcolor[rgb]{0.345,0.855,0.345} -.01,+.01 & \\cellcolor[rgb]{0.949,0.949,0.129} -.18,-.15 & \\cellcolor[rgb]{0.345,0.855,0.345} +.44,+.54 & \\cellcolor[rgb]{0.345,0.855,0.345} +.00,+.00\n",
      "\\cellcolor[rgb]{0.345,0.855,0.345} -.01,-.01 & \\cellcolor[rgb]{0.345,0.855,0.345} -.01,-.00 & \\cellcolor[rgb]{0.345,0.855,0.345} -.02,-.02 & \\cellcolor[rgb]{0.345,0.855,0.345} -.02,-.02 & \\cellcolor[rgb]{0.345,0.855,0.345} -.03,-.03 & \\cellcolor[rgb]{0.345,0.855,0.345} +.00,+.00 & \\cellcolor[rgb]{0.345,0.855,0.345} +.00,+.00 & \\cellcolor[rgb]{0.345,0.855,0.345} +.00,+.00\n",
      "\\cellcolor[rgb]{0.949,0.949,0.129} -.20,-.19 & \\cellcolor[rgb]{0.949,0.949,0.129} -.12,-.13 & \\cellcolor[rgb]{0.345,0.855,0.345} -.02,-.03 & \\cellcolor[rgb]{0.949,0.949,0.129} -.20,-.19 & \\cellcolor[rgb]{0.345,0.855,0.345} -.05,-.04 & \\cellcolor[rgb]{0.741,1,0} -.09,-.04 & \\cellcolor[rgb]{0.345,0.855,0.345} +.01,-.02 & \\cellcolor[rgb]{0.949,0.949,0.129} -.09,-.11\n",
      "\\cellcolor[rgb]{0.345,0.855,0.345} -.01,-.01 & \\cellcolor[rgb]{0.345,0.855,0.345} -.02,-.01 & \\cellcolor[rgb]{0.345,0.855,0.345} -.01,-.01 & \\cellcolor[rgb]{0.345,0.855,0.345} -.01,-.01 & \\cellcolor[rgb]{0.345,0.855,0.345} -.01,-.01 & \\cellcolor[rgb]{0.345,0.855,0.345} +.02,+.01 & \\cellcolor[rgb]{0.345,0.855,0.345} -.03,-.04 & \\cellcolor[rgb]{0.345,0.855,0.345} -.01,-.01\n",
      "\\cellcolor[rgb]{0.741,1,0} -.06,-.03 & \\cellcolor[rgb]{0.741,1,0} -.07,-.02 & \\cellcolor[rgb]{0.345,0.855,0.345} +.00,+.00 & \\cellcolor[rgb]{0.741,1,0} -.06,-.04 & \\cellcolor[rgb]{0.345,0.855,0.345} +.00,-.00 & \\cellcolor[rgb]{0.741,1,0} -.09,-.07 & \\cellcolor[rgb]{0.345,0.855,0.345} +.04,+.04 & \\cellcolor[rgb]{0.949,0.949,0.129} -.12,-.04\n",
      "\\cellcolor[rgb]{0.741,1,0} -.07,-.03 & \\cellcolor[rgb]{0.741,1,0} -.08,-.03 & \\cellcolor[rgb]{0.345,0.855,0.345} +.00,+.00 & \\cellcolor[rgb]{0.345,0.855,0.345} -.02,-.01 & \\cellcolor[rgb]{0.345,0.855,0.345} -.01,-.01 & \\cellcolor[rgb]{0.741,1,0} -.07,-.04 & \\cellcolor[rgb]{0.345,0.855,0.345} +.03,+.05 & \\cellcolor[rgb]{0.741,1,0} -.08,-.06\n",
      "\\cellcolor[rgb]{0.741,1,0} -.05,-.09 & \\cellcolor[rgb]{0.345,0.855,0.345} -.03,-.03 & \\cellcolor[rgb]{0.345,0.855,0.345} -.01,-.01 & \\cellcolor[rgb]{0.345,0.855,0.345} -.03,-.02 & \\cellcolor[rgb]{0.345,0.855,0.345} -.02,-.02 & \\cellcolor[rgb]{0.741,1,0} -.09,-.01 & \\cellcolor[rgb]{0.345,0.855,0.345} -.01,+.02 & \\cellcolor[rgb]{0.345,0.855,0.345} -.04,-.03\n",
      "\\cellcolor[rgb]{0.345,0.855,0.345} -.02,-.02 & \\cellcolor[rgb]{0.345,0.855,0.345} -.02,-.01 & \\cellcolor[rgb]{0.345,0.855,0.345} -.01,-.01 & \\cellcolor[rgb]{0.345,0.855,0.345} -.03,-.03 & \\cellcolor[rgb]{0.345,0.855,0.345} -.01,-.01 & \\cellcolor[rgb]{0.741,1,0} -.06,+.04 & \\cellcolor[rgb]{0.345,0.855,0.345} -.02,-.00 & \\cellcolor[rgb]{0.345,0.855,0.345} -.04,-.02\n"
     ]
    }
   ],
   "source": [
    "print(add_double_cell_color(\"\"\"-.02, -.02  & -.02, -.01  & -.01, -.02  & -.03, -.02  & -.03, -.02  & -.06, -.04  & +.12, +.08  & -.06, +.02\"\"\"))\n",
    "print(add_double_cell_color(\"\"\"+.01, +.01  & -.01, +.00  & -.00, +.00  & -.01, +.00  & +.00, +.00  & +.03, +.02  & -.06, -.02  & -.02, +.00\"\"\"))\n",
    "print(add_double_cell_color(\"\"\"-.01, -.02  & +.02, -.01  & -.01, -.01  & -.02, -.03  & -.02, -.02  & -.07, -.07  & +.00, -.12  & +.01, +.00\"\"\"))\n",
    "print(add_double_cell_color(\"\"\"-.23, -.22  & -.22, -.21  & -.09, -.09  & -.26, -.27  & -.09, -.09  & -.24, -.25  & -.01, -.10  & -.21, -.24 \"\"\"))\n",
    "print(add_double_cell_color(\"\"\"-.07, -.12  & -.01, -.01  & -.00, +.00  & -.04, -.04  & -.01, +.01  & -.18, -.15  & +.44, +.54  & +.00, +.00\"\"\"))\n",
    "print(add_double_cell_color(\"\"\"-.01, -.01  & -.01, -.00  & -.02, -.02  & -.02, -.02  & -.03, -.03  & +.00, +.00  & +.00, +.00  & +.00, +.00\"\"\"))\n",
    "print(add_double_cell_color(\"\"\"-.20, -.19  & -.12, -.13  & -.02, -.03  & -.20, -.19  & -.05, -.04  & -.09, -.04  & +.01, -.02  & -.09, -.11\"\"\"))\n",
    "print(add_double_cell_color(\"\"\"-.01, -.01  & -.02, -.01  & -.01, -.01  & -.01, -.01  & -.01, -.01  & +.02, +.01  & -.03, -.04  & -.01, -.01 \"\"\"))\n",
    "print(add_double_cell_color(\"\"\"-.06, -.03  & -.07, -.02  & +.00, +.00  & -.06, -.04  & +.00, -.00  & -.09, -.07  & +.04, +.04  & -.12, -.04\"\"\"))\n",
    "print(add_double_cell_color(\"\"\"-.07, -.03  & -.08, -.03  & +.00, +.00  & -.02, -.01  & -.01, -.01  & -.07, -.04  & +.03, +.05  & -.08, -.06\"\"\"))\n",
    "print(add_double_cell_color(\"\"\"-.05, -.09  & -.03, -.03  & -.01, -.01  & -.03, -.02  & -.02, -.02  & -.09, -.01  & -.01, +.02  & -.04, -.03\"\"\"))\n",
    "print(add_double_cell_color(\"\"\"-.02, -.02  & -.02, -.01  & -.01, -.01  & -.03, -.03  & -.01, -.01  & -.06, +.04  & -.02, -.00  & -.04, -.02\"\"\"))"
   ]
  },
  {
   "cell_type": "code",
   "execution_count": null,
   "id": "impossible-southwest",
   "metadata": {},
   "outputs": [],
   "source": []
  }
 ],
 "metadata": {
  "kernelspec": {
   "display_name": "Python 3",
   "language": "python",
   "name": "python3"
  },
  "language_info": {
   "codemirror_mode": {
    "name": "ipython",
    "version": 3
   },
   "file_extension": ".py",
   "mimetype": "text/x-python",
   "name": "python",
   "nbconvert_exporter": "python",
   "pygments_lexer": "ipython3",
   "version": "3.6.9"
  }
 },
 "nbformat": 4,
 "nbformat_minor": 5
}
