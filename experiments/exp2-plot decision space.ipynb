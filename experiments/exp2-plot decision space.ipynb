{
 "cells": [
  {
   "cell_type": "markdown",
   "id": "exposed-production",
   "metadata": {},
   "source": [
    "# Load packages"
   ]
  },
  {
   "cell_type": "code",
   "execution_count": null,
   "id": "adverse-relaxation",
   "metadata": {},
   "outputs": [],
   "source": [
    "from core.DataLoader import *\n",
    "from core.models.MLP import * \n",
    "from core.models.GAM import *\n",
    "from core.models.SVM import *\n",
    "# from core.models.EBM import *\n",
    "\n",
    "from core.models.RandomForest import *\n",
    "from core.Visualizer import *\n",
    "from core.models.Classifier import *\n",
    "from core.models.XGB import *"
   ]
  },
  {
   "cell_type": "code",
   "execution_count": null,
   "id": "virgin-celtic",
   "metadata": {},
   "outputs": [],
   "source": [
    "model_accs = {\n",
    "    'MLP': [],\n",
    "    'RF(5)': [],\n",
    "    'RF(10)': [],\n",
    "    'RF(U)': [],\n",
    "    'DT(5)': [],\n",
    "    'DT(10)': [],\n",
    "    'DT(U)': [],\n",
    "    'LR': [],\n",
    "    'SVM': [],\n",
    "    'XGB': []\n",
    "}"
   ]
  },
  {
   "cell_type": "code",
   "execution_count": null,
   "id": "mobile-supplier",
   "metadata": {},
   "outputs": [],
   "source": [
    "weighted_clf_model_list ={\n",
    "    \"MLP\": MLPClassifier,\n",
    "    \"DT\": m_DecisionTreeClassifier,\n",
    "    \"RF\": m_RandomForestClassifier,\n",
    "    \"LR\": m_LogisticRegression,\n",
    "    \"SVM\": SVMClassifier,\n",
    "    \"XGB\": XGBOOSTClassifier\n",
    "}\n",
    "weighted_clf_model_name_list = ['MLP']"
   ]
  },
  {
   "cell_type": "markdown",
   "id": "eleven-practice",
   "metadata": {},
   "source": [
    "# Load data"
   ]
  },
  {
   "cell_type": "code",
   "execution_count": null,
   "id": "velvet-array",
   "metadata": {},
   "outputs": [],
   "source": [
    "engine = 'mssql' # change to postgres if needed\n",
    "dl = DataLoader(engine)\n",
    "one_file_dss, one_file_names = dl.get_one_file_ds(return_type='ds and names', datasets=['ssb', 'imdb'])\n",
    "present_idxs = list(range(len(one_file_dss)))"
   ]
  },
  {
   "cell_type": "code",
   "execution_count": null,
   "id": "hairy-puzzle",
   "metadata": {},
   "outputs": [],
   "source": [
    "classification_target = dl.classification_target\n",
    "features = ['sel_of_pred_on_indexed_attr', 'left_cardinality']\n",
    "print(\"Using features: \", features)"
   ]
  },
  {
   "cell_type": "markdown",
   "id": "infinite-windows",
   "metadata": {},
   "source": [
    "# Train and visualize models"
   ]
  },
  {
   "cell_type": "code",
   "execution_count": null,
   "id": "personal-liechtenstein",
   "metadata": {
    "scrolled": false
   },
   "outputs": [],
   "source": [
    "for i in [0, 10]:  # the two binary joins shown in paper are number 0 and number 10\n",
    "\n",
    "    ds = one_file_dss[i]\n",
    "    ds_name = one_file_names[i]\n",
    "    \n",
    "    # =========================\n",
    "    X = ds[features]\n",
    "    y = ds['optimal_decision']\n",
    "    X_costs = ds[dl.regression_targets]\n",
    "\n",
    "    from sklearn.model_selection import train_test_split\n",
    "    from sklearn import preprocessing\n",
    "\n",
    "    X_train, X_test, y_train, y_test = train_test_split(X, y, train_size=0.8, random_state=1)\n",
    "    X_train_costs, X_test_costs, _, _, = train_test_split(X_costs, y, train_size=0.8, random_state=1)\n",
    "    X_train, X_test, y_train, y_test = \\\n",
    "        X_train.to_numpy(),X_test.to_numpy(), y_train.to_numpy(), y_test.to_numpy()\n",
    "\n",
    "    X_train_weights = calculate_importance_from_costs(X_train_costs.to_numpy())\n",
    "\n",
    "    scaler = preprocessing.StandardScaler().fit(X_train)\n",
    "    X_train = scaler.transform(X_train)\n",
    "\n",
    "    # scaler = preprocessing.StandardScaler().fit(X_test)\n",
    "    X_test = scaler.transform(X_test)\n",
    "\n",
    "    X_train_weights = preprocessing.MinMaxScaler().fit_transform(X_train_weights.reshape(-1,1)).flatten()\n",
    "    # =========================\n",
    "    \n",
    "    accs = []\n",
    "    for idx, model_name in enumerate(weighted_clf_model_name_list):\n",
    "        model = weighted_clf_model_list[model_name.split('(')[0]]        \n",
    "        if 'DT' in model_name or 'RF' in model_name:\n",
    "            max_depth = model_name.split('(')[-1].split(')')[0]\n",
    "            if max_depth.lower() == 'u':\n",
    "                max_depth = None\n",
    "            else:\n",
    "                max_depth = int(max_depth)\n",
    "            clf = model().fit(X_train, y_train, sample_weight=X_train_weights, max_depth=max_depth)\n",
    "        else:\n",
    "            clf = model().fit(X_train, y_train, sample_weight=X_train_weights, max_iter=1, weight_decay=0.000001)\n",
    "        print(one_file_names[i])\n",
    "        print(f\"Accuray of {model}: {clf.score(X_test, y_test)}\")\n",
    "        \n",
    "        if len(features) == 2:\n",
    "            x_label = features[0] # sel_on_indexed_attr'\n",
    "            y_label = features[-1]\n",
    "            if i == 0 and engine=='postgres':\n",
    "                y_label = 'left_cardinality' # features[-1]\n",
    "            else:\n",
    "                y_label = None\n",
    "            if i == 1 and engine == 'mssql':\n",
    "                colorbar = False\n",
    "            else:\n",
    "                colorbar = False\n",
    "            plot_2d_decision_boundaries(clf, scaler.inverse_transform(X_train[0:800, :]), X_train_costs.to_numpy()[0:800, :], y_train[0:800], title=f' ', \n",
    "                                        x_label=x_label, y_label=y_label, scaler=scaler, \n",
    "                                        filename=f'./figures/exp2-viz-decision-space-{engine}-(random_left)-{i}', plot_colorbar=colorbar)\n",
    "        \n",
    "        model_accs[model_name].append(clf.score(X_test, y_test))\n",
    "    "
   ]
  },
  {
   "cell_type": "code",
   "execution_count": null,
   "id": "eight-roulette",
   "metadata": {},
   "outputs": [],
   "source": []
  }
 ],
 "metadata": {
  "kernelspec": {
   "display_name": "Python 3",
   "language": "python",
   "name": "python3"
  },
  "language_info": {
   "codemirror_mode": {
    "name": "ipython",
    "version": 3
   },
   "file_extension": ".py",
   "mimetype": "text/x-python",
   "name": "python",
   "nbconvert_exporter": "python",
   "pygments_lexer": "ipython3",
   "version": "3.6.9"
  }
 },
 "nbformat": 4,
 "nbformat_minor": 5
}
