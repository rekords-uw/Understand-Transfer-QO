{
 "cells": [
  {
   "cell_type": "markdown",
   "id": "canadian-pipeline",
   "metadata": {},
   "source": [
    "# Load packages"
   ]
  },
  {
   "cell_type": "code",
   "execution_count": 1,
   "id": "adverse-relaxation",
   "metadata": {},
   "outputs": [],
   "source": [
    "from core.DataLoader import *\n",
    "from core.models.MLP import * \n",
    "from core.models.GAM import *\n",
    "from core.models.SVM import *\n",
    "from core.models.RandomForest import *\n",
    "from core.models.Classifier import *\n",
    "from core.models.XGB import *"
   ]
  },
  {
   "cell_type": "code",
   "execution_count": 2,
   "id": "mobile-supplier",
   "metadata": {},
   "outputs": [],
   "source": [
    "clf_model_list ={\n",
    "    \"MLP\": MLPClassifier,\n",
    "    \"DT\": m_DecisionTreeClassifier,\n",
    "    \"RF\": m_RandomForestClassifier,\n",
    "    \"LR\": m_LogisticRegression,\n",
    "    \"SVM\": SVMClassifier,\n",
    "    \"XGB\": XGBOOSTClassifier\n",
    "}\n",
    "clf_model_name_list = ['MLP', 'RF(5)', 'RF(U)', 'DT(5)', 'DT(U)', 'LR', 'SVM', 'XGB']"
   ]
  },
  {
   "cell_type": "markdown",
   "id": "satisfactory-dinner",
   "metadata": {},
   "source": [
    "# Load training data"
   ]
  },
  {
   "cell_type": "code",
   "execution_count": 3,
   "id": "velvet-array",
   "metadata": {},
   "outputs": [
    {
     "name": "stdout",
     "output_type": "stream",
     "text": [
      "Using features:  ['left_cardinality', 'base_cardinality', 'sel_of_pred_on_indexed_attr', 'sel_of_pred_on_non_indexed_attr', 'sel_of_join_pred', 'left_ordered', 'base_ordered', 'left_indexed', 'base_indexed', 'result_size', 'predicate_op_num_on_indexed_attr', 'predicate_op_num_on_non_indexed_attr']\n"
     ]
    }
   ],
   "source": [
    "engine = 'postgres'# use 'postgres' or 'mssql'\n",
    "dl = DataLoader(engine)\n",
    "one_file_dss, one_file_names = dl.get_one_file_ds(return_type='ds and names', datasets=['ssb', 'tpch', 'tpch_10', 'tpch_100', 'imdb'], suffix=None)\n",
    "features = dl.base_features\n",
    "print(\"Using features: \", features)"
   ]
  },
  {
   "cell_type": "markdown",
   "id": "recovered-motor",
   "metadata": {},
   "source": [
    "# Train and collect model accuracy"
   ]
  },
  {
   "cell_type": "code",
   "execution_count": 4,
   "id": "personal-liechtenstein",
   "metadata": {
    "scrolled": true
   },
   "outputs": [
    {
     "name": "stderr",
     "output_type": "stream",
     "text": [
      "\r",
      "  0%|          | 0/500 [00:00<?, ?it/s]"
     ]
    },
    {
     "name": "stdout",
     "output_type": "stream",
     "text": [
      "Processing binary join # 0\n",
      "set features: 12\n"
     ]
    },
    {
     "name": "stderr",
     "output_type": "stream",
     "text": [
      "100%|██████████| 500/500 [00:55<00:00,  9.05it/s]\n"
     ]
    },
    {
     "name": "stdout",
     "output_type": "stream",
     "text": [
      "Accuray of <class 'core.models.MLP.MLPClassifier'>: 0.975\n",
      "Accuray of <class 'core.models.RandomForest.m_RandomForestClassifier'>: 0.9425\n",
      "Accuray of <class 'core.models.RandomForest.m_RandomForestClassifier'>: 0.97\n",
      "Accuray of <class 'core.models.RandomForest.m_DecisionTreeClassifier'>: 0.9425\n",
      "Accuray of <class 'core.models.RandomForest.m_DecisionTreeClassifier'>: 0.995\n",
      "Accuray of <class 'core.models.GAM.m_LogisticRegression'>: 0.9475\n",
      "Accuray of <class 'core.models.SVM.SVMClassifier'>: 0.91\n"
     ]
    },
    {
     "name": "stderr",
     "output_type": "stream",
     "text": [
      "  1%|          | 3/500 [00:00<00:22, 22.54it/s]"
     ]
    },
    {
     "name": "stdout",
     "output_type": "stream",
     "text": [
      "Accuray of <class 'core.models.XGB.XGBOOSTClassifier'>: 0.98\n",
      "Processing binary join # 1\n",
      "set features: 12\n"
     ]
    },
    {
     "name": "stderr",
     "output_type": "stream",
     "text": [
      "100%|██████████| 500/500 [00:21<00:00, 23.68it/s]\n"
     ]
    },
    {
     "name": "stdout",
     "output_type": "stream",
     "text": [
      "Accuray of <class 'core.models.MLP.MLPClassifier'>: 0.9925\n",
      "Accuray of <class 'core.models.RandomForest.m_RandomForestClassifier'>: 0.995\n",
      "Accuray of <class 'core.models.RandomForest.m_RandomForestClassifier'>: 0.9975\n",
      "Accuray of <class 'core.models.RandomForest.m_DecisionTreeClassifier'>: 1.0\n",
      "Accuray of <class 'core.models.RandomForest.m_DecisionTreeClassifier'>: 1.0\n",
      "Accuray of <class 'core.models.GAM.m_LogisticRegression'>: 0.995\n",
      "Accuray of <class 'core.models.SVM.SVMClassifier'>: 0.99\n",
      "Accuray of <class 'core.models.XGB.XGBOOSTClassifier'>: 0.9925\n",
      "Processing binary join # 2\n"
     ]
    },
    {
     "name": "stderr",
     "output_type": "stream",
     "text": [
      "  1%|          | 3/500 [00:00<00:17, 28.96it/s]"
     ]
    },
    {
     "name": "stdout",
     "output_type": "stream",
     "text": [
      "set features: 12\n"
     ]
    },
    {
     "name": "stderr",
     "output_type": "stream",
     "text": [
      "100%|██████████| 500/500 [00:19<00:00, 25.14it/s]\n"
     ]
    },
    {
     "name": "stdout",
     "output_type": "stream",
     "text": [
      "Accuray of <class 'core.models.MLP.MLPClassifier'>: 0.9675\n",
      "Accuray of <class 'core.models.RandomForest.m_RandomForestClassifier'>: 0.97\n",
      "Accuray of <class 'core.models.RandomForest.m_RandomForestClassifier'>: 0.9875\n",
      "Accuray of <class 'core.models.RandomForest.m_DecisionTreeClassifier'>: 0.9725\n",
      "Accuray of <class 'core.models.RandomForest.m_DecisionTreeClassifier'>: 0.9975\n",
      "Accuray of <class 'core.models.GAM.m_LogisticRegression'>: 0.9275\n",
      "Accuray of <class 'core.models.SVM.SVMClassifier'>: 0.9225\n"
     ]
    },
    {
     "name": "stderr",
     "output_type": "stream",
     "text": [
      "  1%|          | 3/500 [00:00<00:19, 25.27it/s]"
     ]
    },
    {
     "name": "stdout",
     "output_type": "stream",
     "text": [
      "Accuray of <class 'core.models.XGB.XGBOOSTClassifier'>: 0.965\n",
      "Processing binary join # 3\n",
      "set features: 12\n"
     ]
    },
    {
     "name": "stderr",
     "output_type": "stream",
     "text": [
      "100%|██████████| 500/500 [00:20<00:00, 24.43it/s]\n"
     ]
    },
    {
     "name": "stdout",
     "output_type": "stream",
     "text": [
      "Accuray of <class 'core.models.MLP.MLPClassifier'>: 0.8025\n",
      "Accuray of <class 'core.models.RandomForest.m_RandomForestClassifier'>: 0.8025\n",
      "Accuray of <class 'core.models.RandomForest.m_RandomForestClassifier'>: 0.9975\n",
      "Accuray of <class 'core.models.RandomForest.m_DecisionTreeClassifier'>: 0.97\n",
      "Accuray of <class 'core.models.RandomForest.m_DecisionTreeClassifier'>: 1.0\n",
      "Accuray of <class 'core.models.GAM.m_LogisticRegression'>: 0.7775\n",
      "Accuray of <class 'core.models.SVM.SVMClassifier'>: 0.785\n",
      "Accuray of <class 'core.models.XGB.XGBOOSTClassifier'>: 0.7875\n",
      "Processing binary join # 4\n"
     ]
    },
    {
     "name": "stderr",
     "output_type": "stream",
     "text": [
      "  1%|          | 3/500 [00:00<00:20, 24.80it/s]"
     ]
    },
    {
     "name": "stdout",
     "output_type": "stream",
     "text": [
      "set features: 12\n"
     ]
    },
    {
     "name": "stderr",
     "output_type": "stream",
     "text": [
      "100%|██████████| 500/500 [00:20<00:00, 24.09it/s]\n"
     ]
    },
    {
     "name": "stdout",
     "output_type": "stream",
     "text": [
      "Accuray of <class 'core.models.MLP.MLPClassifier'>: 0.99\n",
      "Accuray of <class 'core.models.RandomForest.m_RandomForestClassifier'>: 0.9925\n",
      "Accuray of <class 'core.models.RandomForest.m_RandomForestClassifier'>: 0.9875\n",
      "Accuray of <class 'core.models.RandomForest.m_DecisionTreeClassifier'>: 0.9975\n",
      "Accuray of <class 'core.models.RandomForest.m_DecisionTreeClassifier'>: 0.9925\n",
      "Accuray of <class 'core.models.GAM.m_LogisticRegression'>: 0.92\n",
      "Accuray of <class 'core.models.SVM.SVMClassifier'>: 0.9275\n"
     ]
    },
    {
     "name": "stderr",
     "output_type": "stream",
     "text": [
      "  1%|          | 3/500 [00:00<00:19, 25.18it/s]"
     ]
    },
    {
     "name": "stdout",
     "output_type": "stream",
     "text": [
      "Accuray of <class 'core.models.XGB.XGBOOSTClassifier'>: 0.975\n",
      "Processing binary join # 5\n",
      "set features: 12\n"
     ]
    },
    {
     "name": "stderr",
     "output_type": "stream",
     "text": [
      "100%|██████████| 500/500 [00:21<00:00, 22.96it/s]\n"
     ]
    },
    {
     "name": "stdout",
     "output_type": "stream",
     "text": [
      "Accuray of <class 'core.models.MLP.MLPClassifier'>: 0.995\n",
      "Accuray of <class 'core.models.RandomForest.m_RandomForestClassifier'>: 0.99\n",
      "Accuray of <class 'core.models.RandomForest.m_RandomForestClassifier'>: 1.0\n",
      "Accuray of <class 'core.models.RandomForest.m_DecisionTreeClassifier'>: 1.0\n",
      "Accuray of <class 'core.models.RandomForest.m_DecisionTreeClassifier'>: 1.0\n",
      "Accuray of <class 'core.models.GAM.m_LogisticRegression'>: 0.9575\n",
      "Accuray of <class 'core.models.SVM.SVMClassifier'>: 0.9575\n",
      "Accuray of <class 'core.models.XGB.XGBOOSTClassifier'>: 0.9575\n",
      "Processing binary join # 6\n",
      "set features: 12\n"
     ]
    },
    {
     "name": "stderr",
     "output_type": "stream",
     "text": [
      "100%|██████████| 500/500 [00:23<00:00, 21.57it/s]\n",
      "  0%|          | 0/500 [00:00<?, ?it/s]"
     ]
    },
    {
     "name": "stdout",
     "output_type": "stream",
     "text": [
      "Accuray of <class 'core.models.MLP.MLPClassifier'>: 1.0\n",
      "Accuray of <class 'core.models.RandomForest.m_RandomForestClassifier'>: 1.0\n",
      "Accuray of <class 'core.models.RandomForest.m_RandomForestClassifier'>: 0.9975\n",
      "Accuray of <class 'core.models.RandomForest.m_DecisionTreeClassifier'>: 1.0\n",
      "Accuray of <class 'core.models.RandomForest.m_DecisionTreeClassifier'>: 1.0\n",
      "Accuray of <class 'core.models.GAM.m_LogisticRegression'>: 0.9925\n",
      "Accuray of <class 'core.models.SVM.SVMClassifier'>: 0.9925\n",
      "Accuray of <class 'core.models.XGB.XGBOOSTClassifier'>: 0.9925\n",
      "Processing binary join # 7\n",
      "set features: 12\n"
     ]
    },
    {
     "name": "stderr",
     "output_type": "stream",
     "text": [
      "100%|██████████| 500/500 [00:22<00:00, 22.11it/s]\n",
      "  0%|          | 0/500 [00:00<?, ?it/s]"
     ]
    },
    {
     "name": "stdout",
     "output_type": "stream",
     "text": [
      "Accuray of <class 'core.models.MLP.MLPClassifier'>: 0.9975\n",
      "Accuray of <class 'core.models.RandomForest.m_RandomForestClassifier'>: 0.9925\n",
      "Accuray of <class 'core.models.RandomForest.m_RandomForestClassifier'>: 0.9975\n",
      "Accuray of <class 'core.models.RandomForest.m_DecisionTreeClassifier'>: 1.0\n",
      "Accuray of <class 'core.models.RandomForest.m_DecisionTreeClassifier'>: 1.0\n",
      "Accuray of <class 'core.models.GAM.m_LogisticRegression'>: 0.9925\n",
      "Accuray of <class 'core.models.SVM.SVMClassifier'>: 0.9925\n",
      "Accuray of <class 'core.models.XGB.XGBOOSTClassifier'>: 0.9925\n",
      "Processing binary join # 8\n",
      "set features: 12\n"
     ]
    },
    {
     "name": "stderr",
     "output_type": "stream",
     "text": [
      "100%|██████████| 500/500 [00:20<00:00, 23.88it/s]\n"
     ]
    },
    {
     "name": "stdout",
     "output_type": "stream",
     "text": [
      "Accuray of <class 'core.models.MLP.MLPClassifier'>: 0.97\n",
      "Accuray of <class 'core.models.RandomForest.m_RandomForestClassifier'>: 0.94\n",
      "Accuray of <class 'core.models.RandomForest.m_RandomForestClassifier'>: 0.9825\n",
      "Accuray of <class 'core.models.RandomForest.m_DecisionTreeClassifier'>: 0.945\n",
      "Accuray of <class 'core.models.RandomForest.m_DecisionTreeClassifier'>: 0.985\n",
      "Accuray of <class 'core.models.GAM.m_LogisticRegression'>: 0.9425\n",
      "Accuray of <class 'core.models.SVM.SVMClassifier'>: 0.875\n"
     ]
    },
    {
     "name": "stderr",
     "output_type": "stream",
     "text": [
      "  1%|          | 4/500 [00:00<00:16, 30.64it/s]"
     ]
    },
    {
     "name": "stdout",
     "output_type": "stream",
     "text": [
      "Accuray of <class 'core.models.XGB.XGBOOSTClassifier'>: 0.97\n",
      "Processing binary join # 9\n",
      "set features: 12\n"
     ]
    },
    {
     "name": "stderr",
     "output_type": "stream",
     "text": [
      "100%|██████████| 500/500 [00:20<00:00, 24.76it/s]\n"
     ]
    },
    {
     "name": "stdout",
     "output_type": "stream",
     "text": [
      "Accuray of <class 'core.models.MLP.MLPClassifier'>: 0.965\n",
      "Accuray of <class 'core.models.RandomForest.m_RandomForestClassifier'>: 0.915\n",
      "Accuray of <class 'core.models.RandomForest.m_RandomForestClassifier'>: 0.965\n",
      "Accuray of <class 'core.models.RandomForest.m_DecisionTreeClassifier'>: 0.925\n",
      "Accuray of <class 'core.models.RandomForest.m_DecisionTreeClassifier'>: 0.995\n",
      "Accuray of <class 'core.models.GAM.m_LogisticRegression'>: 0.9075\n",
      "Accuray of <class 'core.models.SVM.SVMClassifier'>: 0.8825\n"
     ]
    },
    {
     "name": "stderr",
     "output_type": "stream",
     "text": [
      "  0%|          | 2/500 [00:00<00:26, 18.94it/s]"
     ]
    },
    {
     "name": "stdout",
     "output_type": "stream",
     "text": [
      "Accuray of <class 'core.models.XGB.XGBOOSTClassifier'>: 0.945\n",
      "Processing binary join # 10\n",
      "set features: 12\n"
     ]
    },
    {
     "name": "stderr",
     "output_type": "stream",
     "text": [
      "100%|██████████| 500/500 [00:21<00:00, 23.07it/s]\n"
     ]
    },
    {
     "name": "stdout",
     "output_type": "stream",
     "text": [
      "Accuray of <class 'core.models.MLP.MLPClassifier'>: 0.9625\n",
      "Accuray of <class 'core.models.RandomForest.m_RandomForestClassifier'>: 0.94\n",
      "Accuray of <class 'core.models.RandomForest.m_RandomForestClassifier'>: 0.9675\n",
      "Accuray of <class 'core.models.RandomForest.m_DecisionTreeClassifier'>: 0.9475\n",
      "Accuray of <class 'core.models.RandomForest.m_DecisionTreeClassifier'>: 0.98\n",
      "Accuray of <class 'core.models.GAM.m_LogisticRegression'>: 0.935\n",
      "Accuray of <class 'core.models.SVM.SVMClassifier'>: 0.9\n"
     ]
    },
    {
     "name": "stderr",
     "output_type": "stream",
     "text": [
      "  1%|          | 3/500 [00:00<00:19, 26.00it/s]"
     ]
    },
    {
     "name": "stdout",
     "output_type": "stream",
     "text": [
      "Accuray of <class 'core.models.XGB.XGBOOSTClassifier'>: 0.96\n",
      "Processing binary join # 11\n",
      "set features: 12\n"
     ]
    },
    {
     "name": "stderr",
     "output_type": "stream",
     "text": [
      "100%|██████████| 500/500 [00:21<00:00, 23.30it/s]\n"
     ]
    },
    {
     "name": "stdout",
     "output_type": "stream",
     "text": [
      "Accuray of <class 'core.models.MLP.MLPClassifier'>: 0.9725\n",
      "Accuray of <class 'core.models.RandomForest.m_RandomForestClassifier'>: 0.95\n",
      "Accuray of <class 'core.models.RandomForest.m_RandomForestClassifier'>: 0.9875\n",
      "Accuray of <class 'core.models.RandomForest.m_DecisionTreeClassifier'>: 0.9575\n",
      "Accuray of <class 'core.models.RandomForest.m_DecisionTreeClassifier'>: 0.995\n",
      "Accuray of <class 'core.models.GAM.m_LogisticRegression'>: 0.955\n",
      "Accuray of <class 'core.models.SVM.SVMClassifier'>: 0.9375\n"
     ]
    },
    {
     "name": "stderr",
     "output_type": "stream",
     "text": [
      "  1%|          | 3/500 [00:00<00:18, 27.44it/s]"
     ]
    },
    {
     "name": "stdout",
     "output_type": "stream",
     "text": [
      "Accuray of <class 'core.models.XGB.XGBOOSTClassifier'>: 0.9775\n",
      "Processing binary join # 12\n",
      "set features: 12\n"
     ]
    },
    {
     "name": "stderr",
     "output_type": "stream",
     "text": [
      "100%|██████████| 500/500 [00:20<00:00, 24.52it/s]\n"
     ]
    },
    {
     "name": "stdout",
     "output_type": "stream",
     "text": [
      "Accuray of <class 'core.models.MLP.MLPClassifier'>: 0.975\n",
      "Accuray of <class 'core.models.RandomForest.m_RandomForestClassifier'>: 0.9475\n",
      "Accuray of <class 'core.models.RandomForest.m_RandomForestClassifier'>: 0.9725\n",
      "Accuray of <class 'core.models.RandomForest.m_DecisionTreeClassifier'>: 0.9425\n",
      "Accuray of <class 'core.models.RandomForest.m_DecisionTreeClassifier'>: 0.995\n",
      "Accuray of <class 'core.models.GAM.m_LogisticRegression'>: 0.9575\n",
      "Accuray of <class 'core.models.SVM.SVMClassifier'>: 0.935\n"
     ]
    },
    {
     "name": "stderr",
     "output_type": "stream",
     "text": [
      "  1%|          | 3/500 [00:00<00:17, 28.45it/s]"
     ]
    },
    {
     "name": "stdout",
     "output_type": "stream",
     "text": [
      "Accuray of <class 'core.models.XGB.XGBOOSTClassifier'>: 0.965\n",
      "Processing binary join # 13\n",
      "set features: 12\n"
     ]
    },
    {
     "name": "stderr",
     "output_type": "stream",
     "text": [
      "100%|██████████| 500/500 [00:28<00:00, 17.62it/s]\n",
      "  0%|          | 0/500 [00:00<?, ?it/s]"
     ]
    },
    {
     "name": "stdout",
     "output_type": "stream",
     "text": [
      "Accuray of <class 'core.models.MLP.MLPClassifier'>: 1.0\n",
      "Accuray of <class 'core.models.RandomForest.m_RandomForestClassifier'>: 1.0\n",
      "Accuray of <class 'core.models.RandomForest.m_RandomForestClassifier'>: 1.0\n",
      "Accuray of <class 'core.models.RandomForest.m_DecisionTreeClassifier'>: 1.0\n",
      "Accuray of <class 'core.models.RandomForest.m_DecisionTreeClassifier'>: 1.0\n",
      "Accuray of <class 'core.models.GAM.m_LogisticRegression'>: 1.0\n",
      "Accuray of <class 'core.models.SVM.SVMClassifier'>: 1.0\n",
      "Accuray of <class 'core.models.XGB.XGBOOSTClassifier'>: 1.0\n",
      "Processing binary join # 14\n",
      "set features: 12\n"
     ]
    },
    {
     "name": "stderr",
     "output_type": "stream",
     "text": [
      "100%|██████████| 500/500 [00:27<00:00, 18.14it/s]\n",
      "  0%|          | 0/500 [00:00<?, ?it/s]"
     ]
    },
    {
     "name": "stdout",
     "output_type": "stream",
     "text": [
      "Accuray of <class 'core.models.MLP.MLPClassifier'>: 1.0\n",
      "Accuray of <class 'core.models.RandomForest.m_RandomForestClassifier'>: 1.0\n",
      "Accuray of <class 'core.models.RandomForest.m_RandomForestClassifier'>: 1.0\n",
      "Accuray of <class 'core.models.RandomForest.m_DecisionTreeClassifier'>: 1.0\n",
      "Accuray of <class 'core.models.RandomForest.m_DecisionTreeClassifier'>: 1.0\n",
      "Accuray of <class 'core.models.GAM.m_LogisticRegression'>: 1.0\n",
      "Accuray of <class 'core.models.SVM.SVMClassifier'>: 1.0\n",
      "Accuray of <class 'core.models.XGB.XGBOOSTClassifier'>: 1.0\n",
      "Processing binary join # 15\n",
      "set features: 12\n"
     ]
    },
    {
     "name": "stderr",
     "output_type": "stream",
     "text": [
      "100%|██████████| 500/500 [00:21<00:00, 23.00it/s]\n",
      "  0%|          | 0/500 [00:00<?, ?it/s]"
     ]
    },
    {
     "name": "stdout",
     "output_type": "stream",
     "text": [
      "Accuray of <class 'core.models.MLP.MLPClassifier'>: 0.95\n",
      "Accuray of <class 'core.models.RandomForest.m_RandomForestClassifier'>: 0.9975\n",
      "Accuray of <class 'core.models.RandomForest.m_RandomForestClassifier'>: 0.99\n",
      "Accuray of <class 'core.models.RandomForest.m_DecisionTreeClassifier'>: 1.0\n",
      "Accuray of <class 'core.models.RandomForest.m_DecisionTreeClassifier'>: 1.0\n",
      "Accuray of <class 'core.models.GAM.m_LogisticRegression'>: 0.9575\n",
      "Accuray of <class 'core.models.SVM.SVMClassifier'>: 0.9575\n",
      "Accuray of <class 'core.models.XGB.XGBOOSTClassifier'>: 0.9575\n",
      "Processing binary join # 16\n",
      "set features: 12\n"
     ]
    },
    {
     "name": "stderr",
     "output_type": "stream",
     "text": [
      "100%|██████████| 500/500 [00:21<00:00, 23.10it/s]\n"
     ]
    },
    {
     "name": "stdout",
     "output_type": "stream",
     "text": [
      "Accuray of <class 'core.models.MLP.MLPClassifier'>: 0.985\n",
      "Accuray of <class 'core.models.RandomForest.m_RandomForestClassifier'>: 0.965\n",
      "Accuray of <class 'core.models.RandomForest.m_RandomForestClassifier'>: 0.995\n",
      "Accuray of <class 'core.models.RandomForest.m_DecisionTreeClassifier'>: 0.995\n",
      "Accuray of <class 'core.models.RandomForest.m_DecisionTreeClassifier'>: 1.0\n",
      "Accuray of <class 'core.models.GAM.m_LogisticRegression'>: 0.935\n",
      "Accuray of <class 'core.models.SVM.SVMClassifier'>: 0.92\n"
     ]
    },
    {
     "name": "stderr",
     "output_type": "stream",
     "text": [
      "  1%|          | 3/500 [00:00<00:22, 21.64it/s]"
     ]
    },
    {
     "name": "stdout",
     "output_type": "stream",
     "text": [
      "Accuray of <class 'core.models.XGB.XGBOOSTClassifier'>: 0.9775\n",
      "Processing binary join # 17\n",
      "set features: 12\n"
     ]
    },
    {
     "name": "stderr",
     "output_type": "stream",
     "text": [
      "100%|██████████| 500/500 [00:21<00:00, 22.95it/s]\n"
     ]
    },
    {
     "name": "stdout",
     "output_type": "stream",
     "text": [
      "Accuray of <class 'core.models.MLP.MLPClassifier'>: 0.985\n",
      "Accuray of <class 'core.models.RandomForest.m_RandomForestClassifier'>: 0.95\n",
      "Accuray of <class 'core.models.RandomForest.m_RandomForestClassifier'>: 0.9975\n",
      "Accuray of <class 'core.models.RandomForest.m_DecisionTreeClassifier'>: 0.995\n",
      "Accuray of <class 'core.models.RandomForest.m_DecisionTreeClassifier'>: 1.0\n",
      "Accuray of <class 'core.models.GAM.m_LogisticRegression'>: 0.935\n",
      "Accuray of <class 'core.models.SVM.SVMClassifier'>: 0.9225\n"
     ]
    },
    {
     "name": "stderr",
     "output_type": "stream",
     "text": [
      "  1%|          | 3/500 [00:00<00:21, 23.46it/s]"
     ]
    },
    {
     "name": "stdout",
     "output_type": "stream",
     "text": [
      "Accuray of <class 'core.models.XGB.XGBOOSTClassifier'>: 0.9775\n",
      "Processing binary join # 18\n",
      "set features: 12\n"
     ]
    },
    {
     "name": "stderr",
     "output_type": "stream",
     "text": [
      "100%|██████████| 500/500 [00:27<00:00, 17.88it/s]\n",
      "  0%|          | 0/500 [00:00<?, ?it/s]"
     ]
    },
    {
     "name": "stdout",
     "output_type": "stream",
     "text": [
      "Accuray of <class 'core.models.MLP.MLPClassifier'>: 1.0\n",
      "Accuray of <class 'core.models.RandomForest.m_RandomForestClassifier'>: 1.0\n",
      "Accuray of <class 'core.models.RandomForest.m_RandomForestClassifier'>: 1.0\n",
      "Accuray of <class 'core.models.RandomForest.m_DecisionTreeClassifier'>: 1.0\n",
      "Accuray of <class 'core.models.RandomForest.m_DecisionTreeClassifier'>: 1.0\n",
      "Accuray of <class 'core.models.GAM.m_LogisticRegression'>: 1.0\n",
      "Accuray of <class 'core.models.SVM.SVMClassifier'>: 1.0\n",
      "Accuray of <class 'core.models.XGB.XGBOOSTClassifier'>: 1.0\n",
      "Processing binary join # 19\n",
      "set features: 12\n"
     ]
    },
    {
     "name": "stderr",
     "output_type": "stream",
     "text": [
      "100%|██████████| 500/500 [00:22<00:00, 22.33it/s]\n"
     ]
    },
    {
     "name": "stdout",
     "output_type": "stream",
     "text": [
      "Accuray of <class 'core.models.MLP.MLPClassifier'>: 1.0\n",
      "Accuray of <class 'core.models.RandomForest.m_RandomForestClassifier'>: 0.9725\n",
      "Accuray of <class 'core.models.RandomForest.m_RandomForestClassifier'>: 0.99\n",
      "Accuray of <class 'core.models.RandomForest.m_DecisionTreeClassifier'>: 0.9925\n",
      "Accuray of <class 'core.models.RandomForest.m_DecisionTreeClassifier'>: 1.0\n",
      "Accuray of <class 'core.models.GAM.m_LogisticRegression'>: 0.97\n",
      "Accuray of <class 'core.models.SVM.SVMClassifier'>: 0.9375\n"
     ]
    },
    {
     "name": "stderr",
     "output_type": "stream",
     "text": [
      "  1%|          | 4/500 [00:00<00:16, 30.47it/s]"
     ]
    },
    {
     "name": "stdout",
     "output_type": "stream",
     "text": [
      "Accuray of <class 'core.models.XGB.XGBOOSTClassifier'>: 0.97\n",
      "Processing binary join # 20\n",
      "set features: 12\n"
     ]
    },
    {
     "name": "stderr",
     "output_type": "stream",
     "text": [
      "100%|██████████| 500/500 [00:20<00:00, 24.22it/s]\n",
      "  0%|          | 0/500 [00:00<?, ?it/s]"
     ]
    },
    {
     "name": "stdout",
     "output_type": "stream",
     "text": [
      "Accuray of <class 'core.models.MLP.MLPClassifier'>: 0.98\n",
      "Accuray of <class 'core.models.RandomForest.m_RandomForestClassifier'>: 1.0\n",
      "Accuray of <class 'core.models.RandomForest.m_RandomForestClassifier'>: 1.0\n",
      "Accuray of <class 'core.models.RandomForest.m_DecisionTreeClassifier'>: 1.0\n",
      "Accuray of <class 'core.models.RandomForest.m_DecisionTreeClassifier'>: 1.0\n",
      "Accuray of <class 'core.models.GAM.m_LogisticRegression'>: 0.9425\n",
      "Accuray of <class 'core.models.SVM.SVMClassifier'>: 0.9425\n",
      "Accuray of <class 'core.models.XGB.XGBOOSTClassifier'>: 0.9925\n",
      "Processing binary join # 21\n",
      "set features: 12\n"
     ]
    },
    {
     "name": "stderr",
     "output_type": "stream",
     "text": [
      "100%|██████████| 500/500 [00:20<00:00, 24.24it/s]\n"
     ]
    },
    {
     "name": "stdout",
     "output_type": "stream",
     "text": [
      "Accuray of <class 'core.models.MLP.MLPClassifier'>: 1.0\n",
      "Accuray of <class 'core.models.RandomForest.m_RandomForestClassifier'>: 0.97\n",
      "Accuray of <class 'core.models.RandomForest.m_RandomForestClassifier'>: 0.9825\n",
      "Accuray of <class 'core.models.RandomForest.m_DecisionTreeClassifier'>: 0.995\n",
      "Accuray of <class 'core.models.RandomForest.m_DecisionTreeClassifier'>: 1.0\n",
      "Accuray of <class 'core.models.GAM.m_LogisticRegression'>: 0.97\n",
      "Accuray of <class 'core.models.SVM.SVMClassifier'>: 0.9425\n"
     ]
    },
    {
     "name": "stderr",
     "output_type": "stream",
     "text": [
      "\r",
      "  0%|          | 0/500 [00:00<?, ?it/s]"
     ]
    },
    {
     "name": "stdout",
     "output_type": "stream",
     "text": [
      "Accuray of <class 'core.models.XGB.XGBOOSTClassifier'>: 0.9525\n",
      "Processing binary join # 22\n",
      "set features: 12\n"
     ]
    },
    {
     "name": "stderr",
     "output_type": "stream",
     "text": [
      "100%|██████████| 500/500 [00:32<00:00, 15.52it/s]\n",
      "  0%|          | 0/500 [00:00<?, ?it/s]"
     ]
    },
    {
     "name": "stdout",
     "output_type": "stream",
     "text": [
      "Accuray of <class 'core.models.MLP.MLPClassifier'>: 1.0\n",
      "Accuray of <class 'core.models.RandomForest.m_RandomForestClassifier'>: 1.0\n",
      "Accuray of <class 'core.models.RandomForest.m_RandomForestClassifier'>: 1.0\n",
      "Accuray of <class 'core.models.RandomForest.m_DecisionTreeClassifier'>: 1.0\n",
      "Accuray of <class 'core.models.RandomForest.m_DecisionTreeClassifier'>: 1.0\n",
      "Accuray of <class 'core.models.GAM.m_LogisticRegression'>: 1.0\n",
      "Accuray of <class 'core.models.SVM.SVMClassifier'>: 1.0\n",
      "Accuray of <class 'core.models.XGB.XGBOOSTClassifier'>: 1.0\n",
      "Processing binary join # 23\n",
      "set features: 12\n"
     ]
    },
    {
     "name": "stderr",
     "output_type": "stream",
     "text": [
      "100%|██████████| 500/500 [00:22<00:00, 22.58it/s]\n"
     ]
    },
    {
     "name": "stdout",
     "output_type": "stream",
     "text": [
      "Accuray of <class 'core.models.MLP.MLPClassifier'>: 0.98\n",
      "Accuray of <class 'core.models.RandomForest.m_RandomForestClassifier'>: 0.9575\n",
      "Accuray of <class 'core.models.RandomForest.m_RandomForestClassifier'>: 0.9725\n",
      "Accuray of <class 'core.models.RandomForest.m_DecisionTreeClassifier'>: 0.965\n",
      "Accuray of <class 'core.models.RandomForest.m_DecisionTreeClassifier'>: 0.99\n",
      "Accuray of <class 'core.models.GAM.m_LogisticRegression'>: 0.92\n",
      "Accuray of <class 'core.models.SVM.SVMClassifier'>: 0.8975\n"
     ]
    },
    {
     "name": "stderr",
     "output_type": "stream",
     "text": [
      "  1%|          | 3/500 [00:00<00:17, 28.75it/s]"
     ]
    },
    {
     "name": "stdout",
     "output_type": "stream",
     "text": [
      "Accuray of <class 'core.models.XGB.XGBOOSTClassifier'>: 0.9625\n",
      "Processing binary join # 24\n",
      "set features: 12\n"
     ]
    },
    {
     "name": "stderr",
     "output_type": "stream",
     "text": [
      "100%|██████████| 500/500 [00:20<00:00, 23.88it/s]\n"
     ]
    },
    {
     "name": "stdout",
     "output_type": "stream",
     "text": [
      "Accuray of <class 'core.models.MLP.MLPClassifier'>: 0.985\n",
      "Accuray of <class 'core.models.RandomForest.m_RandomForestClassifier'>: 0.8775\n",
      "Accuray of <class 'core.models.RandomForest.m_RandomForestClassifier'>: 0.935\n",
      "Accuray of <class 'core.models.RandomForest.m_DecisionTreeClassifier'>: 0.895\n",
      "Accuray of <class 'core.models.RandomForest.m_DecisionTreeClassifier'>: 0.975\n",
      "Accuray of <class 'core.models.GAM.m_LogisticRegression'>: 0.9175\n",
      "Accuray of <class 'core.models.SVM.SVMClassifier'>: 0.82\n"
     ]
    },
    {
     "name": "stderr",
     "output_type": "stream",
     "text": [
      "  1%|          | 3/500 [00:00<00:19, 25.16it/s]"
     ]
    },
    {
     "name": "stdout",
     "output_type": "stream",
     "text": [
      "Accuray of <class 'core.models.XGB.XGBOOSTClassifier'>: 0.9375\n",
      "Processing binary join # 25\n",
      "set features: 12\n"
     ]
    },
    {
     "name": "stderr",
     "output_type": "stream",
     "text": [
      "100%|██████████| 500/500 [00:21<00:00, 23.36it/s]\n"
     ]
    },
    {
     "name": "stdout",
     "output_type": "stream",
     "text": [
      "Accuray of <class 'core.models.MLP.MLPClassifier'>: 0.975\n",
      "Accuray of <class 'core.models.RandomForest.m_RandomForestClassifier'>: 0.98\n",
      "Accuray of <class 'core.models.RandomForest.m_RandomForestClassifier'>: 0.98\n",
      "Accuray of <class 'core.models.RandomForest.m_DecisionTreeClassifier'>: 0.975\n",
      "Accuray of <class 'core.models.RandomForest.m_DecisionTreeClassifier'>: 1.0\n",
      "Accuray of <class 'core.models.GAM.m_LogisticRegression'>: 0.9625\n",
      "Accuray of <class 'core.models.SVM.SVMClassifier'>: 0.96\n"
     ]
    },
    {
     "name": "stderr",
     "output_type": "stream",
     "text": [
      "  1%|          | 3/500 [00:00<00:21, 22.88it/s]"
     ]
    },
    {
     "name": "stdout",
     "output_type": "stream",
     "text": [
      "Accuray of <class 'core.models.XGB.XGBOOSTClassifier'>: 0.9775\n",
      "Processing binary join # 26\n",
      "set features: 12\n"
     ]
    },
    {
     "name": "stderr",
     "output_type": "stream",
     "text": [
      "100%|██████████| 500/500 [00:21<00:00, 23.77it/s]\n"
     ]
    },
    {
     "name": "stdout",
     "output_type": "stream",
     "text": [
      "Accuray of <class 'core.models.MLP.MLPClassifier'>: 0.975\n",
      "Accuray of <class 'core.models.RandomForest.m_RandomForestClassifier'>: 0.9725\n",
      "Accuray of <class 'core.models.RandomForest.m_RandomForestClassifier'>: 0.9825\n",
      "Accuray of <class 'core.models.RandomForest.m_DecisionTreeClassifier'>: 0.975\n",
      "Accuray of <class 'core.models.RandomForest.m_DecisionTreeClassifier'>: 1.0\n",
      "Accuray of <class 'core.models.GAM.m_LogisticRegression'>: 0.95\n",
      "Accuray of <class 'core.models.SVM.SVMClassifier'>: 0.91\n"
     ]
    },
    {
     "name": "stderr",
     "output_type": "stream",
     "text": [
      "  1%|          | 3/500 [00:00<00:19, 25.72it/s]"
     ]
    },
    {
     "name": "stdout",
     "output_type": "stream",
     "text": [
      "Accuray of <class 'core.models.XGB.XGBOOSTClassifier'>: 0.975\n",
      "Processing binary join # 27\n",
      "set features: 12\n"
     ]
    },
    {
     "name": "stderr",
     "output_type": "stream",
     "text": [
      "100%|██████████| 500/500 [00:21<00:00, 23.63it/s]\n"
     ]
    },
    {
     "name": "stdout",
     "output_type": "stream",
     "text": [
      "Accuray of <class 'core.models.MLP.MLPClassifier'>: 0.9825\n",
      "Accuray of <class 'core.models.RandomForest.m_RandomForestClassifier'>: 0.9775\n",
      "Accuray of <class 'core.models.RandomForest.m_RandomForestClassifier'>: 0.99\n",
      "Accuray of <class 'core.models.RandomForest.m_DecisionTreeClassifier'>: 0.985\n",
      "Accuray of <class 'core.models.RandomForest.m_DecisionTreeClassifier'>: 1.0\n",
      "Accuray of <class 'core.models.GAM.m_LogisticRegression'>: 0.945\n",
      "Accuray of <class 'core.models.SVM.SVMClassifier'>: 0.9225\n"
     ]
    },
    {
     "name": "stderr",
     "output_type": "stream",
     "text": [
      "  1%|          | 4/500 [00:00<00:16, 29.66it/s]"
     ]
    },
    {
     "name": "stdout",
     "output_type": "stream",
     "text": [
      "Accuray of <class 'core.models.XGB.XGBOOSTClassifier'>: 0.9825\n",
      "Processing binary join # 28\n",
      "set features: 12\n"
     ]
    },
    {
     "name": "stderr",
     "output_type": "stream",
     "text": [
      "100%|██████████| 500/500 [00:21<00:00, 23.06it/s]\n"
     ]
    },
    {
     "name": "stdout",
     "output_type": "stream",
     "text": [
      "Accuray of <class 'core.models.MLP.MLPClassifier'>: 0.9825\n",
      "Accuray of <class 'core.models.RandomForest.m_RandomForestClassifier'>: 0.965\n",
      "Accuray of <class 'core.models.RandomForest.m_RandomForestClassifier'>: 0.97\n",
      "Accuray of <class 'core.models.RandomForest.m_DecisionTreeClassifier'>: 0.9725\n",
      "Accuray of <class 'core.models.RandomForest.m_DecisionTreeClassifier'>: 1.0\n",
      "Accuray of <class 'core.models.GAM.m_LogisticRegression'>: 0.9425\n",
      "Accuray of <class 'core.models.SVM.SVMClassifier'>: 0.9625\n"
     ]
    },
    {
     "name": "stderr",
     "output_type": "stream",
     "text": [
      "  1%|          | 3/500 [00:00<00:19, 25.61it/s]"
     ]
    },
    {
     "name": "stdout",
     "output_type": "stream",
     "text": [
      "Accuray of <class 'core.models.XGB.XGBOOSTClassifier'>: 0.95\n",
      "Processing binary join # 29\n",
      "set features: 12\n"
     ]
    },
    {
     "name": "stderr",
     "output_type": "stream",
     "text": [
      "100%|██████████| 500/500 [00:23<00:00, 21.05it/s]\n"
     ]
    },
    {
     "name": "stdout",
     "output_type": "stream",
     "text": [
      "Accuray of <class 'core.models.MLP.MLPClassifier'>: 0.9975\n",
      "Accuray of <class 'core.models.RandomForest.m_RandomForestClassifier'>: 0.985\n",
      "Accuray of <class 'core.models.RandomForest.m_RandomForestClassifier'>: 0.9975\n",
      "Accuray of <class 'core.models.RandomForest.m_DecisionTreeClassifier'>: 0.98\n",
      "Accuray of <class 'core.models.RandomForest.m_DecisionTreeClassifier'>: 0.9875\n",
      "Accuray of <class 'core.models.GAM.m_LogisticRegression'>: 0.99\n",
      "Accuray of <class 'core.models.SVM.SVMClassifier'>: 0.9475\n"
     ]
    },
    {
     "name": "stderr",
     "output_type": "stream",
     "text": [
      "  1%|          | 3/500 [00:00<00:20, 24.67it/s]"
     ]
    },
    {
     "name": "stdout",
     "output_type": "stream",
     "text": [
      "Accuray of <class 'core.models.XGB.XGBOOSTClassifier'>: 0.98\n",
      "Processing binary join # 30\n",
      "set features: 12\n"
     ]
    },
    {
     "name": "stderr",
     "output_type": "stream",
     "text": [
      "100%|██████████| 500/500 [00:22<00:00, 22.21it/s]\n"
     ]
    },
    {
     "name": "stdout",
     "output_type": "stream",
     "text": [
      "Accuray of <class 'core.models.MLP.MLPClassifier'>: 0.9975\n",
      "Accuray of <class 'core.models.RandomForest.m_RandomForestClassifier'>: 1.0\n",
      "Accuray of <class 'core.models.RandomForest.m_RandomForestClassifier'>: 1.0\n",
      "Accuray of <class 'core.models.RandomForest.m_DecisionTreeClassifier'>: 1.0\n",
      "Accuray of <class 'core.models.RandomForest.m_DecisionTreeClassifier'>: 1.0\n",
      "Accuray of <class 'core.models.GAM.m_LogisticRegression'>: 0.945\n",
      "Accuray of <class 'core.models.SVM.SVMClassifier'>: 0.945\n",
      "Accuray of <class 'core.models.XGB.XGBOOSTClassifier'>: 0.945\n",
      "Processing binary join # 31\n"
     ]
    },
    {
     "name": "stderr",
     "output_type": "stream",
     "text": [
      "\r",
      "  0%|          | 0/500 [00:00<?, ?it/s]"
     ]
    },
    {
     "name": "stdout",
     "output_type": "stream",
     "text": [
      "set features: 12\n"
     ]
    },
    {
     "name": "stderr",
     "output_type": "stream",
     "text": [
      "100%|██████████| 500/500 [00:21<00:00, 23.76it/s]\n"
     ]
    },
    {
     "name": "stdout",
     "output_type": "stream",
     "text": [
      "Accuray of <class 'core.models.MLP.MLPClassifier'>: 0.9775\n",
      "Accuray of <class 'core.models.RandomForest.m_RandomForestClassifier'>: 0.96\n",
      "Accuray of <class 'core.models.RandomForest.m_RandomForestClassifier'>: 0.9875\n",
      "Accuray of <class 'core.models.RandomForest.m_DecisionTreeClassifier'>: 0.9725\n",
      "Accuray of <class 'core.models.RandomForest.m_DecisionTreeClassifier'>: 0.99\n",
      "Accuray of <class 'core.models.GAM.m_LogisticRegression'>: 0.9425\n",
      "Accuray of <class 'core.models.SVM.SVMClassifier'>: 0.925\n"
     ]
    },
    {
     "name": "stderr",
     "output_type": "stream",
     "text": [
      "  1%|          | 3/500 [00:00<00:18, 26.51it/s]"
     ]
    },
    {
     "name": "stdout",
     "output_type": "stream",
     "text": [
      "Accuray of <class 'core.models.XGB.XGBOOSTClassifier'>: 0.975\n",
      "Processing binary join # 32\n",
      "set features: 12\n"
     ]
    },
    {
     "name": "stderr",
     "output_type": "stream",
     "text": [
      "100%|██████████| 500/500 [00:20<00:00, 24.40it/s]\n"
     ]
    },
    {
     "name": "stdout",
     "output_type": "stream",
     "text": [
      "Accuray of <class 'core.models.MLP.MLPClassifier'>: 0.98\n",
      "Accuray of <class 'core.models.RandomForest.m_RandomForestClassifier'>: 0.9125\n",
      "Accuray of <class 'core.models.RandomForest.m_RandomForestClassifier'>: 0.9825\n",
      "Accuray of <class 'core.models.RandomForest.m_DecisionTreeClassifier'>: 0.9675\n",
      "Accuray of <class 'core.models.RandomForest.m_DecisionTreeClassifier'>: 0.9825\n",
      "Accuray of <class 'core.models.GAM.m_LogisticRegression'>: 0.9625\n",
      "Accuray of <class 'core.models.SVM.SVMClassifier'>: 0.9225\n"
     ]
    },
    {
     "name": "stderr",
     "output_type": "stream",
     "text": [
      "  1%|          | 3/500 [00:00<00:22, 22.36it/s]"
     ]
    },
    {
     "name": "stdout",
     "output_type": "stream",
     "text": [
      "Accuray of <class 'core.models.XGB.XGBOOSTClassifier'>: 0.9575\n",
      "Processing binary join # 33\n",
      "set features: 12\n"
     ]
    },
    {
     "name": "stderr",
     "output_type": "stream",
     "text": [
      "100%|██████████| 500/500 [00:27<00:00, 18.42it/s]\n",
      "  0%|          | 0/500 [00:00<?, ?it/s]"
     ]
    },
    {
     "name": "stdout",
     "output_type": "stream",
     "text": [
      "Accuray of <class 'core.models.MLP.MLPClassifier'>: 1.0\n",
      "Accuray of <class 'core.models.RandomForest.m_RandomForestClassifier'>: 1.0\n",
      "Accuray of <class 'core.models.RandomForest.m_RandomForestClassifier'>: 1.0\n",
      "Accuray of <class 'core.models.RandomForest.m_DecisionTreeClassifier'>: 1.0\n",
      "Accuray of <class 'core.models.RandomForest.m_DecisionTreeClassifier'>: 1.0\n",
      "Accuray of <class 'core.models.GAM.m_LogisticRegression'>: 1.0\n",
      "Accuray of <class 'core.models.SVM.SVMClassifier'>: 1.0\n",
      "Accuray of <class 'core.models.XGB.XGBOOSTClassifier'>: 1.0\n",
      "Processing binary join # 34\n",
      "set features: 12\n"
     ]
    },
    {
     "name": "stderr",
     "output_type": "stream",
     "text": [
      "100%|██████████| 500/500 [00:21<00:00, 22.79it/s]\n"
     ]
    },
    {
     "name": "stdout",
     "output_type": "stream",
     "text": [
      "Accuray of <class 'core.models.MLP.MLPClassifier'>: 0.995\n",
      "Accuray of <class 'core.models.RandomForest.m_RandomForestClassifier'>: 0.995\n",
      "Accuray of <class 'core.models.RandomForest.m_RandomForestClassifier'>: 0.9925\n",
      "Accuray of <class 'core.models.RandomForest.m_DecisionTreeClassifier'>: 0.9975\n",
      "Accuray of <class 'core.models.RandomForest.m_DecisionTreeClassifier'>: 1.0\n",
      "Accuray of <class 'core.models.GAM.m_LogisticRegression'>: 0.9575\n",
      "Accuray of <class 'core.models.SVM.SVMClassifier'>: 0.965\n"
     ]
    },
    {
     "name": "stderr",
     "output_type": "stream",
     "text": [
      "  1%|          | 3/500 [00:00<00:17, 28.90it/s]"
     ]
    },
    {
     "name": "stdout",
     "output_type": "stream",
     "text": [
      "Accuray of <class 'core.models.XGB.XGBOOSTClassifier'>: 0.975\n",
      "Processing binary join # 35\n",
      "set features: 12\n"
     ]
    },
    {
     "name": "stderr",
     "output_type": "stream",
     "text": [
      "100%|██████████| 500/500 [00:20<00:00, 24.38it/s]\n"
     ]
    },
    {
     "name": "stdout",
     "output_type": "stream",
     "text": [
      "Accuray of <class 'core.models.MLP.MLPClassifier'>: 1.0\n",
      "Accuray of <class 'core.models.RandomForest.m_RandomForestClassifier'>: 0.98\n",
      "Accuray of <class 'core.models.RandomForest.m_RandomForestClassifier'>: 0.99\n",
      "Accuray of <class 'core.models.RandomForest.m_DecisionTreeClassifier'>: 0.9925\n",
      "Accuray of <class 'core.models.RandomForest.m_DecisionTreeClassifier'>: 1.0\n",
      "Accuray of <class 'core.models.GAM.m_LogisticRegression'>: 0.9925\n",
      "Accuray of <class 'core.models.SVM.SVMClassifier'>: 0.96\n"
     ]
    },
    {
     "name": "stderr",
     "output_type": "stream",
     "text": [
      "  1%|          | 4/500 [00:00<00:15, 31.30it/s]"
     ]
    },
    {
     "name": "stdout",
     "output_type": "stream",
     "text": [
      "Accuray of <class 'core.models.XGB.XGBOOSTClassifier'>: 0.98\n",
      "Processing binary join # 36\n",
      "set features: 12\n"
     ]
    },
    {
     "name": "stderr",
     "output_type": "stream",
     "text": [
      "100%|██████████| 500/500 [00:23<00:00, 21.50it/s]\n"
     ]
    },
    {
     "name": "stdout",
     "output_type": "stream",
     "text": [
      "Accuray of <class 'core.models.MLP.MLPClassifier'>: 0.995\n",
      "Accuray of <class 'core.models.RandomForest.m_RandomForestClassifier'>: 0.9825\n",
      "Accuray of <class 'core.models.RandomForest.m_RandomForestClassifier'>: 0.995\n",
      "Accuray of <class 'core.models.RandomForest.m_DecisionTreeClassifier'>: 0.99\n",
      "Accuray of <class 'core.models.RandomForest.m_DecisionTreeClassifier'>: 1.0\n",
      "Accuray of <class 'core.models.GAM.m_LogisticRegression'>: 0.9775\n",
      "Accuray of <class 'core.models.SVM.SVMClassifier'>: 0.9675\n"
     ]
    },
    {
     "name": "stderr",
     "output_type": "stream",
     "text": [
      "  1%|          | 3/500 [00:00<00:21, 23.02it/s]"
     ]
    },
    {
     "name": "stdout",
     "output_type": "stream",
     "text": [
      "Accuray of <class 'core.models.XGB.XGBOOSTClassifier'>: 0.9675\n",
      "Processing binary join # 37\n",
      "set features: 12\n"
     ]
    },
    {
     "name": "stderr",
     "output_type": "stream",
     "text": [
      "100%|██████████| 500/500 [00:31<00:00, 15.84it/s]\n",
      "  0%|          | 0/500 [00:00<?, ?it/s]"
     ]
    },
    {
     "name": "stdout",
     "output_type": "stream",
     "text": [
      "Accuray of <class 'core.models.MLP.MLPClassifier'>: 1.0\n",
      "Accuray of <class 'core.models.RandomForest.m_RandomForestClassifier'>: 1.0\n",
      "Accuray of <class 'core.models.RandomForest.m_RandomForestClassifier'>: 1.0\n",
      "Accuray of <class 'core.models.RandomForest.m_DecisionTreeClassifier'>: 1.0\n",
      "Accuray of <class 'core.models.RandomForest.m_DecisionTreeClassifier'>: 1.0\n",
      "Accuray of <class 'core.models.GAM.m_LogisticRegression'>: 1.0\n",
      "Accuray of <class 'core.models.SVM.SVMClassifier'>: 1.0\n",
      "Accuray of <class 'core.models.XGB.XGBOOSTClassifier'>: 1.0\n",
      "Processing binary join # 38\n",
      "set features: 12\n"
     ]
    },
    {
     "name": "stderr",
     "output_type": "stream",
     "text": [
      "100%|██████████| 500/500 [00:21<00:00, 23.34it/s]\n"
     ]
    },
    {
     "name": "stdout",
     "output_type": "stream",
     "text": [
      "Accuray of <class 'core.models.MLP.MLPClassifier'>: 0.9675\n",
      "Accuray of <class 'core.models.RandomForest.m_RandomForestClassifier'>: 0.9325\n",
      "Accuray of <class 'core.models.RandomForest.m_RandomForestClassifier'>: 0.955\n",
      "Accuray of <class 'core.models.RandomForest.m_DecisionTreeClassifier'>: 0.94\n",
      "Accuray of <class 'core.models.RandomForest.m_DecisionTreeClassifier'>: 0.9875\n",
      "Accuray of <class 'core.models.GAM.m_LogisticRegression'>: 0.935\n",
      "Accuray of <class 'core.models.SVM.SVMClassifier'>: 0.9125\n"
     ]
    },
    {
     "name": "stderr",
     "output_type": "stream",
     "text": [
      "  1%|          | 3/500 [00:00<00:17, 28.66it/s]"
     ]
    },
    {
     "name": "stdout",
     "output_type": "stream",
     "text": [
      "Accuray of <class 'core.models.XGB.XGBOOSTClassifier'>: 0.945\n",
      "Processing binary join # 39\n",
      "set features: 12\n"
     ]
    },
    {
     "name": "stderr",
     "output_type": "stream",
     "text": [
      "100%|██████████| 500/500 [00:19<00:00, 25.20it/s]\n"
     ]
    },
    {
     "name": "stdout",
     "output_type": "stream",
     "text": [
      "Accuray of <class 'core.models.MLP.MLPClassifier'>: 0.995\n",
      "Accuray of <class 'core.models.RandomForest.m_RandomForestClassifier'>: 0.945\n",
      "Accuray of <class 'core.models.RandomForest.m_RandomForestClassifier'>: 0.995\n",
      "Accuray of <class 'core.models.RandomForest.m_DecisionTreeClassifier'>: 0.9725\n",
      "Accuray of <class 'core.models.RandomForest.m_DecisionTreeClassifier'>: 0.995\n",
      "Accuray of <class 'core.models.GAM.m_LogisticRegression'>: 0.925\n",
      "Accuray of <class 'core.models.SVM.SVMClassifier'>: 0.8975\n"
     ]
    },
    {
     "name": "stderr",
     "output_type": "stream",
     "text": [
      "  1%|          | 3/500 [00:00<00:22, 21.78it/s]"
     ]
    },
    {
     "name": "stdout",
     "output_type": "stream",
     "text": [
      "Accuray of <class 'core.models.XGB.XGBOOSTClassifier'>: 0.98\n",
      "Processing binary join # 40\n",
      "set features: 12\n"
     ]
    },
    {
     "name": "stderr",
     "output_type": "stream",
     "text": [
      "100%|██████████| 500/500 [00:20<00:00, 23.95it/s]\n"
     ]
    },
    {
     "name": "stdout",
     "output_type": "stream",
     "text": [
      "Accuray of <class 'core.models.MLP.MLPClassifier'>: 0.9875\n",
      "Accuray of <class 'core.models.RandomForest.m_RandomForestClassifier'>: 0.9625\n",
      "Accuray of <class 'core.models.RandomForest.m_RandomForestClassifier'>: 0.9925\n",
      "Accuray of <class 'core.models.RandomForest.m_DecisionTreeClassifier'>: 0.9875\n",
      "Accuray of <class 'core.models.RandomForest.m_DecisionTreeClassifier'>: 0.9975\n",
      "Accuray of <class 'core.models.GAM.m_LogisticRegression'>: 0.975\n",
      "Accuray of <class 'core.models.SVM.SVMClassifier'>: 0.97\n"
     ]
    },
    {
     "name": "stderr",
     "output_type": "stream",
     "text": [
      "  1%|          | 3/500 [00:00<00:19, 25.49it/s]"
     ]
    },
    {
     "name": "stdout",
     "output_type": "stream",
     "text": [
      "Accuray of <class 'core.models.XGB.XGBOOSTClassifier'>: 0.9875\n",
      "Processing binary join # 41\n",
      "set features: 12\n"
     ]
    },
    {
     "name": "stderr",
     "output_type": "stream",
     "text": [
      "100%|██████████| 500/500 [00:21<00:00, 22.84it/s]\n"
     ]
    },
    {
     "name": "stdout",
     "output_type": "stream",
     "text": [
      "Accuray of <class 'core.models.MLP.MLPClassifier'>: 0.975\n",
      "Accuray of <class 'core.models.RandomForest.m_RandomForestClassifier'>: 0.9575\n",
      "Accuray of <class 'core.models.RandomForest.m_RandomForestClassifier'>: 0.9825\n",
      "Accuray of <class 'core.models.RandomForest.m_DecisionTreeClassifier'>: 0.955\n",
      "Accuray of <class 'core.models.RandomForest.m_DecisionTreeClassifier'>: 0.99\n",
      "Accuray of <class 'core.models.GAM.m_LogisticRegression'>: 0.9375\n",
      "Accuray of <class 'core.models.SVM.SVMClassifier'>: 0.915\n"
     ]
    },
    {
     "name": "stderr",
     "output_type": "stream",
     "text": [
      "  1%|          | 3/500 [00:00<00:21, 22.84it/s]"
     ]
    },
    {
     "name": "stdout",
     "output_type": "stream",
     "text": [
      "Accuray of <class 'core.models.XGB.XGBOOSTClassifier'>: 0.96\n",
      "Processing binary join # 42\n",
      "set features: 12\n"
     ]
    },
    {
     "name": "stderr",
     "output_type": "stream",
     "text": [
      "100%|██████████| 500/500 [00:22<00:00, 22.08it/s]\n"
     ]
    },
    {
     "name": "stdout",
     "output_type": "stream",
     "text": [
      "Accuray of <class 'core.models.MLP.MLPClassifier'>: 0.9725\n",
      "Accuray of <class 'core.models.RandomForest.m_RandomForestClassifier'>: 0.9475\n",
      "Accuray of <class 'core.models.RandomForest.m_RandomForestClassifier'>: 0.98\n",
      "Accuray of <class 'core.models.RandomForest.m_DecisionTreeClassifier'>: 0.9725\n",
      "Accuray of <class 'core.models.RandomForest.m_DecisionTreeClassifier'>: 0.9925\n",
      "Accuray of <class 'core.models.GAM.m_LogisticRegression'>: 0.935\n",
      "Accuray of <class 'core.models.SVM.SVMClassifier'>: 0.9225\n"
     ]
    },
    {
     "name": "stderr",
     "output_type": "stream",
     "text": [
      "  1%|          | 3/500 [00:00<00:17, 29.11it/s]"
     ]
    },
    {
     "name": "stdout",
     "output_type": "stream",
     "text": [
      "Accuray of <class 'core.models.XGB.XGBOOSTClassifier'>: 0.955\n",
      "Processing binary join # 43\n",
      "set features: 12\n"
     ]
    },
    {
     "name": "stderr",
     "output_type": "stream",
     "text": [
      "100%|██████████| 500/500 [00:21<00:00, 23.48it/s]\n",
      "  0%|          | 0/500 [00:00<?, ?it/s]"
     ]
    },
    {
     "name": "stdout",
     "output_type": "stream",
     "text": [
      "Accuray of <class 'core.models.MLP.MLPClassifier'>: 0.9975\n",
      "Accuray of <class 'core.models.RandomForest.m_RandomForestClassifier'>: 1.0\n",
      "Accuray of <class 'core.models.RandomForest.m_RandomForestClassifier'>: 0.9975\n",
      "Accuray of <class 'core.models.RandomForest.m_DecisionTreeClassifier'>: 1.0\n",
      "Accuray of <class 'core.models.RandomForest.m_DecisionTreeClassifier'>: 1.0\n",
      "Accuray of <class 'core.models.GAM.m_LogisticRegression'>: 0.9425\n",
      "Accuray of <class 'core.models.SVM.SVMClassifier'>: 0.9425\n",
      "Accuray of <class 'core.models.XGB.XGBOOSTClassifier'>: 0.9425\n",
      "Processing binary join # 44\n",
      "set features: 12\n"
     ]
    },
    {
     "name": "stderr",
     "output_type": "stream",
     "text": [
      "100%|██████████| 500/500 [00:20<00:00, 23.87it/s]\n"
     ]
    },
    {
     "name": "stdout",
     "output_type": "stream",
     "text": [
      "Accuray of <class 'core.models.MLP.MLPClassifier'>: 0.9975\n",
      "Accuray of <class 'core.models.RandomForest.m_RandomForestClassifier'>: 0.9925\n",
      "Accuray of <class 'core.models.RandomForest.m_RandomForestClassifier'>: 0.9975\n",
      "Accuray of <class 'core.models.RandomForest.m_DecisionTreeClassifier'>: 0.9975\n",
      "Accuray of <class 'core.models.RandomForest.m_DecisionTreeClassifier'>: 1.0\n",
      "Accuray of <class 'core.models.GAM.m_LogisticRegression'>: 0.98\n",
      "Accuray of <class 'core.models.SVM.SVMClassifier'>: 0.975\n"
     ]
    },
    {
     "name": "stderr",
     "output_type": "stream",
     "text": [
      "  1%|          | 4/500 [00:00<00:16, 29.25it/s]"
     ]
    },
    {
     "name": "stdout",
     "output_type": "stream",
     "text": [
      "Accuray of <class 'core.models.XGB.XGBOOSTClassifier'>: 0.975\n",
      "Processing binary join # 45\n",
      "set features: 12\n"
     ]
    },
    {
     "name": "stderr",
     "output_type": "stream",
     "text": [
      "100%|██████████| 500/500 [00:21<00:00, 23.50it/s]\n"
     ]
    },
    {
     "name": "stdout",
     "output_type": "stream",
     "text": [
      "Accuray of <class 'core.models.MLP.MLPClassifier'>: 1.0\n",
      "Accuray of <class 'core.models.RandomForest.m_RandomForestClassifier'>: 0.9825\n",
      "Accuray of <class 'core.models.RandomForest.m_RandomForestClassifier'>: 0.9875\n",
      "Accuray of <class 'core.models.RandomForest.m_DecisionTreeClassifier'>: 0.9875\n",
      "Accuray of <class 'core.models.RandomForest.m_DecisionTreeClassifier'>: 0.995\n",
      "Accuray of <class 'core.models.GAM.m_LogisticRegression'>: 0.99\n",
      "Accuray of <class 'core.models.SVM.SVMClassifier'>: 0.9575\n"
     ]
    },
    {
     "name": "stderr",
     "output_type": "stream",
     "text": [
      "  1%|          | 4/500 [00:00<00:15, 31.72it/s]"
     ]
    },
    {
     "name": "stdout",
     "output_type": "stream",
     "text": [
      "Accuray of <class 'core.models.XGB.XGBOOSTClassifier'>: 0.9725\n",
      "Processing binary join # 46\n",
      "set features: 12\n"
     ]
    },
    {
     "name": "stderr",
     "output_type": "stream",
     "text": [
      "100%|██████████| 500/500 [00:21<00:00, 23.46it/s]\n"
     ]
    },
    {
     "name": "stdout",
     "output_type": "stream",
     "text": [
      "Accuray of <class 'core.models.MLP.MLPClassifier'>: 0.9775\n",
      "Accuray of <class 'core.models.RandomForest.m_RandomForestClassifier'>: 0.9125\n",
      "Accuray of <class 'core.models.RandomForest.m_RandomForestClassifier'>: 0.98\n",
      "Accuray of <class 'core.models.RandomForest.m_DecisionTreeClassifier'>: 0.97\n",
      "Accuray of <class 'core.models.RandomForest.m_DecisionTreeClassifier'>: 0.995\n",
      "Accuray of <class 'core.models.GAM.m_LogisticRegression'>: 0.905\n",
      "Accuray of <class 'core.models.SVM.SVMClassifier'>: 0.8525\n"
     ]
    },
    {
     "name": "stderr",
     "output_type": "stream",
     "text": [
      "  1%|          | 3/500 [00:00<00:21, 22.83it/s]"
     ]
    },
    {
     "name": "stdout",
     "output_type": "stream",
     "text": [
      "Accuray of <class 'core.models.XGB.XGBOOSTClassifier'>: 0.9525\n",
      "Processing binary join # 47\n",
      "set features: 12\n"
     ]
    },
    {
     "name": "stderr",
     "output_type": "stream",
     "text": [
      "100%|██████████| 500/500 [00:21<00:00, 23.64it/s]\n"
     ]
    },
    {
     "name": "stdout",
     "output_type": "stream",
     "text": [
      "Accuray of <class 'core.models.MLP.MLPClassifier'>: 0.98\n",
      "Accuray of <class 'core.models.RandomForest.m_RandomForestClassifier'>: 0.925\n",
      "Accuray of <class 'core.models.RandomForest.m_RandomForestClassifier'>: 0.9875\n",
      "Accuray of <class 'core.models.RandomForest.m_DecisionTreeClassifier'>: 0.955\n",
      "Accuray of <class 'core.models.RandomForest.m_DecisionTreeClassifier'>: 0.99\n",
      "Accuray of <class 'core.models.GAM.m_LogisticRegression'>: 0.9175\n",
      "Accuray of <class 'core.models.SVM.SVMClassifier'>: 0.8625\n"
     ]
    },
    {
     "name": "stderr",
     "output_type": "stream",
     "text": [
      "  1%|          | 3/500 [00:00<00:20, 24.32it/s]"
     ]
    },
    {
     "name": "stdout",
     "output_type": "stream",
     "text": [
      "Accuray of <class 'core.models.XGB.XGBOOSTClassifier'>: 0.9575\n",
      "Processing binary join # 48\n",
      "set features: 12\n"
     ]
    },
    {
     "name": "stderr",
     "output_type": "stream",
     "text": [
      "100%|██████████| 500/500 [00:26<00:00, 19.08it/s]\n",
      "  0%|          | 0/500 [00:00<?, ?it/s]"
     ]
    },
    {
     "name": "stdout",
     "output_type": "stream",
     "text": [
      "Accuray of <class 'core.models.MLP.MLPClassifier'>: 1.0\n",
      "Accuray of <class 'core.models.RandomForest.m_RandomForestClassifier'>: 1.0\n",
      "Accuray of <class 'core.models.RandomForest.m_RandomForestClassifier'>: 1.0\n",
      "Accuray of <class 'core.models.RandomForest.m_DecisionTreeClassifier'>: 1.0\n",
      "Accuray of <class 'core.models.RandomForest.m_DecisionTreeClassifier'>: 1.0\n",
      "Accuray of <class 'core.models.GAM.m_LogisticRegression'>: 1.0\n",
      "Accuray of <class 'core.models.SVM.SVMClassifier'>: 1.0\n",
      "Accuray of <class 'core.models.XGB.XGBOOSTClassifier'>: 1.0\n",
      "Processing binary join # 49\n",
      "set features: 12\n"
     ]
    },
    {
     "name": "stderr",
     "output_type": "stream",
     "text": [
      "100%|██████████| 500/500 [00:23<00:00, 21.16it/s]\n"
     ]
    },
    {
     "name": "stdout",
     "output_type": "stream",
     "text": [
      "Accuray of <class 'core.models.MLP.MLPClassifier'>: 0.99\n",
      "Accuray of <class 'core.models.RandomForest.m_RandomForestClassifier'>: 1.0\n",
      "Accuray of <class 'core.models.RandomForest.m_RandomForestClassifier'>: 0.9975\n",
      "Accuray of <class 'core.models.RandomForest.m_DecisionTreeClassifier'>: 1.0\n",
      "Accuray of <class 'core.models.RandomForest.m_DecisionTreeClassifier'>: 1.0\n",
      "Accuray of <class 'core.models.GAM.m_LogisticRegression'>: 0.9825\n",
      "Accuray of <class 'core.models.SVM.SVMClassifier'>: 0.9825\n",
      "Accuray of <class 'core.models.XGB.XGBOOSTClassifier'>: 0.9825\n",
      "Processing binary join # 50\n"
     ]
    },
    {
     "name": "stderr",
     "output_type": "stream",
     "text": [
      "  1%|          | 4/500 [00:00<00:15, 31.34it/s]"
     ]
    },
    {
     "name": "stdout",
     "output_type": "stream",
     "text": [
      "set features: 12\n"
     ]
    },
    {
     "name": "stderr",
     "output_type": "stream",
     "text": [
      "100%|██████████| 500/500 [00:21<00:00, 22.95it/s]\n"
     ]
    },
    {
     "name": "stdout",
     "output_type": "stream",
     "text": [
      "Accuray of <class 'core.models.MLP.MLPClassifier'>: 0.9975\n",
      "Accuray of <class 'core.models.RandomForest.m_RandomForestClassifier'>: 0.9875\n",
      "Accuray of <class 'core.models.RandomForest.m_RandomForestClassifier'>: 0.9925\n",
      "Accuray of <class 'core.models.RandomForest.m_DecisionTreeClassifier'>: 0.99\n",
      "Accuray of <class 'core.models.RandomForest.m_DecisionTreeClassifier'>: 0.995\n",
      "Accuray of <class 'core.models.GAM.m_LogisticRegression'>: 0.95\n",
      "Accuray of <class 'core.models.SVM.SVMClassifier'>: 0.925\n"
     ]
    },
    {
     "name": "stderr",
     "output_type": "stream",
     "text": [
      "  1%|          | 3/500 [00:00<00:19, 25.73it/s]"
     ]
    },
    {
     "name": "stdout",
     "output_type": "stream",
     "text": [
      "Accuray of <class 'core.models.XGB.XGBOOSTClassifier'>: 0.9225\n",
      "Processing binary join # 51\n",
      "set features: 12\n"
     ]
    },
    {
     "name": "stderr",
     "output_type": "stream",
     "text": [
      "100%|██████████| 500/500 [00:20<00:00, 24.20it/s]\n"
     ]
    },
    {
     "name": "stdout",
     "output_type": "stream",
     "text": [
      "Accuray of <class 'core.models.MLP.MLPClassifier'>: 0.9975\n",
      "Accuray of <class 'core.models.RandomForest.m_RandomForestClassifier'>: 0.9975\n",
      "Accuray of <class 'core.models.RandomForest.m_RandomForestClassifier'>: 0.9975\n",
      "Accuray of <class 'core.models.RandomForest.m_DecisionTreeClassifier'>: 1.0\n",
      "Accuray of <class 'core.models.RandomForest.m_DecisionTreeClassifier'>: 0.995\n",
      "Accuray of <class 'core.models.GAM.m_LogisticRegression'>: 0.99\n",
      "Accuray of <class 'core.models.SVM.SVMClassifier'>: 0.99\n",
      "Accuray of <class 'core.models.XGB.XGBOOSTClassifier'>: 0.99\n",
      "Processing binary join # 52\n"
     ]
    },
    {
     "name": "stderr",
     "output_type": "stream",
     "text": [
      "  1%|          | 3/500 [00:00<00:19, 25.60it/s]"
     ]
    },
    {
     "name": "stdout",
     "output_type": "stream",
     "text": [
      "set features: 12\n"
     ]
    },
    {
     "name": "stderr",
     "output_type": "stream",
     "text": [
      "100%|██████████| 500/500 [00:32<00:00, 15.20it/s]\n",
      "  0%|          | 0/500 [00:00<?, ?it/s]"
     ]
    },
    {
     "name": "stdout",
     "output_type": "stream",
     "text": [
      "Accuray of <class 'core.models.MLP.MLPClassifier'>: 1.0\n",
      "Accuray of <class 'core.models.RandomForest.m_RandomForestClassifier'>: 1.0\n",
      "Accuray of <class 'core.models.RandomForest.m_RandomForestClassifier'>: 1.0\n",
      "Accuray of <class 'core.models.RandomForest.m_DecisionTreeClassifier'>: 1.0\n",
      "Accuray of <class 'core.models.RandomForest.m_DecisionTreeClassifier'>: 1.0\n",
      "Accuray of <class 'core.models.GAM.m_LogisticRegression'>: 1.0\n",
      "Accuray of <class 'core.models.SVM.SVMClassifier'>: 1.0\n",
      "Accuray of <class 'core.models.XGB.XGBOOSTClassifier'>: 1.0\n",
      "Processing binary join # 53\n",
      "set features: 12\n"
     ]
    },
    {
     "name": "stderr",
     "output_type": "stream",
     "text": [
      "100%|██████████| 500/500 [00:21<00:00, 23.38it/s]\n"
     ]
    },
    {
     "name": "stdout",
     "output_type": "stream",
     "text": [
      "Accuray of <class 'core.models.MLP.MLPClassifier'>: 0.995\n",
      "Accuray of <class 'core.models.RandomForest.m_RandomForestClassifier'>: 0.8725\n",
      "Accuray of <class 'core.models.RandomForest.m_RandomForestClassifier'>: 0.9775\n",
      "Accuray of <class 'core.models.RandomForest.m_DecisionTreeClassifier'>: 0.96\n",
      "Accuray of <class 'core.models.RandomForest.m_DecisionTreeClassifier'>: 0.99\n",
      "Accuray of <class 'core.models.GAM.m_LogisticRegression'>: 0.9125\n",
      "Accuray of <class 'core.models.SVM.SVMClassifier'>: 0.84\n"
     ]
    },
    {
     "name": "stderr",
     "output_type": "stream",
     "text": [
      "  0%|          | 1/500 [00:00<01:08,  7.33it/s]"
     ]
    },
    {
     "name": "stdout",
     "output_type": "stream",
     "text": [
      "Accuray of <class 'core.models.XGB.XGBOOSTClassifier'>: 0.9425\n",
      "Processing binary join # 54\n",
      "set features: 12\n"
     ]
    },
    {
     "name": "stderr",
     "output_type": "stream",
     "text": [
      "100%|██████████| 500/500 [00:21<00:00, 23.59it/s]\n"
     ]
    },
    {
     "name": "stdout",
     "output_type": "stream",
     "text": [
      "Accuray of <class 'core.models.MLP.MLPClassifier'>: 0.9775\n",
      "Accuray of <class 'core.models.RandomForest.m_RandomForestClassifier'>: 0.8725\n",
      "Accuray of <class 'core.models.RandomForest.m_RandomForestClassifier'>: 0.965\n",
      "Accuray of <class 'core.models.RandomForest.m_DecisionTreeClassifier'>: 0.9175\n",
      "Accuray of <class 'core.models.RandomForest.m_DecisionTreeClassifier'>: 0.985\n",
      "Accuray of <class 'core.models.GAM.m_LogisticRegression'>: 0.915\n",
      "Accuray of <class 'core.models.SVM.SVMClassifier'>: 0.7825\n"
     ]
    },
    {
     "name": "stderr",
     "output_type": "stream",
     "text": [
      "  1%|          | 3/500 [00:00<00:18, 26.48it/s]"
     ]
    },
    {
     "name": "stdout",
     "output_type": "stream",
     "text": [
      "Accuray of <class 'core.models.XGB.XGBOOSTClassifier'>: 0.9425\n",
      "Processing binary join # 55\n",
      "set features: 12\n"
     ]
    },
    {
     "name": "stderr",
     "output_type": "stream",
     "text": [
      "100%|██████████| 500/500 [00:20<00:00, 24.79it/s]\n"
     ]
    },
    {
     "name": "stdout",
     "output_type": "stream",
     "text": [
      "Accuray of <class 'core.models.MLP.MLPClassifier'>: 0.9775\n",
      "Accuray of <class 'core.models.RandomForest.m_RandomForestClassifier'>: 0.97\n",
      "Accuray of <class 'core.models.RandomForest.m_RandomForestClassifier'>: 0.985\n",
      "Accuray of <class 'core.models.RandomForest.m_DecisionTreeClassifier'>: 0.99\n",
      "Accuray of <class 'core.models.RandomForest.m_DecisionTreeClassifier'>: 0.9975\n",
      "Accuray of <class 'core.models.GAM.m_LogisticRegression'>: 0.9725\n",
      "Accuray of <class 'core.models.SVM.SVMClassifier'>: 0.96\n"
     ]
    },
    {
     "name": "stderr",
     "output_type": "stream",
     "text": [
      "  1%|          | 3/500 [00:00<00:19, 25.24it/s]"
     ]
    },
    {
     "name": "stdout",
     "output_type": "stream",
     "text": [
      "Accuray of <class 'core.models.XGB.XGBOOSTClassifier'>: 0.985\n",
      "Processing binary join # 56\n",
      "set features: 12\n"
     ]
    },
    {
     "name": "stderr",
     "output_type": "stream",
     "text": [
      "100%|██████████| 500/500 [00:21<00:00, 23.38it/s]\n"
     ]
    },
    {
     "name": "stdout",
     "output_type": "stream",
     "text": [
      "Accuray of <class 'core.models.MLP.MLPClassifier'>: 0.985\n",
      "Accuray of <class 'core.models.RandomForest.m_RandomForestClassifier'>: 0.98\n",
      "Accuray of <class 'core.models.RandomForest.m_RandomForestClassifier'>: 0.9875\n",
      "Accuray of <class 'core.models.RandomForest.m_DecisionTreeClassifier'>: 0.98\n",
      "Accuray of <class 'core.models.RandomForest.m_DecisionTreeClassifier'>: 0.9825\n",
      "Accuray of <class 'core.models.GAM.m_LogisticRegression'>: 0.9725\n",
      "Accuray of <class 'core.models.SVM.SVMClassifier'>: 0.945\n",
      "Accuray of <class 'core.models.XGB.XGBOOSTClassifier'>: 0.975\n"
     ]
    },
    {
     "name": "stderr",
     "output_type": "stream",
     "text": [
      "  1%|          | 3/500 [00:00<00:19, 25.79it/s]"
     ]
    },
    {
     "name": "stdout",
     "output_type": "stream",
     "text": [
      "Processing binary join # 57\n",
      "set features: 12\n"
     ]
    },
    {
     "name": "stderr",
     "output_type": "stream",
     "text": [
      "100%|██████████| 500/500 [00:21<00:00, 23.23it/s]\n"
     ]
    },
    {
     "name": "stdout",
     "output_type": "stream",
     "text": [
      "Accuray of <class 'core.models.MLP.MLPClassifier'>: 0.985\n",
      "Accuray of <class 'core.models.RandomForest.m_RandomForestClassifier'>: 0.955\n",
      "Accuray of <class 'core.models.RandomForest.m_RandomForestClassifier'>: 0.9825\n",
      "Accuray of <class 'core.models.RandomForest.m_DecisionTreeClassifier'>: 0.9675\n",
      "Accuray of <class 'core.models.RandomForest.m_DecisionTreeClassifier'>: 0.985\n",
      "Accuray of <class 'core.models.GAM.m_LogisticRegression'>: 0.925\n",
      "Accuray of <class 'core.models.SVM.SVMClassifier'>: 0.8875\n"
     ]
    },
    {
     "name": "stderr",
     "output_type": "stream",
     "text": [
      "  1%|          | 3/500 [00:00<00:20, 24.39it/s]"
     ]
    },
    {
     "name": "stdout",
     "output_type": "stream",
     "text": [
      "Accuray of <class 'core.models.XGB.XGBOOSTClassifier'>: 0.96\n",
      "Processing binary join # 58\n",
      "set features: 12\n"
     ]
    },
    {
     "name": "stderr",
     "output_type": "stream",
     "text": [
      "100%|██████████| 500/500 [00:22<00:00, 22.18it/s]\n"
     ]
    },
    {
     "name": "stdout",
     "output_type": "stream",
     "text": [
      "Accuray of <class 'core.models.MLP.MLPClassifier'>: 0.9825\n",
      "Accuray of <class 'core.models.RandomForest.m_RandomForestClassifier'>: 0.9425\n",
      "Accuray of <class 'core.models.RandomForest.m_RandomForestClassifier'>: 0.9775\n",
      "Accuray of <class 'core.models.RandomForest.m_DecisionTreeClassifier'>: 0.9575\n",
      "Accuray of <class 'core.models.RandomForest.m_DecisionTreeClassifier'>: 0.995\n",
      "Accuray of <class 'core.models.GAM.m_LogisticRegression'>: 0.96\n",
      "Accuray of <class 'core.models.SVM.SVMClassifier'>: 0.9375\n"
     ]
    },
    {
     "name": "stderr",
     "output_type": "stream",
     "text": [
      "  0%|          | 1/500 [00:00<01:05,  7.62it/s]"
     ]
    },
    {
     "name": "stdout",
     "output_type": "stream",
     "text": [
      "Accuray of <class 'core.models.XGB.XGBOOSTClassifier'>: 0.965\n",
      "Processing binary join # 59\n",
      "set features: 12\n"
     ]
    },
    {
     "name": "stderr",
     "output_type": "stream",
     "text": [
      "100%|██████████| 500/500 [00:21<00:00, 22.82it/s]\n"
     ]
    },
    {
     "name": "stdout",
     "output_type": "stream",
     "text": [
      "Accuray of <class 'core.models.MLP.MLPClassifier'>: 0.9825\n",
      "Accuray of <class 'core.models.RandomForest.m_RandomForestClassifier'>: 0.935\n",
      "Accuray of <class 'core.models.RandomForest.m_RandomForestClassifier'>: 0.9675\n",
      "Accuray of <class 'core.models.RandomForest.m_DecisionTreeClassifier'>: 0.9675\n",
      "Accuray of <class 'core.models.RandomForest.m_DecisionTreeClassifier'>: 0.995\n",
      "Accuray of <class 'core.models.GAM.m_LogisticRegression'>: 0.9575\n",
      "Accuray of <class 'core.models.SVM.SVMClassifier'>: 0.9375\n"
     ]
    },
    {
     "name": "stderr",
     "output_type": "stream",
     "text": [
      "  0%|          | 2/500 [00:00<00:25, 19.40it/s]"
     ]
    },
    {
     "name": "stdout",
     "output_type": "stream",
     "text": [
      "Accuray of <class 'core.models.XGB.XGBOOSTClassifier'>: 0.97\n",
      "Processing binary join # 60\n",
      "set features: 12\n"
     ]
    },
    {
     "name": "stderr",
     "output_type": "stream",
     "text": [
      "100%|██████████| 500/500 [00:22<00:00, 22.70it/s]\n"
     ]
    },
    {
     "name": "stdout",
     "output_type": "stream",
     "text": [
      "Accuray of <class 'core.models.MLP.MLPClassifier'>: 0.9875\n",
      "Accuray of <class 'core.models.RandomForest.m_RandomForestClassifier'>: 0.955\n",
      "Accuray of <class 'core.models.RandomForest.m_RandomForestClassifier'>: 0.9675\n",
      "Accuray of <class 'core.models.RandomForest.m_DecisionTreeClassifier'>: 0.965\n",
      "Accuray of <class 'core.models.RandomForest.m_DecisionTreeClassifier'>: 0.995\n",
      "Accuray of <class 'core.models.GAM.m_LogisticRegression'>: 0.96\n",
      "Accuray of <class 'core.models.SVM.SVMClassifier'>: 0.94\n"
     ]
    },
    {
     "name": "stderr",
     "output_type": "stream",
     "text": [
      "  1%|          | 3/500 [00:00<00:20, 24.79it/s]"
     ]
    },
    {
     "name": "stdout",
     "output_type": "stream",
     "text": [
      "Accuray of <class 'core.models.XGB.XGBOOSTClassifier'>: 0.9725\n",
      "Processing binary join # 61\n",
      "set features: 12\n"
     ]
    },
    {
     "name": "stderr",
     "output_type": "stream",
     "text": [
      "100%|██████████| 500/500 [00:23<00:00, 21.43it/s]\n"
     ]
    },
    {
     "name": "stdout",
     "output_type": "stream",
     "text": [
      "Accuray of <class 'core.models.MLP.MLPClassifier'>: 0.98\n",
      "Accuray of <class 'core.models.RandomForest.m_RandomForestClassifier'>: 0.9625\n",
      "Accuray of <class 'core.models.RandomForest.m_RandomForestClassifier'>: 0.975\n",
      "Accuray of <class 'core.models.RandomForest.m_DecisionTreeClassifier'>: 0.9625\n",
      "Accuray of <class 'core.models.RandomForest.m_DecisionTreeClassifier'>: 0.995\n",
      "Accuray of <class 'core.models.GAM.m_LogisticRegression'>: 0.955\n",
      "Accuray of <class 'core.models.SVM.SVMClassifier'>: 0.945\n"
     ]
    },
    {
     "name": "stderr",
     "output_type": "stream",
     "text": [
      "  1%|          | 3/500 [00:00<00:18, 26.47it/s]"
     ]
    },
    {
     "name": "stdout",
     "output_type": "stream",
     "text": [
      "Accuray of <class 'core.models.XGB.XGBOOSTClassifier'>: 0.97\n",
      "Processing binary join # 62\n",
      "set features: 12\n"
     ]
    },
    {
     "name": "stderr",
     "output_type": "stream",
     "text": [
      "100%|██████████| 500/500 [00:21<00:00, 22.79it/s]\n"
     ]
    },
    {
     "name": "stdout",
     "output_type": "stream",
     "text": [
      "Accuray of <class 'core.models.MLP.MLPClassifier'>: 0.9775\n",
      "Accuray of <class 'core.models.RandomForest.m_RandomForestClassifier'>: 0.935\n",
      "Accuray of <class 'core.models.RandomForest.m_RandomForestClassifier'>: 0.97\n",
      "Accuray of <class 'core.models.RandomForest.m_DecisionTreeClassifier'>: 0.9625\n",
      "Accuray of <class 'core.models.RandomForest.m_DecisionTreeClassifier'>: 0.995\n",
      "Accuray of <class 'core.models.GAM.m_LogisticRegression'>: 0.9625\n",
      "Accuray of <class 'core.models.SVM.SVMClassifier'>: 0.9425\n",
      "Accuray of <class 'core.models.XGB.XGBOOSTClassifier'>: 0.9725\n"
     ]
    }
   ],
   "source": [
    "model_accs = {\n",
    "    'MLP': [],\n",
    "    'RF(5)': [],\n",
    "    'RF(U)': [],\n",
    "    'DT(5)': [],\n",
    "    'DT(U)': [],\n",
    "    'LR': [],\n",
    "    'SVM': [],\n",
    "    'XGB': []\n",
    "}\n",
    "\n",
    "present_idxs = range(len(one_file_dss))\n",
    "\n",
    "for i in present_idxs:  # range(len(one_file_dss)):\n",
    "\n",
    "    print(f\"Processing binary join # {i}\")\n",
    "    ds = one_file_dss[i]\n",
    "    ds_name = one_file_names[i]\n",
    "    \n",
    "    # ======================= Train test split =========================\n",
    "    X = ds[features]\n",
    "    y = ds['optimal_decision']\n",
    "    X_costs = ds[dl.regression_targets]\n",
    "\n",
    "    from sklearn.model_selection import train_test_split\n",
    "    from sklearn import preprocessing\n",
    "\n",
    "    X_train, X_test, y_train, y_test = train_test_split(X, y, train_size=0.8, random_state=1)\n",
    "    X_train_costs, _, _, _, = train_test_split(X_costs, y, train_size=0.8, random_state=1)\n",
    "    X_train, X_test, y_train, y_test = \\\n",
    "        X_train.to_numpy(),X_test.to_numpy(), y_train.to_numpy(), y_test.to_numpy()\n",
    "    \n",
    "    # Calculate sample weights\n",
    "    X_train_weights = calculate_importance_from_costs(X_train_costs.to_numpy())\n",
    "    scaler = preprocessing.StandardScaler().fit(X_train)\n",
    "    X_train = scaler.transform(X_train)\n",
    "    X_test = scaler.transform(X_test)\n",
    "    X_train_weights = preprocessing.MinMaxScaler().fit_transform(X_train_weights.reshape(-1,1)).flatten()\n",
    "    # ======================= End data splitting =========================\n",
    "    \n",
    "    for idx, model_name in enumerate(clf_model_name_list):\n",
    "        model = clf_model_list[model_name.split('(')[0]]        \n",
    "        if 'DT' in model_name or 'RF' in model_name:\n",
    "            max_depth = model_name.split('(')[-1].split(')')[0]\n",
    "            if max_depth.lower() == 'u':\n",
    "                max_depth = None\n",
    "            else:\n",
    "                max_depth = int(max_depth)\n",
    "            clf = model().fit(X_train, y_train, sample_weight=X_train_weights, max_depth=max_depth)\n",
    "        elif model_name == 'MLP':\n",
    "            clf = model().fit(X_train, y_train, sample_weight=X_train_weights, max_iter=500, weight_decay=0.000001)\n",
    "        else:\n",
    "            clf = model().fit(X_train, y_train, sample_weight=X_train_weights)\n",
    "            \n",
    "        print(f\"Accuray of {model}: {clf.score(X_test, y_test)}\")\n",
    "        \n",
    "        model_accs[model_name].append(clf.score(X_test, y_test))\n",
    "    "
   ]
  },
  {
   "cell_type": "markdown",
   "id": "faced-potential",
   "metadata": {},
   "source": [
    "# Model Accuracy"
   ]
  },
  {
   "cell_type": "code",
   "execution_count": 6,
   "id": "heavy-advantage",
   "metadata": {},
   "outputs": [
    {
     "name": "stdout",
     "output_type": "stream",
     "text": [
      "{'DT(5)': [0.9425,\n",
      "           1.0,\n",
      "           0.9725,\n",
      "           0.97,\n",
      "           0.9975,\n",
      "           1.0,\n",
      "           1.0,\n",
      "           1.0,\n",
      "           0.945,\n",
      "           0.925,\n",
      "           0.9475,\n",
      "           0.9575,\n",
      "           0.9425,\n",
      "           1.0,\n",
      "           1.0,\n",
      "           1.0,\n",
      "           0.995,\n",
      "           0.995,\n",
      "           1.0,\n",
      "           0.9925,\n",
      "           1.0,\n",
      "           0.995,\n",
      "           1.0,\n",
      "           0.965,\n",
      "           0.895,\n",
      "           0.975,\n",
      "           0.975,\n",
      "           0.985,\n",
      "           0.9725,\n",
      "           0.98,\n",
      "           1.0,\n",
      "           0.9725,\n",
      "           0.9675,\n",
      "           1.0,\n",
      "           0.9975,\n",
      "           0.9925,\n",
      "           0.99,\n",
      "           1.0,\n",
      "           0.94,\n",
      "           0.9725,\n",
      "           0.9875,\n",
      "           0.955,\n",
      "           0.9725,\n",
      "           1.0,\n",
      "           0.9975,\n",
      "           0.9875,\n",
      "           0.97,\n",
      "           0.955,\n",
      "           1.0,\n",
      "           1.0,\n",
      "           0.99,\n",
      "           1.0,\n",
      "           1.0,\n",
      "           0.96,\n",
      "           0.9175,\n",
      "           0.99,\n",
      "           0.98,\n",
      "           0.9675,\n",
      "           0.9575,\n",
      "           0.9675,\n",
      "           0.965,\n",
      "           0.9625,\n",
      "           0.9625],\n",
      " 'DT(U)': [0.995,\n",
      "           1.0,\n",
      "           0.9975,\n",
      "           1.0,\n",
      "           0.9925,\n",
      "           1.0,\n",
      "           1.0,\n",
      "           1.0,\n",
      "           0.985,\n",
      "           0.995,\n",
      "           0.98,\n",
      "           0.995,\n",
      "           0.995,\n",
      "           1.0,\n",
      "           1.0,\n",
      "           1.0,\n",
      "           1.0,\n",
      "           1.0,\n",
      "           1.0,\n",
      "           1.0,\n",
      "           1.0,\n",
      "           1.0,\n",
      "           1.0,\n",
      "           0.99,\n",
      "           0.975,\n",
      "           1.0,\n",
      "           1.0,\n",
      "           1.0,\n",
      "           1.0,\n",
      "           0.9875,\n",
      "           1.0,\n",
      "           0.99,\n",
      "           0.9825,\n",
      "           1.0,\n",
      "           1.0,\n",
      "           1.0,\n",
      "           1.0,\n",
      "           1.0,\n",
      "           0.9875,\n",
      "           0.995,\n",
      "           0.9975,\n",
      "           0.99,\n",
      "           0.9925,\n",
      "           1.0,\n",
      "           1.0,\n",
      "           0.995,\n",
      "           0.995,\n",
      "           0.99,\n",
      "           1.0,\n",
      "           1.0,\n",
      "           0.995,\n",
      "           0.995,\n",
      "           1.0,\n",
      "           0.99,\n",
      "           0.985,\n",
      "           0.9975,\n",
      "           0.9825,\n",
      "           0.985,\n",
      "           0.995,\n",
      "           0.995,\n",
      "           0.995,\n",
      "           0.995,\n",
      "           0.995],\n",
      " 'LR': [0.9475,\n",
      "        0.995,\n",
      "        0.9275,\n",
      "        0.7775,\n",
      "        0.92,\n",
      "        0.9575,\n",
      "        0.9925,\n",
      "        0.9925,\n",
      "        0.9425,\n",
      "        0.9075,\n",
      "        0.935,\n",
      "        0.955,\n",
      "        0.9575,\n",
      "        1.0,\n",
      "        1.0,\n",
      "        0.9575,\n",
      "        0.935,\n",
      "        0.935,\n",
      "        1.0,\n",
      "        0.97,\n",
      "        0.9425,\n",
      "        0.97,\n",
      "        1.0,\n",
      "        0.92,\n",
      "        0.9175,\n",
      "        0.9625,\n",
      "        0.95,\n",
      "        0.945,\n",
      "        0.9425,\n",
      "        0.99,\n",
      "        0.945,\n",
      "        0.9425,\n",
      "        0.9625,\n",
      "        1.0,\n",
      "        0.9575,\n",
      "        0.9925,\n",
      "        0.9775,\n",
      "        1.0,\n",
      "        0.935,\n",
      "        0.925,\n",
      "        0.975,\n",
      "        0.9375,\n",
      "        0.935,\n",
      "        0.9425,\n",
      "        0.98,\n",
      "        0.99,\n",
      "        0.905,\n",
      "        0.9175,\n",
      "        1.0,\n",
      "        0.9825,\n",
      "        0.95,\n",
      "        0.99,\n",
      "        1.0,\n",
      "        0.9125,\n",
      "        0.915,\n",
      "        0.9725,\n",
      "        0.9725,\n",
      "        0.925,\n",
      "        0.96,\n",
      "        0.9575,\n",
      "        0.96,\n",
      "        0.955,\n",
      "        0.9625],\n",
      " 'MLP': [0.975,\n",
      "         0.9925,\n",
      "         0.9675,\n",
      "         0.8025,\n",
      "         0.99,\n",
      "         0.995,\n",
      "         1.0,\n",
      "         0.9975,\n",
      "         0.97,\n",
      "         0.965,\n",
      "         0.9625,\n",
      "         0.9725,\n",
      "         0.975,\n",
      "         1.0,\n",
      "         1.0,\n",
      "         0.95,\n",
      "         0.985,\n",
      "         0.985,\n",
      "         1.0,\n",
      "         1.0,\n",
      "         0.98,\n",
      "         1.0,\n",
      "         1.0,\n",
      "         0.98,\n",
      "         0.985,\n",
      "         0.975,\n",
      "         0.975,\n",
      "         0.9825,\n",
      "         0.9825,\n",
      "         0.9975,\n",
      "         0.9975,\n",
      "         0.9775,\n",
      "         0.98,\n",
      "         1.0,\n",
      "         0.995,\n",
      "         1.0,\n",
      "         0.995,\n",
      "         1.0,\n",
      "         0.9675,\n",
      "         0.995,\n",
      "         0.9875,\n",
      "         0.975,\n",
      "         0.9725,\n",
      "         0.9975,\n",
      "         0.9975,\n",
      "         1.0,\n",
      "         0.9775,\n",
      "         0.98,\n",
      "         1.0,\n",
      "         0.99,\n",
      "         0.9975,\n",
      "         0.9975,\n",
      "         1.0,\n",
      "         0.995,\n",
      "         0.9775,\n",
      "         0.9775,\n",
      "         0.985,\n",
      "         0.985,\n",
      "         0.9825,\n",
      "         0.9825,\n",
      "         0.9875,\n",
      "         0.98,\n",
      "         0.9775],\n",
      " 'RF(5)': [0.9425,\n",
      "           0.995,\n",
      "           0.97,\n",
      "           0.8025,\n",
      "           0.9925,\n",
      "           0.99,\n",
      "           1.0,\n",
      "           0.9925,\n",
      "           0.94,\n",
      "           0.915,\n",
      "           0.94,\n",
      "           0.95,\n",
      "           0.9475,\n",
      "           1.0,\n",
      "           1.0,\n",
      "           0.9975,\n",
      "           0.965,\n",
      "           0.95,\n",
      "           1.0,\n",
      "           0.9725,\n",
      "           1.0,\n",
      "           0.97,\n",
      "           1.0,\n",
      "           0.9575,\n",
      "           0.8775,\n",
      "           0.98,\n",
      "           0.9725,\n",
      "           0.9775,\n",
      "           0.965,\n",
      "           0.985,\n",
      "           1.0,\n",
      "           0.96,\n",
      "           0.9125,\n",
      "           1.0,\n",
      "           0.995,\n",
      "           0.98,\n",
      "           0.9825,\n",
      "           1.0,\n",
      "           0.9325,\n",
      "           0.945,\n",
      "           0.9625,\n",
      "           0.9575,\n",
      "           0.9475,\n",
      "           1.0,\n",
      "           0.9925,\n",
      "           0.9825,\n",
      "           0.9125,\n",
      "           0.925,\n",
      "           1.0,\n",
      "           1.0,\n",
      "           0.9875,\n",
      "           0.9975,\n",
      "           1.0,\n",
      "           0.8725,\n",
      "           0.8725,\n",
      "           0.97,\n",
      "           0.98,\n",
      "           0.955,\n",
      "           0.9425,\n",
      "           0.935,\n",
      "           0.955,\n",
      "           0.9625,\n",
      "           0.935],\n",
      " 'RF(U)': [0.97,\n",
      "           0.9975,\n",
      "           0.9875,\n",
      "           0.9975,\n",
      "           0.9875,\n",
      "           1.0,\n",
      "           0.9975,\n",
      "           0.9975,\n",
      "           0.9825,\n",
      "           0.965,\n",
      "           0.9675,\n",
      "           0.9875,\n",
      "           0.9725,\n",
      "           1.0,\n",
      "           1.0,\n",
      "           0.99,\n",
      "           0.995,\n",
      "           0.9975,\n",
      "           1.0,\n",
      "           0.99,\n",
      "           1.0,\n",
      "           0.9825,\n",
      "           1.0,\n",
      "           0.9725,\n",
      "           0.935,\n",
      "           0.98,\n",
      "           0.9825,\n",
      "           0.99,\n",
      "           0.97,\n",
      "           0.9975,\n",
      "           1.0,\n",
      "           0.9875,\n",
      "           0.9825,\n",
      "           1.0,\n",
      "           0.9925,\n",
      "           0.99,\n",
      "           0.995,\n",
      "           1.0,\n",
      "           0.955,\n",
      "           0.995,\n",
      "           0.9925,\n",
      "           0.9825,\n",
      "           0.98,\n",
      "           0.9975,\n",
      "           0.9975,\n",
      "           0.9875,\n",
      "           0.98,\n",
      "           0.9875,\n",
      "           1.0,\n",
      "           0.9975,\n",
      "           0.9925,\n",
      "           0.9975,\n",
      "           1.0,\n",
      "           0.9775,\n",
      "           0.965,\n",
      "           0.985,\n",
      "           0.9875,\n",
      "           0.9825,\n",
      "           0.9775,\n",
      "           0.9675,\n",
      "           0.9675,\n",
      "           0.975,\n",
      "           0.97],\n",
      " 'SVM': [0.91,\n",
      "         0.99,\n",
      "         0.9225,\n",
      "         0.785,\n",
      "         0.9275,\n",
      "         0.9575,\n",
      "         0.9925,\n",
      "         0.9925,\n",
      "         0.875,\n",
      "         0.8825,\n",
      "         0.9,\n",
      "         0.9375,\n",
      "         0.935,\n",
      "         1.0,\n",
      "         1.0,\n",
      "         0.9575,\n",
      "         0.92,\n",
      "         0.9225,\n",
      "         1.0,\n",
      "         0.9375,\n",
      "         0.9425,\n",
      "         0.9425,\n",
      "         1.0,\n",
      "         0.8975,\n",
      "         0.82,\n",
      "         0.96,\n",
      "         0.91,\n",
      "         0.9225,\n",
      "         0.9625,\n",
      "         0.9475,\n",
      "         0.945,\n",
      "         0.925,\n",
      "         0.9225,\n",
      "         1.0,\n",
      "         0.965,\n",
      "         0.96,\n",
      "         0.9675,\n",
      "         1.0,\n",
      "         0.9125,\n",
      "         0.8975,\n",
      "         0.97,\n",
      "         0.915,\n",
      "         0.9225,\n",
      "         0.9425,\n",
      "         0.975,\n",
      "         0.9575,\n",
      "         0.8525,\n",
      "         0.8625,\n",
      "         1.0,\n",
      "         0.9825,\n",
      "         0.925,\n",
      "         0.99,\n",
      "         1.0,\n",
      "         0.84,\n",
      "         0.7825,\n",
      "         0.96,\n",
      "         0.945,\n",
      "         0.8875,\n",
      "         0.9375,\n",
      "         0.9375,\n",
      "         0.94,\n",
      "         0.945,\n",
      "         0.9425],\n",
      " 'XGB': [0.98,\n",
      "         0.9925,\n",
      "         0.965,\n",
      "         0.7875,\n",
      "         0.975,\n",
      "         0.9575,\n",
      "         0.9925,\n",
      "         0.9925,\n",
      "         0.97,\n",
      "         0.945,\n",
      "         0.96,\n",
      "         0.9775,\n",
      "         0.965,\n",
      "         1.0,\n",
      "         1.0,\n",
      "         0.9575,\n",
      "         0.9775,\n",
      "         0.9775,\n",
      "         1.0,\n",
      "         0.97,\n",
      "         0.9925,\n",
      "         0.9525,\n",
      "         1.0,\n",
      "         0.9625,\n",
      "         0.9375,\n",
      "         0.9775,\n",
      "         0.975,\n",
      "         0.9825,\n",
      "         0.95,\n",
      "         0.98,\n",
      "         0.945,\n",
      "         0.975,\n",
      "         0.9575,\n",
      "         1.0,\n",
      "         0.975,\n",
      "         0.98,\n",
      "         0.9675,\n",
      "         1.0,\n",
      "         0.945,\n",
      "         0.98,\n",
      "         0.9875,\n",
      "         0.96,\n",
      "         0.955,\n",
      "         0.9425,\n",
      "         0.975,\n",
      "         0.9725,\n",
      "         0.9525,\n",
      "         0.9575,\n",
      "         1.0,\n",
      "         0.9825,\n",
      "         0.9225,\n",
      "         0.99,\n",
      "         1.0,\n",
      "         0.9425,\n",
      "         0.9425,\n",
      "         0.985,\n",
      "         0.975,\n",
      "         0.96,\n",
      "         0.965,\n",
      "         0.97,\n",
      "         0.9725,\n",
      "         0.97,\n",
      "         0.9725]}\n"
     ]
    }
   ],
   "source": [
    "import pprint\n",
    "pprint.pprint(model_accs)"
   ]
  },
  {
   "cell_type": "code",
   "execution_count": null,
   "id": "effective-session",
   "metadata": {},
   "outputs": [],
   "source": []
  }
 ],
 "metadata": {
  "kernelspec": {
   "display_name": "Python 3",
   "language": "python",
   "name": "python3"
  },
  "language_info": {
   "codemirror_mode": {
    "name": "ipython",
    "version": 3
   },
   "file_extension": ".py",
   "mimetype": "text/x-python",
   "name": "python",
   "nbconvert_exporter": "python",
   "pygments_lexer": "ipython3",
   "version": "3.6.9"
  }
 },
 "nbformat": 4,
 "nbformat_minor": 5
}
